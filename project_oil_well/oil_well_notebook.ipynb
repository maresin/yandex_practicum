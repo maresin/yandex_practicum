{
 "cells": [
  {
   "cell_type": "markdown",
   "id": "23e6a031",
   "metadata": {
    "toc": true
   },
   "source": [
    "<h1>Содержание<span class=\"tocSkip\"></span></h1>\n",
    "<div class=\"toc\"><ul class=\"toc-item\"><li><span><a href=\"#Описание-проекта\" data-toc-modified-id=\"Описание-проекта-1\"><span class=\"toc-item-num\">1&nbsp;&nbsp;</span>Описание проекта</a></span></li><li><span><a href=\"#Загрузка-и-подготовка-данных\" data-toc-modified-id=\"Загрузка-и-подготовка-данных-2\"><span class=\"toc-item-num\">2&nbsp;&nbsp;</span>Загрузка и подготовка данных</a></span></li><li><span><a href=\"#Обучение-и-проверка-модели\" data-toc-modified-id=\"Обучение-и-проверка-модели-3\"><span class=\"toc-item-num\">3&nbsp;&nbsp;</span>Обучение и проверка модели</a></span></li><li><span><a href=\"#Подготовка-к-расчёту-прибыли\" data-toc-modified-id=\"Подготовка-к-расчёту-прибыли-4\"><span class=\"toc-item-num\">4&nbsp;&nbsp;</span>Подготовка к расчёту прибыли</a></span></li><li><span><a href=\"#Создание-функции-для-расчета-прибыли\" data-toc-modified-id=\"Создание-функции-для-расчета-прибыли-5\"><span class=\"toc-item-num\">5&nbsp;&nbsp;</span>Создание функции для расчета прибыли</a></span></li><li><span><a href=\"#Расчёт-прибыли-и-рисков\" data-toc-modified-id=\"Расчёт-прибыли-и-рисков-6\"><span class=\"toc-item-num\">6&nbsp;&nbsp;</span>Расчёт прибыли и рисков</a></span></li><li><span><a href=\"#Общие-выводы\" data-toc-modified-id=\"Общие-выводы-7\"><span class=\"toc-item-num\">7&nbsp;&nbsp;</span>Общие выводы</a></span></li></ul></div>"
   ]
  },
  {
   "cell_type": "markdown",
   "id": "b9d0f410",
   "metadata": {},
   "source": [
    "# Проект: \"Выбор локации для нефтедобычи\""
   ]
  },
  {
   "cell_type": "markdown",
   "id": "41d15bce",
   "metadata": {},
   "source": [
    "## Описание проекта"
   ]
  },
  {
   "cell_type": "markdown",
   "id": "e3425db7",
   "metadata": {},
   "source": [
    "__Задание:__  \n",
    "Допустим, вы работаете в добывающей компании «ГлавРосГосНефть». Нужно решить, где бурить новую скважину.  \n",
    "Вам предоставлены пробы нефти в трёх регионах: в каждом 10 000 месторождений, где измерили качество нефти и объём её запасов. Постройте модель машинного обучения, которая поможет определить регион, где добыча принесёт наибольшую прибыль. Проанализируйте возможную прибыль и риски техникой *Bootstrap.*  \n",
    "Шаги для выбора локации:  \n",
    "- В избранном регионе ищут месторождения, для каждого определяют значения признаков;\n",
    "- Строят модель и оценивают объём запасов;\n",
    "- Выбирают месторождения с самым высокими оценками значений. Количество месторождений зависит от бюджета компании и стоимости разработки одной скважины;\n",
    "- Прибыль равна суммарной прибыли отобранных месторождений."
   ]
  },
  {
   "cell_type": "markdown",
   "id": "58b6e8ac",
   "metadata": {},
   "source": [
    "__Условия задания:__  \n",
    "- Для обучения модели подходит только линейная регрессия (остальные — недостаточно предсказуемые).\n",
    "- При разведке региона исследуют 500 точек, из которых с помощью машинного обучения выбирают 200 лучших для разработки.\n",
    "- Бюджет на разработку скважин в регионе — 10 млрд рублей.\n",
    "- При нынешних ценах один баррель сырья приносит 450 рублей дохода. Доход с каждой единицы продукта составляет 450 тыс. рублей, поскольку объём указан в тысячах баррелей.\n",
    "- После оценки рисков нужно оставить лишь те регионы, в которых вероятность убытков меньше 2.5%. Среди них выбирают регион с наибольшей средней прибылью.\n",
    "\n",
    "Данные синтетические: детали контрактов и характеристики месторождений не разглашаются."
   ]
  },
  {
   "cell_type": "markdown",
   "id": "90ce41ab",
   "metadata": {},
   "source": [
    "__Ход исследования:__  \n",
    "- Загрузка и подготовка данных\n",
    "- Обучение и проверка модели\n",
    "- Подготовка к расчёту прибыли\n",
    "- Создание функции для расчета прибыли\n",
    "- Расчёт прибыли и рисков"
   ]
  },
  {
   "cell_type": "markdown",
   "id": "b9b06ecc",
   "metadata": {},
   "source": [
    "__Описание данных:__  \n",
    "Данные геологоразведки трёх регионов находятся в файлах:  *geo_data_0.csv*, *geo_data_1.csv*, *geo_data_2.csv*.  \n",
    "Признаки:\n",
    "- `id` — уникальный идентификатор скважины;\n",
    "- `f0`, `f1`, `f2` — три признака точек (неважно, что они означают, но сами признаки значимы).  \n",
    "\n",
    "Целевой признак:  \n",
    "- `product` — объём запасов в скважине (тыс. баррелей)."
   ]
  },
  {
   "cell_type": "markdown",
   "id": "65b7cf2b",
   "metadata": {},
   "source": [
    "## Загрузка и подготовка данных"
   ]
  },
  {
   "cell_type": "markdown",
   "id": "b08b098b",
   "metadata": {},
   "source": [
    "Загрузим и подготовим данные. Поясним порядок действий."
   ]
  },
  {
   "cell_type": "code",
   "execution_count": 5,
   "id": "b8c6c771",
   "metadata": {
    "ExecuteTime": {
     "end_time": "2023-06-16T00:35:54.218661Z",
     "start_time": "2023-06-16T00:35:54.190478Z"
    }
   },
   "outputs": [],
   "source": [
    "# импорт библиотек\n",
    "import pandas as pd\n",
    "import numpy as np\n",
    "\n",
    "from ydata_profiling import ProfileReport\n",
    "import plotly.express as px\n",
    "import plotly.graph_objects as go\n",
    "import plotly.io as pio\n",
    "\n",
    "from sklearn.linear_model import LinearRegression\n",
    "from sklearn.metrics import mean_squared_error\n",
    "\n",
    "from sklearn.model_selection import train_test_split\n",
    "from sklearn.preprocessing import StandardScaler\n",
    "from sklearn.pipeline import Pipeline\n",
    "\n",
    "# белая тема plotly\n",
    "pio.templates.default = 'plotly_white'\n",
    "# встраивание графиков\n",
    "%matplotlib inline"
   ]
  },
  {
   "cell_type": "code",
   "execution_count": 6,
   "id": "c6394072",
   "metadata": {
    "ExecuteTime": {
     "end_time": "2023-06-16T00:35:57.311930Z",
     "start_time": "2023-06-16T00:35:56.668327Z"
    }
   },
   "outputs": [],
   "source": [
    "# чтение файла данных в датафреймы из папки по умолчанию и из рабочей директории\n",
    "try:\n",
    "    df0 = pd.read_csv('/datasets/geo_data_0.csv', sep=',')\n",
    "    df1 = pd.read_csv('/datasets/geo_data_1.csv', sep=',')\n",
    "    df2 = pd.read_csv('/datasets/geo_data_2.csv', sep=',')\n",
    "except:\n",
    "    df0 = pd.read_csv('geo_data_0.csv', sep=',')\n",
    "    df1 = pd.read_csv('geo_data_1.csv', sep=',')\n",
    "    df2 = pd.read_csv('geo_data_2.csv', sep=',')"
   ]
  },
  {
   "cell_type": "markdown",
   "id": "76701021",
   "metadata": {},
   "source": [
    "Проведем разведывательный анализ _(EDA)_ с помощью профайлера `ydata_profiling`. Выведем сборные отчеты по каждому из трех датасетов и оценим распределения значений признаков, их статистики, особенности (пропуски, аномалии, уникальные значения), а также взаимною корреляцию признаков."
   ]
  },
  {
   "cell_type": "code",
   "execution_count": 7,
   "id": "ffccd0ef",
   "metadata": {
    "ExecuteTime": {
     "end_time": "2023-06-16T00:36:01.993027Z",
     "start_time": "2023-06-16T00:36:01.989161Z"
    }
   },
   "outputs": [],
   "source": [
    "# # сводка по исходным данным 0-го региона\n",
    "# ProfileReport(df0, title='Set0 Report')"
   ]
  },
  {
   "cell_type": "code",
   "execution_count": 8,
   "id": "aedfe97b",
   "metadata": {
    "ExecuteTime": {
     "end_time": "2023-06-16T00:36:02.486585Z",
     "start_time": "2023-06-16T00:36:02.482873Z"
    }
   },
   "outputs": [],
   "source": [
    "# # сводка по исходным данным 1-го региона\n",
    "# ProfileReport(df1, title='Set1 Report')"
   ]
  },
  {
   "cell_type": "code",
   "execution_count": 9,
   "id": "e497245c",
   "metadata": {
    "ExecuteTime": {
     "end_time": "2023-06-16T00:36:03.007933Z",
     "start_time": "2023-06-16T00:36:03.003936Z"
    }
   },
   "outputs": [],
   "source": [
    "# # сводка по исходным данным 2-го региона\n",
    "# ProfileReport(df2, title='Set2 Report')"
   ]
  },
  {
   "cell_type": "markdown",
   "id": "bddfe9f8",
   "metadata": {},
   "source": [
    "__Результаты первичного анализа данных:__  \n",
    "Данные содержатся в трех датасетах, для трех регионов. Обозначим их как *Регион0, Регион1, Регион2.* Каждый датасет включает по пять признаков и 100 тыс. объектов. Обзор данных показал отсутствие в них пропусков, аномалий и дубликатов. Данные содержат только один признак со строковыми значениями - это столбец `id` с идентификаторами скважин. Он не будет принимать участие в обучении. Остальные признаки: `f0`, `f1`, `f2` - числовые, действительного типа, включая `product` - целевой. В связи с этим в качестве алгоритма машинного обучения в проекте будет использоваться простейшая регрессионная модель, а именно - линейная регрессия. Для нее требуется предварительное масштабирование признаков перед обучением. Это будет сделано на следующем шаге после разделения данных на выборки.  \n",
    "Распределение значений признаков в большинстве носит либо нормальный характер, либо это многомодальное симметричное распределение с выраженным разделением на группы. В первую очередь это касается целевого признака. Объясняющие признаки имеют слабую линейную зависимость между собой, для последнего датасета она и вовсе отсутствует, но в каждом из них у отдельных признаков есть некоторая корреляция с целевым признаком. Для второго датасета признак `f2` имеет очень сильную корреляцию с целевым, близкую 1. К тому же оба признака в датасете имеют одинаково обособленные группы.  \n",
    "Подводя итог, можно сказать, что признаки в датасетах не нуждаются в предобработке (исключая масштабирование) и не требует принятия мер по устранению проблемы мультиколлинеарности."
   ]
  },
  {
   "cell_type": "markdown",
   "id": "40ae0f05",
   "metadata": {},
   "source": [
    "## Обучение и проверка модели"
   ]
  },
  {
   "cell_type": "markdown",
   "id": "20e056bc",
   "metadata": {},
   "source": [
    "Обучим и проверим модель для каждого региона:  \n",
    "- Разделим данные на обучающую и валидационную выборки в соотношении 75:25.\n",
    "- Обучим модель и сделаем предсказания на валидационной выборке.\n",
    "- Посчитаем средний запас предсказанного сырья и _RMSE_ модели.\n",
    "- Проанализировать результаты."
   ]
  },
  {
   "cell_type": "markdown",
   "id": "72df4ea3",
   "metadata": {},
   "source": [
    "Мы оперируем однотипными датасетами и чтобы не перезагружать проект излишними переменными будем сохранять данные в ячейках списков и выполнять большинство операций в циклах. Индекс ячейки будет соответствовать порядковому номеру датасета и, соответственно, региона - *0, 1, 2.*  \n",
    "Разделение на объясняющие и целевой признак, а также разделение на выборки будет реализовано единой функцией.  \n",
    "Для масштабирования и обучения будет использован *pipeline.*"
   ]
  },
  {
   "cell_type": "code",
   "execution_count": 10,
   "id": "13675cad",
   "metadata": {
    "ExecuteTime": {
     "end_time": "2023-06-16T00:36:10.019037Z",
     "start_time": "2023-06-16T00:36:10.013001Z"
    }
   },
   "outputs": [],
   "source": [
    "# функция выделения выборок\n",
    "def data_split(data, test_frac):\n",
    "    target = data['product']\n",
    "    features = data.drop(['id', 'product'], axis=1)\n",
    "    return train_test_split(features, target, test_size=test_frac, random_state=12345)"
   ]
  },
  {
   "cell_type": "code",
   "execution_count": 11,
   "id": "5693aa61",
   "metadata": {
    "ExecuteTime": {
     "end_time": "2023-06-16T00:36:12.259218Z",
     "start_time": "2023-06-16T00:36:12.198098Z"
    }
   },
   "outputs": [],
   "source": [
    "# списки под признаки для регионов\n",
    "features_train, features_valid, target_train, target_valid = [], [], [], []\n",
    "for df in [df0, df1, df2]:\n",
    "    split = data_split(df, .25)\n",
    "    # запись фичей\n",
    "    features_train.append(split[0]), features_valid.append(split[1])\n",
    "    # запись таргетов\n",
    "    target_train.append(split[2]), target_valid.append(split[3])"
   ]
  },
  {
   "cell_type": "code",
   "execution_count": 12,
   "id": "a5755fb8",
   "metadata": {
    "ExecuteTime": {
     "end_time": "2023-06-16T00:36:13.118497Z",
     "start_time": "2023-06-16T00:36:13.028979Z"
    }
   },
   "outputs": [],
   "source": [
    "# списки результатов обучения\n",
    "predictions, pred_means, real_means, rmse = [], [], [], []\n",
    "# проход по регионам\n",
    "for i in range(3):\n",
    "    # масштабирование и обучение\n",
    "    pipe = Pipeline([('scalar', StandardScaler()), ('linear_reg', LinearRegression())])\n",
    "    pipe.fit(features_train[i], target_train[i])\n",
    "    # расчет прогнозов\n",
    "    pred = pipe.predict(features_valid[i])\n",
    "    # индексация и запись прогнозов\n",
    "    predictions.append(\n",
    "        pd.Series(pred, index=features_valid[i].index)\n",
    "    )\n",
    "    # запись средних значений прогнозов\n",
    "    pred_means.append(\n",
    "        pred.mean()\n",
    "    )\n",
    "    # запись средних значений реальных запасов\n",
    "    real_means.append(\n",
    "        target_valid[i].mean()\n",
    "    )\n",
    "    # запись погрешностей прогнозов\n",
    "    rmse.append(\n",
    "        mean_squared_error(target_valid[i], pred, squared=False)\n",
    "    )"
   ]
  },
  {
   "cell_type": "code",
   "execution_count": 13,
   "id": "709b0b57",
   "metadata": {
    "ExecuteTime": {
     "end_time": "2023-06-16T00:36:13.849077Z",
     "start_time": "2023-06-16T00:36:13.829058Z"
    }
   },
   "outputs": [
    {
     "data": {
      "text/html": [
       "<div>\n",
       "<style scoped>\n",
       "    .dataframe tbody tr th:only-of-type {\n",
       "        vertical-align: middle;\n",
       "    }\n",
       "\n",
       "    .dataframe tbody tr th {\n",
       "        vertical-align: top;\n",
       "    }\n",
       "\n",
       "    .dataframe thead th {\n",
       "        text-align: right;\n",
       "    }\n",
       "</style>\n",
       "<table border=\"1\" class=\"dataframe\">\n",
       "  <thead>\n",
       "    <tr style=\"text-align: right;\">\n",
       "      <th></th>\n",
       "      <th>RMSE</th>\n",
       "      <th>Mean predicted</th>\n",
       "      <th>Mean real</th>\n",
       "      <th>Mean difference, %</th>\n",
       "    </tr>\n",
       "  </thead>\n",
       "  <tbody>\n",
       "    <tr>\n",
       "      <th>Region0</th>\n",
       "      <td>37.579422</td>\n",
       "      <td>92.592568</td>\n",
       "      <td>92.078597</td>\n",
       "      <td>0.558187</td>\n",
       "    </tr>\n",
       "    <tr>\n",
       "      <th>Region1</th>\n",
       "      <td>0.893099</td>\n",
       "      <td>68.728547</td>\n",
       "      <td>68.723136</td>\n",
       "      <td>0.007873</td>\n",
       "    </tr>\n",
       "    <tr>\n",
       "      <th>Region2</th>\n",
       "      <td>40.029709</td>\n",
       "      <td>94.965046</td>\n",
       "      <td>94.884233</td>\n",
       "      <td>0.085170</td>\n",
       "    </tr>\n",
       "  </tbody>\n",
       "</table>\n",
       "</div>"
      ],
      "text/plain": [
       "              RMSE  Mean predicted  Mean real  Mean difference, %\n",
       "Region0  37.579422       92.592568  92.078597            0.558187\n",
       "Region1   0.893099       68.728547  68.723136            0.007873\n",
       "Region2  40.029709       94.965046  94.884233            0.085170"
      ]
     },
     "execution_count": 13,
     "metadata": {},
     "output_type": "execute_result"
    }
   ],
   "source": [
    "# расчетные средние и погрешности по регионам\n",
    "means_err = pd.DataFrame(\n",
    "    {'RMSE': rmse, 'Mean predicted': pred_means, 'Mean real': real_means},\n",
    "    index = ['Region0', 'Region1', 'Region2'])\n",
    "# разница в расчетных и реальных запасах\n",
    "means_err['Mean difference, %'] = 100 * (means_err['Mean predicted'] - means_err['Mean real']) / means_err['Mean real']\n",
    "means_err"
   ]
  },
  {
   "cell_type": "code",
   "execution_count": 14,
   "id": "aa93a34f",
   "metadata": {
    "ExecuteTime": {
     "end_time": "2023-06-16T00:36:38.095453Z",
     "start_time": "2023-06-16T00:36:36.557750Z"
    }
   },
   "outputs": [
    {
     "data": {
      "image/png": "[encoded data removed]"
     },
     "metadata": {},
     "output_type": "display_data"
    }
   ],
   "source": [
    "# график предсказанных и реальных средних значений запасов в скважинах \n",
    "fig = px.bar(means_err.loc[:, ['Mean predicted', 'Mean real']],\n",
    "             text_auto=True,\n",
    "             title=u'Предсказанные и реальные средние объёмы запасов в скважинах по регионам')\n",
    "fig.update_xaxes(title_text=u'Регион')\n",
    "fig.update_yaxes(title_text=' ')\n",
    "fig.show(renderer='png')"
   ]
  },
  {
   "cell_type": "markdown",
   "id": "73d89620",
   "metadata": {},
   "source": [
    "Для визуальной оценки качества прогноза построим графики для каждого региона. Для этого случайно отберем некоторое количество образцов из прогнозов и соответствующие им реальные данные."
   ]
  },
  {
   "cell_type": "code",
   "execution_count": 15,
   "id": "3942d976",
   "metadata": {
    "ExecuteTime": {
     "end_time": "2023-06-16T00:36:46.600162Z",
     "start_time": "2023-06-16T00:36:46.573268Z"
    }
   },
   "outputs": [],
   "source": [
    "# списки для построения графиков по прогнозам\n",
    "pred_to_graf, target_to_graf = [], []\n",
    "for i in range(3):\n",
    "    pred_to_graf.append(\n",
    "        # случайные прогнозы\n",
    "        predictions[i].sample(500, random_state=12345).sort_values()\n",
    "    )\n",
    "    target_to_graf.append(\n",
    "        # реальные данные\n",
    "        target_valid[i].loc[pred_to_graf[i].index]\n",
    "    )"
   ]
  },
  {
   "cell_type": "code",
   "execution_count": 16,
   "id": "c91046dc",
   "metadata": {
    "ExecuteTime": {
     "end_time": "2023-06-16T00:37:01.562996Z",
     "start_time": "2023-06-16T00:37:01.391791Z"
    }
   },
   "outputs": [
    {
     "data": {
      "image/png": "[encoded data removed]"
     },
     "metadata": {},
     "output_type": "display_data"
    }
   ],
   "source": [
    "# график изменение значений метрик\n",
    "fig = go.Figure()\n",
    "# случайные прогнозы\n",
    "fig.add_trace(go.Scatter(x=np.linspace(1,500,500),\n",
    "                         y=pred_to_graf[0],\n",
    "                         name=u'Прогноз'\n",
    "                        )\n",
    "             )\n",
    "# реальные данные\n",
    "fig.add_trace(go.Scatter(x=np.linspace(1,500,500),\n",
    "                         y=target_to_graf[0],\n",
    "                         name=u'Реальные данные'\n",
    "                        )\n",
    "             )\n",
    "fig.update_layout(title_text=u'Предсказанные и реальные объёмы запасов<br>для отдельных скважин в Регионе0')\n",
    "fig.update_xaxes(title_text=u'Порядковый номер скважины в случайной выборке')\n",
    "fig.update_yaxes(title_text=u'Объём запасов в скважине, тыс. барр.')\n",
    "fig.show(renderer='png')"
   ]
  },
  {
   "cell_type": "code",
   "execution_count": 17,
   "id": "ee4955c2",
   "metadata": {
    "ExecuteTime": {
     "end_time": "2023-06-16T00:37:23.462835Z",
     "start_time": "2023-06-16T00:37:23.336227Z"
    }
   },
   "outputs": [
    {
     "data": {
      "image/png": "[encoded data removed]"
     },
     "metadata": {},
     "output_type": "display_data"
    }
   ],
   "source": [
    "# график изменение значений метрик\n",
    "fig = go.Figure()\n",
    "# случайные прогнозы\n",
    "fig.add_trace(go.Scatter(x=np.linspace(1,500,500),\n",
    "                         y=pred_to_graf[1],\n",
    "                         name=u'Прогноз'\n",
    "                        )\n",
    "             )\n",
    "# реальные данные\n",
    "fig.add_trace(go.Scatter(x=np.linspace(1,500,500),\n",
    "                         y=target_to_graf[1],\n",
    "                         name=u'Реальные данные'\n",
    "                        )\n",
    "             )\n",
    "fig.update_layout(title_text=u'Предсказанные и реальные объёмы запасов<br>для отдельных скважин в Регионе1')\n",
    "fig.update_xaxes(title_text=u'Порядковый номер скважины в случайной выборке')\n",
    "fig.update_yaxes(title_text=u'Объём запасов в скважине, тыс. барр.')\n",
    "fig.show(renderer='png')"
   ]
  },
  {
   "cell_type": "code",
   "execution_count": 18,
   "id": "deb953ad",
   "metadata": {
    "ExecuteTime": {
     "end_time": "2023-06-16T00:37:36.270529Z",
     "start_time": "2023-06-16T00:37:36.145623Z"
    }
   },
   "outputs": [
    {
     "data": {
      "image/png": "[encoded data removed]"
     },
     "metadata": {},
     "output_type": "display_data"
    }
   ],
   "source": [
    "# график изменение значений метрик\n",
    "fig = go.Figure()\n",
    "# случайные прогнозы\n",
    "fig.add_trace(go.Scatter(x=np.linspace(1,500,500),\n",
    "                         y=pred_to_graf[2],\n",
    "                         name=u'Прогноз'\n",
    "                        )\n",
    "             )\n",
    "# реальные данные\n",
    "fig.add_trace(go.Scatter(x=np.linspace(1,500,500),\n",
    "                         y=target_to_graf[2],\n",
    "                         name=u'Реальные данные'\n",
    "                        )\n",
    "             )\n",
    "fig.update_layout(title_text=u'Предсказанные и реальные объёмы запасов<br>для отдельных скважин в Регионе2')\n",
    "fig.update_xaxes(title_text=u'Порядковый номер скважины в случайной выборке')\n",
    "fig.update_yaxes(title_text=u'Объём запасов в скважине, тыс. барр.')\n",
    "fig.show(renderer='png')"
   ]
  },
  {
   "cell_type": "markdown",
   "id": "929833f1",
   "metadata": {},
   "source": [
    "__Результаты проверки модели:__  \n",
    "Перед началом обучением модели из данных был выделен целевой признак, а из объясняющих исключен признак с идентификаторами скважин. Впоследствии признак понадобится для создания списка скважин, отобранных для разработки месторождений. Затем было проведено разделение на обучающую и валидационную выборки в соотношение *3:1.* Масштабирование выполнено с помощью `StandardScaler` в конвейере вместе с обучением модели линейной регрессии `LinearRegression`. По результатам обучения сделаны прогнозы, посчитаны средние значения по запасам сырья в скважинах для регионов и погрешности в виде *RSME*. Мы наблюдаем в случаях с *Регионом0* и *Регионом2* мы наблюдаем схожую картину - среднее близко 100 тыс. барр., погрешность велика и составляет более *1/3* от среднего. Для *Региона1* картина разительно отличается - среднее существенно ниже, а погрешность близка к нулю и сильно выделяются отдельные кластеры. Это стало результатом очень сильной корреляции признака `f2` и целевого признака `product`.  \n",
    "Предсказанные средние объёмы запасов по скважинам практически не отличаются от реальных - разница составляет доли процента. Что говорит о том, что модель хорошо сглаживает реальные данные, не подстраивается под случайные скачки и в равной степени ошибается как в положительную, так и в отрицательную сторону."
   ]
  },
  {
   "cell_type": "markdown",
   "id": "9b202171",
   "metadata": {},
   "source": [
    "## Подготовка к расчёту прибыли"
   ]
  },
  {
   "cell_type": "markdown",
   "id": "d6901777",
   "metadata": {},
   "source": [
    "Подготовимся к расчёту прибыли:  \n",
    "- Все ключевые значения для расчётов сохраним в отдельных переменных.\n",
    "- Рассчитаем достаточный объём сырья для безубыточной разработки новой скважины. Сравним полученный объём сырья со средним запасом в каждом регионе. \n",
    "- Напишем выводы по этапу подготовки расчёта прибыли."
   ]
  },
  {
   "cell_type": "code",
   "execution_count": 19,
   "id": "29d271ee",
   "metadata": {
    "ExecuteTime": {
     "end_time": "2023-06-16T00:37:49.038254Z",
     "start_time": "2023-06-16T00:37:49.032249Z"
    }
   },
   "outputs": [],
   "source": [
    "# число точек для исследования\n",
    "places_to_explore = 500\n",
    "# число точек для разработки\n",
    "places_to_drill = 200\n",
    "# цена за баррель нефти\n",
    "barrel_price = 450\n",
    "# доход с каждой единицы продукта\n",
    "revenue_per_unit = barrel_price * 1000\n",
    "# бюджет на разработку скважин в регионе\n",
    "budget = 10e+9\n",
    "# критический уровень вероятности убытков\n",
    "losses_proba_limit = 2.5"
   ]
  },
  {
   "cell_type": "code",
   "execution_count": 20,
   "id": "e77a4dca",
   "metadata": {
    "ExecuteTime": {
     "end_time": "2023-06-16T00:37:49.923419Z",
     "start_time": "2023-06-16T00:37:49.919114Z"
    }
   },
   "outputs": [
    {
     "name": "stdout",
     "output_type": "stream",
     "text": [
      "Достаточный объём сырья для безубыточной разработки новой скважины 111.11 тыс.барр.\n"
     ]
    }
   ],
   "source": [
    "# объём сырья для безубыточной разработки скважины\n",
    "breakeven_volume = budget / places_to_drill / revenue_per_unit\n",
    "print(f'Достаточный объём сырья для безубыточной разработки новой скважины {breakeven_volume:.2f} тыс.барр.')"
   ]
  },
  {
   "cell_type": "code",
   "execution_count": 21,
   "id": "0a931dd8",
   "metadata": {
    "ExecuteTime": {
     "end_time": "2023-06-16T00:37:51.408088Z",
     "start_time": "2023-06-16T00:37:51.400538Z"
    }
   },
   "outputs": [
    {
     "name": "stdout",
     "output_type": "stream",
     "text": [
      "\n",
      "        Средний объем сырья 92.08 тыс.барр. в Регионе0\n",
      "        не обеспечивают безубыточную разработку скважины.\n",
      "        \n",
      "\n",
      "        Средний объем сырья 68.72 тыс.барр. в Регионе1\n",
      "        не обеспечивают безубыточную разработку скважины.\n",
      "        \n",
      "\n",
      "        Средний объем сырья 94.88 тыс.барр. в Регионе2\n",
      "        не обеспечивают безубыточную разработку скважины.\n",
      "        \n"
     ]
    }
   ],
   "source": [
    "# проверка уровня безубыточности\n",
    "for i in range(3):\n",
    "    if real_means[i] >= breakeven_volume:\n",
    "        print(f'''\n",
    "        Средний объем сырья {real_means[i]:.2f} тыс.барр. в Регионе{i} \n",
    "        обеспечивают безубыточную разработку скважины .\n",
    "        ''')\n",
    "    else:\n",
    "        print(f'''\n",
    "        Средний объем сырья {real_means[i]:.2f} тыс.барр. в Регионе{i}\n",
    "        не обеспечивают безубыточную разработку скважины.\n",
    "        ''')"
   ]
  },
  {
   "cell_type": "code",
   "execution_count": 23,
   "id": "a6434f09",
   "metadata": {
    "ExecuteTime": {
     "end_time": "2023-06-16T00:38:35.488747Z",
     "start_time": "2023-06-16T00:38:35.482296Z"
    }
   },
   "outputs": [],
   "source": [
    "# датафрейм для построения графиков оценки уровня запасов\n",
    "means_to_graf = pd.DataFrame({u'Объём сырья, тыс.барр.': [real_means[0], real_means[1], real_means[2], breakeven_volume],\n",
    "                              u'Тип': [u'Расчетный объём', u'Расчетный объём', u'Расчетный объём', u'Уровень безубытка']},\n",
    "                             index=['Region0', 'Region1', 'Region2', ''])"
   ]
  },
  {
   "cell_type": "code",
   "execution_count": 24,
   "id": "ab62ecf4",
   "metadata": {
    "ExecuteTime": {
     "end_time": "2023-06-16T00:38:41.976909Z",
     "start_time": "2023-06-16T00:38:41.786016Z"
    }
   },
   "outputs": [
    {
     "data": {
      "image/png": "[encoded data removed]"
     },
     "metadata": {},
     "output_type": "display_data"
    }
   ],
   "source": [
    "# график оценки уровня запасов\n",
    "fig = px.bar(means_to_graf,\n",
    "             x=u'Объём сырья, тыс.барр.',\n",
    "             color=u'Тип',\n",
    "             text_auto=True,\n",
    "             title=u'Средний предсказанный объём сырья в скважинах по регионам<br>в сравнении с уровнем безубыточности')\n",
    "fig.update_yaxes(title_text='')\n",
    "fig.show(renderer='png')"
   ]
  },
  {
   "cell_type": "markdown",
   "id": "db604cbf",
   "metadata": {},
   "source": [
    "__Выводы по этапу подготовки расчёта прибыли:__  \n",
    "Исходя из размера бюджета на разработку скважин в регионе — 10 млрд рублей, их предполагаемого количества - 200 и нынешних ценах на нефть - один баррель сырья приносит 450 рублей дохода, мы определили минимальный объём запасов сырья, который необходим для безубыточной разработки новой скважины - 111 тыс. баррелей. По прогнозу средние значения объёмов запасов скважин во всех трех регионах не покрывают затрат на их разработку. Особенно низкие значения оказались в *Регионе1.*"
   ]
  },
  {
   "cell_type": "markdown",
   "id": "25d99288",
   "metadata": {},
   "source": [
    "## Создание функции для расчета прибыли"
   ]
  },
  {
   "cell_type": "markdown",
   "id": "b9d95757",
   "metadata": {},
   "source": [
    "Напишем функцию для расчёта прибыли по выбранным скважинам и предсказаниям модели. Для этого необходимо:  \n",
    "- Выбрать скважины с максимальными значениями предсказаний. \n",
    "- Просуммировать целевое значение объёма сырья, соответствующее этим предсказаниям.\n",
    "- Рассчитать прибыль для полученного объёма сырья."
   ]
  },
  {
   "cell_type": "markdown",
   "id": "5f6b8179",
   "metadata": {},
   "source": [
    "Несмотря на обескураживающие первоначальные выводы об убыточности разработки следует проверить возможность получения прибыли на конкретных, наиболее перспективных скважинах. Для этого напишем функцию, предполагающую возможность этого выбора.\n",
    "\n",
    "Опишем действие функции подробно: \n",
    "1. В функцию в виде аргумента поступает список предсказанных объёмов запасов в скважинах.\n",
    "2. Функция должна выбрать несколько объектов с лучшим прогнозом.\n",
    "3. На основе данного выбора выделить объекты из списка реальных объёмов, также передаваемых в качестве аргумента.\n",
    "4. Посчитать суммарный реальные объём и определить его стоимость на основе удельной стоимости 1 барреля.\n",
    "5. Вычесть из полученной суммы затраты на разработку и вернуть результат."
   ]
  },
  {
   "cell_type": "code",
   "execution_count": 25,
   "id": "fc410554",
   "metadata": {
    "ExecuteTime": {
     "end_time": "2023-06-16T00:38:53.168761Z",
     "start_time": "2023-06-16T00:38:53.162371Z"
    }
   },
   "outputs": [],
   "source": [
    "# функция расчета суммарной прибыли по выбранным скважинам\n",
    "def revenue(real_volume, pedicted_volume, n_best):\n",
    "    pred_sorted = pedicted_volume.sort_values(ascending=False)\n",
    "    selected = real_volume[pred_sorted.index].iloc[:n_best]\n",
    "    if sorted(pred_sorted[:n_best].index) != sorted(selected.index):\n",
    "        print(\"INDEX ERROR\")\n",
    "    if real_volume[pred_sorted.index].shape[0] > 500:\n",
    "        print(\"SHAPE ERROR:\", real_volume[pred_sorted.index].shape[0])\n",
    "    return revenue_per_unit * selected.sum() - budget"
   ]
  },
  {
   "cell_type": "markdown",
   "id": "5010b78f",
   "metadata": {},
   "source": [
    "Проверим работу функции на случайной выборке. По условиям задачи мы исследуем только 500 точек в каждом регионе. В валидационных выборках у нас оказалось 25000 объектов и мы уже сделали по ним прогнозы. Случайным выбором выделим по 500 спрогнозированных значений для каждого региона, которые и будем используем в примере. Из них мы должны отобрать по 200 лучших."
   ]
  },
  {
   "cell_type": "code",
   "execution_count": 26,
   "id": "56d0232d",
   "metadata": {
    "ExecuteTime": {
     "end_time": "2023-06-16T00:38:54.345704Z",
     "start_time": "2023-06-16T00:38:54.329489Z"
    }
   },
   "outputs": [
    {
     "data": {
      "text/plain": [
       "[679068857.8924255, 779479884.1768169, 439990143.02218056]"
      ]
     },
     "execution_count": 26,
     "metadata": {},
     "output_type": "execute_result"
    }
   ],
   "source": [
    "# список результатов для примера\n",
    "example_revenue  = []\n",
    "for i in range(3):\n",
    "    # выделение 500 точек для исследования с индексами\n",
    "    example_places500 = predictions[i].sample(n=places_to_explore, random_state=12345)\n",
    "    # расчет суммарной прибыли для примера\n",
    "    example_revenue.append(\n",
    "        revenue(target_valid[i], example_places500, places_to_drill)\n",
    "    )\n",
    "example_revenue"
   ]
  },
  {
   "cell_type": "markdown",
   "id": "6c9f0eca",
   "metadata": {},
   "source": [
    "Теперь проверим лишь 200 лучших точек и посмотрим на возможный объем полученной прибыли."
   ]
  },
  {
   "cell_type": "code",
   "execution_count": 27,
   "id": "137e2d91",
   "metadata": {
    "ExecuteTime": {
     "end_time": "2023-06-16T00:38:56.398189Z",
     "start_time": "2023-06-16T00:38:56.377785Z"
    }
   },
   "outputs": [
    {
     "data": {
      "text/plain": [
       "[3320826043.1398506, 2415086696.681511, 2710349963.5998325]"
      ]
     },
     "execution_count": 27,
     "metadata": {},
     "output_type": "execute_result"
    }
   ],
   "source": [
    "# список результатов для примера\n",
    "example_revenue  = []\n",
    "for i in range(3):\n",
    "    # выделение 200 лучших точек для исследования с индексами\n",
    "    best_places200 = predictions[i].sort_values(ascending=False)[:200]\n",
    "    # расчет суммарной прибыли для примера\n",
    "    example_revenue.append(\n",
    "        revenue(target_valid[i], best_places200, places_to_drill)\n",
    "    )\n",
    "example_revenue"
   ]
  },
  {
   "cell_type": "markdown",
   "id": "23f54a45",
   "metadata": {},
   "source": [
    "__Результаты работы по созданию функции:__  \n",
    "Написана функция для расчёта прибыли по выбранным скважинам и предсказаниям модели. Функция возвращает общий размер прибыли по региону за вычетом затрат на разработку скважин.  \n",
    "Функция была проверена на случайных данных, соответствующих условию задачи для проекта по всем регионам. Также была сделана проверка по 200 лучшим точкам каждого региона. Обе проверки выдали неожиданный результат о том, прибыль от разработки все же может быть получена, но для этого необходимо иметь возможность отбора скважин с наибольшими предполагаемыми запасами сырья."
   ]
  },
  {
   "cell_type": "markdown",
   "id": "00d442b8",
   "metadata": {},
   "source": [
    "## Расчёт прибыли и рисков"
   ]
  },
  {
   "cell_type": "markdown",
   "id": "a2860db4",
   "metadata": {},
   "source": [
    "Посчитаем риски и прибыль для каждого региона:\n",
    "- Применим технику *Bootstrap* с 1000 выборок, чтобы найти распределение прибыли.\n",
    "- Найдём среднюю прибыль, 95%-й доверительный интервал и риск убытков. Убыток — это отрицательная прибыль.\n",
    "- Предложим регион для разработки скважин и обоснуем выбор."
   ]
  },
  {
   "cell_type": "markdown",
   "id": "817e2a80",
   "metadata": {},
   "source": [
    "Во время проверки функции мы уже запускали ее для одной выборки в соответствии с условиями задачи. Повторим то же самое для 1000 выборок с использованием техники *Bootstrap*. Выходные данные функции будут добавляться в распределение, по которому будут получены среднее и доверительный интервал. Вероятность убытков будет определяться по числу точек с отрицательной прибылью соотнесенному с размером выборки."
   ]
  },
  {
   "cell_type": "code",
   "execution_count": 28,
   "id": "c2db015b",
   "metadata": {
    "ExecuteTime": {
     "end_time": "2023-06-16T00:39:04.046007Z",
     "start_time": "2023-06-16T00:39:00.672509Z"
    }
   },
   "outputs": [],
   "source": [
    "state = np.random.RandomState(12345)\n",
    "\n",
    "# распределение суммарной прибыли для регионов\n",
    "revenue_distr = []\n",
    "for i in range(3):\n",
    "    values = []\n",
    "    for j in range(1000):\n",
    "        # выборка точек для исследования\n",
    "        sample = predictions[i].sample(n=places_to_explore, replace=True, random_state=state)\n",
    "        values.append(            \n",
    "            # добавление суммарной прибыли по лучшим точкам в распределение\n",
    "            revenue(target_valid[i], sample, places_to_drill)\n",
    "        )\n",
    "    # запись распределения суммарной прибыли\n",
    "    revenue_distr.append(pd.Series(values))"
   ]
  },
  {
   "cell_type": "code",
   "execution_count": 30,
   "id": "9a11142f",
   "metadata": {
    "ExecuteTime": {
     "end_time": "2023-06-16T00:39:19.928693Z",
     "start_time": "2023-06-16T00:39:19.923119Z"
    }
   },
   "outputs": [],
   "source": [
    "# функция расчета доверительного интервала\n",
    "def conf_interval(sample, limit_percent):\n",
    "    lower_limit = np.round((1 - limit_percent/100)/2, 3)\n",
    "    return sample.quantile(lower_limit), sample.quantile(1 - lower_limit)"
   ]
  },
  {
   "cell_type": "code",
   "execution_count": 31,
   "id": "7a628364",
   "metadata": {
    "ExecuteTime": {
     "end_time": "2023-06-16T00:39:22.112711Z",
     "start_time": "2023-06-16T00:39:22.108416Z"
    }
   },
   "outputs": [],
   "source": [
    "# функция расчета вероятности потерь\n",
    "def losses_proba(sample):\n",
    "    return (sample < 0).mean()"
   ]
  },
  {
   "cell_type": "code",
   "execution_count": 32,
   "id": "b9ff76a2",
   "metadata": {
    "ExecuteTime": {
     "end_time": "2023-06-16T00:39:23.666451Z",
     "start_time": "2023-06-16T00:39:23.651950Z"
    }
   },
   "outputs": [],
   "source": [
    "# списки для средней прибыли, доверительных интервалов и вероятности убытка\n",
    "revenue_means, intervals, losses_probability = [], [], []\n",
    "for i in range(3):\n",
    "    # запись средней прибыли\n",
    "    revenue_means.append(\n",
    "        revenue_distr[i].mean()\n",
    "    )\n",
    "    # запись доверительного интервала\n",
    "    intervals.append(\n",
    "        conf_interval(revenue_distr[i], 95)\n",
    "    )\n",
    "    # запись вероятности потерь\n",
    "    losses_probability.append(\n",
    "        losses_proba(revenue_distr[i])\n",
    "    )"
   ]
  },
  {
   "cell_type": "code",
   "execution_count": 33,
   "id": "9273f0a4",
   "metadata": {
    "ExecuteTime": {
     "end_time": "2023-06-16T00:39:25.394493Z",
     "start_time": "2023-06-16T00:39:25.379588Z"
    }
   },
   "outputs": [
    {
     "data": {
      "text/html": [
       "<div>\n",
       "<style scoped>\n",
       "    .dataframe tbody tr th:only-of-type {\n",
       "        vertical-align: middle;\n",
       "    }\n",
       "\n",
       "    .dataframe tbody tr th {\n",
       "        vertical-align: top;\n",
       "    }\n",
       "\n",
       "    .dataframe thead th {\n",
       "        text-align: right;\n",
       "    }\n",
       "</style>\n",
       "<table border=\"1\" class=\"dataframe\">\n",
       "  <thead>\n",
       "    <tr style=\"text-align: right;\">\n",
       "      <th></th>\n",
       "      <th>Distribution Mean</th>\n",
       "      <th>Lower Limit</th>\n",
       "      <th>Upper Limit</th>\n",
       "      <th>Losses Probability</th>\n",
       "    </tr>\n",
       "  </thead>\n",
       "  <tbody>\n",
       "    <tr>\n",
       "      <th>Region0</th>\n",
       "      <td>3.961650e+08</td>\n",
       "      <td>-1.112155e+08</td>\n",
       "      <td>9.097669e+08</td>\n",
       "      <td>0.069</td>\n",
       "    </tr>\n",
       "    <tr>\n",
       "      <th>Region1</th>\n",
       "      <td>4.611558e+08</td>\n",
       "      <td>7.805081e+07</td>\n",
       "      <td>8.629521e+08</td>\n",
       "      <td>0.007</td>\n",
       "    </tr>\n",
       "    <tr>\n",
       "      <th>Region2</th>\n",
       "      <td>3.929505e+08</td>\n",
       "      <td>-1.122276e+08</td>\n",
       "      <td>9.345629e+08</td>\n",
       "      <td>0.065</td>\n",
       "    </tr>\n",
       "  </tbody>\n",
       "</table>\n",
       "</div>"
      ],
      "text/plain": [
       "         Distribution Mean   Lower Limit   Upper Limit  Losses Probability\n",
       "Region0       3.961650e+08 -1.112155e+08  9.097669e+08               0.069\n",
       "Region1       4.611558e+08  7.805081e+07  8.629521e+08               0.007\n",
       "Region2       3.929505e+08 -1.122276e+08  9.345629e+08               0.065"
      ]
     },
     "execution_count": 33,
     "metadata": {},
     "output_type": "execute_result"
    }
   ],
   "source": [
    "# транспонирование массива значений доверительных интервалов\n",
    "intervals = np.array(intervals).T\n",
    "# датафрейм для средней прибыли, доверительных интервалов и вероятности убытка\n",
    "statistics = pd.DataFrame({'Distribution Mean': revenue_means,\n",
    "                           'Lower Limit': intervals[0],\n",
    "                           'Upper Limit': intervals[1],\n",
    "                           'Losses Probability': losses_probability\n",
    "                          },\n",
    "                          index = ['Region0', 'Region1', 'Region2'])\n",
    "statistics"
   ]
  },
  {
   "cell_type": "markdown",
   "id": "c7886e3d",
   "metadata": {},
   "source": [
    "Проверим уровень вероятности убытков по регионам в сравнении с пороговым значением 2.5%. "
   ]
  },
  {
   "cell_type": "code",
   "execution_count": 34,
   "id": "522eabf1",
   "metadata": {
    "ExecuteTime": {
     "end_time": "2023-06-16T00:39:29.955980Z",
     "start_time": "2023-06-16T00:39:29.948964Z"
    }
   },
   "outputs": [
    {
     "name": "stdout",
     "output_type": "stream",
     "text": [
      "Вероятность убытков по Региону0 в 6.9% превышает критический уровень 2.5%.\n",
      "Вероятность убытков по Региону1 в 0.7% меньше критического уровня 2.5%.\n",
      "Вероятность убытков по Региону2 в 6.5% превышает критический уровень 2.5%.\n"
     ]
    }
   ],
   "source": [
    "# проверка уровня вероятности убытков\n",
    "for i in range(3):\n",
    "    prob = 100 * statistics.iloc[i, -1]\n",
    "    if prob > losses_proba_limit:\n",
    "        print(f'Вероятность убытков по Региону{i} в {prob:.1f}% превышает критический уровень {losses_proba_limit}%.')\n",
    "    else:\n",
    "        print(f'Вероятность убытков по Региону{i} в {prob:.1f}% меньше критического уровня {losses_proba_limit}%.')"
   ]
  },
  {
   "cell_type": "code",
   "execution_count": 35,
   "id": "c3ead308",
   "metadata": {
    "ExecuteTime": {
     "end_time": "2023-06-16T00:39:48.365867Z",
     "start_time": "2023-06-16T00:39:48.092012Z"
    }
   },
   "outputs": [
    {
     "data": {
      "image/png": "[encoded data removed]"
     },
     "metadata": {},
     "output_type": "display_data"
    }
   ],
   "source": [
    "# график средней прибыли и 95%-го доверительного интервала\n",
    "fig = go.Figure()\n",
    "fig.add_trace(go.Bar(name='Distribution Mean',\n",
    "                     x=statistics.index,\n",
    "                     y=statistics['Distribution Mean'],\n",
    "                     # границы доверитеотного интервала\n",
    "                     error_y=dict(type='data',\n",
    "                                  symmetric=False,\n",
    "                                  array=statistics['Upper Limit'] - statistics['Distribution Mean'],\n",
    "                                  arrayminus=statistics['Distribution Mean'] - statistics['Lower Limit'])\n",
    "                    )\n",
    "             )\n",
    "fig.update_xaxes(title_text=u'Регион')\n",
    "fig.update_yaxes(title_text=u'Прибыль, руб.')\n",
    "fig.update_layout(title_text =\\\n",
    "                  u'''Средняя расчетная прибыль по регионам<br>и 95%-ый доверительный интервал для отобранных скважин''')\n",
    "fig.show(renderer='png')"
   ]
  },
  {
   "cell_type": "markdown",
   "id": "02387f4e",
   "metadata": {},
   "source": [
    "__Результаты расчёта прибыли по регионам:__  \n",
    "С использованием техники *Bootstrap* и написанной ранее функции для расчёта прибыли по выбранным скважинам для каждого региона было создано распределение суммарной прибыли по данным ответов из валидационной выборки. Результаты *Региону0* и *Региону2* схожи -  они показывают меньшую среднюю прибыль по сравнению с *Регионом1*, левая граница доверительного интервала в зоне отрицательных значений. Правая граница доверительно интервала у них немного дальше, чем у *Региона1*. Но, в целом, из-за более высокого среднего значения суммарной прибыли и нахождении доверительного интервала в области положительных значений *Регион1* является наиболее предпочтительным. А с учетом ограничения по вероятности убытка в 2.5% он оказывается еще и единственно возможным выбором."
   ]
  },
  {
   "cell_type": "markdown",
   "id": "3effbb70",
   "metadata": {},
   "source": [
    "## Общие выводы"
   ]
  },
  {
   "cell_type": "markdown",
   "id": "8bb31671",
   "metadata": {},
   "source": [
    "__Заключение о проделанной работе:__  \n",
    "\n",
    "В ходе выполнения работы над проектом с помощью инструмента `ProfileReport` библиотеки `ydata_profiling` был сделан детальный исследовательский анализ исходным данных и сделаны подробные выводы об их характере и обнаруженных в них закономерностях. Данные по регионам были разбиты на обучающие и валидационные выборки в соотношении 3:1. На их основе с было проведено обучение моделей линейной регрессии для каждого региона с предварительным масштабированием признаков. Обе операции были объединены в конвейере `Pipeline` библиотеки `scikit-learn`. По предсказанным данным были найдены средние значения, величины погрешностей по *RSME* и построены графики.  \n",
    "Для оценки качества прогноза была написана функция для расчёта прибыли по выбранным скважинам и предсказаниям модели. В функции были учтены затраты на разработку скважин. Впоследствии она была использована для создания распределений суммарно прибыли отобранных точек техникой *Bootstrap*. На их основе были получены доверительные интервалы, размеры средней прибыли и вероятности убытков. После чего с помощью этих данных было принято решение о выборе региона для разработки скважин."
   ]
  },
  {
   "cell_type": "markdown",
   "id": "9235c361",
   "metadata": {},
   "source": [
    "__Вывод по выбору локации:__  \n",
    "\n",
    "С самого начала, еще на этапе *EDA* было видно, что данные по *Региону1* сильно отличаются от двух других. И прежде всего по значительной корреляции между признаком `f2` и целевым признаком `product`. Это выразилось как в очень сильной линейной зависимости, так и в одинаковом разделении данных на четко разделенные группы. В итоге это сказалось на крайне высоком качестве прогноза с низким значением погрешности по *RSME*. Хотя средние предсказанные значения для *Региона1* оказались более низкие по сравнению с остальными, однако, возможность более точного выбора точек с наибольшими предсказанными запасами вывело его в лидеры. Исследование распределений суммарной прибыли, проведенное техникой *Bootstrap* показало, что средняя прибыль точек с лучшими прогнозами у этого региона самая высокая, а доверительный интервал только у него лежит в области положительных значений. Окончательный отказ от *Региона0* и *Региона2* в пользу *Региона1* был сделан, когда они не прошли проверку уровня безубыточности в 2.5%."
   ]
  }
 ],
 "metadata": {
  "ExecuteTimeLog": [
   {
    "duration": 419,
    "start_time": "2023-01-21T22:39:32.279Z"
   },
   {
    "duration": 0,
    "start_time": "2023-01-21T22:39:32.700Z"
   },
   {
    "duration": 0,
    "start_time": "2023-01-21T22:39:32.701Z"
   },
   {
    "duration": 0,
    "start_time": "2023-01-21T22:39:32.703Z"
   },
   {
    "duration": 0,
    "start_time": "2023-01-21T22:39:32.704Z"
   },
   {
    "duration": 0,
    "start_time": "2023-01-21T22:39:32.705Z"
   },
   {
    "duration": 0,
    "start_time": "2023-01-21T22:39:32.706Z"
   },
   {
    "duration": 0,
    "start_time": "2023-01-21T22:39:32.707Z"
   },
   {
    "duration": 0,
    "start_time": "2023-01-21T22:39:32.708Z"
   },
   {
    "duration": 0,
    "start_time": "2023-01-21T22:39:32.709Z"
   },
   {
    "duration": 0,
    "start_time": "2023-01-21T22:39:32.710Z"
   },
   {
    "duration": 0,
    "start_time": "2023-01-21T22:39:32.711Z"
   },
   {
    "duration": 0,
    "start_time": "2023-01-21T22:39:32.712Z"
   },
   {
    "duration": 0,
    "start_time": "2023-01-21T22:39:32.713Z"
   },
   {
    "duration": 0,
    "start_time": "2023-01-21T22:39:32.714Z"
   },
   {
    "duration": 0,
    "start_time": "2023-01-21T22:39:32.715Z"
   },
   {
    "duration": 0,
    "start_time": "2023-01-21T22:39:32.747Z"
   },
   {
    "duration": 0,
    "start_time": "2023-01-21T22:39:32.749Z"
   },
   {
    "duration": 0,
    "start_time": "2023-01-21T22:39:32.750Z"
   },
   {
    "duration": 0,
    "start_time": "2023-01-21T22:39:32.751Z"
   },
   {
    "duration": 0,
    "start_time": "2023-01-21T22:39:32.752Z"
   },
   {
    "duration": 0,
    "start_time": "2023-01-21T22:39:32.753Z"
   },
   {
    "duration": 0,
    "start_time": "2023-01-21T22:39:32.754Z"
   },
   {
    "duration": 0,
    "start_time": "2023-01-21T22:39:32.755Z"
   },
   {
    "duration": 0,
    "start_time": "2023-01-21T22:39:32.756Z"
   },
   {
    "duration": 0,
    "start_time": "2023-01-21T22:39:32.757Z"
   },
   {
    "duration": 0,
    "start_time": "2023-01-21T22:39:32.758Z"
   },
   {
    "duration": 384,
    "start_time": "2023-01-21T22:41:48.581Z"
   },
   {
    "duration": 3,
    "start_time": "2023-01-21T22:41:53.969Z"
   },
   {
    "duration": 15,
    "start_time": "2023-01-21T22:41:54.141Z"
   },
   {
    "duration": 10,
    "start_time": "2023-01-21T22:41:54.293Z"
   },
   {
    "duration": 15,
    "start_time": "2023-01-21T22:41:54.425Z"
   },
   {
    "duration": 7,
    "start_time": "2023-01-21T22:41:54.736Z"
   },
   {
    "duration": 387,
    "start_time": "2023-01-21T22:42:16.000Z"
   },
   {
    "duration": 18,
    "start_time": "2023-01-21T22:42:21.368Z"
   },
   {
    "duration": 19,
    "start_time": "2023-01-21T22:42:40.188Z"
   },
   {
    "duration": 385,
    "start_time": "2023-01-21T22:42:42.188Z"
   },
   {
    "duration": 3,
    "start_time": "2023-01-21T22:42:46.724Z"
   },
   {
    "duration": 14,
    "start_time": "2023-01-21T22:42:47.400Z"
   },
   {
    "duration": 460,
    "start_time": "2023-01-21T22:43:22.569Z"
   },
   {
    "duration": 424,
    "start_time": "2023-01-21T22:44:26.000Z"
   },
   {
    "duration": 0,
    "start_time": "2023-01-21T22:44:26.427Z"
   },
   {
    "duration": 0,
    "start_time": "2023-01-21T22:44:26.428Z"
   },
   {
    "duration": 0,
    "start_time": "2023-01-21T22:44:26.429Z"
   },
   {
    "duration": 0,
    "start_time": "2023-01-21T22:44:26.430Z"
   },
   {
    "duration": 0,
    "start_time": "2023-01-21T22:44:26.431Z"
   },
   {
    "duration": 0,
    "start_time": "2023-01-21T22:44:26.432Z"
   },
   {
    "duration": 0,
    "start_time": "2023-01-21T22:44:26.434Z"
   },
   {
    "duration": 0,
    "start_time": "2023-01-21T22:44:26.452Z"
   },
   {
    "duration": 0,
    "start_time": "2023-01-21T22:44:26.454Z"
   },
   {
    "duration": 0,
    "start_time": "2023-01-21T22:44:26.455Z"
   },
   {
    "duration": 0,
    "start_time": "2023-01-21T22:44:26.456Z"
   },
   {
    "duration": 0,
    "start_time": "2023-01-21T22:44:26.458Z"
   },
   {
    "duration": 0,
    "start_time": "2023-01-21T22:44:26.459Z"
   },
   {
    "duration": 0,
    "start_time": "2023-01-21T22:44:26.461Z"
   },
   {
    "duration": 0,
    "start_time": "2023-01-21T22:44:26.462Z"
   },
   {
    "duration": 0,
    "start_time": "2023-01-21T22:44:26.463Z"
   },
   {
    "duration": 0,
    "start_time": "2023-01-21T22:44:26.464Z"
   },
   {
    "duration": 0,
    "start_time": "2023-01-21T22:44:26.465Z"
   },
   {
    "duration": 0,
    "start_time": "2023-01-21T22:44:26.466Z"
   },
   {
    "duration": 0,
    "start_time": "2023-01-21T22:44:26.468Z"
   },
   {
    "duration": 0,
    "start_time": "2023-01-21T22:44:26.469Z"
   },
   {
    "duration": 0,
    "start_time": "2023-01-21T22:44:26.470Z"
   },
   {
    "duration": 0,
    "start_time": "2023-01-21T22:44:26.471Z"
   },
   {
    "duration": 0,
    "start_time": "2023-01-21T22:44:26.472Z"
   },
   {
    "duration": 0,
    "start_time": "2023-01-21T22:44:26.473Z"
   },
   {
    "duration": 0,
    "start_time": "2023-01-21T22:44:26.476Z"
   },
   {
    "duration": 520,
    "start_time": "2023-01-21T22:59:59.517Z"
   },
   {
    "duration": 0,
    "start_time": "2023-01-21T23:00:00.040Z"
   },
   {
    "duration": 0,
    "start_time": "2023-01-21T23:00:00.046Z"
   },
   {
    "duration": 0,
    "start_time": "2023-01-21T23:00:00.048Z"
   },
   {
    "duration": 0,
    "start_time": "2023-01-21T23:00:00.049Z"
   },
   {
    "duration": 0,
    "start_time": "2023-01-21T23:00:00.051Z"
   },
   {
    "duration": 0,
    "start_time": "2023-01-21T23:00:00.052Z"
   },
   {
    "duration": 0,
    "start_time": "2023-01-21T23:00:00.053Z"
   },
   {
    "duration": 0,
    "start_time": "2023-01-21T23:00:00.054Z"
   },
   {
    "duration": 0,
    "start_time": "2023-01-21T23:00:00.056Z"
   },
   {
    "duration": 0,
    "start_time": "2023-01-21T23:00:00.057Z"
   },
   {
    "duration": 0,
    "start_time": "2023-01-21T23:00:00.060Z"
   },
   {
    "duration": 0,
    "start_time": "2023-01-21T23:00:00.061Z"
   },
   {
    "duration": 1,
    "start_time": "2023-01-21T23:00:00.062Z"
   },
   {
    "duration": 0,
    "start_time": "2023-01-21T23:00:00.064Z"
   },
   {
    "duration": 0,
    "start_time": "2023-01-21T23:00:00.065Z"
   },
   {
    "duration": 0,
    "start_time": "2023-01-21T23:00:00.066Z"
   },
   {
    "duration": 0,
    "start_time": "2023-01-21T23:00:00.068Z"
   },
   {
    "duration": 0,
    "start_time": "2023-01-21T23:00:00.071Z"
   },
   {
    "duration": 0,
    "start_time": "2023-01-21T23:00:00.072Z"
   },
   {
    "duration": 0,
    "start_time": "2023-01-21T23:00:00.073Z"
   },
   {
    "duration": 0,
    "start_time": "2023-01-21T23:00:00.074Z"
   },
   {
    "duration": 0,
    "start_time": "2023-01-21T23:00:00.075Z"
   },
   {
    "duration": 0,
    "start_time": "2023-01-21T23:00:00.077Z"
   },
   {
    "duration": 0,
    "start_time": "2023-01-21T23:00:00.078Z"
   },
   {
    "duration": 0,
    "start_time": "2023-01-21T23:00:00.080Z"
   },
   {
    "duration": 0,
    "start_time": "2023-01-21T23:00:00.082Z"
   },
   {
    "duration": 9,
    "start_time": "2023-01-21T23:03:34.188Z"
   },
   {
    "duration": 8,
    "start_time": "2023-01-21T23:03:37.668Z"
   },
   {
    "duration": 41,
    "start_time": "2023-01-21T23:04:22.811Z"
   },
   {
    "duration": 14164,
    "start_time": "2023-01-21T23:04:30.924Z"
   },
   {
    "duration": 2292,
    "start_time": "2023-01-21T23:04:59.514Z"
   },
   {
    "duration": 1522,
    "start_time": "2023-01-21T23:05:18.584Z"
   },
   {
    "duration": 9413,
    "start_time": "2023-01-21T23:05:20.108Z"
   },
   {
    "duration": 8561,
    "start_time": "2023-01-21T23:05:29.523Z"
   },
   {
    "duration": 8637,
    "start_time": "2023-01-21T23:05:38.086Z"
   },
   {
    "duration": 3,
    "start_time": "2023-01-21T23:05:46.736Z"
   },
   {
    "duration": 38,
    "start_time": "2023-01-21T23:05:46.740Z"
   },
   {
    "duration": 271,
    "start_time": "2023-01-21T23:05:46.780Z"
   },
   {
    "duration": 99,
    "start_time": "2023-01-21T23:05:47.138Z"
   },
   {
    "duration": 11,
    "start_time": "2023-01-21T23:05:47.239Z"
   },
   {
    "duration": 401,
    "start_time": "2023-01-21T23:05:47.252Z"
   },
   {
    "duration": 21,
    "start_time": "2023-01-21T23:05:47.655Z"
   },
   {
    "duration": 74,
    "start_time": "2023-01-21T23:05:47.678Z"
   },
   {
    "duration": 24,
    "start_time": "2023-01-21T23:05:47.754Z"
   },
   {
    "duration": 24,
    "start_time": "2023-01-21T23:05:47.781Z"
   },
   {
    "duration": 32,
    "start_time": "2023-01-21T23:05:47.807Z"
   },
   {
    "duration": 42,
    "start_time": "2023-01-21T23:05:47.840Z"
   },
   {
    "duration": 189,
    "start_time": "2023-01-21T23:05:47.885Z"
   },
   {
    "duration": 0,
    "start_time": "2023-01-21T23:05:48.075Z"
   },
   {
    "duration": 0,
    "start_time": "2023-01-21T23:05:48.076Z"
   },
   {
    "duration": 0,
    "start_time": "2023-01-21T23:05:48.077Z"
   },
   {
    "duration": 0,
    "start_time": "2023-01-21T23:05:48.078Z"
   },
   {
    "duration": 0,
    "start_time": "2023-01-21T23:05:48.079Z"
   },
   {
    "duration": 0,
    "start_time": "2023-01-21T23:05:48.080Z"
   },
   {
    "duration": 0,
    "start_time": "2023-01-21T23:05:48.082Z"
   },
   {
    "duration": 0,
    "start_time": "2023-01-21T23:05:48.083Z"
   },
   {
    "duration": 0,
    "start_time": "2023-01-21T23:05:48.083Z"
   },
   {
    "duration": 52,
    "start_time": "2023-01-21T23:09:41.697Z"
   },
   {
    "duration": 3245,
    "start_time": "2023-01-21T23:10:56.488Z"
   },
   {
    "duration": 54329,
    "start_time": "2023-01-21T23:12:22.617Z"
   },
   {
    "duration": 21,
    "start_time": "2023-01-21T23:14:37.332Z"
   },
   {
    "duration": 2165,
    "start_time": "2023-01-21T23:15:07.503Z"
   },
   {
    "duration": 2331,
    "start_time": "2023-01-21T23:15:09.671Z"
   },
   {
    "duration": 393,
    "start_time": "2023-01-21T23:15:12.004Z"
   },
   {
    "duration": 9492,
    "start_time": "2023-01-21T23:15:12.400Z"
   },
   {
    "duration": 8204,
    "start_time": "2023-01-21T23:15:21.894Z"
   },
   {
    "duration": 9293,
    "start_time": "2023-01-21T23:15:30.100Z"
   },
   {
    "duration": 4,
    "start_time": "2023-01-21T23:15:39.395Z"
   },
   {
    "duration": 53,
    "start_time": "2023-01-21T23:15:39.400Z"
   },
   {
    "duration": 284,
    "start_time": "2023-01-21T23:15:39.455Z"
   },
   {
    "duration": 102,
    "start_time": "2023-01-21T23:15:39.742Z"
   },
   {
    "duration": 102,
    "start_time": "2023-01-21T23:15:39.846Z"
   },
   {
    "duration": 118,
    "start_time": "2023-01-21T23:15:39.950Z"
   },
   {
    "duration": 21,
    "start_time": "2023-01-21T23:15:40.069Z"
   },
   {
    "duration": 20,
    "start_time": "2023-01-21T23:15:40.136Z"
   },
   {
    "duration": 12,
    "start_time": "2023-01-21T23:15:40.158Z"
   },
   {
    "duration": 19,
    "start_time": "2023-01-21T23:15:40.173Z"
   },
   {
    "duration": 5,
    "start_time": "2023-01-21T23:15:40.236Z"
   },
   {
    "duration": 21,
    "start_time": "2023-01-21T23:15:40.242Z"
   },
   {
    "duration": 109,
    "start_time": "2023-01-21T23:15:40.265Z"
   },
   {
    "duration": 4,
    "start_time": "2023-01-21T23:15:40.376Z"
   },
   {
    "duration": 19,
    "start_time": "2023-01-21T23:15:40.382Z"
   },
   {
    "duration": 3185,
    "start_time": "2023-01-21T23:15:40.404Z"
   },
   {
    "duration": 3,
    "start_time": "2023-01-21T23:15:43.591Z"
   },
   {
    "duration": 5,
    "start_time": "2023-01-21T23:15:43.596Z"
   },
   {
    "duration": 11,
    "start_time": "2023-01-21T23:15:43.603Z"
   },
   {
    "duration": 28,
    "start_time": "2023-01-21T23:15:43.616Z"
   },
   {
    "duration": 7,
    "start_time": "2023-01-21T23:15:43.646Z"
   },
   {
    "duration": 17,
    "start_time": "2023-01-21T23:15:43.657Z"
   },
   {
    "duration": 31332,
    "start_time": "2023-01-21T23:20:22.012Z"
   },
   {
    "duration": 317994,
    "start_time": "2023-01-21T23:21:41.876Z"
   },
   {
    "duration": 2289,
    "start_time": "2023-01-22T03:54:36.670Z"
   },
   {
    "duration": 2078,
    "start_time": "2023-01-22T03:54:38.962Z"
   },
   {
    "duration": 235,
    "start_time": "2023-01-22T03:54:41.043Z"
   },
   {
    "duration": 0,
    "start_time": "2023-01-22T03:54:41.282Z"
   },
   {
    "duration": 0,
    "start_time": "2023-01-22T03:54:41.283Z"
   },
   {
    "duration": 0,
    "start_time": "2023-01-22T03:54:41.284Z"
   },
   {
    "duration": 0,
    "start_time": "2023-01-22T03:54:41.285Z"
   },
   {
    "duration": 0,
    "start_time": "2023-01-22T03:54:41.286Z"
   },
   {
    "duration": 0,
    "start_time": "2023-01-22T03:54:41.288Z"
   },
   {
    "duration": 0,
    "start_time": "2023-01-22T03:54:41.289Z"
   },
   {
    "duration": 0,
    "start_time": "2023-01-22T03:54:41.290Z"
   },
   {
    "duration": 0,
    "start_time": "2023-01-22T03:54:41.293Z"
   },
   {
    "duration": 0,
    "start_time": "2023-01-22T03:54:41.294Z"
   },
   {
    "duration": 0,
    "start_time": "2023-01-22T03:54:41.296Z"
   },
   {
    "duration": 0,
    "start_time": "2023-01-22T03:54:41.296Z"
   },
   {
    "duration": 0,
    "start_time": "2023-01-22T03:54:41.297Z"
   },
   {
    "duration": 0,
    "start_time": "2023-01-22T03:54:41.298Z"
   },
   {
    "duration": 0,
    "start_time": "2023-01-22T03:54:41.299Z"
   },
   {
    "duration": 0,
    "start_time": "2023-01-22T03:54:41.300Z"
   },
   {
    "duration": 0,
    "start_time": "2023-01-22T03:54:41.302Z"
   },
   {
    "duration": 0,
    "start_time": "2023-01-22T03:54:41.337Z"
   },
   {
    "duration": 0,
    "start_time": "2023-01-22T03:54:41.338Z"
   },
   {
    "duration": 0,
    "start_time": "2023-01-22T03:54:41.339Z"
   },
   {
    "duration": 0,
    "start_time": "2023-01-22T03:54:41.341Z"
   },
   {
    "duration": 0,
    "start_time": "2023-01-22T03:54:41.341Z"
   },
   {
    "duration": 0,
    "start_time": "2023-01-22T03:54:41.343Z"
   },
   {
    "duration": 0,
    "start_time": "2023-01-22T03:54:41.343Z"
   },
   {
    "duration": 0,
    "start_time": "2023-01-22T03:54:41.345Z"
   },
   {
    "duration": 0,
    "start_time": "2023-01-22T03:54:41.346Z"
   },
   {
    "duration": 2205,
    "start_time": "2023-01-22T03:56:11.626Z"
   },
   {
    "duration": 2038,
    "start_time": "2023-01-22T03:56:33.645Z"
   },
   {
    "duration": 1835,
    "start_time": "2023-01-22T03:56:39.072Z"
   },
   {
    "duration": 582,
    "start_time": "2023-01-22T03:57:33.348Z"
   },
   {
    "duration": 388,
    "start_time": "2023-01-22T03:57:44.843Z"
   },
   {
    "duration": 9087,
    "start_time": "2023-01-22T03:57:45.233Z"
   },
   {
    "duration": 8132,
    "start_time": "2023-01-22T03:57:54.322Z"
   },
   {
    "duration": 9285,
    "start_time": "2023-01-22T03:58:02.456Z"
   },
   {
    "duration": 3,
    "start_time": "2023-01-22T03:58:11.743Z"
   },
   {
    "duration": 33,
    "start_time": "2023-01-22T03:58:11.748Z"
   },
   {
    "duration": 260,
    "start_time": "2023-01-22T03:58:11.783Z"
   },
   {
    "duration": 97,
    "start_time": "2023-01-22T03:58:12.045Z"
   },
   {
    "duration": 100,
    "start_time": "2023-01-22T03:58:12.144Z"
   },
   {
    "duration": 117,
    "start_time": "2023-01-22T03:58:12.247Z"
   },
   {
    "duration": 20,
    "start_time": "2023-01-22T03:58:12.366Z"
   },
   {
    "duration": 63,
    "start_time": "2023-01-22T03:58:12.388Z"
   },
   {
    "duration": 3,
    "start_time": "2023-01-22T03:58:12.452Z"
   },
   {
    "duration": 8,
    "start_time": "2023-01-22T03:58:12.456Z"
   },
   {
    "duration": 11,
    "start_time": "2023-01-22T03:58:12.466Z"
   },
   {
    "duration": 58,
    "start_time": "2023-01-22T03:58:12.479Z"
   },
   {
    "duration": 100,
    "start_time": "2023-01-22T03:58:12.539Z"
   },
   {
    "duration": 3,
    "start_time": "2023-01-22T03:58:12.641Z"
   },
   {
    "duration": 20,
    "start_time": "2023-01-22T03:58:12.646Z"
   },
   {
    "duration": 3069,
    "start_time": "2023-01-22T03:58:12.667Z"
   },
   {
    "duration": 3,
    "start_time": "2023-01-22T03:58:15.738Z"
   },
   {
    "duration": 13,
    "start_time": "2023-01-22T03:58:15.742Z"
   },
   {
    "duration": 14,
    "start_time": "2023-01-22T03:58:15.756Z"
   },
   {
    "duration": 13,
    "start_time": "2023-01-22T03:58:15.772Z"
   },
   {
    "duration": 7,
    "start_time": "2023-01-22T03:58:15.787Z"
   },
   {
    "duration": 17,
    "start_time": "2023-01-22T03:58:15.795Z"
   },
   {
    "duration": 14931,
    "start_time": "2023-01-22T19:48:36.235Z"
   },
   {
    "duration": 64491,
    "start_time": "2023-01-22T19:48:51.168Z"
   },
   {
    "duration": 2623,
    "start_time": "2023-01-22T19:49:55.662Z"
   },
   {
    "duration": 392,
    "start_time": "2023-01-22T19:49:58.287Z"
   },
   {
    "duration": 9771,
    "start_time": "2023-01-22T19:49:58.680Z"
   },
   {
    "duration": 9022,
    "start_time": "2023-01-22T19:50:08.453Z"
   },
   {
    "duration": 9860,
    "start_time": "2023-01-22T19:50:17.492Z"
   },
   {
    "duration": 3,
    "start_time": "2023-01-22T19:50:27.353Z"
   },
   {
    "duration": 56,
    "start_time": "2023-01-22T19:50:27.358Z"
   },
   {
    "duration": 200,
    "start_time": "2023-01-22T19:50:27.418Z"
   },
   {
    "duration": 100,
    "start_time": "2023-01-22T19:50:27.621Z"
   },
   {
    "duration": 35,
    "start_time": "2023-01-22T19:50:27.793Z"
   },
   {
    "duration": 152,
    "start_time": "2023-01-22T19:50:27.831Z"
   },
   {
    "duration": 30,
    "start_time": "2023-01-22T19:50:27.985Z"
   },
   {
    "duration": 22,
    "start_time": "2023-01-22T19:50:28.017Z"
   },
   {
    "duration": 5,
    "start_time": "2023-01-22T19:50:28.093Z"
   },
   {
    "duration": 15,
    "start_time": "2023-01-22T19:50:28.110Z"
   },
   {
    "duration": 7,
    "start_time": "2023-01-22T19:50:28.127Z"
   },
   {
    "duration": 8,
    "start_time": "2023-01-22T19:50:28.136Z"
   },
   {
    "duration": 116,
    "start_time": "2023-01-22T19:50:28.146Z"
   },
   {
    "duration": 4,
    "start_time": "2023-01-22T19:50:28.264Z"
   },
   {
    "duration": 40,
    "start_time": "2023-01-22T19:50:28.270Z"
   },
   {
    "duration": 3330,
    "start_time": "2023-01-22T19:50:28.313Z"
   },
   {
    "duration": 4,
    "start_time": "2023-01-22T19:50:31.645Z"
   },
   {
    "duration": 10,
    "start_time": "2023-01-22T19:50:31.651Z"
   },
   {
    "duration": 14,
    "start_time": "2023-01-22T19:50:31.663Z"
   },
   {
    "duration": 44,
    "start_time": "2023-01-22T19:50:31.678Z"
   },
   {
    "duration": 13,
    "start_time": "2023-01-22T19:50:31.725Z"
   },
   {
    "duration": 34,
    "start_time": "2023-01-22T19:50:31.740Z"
   }
  ],
  "kernelspec": {
   "display_name": "Python 3 (ipykernel)",
   "language": "python",
   "name": "python3"
  },
  "language_info": {
   "codemirror_mode": {
    "name": "ipython",
    "version": 3
   },
   "file_extension": ".py",
   "mimetype": "text/x-python",
   "name": "python",
   "nbconvert_exporter": "python",
   "pygments_lexer": "ipython3",
   "version": "3.11.0"
  },
  "toc": {
   "base_numbering": 1,
   "nav_menu": {
    "height": "273px",
    "width": "375px"
   },
   "number_sections": true,
   "sideBar": true,
   "skip_h1_title": true,
   "title_cell": "Содержание",
   "title_sidebar": "Содержание:",
   "toc_cell": true,
   "toc_position": {
    "height": "calc(100% - 180px)",
    "left": "10px",
    "top": "150px",
    "width": "190.6px"
   },
   "toc_section_display": true,
   "toc_window_display": true
  },
  "varInspector": {
   "cols": {
    "lenName": 16,
    "lenType": 16,
    "lenVar": 40
   },
   "kernels_config": {
    "python": {
     "delete_cmd_postfix": "",
     "delete_cmd_prefix": "del ",
     "library": "var_list.py",
     "varRefreshCmd": "print(var_dic_list())"
    },
    "r": {
     "delete_cmd_postfix": ") ",
     "delete_cmd_prefix": "rm(",
     "library": "var_list.r",
     "varRefreshCmd": "cat(var_dic_list()) "
    }
   },
   "types_to_exclude": [
    "module",
    "function",
    "builtin_function_or_method",
    "instance",
    "_Feature"
   ],
   "window_display": false
  }
 },
 "nbformat": 4,
 "nbformat_minor": 5
}
