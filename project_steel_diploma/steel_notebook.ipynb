{
 "cells": [
  {
   "cell_type": "markdown",
   "id": "201800c9",
   "metadata": {
    "toc": true
   },
   "source": [
    "<h1>Содержание<span class=\"tocSkip\"></span></h1>\n",
    "<div class=\"toc\"><ul class=\"toc-item\"><li><span><a href=\"#Описание-проекта\" data-toc-modified-id=\"Описание-проекта-1\"><span class=\"toc-item-num\">1&nbsp;&nbsp;</span>Описание проекта</a></span></li><li><span><a href=\"#Первичный-анализ-данных-и-планирование-проекта\" data-toc-modified-id=\"Первичный-анализ-данных-и-планирование-проекта-2\"><span class=\"toc-item-num\">2&nbsp;&nbsp;</span>Первичный анализ данных и планирование проекта</a></span><ul class=\"toc-item\"><li><span><a href=\"#Загрузка-данных\" data-toc-modified-id=\"Загрузка-данных-2.1\"><span class=\"toc-item-num\">2.1&nbsp;&nbsp;</span>Загрузка данных</a></span></li><li><span><a href=\"#Первичный-анализ-данных\" data-toc-modified-id=\"Первичный-анализ-данных-2.2\"><span class=\"toc-item-num\">2.2&nbsp;&nbsp;</span>Первичный анализ данных</a></span><ul class=\"toc-item\"><li><span><a href=\"#Сводный-отчет-по-данным-дататесетов\" data-toc-modified-id=\"Сводный-отчет-по-данным-дататесетов-2.2.1\"><span class=\"toc-item-num\">2.2.1&nbsp;&nbsp;</span>Сводный отчет по данным дататесетов</a></span></li><li><span><a href=\"#Обзор-технологических-стадий\" data-toc-modified-id=\"Обзор-технологических-стадий-2.2.2\"><span class=\"toc-item-num\">2.2.2&nbsp;&nbsp;</span>Обзор технологических стадий</a></span></li></ul></li><li><span><a href=\"#Выводы\" data-toc-modified-id=\"Выводы-2.3\"><span class=\"toc-item-num\">2.3&nbsp;&nbsp;</span>Выводы</a></span></li></ul></li><li><span><a href=\"#Предобработка-данных,-разработка-модели\" data-toc-modified-id=\"Предобработка-данных,-разработка-модели-3\"><span class=\"toc-item-num\">3&nbsp;&nbsp;</span>Предобработка данных, разработка модели</a></span><ul class=\"toc-item\"><li><span><a href=\"#Создание-сводной-таблицы-признаков\" data-toc-modified-id=\"Создание-сводной-таблицы-признаков-3.1\"><span class=\"toc-item-num\">3.1&nbsp;&nbsp;</span>Создание сводной таблицы признаков</a></span></li><li><span><a href=\"#Предобработка-признаков\" data-toc-modified-id=\"Предобработка-признаков-3.2\"><span class=\"toc-item-num\">3.2&nbsp;&nbsp;</span>Предобработка признаков</a></span></li><li><span><a href=\"#Обучение-модели\" data-toc-modified-id=\"Обучение-модели-3.3\"><span class=\"toc-item-num\">3.3&nbsp;&nbsp;</span>Обучение модели</a></span></li></ul></li><li><span><a href=\"#Тестирование\" data-toc-modified-id=\"Тестирование-4\"><span class=\"toc-item-num\">4&nbsp;&nbsp;</span>Тестирование</a></span><ul class=\"toc-item\"><li><span><a href=\"#Тестирование-лучшей-модели\" data-toc-modified-id=\"Тестирование-лучшей-модели-4.1\"><span class=\"toc-item-num\">4.1&nbsp;&nbsp;</span>Тестирование лучшей модели</a></span></li><li><span><a href=\"#Оценка-важности-признаков\" data-toc-modified-id=\"Оценка-важности-признаков-4.2\"><span class=\"toc-item-num\">4.2&nbsp;&nbsp;</span>Оценка важности признаков</a></span></li></ul></li><li><span><a href=\"#Отчёт\" data-toc-modified-id=\"Отчёт-5\"><span class=\"toc-item-num\">5&nbsp;&nbsp;</span>Отчёт</a></span><ul class=\"toc-item\"><li><span><a href=\"#Ответы-на-вопросы\" data-toc-modified-id=\"Ответы-на-вопросы-5.1\"><span class=\"toc-item-num\">5.1&nbsp;&nbsp;</span>Ответы на вопросы</a></span></li><li><span><a href=\"#Пояснения-и-рекомендации\" data-toc-modified-id=\"Пояснения-и-рекомендации-5.2\"><span class=\"toc-item-num\">5.2&nbsp;&nbsp;</span>Пояснения и рекомендации</a></span></li></ul></li><li><span><a href=\"#Дополнения\" data-toc-modified-id=\"Дополнения-6\"><span class=\"toc-item-num\">6&nbsp;&nbsp;</span>Дополнения</a></span><ul class=\"toc-item\"><li><span><a href=\"#Создание-модели-без-трансформации-данных\" data-toc-modified-id=\"Создание-модели-без-трансформации-данных-6.1\"><span class=\"toc-item-num\">6.1&nbsp;&nbsp;</span>Создание модели без трансформации данных</a></span></li><li><span><a href=\"#Уменьшение-числа-признаков\" data-toc-modified-id=\"Уменьшение-числа-признаков-6.2\"><span class=\"toc-item-num\">6.2&nbsp;&nbsp;</span>Уменьшение числа признаков</a></span></li><li><span><a href=\"#Применение-модели-для-энергосбережения\" data-toc-modified-id=\"Применение-модели-для-энергосбережения-6.3\"><span class=\"toc-item-num\">6.3&nbsp;&nbsp;</span>Применение модели для энергосбережения</a></span></li></ul></li></ul></div>"
   ]
  },
  {
   "cell_type": "markdown",
   "id": "f795278c",
   "metadata": {},
   "source": [
    "# Проект: \"Предсказание температуры сплава при выплавке стали\""
   ]
  },
  {
   "cell_type": "markdown",
   "id": "aaf74c1b",
   "metadata": {},
   "source": [
    "## Описание проекта"
   ]
  },
  {
   "cell_type": "markdown",
   "id": "050aca26",
   "metadata": {},
   "source": [
    "__Задача:__  \n",
    "Чтобы оптимизировать производственные расходы, металлургический комбинат _ООО «Так закаляем сталь»_ решил уменьшить потребление электроэнергии на этапе обработки стали. Вам предстоит построить модель, которая предскажет температуру стали."
   ]
  },
  {
   "cell_type": "markdown",
   "id": "13ce8c91",
   "metadata": {},
   "source": [
    "__Описание этапа обработки:__  \n",
    "Сталь обрабатывают в металлическом ковше вместимостью около 100 тонн. Чтобы ковш выдерживал высокие температуры, изнутри его облицовывают огнеупорным кирпичом. Расплавленную сталь заливают в ковш и подогревают до нужной температуры графитовыми электродами. Они установлены в крышке ковша. \n",
    "\n",
    "Из сплава выводится сера (десульфурация), добавлением примесей корректируется химический состав и отбираются пробы. Сталь легируют — изменяют её состав — подавая куски сплава из бункера для сыпучих материалов или проволоку через специальный трайб-аппарат (англ. tribe, «масса»).\n",
    "\n",
    "Перед тем как первый раз ввести легирующие добавки, измеряют температуру стали и производят её химический анализ. Потом температуру на несколько минут повышают, добавляют легирующие материалы и продувают сплав инертным газом. Затем его перемешивают и снова проводят измерения. Такой цикл повторяется до достижения целевого химического состава и оптимальной температуры плавки.\n",
    "\n",
    "Тогда расплавленная сталь отправляется на доводку металла или поступает в машину непрерывной разливки. Оттуда готовый продукт выходит в виде заготовок-слябов (англ. *slab*, «плита»)."
   ]
  },
  {
   "cell_type": "markdown",
   "id": "aa510454",
   "metadata": {},
   "source": [
    "__Описание данных:__  \n",
    "Данные состоят из файлов, полученных из разных источников:\n",
    "\n",
    "- `data_arc_new.csv` — данные об электродах;\n",
    "- `data_bulk_new.csv` — данные о подаче сыпучих материалов (объём);\n",
    "- `data_bulk_time_new.csv` *—* данные о подаче сыпучих материалов (время);\n",
    "- `data_gas_new.csv` — данные о продувке сплава газом;\n",
    "- `data_temp_new.csv` — результаты измерения температуры;\n",
    "- `data_wire_new.csv` — данные о проволочных материалах (объём);\n",
    "- `data_wire_time_new.csv` — данные о проволочных материалах (время).\n",
    "\n",
    "Во всех файлах столбец `key` содержит номер партии. В файлах может быть несколько строк с одинаковым значением `key`: они соответствуют разным итерациям обработки.  \n",
    "Данные также находятся в тренажёре, в папке `/datasets/`."
   ]
  },
  {
   "cell_type": "markdown",
   "id": "84dfaba8",
   "metadata": {},
   "source": [
    "## Первичный анализ данных и планирование проекта"
   ]
  },
  {
   "cell_type": "markdown",
   "id": "11e40006",
   "metadata": {},
   "source": [
    "1. Загрузим данные.\n",
    "2. Исследуем датасеты.\n",
    "3. Создадим план по пунктам (от загрузки данных до отчёта).\n",
    "4. Сформулируем вопросы к Заказчику (если вопросов нет, пишем об этом).    "
   ]
  },
  {
   "cell_type": "markdown",
   "id": "4b428e58",
   "metadata": {},
   "source": [
    "### Загрузка данных"
   ]
  },
  {
   "cell_type": "markdown",
   "id": "5837a04c",
   "metadata": {},
   "source": [
    "Так как датасетов с данными несколько загрузим их в цикле. Для этого считаем названия файлов с методов библиотеки `os` и сохраним их. Через цикл в словаре пространства имен `vars()` создадим переменные и считаем в них содержимое файлов с данными."
   ]
  },
  {
   "cell_type": "code",
   "execution_count": 7,
   "id": "b329b615",
   "metadata": {
    "ExecuteTime": {
     "end_time": "2023-06-16T22:20:04.248310Z",
     "start_time": "2023-06-16T22:20:01.557174Z"
    }
   },
   "outputs": [],
   "source": [
    "from numba.core.errors import NumbaDeprecationWarning, NumbaPendingDeprecationWarning\n",
    "import warnings\n",
    "\n",
    "# запрет предупреждений от numba при импорте ydata_profiling\n",
    "warnings.simplefilter('ignore', category=NumbaDeprecationWarning)\n",
    "warnings.simplefilter('ignore', category=NumbaPendingDeprecationWarning)"
   ]
  },
  {
   "cell_type": "code",
   "execution_count": 8,
   "id": "94552490",
   "metadata": {
    "ExecuteTime": {
     "end_time": "2023-06-16T22:20:23.227956Z",
     "start_time": "2023-06-16T22:20:04.251312Z"
    }
   },
   "outputs": [
    {
     "name": "stdout",
     "output_type": "stream",
     "text": [
      "ydata_profiling:  v4.1.2\n"
     ]
    }
   ],
   "source": [
    "# установка профайлера\n",
    "try:\n",
    "    import ydata_profiling\n",
    "    print('ydata_profiling: ', ydata_profiling.__version__)\n",
    "except:\n",
    "    !pip install ydata-profiling"
   ]
  },
  {
   "cell_type": "code",
   "execution_count": 9,
   "id": "a0e74a34",
   "metadata": {
    "ExecuteTime": {
     "end_time": "2023-06-16T22:20:25.138604Z",
     "start_time": "2023-06-16T22:20:23.230960Z"
    }
   },
   "outputs": [
    {
     "name": "stdout",
     "output_type": "stream",
     "text": [
      "Optuna ver.: 3.1.0\n"
     ]
    }
   ],
   "source": [
    "# проверка наличия библиотек\n",
    "try:\n",
    "    import optuna\n",
    "    print('Optuna ver.:', optuna.__version__)\n",
    "except:\n",
    "    !pip install optuna"
   ]
  },
  {
   "cell_type": "code",
   "execution_count": 10,
   "id": "16e1cd7b",
   "metadata": {
    "ExecuteTime": {
     "end_time": "2023-06-16T22:20:26.553338Z",
     "start_time": "2023-06-16T22:20:25.141608Z"
    }
   },
   "outputs": [
    {
     "name": "stdout",
     "output_type": "stream",
     "text": [
      "LightGBM ver.: 3.3.5\n"
     ]
    }
   ],
   "source": [
    "# проверка наличия библиотек\n",
    "try:\n",
    "    import lightgbm as lgbm\n",
    "    print('LightGBM ver.:', lgbm.__version__)\n",
    "except:\n",
    "    !pip install lightgbm"
   ]
  },
  {
   "cell_type": "code",
   "execution_count": 69,
   "id": "68df4ee1",
   "metadata": {
    "ExecuteTime": {
     "end_time": "2023-06-16T22:39:19.980436Z",
     "start_time": "2023-06-16T22:39:19.952063Z"
    }
   },
   "outputs": [],
   "source": [
    "# импорт библиотек\n",
    "import os\n",
    "import pandas as pd\n",
    "import joblib\n",
    "\n",
    "import plotly.express as px\n",
    "import plotly.graph_objects as go\n",
    "from plotly.subplots import make_subplots\n",
    "import plotly.io as pio\n",
    "from ydata_profiling import ProfileReport\n",
    "\n",
    "import optuna\n",
    "from optuna.integration import OptunaSearchCV\n",
    "from optuna.distributions import CategoricalDistribution, FloatDistribution, IntDistribution\n",
    "\n",
    "from lightgbm import LGBMRegressor\n",
    "\n",
    "from sklearn.linear_model import LinearRegression, ElasticNet\n",
    "from sklearn.neighbors import KNeighborsRegressor\n",
    "from sklearn.dummy import DummyRegressor\n",
    "\n",
    "from sklearn.feature_selection import SelectKBest, chi2\n",
    "from sklearn.model_selection import GridSearchCV\n",
    "from sklearn.decomposition import PCA\n",
    "from sklearn.preprocessing import StandardScaler, QuantileTransformer\n",
    "from sklearn.pipeline import Pipeline\n",
    "from sklearn.model_selection import train_test_split\n",
    "from sklearn.metrics import mean_absolute_error\n",
    "\n",
    "# белая тема plotly\n",
    "pio.templates.default = 'plotly_white'\n",
    "# подавление несущественных предупреждений\n",
    "import warnings\n",
    "warnings.simplefilter('ignore')\n",
    "optuna.logging.set_verbosity(optuna.logging.CRITICAL)"
   ]
  },
  {
   "cell_type": "code",
   "execution_count": 12,
   "id": "0b715ada",
   "metadata": {
    "ExecuteTime": {
     "end_time": "2023-06-16T22:20:39.142272Z",
     "start_time": "2023-06-16T22:20:39.118729Z"
    }
   },
   "outputs": [
    {
     "name": "stdout",
     "output_type": "stream",
     "text": [
      "Названия файлов с данными:\n",
      " ['data_arc_new.csv', 'data_bulk_new.csv', 'data_bulk_time_new.csv', 'data_gas_new.csv', 'data_temp_new.csv', 'data_wire_new.csv', 'data_wire_time_new.csv']\n"
     ]
    }
   ],
   "source": [
    "dirpath = 'diploma_datasets'\n",
    "filenames = None\n",
    "# проверка наличия директории\n",
    "if os.path.exists(dirpath):\n",
    "    # пропустим путь к папке, название папки и считаем только название файлов\n",
    "    filenames = next(os.walk(dirpath))[2]\n",
    "# все csv-файлы в директории\n",
    "print('Названия файлов с данными:\\n', filenames)"
   ]
  },
  {
   "cell_type": "code",
   "execution_count": 13,
   "id": "0368ba35",
   "metadata": {
    "ExecuteTime": {
     "end_time": "2023-06-16T22:20:39.712199Z",
     "start_time": "2023-06-16T22:20:39.144266Z"
    }
   },
   "outputs": [
    {
     "name": "stdout",
     "output_type": "stream",
     "text": [
      "Названия датафреймов:\n",
      " ['data_arc', 'data_bulk', 'data_bulk_time', 'data_gas', 'data_temp', 'data_wire', 'data_wire_time']\n"
     ]
    }
   ],
   "source": [
    "# список с названиями датафреймов\n",
    "df_names = []\n",
    "# считывание csv-файлов по их названиям\n",
    "for i in range(len(filenames)):\n",
    "    # в качестве имен датафреймов возьмем начало названий csv-файлов\n",
    "    df_name = filenames[i].split('_new.csv')[0]\n",
    "    # для Windows\n",
    "    vars()[df_name] = pd.read_csv(dirpath+'\\\\'+filenames[i])\n",
    "    # для Linux\n",
    "#     vars()[df_name] = pd.read_csv(dirpath+'/'+filenames[i])\n",
    "    # запись названия датафреймов\n",
    "    df_names.append(df_name)\n",
    "print('Названия датафреймов:\\n', df_names)"
   ]
  },
  {
   "cell_type": "markdown",
   "id": "9d63e55e",
   "metadata": {},
   "source": [
    "### Первичный анализ данных"
   ]
  },
  {
   "cell_type": "markdown",
   "id": "94b64ba3",
   "metadata": {},
   "source": [
    "#### Сводный отчет по данным дататесетов"
   ]
  },
  {
   "cell_type": "markdown",
   "id": "ed4bfd63",
   "metadata": {},
   "source": [
    "Провести разведочный анализ данных _(EDA)_ можно с помощью профайлера `ydata_profiling` (бывший `pandas_profiling`). Результаты анализа выведем в цикле так как у нас несколько датасетов. Для каждого отчета укажем название датасета.  \n",
    "Взглянем на распределения исходных признаков для датасетов; посмотрим на число пропусков, аномалий, уникальных значений; оценим взаимную корреляцию признаков."
   ]
  },
  {
   "cell_type": "code",
   "execution_count": 14,
   "id": "01d230a3",
   "metadata": {
    "ExecuteTime": {
     "end_time": "2023-06-16T22:20:39.718704Z",
     "start_time": "2023-06-16T22:20:39.714203Z"
    }
   },
   "outputs": [],
   "source": [
    "# # EDA с помощью профайлера\n",
    "# for df_name in df_names:\n",
    "#     display(ProfileReport(vars()[df_name], title='ProfileReport: '+df_name))"
   ]
  },
  {
   "cell_type": "markdown",
   "id": "2e7d96e1",
   "metadata": {},
   "source": [
    "#### Обзор технологических стадий"
   ]
  },
  {
   "cell_type": "markdown",
   "id": "594ec089",
   "metadata": {
    "ExecuteTime": {
     "end_time": "2023-05-26T10:42:32.138523Z",
     "start_time": "2023-05-26T10:42:32.108002Z"
    }
   },
   "source": [
    "Сразу же поменяем тип данных столбцов с записями о дате-времени для всех датасетов."
   ]
  },
  {
   "cell_type": "code",
   "execution_count": 15,
   "id": "ce5f703b",
   "metadata": {
    "ExecuteTime": {
     "end_time": "2023-06-16T22:20:41.822370Z",
     "start_time": "2023-06-16T22:20:39.722715Z"
    }
   },
   "outputs": [],
   "source": [
    "# смена типа данных в таблице data_arc\n",
    "cols = data_arc.columns[1:3]\n",
    "data_arc[cols] = data_arc[cols].apply(pd.to_datetime, errors='coerce')\n",
    "\n",
    "# смена типа данных в таблице data_bulk_time\n",
    "cols = data_bulk_time.columns[1:]\n",
    "data_bulk_time[cols] = data_bulk_time[cols].apply(pd.to_datetime, errors='coerce')\n",
    "\n",
    "# смена типа данных в таблице data_temp\n",
    "cols = data_temp.columns[1]\n",
    "data_temp[cols] = data_temp[cols].apply(pd.to_datetime, errors='coerce')\n",
    "\n",
    "# смена типа данных в таблице data_wire_time\n",
    "cols = data_wire_time.columns[1:]\n",
    "data_wire_time[cols] = data_wire_time[cols].apply(pd.to_datetime, errors='coerce')"
   ]
  },
  {
   "cell_type": "markdown",
   "id": "36aa2297",
   "metadata": {},
   "source": [
    "Чтобы наглядно оценить, как по времени протекает процесс плавки, возьмем для примера одну из партий _(партия 5)_. Сам процесс состоит из нескольких типов операций: нагрев материалов, загрузка сыпучих материалов и проволоки, замеры температуры. Так как время подачи инертного газа не указано, то предполагаем, что он подаётся непрерывно в течении всего процесса плавки."
   ]
  },
  {
   "cell_type": "code",
   "execution_count": 16,
   "id": "238b32ab",
   "metadata": {
    "ExecuteTime": {
     "end_time": "2023-06-16T22:20:41.922376Z",
     "start_time": "2023-06-16T22:20:41.831378Z"
    }
   },
   "outputs": [],
   "source": [
    "# данные для графика стадий нагрева процесса плавки\n",
    "example_heating = data_arc[data_arc['key'] == 5][['Начало нагрева дугой','Конец нагрева дугой']]\n",
    "# генерация названий стадий\n",
    "stage_names = ['Heating '+str(i+1) for i in range(len(example_heating))]\n",
    "example_heating.columns = ['start', 'end']\n",
    "example_heating['Тип стадии'] = 'Heating'\n",
    "example_heating.index = stage_names\n",
    "\n",
    "# данные для графика стадий загрузки сыпучих материалов\n",
    "example_bulk = data_bulk_time[data_bulk_time['key'] == 5].dropna(axis=1).T[1:].apply(pd.to_datetime, errors='coerce')\n",
    "example_bulk.columns = ['start']\n",
    "example_bulk['Тип стадии'] = 'Bulk'\n",
    "\n",
    "# данные для графика стадий замера температуры\n",
    "example_temp = data_temp[data_temp['key'] == 5][['Время замера']]\n",
    "# генерация названий стадий\n",
    "stage_names = ['Temperature '+str(i+1) for i in range(len(example_temp))]\n",
    "example_temp.columns = ['start']\n",
    "example_temp['Тип стадии'] = 'Temperature'\n",
    "example_temp.index = stage_names\n",
    "\n",
    "# данные для графика стадий подачи проволоки\n",
    "example_wire = data_wire_time[data_wire_time['key'] == 5].dropna(axis=1).T[1:].apply(pd.to_datetime, errors='coerce')\n",
    "example_wire.columns = ['start']\n",
    "example_wire['Тип стадии'] = 'Wire'"
   ]
  },
  {
   "cell_type": "code",
   "execution_count": 17,
   "id": "e4bbc495",
   "metadata": {
    "ExecuteTime": {
     "end_time": "2023-06-16T22:20:42.084668Z",
     "start_time": "2023-06-16T22:20:41.924373Z"
    }
   },
   "outputs": [
    {
     "data": {
      "text/html": [
       "<div>\n",
       "<style scoped>\n",
       "    .dataframe tbody tr th:only-of-type {\n",
       "        vertical-align: middle;\n",
       "    }\n",
       "\n",
       "    .dataframe tbody tr th {\n",
       "        vertical-align: top;\n",
       "    }\n",
       "\n",
       "    .dataframe thead th {\n",
       "        text-align: right;\n",
       "    }\n",
       "</style>\n",
       "<table border=\"1\" class=\"dataframe\">\n",
       "  <thead>\n",
       "    <tr style=\"text-align: right;\">\n",
       "      <th></th>\n",
       "      <th>start</th>\n",
       "      <th>end</th>\n",
       "      <th>Тип стадии</th>\n",
       "    </tr>\n",
       "  </thead>\n",
       "  <tbody>\n",
       "    <tr>\n",
       "      <th>Heating 1</th>\n",
       "      <td>2019-05-03 13:11:13</td>\n",
       "      <td>2019-05-03 13:15:24</td>\n",
       "      <td>Heating</td>\n",
       "    </tr>\n",
       "    <tr>\n",
       "      <th>Heating 2</th>\n",
       "      <td>2019-05-03 13:18:21</td>\n",
       "      <td>2019-05-03 13:20:33</td>\n",
       "      <td>Heating</td>\n",
       "    </tr>\n",
       "    <tr>\n",
       "      <th>Heating 3</th>\n",
       "      <td>2019-05-03 13:23:32</td>\n",
       "      <td>2019-05-03 13:30:27</td>\n",
       "      <td>Heating</td>\n",
       "    </tr>\n",
       "    <tr>\n",
       "      <th>Heating 4</th>\n",
       "      <td>2019-05-03 13:32:44</td>\n",
       "      <td>2019-05-03 13:33:55</td>\n",
       "      <td>Heating</td>\n",
       "    </tr>\n",
       "    <tr>\n",
       "      <th>Bulk 4</th>\n",
       "      <td>2019-05-03 13:30:47</td>\n",
       "      <td>2019-05-03 13:30:57</td>\n",
       "      <td>Bulk</td>\n",
       "    </tr>\n",
       "    <tr>\n",
       "      <th>Bulk 12</th>\n",
       "      <td>2019-05-03 13:30:47</td>\n",
       "      <td>2019-05-03 13:30:57</td>\n",
       "      <td>Bulk</td>\n",
       "    </tr>\n",
       "    <tr>\n",
       "      <th>Bulk 14</th>\n",
       "      <td>2019-05-03 13:34:12</td>\n",
       "      <td>2019-05-03 13:34:22</td>\n",
       "      <td>Bulk</td>\n",
       "    </tr>\n",
       "    <tr>\n",
       "      <th>Bulk 15</th>\n",
       "      <td>2019-05-03 13:30:47</td>\n",
       "      <td>2019-05-03 13:30:57</td>\n",
       "      <td>Bulk</td>\n",
       "    </tr>\n",
       "    <tr>\n",
       "      <th>Temperature 1</th>\n",
       "      <td>2019-05-03 13:11:03</td>\n",
       "      <td>2019-05-03 13:11:13</td>\n",
       "      <td>Temperature</td>\n",
       "    </tr>\n",
       "    <tr>\n",
       "      <th>Temperature 2</th>\n",
       "      <td>2019-05-03 13:18:11</td>\n",
       "      <td>2019-05-03 13:18:21</td>\n",
       "      <td>Temperature</td>\n",
       "    </tr>\n",
       "    <tr>\n",
       "      <th>Temperature 3</th>\n",
       "      <td>2019-05-03 13:23:22</td>\n",
       "      <td>2019-05-03 13:23:32</td>\n",
       "      <td>Temperature</td>\n",
       "    </tr>\n",
       "    <tr>\n",
       "      <th>Temperature 4</th>\n",
       "      <td>2019-05-03 13:32:34</td>\n",
       "      <td>2019-05-03 13:32:44</td>\n",
       "      <td>Temperature</td>\n",
       "    </tr>\n",
       "    <tr>\n",
       "      <th>Temperature 5</th>\n",
       "      <td>2019-05-03 13:36:39</td>\n",
       "      <td>2019-05-03 13:36:49</td>\n",
       "      <td>Temperature</td>\n",
       "    </tr>\n",
       "    <tr>\n",
       "      <th>Wire 1</th>\n",
       "      <td>2019-05-03 13:20:44</td>\n",
       "      <td>2019-05-03 13:20:54</td>\n",
       "      <td>Wire</td>\n",
       "    </tr>\n",
       "    <tr>\n",
       "      <th>Wire 2</th>\n",
       "      <td>2019-05-03 13:15:34</td>\n",
       "      <td>2019-05-03 13:15:44</td>\n",
       "      <td>Wire</td>\n",
       "    </tr>\n",
       "    <tr>\n",
       "      <th>Gas 1</th>\n",
       "      <td>2019-05-03 13:15:34</td>\n",
       "      <td>2019-05-03 13:36:49</td>\n",
       "      <td>Gas</td>\n",
       "    </tr>\n",
       "  </tbody>\n",
       "</table>\n",
       "</div>"
      ],
      "text/plain": [
       "                            start                 end   Тип стадии\n",
       "Heating 1     2019-05-03 13:11:13 2019-05-03 13:15:24      Heating\n",
       "Heating 2     2019-05-03 13:18:21 2019-05-03 13:20:33      Heating\n",
       "Heating 3     2019-05-03 13:23:32 2019-05-03 13:30:27      Heating\n",
       "Heating 4     2019-05-03 13:32:44 2019-05-03 13:33:55      Heating\n",
       "Bulk 4        2019-05-03 13:30:47 2019-05-03 13:30:57         Bulk\n",
       "Bulk 12       2019-05-03 13:30:47 2019-05-03 13:30:57         Bulk\n",
       "Bulk 14       2019-05-03 13:34:12 2019-05-03 13:34:22         Bulk\n",
       "Bulk 15       2019-05-03 13:30:47 2019-05-03 13:30:57         Bulk\n",
       "Temperature 1 2019-05-03 13:11:03 2019-05-03 13:11:13  Temperature\n",
       "Temperature 2 2019-05-03 13:18:11 2019-05-03 13:18:21  Temperature\n",
       "Temperature 3 2019-05-03 13:23:22 2019-05-03 13:23:32  Temperature\n",
       "Temperature 4 2019-05-03 13:32:34 2019-05-03 13:32:44  Temperature\n",
       "Temperature 5 2019-05-03 13:36:39 2019-05-03 13:36:49  Temperature\n",
       "Wire 1        2019-05-03 13:20:44 2019-05-03 13:20:54         Wire\n",
       "Wire 2        2019-05-03 13:15:34 2019-05-03 13:15:44         Wire\n",
       "Gas 1         2019-05-03 13:15:34 2019-05-03 13:36:49          Gas"
      ]
     },
     "execution_count": 17,
     "metadata": {},
     "output_type": "execute_result"
    }
   ],
   "source": [
    "# сборка датафрейма для построения графика\n",
    "example_gantt = pd.concat([example_heating, example_bulk, example_temp, example_wire])\n",
    "# смена типа данных\n",
    "example_gantt['end'] = example_gantt['end'].fillna(example_gantt['start'] + pd.Timedelta(seconds=10))\n",
    "# добавление стадии подачи инертного газа от загрузки сырья до его розлива \n",
    "example_gas = pd.DataFrame([[example_wire['start'].min(), example_gantt.max()['end'], 'Gas']], \n",
    "                           columns=example_gantt.columns, index=['Gas 1'])\n",
    "example_gantt = pd.concat([example_gantt, example_gas])\n",
    "example_gantt"
   ]
  },
  {
   "cell_type": "code",
   "execution_count": 18,
   "id": "d8c900fc",
   "metadata": {
    "ExecuteTime": {
     "end_time": "2023-06-16T22:20:46.676037Z",
     "start_time": "2023-06-16T22:20:42.087668Z"
    }
   },
   "outputs": [
    {
     "data": {
      "image/png": "[encoded data removed]"
     },
     "metadata": {},
     "output_type": "display_data"
    }
   ],
   "source": [
    "# диаграмма Ганта для этапов плавки партии 5\n",
    "fig = px.timeline(example_gantt, x_start='start', x_end='end', y=example_gantt.index, color='Тип стадии', \n",
    "                  color_discrete_sequence=['#EF553B', '#AB63FA', '#FECB52', '#636EFA', '#19D3F3'],\n",
    "                  title=u'Диаграмма Ганта для технологических этапов плавления <br>на примере одной из партий')\n",
    "fig.update_layout(autosize=False, width=950, height=500)\n",
    "fig.update_xaxes(title=u'Временные отметки')\n",
    "fig.update_yaxes(autorange='reversed', title=u'Стадии технологического процесса')\n",
    "fig.show(renderer='png')"
   ]
  },
  {
   "cell_type": "markdown",
   "id": "b25d776b",
   "metadata": {},
   "source": [
    "Опишем типичный процесс плавки на основе полученной диаграммы. Сначала происходит разогрев печи и вводится основной объём сырья в виде железной проволоки. Начинается процесс перемешивания его инертным газом. Затем сырьё догревается и доводится до необходимого объема. Происходит его продолжительный нагрев перед внесением легирующих добавок, сырьё доводится до нужного состояния и температуры. Вносятся добавки и происходит дополнительный нагрев. Затем объём добавок корректируется.  \n",
    "У различных партий число технологических стадий будет отличаться, но будет иметь тот же характер."
   ]
  },
  {
   "cell_type": "markdown",
   "id": "fdcaed1a",
   "metadata": {},
   "source": [
    "### Выводы"
   ]
  },
  {
   "cell_type": "markdown",
   "id": "f03526c1",
   "metadata": {},
   "source": [
    "__Отмеченные особенности:__  \n",
    "\n",
    "\n",
    "`data_arc`:  \n",
    "- Признаки `\"Активная мощность\"` и `\"Реактивная мощность\"` практически линейно-зависимы. Это нормальное явление, так как активная и реактивная нагрузка находятся в одной электрической цепи и через них проходит один и тот же электрический ток.\n",
    "- _(Вопрос)_ Признак `\"Реактивная мощность\"` имеет незначительное количество больших отрицательных значений, что, возможно, является ошибкой в записи. Если это не ошибка записи, возможно это следствие аварии и стоит посмотреть на то, являлись остальные параметры процесса выплавки аномальными в тот момент или - нет. \n",
    "- Признаки `\"Начало нагрева дугой\"` и `\"Конец нагрева дугой\"` необходимо перевести в формат даты-времени.\n",
    "- Признак `\"Активная мощность\"` имеет колоколообразное распределение со сдвигом влево. Без аномалий признак \"Реактивная мощность\" имеет схожее распределение.\n",
    "\n",
    "`data_bulk`:\n",
    "- Часть признаков `\"Bulk ...\"` имеют либо очень большое число пробелов либо, вообще, в них наличествуют лишь отдельные значения. - - _(Вопрос)_ Возможно за номерами признаков скрываются номера отдельных агрегатов погрузки сыпучих материалов, скоре всего, каких-то упорядоченных стадий процесса выплавки за этим не стоит, а приоритетное использование некоторых может быть связно с их техническим состоянием. В этом случае пропущенные значения стоит заменить нулями.\n",
    "- _(Вопрос)_ Признак `\"key\"` (номер партии), в основном, уникален, но есть несколько повторений - вероятно, такие строки стоит объединить.\n",
    "- Признаки `\"Bulk ...\"` распределены достаточно беспорядочно, но есть сдвиг влево.\n",
    "\n",
    "`data_bulk_time`:\n",
    "- Признаки `\"Bulk ...\"`  необходимо перевести в формат даты-времени.\n",
    "- _(Вопрос)_ Так как номера признаков `\"Bulk ...\"` по времени не упорядочены, то стадийность они не отображают. Но их стоит связать по времени с признаками из других таблиц.\n",
    "\n",
    "`data_gas`:\n",
    "- _(Вопрос)_ Признак `\"key\"` (номер партии), в основном, уникален, но есть несколько повторений - вероятно, такие строки стоит объединить.\n",
    "- Признак `\"Газ 1\"` имеет колоколообразное распределение со сдвигом влево.\n",
    "\n",
    "`data_temp`:\n",
    "- Данные упорядочены по признаку `\"Время замера\"`. \n",
    "- Признак `\"Температура\"` имеет пропуски. Возможно стоит заменить их значениями последних замеров. Температура поддерживается примерно на уровне 1600 гр. Цельсия.\n",
    "- Так как признак `\"Температура\"` является целевым, то все остальные признаки других датасетов стоит синхронизировать с ним по времени, заполнение пропусков уже описывалось.\n",
    "\n",
    "`data_wire`:\n",
    "- Ситуация с признаками `\"Wire ...\"` повторяет ситуацию с признаками `\"Bulk ...\"` датасета `data_bulk`.\n",
    "\n",
    "`data_wire_time`\n",
    "- Признаки `\"Wire ...\"` необходимо перевести в формат даты-времени.\n",
    "- _(Вопрос)_ Пропуски в признаках `\"Wire ...\"`, видимо, связаны с тем, оборудование по соответствующими номерами не использовалось  в процессе выплавки."
   ]
  },
  {
   "cell_type": "markdown",
   "id": "60bbe065",
   "metadata": {},
   "source": [
    "__План действий:__  \n",
    "1. Сменить у части признаков тип на формат даты-времени.\n",
    "2. Объединить данные в единый датафрейм. Так как время для разных признаков не совпадает, нужно подумать о способе объединения. Предположительно основным датасетом должен быть `data_arc`, остальные должны быть скоординированы с ним по времени - в пределах партии объемы используемых материалов должны фиксироваться накопительным итогом на временных отметках из основного датасета. Возможно, достаточно будет объединения только по номеру партии - без синхронизации с общим суммированием объемов материалов с разных этапов.\n",
    "3. Пропуски заменить как было предложено ранее.\n",
    "4. Добавить дополнительные признаки: _продолжительность нагрева, расход энергии, предыдущее значение температуры, время с последней операции нагрева_.\n",
    "5. Проверка на мультиколлинеарность.\n",
    "6. Полученный датафрейм разбить на выборки.\n",
    "7. Обучить и провести валидацию несколько моделей.\n",
    "8. Выбрать лучшую модель, провести анализ важности факторов, протестировать модель.\n",
    "\n",
    "Возможно, стоит дополнить описание технологического процесса и ввести ряд формул."
   ]
  },
  {
   "cell_type": "markdown",
   "id": "21f028f0",
   "metadata": {},
   "source": [
    "__Вопросы к заказчику:__  \n",
    "Точное определение температуры плавления никак не поможет уменьшить энергопотребление. Значит важна модель сама по себе - с неё можно списать параметры обучения (веса признаков). Для процесса плавки необходимо поддержание температуры на определенном уровне. Чтобы уменьшить энергопотребление, этот уровень должен быть минимально необходимый. Параметры подачи материалов в печь можно полагать заданными. Постоянным стоит считать и напряжение, подаваемое в печь плавления. В этом случае активная и реактивная мощности будут определяться параметрами установки и количеством материалов в ковше плавления. Таким образом единственным регулируемым параметром остаётся продолжительность нагрева - именно он и будет отвечать за расход энергии.  \n",
    "С учетом того, что модель нужна прежде всего из-за своих весов, признаки нельзя подвергать численному искажению и это накладывает ограничения на выбор используемых методов и моделей.  \n",
    "\n",
    "_Вопрос 1:_ Проверить предположение выше и выяснить необходимость создания средств считывания весов или прогноза оптимальной продолжительности нагрева.  \n",
    "_Вопрос 2:_ Достаточно ли будет в проекте провести обучение на обобщенных параметрах каждой партии - т.е. по суммарным параметрам продолжительности нагрева, объемам материалов и пр. или необходимо отработать каждую стадию нагрева и поступления материалов.  \n",
    "_Вопрос 3:_ Уточнить особенности технологического процесса."
   ]
  },
  {
   "cell_type": "markdown",
   "id": "477941d1",
   "metadata": {},
   "source": [
    "## Предобработка данных, разработка модели"
   ]
  },
  {
   "cell_type": "markdown",
   "id": "099e591b",
   "metadata": {},
   "source": [
    "1. Проведём предобработку данных (удаление аномалий, заполнение пропусков, генерация новых признаков, агрегирование по ключу).\n",
    "2. Объединим данные в один датасет.\n",
    "3. Исследуем объединённый датасет, проведём предобработку признаков (с учётом используемых моделей).\n",
    "4. Разделим данные на выборки и проведём масштабирование (при необходимости).\n",
    "5. Сделаем подбор гиперпараметров для моделей, выберем лучшую модель."
   ]
  },
  {
   "cell_type": "markdown",
   "id": "900332d1",
   "metadata": {},
   "source": [
    "Определимся с форматом данных для обучения. Так как число технологических операций при выплавке стали разных партий сильно разниться, а процессы нагрева расплава достаточно равномерны, периоды остывания непродолжительны - можно проводить обучения на  всех данных по отдельным партий, без разбивки на стадии. Целевой переменной в этом случае будет являться значение последней замеренной температуры расплава. Однако, мы хотели бы использовать модель и для прогнозирования температуры внутри технологического цикла. Это возможно сделать, если признаки будут носить общий характер и определяться не конкретными технологическими операциями, а временными границами, которые определяются температурными замерами. \n",
    "\n",
    "Определимся с признаками. Список признаков для обучения:  \n",
    "- Конечная температура (целевой признак);\n",
    "- Начальное значение температуры;\n",
    "- Последние значения активной и реактивной мощности;\n",
    "- Продолжительность последних периодов нагрева и остывания;\n",
    "- Общие продолжительности нагрева и остывания;\n",
    "- Общее количество затраченной энергии в $ед.мощности\\times сек.$ по активной и реактивной нагрузке;\n",
    "- Суммарные объёмы основного сырья, легирующих добавок, технологического газа."
   ]
  },
  {
   "cell_type": "markdown",
   "id": "2509525a",
   "metadata": {},
   "source": [
    "### Создание сводной таблицы признаков"
   ]
  },
  {
   "cell_type": "markdown",
   "id": "cf3f8b9d",
   "metadata": {},
   "source": [
    "Так как температура является целевой переменной, то границами технологических стадий будут периоды замеров температуры. Создадим функцию, которая будет определять такие границы. Также ограничим обработку данных только партиями, где есть данные по двум и более замерам.  \n",
    "Для работы функции преобразование исходных датасетов проводить не будем. Сводную таблицу будет генерировать прямо из них, потому тот же формат датасетов может использоваться при прогнозировании температуры внутри техпроцесса почти без изменения кода. "
   ]
  },
  {
   "cell_type": "code",
   "execution_count": 19,
   "id": "1c2e1530",
   "metadata": {
    "ExecuteTime": {
     "end_time": "2023-06-16T22:20:46.687170Z",
     "start_time": "2023-06-16T22:20:46.679036Z"
    }
   },
   "outputs": [],
   "source": [
    "# функция получения временных границ процесса\n",
    "def get_temperature(data, n_party, n_stage=None, all_stages=False):\n",
    "    '''\n",
    "    Функция возвращает время и температуру для указанных номеров партии и замера, начиная с 1-го.    \n",
    "    Также возвращются данные предшествующего замера и время начала и завершения плавки всей партии.\n",
    "    Если стоит указатель all_stages=True, то возвращаются граничные данные всей партии.\n",
    "    '''\n",
    "    if 'key' not in data.columns:\n",
    "        print('Неверный датасет!')\n",
    "        return\n",
    "    if n_party not in data['key']:\n",
    "        print('Партия отсутствует!')\n",
    "        return\n",
    "    party_mesurements = data[data['key'] == n_party]\n",
    "    if n_stage is not None and (n_stage > len(party_mesurements) - 1 or n_stage <= 0):\n",
    "        print('Измерение отсутствует!')\n",
    "        return\n",
    "    else:\n",
    "        if all_stages == False:        \n",
    "            return (\n",
    "                party_mesurements.iloc[n_stage, 1], party_mesurements.iloc[n_stage, 2],\n",
    "                party_mesurements.iloc[n_stage-1, 1], party_mesurements.iloc[n_stage-1, 2],\n",
    "                party_mesurements.iloc[len(party_mesurements) - 1, 1], party_mesurements.iloc[0, 1]\n",
    "            )\n",
    "        elif all_stages == True:\n",
    "            return (\n",
    "                party_mesurements.iloc[len(party_mesurements) - 1, 1], party_mesurements.iloc[len(party_mesurements) - 1, 2],\n",
    "                party_mesurements.iloc[0, 1], party_mesurements.iloc[0, 2]\n",
    "            )"
   ]
  },
  {
   "cell_type": "markdown",
   "id": "abac5d5c",
   "metadata": {},
   "source": [
    "Перед группированием данных и созданием сводной таблицы проверим наличие дубликатов."
   ]
  },
  {
   "cell_type": "code",
   "execution_count": 20,
   "id": "048bb346",
   "metadata": {
    "ExecuteTime": {
     "end_time": "2023-06-16T22:20:46.937873Z",
     "start_time": "2023-06-16T22:20:46.689168Z"
    }
   },
   "outputs": [
    {
     "name": "stdout",
     "output_type": "stream",
     "text": [
      "В датасете data_arc дубликаты не обнаружены.\n",
      "В датасете data_bulk дубликаты не обнаружены.\n",
      "В датасете data_bulk_time дубликаты не обнаружены.\n",
      "В датасете data_gas дубликаты не обнаружены.\n",
      "В датасете data_temp дубликаты не обнаружены.\n",
      "В датасете data_wire дубликаты не обнаружены.\n",
      "В датасете data_wire_time дубликаты не обнаружены.\n"
     ]
    }
   ],
   "source": [
    "# проверка на дубликаты\n",
    "for name in df_names:\n",
    "    if vars()[name].duplicated().sum() > 0:\n",
    "        print(f'В датасете {name} обнаружены дубликаты!')\n",
    "    else:\n",
    "        print(f'В датасете {name} дубликаты не обнаружены.')"
   ]
  },
  {
   "cell_type": "markdown",
   "id": "3b8c7d77",
   "metadata": {},
   "source": [
    "Индексами в сводной таблице станут номера партий. Необходимо исключить данные, которые недостаточны для заполнения всех значений признаков. В частности, будут исключены партии, где замеры температуры проводились менее 2 раз. "
   ]
  },
  {
   "cell_type": "code",
   "execution_count": 21,
   "id": "eece4bad",
   "metadata": {
    "ExecuteTime": {
     "end_time": "2023-06-16T22:20:47.098741Z",
     "start_time": "2023-06-16T22:20:46.940869Z"
    }
   },
   "outputs": [],
   "source": [
    "# список с номерами партий с наличием данных по нескольким замерам\n",
    "keys = data_temp['key'].value_counts().where(data_temp['key'].value_counts() > 1).dropna()\n",
    "keys = sorted(list(keys.index))\n",
    "# исключение номеров партий с неполными данными\n",
    "keys = list(set(keys) & set(data_arc['key']) & set(data_bulk['key']) & set(data_wire['key']) & set(data_gas['key']))"
   ]
  },
  {
   "cell_type": "code",
   "execution_count": 22,
   "id": "70335889",
   "metadata": {
    "ExecuteTime": {
     "end_time": "2023-06-16T22:20:47.506332Z",
     "start_time": "2023-06-16T22:20:47.100745Z"
    }
   },
   "outputs": [],
   "source": [
    "arc_features = data_arc.copy()\n",
    "# названия в стиле snake_case\n",
    "arc_features.columns = ['key', 'heating_start', 'heating_end', 'active_power', 'reactive_power']\n",
    "# продолжительность нагрева в секундах\n",
    "arc_features['heating_duration'] = (arc_features['heating_end'] - arc_features['heating_start']).apply(lambda x: x.seconds)\n",
    "# потребление электроэнергии\n",
    "arc_features['active_power_consumption'] = arc_features['heating_duration'] * arc_features['active_power']\n",
    "arc_features['reactive_power_consumption'] = arc_features['heating_duration'] * arc_features['reactive_power']"
   ]
  },
  {
   "cell_type": "code",
   "execution_count": 23,
   "id": "ef4b125f",
   "metadata": {
    "ExecuteTime": {
     "end_time": "2023-06-16T22:20:47.694668Z",
     "start_time": "2023-06-16T22:20:47.509335Z"
    }
   },
   "outputs": [
    {
     "name": "stdout",
     "output_type": "stream",
     "text": [
      "Индексы датасетов с объёмами основного сырья и временными отметками его загрузки совпадают.\n",
      "Индексы датасетов с объёмами легирующих добавок и временными отметками их внесения совпадают.\n"
     ]
    }
   ],
   "source": [
    "# проверка совпадения индексов в датасетах\n",
    "if list(data_wire.index) == list(data_wire_time.index):\n",
    "    print('Индексы датасетов с объёмами основного сырья и временными отметками его загрузки совпадают.')\n",
    "else:\n",
    "    print('Индексы датасетов с объёмами основного сырья и временными отметками его загрузки не совпадают.!')\n",
    "\n",
    "if list(data_bulk.index) == list(data_bulk_time.index):\n",
    "    print('Индексы датасетов с объёмами легирующих добавок и временными отметками их внесения совпадают.')\n",
    "else:\n",
    "    print('Индексы датасетов с объёмами легирующих добавок и временными отметками их внесения не совпадают!')"
   ]
  },
  {
   "cell_type": "markdown",
   "id": "429cb1cd",
   "metadata": {},
   "source": [
    "Создадим таблицу с граничными значениями продолжительности процесса выплавки на основе данных по замерам температуры стали."
   ]
  },
  {
   "cell_type": "code",
   "execution_count": 24,
   "id": "44c7d563",
   "metadata": {
    "ExecuteTime": {
     "end_time": "2023-06-16T22:21:54.549178Z",
     "start_time": "2023-06-16T22:20:47.696669Z"
    }
   },
   "outputs": [],
   "source": [
    "data_draft = None\n",
    "# проход всем партиям\n",
    "for i in keys:\n",
    "    end, temp_end, start, temp_start = get_temperature(data_temp, n_party=i, all_stages=True)\n",
    "    # срез по признакам нагрева для текущей партии\n",
    "    current_arc = arc_features[(arc_features['key'] == i)\n",
    "                               & (arc_features['heating_start'] >= start)\n",
    "                               & (arc_features['heating_end'] <= end)].copy()\n",
    "    # признаки энегопотребления по показателям последней стадии нагрева\n",
    "    current_arc_last = current_arc.groupby(['key'])[current_arc.columns[2:]].last()\n",
    "    current_arc_last.columns = [col + '_last' for col in current_arc_last.columns]\n",
    "    # признаки энегопотребления по суммарным показателям процесса плавки в пределах технологической стадии\n",
    "    current_arc_sum = current_arc.groupby(['key'])[current_arc.columns[5:]].sum()\n",
    "    current_arc_sum.columns = [col + '_sum' for col in current_arc_sum.columns]\n",
    "    \n",
    "    # срез данных о времени загрузки основного сырья для текущей партии\n",
    "    current_wire_index = data_wire_time[(data_wire_time['key'] == i)]\n",
    "    # получение индекса по признаку объёма загрузки основного сырья для текущей партии\n",
    "    current_wire_index = \\\n",
    "    current_wire_index[(current_wire_index.iloc[:, 1:] >= start)\n",
    "                       & (current_wire_index.iloc[:, 1:] <= end)].dropna(axis=1, how='all').dropna(axis=0, how='all').index\n",
    "    current_wire = data_wire.loc[current_wire_index]\n",
    "    # общий объём загрузки основного сырья в пределах технологической стадии\n",
    "    current_wire = current_wire.iloc[:, 1:].sum(axis=1)\n",
    "    current_wire = pd.Series(current_wire.values, index=[i], name='wire_total')\n",
    "    \n",
    "    # срез данных о времени внесения легирующих добавок для текущей партии\n",
    "    current_bulk_index = data_bulk_time[(data_bulk_time['key'] == i)]\n",
    "    # получение индекса по признаку объёма внесения легирующих добавок для текущей партии\n",
    "    current_bulk_index = \\\n",
    "    current_bulk_index[(current_bulk_index.iloc[:, 1:] >= start)\n",
    "                       & (current_bulk_index.iloc[:, 1:] <= end)].dropna(axis=1, how='all').dropna(axis=0, how='all').index\n",
    "    current_bulk = data_bulk.loc[current_bulk_index]\n",
    "    # общий объём внесения легирующих добавок в пределах технологической стадии\n",
    "    current_bulk = current_bulk.iloc[:, 1:].sum(axis=1)\n",
    "    current_bulk = pd.Series(current_bulk.values, index=[i], name='bulk_total')\n",
    "    \n",
    "    # общий объём использумого технологического газа\n",
    "    current_gas = data_gas[(data_gas['key'] == i)].copy()\n",
    "    current_gas.rename({'Газ 1': 'gas_total'}, axis=1, inplace=True)\n",
    "    current_gas.set_index('key', drop=True, inplace=True)\n",
    "    \n",
    "    # признаки по данным замеров температуры\n",
    "    current_temp = pd.DataFrame({'temperature_first':temp_start,\n",
    "                                 'measuring_time_first':start,\n",
    "                                 'temperature_fin':temp_end,\n",
    "                                 'measuring_time_fin':end}, index=[i])\n",
    "    \n",
    "    current_joined = \\\n",
    "    pd.concat([current_arc_last, current_arc_sum, current_wire, current_bulk, current_gas, current_temp], axis=1)\n",
    "    # добавление данный по партии в сводный датасет\n",
    "    data_draft = pd.concat([data_draft, current_joined])\n"
   ]
  },
  {
   "cell_type": "code",
   "execution_count": 25,
   "id": "7133e2c5",
   "metadata": {
    "ExecuteTime": {
     "end_time": "2023-06-16T22:21:54.619929Z",
     "start_time": "2023-06-16T22:21:54.551178Z"
    }
   },
   "outputs": [
    {
     "data": {
      "text/html": [
       "<div>\n",
       "<style scoped>\n",
       "    .dataframe tbody tr th:only-of-type {\n",
       "        vertical-align: middle;\n",
       "    }\n",
       "\n",
       "    .dataframe tbody tr th {\n",
       "        vertical-align: top;\n",
       "    }\n",
       "\n",
       "    .dataframe thead th {\n",
       "        text-align: right;\n",
       "    }\n",
       "</style>\n",
       "<table border=\"1\" class=\"dataframe\">\n",
       "  <thead>\n",
       "    <tr style=\"text-align: right;\">\n",
       "      <th></th>\n",
       "      <th>heating_duration_sum</th>\n",
       "      <th>cooling_duration_sum</th>\n",
       "      <th>heating_duration_last</th>\n",
       "      <th>cooling_duration_last</th>\n",
       "      <th>active_power_consumption_sum</th>\n",
       "      <th>reactive_power_consumption_sum</th>\n",
       "      <th>active_power_last</th>\n",
       "      <th>reactive_power_last</th>\n",
       "      <th>active_power_consumption_last</th>\n",
       "      <th>reactive_power_consumption_last</th>\n",
       "      <th>wire_total</th>\n",
       "      <th>bulk_total</th>\n",
       "      <th>gas_total</th>\n",
       "      <th>temperature_first</th>\n",
       "      <th>temperature_fin</th>\n",
       "    </tr>\n",
       "  </thead>\n",
       "  <tbody>\n",
       "    <tr>\n",
       "      <th>1</th>\n",
       "      <td>1098</td>\n",
       "      <td>616</td>\n",
       "      <td>148</td>\n",
       "      <td>121</td>\n",
       "      <td>628.616930</td>\n",
       "      <td>444.489437</td>\n",
       "      <td>0.867133</td>\n",
       "      <td>0.643691</td>\n",
       "      <td>128.335684</td>\n",
       "      <td>95.266268</td>\n",
       "      <td>60.059998</td>\n",
       "      <td>553.0</td>\n",
       "      <td>29.749986</td>\n",
       "      <td>1571.0</td>\n",
       "      <td>1613.0</td>\n",
       "    </tr>\n",
       "    <tr>\n",
       "      <th>2</th>\n",
       "      <td>811</td>\n",
       "      <td>454</td>\n",
       "      <td>210</td>\n",
       "      <td>111</td>\n",
       "      <td>395.281800</td>\n",
       "      <td>274.689995</td>\n",
       "      <td>0.786322</td>\n",
       "      <td>0.542517</td>\n",
       "      <td>165.127620</td>\n",
       "      <td>113.928570</td>\n",
       "      <td>96.052315</td>\n",
       "      <td>582.0</td>\n",
       "      <td>12.555561</td>\n",
       "      <td>1581.0</td>\n",
       "      <td>1602.0</td>\n",
       "    </tr>\n",
       "    <tr>\n",
       "      <th>3</th>\n",
       "      <td>655</td>\n",
       "      <td>1098</td>\n",
       "      <td>65</td>\n",
       "      <td>218</td>\n",
       "      <td>581.774624</td>\n",
       "      <td>428.038924</td>\n",
       "      <td>0.421693</td>\n",
       "      <td>0.272562</td>\n",
       "      <td>27.410045</td>\n",
       "      <td>17.716530</td>\n",
       "      <td>91.160157</td>\n",
       "      <td>544.0</td>\n",
       "      <td>28.554793</td>\n",
       "      <td>1596.0</td>\n",
       "      <td>1599.0</td>\n",
       "    </tr>\n",
       "    <tr>\n",
       "      <th>4</th>\n",
       "      <td>741</td>\n",
       "      <td>479</td>\n",
       "      <td>278</td>\n",
       "      <td>117</td>\n",
       "      <td>543.710274</td>\n",
       "      <td>413.941977</td>\n",
       "      <td>0.864995</td>\n",
       "      <td>0.654661</td>\n",
       "      <td>240.468610</td>\n",
       "      <td>181.995758</td>\n",
       "      <td>89.063515</td>\n",
       "      <td>595.0</td>\n",
       "      <td>18.841219</td>\n",
       "      <td>1601.0</td>\n",
       "      <td>1625.0</td>\n",
       "    </tr>\n",
       "    <tr>\n",
       "      <th>5</th>\n",
       "      <td>869</td>\n",
       "      <td>667</td>\n",
       "      <td>71</td>\n",
       "      <td>164</td>\n",
       "      <td>412.180480</td>\n",
       "      <td>303.070918</td>\n",
       "      <td>0.892957</td>\n",
       "      <td>0.660807</td>\n",
       "      <td>63.399947</td>\n",
       "      <td>46.917297</td>\n",
       "      <td>98.352796</td>\n",
       "      <td>584.0</td>\n",
       "      <td>5.413692</td>\n",
       "      <td>1576.0</td>\n",
       "      <td>1602.0</td>\n",
       "    </tr>\n",
       "    <tr>\n",
       "      <th>...</th>\n",
       "      <td>...</td>\n",
       "      <td>...</td>\n",
       "      <td>...</td>\n",
       "      <td>...</td>\n",
       "      <td>...</td>\n",
       "      <td>...</td>\n",
       "      <td>...</td>\n",
       "      <td>...</td>\n",
       "      <td>...</td>\n",
       "      <td>...</td>\n",
       "      <td>...</td>\n",
       "      <td>...</td>\n",
       "      <td>...</td>\n",
       "      <td>...</td>\n",
       "      <td>...</td>\n",
       "    </tr>\n",
       "    <tr>\n",
       "      <th>2495</th>\n",
       "      <td>723</td>\n",
       "      <td>657</td>\n",
       "      <td>99</td>\n",
       "      <td>162</td>\n",
       "      <td>571.539318</td>\n",
       "      <td>392.280675</td>\n",
       "      <td>0.862070</td>\n",
       "      <td>0.661810</td>\n",
       "      <td>85.344930</td>\n",
       "      <td>65.519190</td>\n",
       "      <td>89.150879</td>\n",
       "      <td>719.0</td>\n",
       "      <td>7.125735</td>\n",
       "      <td>1570.0</td>\n",
       "      <td>1591.0</td>\n",
       "    </tr>\n",
       "    <tr>\n",
       "      <th>2496</th>\n",
       "      <td>940</td>\n",
       "      <td>765</td>\n",
       "      <td>228</td>\n",
       "      <td>126</td>\n",
       "      <td>675.222467</td>\n",
       "      <td>456.987237</td>\n",
       "      <td>1.309449</td>\n",
       "      <td>0.824095</td>\n",
       "      <td>298.554372</td>\n",
       "      <td>187.893660</td>\n",
       "      <td>114.179527</td>\n",
       "      <td>796.0</td>\n",
       "      <td>9.412616</td>\n",
       "      <td>1554.0</td>\n",
       "      <td>1591.0</td>\n",
       "    </tr>\n",
       "    <tr>\n",
       "      <th>2497</th>\n",
       "      <td>569</td>\n",
       "      <td>393</td>\n",
       "      <td>206</td>\n",
       "      <td>128</td>\n",
       "      <td>680.326674</td>\n",
       "      <td>462.862778</td>\n",
       "      <td>1.270521</td>\n",
       "      <td>0.906829</td>\n",
       "      <td>261.727326</td>\n",
       "      <td>186.806774</td>\n",
       "      <td>103.134723</td>\n",
       "      <td>665.0</td>\n",
       "      <td>6.271699</td>\n",
       "      <td>1571.0</td>\n",
       "      <td>1589.0</td>\n",
       "    </tr>\n",
       "    <tr>\n",
       "      <th>2498</th>\n",
       "      <td>750</td>\n",
       "      <td>770</td>\n",
       "      <td>41</td>\n",
       "      <td>152</td>\n",
       "      <td>474.918795</td>\n",
       "      <td>335.536203</td>\n",
       "      <td>0.508786</td>\n",
       "      <td>0.363916</td>\n",
       "      <td>20.860226</td>\n",
       "      <td>14.920556</td>\n",
       "      <td>118.110717</td>\n",
       "      <td>733.0</td>\n",
       "      <td>14.953657</td>\n",
       "      <td>1591.0</td>\n",
       "      <td>1594.0</td>\n",
       "    </tr>\n",
       "    <tr>\n",
       "      <th>2499</th>\n",
       "      <td>883</td>\n",
       "      <td>654</td>\n",
       "      <td>71</td>\n",
       "      <td>161</td>\n",
       "      <td>427.922553</td>\n",
       "      <td>316.073205</td>\n",
       "      <td>0.296379</td>\n",
       "      <td>0.229071</td>\n",
       "      <td>21.042909</td>\n",
       "      <td>16.264041</td>\n",
       "      <td>160.166238</td>\n",
       "      <td>633.0</td>\n",
       "      <td>11.336151</td>\n",
       "      <td>1569.0</td>\n",
       "      <td>1603.0</td>\n",
       "    </tr>\n",
       "  </tbody>\n",
       "</table>\n",
       "<p>2329 rows × 15 columns</p>\n",
       "</div>"
      ],
      "text/plain": [
       "      heating_duration_sum  cooling_duration_sum  heating_duration_last  \\\n",
       "1                     1098                   616                    148   \n",
       "2                      811                   454                    210   \n",
       "3                      655                  1098                     65   \n",
       "4                      741                   479                    278   \n",
       "5                      869                   667                     71   \n",
       "...                    ...                   ...                    ...   \n",
       "2495                   723                   657                     99   \n",
       "2496                   940                   765                    228   \n",
       "2497                   569                   393                    206   \n",
       "2498                   750                   770                     41   \n",
       "2499                   883                   654                     71   \n",
       "\n",
       "      cooling_duration_last  active_power_consumption_sum  \\\n",
       "1                       121                    628.616930   \n",
       "2                       111                    395.281800   \n",
       "3                       218                    581.774624   \n",
       "4                       117                    543.710274   \n",
       "5                       164                    412.180480   \n",
       "...                     ...                           ...   \n",
       "2495                    162                    571.539318   \n",
       "2496                    126                    675.222467   \n",
       "2497                    128                    680.326674   \n",
       "2498                    152                    474.918795   \n",
       "2499                    161                    427.922553   \n",
       "\n",
       "      reactive_power_consumption_sum  active_power_last  reactive_power_last  \\\n",
       "1                         444.489437           0.867133             0.643691   \n",
       "2                         274.689995           0.786322             0.542517   \n",
       "3                         428.038924           0.421693             0.272562   \n",
       "4                         413.941977           0.864995             0.654661   \n",
       "5                         303.070918           0.892957             0.660807   \n",
       "...                              ...                ...                  ...   \n",
       "2495                      392.280675           0.862070             0.661810   \n",
       "2496                      456.987237           1.309449             0.824095   \n",
       "2497                      462.862778           1.270521             0.906829   \n",
       "2498                      335.536203           0.508786             0.363916   \n",
       "2499                      316.073205           0.296379             0.229071   \n",
       "\n",
       "      active_power_consumption_last  reactive_power_consumption_last  \\\n",
       "1                        128.335684                        95.266268   \n",
       "2                        165.127620                       113.928570   \n",
       "3                         27.410045                        17.716530   \n",
       "4                        240.468610                       181.995758   \n",
       "5                         63.399947                        46.917297   \n",
       "...                             ...                              ...   \n",
       "2495                      85.344930                        65.519190   \n",
       "2496                     298.554372                       187.893660   \n",
       "2497                     261.727326                       186.806774   \n",
       "2498                      20.860226                        14.920556   \n",
       "2499                      21.042909                        16.264041   \n",
       "\n",
       "      wire_total  bulk_total  gas_total  temperature_first  temperature_fin  \n",
       "1      60.059998       553.0  29.749986             1571.0           1613.0  \n",
       "2      96.052315       582.0  12.555561             1581.0           1602.0  \n",
       "3      91.160157       544.0  28.554793             1596.0           1599.0  \n",
       "4      89.063515       595.0  18.841219             1601.0           1625.0  \n",
       "5      98.352796       584.0   5.413692             1576.0           1602.0  \n",
       "...          ...         ...        ...                ...              ...  \n",
       "2495   89.150879       719.0   7.125735             1570.0           1591.0  \n",
       "2496  114.179527       796.0   9.412616             1554.0           1591.0  \n",
       "2497  103.134723       665.0   6.271699             1571.0           1589.0  \n",
       "2498  118.110717       733.0  14.953657             1591.0           1594.0  \n",
       "2499  160.166238       633.0  11.336151             1569.0           1603.0  \n",
       "\n",
       "[2329 rows x 15 columns]"
      ]
     },
     "execution_count": 25,
     "metadata": {},
     "output_type": "execute_result"
    }
   ],
   "source": [
    "features = data_draft.dropna().copy()\n",
    "# внесение дополнительных признаков\n",
    "features['cooling_duration_last'] = \\\n",
    "(features['measuring_time_fin'] - features['heating_end_last']).apply(lambda x: x.seconds)\n",
    "features['melting_duration'] = \\\n",
    "(features['measuring_time_fin'] - features['measuring_time_first']).apply(lambda x: x.seconds)\n",
    "features['cooling_duration_sum'] = features['melting_duration'] - features['heating_duration_sum']\n",
    "\n",
    "# перестановка столбцов в сводной таблице\n",
    "features = features[\n",
    "    ['heating_duration_sum', 'cooling_duration_sum',\n",
    "     'heating_duration_last', 'cooling_duration_last', \n",
    "     'active_power_consumption_sum', 'reactive_power_consumption_sum',\n",
    "     'active_power_last', 'reactive_power_last',\n",
    "     'active_power_consumption_last',  'reactive_power_consumption_last',\n",
    "     'wire_total', 'bulk_total', 'gas_total',\n",
    "     'temperature_first', 'temperature_fin']\n",
    "]\n",
    "features"
   ]
  },
  {
   "cell_type": "markdown",
   "id": "6fd42ffe",
   "metadata": {},
   "source": [
    "### Предобработка признаков"
   ]
  },
  {
   "cell_type": "markdown",
   "id": "5919ce5e",
   "metadata": {
    "ExecuteTime": {
     "end_time": "2023-05-28T23:21:18.800776Z",
     "start_time": "2023-05-28T23:21:18.778343Z"
    }
   },
   "source": [
    "Число датасетов и соответственно признаков уменьшилось, так что проведём экспресс-оценку созданных нами признаков привычными методами, без помощи профайлера."
   ]
  },
  {
   "cell_type": "code",
   "execution_count": 26,
   "id": "d2cb47a0",
   "metadata": {
    "ExecuteTime": {
     "end_time": "2023-06-16T22:21:54.661936Z",
     "start_time": "2023-06-16T22:21:54.624943Z"
    },
    "scrolled": true
   },
   "outputs": [],
   "source": [
    "#ProfileReport(features)"
   ]
  },
  {
   "cell_type": "code",
   "execution_count": 27,
   "id": "66551922",
   "metadata": {
    "ExecuteTime": {
     "end_time": "2023-06-16T22:21:54.786533Z",
     "start_time": "2023-06-16T22:21:54.667946Z"
    }
   },
   "outputs": [
    {
     "name": "stdout",
     "output_type": "stream",
     "text": [
      "<class 'pandas.core.frame.DataFrame'>\n",
      "Int64Index: 2329 entries, 1 to 2499\n",
      "Data columns (total 15 columns):\n",
      " #   Column                           Non-Null Count  Dtype  \n",
      "---  ------                           --------------  -----  \n",
      " 0   heating_duration_sum             2329 non-null   int64  \n",
      " 1   cooling_duration_sum             2329 non-null   int64  \n",
      " 2   heating_duration_last            2329 non-null   int64  \n",
      " 3   cooling_duration_last            2329 non-null   int64  \n",
      " 4   active_power_consumption_sum     2329 non-null   float64\n",
      " 5   reactive_power_consumption_sum   2329 non-null   float64\n",
      " 6   active_power_last                2329 non-null   float64\n",
      " 7   reactive_power_last              2329 non-null   float64\n",
      " 8   active_power_consumption_last    2329 non-null   float64\n",
      " 9   reactive_power_consumption_last  2329 non-null   float64\n",
      " 10  wire_total                       2329 non-null   float64\n",
      " 11  bulk_total                       2329 non-null   float64\n",
      " 12  gas_total                        2329 non-null   float64\n",
      " 13  temperature_first                2329 non-null   float64\n",
      " 14  temperature_fin                  2329 non-null   float64\n",
      "dtypes: float64(11), int64(4)\n",
      "memory usage: 291.1 KB\n"
     ]
    }
   ],
   "source": [
    "# общая информация по новым признакам\n",
    "features.info()"
   ]
  },
  {
   "cell_type": "code",
   "execution_count": 28,
   "id": "b32d0cbf",
   "metadata": {
    "ExecuteTime": {
     "end_time": "2023-06-16T22:21:54.956260Z",
     "start_time": "2023-06-16T22:21:54.789539Z"
    }
   },
   "outputs": [
    {
     "data": {
      "text/html": [
       "<div>\n",
       "<style scoped>\n",
       "    .dataframe tbody tr th:only-of-type {\n",
       "        vertical-align: middle;\n",
       "    }\n",
       "\n",
       "    .dataframe tbody tr th {\n",
       "        vertical-align: top;\n",
       "    }\n",
       "\n",
       "    .dataframe thead th {\n",
       "        text-align: right;\n",
       "    }\n",
       "</style>\n",
       "<table border=\"1\" class=\"dataframe\">\n",
       "  <thead>\n",
       "    <tr style=\"text-align: right;\">\n",
       "      <th></th>\n",
       "      <th>heating_duration_sum</th>\n",
       "      <th>cooling_duration_sum</th>\n",
       "      <th>heating_duration_last</th>\n",
       "      <th>cooling_duration_last</th>\n",
       "      <th>active_power_consumption_sum</th>\n",
       "      <th>reactive_power_consumption_sum</th>\n",
       "      <th>active_power_last</th>\n",
       "      <th>reactive_power_last</th>\n",
       "      <th>active_power_consumption_last</th>\n",
       "      <th>reactive_power_consumption_last</th>\n",
       "      <th>wire_total</th>\n",
       "      <th>bulk_total</th>\n",
       "      <th>gas_total</th>\n",
       "      <th>temperature_first</th>\n",
       "      <th>temperature_fin</th>\n",
       "    </tr>\n",
       "  </thead>\n",
       "  <tbody>\n",
       "    <tr>\n",
       "      <th>count</th>\n",
       "      <td>2329.000000</td>\n",
       "      <td>2329.000000</td>\n",
       "      <td>2329.000000</td>\n",
       "      <td>2329.000000</td>\n",
       "      <td>2329.000000</td>\n",
       "      <td>2329.000000</td>\n",
       "      <td>2329.000000</td>\n",
       "      <td>2329.000000</td>\n",
       "      <td>2329.000000</td>\n",
       "      <td>2329.000000</td>\n",
       "      <td>2329.000000</td>\n",
       "      <td>2329.000000</td>\n",
       "      <td>2329.000000</td>\n",
       "      <td>2329.000000</td>\n",
       "      <td>2329.000000</td>\n",
       "    </tr>\n",
       "    <tr>\n",
       "      <th>mean</th>\n",
       "      <td>807.647488</td>\n",
       "      <td>1515.252469</td>\n",
       "      <td>117.916702</td>\n",
       "      <td>320.595105</td>\n",
       "      <td>539.000381</td>\n",
       "      <td>362.893508</td>\n",
       "      <td>0.659182</td>\n",
       "      <td>0.484976</td>\n",
       "      <td>78.026816</td>\n",
       "      <td>57.385526</td>\n",
       "      <td>125.208530</td>\n",
       "      <td>609.630313</td>\n",
       "      <td>11.375600</td>\n",
       "      <td>1586.718763</td>\n",
       "      <td>1593.365393</td>\n",
       "    </tr>\n",
       "    <tr>\n",
       "      <th>std</th>\n",
       "      <td>340.838388</td>\n",
       "      <td>1225.922747</td>\n",
       "      <td>62.812476</td>\n",
       "      <td>356.734383</td>\n",
       "      <td>257.277885</td>\n",
       "      <td>1631.789209</td>\n",
       "      <td>0.257090</td>\n",
       "      <td>0.194771</td>\n",
       "      <td>53.130380</td>\n",
       "      <td>39.619994</td>\n",
       "      <td>63.683386</td>\n",
       "      <td>287.599678</td>\n",
       "      <td>6.392041</td>\n",
       "      <td>28.290792</td>\n",
       "      <td>11.200915</td>\n",
       "    </tr>\n",
       "    <tr>\n",
       "      <th>min</th>\n",
       "      <td>57.000000</td>\n",
       "      <td>130.000000</td>\n",
       "      <td>11.000000</td>\n",
       "      <td>20.000000</td>\n",
       "      <td>26.187544</td>\n",
       "      <td>-77819.735633</td>\n",
       "      <td>0.228852</td>\n",
       "      <td>0.153777</td>\n",
       "      <td>5.246505</td>\n",
       "      <td>3.566134</td>\n",
       "      <td>1.918800</td>\n",
       "      <td>19.000000</td>\n",
       "      <td>0.008399</td>\n",
       "      <td>1191.000000</td>\n",
       "      <td>1541.000000</td>\n",
       "    </tr>\n",
       "    <tr>\n",
       "      <th>25%</th>\n",
       "      <td>581.000000</td>\n",
       "      <td>807.000000</td>\n",
       "      <td>72.000000</td>\n",
       "      <td>174.000000</td>\n",
       "      <td>368.130458</td>\n",
       "      <td>270.388863</td>\n",
       "      <td>0.458905</td>\n",
       "      <td>0.336211</td>\n",
       "      <td>40.764579</td>\n",
       "      <td>29.680106</td>\n",
       "      <td>89.013596</td>\n",
       "      <td>440.000000</td>\n",
       "      <td>7.282948</td>\n",
       "      <td>1571.000000</td>\n",
       "      <td>1587.000000</td>\n",
       "    </tr>\n",
       "    <tr>\n",
       "      <th>50%</th>\n",
       "      <td>778.000000</td>\n",
       "      <td>1243.000000</td>\n",
       "      <td>103.000000</td>\n",
       "      <td>258.000000</td>\n",
       "      <td>508.068106</td>\n",
       "      <td>371.575230</td>\n",
       "      <td>0.594423</td>\n",
       "      <td>0.440120</td>\n",
       "      <td>63.559155</td>\n",
       "      <td>47.055102</td>\n",
       "      <td>116.101440</td>\n",
       "      <td>609.000000</td>\n",
       "      <td>10.100950</td>\n",
       "      <td>1587.000000</td>\n",
       "      <td>1593.000000</td>\n",
       "    </tr>\n",
       "    <tr>\n",
       "      <th>75%</th>\n",
       "      <td>993.000000</td>\n",
       "      <td>1929.000000</td>\n",
       "      <td>147.000000</td>\n",
       "      <td>370.000000</td>\n",
       "      <td>678.323372</td>\n",
       "      <td>494.921014</td>\n",
       "      <td>0.823710</td>\n",
       "      <td>0.609217</td>\n",
       "      <td>99.562473</td>\n",
       "      <td>72.856902</td>\n",
       "      <td>151.568558</td>\n",
       "      <td>795.000000</td>\n",
       "      <td>14.216688</td>\n",
       "      <td>1603.000000</td>\n",
       "      <td>1598.000000</td>\n",
       "    </tr>\n",
       "    <tr>\n",
       "      <th>max</th>\n",
       "      <td>4189.000000</td>\n",
       "      <td>19485.000000</td>\n",
       "      <td>555.000000</td>\n",
       "      <td>6963.000000</td>\n",
       "      <td>3718.054401</td>\n",
       "      <td>2612.081299</td>\n",
       "      <td>1.463773</td>\n",
       "      <td>1.188563</td>\n",
       "      <td>375.579880</td>\n",
       "      <td>280.760180</td>\n",
       "      <td>568.777664</td>\n",
       "      <td>3235.000000</td>\n",
       "      <td>77.995040</td>\n",
       "      <td>1660.000000</td>\n",
       "      <td>1653.000000</td>\n",
       "    </tr>\n",
       "  </tbody>\n",
       "</table>\n",
       "</div>"
      ],
      "text/plain": [
       "       heating_duration_sum  cooling_duration_sum  heating_duration_last  \\\n",
       "count           2329.000000           2329.000000            2329.000000   \n",
       "mean             807.647488           1515.252469             117.916702   \n",
       "std              340.838388           1225.922747              62.812476   \n",
       "min               57.000000            130.000000              11.000000   \n",
       "25%              581.000000            807.000000              72.000000   \n",
       "50%              778.000000           1243.000000             103.000000   \n",
       "75%              993.000000           1929.000000             147.000000   \n",
       "max             4189.000000          19485.000000             555.000000   \n",
       "\n",
       "       cooling_duration_last  active_power_consumption_sum  \\\n",
       "count            2329.000000                   2329.000000   \n",
       "mean              320.595105                    539.000381   \n",
       "std               356.734383                    257.277885   \n",
       "min                20.000000                     26.187544   \n",
       "25%               174.000000                    368.130458   \n",
       "50%               258.000000                    508.068106   \n",
       "75%               370.000000                    678.323372   \n",
       "max              6963.000000                   3718.054401   \n",
       "\n",
       "       reactive_power_consumption_sum  active_power_last  reactive_power_last  \\\n",
       "count                     2329.000000        2329.000000          2329.000000   \n",
       "mean                       362.893508           0.659182             0.484976   \n",
       "std                       1631.789209           0.257090             0.194771   \n",
       "min                     -77819.735633           0.228852             0.153777   \n",
       "25%                        270.388863           0.458905             0.336211   \n",
       "50%                        371.575230           0.594423             0.440120   \n",
       "75%                        494.921014           0.823710             0.609217   \n",
       "max                       2612.081299           1.463773             1.188563   \n",
       "\n",
       "       active_power_consumption_last  reactive_power_consumption_last  \\\n",
       "count                    2329.000000                      2329.000000   \n",
       "mean                       78.026816                        57.385526   \n",
       "std                        53.130380                        39.619994   \n",
       "min                         5.246505                         3.566134   \n",
       "25%                        40.764579                        29.680106   \n",
       "50%                        63.559155                        47.055102   \n",
       "75%                        99.562473                        72.856902   \n",
       "max                       375.579880                       280.760180   \n",
       "\n",
       "        wire_total   bulk_total    gas_total  temperature_first  \\\n",
       "count  2329.000000  2329.000000  2329.000000        2329.000000   \n",
       "mean    125.208530   609.630313    11.375600        1586.718763   \n",
       "std      63.683386   287.599678     6.392041          28.290792   \n",
       "min       1.918800    19.000000     0.008399        1191.000000   \n",
       "25%      89.013596   440.000000     7.282948        1571.000000   \n",
       "50%     116.101440   609.000000    10.100950        1587.000000   \n",
       "75%     151.568558   795.000000    14.216688        1603.000000   \n",
       "max     568.777664  3235.000000    77.995040        1660.000000   \n",
       "\n",
       "       temperature_fin  \n",
       "count      2329.000000  \n",
       "mean       1593.365393  \n",
       "std          11.200915  \n",
       "min        1541.000000  \n",
       "25%        1587.000000  \n",
       "50%        1593.000000  \n",
       "75%        1598.000000  \n",
       "max        1653.000000  "
      ]
     },
     "execution_count": 28,
     "metadata": {},
     "output_type": "execute_result"
    }
   ],
   "source": [
    "# описание данных для новым признакам\n",
    "features.describe()"
   ]
  },
  {
   "cell_type": "code",
   "execution_count": 29,
   "id": "ebcd13f1",
   "metadata": {
    "ExecuteTime": {
     "end_time": "2023-06-16T22:21:56.089891Z",
     "start_time": "2023-06-16T22:21:54.960250Z"
    },
    "scrolled": false
   },
   "outputs": [
    {
     "data": {
      "image/png": "[encoded data removed]"
     },
     "metadata": {},
     "output_type": "display_data"
    }
   ],
   "source": [
    "# cводная диаграмма распределений до предобработки\n",
    "fig = make_subplots(rows=3, cols=5, start_cell=\"bottom-left\")\n",
    "for num, col in enumerate(list(features.columns)):\n",
    "    fig.add_trace(go.Histogram(x=features[col], name=col), \n",
    "                  row=num//5+1, col=num%5+1)\n",
    "fig.update_layout(autosize=False, width=950, height=500,\n",
    "                  title_text=u'Сводная диаграмма распределений значений <br>созданных признаков до предобработки')\n",
    "fig.show(renderer='png')"
   ]
  },
  {
   "cell_type": "code",
   "execution_count": 30,
   "id": "c34fb2d1",
   "metadata": {
    "ExecuteTime": {
     "end_time": "2023-06-16T22:21:56.486401Z",
     "start_time": "2023-06-16T22:21:56.092889Z"
    }
   },
   "outputs": [
    {
     "data": {
      "text/html": [
       "<style type=\"text/css\">\n",
       "#T_ae547_row0_col0, #T_ae547_row1_col1, #T_ae547_row2_col2, #T_ae547_row3_col3, #T_ae547_row4_col4, #T_ae547_row5_col5, #T_ae547_row6_col6, #T_ae547_row7_col7, #T_ae547_row8_col8, #T_ae547_row9_col9, #T_ae547_row10_col10, #T_ae547_row11_col11, #T_ae547_row12_col12, #T_ae547_row13_col13, #T_ae547_row14_col14 {\n",
       "  background-color: #fde725;\n",
       "  color: #000000;\n",
       "}\n",
       "#T_ae547_row0_col1, #T_ae547_row0_col12 {\n",
       "  background-color: #287d8e;\n",
       "  color: #f1f1f1;\n",
       "}\n",
       "#T_ae547_row0_col2 {\n",
       "  background-color: #46307e;\n",
       "  color: #f1f1f1;\n",
       "}\n",
       "#T_ae547_row0_col3, #T_ae547_row0_col13, #T_ae547_row1_col2, #T_ae547_row1_col8, #T_ae547_row1_col9, #T_ae547_row2_col1, #T_ae547_row2_col10, #T_ae547_row2_col12, #T_ae547_row3_col5, #T_ae547_row3_col11, #T_ae547_row3_col14, #T_ae547_row10_col6, #T_ae547_row10_col7, #T_ae547_row13_col0, #T_ae547_row13_col4, #T_ae547_row13_col5 {\n",
       "  background-color: #440154;\n",
       "  color: #f1f1f1;\n",
       "}\n",
       "#T_ae547_row0_col4, #T_ae547_row4_col0 {\n",
       "  background-color: #cde11d;\n",
       "  color: #000000;\n",
       "}\n",
       "#T_ae547_row0_col5 {\n",
       "  background-color: #463480;\n",
       "  color: #f1f1f1;\n",
       "}\n",
       "#T_ae547_row0_col6, #T_ae547_row2_col6, #T_ae547_row9_col1, #T_ae547_row14_col6 {\n",
       "  background-color: #460b5e;\n",
       "  color: #f1f1f1;\n",
       "}\n",
       "#T_ae547_row0_col7, #T_ae547_row2_col7, #T_ae547_row4_col3, #T_ae547_row4_col13, #T_ae547_row8_col12, #T_ae547_row9_col12 {\n",
       "  background-color: #460a5d;\n",
       "  color: #f1f1f1;\n",
       "}\n",
       "#T_ae547_row0_col8, #T_ae547_row3_col2, #T_ae547_row7_col1, #T_ae547_row14_col8, #T_ae547_row14_col10 {\n",
       "  background-color: #482677;\n",
       "  color: #f1f1f1;\n",
       "}\n",
       "#T_ae547_row0_col9, #T_ae547_row5_col8, #T_ae547_row11_col5 {\n",
       "  background-color: #482576;\n",
       "  color: #f1f1f1;\n",
       "}\n",
       "#T_ae547_row0_col10, #T_ae547_row4_col2, #T_ae547_row4_col10, #T_ae547_row5_col1 {\n",
       "  background-color: #472f7d;\n",
       "  color: #f1f1f1;\n",
       "}\n",
       "#T_ae547_row0_col11 {\n",
       "  background-color: #26ad81;\n",
       "  color: #f1f1f1;\n",
       "}\n",
       "#T_ae547_row0_col14 {\n",
       "  background-color: #32648e;\n",
       "  color: #f1f1f1;\n",
       "}\n",
       "#T_ae547_row1_col0 {\n",
       "  background-color: #20928c;\n",
       "  color: #f1f1f1;\n",
       "}\n",
       "#T_ae547_row1_col3 {\n",
       "  background-color: #228c8d;\n",
       "  color: #f1f1f1;\n",
       "}\n",
       "#T_ae547_row1_col4 {\n",
       "  background-color: #23898e;\n",
       "  color: #f1f1f1;\n",
       "}\n",
       "#T_ae547_row1_col5, #T_ae547_row7_col14, #T_ae547_row12_col5 {\n",
       "  background-color: #481a6c;\n",
       "  color: #f1f1f1;\n",
       "}\n",
       "#T_ae547_row1_col6 {\n",
       "  background-color: #450457;\n",
       "  color: #f1f1f1;\n",
       "}\n",
       "#T_ae547_row1_col7 {\n",
       "  background-color: #46075a;\n",
       "  color: #f1f1f1;\n",
       "}\n",
       "#T_ae547_row1_col10, #T_ae547_row2_col4, #T_ae547_row6_col13 {\n",
       "  background-color: #3c508b;\n",
       "  color: #f1f1f1;\n",
       "}\n",
       "#T_ae547_row1_col11, #T_ae547_row8_col4 {\n",
       "  background-color: #34618d;\n",
       "  color: #f1f1f1;\n",
       "}\n",
       "#T_ae547_row1_col12 {\n",
       "  background-color: #297b8e;\n",
       "  color: #f1f1f1;\n",
       "}\n",
       "#T_ae547_row1_col13 {\n",
       "  background-color: #25858e;\n",
       "  color: #f1f1f1;\n",
       "}\n",
       "#T_ae547_row1_col14, #T_ae547_row3_col8, #T_ae547_row8_col14, #T_ae547_row14_col5 {\n",
       "  background-color: #481f70;\n",
       "  color: #f1f1f1;\n",
       "}\n",
       "#T_ae547_row2_col0, #T_ae547_row11_col1, #T_ae547_row11_col14 {\n",
       "  background-color: #39568c;\n",
       "  color: #f1f1f1;\n",
       "}\n",
       "#T_ae547_row2_col3 {\n",
       "  background-color: #3d4d8a;\n",
       "  color: #f1f1f1;\n",
       "}\n",
       "#T_ae547_row2_col5, #T_ae547_row11_col7, #T_ae547_row13_col2 {\n",
       "  background-color: #471365;\n",
       "  color: #f1f1f1;\n",
       "}\n",
       "#T_ae547_row2_col8 {\n",
       "  background-color: #7ad151;\n",
       "  color: #000000;\n",
       "}\n",
       "#T_ae547_row2_col9 {\n",
       "  background-color: #73d056;\n",
       "  color: #000000;\n",
       "}\n",
       "#T_ae547_row2_col11, #T_ae547_row4_col9, #T_ae547_row8_col11, #T_ae547_row14_col3 {\n",
       "  background-color: #433d84;\n",
       "  color: #f1f1f1;\n",
       "}\n",
       "#T_ae547_row2_col13 {\n",
       "  background-color: #424086;\n",
       "  color: #f1f1f1;\n",
       "}\n",
       "#T_ae547_row2_col14, #T_ae547_row5_col9, #T_ae547_row6_col1 {\n",
       "  background-color: #482475;\n",
       "  color: #f1f1f1;\n",
       "}\n",
       "#T_ae547_row3_col0, #T_ae547_row3_col4, #T_ae547_row8_col10, #T_ae547_row9_col10, #T_ae547_row13_col7 {\n",
       "  background-color: #450559;\n",
       "  color: #f1f1f1;\n",
       "}\n",
       "#T_ae547_row3_col1 {\n",
       "  background-color: #2a788e;\n",
       "  color: #f1f1f1;\n",
       "}\n",
       "#T_ae547_row3_col6, #T_ae547_row3_col7 {\n",
       "  background-color: #440256;\n",
       "  color: #f1f1f1;\n",
       "}\n",
       "#T_ae547_row3_col9, #T_ae547_row5_col12, #T_ae547_row13_col11 {\n",
       "  background-color: #481d6f;\n",
       "  color: #f1f1f1;\n",
       "}\n",
       "#T_ae547_row3_col10, #T_ae547_row11_col3 {\n",
       "  background-color: #482173;\n",
       "  color: #f1f1f1;\n",
       "}\n",
       "#T_ae547_row3_col12, #T_ae547_row7_col10, #T_ae547_row10_col9, #T_ae547_row11_col6, #T_ae547_row13_col8 {\n",
       "  background-color: #471063;\n",
       "  color: #f1f1f1;\n",
       "}\n",
       "#T_ae547_row3_col13 {\n",
       "  background-color: #25848e;\n",
       "  color: #f1f1f1;\n",
       "}\n",
       "#T_ae547_row4_col1 {\n",
       "  background-color: #2a768e;\n",
       "  color: #f1f1f1;\n",
       "}\n",
       "#T_ae547_row4_col5 {\n",
       "  background-color: #453882;\n",
       "  color: #f1f1f1;\n",
       "}\n",
       "#T_ae547_row4_col6, #T_ae547_row10_col11 {\n",
       "  background-color: #453581;\n",
       "  color: #f1f1f1;\n",
       "}\n",
       "#T_ae547_row4_col7, #T_ae547_row14_col2 {\n",
       "  background-color: #46327e;\n",
       "  color: #f1f1f1;\n",
       "}\n",
       "#T_ae547_row4_col8 {\n",
       "  background-color: #423f85;\n",
       "  color: #f1f1f1;\n",
       "}\n",
       "#T_ae547_row4_col11, #T_ae547_row8_col6 {\n",
       "  background-color: #1fa287;\n",
       "  color: #f1f1f1;\n",
       "}\n",
       "#T_ae547_row4_col12 {\n",
       "  background-color: #2c738e;\n",
       "  color: #f1f1f1;\n",
       "}\n",
       "#T_ae547_row4_col14 {\n",
       "  background-color: #355f8d;\n",
       "  color: #f1f1f1;\n",
       "}\n",
       "#T_ae547_row5_col0, #T_ae547_row6_col4 {\n",
       "  background-color: #31678e;\n",
       "  color: #f1f1f1;\n",
       "}\n",
       "#T_ae547_row5_col2 {\n",
       "  background-color: #472a7a;\n",
       "  color: #f1f1f1;\n",
       "}\n",
       "#T_ae547_row5_col3, #T_ae547_row9_col13 {\n",
       "  background-color: #414487;\n",
       "  color: #f1f1f1;\n",
       "}\n",
       "#T_ae547_row5_col4, #T_ae547_row7_col4 {\n",
       "  background-color: #32658e;\n",
       "  color: #f1f1f1;\n",
       "}\n",
       "#T_ae547_row5_col6, #T_ae547_row5_col7, #T_ae547_row12_col6, #T_ae547_row12_col7, #T_ae547_row13_col9 {\n",
       "  background-color: #470d60;\n",
       "  color: #f1f1f1;\n",
       "}\n",
       "#T_ae547_row5_col10, #T_ae547_row6_col14 {\n",
       "  background-color: #481b6d;\n",
       "  color: #f1f1f1;\n",
       "}\n",
       "#T_ae547_row5_col11, #T_ae547_row5_col13 {\n",
       "  background-color: #3f4788;\n",
       "  color: #f1f1f1;\n",
       "}\n",
       "#T_ae547_row5_col14, #T_ae547_row10_col14, #T_ae547_row11_col8, #T_ae547_row11_col9, #T_ae547_row12_col14 {\n",
       "  background-color: #482878;\n",
       "  color: #f1f1f1;\n",
       "}\n",
       "#T_ae547_row6_col0, #T_ae547_row7_col0, #T_ae547_row10_col12 {\n",
       "  background-color: #3b518b;\n",
       "  color: #f1f1f1;\n",
       "}\n",
       "#T_ae547_row6_col2, #T_ae547_row7_col2 {\n",
       "  background-color: #482979;\n",
       "  color: #f1f1f1;\n",
       "}\n",
       "#T_ae547_row6_col3 {\n",
       "  background-color: #3e4989;\n",
       "  color: #f1f1f1;\n",
       "}\n",
       "#T_ae547_row6_col5, #T_ae547_row7_col5, #T_ae547_row10_col2, #T_ae547_row11_col10 {\n",
       "  background-color: #481467;\n",
       "  color: #f1f1f1;\n",
       "}\n",
       "#T_ae547_row6_col7, #T_ae547_row7_col6 {\n",
       "  background-color: #e7e419;\n",
       "  color: #000000;\n",
       "}\n",
       "#T_ae547_row6_col8 {\n",
       "  background-color: #24aa83;\n",
       "  color: #f1f1f1;\n",
       "}\n",
       "#T_ae547_row6_col9 {\n",
       "  background-color: #21a685;\n",
       "  color: #f1f1f1;\n",
       "}\n",
       "#T_ae547_row6_col10 {\n",
       "  background-color: #470e61;\n",
       "  color: #f1f1f1;\n",
       "}\n",
       "#T_ae547_row6_col11, #T_ae547_row11_col13 {\n",
       "  background-color: #443b84;\n",
       "  color: #f1f1f1;\n",
       "}\n",
       "#T_ae547_row6_col12, #T_ae547_row7_col12, #T_ae547_row12_col8 {\n",
       "  background-color: #48186a;\n",
       "  color: #f1f1f1;\n",
       "}\n",
       "#T_ae547_row7_col3, #T_ae547_row12_col3 {\n",
       "  background-color: #3e4a89;\n",
       "  color: #f1f1f1;\n",
       "}\n",
       "#T_ae547_row7_col8, #T_ae547_row9_col7 {\n",
       "  background-color: #20a486;\n",
       "  color: #f1f1f1;\n",
       "}\n",
       "#T_ae547_row7_col9, #T_ae547_row11_col4 {\n",
       "  background-color: #25ab82;\n",
       "  color: #f1f1f1;\n",
       "}\n",
       "#T_ae547_row7_col11, #T_ae547_row9_col11 {\n",
       "  background-color: #433e85;\n",
       "  color: #f1f1f1;\n",
       "}\n",
       "#T_ae547_row7_col13 {\n",
       "  background-color: #3d4e8a;\n",
       "  color: #f1f1f1;\n",
       "}\n",
       "#T_ae547_row8_col0, #T_ae547_row9_col0, #T_ae547_row10_col3 {\n",
       "  background-color: #3a548c;\n",
       "  color: #f1f1f1;\n",
       "}\n",
       "#T_ae547_row8_col1, #T_ae547_row13_col6, #T_ae547_row14_col7 {\n",
       "  background-color: #46085c;\n",
       "  color: #f1f1f1;\n",
       "}\n",
       "#T_ae547_row8_col2 {\n",
       "  background-color: #7cd250;\n",
       "  color: #000000;\n",
       "}\n",
       "#T_ae547_row8_col3, #T_ae547_row9_col3 {\n",
       "  background-color: #3e4c8a;\n",
       "  color: #f1f1f1;\n",
       "}\n",
       "#T_ae547_row8_col5, #T_ae547_row9_col5, #T_ae547_row10_col5 {\n",
       "  background-color: #481668;\n",
       "  color: #f1f1f1;\n",
       "}\n",
       "#T_ae547_row8_col7 {\n",
       "  background-color: #1e9d89;\n",
       "  color: #f1f1f1;\n",
       "}\n",
       "#T_ae547_row8_col9, #T_ae547_row9_col8 {\n",
       "  background-color: #f6e620;\n",
       "  color: #000000;\n",
       "}\n",
       "#T_ae547_row8_col13 {\n",
       "  background-color: #404588;\n",
       "  color: #f1f1f1;\n",
       "}\n",
       "#T_ae547_row9_col2 {\n",
       "  background-color: #75d054;\n",
       "  color: #000000;\n",
       "}\n",
       "#T_ae547_row9_col4, #T_ae547_row10_col0 {\n",
       "  background-color: #34608d;\n",
       "  color: #f1f1f1;\n",
       "}\n",
       "#T_ae547_row9_col6 {\n",
       "  background-color: #1fa088;\n",
       "  color: #f1f1f1;\n",
       "}\n",
       "#T_ae547_row9_col14, #T_ae547_row13_col12 {\n",
       "  background-color: #481c6e;\n",
       "  color: #f1f1f1;\n",
       "}\n",
       "#T_ae547_row10_col1, #T_ae547_row10_col4 {\n",
       "  background-color: #365c8d;\n",
       "  color: #f1f1f1;\n",
       "}\n",
       "#T_ae547_row10_col8 {\n",
       "  background-color: #471164;\n",
       "  color: #f1f1f1;\n",
       "}\n",
       "#T_ae547_row10_col13 {\n",
       "  background-color: #33638d;\n",
       "  color: #f1f1f1;\n",
       "}\n",
       "#T_ae547_row11_col0 {\n",
       "  background-color: #32b67a;\n",
       "  color: #f1f1f1;\n",
       "}\n",
       "#T_ae547_row11_col2 {\n",
       "  background-color: #472e7c;\n",
       "  color: #f1f1f1;\n",
       "}\n",
       "#T_ae547_row11_col12 {\n",
       "  background-color: #306a8e;\n",
       "  color: #f1f1f1;\n",
       "}\n",
       "#T_ae547_row12_col0 {\n",
       "  background-color: #1f998a;\n",
       "  color: #f1f1f1;\n",
       "}\n",
       "#T_ae547_row12_col1, #T_ae547_row14_col0 {\n",
       "  background-color: #25838e;\n",
       "  color: #f1f1f1;\n",
       "}\n",
       "#T_ae547_row12_col2, #T_ae547_row12_col9 {\n",
       "  background-color: #481769;\n",
       "  color: #f1f1f1;\n",
       "}\n",
       "#T_ae547_row12_col4 {\n",
       "  background-color: #218f8d;\n",
       "  color: #f1f1f1;\n",
       "}\n",
       "#T_ae547_row12_col10 {\n",
       "  background-color: #3b528b;\n",
       "  color: #f1f1f1;\n",
       "}\n",
       "#T_ae547_row12_col11, #T_ae547_row14_col4 {\n",
       "  background-color: #287c8e;\n",
       "  color: #f1f1f1;\n",
       "}\n",
       "#T_ae547_row12_col13 {\n",
       "  background-color: #39558c;\n",
       "  color: #f1f1f1;\n",
       "}\n",
       "#T_ae547_row13_col1 {\n",
       "  background-color: #2e6e8e;\n",
       "  color: #f1f1f1;\n",
       "}\n",
       "#T_ae547_row13_col3 {\n",
       "  background-color: #26828e;\n",
       "  color: #f1f1f1;\n",
       "}\n",
       "#T_ae547_row13_col10 {\n",
       "  background-color: #46337f;\n",
       "  color: #f1f1f1;\n",
       "}\n",
       "#T_ae547_row13_col14 {\n",
       "  background-color: #355e8d;\n",
       "  color: #f1f1f1;\n",
       "}\n",
       "#T_ae547_row14_col1 {\n",
       "  background-color: #472d7b;\n",
       "  color: #f1f1f1;\n",
       "}\n",
       "#T_ae547_row14_col9, #T_ae547_row14_col12 {\n",
       "  background-color: #482374;\n",
       "  color: #f1f1f1;\n",
       "}\n",
       "#T_ae547_row14_col11 {\n",
       "  background-color: #30698e;\n",
       "  color: #f1f1f1;\n",
       "}\n",
       "#T_ae547_row14_col13 {\n",
       "  background-color: #277f8e;\n",
       "  color: #f1f1f1;\n",
       "}\n",
       "</style>\n",
       "<table id=\"T_ae547\">\n",
       "  <thead>\n",
       "    <tr>\n",
       "      <th class=\"blank level0\" >&nbsp;</th>\n",
       "      <th id=\"T_ae547_level0_col0\" class=\"col_heading level0 col0\" >heating_duration_sum</th>\n",
       "      <th id=\"T_ae547_level0_col1\" class=\"col_heading level0 col1\" >cooling_duration_sum</th>\n",
       "      <th id=\"T_ae547_level0_col2\" class=\"col_heading level0 col2\" >heating_duration_last</th>\n",
       "      <th id=\"T_ae547_level0_col3\" class=\"col_heading level0 col3\" >cooling_duration_last</th>\n",
       "      <th id=\"T_ae547_level0_col4\" class=\"col_heading level0 col4\" >active_power_consumption_sum</th>\n",
       "      <th id=\"T_ae547_level0_col5\" class=\"col_heading level0 col5\" >reactive_power_consumption_sum</th>\n",
       "      <th id=\"T_ae547_level0_col6\" class=\"col_heading level0 col6\" >active_power_last</th>\n",
       "      <th id=\"T_ae547_level0_col7\" class=\"col_heading level0 col7\" >reactive_power_last</th>\n",
       "      <th id=\"T_ae547_level0_col8\" class=\"col_heading level0 col8\" >active_power_consumption_last</th>\n",
       "      <th id=\"T_ae547_level0_col9\" class=\"col_heading level0 col9\" >reactive_power_consumption_last</th>\n",
       "      <th id=\"T_ae547_level0_col10\" class=\"col_heading level0 col10\" >wire_total</th>\n",
       "      <th id=\"T_ae547_level0_col11\" class=\"col_heading level0 col11\" >bulk_total</th>\n",
       "      <th id=\"T_ae547_level0_col12\" class=\"col_heading level0 col12\" >gas_total</th>\n",
       "      <th id=\"T_ae547_level0_col13\" class=\"col_heading level0 col13\" >temperature_first</th>\n",
       "      <th id=\"T_ae547_level0_col14\" class=\"col_heading level0 col14\" >temperature_fin</th>\n",
       "    </tr>\n",
       "  </thead>\n",
       "  <tbody>\n",
       "    <tr>\n",
       "      <th id=\"T_ae547_level0_row0\" class=\"row_heading level0 row0\" >heating_duration_sum</th>\n",
       "      <td id=\"T_ae547_row0_col0\" class=\"data row0 col0\" >1.000000</td>\n",
       "      <td id=\"T_ae547_row0_col1\" class=\"data row0 col1\" >0.357634</td>\n",
       "      <td id=\"T_ae547_row0_col2\" class=\"data row0 col2\" >0.043252</td>\n",
       "      <td id=\"T_ae547_row0_col3\" class=\"data row0 col3\" >-0.289063</td>\n",
       "      <td id=\"T_ae547_row0_col4\" class=\"data row0 col4\" >0.901779</td>\n",
       "      <td id=\"T_ae547_row0_col5\" class=\"data row0 col5\" >0.126531</td>\n",
       "      <td id=\"T_ae547_row0_col6\" class=\"data row0 col6\" >0.019927</td>\n",
       "      <td id=\"T_ae547_row0_col7\" class=\"data row0 col7\" >0.019165</td>\n",
       "      <td id=\"T_ae547_row0_col8\" class=\"data row0 col8\" >0.032952</td>\n",
       "      <td id=\"T_ae547_row0_col9\" class=\"data row0 col9\" >0.034860</td>\n",
       "      <td id=\"T_ae547_row0_col10\" class=\"data row0 col10\" >0.091873</td>\n",
       "      <td id=\"T_ae547_row0_col11\" class=\"data row0 col11\" >0.551808</td>\n",
       "      <td id=\"T_ae547_row0_col12\" class=\"data row0 col12\" >0.396379</td>\n",
       "      <td id=\"T_ae547_row0_col13\" class=\"data row0 col13\" >-0.305086</td>\n",
       "      <td id=\"T_ae547_row0_col14\" class=\"data row0 col14\" >0.278576</td>\n",
       "    </tr>\n",
       "    <tr>\n",
       "      <th id=\"T_ae547_level0_row1\" class=\"row_heading level0 row1\" >cooling_duration_sum</th>\n",
       "      <td id=\"T_ae547_row1_col0\" class=\"data row1 col0\" >0.357634</td>\n",
       "      <td id=\"T_ae547_row1_col1\" class=\"data row1 col1\" >1.000000</td>\n",
       "      <td id=\"T_ae547_row1_col2\" class=\"data row1 col2\" >-0.109850</td>\n",
       "      <td id=\"T_ae547_row1_col3\" class=\"data row1 col3\" >0.334057</td>\n",
       "      <td id=\"T_ae547_row1_col4\" class=\"data row1 col4\" >0.325282</td>\n",
       "      <td id=\"T_ae547_row1_col5\" class=\"data row1 col5\" >0.040858</td>\n",
       "      <td id=\"T_ae547_row1_col6\" class=\"data row1 col6\" >-0.000485</td>\n",
       "      <td id=\"T_ae547_row1_col7\" class=\"data row1 col7\" >0.010376</td>\n",
       "      <td id=\"T_ae547_row1_col8\" class=\"data row1 col8\" >-0.084748</td>\n",
       "      <td id=\"T_ae547_row1_col9\" class=\"data row1 col9\" >-0.078770</td>\n",
       "      <td id=\"T_ae547_row1_col10\" class=\"data row1 col10\" >0.207167</td>\n",
       "      <td id=\"T_ae547_row1_col11\" class=\"data row1 col11\" >0.187726</td>\n",
       "      <td id=\"T_ae547_row1_col12\" class=\"data row1 col12\" >0.386106</td>\n",
       "      <td id=\"T_ae547_row1_col13\" class=\"data row1 col13\" >0.288830</td>\n",
       "      <td id=\"T_ae547_row1_col14\" class=\"data row1 col14\" >0.031567</td>\n",
       "    </tr>\n",
       "    <tr>\n",
       "      <th id=\"T_ae547_level0_row2\" class=\"row_heading level0 row2\" >heating_duration_last</th>\n",
       "      <td id=\"T_ae547_row2_col0\" class=\"data row2 col0\" >0.043252</td>\n",
       "      <td id=\"T_ae547_row2_col1\" class=\"data row2 col1\" >-0.109850</td>\n",
       "      <td id=\"T_ae547_row2_col2\" class=\"data row2 col2\" >1.000000</td>\n",
       "      <td id=\"T_ae547_row2_col3\" class=\"data row2 col3\" >0.011130</td>\n",
       "      <td id=\"T_ae547_row2_col4\" class=\"data row2 col4\" >0.038783</td>\n",
       "      <td id=\"T_ae547_row2_col5\" class=\"data row2 col5\" >0.020992</td>\n",
       "      <td id=\"T_ae547_row2_col6\" class=\"data row2 col6\" >0.018477</td>\n",
       "      <td id=\"T_ae547_row2_col7\" class=\"data row2 col7\" >0.016251</td>\n",
       "      <td id=\"T_ae547_row2_col8\" class=\"data row2 col8\" >0.779965</td>\n",
       "      <td id=\"T_ae547_row2_col9\" class=\"data row2 col9\" >0.770220</td>\n",
       "      <td id=\"T_ae547_row2_col10\" class=\"data row2 col10\" >-0.049942</td>\n",
       "      <td id=\"T_ae547_row2_col11\" class=\"data row2 col11\" >0.035910</td>\n",
       "      <td id=\"T_ae547_row2_col12\" class=\"data row2 col12\" >-0.041138</td>\n",
       "      <td id=\"T_ae547_row2_col13\" class=\"data row2 col13\" >-0.057106</td>\n",
       "      <td id=\"T_ae547_row2_col14\" class=\"data row2 col14\" >0.047619</td>\n",
       "    </tr>\n",
       "    <tr>\n",
       "      <th id=\"T_ae547_level0_row3\" class=\"row_heading level0 row3\" >cooling_duration_last</th>\n",
       "      <td id=\"T_ae547_row3_col0\" class=\"data row3 col0\" >-0.289063</td>\n",
       "      <td id=\"T_ae547_row3_col1\" class=\"data row3 col1\" >0.334057</td>\n",
       "      <td id=\"T_ae547_row3_col2\" class=\"data row3 col2\" >0.011130</td>\n",
       "      <td id=\"T_ae547_row3_col3\" class=\"data row3 col3\" >1.000000</td>\n",
       "      <td id=\"T_ae547_row3_col4\" class=\"data row3 col4\" >-0.257625</td>\n",
       "      <td id=\"T_ae547_row3_col5\" class=\"data row3 col5\" >-0.029520</td>\n",
       "      <td id=\"T_ae547_row3_col6\" class=\"data row3 col6\" >-0.005231</td>\n",
       "      <td id=\"T_ae547_row3_col7\" class=\"data row3 col7\" >-0.000386</td>\n",
       "      <td id=\"T_ae547_row3_col8\" class=\"data row3 col8\" >0.004534</td>\n",
       "      <td id=\"T_ae547_row3_col9\" class=\"data row3 col9\" >0.006209</td>\n",
       "      <td id=\"T_ae547_row3_col10\" class=\"data row3 col10\" >0.045974</td>\n",
       "      <td id=\"T_ae547_row3_col11\" class=\"data row3 col11\" >-0.172598</td>\n",
       "      <td id=\"T_ae547_row3_col12\" class=\"data row3 col12\" >0.000830</td>\n",
       "      <td id=\"T_ae547_row3_col13\" class=\"data row3 col13\" >0.284345</td>\n",
       "      <td id=\"T_ae547_row3_col14\" class=\"data row3 col14\" >-0.058577</td>\n",
       "    </tr>\n",
       "    <tr>\n",
       "      <th id=\"T_ae547_level0_row4\" class=\"row_heading level0 row4\" >active_power_consumption_sum</th>\n",
       "      <td id=\"T_ae547_row4_col0\" class=\"data row4 col0\" >0.901779</td>\n",
       "      <td id=\"T_ae547_row4_col1\" class=\"data row4 col1\" >0.325282</td>\n",
       "      <td id=\"T_ae547_row4_col2\" class=\"data row4 col2\" >0.038783</td>\n",
       "      <td id=\"T_ae547_row4_col3\" class=\"data row4 col3\" >-0.257625</td>\n",
       "      <td id=\"T_ae547_row4_col4\" class=\"data row4 col4\" >1.000000</td>\n",
       "      <td id=\"T_ae547_row4_col5\" class=\"data row4 col5\" >0.135440</td>\n",
       "      <td id=\"T_ae547_row4_col6\" class=\"data row4 col6\" >0.144407</td>\n",
       "      <td id=\"T_ae547_row4_col7\" class=\"data row4 col7\" >0.135691</td>\n",
       "      <td id=\"T_ae547_row4_col8\" class=\"data row4 col8\" >0.115622</td>\n",
       "      <td id=\"T_ae547_row4_col9\" class=\"data row4 col9\" >0.114094</td>\n",
       "      <td id=\"T_ae547_row4_col10\" class=\"data row4 col10\" >0.092197</td>\n",
       "      <td id=\"T_ae547_row4_col11\" class=\"data row4 col11\" >0.502640</td>\n",
       "      <td id=\"T_ae547_row4_col12\" class=\"data row4 col12\" >0.354883</td>\n",
       "      <td id=\"T_ae547_row4_col13\" class=\"data row4 col13\" >-0.273968</td>\n",
       "      <td id=\"T_ae547_row4_col14\" class=\"data row4 col14\" >0.258419</td>\n",
       "    </tr>\n",
       "    <tr>\n",
       "      <th id=\"T_ae547_level0_row5\" class=\"row_heading level0 row5\" >reactive_power_consumption_sum</th>\n",
       "      <td id=\"T_ae547_row5_col0\" class=\"data row5 col0\" >0.126531</td>\n",
       "      <td id=\"T_ae547_row5_col1\" class=\"data row5 col1\" >0.040858</td>\n",
       "      <td id=\"T_ae547_row5_col2\" class=\"data row5 col2\" >0.020992</td>\n",
       "      <td id=\"T_ae547_row5_col3\" class=\"data row5 col3\" >-0.029520</td>\n",
       "      <td id=\"T_ae547_row5_col4\" class=\"data row5 col4\" >0.135440</td>\n",
       "      <td id=\"T_ae547_row5_col5\" class=\"data row5 col5\" >1.000000</td>\n",
       "      <td id=\"T_ae547_row5_col6\" class=\"data row5 col6\" >0.024238</td>\n",
       "      <td id=\"T_ae547_row5_col7\" class=\"data row5 col7\" >0.024686</td>\n",
       "      <td id=\"T_ae547_row5_col8\" class=\"data row5 col8\" >0.028793</td>\n",
       "      <td id=\"T_ae547_row5_col9\" class=\"data row5 col9\" >0.029369</td>\n",
       "      <td id=\"T_ae547_row5_col10\" class=\"data row5 col10\" >0.026897</td>\n",
       "      <td id=\"T_ae547_row5_col11\" class=\"data row5 col11\" >0.077526</td>\n",
       "      <td id=\"T_ae547_row5_col12\" class=\"data row5 col12\" >0.040335</td>\n",
       "      <td id=\"T_ae547_row5_col13\" class=\"data row5 col13\" >-0.026468</td>\n",
       "      <td id=\"T_ae547_row5_col14\" class=\"data row5 col14\" >0.057472</td>\n",
       "    </tr>\n",
       "    <tr>\n",
       "      <th id=\"T_ae547_level0_row6\" class=\"row_heading level0 row6\" >active_power_last</th>\n",
       "      <td id=\"T_ae547_row6_col0\" class=\"data row6 col0\" >0.019927</td>\n",
       "      <td id=\"T_ae547_row6_col1\" class=\"data row6 col1\" >-0.000485</td>\n",
       "      <td id=\"T_ae547_row6_col2\" class=\"data row6 col2\" >0.018477</td>\n",
       "      <td id=\"T_ae547_row6_col3\" class=\"data row6 col3\" >-0.005231</td>\n",
       "      <td id=\"T_ae547_row6_col4\" class=\"data row6 col4\" >0.144407</td>\n",
       "      <td id=\"T_ae547_row6_col5\" class=\"data row6 col5\" >0.024238</td>\n",
       "      <td id=\"T_ae547_row6_col6\" class=\"data row6 col6\" >1.000000</td>\n",
       "      <td id=\"T_ae547_row6_col7\" class=\"data row6 col7\" >0.964416</td>\n",
       "      <td id=\"T_ae547_row6_col8\" class=\"data row6 col8\" >0.572696</td>\n",
       "      <td id=\"T_ae547_row6_col9\" class=\"data row6 col9\" >0.560699</td>\n",
       "      <td id=\"T_ae547_row6_col10\" class=\"data row6 col10\" >-0.010289</td>\n",
       "      <td id=\"T_ae547_row6_col11\" class=\"data row6 col11\" >0.030925</td>\n",
       "      <td id=\"T_ae547_row6_col12\" class=\"data row6 col12\" >0.024442</td>\n",
       "      <td id=\"T_ae547_row6_col13\" class=\"data row6 col13\" >0.011400</td>\n",
       "      <td id=\"T_ae547_row6_col14\" class=\"data row6 col14\" >0.018453</td>\n",
       "    </tr>\n",
       "    <tr>\n",
       "      <th id=\"T_ae547_level0_row7\" class=\"row_heading level0 row7\" >reactive_power_last</th>\n",
       "      <td id=\"T_ae547_row7_col0\" class=\"data row7 col0\" >0.019165</td>\n",
       "      <td id=\"T_ae547_row7_col1\" class=\"data row7 col1\" >0.010376</td>\n",
       "      <td id=\"T_ae547_row7_col2\" class=\"data row7 col2\" >0.016251</td>\n",
       "      <td id=\"T_ae547_row7_col3\" class=\"data row7 col3\" >-0.000386</td>\n",
       "      <td id=\"T_ae547_row7_col4\" class=\"data row7 col4\" >0.135691</td>\n",
       "      <td id=\"T_ae547_row7_col5\" class=\"data row7 col5\" >0.024686</td>\n",
       "      <td id=\"T_ae547_row7_col6\" class=\"data row7 col6\" >0.964416</td>\n",
       "      <td id=\"T_ae547_row7_col7\" class=\"data row7 col7\" >1.000000</td>\n",
       "      <td id=\"T_ae547_row7_col8\" class=\"data row7 col8\" >0.550583</td>\n",
       "      <td id=\"T_ae547_row7_col9\" class=\"data row7 col9\" >0.579643</td>\n",
       "      <td id=\"T_ae547_row7_col10\" class=\"data row7 col10\" >-0.007583</td>\n",
       "      <td id=\"T_ae547_row7_col11\" class=\"data row7 col11\" >0.039765</td>\n",
       "      <td id=\"T_ae547_row7_col12\" class=\"data row7 col12\" >0.024023</td>\n",
       "      <td id=\"T_ae547_row7_col13\" class=\"data row7 col13\" >0.005479</td>\n",
       "      <td id=\"T_ae547_row7_col14\" class=\"data row7 col14\" >0.012557</td>\n",
       "    </tr>\n",
       "    <tr>\n",
       "      <th id=\"T_ae547_level0_row8\" class=\"row_heading level0 row8\" >active_power_consumption_last</th>\n",
       "      <td id=\"T_ae547_row8_col0\" class=\"data row8 col0\" >0.032952</td>\n",
       "      <td id=\"T_ae547_row8_col1\" class=\"data row8 col1\" >-0.084748</td>\n",
       "      <td id=\"T_ae547_row8_col2\" class=\"data row8 col2\" >0.779965</td>\n",
       "      <td id=\"T_ae547_row8_col3\" class=\"data row8 col3\" >0.004534</td>\n",
       "      <td id=\"T_ae547_row8_col4\" class=\"data row8 col4\" >0.115622</td>\n",
       "      <td id=\"T_ae547_row8_col5\" class=\"data row8 col5\" >0.028793</td>\n",
       "      <td id=\"T_ae547_row8_col6\" class=\"data row8 col6\" >0.572696</td>\n",
       "      <td id=\"T_ae547_row8_col7\" class=\"data row8 col7\" >0.550583</td>\n",
       "      <td id=\"T_ae547_row8_col8\" class=\"data row8 col8\" >1.000000</td>\n",
       "      <td id=\"T_ae547_row8_col9\" class=\"data row8 col9\" >0.984657</td>\n",
       "      <td id=\"T_ae547_row8_col10\" class=\"data row8 col10\" >-0.036880</td>\n",
       "      <td id=\"T_ae547_row8_col11\" class=\"data row8 col11\" >0.034137</td>\n",
       "      <td id=\"T_ae547_row8_col12\" class=\"data row8 col12\" >-0.013734</td>\n",
       "      <td id=\"T_ae547_row8_col13\" class=\"data row8 col13\" >-0.038172</td>\n",
       "      <td id=\"T_ae547_row8_col14\" class=\"data row8 col14\" >0.030025</td>\n",
       "    </tr>\n",
       "    <tr>\n",
       "      <th id=\"T_ae547_level0_row9\" class=\"row_heading level0 row9\" >reactive_power_consumption_last</th>\n",
       "      <td id=\"T_ae547_row9_col0\" class=\"data row9 col0\" >0.034860</td>\n",
       "      <td id=\"T_ae547_row9_col1\" class=\"data row9 col1\" >-0.078770</td>\n",
       "      <td id=\"T_ae547_row9_col2\" class=\"data row9 col2\" >0.770220</td>\n",
       "      <td id=\"T_ae547_row9_col3\" class=\"data row9 col3\" >0.006209</td>\n",
       "      <td id=\"T_ae547_row9_col4\" class=\"data row9 col4\" >0.114094</td>\n",
       "      <td id=\"T_ae547_row9_col5\" class=\"data row9 col5\" >0.029369</td>\n",
       "      <td id=\"T_ae547_row9_col6\" class=\"data row9 col6\" >0.560699</td>\n",
       "      <td id=\"T_ae547_row9_col7\" class=\"data row9 col7\" >0.579643</td>\n",
       "      <td id=\"T_ae547_row9_col8\" class=\"data row9 col8\" >0.984657</td>\n",
       "      <td id=\"T_ae547_row9_col9\" class=\"data row9 col9\" >1.000000</td>\n",
       "      <td id=\"T_ae547_row9_col10\" class=\"data row9 col10\" >-0.036178</td>\n",
       "      <td id=\"T_ae547_row9_col11\" class=\"data row9 col11\" >0.039941</td>\n",
       "      <td id=\"T_ae547_row9_col12\" class=\"data row9 col12\" >-0.012767</td>\n",
       "      <td id=\"T_ae547_row9_col13\" class=\"data row9 col13\" >-0.041417</td>\n",
       "      <td id=\"T_ae547_row9_col14\" class=\"data row9 col14\" >0.023734</td>\n",
       "    </tr>\n",
       "    <tr>\n",
       "      <th id=\"T_ae547_level0_row10\" class=\"row_heading level0 row10\" >wire_total</th>\n",
       "      <td id=\"T_ae547_row10_col0\" class=\"data row10 col0\" >0.091873</td>\n",
       "      <td id=\"T_ae547_row10_col1\" class=\"data row10 col1\" >0.207167</td>\n",
       "      <td id=\"T_ae547_row10_col2\" class=\"data row10 col2\" >-0.049942</td>\n",
       "      <td id=\"T_ae547_row10_col3\" class=\"data row10 col3\" >0.045974</td>\n",
       "      <td id=\"T_ae547_row10_col4\" class=\"data row10 col4\" >0.092197</td>\n",
       "      <td id=\"T_ae547_row10_col5\" class=\"data row10 col5\" >0.026897</td>\n",
       "      <td id=\"T_ae547_row10_col6\" class=\"data row10 col6\" >-0.010289</td>\n",
       "      <td id=\"T_ae547_row10_col7\" class=\"data row10 col7\" >-0.007583</td>\n",
       "      <td id=\"T_ae547_row10_col8\" class=\"data row10 col8\" >-0.036880</td>\n",
       "      <td id=\"T_ae547_row10_col9\" class=\"data row10 col9\" >-0.036178</td>\n",
       "      <td id=\"T_ae547_row10_col10\" class=\"data row10 col10\" >1.000000</td>\n",
       "      <td id=\"T_ae547_row10_col11\" class=\"data row10 col11\" >0.007119</td>\n",
       "      <td id=\"T_ae547_row10_col12\" class=\"data row10 col12\" >0.215411</td>\n",
       "      <td id=\"T_ae547_row10_col13\" class=\"data row10 col13\" >0.104003</td>\n",
       "      <td id=\"T_ae547_row10_col14\" class=\"data row10 col14\" >0.061061</td>\n",
       "    </tr>\n",
       "    <tr>\n",
       "      <th id=\"T_ae547_level0_row11\" class=\"row_heading level0 row11\" >bulk_total</th>\n",
       "      <td id=\"T_ae547_row11_col0\" class=\"data row11 col0\" >0.551808</td>\n",
       "      <td id=\"T_ae547_row11_col1\" class=\"data row11 col1\" >0.187726</td>\n",
       "      <td id=\"T_ae547_row11_col2\" class=\"data row11 col2\" >0.035910</td>\n",
       "      <td id=\"T_ae547_row11_col3\" class=\"data row11 col3\" >-0.172598</td>\n",
       "      <td id=\"T_ae547_row11_col4\" class=\"data row11 col4\" >0.502640</td>\n",
       "      <td id=\"T_ae547_row11_col5\" class=\"data row11 col5\" >0.077526</td>\n",
       "      <td id=\"T_ae547_row11_col6\" class=\"data row11 col6\" >0.030925</td>\n",
       "      <td id=\"T_ae547_row11_col7\" class=\"data row11 col7\" >0.039765</td>\n",
       "      <td id=\"T_ae547_row11_col8\" class=\"data row11 col8\" >0.034137</td>\n",
       "      <td id=\"T_ae547_row11_col9\" class=\"data row11 col9\" >0.039941</td>\n",
       "      <td id=\"T_ae547_row11_col10\" class=\"data row11 col10\" >0.007119</td>\n",
       "      <td id=\"T_ae547_row11_col11\" class=\"data row11 col11\" >1.000000</td>\n",
       "      <td id=\"T_ae547_row11_col12\" class=\"data row11 col12\" >0.314006</td>\n",
       "      <td id=\"T_ae547_row11_col13\" class=\"data row11 col13\" >-0.077137</td>\n",
       "      <td id=\"T_ae547_row11_col14\" class=\"data row11 col14\" >0.222658</td>\n",
       "    </tr>\n",
       "    <tr>\n",
       "      <th id=\"T_ae547_level0_row12\" class=\"row_heading level0 row12\" >gas_total</th>\n",
       "      <td id=\"T_ae547_row12_col0\" class=\"data row12 col0\" >0.396379</td>\n",
       "      <td id=\"T_ae547_row12_col1\" class=\"data row12 col1\" >0.386106</td>\n",
       "      <td id=\"T_ae547_row12_col2\" class=\"data row12 col2\" >-0.041138</td>\n",
       "      <td id=\"T_ae547_row12_col3\" class=\"data row12 col3\" >0.000830</td>\n",
       "      <td id=\"T_ae547_row12_col4\" class=\"data row12 col4\" >0.354883</td>\n",
       "      <td id=\"T_ae547_row12_col5\" class=\"data row12 col5\" >0.040335</td>\n",
       "      <td id=\"T_ae547_row12_col6\" class=\"data row12 col6\" >0.024442</td>\n",
       "      <td id=\"T_ae547_row12_col7\" class=\"data row12 col7\" >0.024023</td>\n",
       "      <td id=\"T_ae547_row12_col8\" class=\"data row12 col8\" >-0.013734</td>\n",
       "      <td id=\"T_ae547_row12_col9\" class=\"data row12 col9\" >-0.012767</td>\n",
       "      <td id=\"T_ae547_row12_col10\" class=\"data row12 col10\" >0.215411</td>\n",
       "      <td id=\"T_ae547_row12_col11\" class=\"data row12 col11\" >0.314006</td>\n",
       "      <td id=\"T_ae547_row12_col12\" class=\"data row12 col12\" >1.000000</td>\n",
       "      <td id=\"T_ae547_row12_col13\" class=\"data row12 col13\" >0.037341</td>\n",
       "      <td id=\"T_ae547_row12_col14\" class=\"data row12 col14\" >0.059160</td>\n",
       "    </tr>\n",
       "    <tr>\n",
       "      <th id=\"T_ae547_level0_row13\" class=\"row_heading level0 row13\" >temperature_first</th>\n",
       "      <td id=\"T_ae547_row13_col0\" class=\"data row13 col0\" >-0.305086</td>\n",
       "      <td id=\"T_ae547_row13_col1\" class=\"data row13 col1\" >0.288830</td>\n",
       "      <td id=\"T_ae547_row13_col2\" class=\"data row13 col2\" >-0.057106</td>\n",
       "      <td id=\"T_ae547_row13_col3\" class=\"data row13 col3\" >0.284345</td>\n",
       "      <td id=\"T_ae547_row13_col4\" class=\"data row13 col4\" >-0.273968</td>\n",
       "      <td id=\"T_ae547_row13_col5\" class=\"data row13 col5\" >-0.026468</td>\n",
       "      <td id=\"T_ae547_row13_col6\" class=\"data row13 col6\" >0.011400</td>\n",
       "      <td id=\"T_ae547_row13_col7\" class=\"data row13 col7\" >0.005479</td>\n",
       "      <td id=\"T_ae547_row13_col8\" class=\"data row13 col8\" >-0.038172</td>\n",
       "      <td id=\"T_ae547_row13_col9\" class=\"data row13 col9\" >-0.041417</td>\n",
       "      <td id=\"T_ae547_row13_col10\" class=\"data row13 col10\" >0.104003</td>\n",
       "      <td id=\"T_ae547_row13_col11\" class=\"data row13 col11\" >-0.077137</td>\n",
       "      <td id=\"T_ae547_row13_col12\" class=\"data row13 col12\" >0.037341</td>\n",
       "      <td id=\"T_ae547_row13_col13\" class=\"data row13 col13\" >1.000000</td>\n",
       "      <td id=\"T_ae547_row13_col14\" class=\"data row13 col14\" >0.252443</td>\n",
       "    </tr>\n",
       "    <tr>\n",
       "      <th id=\"T_ae547_level0_row14\" class=\"row_heading level0 row14\" >temperature_fin</th>\n",
       "      <td id=\"T_ae547_row14_col0\" class=\"data row14 col0\" >0.278576</td>\n",
       "      <td id=\"T_ae547_row14_col1\" class=\"data row14 col1\" >0.031567</td>\n",
       "      <td id=\"T_ae547_row14_col2\" class=\"data row14 col2\" >0.047619</td>\n",
       "      <td id=\"T_ae547_row14_col3\" class=\"data row14 col3\" >-0.058577</td>\n",
       "      <td id=\"T_ae547_row14_col4\" class=\"data row14 col4\" >0.258419</td>\n",
       "      <td id=\"T_ae547_row14_col5\" class=\"data row14 col5\" >0.057472</td>\n",
       "      <td id=\"T_ae547_row14_col6\" class=\"data row14 col6\" >0.018453</td>\n",
       "      <td id=\"T_ae547_row14_col7\" class=\"data row14 col7\" >0.012557</td>\n",
       "      <td id=\"T_ae547_row14_col8\" class=\"data row14 col8\" >0.030025</td>\n",
       "      <td id=\"T_ae547_row14_col9\" class=\"data row14 col9\" >0.023734</td>\n",
       "      <td id=\"T_ae547_row14_col10\" class=\"data row14 col10\" >0.061061</td>\n",
       "      <td id=\"T_ae547_row14_col11\" class=\"data row14 col11\" >0.222658</td>\n",
       "      <td id=\"T_ae547_row14_col12\" class=\"data row14 col12\" >0.059160</td>\n",
       "      <td id=\"T_ae547_row14_col13\" class=\"data row14 col13\" >0.252443</td>\n",
       "      <td id=\"T_ae547_row14_col14\" class=\"data row14 col14\" >1.000000</td>\n",
       "    </tr>\n",
       "  </tbody>\n",
       "</table>\n"
      ],
      "text/plain": [
       "<pandas.io.formats.style.Styler at 0x2b65f162dd0>"
      ]
     },
     "execution_count": 30,
     "metadata": {},
     "output_type": "execute_result"
    }
   ],
   "source": [
    "# корреляция признаков до предобработки\n",
    "features.corr().style.background_gradient(cmap='viridis')"
   ]
  },
  {
   "cell_type": "markdown",
   "id": "15c1eafb",
   "metadata": {},
   "source": [
    "По понятным причинам в признаках отсутствуют пропуски и дубликаты, но большинство признаков имеет значительное количество аномалий (одна из них вообще искажает всю картину распределения реактивной мощности). Признаки, построенные на данных по активной и реактивной мощностям имеют значительную скошенность влево. Также они сильно коррелируют между собой и обладают весьма выраженной линейной зависимостью с целевым признаком, что может вести к явлению мультиколлинеарности. \n",
    "Отмеченные проблемы в данных исправим в пайплайне средствами библиотеки `sklearn`. Для устранения возможной мультиколлинеарности проведем ортогонализация признаков с помощью _метода главных компонент (PCA)_.\n",
    "- Скошенность распределения и его нормализацию попробуем исправить с помощью `QuantileTransformer`.\n",
    "- С помощью `StandardScaler` проведём масштабирование и нормализацию данных.\n",
    "- Выбросы уберем с помощью пользовательской функции, обрезов данные 1 и 99 процентилем."
   ]
  },
  {
   "cell_type": "code",
   "execution_count": 31,
   "id": "0968ddc0",
   "metadata": {
    "ExecuteTime": {
     "end_time": "2023-06-16T22:21:56.498396Z",
     "start_time": "2023-06-16T22:21:56.488399Z"
    }
   },
   "outputs": [],
   "source": [
    "# функция обрезки выбросов\n",
    "def cut_outliers(data_to_cut, columns, quantile_value):\n",
    "    # копия датасета\n",
    "    data_cutted = data_to_cut.copy()    \n",
    "    for col in columns:\n",
    "        # отсев строковых данных\n",
    "        if data_cutted[col].dtypes == 'int64' or data_cutted[col].dtypes == 'float64':\n",
    "            # расчет квантилей по исходной выборке\n",
    "            quantiles = data_to_cut[col].quantile(q=[quantile_value, 1 - quantile_value])\n",
    "            # обрезка датасета по квантилям\n",
    "            data_cutted[col]  =\\\n",
    "            data_cutted.loc[(data_cutted[col] >= quantiles.iloc[0]) & (data_cutted[col] <= quantiles.iloc[1]), col].copy()\n",
    "    # удаление пропусков\n",
    "    data_cutted.dropna(axis=0, inplace=True)\n",
    "    return data_cutted"
   ]
  },
  {
   "cell_type": "code",
   "execution_count": 32,
   "id": "45cfdbb8",
   "metadata": {
    "ExecuteTime": {
     "end_time": "2023-06-16T22:21:56.673654Z",
     "start_time": "2023-06-16T22:21:56.500399Z"
    }
   },
   "outputs": [],
   "source": [
    "# устранение выбросов\n",
    "features_cutted = cut_outliers(features, features.columns, 0.01)"
   ]
  },
  {
   "cell_type": "code",
   "execution_count": 33,
   "id": "09082b86",
   "metadata": {
    "ExecuteTime": {
     "end_time": "2023-06-16T22:21:56.689803Z",
     "start_time": "2023-06-16T22:21:56.675659Z"
    }
   },
   "outputs": [],
   "source": [
    "# предобработка данных\n",
    "preprocessor = Pipeline([('pca', PCA(random_state=220523)),\n",
    "                         ('quant', QuantileTransformer(n_quantiles=100, output_distribution='normal', random_state=220523)), \n",
    "                         ('scale', StandardScaler())])"
   ]
  },
  {
   "cell_type": "code",
   "execution_count": 34,
   "id": "4a1a808a",
   "metadata": {
    "ExecuteTime": {
     "end_time": "2023-06-16T22:21:56.930252Z",
     "start_time": "2023-06-16T22:21:56.699806Z"
    }
   },
   "outputs": [],
   "source": [
    "# новые названия признаков\n",
    "features_derived_names = 'drv_'+features.columns\n",
    "# трансформирование данных\n",
    "features_transformed = preprocessor.fit_transform(features_cutted)\n",
    "features_transformed = pd.DataFrame(features_transformed, columns=features_derived_names)"
   ]
  },
  {
   "cell_type": "code",
   "execution_count": 35,
   "id": "1129b033",
   "metadata": {
    "ExecuteTime": {
     "end_time": "2023-06-16T22:21:57.873710Z",
     "start_time": "2023-06-16T22:21:56.932248Z"
    }
   },
   "outputs": [
    {
     "data": {
      "image/png": "[encoded data removed]"
     },
     "metadata": {},
     "output_type": "display_data"
    }
   ],
   "source": [
    "# cводная диаграмма распределений после предобработки\n",
    "fig = make_subplots(rows=3, cols=5, start_cell=\"bottom-left\")\n",
    "for num, col in enumerate(list(features_transformed.columns)):\n",
    "    fig.add_trace(go.Histogram(x=features_transformed[col], name=col), \n",
    "                  row=num//5+1, col=num%5+1)\n",
    "fig.update_layout(autosize=False, width=950, height=500,\n",
    "                  title_text=u'Сводная диаграмма распределений значений <br>созданных признаков после предобработки')\n",
    "fig.show(renderer='png')"
   ]
  },
  {
   "cell_type": "code",
   "execution_count": 36,
   "id": "f4b0b846",
   "metadata": {
    "ExecuteTime": {
     "end_time": "2023-06-16T22:21:57.922705Z",
     "start_time": "2023-06-16T22:21:57.876721Z"
    }
   },
   "outputs": [
    {
     "data": {
      "text/html": [
       "<style type=\"text/css\">\n",
       "#T_dc039_row0_col0, #T_dc039_row1_col1, #T_dc039_row2_col2, #T_dc039_row3_col3, #T_dc039_row4_col4, #T_dc039_row5_col5, #T_dc039_row6_col6, #T_dc039_row7_col7, #T_dc039_row8_col8, #T_dc039_row9_col9, #T_dc039_row10_col10, #T_dc039_row11_col11, #T_dc039_row12_col12, #T_dc039_row13_col13, #T_dc039_row14_col14 {\n",
       "  background-color: #fde725;\n",
       "  color: #000000;\n",
       "}\n",
       "#T_dc039_row0_col1, #T_dc039_row0_col3, #T_dc039_row0_col5, #T_dc039_row0_col11, #T_dc039_row1_col3, #T_dc039_row4_col1, #T_dc039_row4_col12, #T_dc039_row5_col0, #T_dc039_row5_col12, #T_dc039_row6_col8, #T_dc039_row6_col9, #T_dc039_row7_col14, #T_dc039_row8_col12, #T_dc039_row9_col6, #T_dc039_row11_col10, #T_dc039_row12_col4, #T_dc039_row12_col8, #T_dc039_row12_col13, #T_dc039_row13_col12, #T_dc039_row14_col1, #T_dc039_row14_col2, #T_dc039_row14_col7 {\n",
       "  background-color: #440154;\n",
       "  color: #f1f1f1;\n",
       "}\n",
       "#T_dc039_row0_col2, #T_dc039_row0_col9, #T_dc039_row1_col2, #T_dc039_row2_col11, #T_dc039_row3_col6, #T_dc039_row5_col2, #T_dc039_row6_col4, #T_dc039_row8_col11, #T_dc039_row9_col1, #T_dc039_row9_col4, #T_dc039_row9_col13, #T_dc039_row10_col1, #T_dc039_row10_col12, #T_dc039_row12_col2, #T_dc039_row12_col10, #T_dc039_row14_col3 {\n",
       "  background-color: #46075a;\n",
       "  color: #f1f1f1;\n",
       "}\n",
       "#T_dc039_row0_col4, #T_dc039_row0_col8, #T_dc039_row0_col10, #T_dc039_row1_col9, #T_dc039_row2_col12, #T_dc039_row2_col14, #T_dc039_row3_col9, #T_dc039_row4_col9, #T_dc039_row4_col10, #T_dc039_row5_col4, #T_dc039_row5_col8, #T_dc039_row5_col9, #T_dc039_row6_col11, #T_dc039_row6_col13, #T_dc039_row7_col8, #T_dc039_row7_col11, #T_dc039_row8_col10, #T_dc039_row9_col8, #T_dc039_row9_col10, #T_dc039_row10_col8, #T_dc039_row11_col4, #T_dc039_row11_col6, #T_dc039_row12_col1, #T_dc039_row13_col8, #T_dc039_row13_col9 {\n",
       "  background-color: #460a5d;\n",
       "  color: #f1f1f1;\n",
       "}\n",
       "#T_dc039_row0_col6, #T_dc039_row1_col6, #T_dc039_row1_col8, #T_dc039_row1_col12, #T_dc039_row2_col9, #T_dc039_row4_col11, #T_dc039_row5_col7, #T_dc039_row5_col10, #T_dc039_row8_col1, #T_dc039_row8_col3, #T_dc039_row9_col11, #T_dc039_row10_col9, #T_dc039_row11_col9, #T_dc039_row12_col3, #T_dc039_row12_col9, #T_dc039_row12_col11, #T_dc039_row13_col14, #T_dc039_row14_col8, #T_dc039_row14_col11 {\n",
       "  background-color: #460b5e;\n",
       "  color: #f1f1f1;\n",
       "}\n",
       "#T_dc039_row0_col7, #T_dc039_row4_col14, #T_dc039_row11_col5, #T_dc039_row13_col0, #T_dc039_row14_col0 {\n",
       "  background-color: #48186a;\n",
       "  color: #f1f1f1;\n",
       "}\n",
       "#T_dc039_row0_col12, #T_dc039_row3_col14, #T_dc039_row6_col2, #T_dc039_row11_col1, #T_dc039_row11_col7, #T_dc039_row13_col4 {\n",
       "  background-color: #471063;\n",
       "  color: #f1f1f1;\n",
       "}\n",
       "#T_dc039_row0_col13, #T_dc039_row2_col13, #T_dc039_row4_col2, #T_dc039_row5_col3, #T_dc039_row5_col6, #T_dc039_row7_col1, #T_dc039_row7_col10, #T_dc039_row7_col12, #T_dc039_row8_col2, #T_dc039_row9_col2, #T_dc039_row9_col3, #T_dc039_row10_col2, #T_dc039_row10_col3, #T_dc039_row10_col6, #T_dc039_row12_col6, #T_dc039_row13_col1 {\n",
       "  background-color: #450559;\n",
       "  color: #f1f1f1;\n",
       "}\n",
       "#T_dc039_row0_col14, #T_dc039_row3_col8, #T_dc039_row3_col11, #T_dc039_row3_col12, #T_dc039_row5_col1, #T_dc039_row7_col4, #T_dc039_row7_col13, #T_dc039_row8_col9, #T_dc039_row10_col7, #T_dc039_row10_col13, #T_dc039_row12_col7, #T_dc039_row13_col11, #T_dc039_row14_col6, #T_dc039_row14_col9, #T_dc039_row14_col10 {\n",
       "  background-color: #470d60;\n",
       "  color: #f1f1f1;\n",
       "}\n",
       "#T_dc039_row1_col0, #T_dc039_row2_col6, #T_dc039_row4_col3, #T_dc039_row4_col7, #T_dc039_row8_col14, #T_dc039_row10_col14, #T_dc039_row12_col5 {\n",
       "  background-color: #481467;\n",
       "  color: #f1f1f1;\n",
       "}\n",
       "#T_dc039_row1_col4, #T_dc039_row3_col1, #T_dc039_row3_col13, #T_dc039_row6_col3, #T_dc039_row6_col10, #T_dc039_row6_col12, #T_dc039_row8_col6, #T_dc039_row10_col11, #T_dc039_row11_col2, #T_dc039_row13_col3, #T_dc039_row14_col13 {\n",
       "  background-color: #440256;\n",
       "  color: #f1f1f1;\n",
       "}\n",
       "#T_dc039_row1_col5 {\n",
       "  background-color: #481f70;\n",
       "  color: #f1f1f1;\n",
       "}\n",
       "#T_dc039_row1_col7, #T_dc039_row2_col7, #T_dc039_row4_col13, #T_dc039_row6_col7, #T_dc039_row9_col7, #T_dc039_row13_col6, #T_dc039_row13_col10 {\n",
       "  background-color: #470e61;\n",
       "  color: #f1f1f1;\n",
       "}\n",
       "#T_dc039_row1_col10, #T_dc039_row1_col14, #T_dc039_row2_col1, #T_dc039_row2_col4, #T_dc039_row2_col8, #T_dc039_row2_col10, #T_dc039_row3_col10, #T_dc039_row4_col6, #T_dc039_row4_col8, #T_dc039_row5_col11, #T_dc039_row6_col1, #T_dc039_row7_col3, #T_dc039_row7_col6, #T_dc039_row7_col9, #T_dc039_row8_col4, #T_dc039_row8_col13, #T_dc039_row9_col12, #T_dc039_row10_col4, #T_dc039_row11_col3, #T_dc039_row11_col12, #T_dc039_row11_col13 {\n",
       "  background-color: #46085c;\n",
       "  color: #f1f1f1;\n",
       "}\n",
       "#T_dc039_row1_col11, #T_dc039_row3_col7, #T_dc039_row5_col14 {\n",
       "  background-color: #471365;\n",
       "  color: #f1f1f1;\n",
       "}\n",
       "#T_dc039_row1_col13, #T_dc039_row2_col3, #T_dc039_row3_col2, #T_dc039_row7_col2, #T_dc039_row11_col8, #T_dc039_row13_col2 {\n",
       "  background-color: #450457;\n",
       "  color: #f1f1f1;\n",
       "}\n",
       "#T_dc039_row2_col0, #T_dc039_row2_col5, #T_dc039_row4_col0, #T_dc039_row6_col0, #T_dc039_row8_col5, #T_dc039_row10_col0 {\n",
       "  background-color: #481b6d;\n",
       "  color: #f1f1f1;\n",
       "}\n",
       "#T_dc039_row3_col0, #T_dc039_row3_col4, #T_dc039_row13_col7 {\n",
       "  background-color: #481668;\n",
       "  color: #f1f1f1;\n",
       "}\n",
       "#T_dc039_row3_col5, #T_dc039_row9_col5 {\n",
       "  background-color: #481a6c;\n",
       "  color: #f1f1f1;\n",
       "}\n",
       "#T_dc039_row4_col5, #T_dc039_row8_col0, #T_dc039_row10_col5, #T_dc039_row14_col5 {\n",
       "  background-color: #481c6e;\n",
       "  color: #f1f1f1;\n",
       "}\n",
       "#T_dc039_row5_col13 {\n",
       "  background-color: #482677;\n",
       "  color: #f1f1f1;\n",
       "}\n",
       "#T_dc039_row6_col5, #T_dc039_row7_col5, #T_dc039_row9_col0 {\n",
       "  background-color: #481769;\n",
       "  color: #f1f1f1;\n",
       "}\n",
       "#T_dc039_row6_col14, #T_dc039_row8_col7, #T_dc039_row9_col14, #T_dc039_row11_col0, #T_dc039_row11_col14, #T_dc039_row14_col4 {\n",
       "  background-color: #471164;\n",
       "  color: #f1f1f1;\n",
       "}\n",
       "#T_dc039_row7_col0 {\n",
       "  background-color: #482374;\n",
       "  color: #f1f1f1;\n",
       "}\n",
       "#T_dc039_row12_col0 {\n",
       "  background-color: #482071;\n",
       "  color: #f1f1f1;\n",
       "}\n",
       "#T_dc039_row12_col14 {\n",
       "  background-color: #472d7b;\n",
       "  color: #f1f1f1;\n",
       "}\n",
       "#T_dc039_row13_col5 {\n",
       "  background-color: #453581;\n",
       "  color: #f1f1f1;\n",
       "}\n",
       "#T_dc039_row14_col12 {\n",
       "  background-color: #482878;\n",
       "  color: #f1f1f1;\n",
       "}\n",
       "</style>\n",
       "<table id=\"T_dc039\">\n",
       "  <thead>\n",
       "    <tr>\n",
       "      <th class=\"blank level0\" >&nbsp;</th>\n",
       "      <th id=\"T_dc039_level0_col0\" class=\"col_heading level0 col0\" >drv_heating_duration_sum</th>\n",
       "      <th id=\"T_dc039_level0_col1\" class=\"col_heading level0 col1\" >drv_cooling_duration_sum</th>\n",
       "      <th id=\"T_dc039_level0_col2\" class=\"col_heading level0 col2\" >drv_heating_duration_last</th>\n",
       "      <th id=\"T_dc039_level0_col3\" class=\"col_heading level0 col3\" >drv_cooling_duration_last</th>\n",
       "      <th id=\"T_dc039_level0_col4\" class=\"col_heading level0 col4\" >drv_active_power_consumption_sum</th>\n",
       "      <th id=\"T_dc039_level0_col5\" class=\"col_heading level0 col5\" >drv_reactive_power_consumption_sum</th>\n",
       "      <th id=\"T_dc039_level0_col6\" class=\"col_heading level0 col6\" >drv_active_power_last</th>\n",
       "      <th id=\"T_dc039_level0_col7\" class=\"col_heading level0 col7\" >drv_reactive_power_last</th>\n",
       "      <th id=\"T_dc039_level0_col8\" class=\"col_heading level0 col8\" >drv_active_power_consumption_last</th>\n",
       "      <th id=\"T_dc039_level0_col9\" class=\"col_heading level0 col9\" >drv_reactive_power_consumption_last</th>\n",
       "      <th id=\"T_dc039_level0_col10\" class=\"col_heading level0 col10\" >drv_wire_total</th>\n",
       "      <th id=\"T_dc039_level0_col11\" class=\"col_heading level0 col11\" >drv_bulk_total</th>\n",
       "      <th id=\"T_dc039_level0_col12\" class=\"col_heading level0 col12\" >drv_gas_total</th>\n",
       "      <th id=\"T_dc039_level0_col13\" class=\"col_heading level0 col13\" >drv_temperature_first</th>\n",
       "      <th id=\"T_dc039_level0_col14\" class=\"col_heading level0 col14\" >drv_temperature_fin</th>\n",
       "    </tr>\n",
       "  </thead>\n",
       "  <tbody>\n",
       "    <tr>\n",
       "      <th id=\"T_dc039_level0_row0\" class=\"row_heading level0 row0\" >drv_heating_duration_sum</th>\n",
       "      <td id=\"T_dc039_row0_col0\" class=\"data row0 col0\" >1.000000</td>\n",
       "      <td id=\"T_dc039_row0_col1\" class=\"data row0 col1\" >-0.016993</td>\n",
       "      <td id=\"T_dc039_row0_col2\" class=\"data row0 col2\" >0.002677</td>\n",
       "      <td id=\"T_dc039_row0_col3\" class=\"data row0 col3\" >-0.012590</td>\n",
       "      <td id=\"T_dc039_row0_col4\" class=\"data row0 col4\" >0.004193</td>\n",
       "      <td id=\"T_dc039_row0_col5\" class=\"data row0 col5\" >-0.074408</td>\n",
       "      <td id=\"T_dc039_row0_col6\" class=\"data row0 col6\" >0.004601</td>\n",
       "      <td id=\"T_dc039_row0_col7\" class=\"data row0 col7\" >0.026955</td>\n",
       "      <td id=\"T_dc039_row0_col8\" class=\"data row0 col8\" >0.006527</td>\n",
       "      <td id=\"T_dc039_row0_col9\" class=\"data row0 col9\" >-0.009884</td>\n",
       "      <td id=\"T_dc039_row0_col10\" class=\"data row0 col10\" >0.002102</td>\n",
       "      <td id=\"T_dc039_row0_col11\" class=\"data row0 col11\" >-0.026888</td>\n",
       "      <td id=\"T_dc039_row0_col12\" class=\"data row0 col12\" >0.019522</td>\n",
       "      <td id=\"T_dc039_row0_col13\" class=\"data row0 col13\" >-0.003580</td>\n",
       "      <td id=\"T_dc039_row0_col14\" class=\"data row0 col14\" >-0.006381</td>\n",
       "    </tr>\n",
       "    <tr>\n",
       "      <th id=\"T_dc039_level0_row1\" class=\"row_heading level0 row1\" >drv_cooling_duration_sum</th>\n",
       "      <td id=\"T_dc039_row1_col0\" class=\"data row1 col0\" >-0.016993</td>\n",
       "      <td id=\"T_dc039_row1_col1\" class=\"data row1 col1\" >1.000000</td>\n",
       "      <td id=\"T_dc039_row1_col2\" class=\"data row1 col2\" >0.002985</td>\n",
       "      <td id=\"T_dc039_row1_col3\" class=\"data row1 col3\" >-0.015294</td>\n",
       "      <td id=\"T_dc039_row1_col4\" class=\"data row1 col4\" >-0.016298</td>\n",
       "      <td id=\"T_dc039_row1_col5\" class=\"data row1 col5\" >0.015047</td>\n",
       "      <td id=\"T_dc039_row1_col6\" class=\"data row1 col6\" >0.003367</td>\n",
       "      <td id=\"T_dc039_row1_col7\" class=\"data row1 col7\" >-0.003649</td>\n",
       "      <td id=\"T_dc039_row1_col8\" class=\"data row1 col8\" >0.009885</td>\n",
       "      <td id=\"T_dc039_row1_col9\" class=\"data row1 col9\" >-0.001839</td>\n",
       "      <td id=\"T_dc039_row1_col10\" class=\"data row1 col10\" >-0.001095</td>\n",
       "      <td id=\"T_dc039_row1_col11\" class=\"data row1 col11\" >0.021450</td>\n",
       "      <td id=\"T_dc039_row1_col12\" class=\"data row1 col12\" >0.008166</td>\n",
       "      <td id=\"T_dc039_row1_col13\" class=\"data row1 col13\" >-0.006476</td>\n",
       "      <td id=\"T_dc039_row1_col14\" class=\"data row1 col14\" >-0.019463</td>\n",
       "    </tr>\n",
       "    <tr>\n",
       "      <th id=\"T_dc039_level0_row2\" class=\"row_heading level0 row2\" >drv_heating_duration_last</th>\n",
       "      <td id=\"T_dc039_row2_col0\" class=\"data row2 col0\" >0.002677</td>\n",
       "      <td id=\"T_dc039_row2_col1\" class=\"data row2 col1\" >0.002985</td>\n",
       "      <td id=\"T_dc039_row2_col2\" class=\"data row2 col2\" >1.000000</td>\n",
       "      <td id=\"T_dc039_row2_col3\" class=\"data row2 col3\" >-0.004208</td>\n",
       "      <td id=\"T_dc039_row2_col4\" class=\"data row2 col4\" >-0.000538</td>\n",
       "      <td id=\"T_dc039_row2_col5\" class=\"data row2 col5\" >0.005195</td>\n",
       "      <td id=\"T_dc039_row2_col6\" class=\"data row2 col6\" >0.026345</td>\n",
       "      <td id=\"T_dc039_row2_col7\" class=\"data row2 col7\" >-0.002727</td>\n",
       "      <td id=\"T_dc039_row2_col8\" class=\"data row2 col8\" >0.000942</td>\n",
       "      <td id=\"T_dc039_row2_col9\" class=\"data row2 col9\" >0.001840</td>\n",
       "      <td id=\"T_dc039_row2_col10\" class=\"data row2 col10\" >0.001625</td>\n",
       "      <td id=\"T_dc039_row2_col11\" class=\"data row2 col11\" >-0.008397</td>\n",
       "      <td id=\"T_dc039_row2_col12\" class=\"data row2 col12\" >0.003883</td>\n",
       "      <td id=\"T_dc039_row2_col13\" class=\"data row2 col13\" >-0.004982</td>\n",
       "      <td id=\"T_dc039_row2_col14\" class=\"data row2 col14\" >-0.013249</td>\n",
       "    </tr>\n",
       "    <tr>\n",
       "      <th id=\"T_dc039_level0_row3\" class=\"row_heading level0 row3\" >drv_cooling_duration_last</th>\n",
       "      <td id=\"T_dc039_row3_col0\" class=\"data row3 col0\" >-0.012590</td>\n",
       "      <td id=\"T_dc039_row3_col1\" class=\"data row3 col1\" >-0.015294</td>\n",
       "      <td id=\"T_dc039_row3_col2\" class=\"data row3 col2\" >-0.004208</td>\n",
       "      <td id=\"T_dc039_row3_col3\" class=\"data row3 col3\" >1.000000</td>\n",
       "      <td id=\"T_dc039_row3_col4\" class=\"data row3 col4\" >0.038080</td>\n",
       "      <td id=\"T_dc039_row3_col5\" class=\"data row3 col5\" >-0.000021</td>\n",
       "      <td id=\"T_dc039_row3_col6\" class=\"data row3 col6\" >-0.008105</td>\n",
       "      <td id=\"T_dc039_row3_col7\" class=\"data row3 col7\" >0.008386</td>\n",
       "      <td id=\"T_dc039_row3_col8\" class=\"data row3 col8\" >0.014966</td>\n",
       "      <td id=\"T_dc039_row3_col9\" class=\"data row3 col9\" >0.000424</td>\n",
       "      <td id=\"T_dc039_row3_col10\" class=\"data row3 col10\" >-0.001156</td>\n",
       "      <td id=\"T_dc039_row3_col11\" class=\"data row3 col11\" >0.008064</td>\n",
       "      <td id=\"T_dc039_row3_col12\" class=\"data row3 col12\" >0.013153</td>\n",
       "      <td id=\"T_dc039_row3_col13\" class=\"data row3 col13\" >-0.010959</td>\n",
       "      <td id=\"T_dc039_row3_col14\" class=\"data row3 col14\" >0.002909</td>\n",
       "    </tr>\n",
       "    <tr>\n",
       "      <th id=\"T_dc039_level0_row4\" class=\"row_heading level0 row4\" >drv_active_power_consumption_sum</th>\n",
       "      <td id=\"T_dc039_row4_col0\" class=\"data row4 col0\" >0.004193</td>\n",
       "      <td id=\"T_dc039_row4_col1\" class=\"data row4 col1\" >-0.016298</td>\n",
       "      <td id=\"T_dc039_row4_col2\" class=\"data row4 col2\" >-0.000538</td>\n",
       "      <td id=\"T_dc039_row4_col3\" class=\"data row4 col3\" >0.038080</td>\n",
       "      <td id=\"T_dc039_row4_col4\" class=\"data row4 col4\" >1.000000</td>\n",
       "      <td id=\"T_dc039_row4_col5\" class=\"data row4 col5\" >0.006133</td>\n",
       "      <td id=\"T_dc039_row4_col6\" class=\"data row4 col6\" >-0.004317</td>\n",
       "      <td id=\"T_dc039_row4_col7\" class=\"data row4 col7\" >0.013826</td>\n",
       "      <td id=\"T_dc039_row4_col8\" class=\"data row4 col8\" >0.003111</td>\n",
       "      <td id=\"T_dc039_row4_col9\" class=\"data row4 col9\" >-0.001892</td>\n",
       "      <td id=\"T_dc039_row4_col10\" class=\"data row4 col10\" >0.003045</td>\n",
       "      <td id=\"T_dc039_row4_col11\" class=\"data row4 col11\" >0.003732</td>\n",
       "      <td id=\"T_dc039_row4_col12\" class=\"data row4 col12\" >-0.020652</td>\n",
       "      <td id=\"T_dc039_row4_col13\" class=\"data row4 col13\" >0.020439</td>\n",
       "      <td id=\"T_dc039_row4_col14\" class=\"data row4 col14\" >0.023682</td>\n",
       "    </tr>\n",
       "    <tr>\n",
       "      <th id=\"T_dc039_level0_row5\" class=\"row_heading level0 row5\" >drv_reactive_power_consumption_sum</th>\n",
       "      <td id=\"T_dc039_row5_col0\" class=\"data row5 col0\" >-0.074408</td>\n",
       "      <td id=\"T_dc039_row5_col1\" class=\"data row5 col1\" >0.015047</td>\n",
       "      <td id=\"T_dc039_row5_col2\" class=\"data row5 col2\" >0.005195</td>\n",
       "      <td id=\"T_dc039_row5_col3\" class=\"data row5 col3\" >-0.000021</td>\n",
       "      <td id=\"T_dc039_row5_col4\" class=\"data row5 col4\" >0.006133</td>\n",
       "      <td id=\"T_dc039_row5_col5\" class=\"data row5 col5\" >1.000000</td>\n",
       "      <td id=\"T_dc039_row5_col6\" class=\"data row5 col6\" >-0.011253</td>\n",
       "      <td id=\"T_dc039_row5_col7\" class=\"data row5 col7\" >-0.009737</td>\n",
       "      <td id=\"T_dc039_row5_col8\" class=\"data row5 col8\" >0.004997</td>\n",
       "      <td id=\"T_dc039_row5_col9\" class=\"data row5 col9\" >-0.000765</td>\n",
       "      <td id=\"T_dc039_row5_col10\" class=\"data row5 col10\" >0.007950</td>\n",
       "      <td id=\"T_dc039_row5_col11\" class=\"data row5 col11\" >-0.005906</td>\n",
       "      <td id=\"T_dc039_row5_col12\" class=\"data row5 col12\" >-0.016782</td>\n",
       "      <td id=\"T_dc039_row5_col13\" class=\"data row5 col13\" >0.093077</td>\n",
       "      <td id=\"T_dc039_row5_col14\" class=\"data row5 col14\" >0.008106</td>\n",
       "    </tr>\n",
       "    <tr>\n",
       "      <th id=\"T_dc039_level0_row6\" class=\"row_heading level0 row6\" >drv_active_power_last</th>\n",
       "      <td id=\"T_dc039_row6_col0\" class=\"data row6 col0\" >0.004601</td>\n",
       "      <td id=\"T_dc039_row6_col1\" class=\"data row6 col1\" >0.003367</td>\n",
       "      <td id=\"T_dc039_row6_col2\" class=\"data row6 col2\" >0.026345</td>\n",
       "      <td id=\"T_dc039_row6_col3\" class=\"data row6 col3\" >-0.008105</td>\n",
       "      <td id=\"T_dc039_row6_col4\" class=\"data row6 col4\" >-0.004317</td>\n",
       "      <td id=\"T_dc039_row6_col5\" class=\"data row6 col5\" >-0.011253</td>\n",
       "      <td id=\"T_dc039_row6_col6\" class=\"data row6 col6\" >1.000000</td>\n",
       "      <td id=\"T_dc039_row6_col7\" class=\"data row6 col7\" >-0.003097</td>\n",
       "      <td id=\"T_dc039_row6_col8\" class=\"data row6 col8\" >-0.019126</td>\n",
       "      <td id=\"T_dc039_row6_col9\" class=\"data row6 col9\" >-0.026544</td>\n",
       "      <td id=\"T_dc039_row6_col10\" class=\"data row6 col10\" >-0.014452</td>\n",
       "      <td id=\"T_dc039_row6_col11\" class=\"data row6 col11\" >-0.001730</td>\n",
       "      <td id=\"T_dc039_row6_col12\" class=\"data row6 col12\" >-0.013621</td>\n",
       "      <td id=\"T_dc039_row6_col13\" class=\"data row6 col13\" >0.009548</td>\n",
       "      <td id=\"T_dc039_row6_col14\" class=\"data row6 col14\" >0.006731</td>\n",
       "    </tr>\n",
       "    <tr>\n",
       "      <th id=\"T_dc039_level0_row7\" class=\"row_heading level0 row7\" >drv_reactive_power_last</th>\n",
       "      <td id=\"T_dc039_row7_col0\" class=\"data row7 col0\" >0.026955</td>\n",
       "      <td id=\"T_dc039_row7_col1\" class=\"data row7 col1\" >-0.003649</td>\n",
       "      <td id=\"T_dc039_row7_col2\" class=\"data row7 col2\" >-0.002727</td>\n",
       "      <td id=\"T_dc039_row7_col3\" class=\"data row7 col3\" >0.008386</td>\n",
       "      <td id=\"T_dc039_row7_col4\" class=\"data row7 col4\" >0.013826</td>\n",
       "      <td id=\"T_dc039_row7_col5\" class=\"data row7 col5\" >-0.009737</td>\n",
       "      <td id=\"T_dc039_row7_col6\" class=\"data row7 col6\" >-0.003097</td>\n",
       "      <td id=\"T_dc039_row7_col7\" class=\"data row7 col7\" >1.000000</td>\n",
       "      <td id=\"T_dc039_row7_col8\" class=\"data row7 col8\" >0.004794</td>\n",
       "      <td id=\"T_dc039_row7_col9\" class=\"data row7 col9\" >-0.003218</td>\n",
       "      <td id=\"T_dc039_row7_col10\" class=\"data row7 col10\" >-0.008000</td>\n",
       "      <td id=\"T_dc039_row7_col11\" class=\"data row7 col11\" >0.000935</td>\n",
       "      <td id=\"T_dc039_row7_col12\" class=\"data row7 col12\" >-0.008459</td>\n",
       "      <td id=\"T_dc039_row7_col13\" class=\"data row7 col13\" >0.015996</td>\n",
       "      <td id=\"T_dc039_row7_col14\" class=\"data row7 col14\" >-0.041715</td>\n",
       "    </tr>\n",
       "    <tr>\n",
       "      <th id=\"T_dc039_level0_row8\" class=\"row_heading level0 row8\" >drv_active_power_consumption_last</th>\n",
       "      <td id=\"T_dc039_row8_col0\" class=\"data row8 col0\" >0.006527</td>\n",
       "      <td id=\"T_dc039_row8_col1\" class=\"data row8 col1\" >0.009885</td>\n",
       "      <td id=\"T_dc039_row8_col2\" class=\"data row8 col2\" >0.000942</td>\n",
       "      <td id=\"T_dc039_row8_col3\" class=\"data row8 col3\" >0.014966</td>\n",
       "      <td id=\"T_dc039_row8_col4\" class=\"data row8 col4\" >0.003111</td>\n",
       "      <td id=\"T_dc039_row8_col5\" class=\"data row8 col5\" >0.004997</td>\n",
       "      <td id=\"T_dc039_row8_col6\" class=\"data row8 col6\" >-0.019126</td>\n",
       "      <td id=\"T_dc039_row8_col7\" class=\"data row8 col7\" >0.004794</td>\n",
       "      <td id=\"T_dc039_row8_col8\" class=\"data row8 col8\" >1.000000</td>\n",
       "      <td id=\"T_dc039_row8_col9\" class=\"data row8 col9\" >0.007935</td>\n",
       "      <td id=\"T_dc039_row8_col10\" class=\"data row8 col10\" >0.006022</td>\n",
       "      <td id=\"T_dc039_row8_col11\" class=\"data row8 col11\" >-0.008716</td>\n",
       "      <td id=\"T_dc039_row8_col12\" class=\"data row8 col12\" >-0.019507</td>\n",
       "      <td id=\"T_dc039_row8_col13\" class=\"data row8 col13\" >0.005230</td>\n",
       "      <td id=\"T_dc039_row8_col14\" class=\"data row8 col14\" >0.011211</td>\n",
       "    </tr>\n",
       "    <tr>\n",
       "      <th id=\"T_dc039_level0_row9\" class=\"row_heading level0 row9\" >drv_reactive_power_consumption_last</th>\n",
       "      <td id=\"T_dc039_row9_col0\" class=\"data row9 col0\" >-0.009884</td>\n",
       "      <td id=\"T_dc039_row9_col1\" class=\"data row9 col1\" >-0.001839</td>\n",
       "      <td id=\"T_dc039_row9_col2\" class=\"data row9 col2\" >0.001840</td>\n",
       "      <td id=\"T_dc039_row9_col3\" class=\"data row9 col3\" >0.000424</td>\n",
       "      <td id=\"T_dc039_row9_col4\" class=\"data row9 col4\" >-0.001892</td>\n",
       "      <td id=\"T_dc039_row9_col5\" class=\"data row9 col5\" >-0.000765</td>\n",
       "      <td id=\"T_dc039_row9_col6\" class=\"data row9 col6\" >-0.026544</td>\n",
       "      <td id=\"T_dc039_row9_col7\" class=\"data row9 col7\" >-0.003218</td>\n",
       "      <td id=\"T_dc039_row9_col8\" class=\"data row9 col8\" >0.007935</td>\n",
       "      <td id=\"T_dc039_row9_col9\" class=\"data row9 col9\" >1.000000</td>\n",
       "      <td id=\"T_dc039_row9_col10\" class=\"data row9 col10\" >0.004092</td>\n",
       "      <td id=\"T_dc039_row9_col11\" class=\"data row9 col11\" >0.001668</td>\n",
       "      <td id=\"T_dc039_row9_col12\" class=\"data row9 col12\" >0.002150</td>\n",
       "      <td id=\"T_dc039_row9_col13\" class=\"data row9 col13\" >-0.001178</td>\n",
       "      <td id=\"T_dc039_row9_col14\" class=\"data row9 col14\" >0.005759</td>\n",
       "    </tr>\n",
       "    <tr>\n",
       "      <th id=\"T_dc039_level0_row10\" class=\"row_heading level0 row10\" >drv_wire_total</th>\n",
       "      <td id=\"T_dc039_row10_col0\" class=\"data row10 col0\" >0.002102</td>\n",
       "      <td id=\"T_dc039_row10_col1\" class=\"data row10 col1\" >-0.001095</td>\n",
       "      <td id=\"T_dc039_row10_col2\" class=\"data row10 col2\" >0.001625</td>\n",
       "      <td id=\"T_dc039_row10_col3\" class=\"data row10 col3\" >-0.001156</td>\n",
       "      <td id=\"T_dc039_row10_col4\" class=\"data row10 col4\" >0.003045</td>\n",
       "      <td id=\"T_dc039_row10_col5\" class=\"data row10 col5\" >0.007950</td>\n",
       "      <td id=\"T_dc039_row10_col6\" class=\"data row10 col6\" >-0.014452</td>\n",
       "      <td id=\"T_dc039_row10_col7\" class=\"data row10 col7\" >-0.008000</td>\n",
       "      <td id=\"T_dc039_row10_col8\" class=\"data row10 col8\" >0.006022</td>\n",
       "      <td id=\"T_dc039_row10_col9\" class=\"data row10 col9\" >0.004092</td>\n",
       "      <td id=\"T_dc039_row10_col10\" class=\"data row10 col10\" >1.000000</td>\n",
       "      <td id=\"T_dc039_row10_col11\" class=\"data row10 col11\" >-0.021861</td>\n",
       "      <td id=\"T_dc039_row10_col12\" class=\"data row10 col12\" >-0.002273</td>\n",
       "      <td id=\"T_dc039_row10_col13\" class=\"data row10 col13\" >0.016791</td>\n",
       "      <td id=\"T_dc039_row10_col14\" class=\"data row10 col14\" >0.013536</td>\n",
       "    </tr>\n",
       "    <tr>\n",
       "      <th id=\"T_dc039_level0_row11\" class=\"row_heading level0 row11\" >drv_bulk_total</th>\n",
       "      <td id=\"T_dc039_row11_col0\" class=\"data row11 col0\" >-0.026888</td>\n",
       "      <td id=\"T_dc039_row11_col1\" class=\"data row11 col1\" >0.021450</td>\n",
       "      <td id=\"T_dc039_row11_col2\" class=\"data row11 col2\" >-0.008397</td>\n",
       "      <td id=\"T_dc039_row11_col3\" class=\"data row11 col3\" >0.008064</td>\n",
       "      <td id=\"T_dc039_row11_col4\" class=\"data row11 col4\" >0.003732</td>\n",
       "      <td id=\"T_dc039_row11_col5\" class=\"data row11 col5\" >-0.005906</td>\n",
       "      <td id=\"T_dc039_row11_col6\" class=\"data row11 col6\" >-0.001730</td>\n",
       "      <td id=\"T_dc039_row11_col7\" class=\"data row11 col7\" >0.000935</td>\n",
       "      <td id=\"T_dc039_row11_col8\" class=\"data row11 col8\" >-0.008716</td>\n",
       "      <td id=\"T_dc039_row11_col9\" class=\"data row11 col9\" >0.001668</td>\n",
       "      <td id=\"T_dc039_row11_col10\" class=\"data row11 col10\" >-0.021861</td>\n",
       "      <td id=\"T_dc039_row11_col11\" class=\"data row11 col11\" >1.000000</td>\n",
       "      <td id=\"T_dc039_row11_col12\" class=\"data row11 col12\" >0.002006</td>\n",
       "      <td id=\"T_dc039_row11_col13\" class=\"data row11 col13\" >0.005389</td>\n",
       "      <td id=\"T_dc039_row11_col14\" class=\"data row11 col14\" >0.003098</td>\n",
       "    </tr>\n",
       "    <tr>\n",
       "      <th id=\"T_dc039_level0_row12\" class=\"row_heading level0 row12\" >drv_gas_total</th>\n",
       "      <td id=\"T_dc039_row12_col0\" class=\"data row12 col0\" >0.019522</td>\n",
       "      <td id=\"T_dc039_row12_col1\" class=\"data row12 col1\" >0.008166</td>\n",
       "      <td id=\"T_dc039_row12_col2\" class=\"data row12 col2\" >0.003883</td>\n",
       "      <td id=\"T_dc039_row12_col3\" class=\"data row12 col3\" >0.013153</td>\n",
       "      <td id=\"T_dc039_row12_col4\" class=\"data row12 col4\" >-0.020652</td>\n",
       "      <td id=\"T_dc039_row12_col5\" class=\"data row12 col5\" >-0.016782</td>\n",
       "      <td id=\"T_dc039_row12_col6\" class=\"data row12 col6\" >-0.013621</td>\n",
       "      <td id=\"T_dc039_row12_col7\" class=\"data row12 col7\" >-0.008459</td>\n",
       "      <td id=\"T_dc039_row12_col8\" class=\"data row12 col8\" >-0.019507</td>\n",
       "      <td id=\"T_dc039_row12_col9\" class=\"data row12 col9\" >0.002150</td>\n",
       "      <td id=\"T_dc039_row12_col10\" class=\"data row12 col10\" >-0.002273</td>\n",
       "      <td id=\"T_dc039_row12_col11\" class=\"data row12 col11\" >0.002006</td>\n",
       "      <td id=\"T_dc039_row12_col12\" class=\"data row12 col12\" >1.000000</td>\n",
       "      <td id=\"T_dc039_row12_col13\" class=\"data row12 col13\" >-0.017084</td>\n",
       "      <td id=\"T_dc039_row12_col14\" class=\"data row12 col14\" >0.091386</td>\n",
       "    </tr>\n",
       "    <tr>\n",
       "      <th id=\"T_dc039_level0_row13\" class=\"row_heading level0 row13\" >drv_temperature_first</th>\n",
       "      <td id=\"T_dc039_row13_col0\" class=\"data row13 col0\" >-0.003580</td>\n",
       "      <td id=\"T_dc039_row13_col1\" class=\"data row13 col1\" >-0.006476</td>\n",
       "      <td id=\"T_dc039_row13_col2\" class=\"data row13 col2\" >-0.004982</td>\n",
       "      <td id=\"T_dc039_row13_col3\" class=\"data row13 col3\" >-0.010959</td>\n",
       "      <td id=\"T_dc039_row13_col4\" class=\"data row13 col4\" >0.020439</td>\n",
       "      <td id=\"T_dc039_row13_col5\" class=\"data row13 col5\" >0.093077</td>\n",
       "      <td id=\"T_dc039_row13_col6\" class=\"data row13 col6\" >0.009548</td>\n",
       "      <td id=\"T_dc039_row13_col7\" class=\"data row13 col7\" >0.015996</td>\n",
       "      <td id=\"T_dc039_row13_col8\" class=\"data row13 col8\" >0.005230</td>\n",
       "      <td id=\"T_dc039_row13_col9\" class=\"data row13 col9\" >-0.001178</td>\n",
       "      <td id=\"T_dc039_row13_col10\" class=\"data row13 col10\" >0.016791</td>\n",
       "      <td id=\"T_dc039_row13_col11\" class=\"data row13 col11\" >0.005389</td>\n",
       "      <td id=\"T_dc039_row13_col12\" class=\"data row13 col12\" >-0.017084</td>\n",
       "      <td id=\"T_dc039_row13_col13\" class=\"data row13 col13\" >1.000000</td>\n",
       "      <td id=\"T_dc039_row13_col14\" class=\"data row13 col14\" >-0.010977</td>\n",
       "    </tr>\n",
       "    <tr>\n",
       "      <th id=\"T_dc039_level0_row14\" class=\"row_heading level0 row14\" >drv_temperature_fin</th>\n",
       "      <td id=\"T_dc039_row14_col0\" class=\"data row14 col0\" >-0.006381</td>\n",
       "      <td id=\"T_dc039_row14_col1\" class=\"data row14 col1\" >-0.019463</td>\n",
       "      <td id=\"T_dc039_row14_col2\" class=\"data row14 col2\" >-0.013249</td>\n",
       "      <td id=\"T_dc039_row14_col3\" class=\"data row14 col3\" >0.002909</td>\n",
       "      <td id=\"T_dc039_row14_col4\" class=\"data row14 col4\" >0.023682</td>\n",
       "      <td id=\"T_dc039_row14_col5\" class=\"data row14 col5\" >0.008106</td>\n",
       "      <td id=\"T_dc039_row14_col6\" class=\"data row14 col6\" >0.006731</td>\n",
       "      <td id=\"T_dc039_row14_col7\" class=\"data row14 col7\" >-0.041715</td>\n",
       "      <td id=\"T_dc039_row14_col8\" class=\"data row14 col8\" >0.011211</td>\n",
       "      <td id=\"T_dc039_row14_col9\" class=\"data row14 col9\" >0.005759</td>\n",
       "      <td id=\"T_dc039_row14_col10\" class=\"data row14 col10\" >0.013536</td>\n",
       "      <td id=\"T_dc039_row14_col11\" class=\"data row14 col11\" >0.003098</td>\n",
       "      <td id=\"T_dc039_row14_col12\" class=\"data row14 col12\" >0.091386</td>\n",
       "      <td id=\"T_dc039_row14_col13\" class=\"data row14 col13\" >-0.010977</td>\n",
       "      <td id=\"T_dc039_row14_col14\" class=\"data row14 col14\" >1.000000</td>\n",
       "    </tr>\n",
       "  </tbody>\n",
       "</table>\n"
      ],
      "text/plain": [
       "<pandas.io.formats.style.Styler at 0x2b65f947cd0>"
      ]
     },
     "execution_count": 36,
     "metadata": {},
     "output_type": "execute_result"
    }
   ],
   "source": [
    "# корреляция признаков после предобработки\n",
    "features_transformed.corr().style.background_gradient(cmap='viridis')"
   ]
  },
  {
   "cell_type": "code",
   "execution_count": 37,
   "id": "ead58dce",
   "metadata": {
    "ExecuteTime": {
     "end_time": "2023-06-16T22:21:58.033792Z",
     "start_time": "2023-06-16T22:21:57.926710Z"
    }
   },
   "outputs": [],
   "source": [
    "# создание выборок\n",
    "features_train, features_test, target_train, target_test = train_test_split(\n",
    "    features_cutted.drop('temperature_fin', axis=1), \n",
    "    features_cutted['temperature_fin'], test_size=0.25, random_state=220523\n",
    ")"
   ]
  },
  {
   "cell_type": "markdown",
   "id": "4e13c3fe",
   "metadata": {},
   "source": [
    "### Обучение модели"
   ]
  },
  {
   "cell_type": "markdown",
   "id": "6b49e371",
   "metadata": {},
   "source": [
    "Создадим несколько моделей различных типов и оценим их точность на кросс-валидации.\n",
    "Рассматриваемые модели:\n",
    "- `LGBMRegressor`;\n",
    "- `LinearRegression`;\n",
    "- `ElasticNet`;\n",
    "- `KNeighborsRegressor`. \n",
    "Для оценки базового уровня точности включим в список также и `DummyRegressor`. Для каждой модели выберем несколько гиперпараметров для обучения. Сам их подбор и кросс-валидацию будем производить с помощью библиотеки `Optune`."
   ]
  },
  {
   "cell_type": "code",
   "execution_count": 38,
   "id": "39be0330",
   "metadata": {
    "ExecuteTime": {
     "end_time": "2023-06-16T22:21:58.124714Z",
     "start_time": "2023-06-16T22:21:58.035789Z"
    }
   },
   "outputs": [],
   "source": [
    "# список моделей с параметрами для optuna\n",
    "models = [\n",
    "    ('LGBMRegressor', LGBMRegressor(random_state=220523), {\n",
    "        'reg__boosting_type': CategoricalDistribution(['gbdt', 'dart', 'goss']),\n",
    "        'reg__learning_rate': FloatDistribution(0.1, 0.9, 0.05),\n",
    "        'reg__n_estimators': IntDistribution(1, 200, 10),\n",
    "        'reg__max_depth': IntDistribution(2, 12, 2)    \n",
    "    }),\n",
    "    ('LinearRegression', LinearRegression(), {        \n",
    "    }),\n",
    "    ('ElasticNet', ElasticNet(random_state=220523), {\n",
    "        'reg__alpha': FloatDistribution(0.1, 1, 0.1),\n",
    "        'reg__l1_ratio': FloatDistribution(0.1, 1, 0.1)\n",
    "    }),\n",
    "    ('KNeighborsRegressor', KNeighborsRegressor(), {\n",
    "        'reg__n_neighbors': IntDistribution(2, 10, 1),\n",
    "    }),\n",
    "    ('DummyRegressor', DummyRegressor(), {\n",
    "        'reg__strategy': CategoricalDistribution(['mean', 'median', 'quantile']),\n",
    "        'reg__quantile': FloatDistribution(0.1, 1, 0.1)\n",
    "    })\n",
    "]"
   ]
  },
  {
   "cell_type": "code",
   "execution_count": 77,
   "id": "30492512",
   "metadata": {
    "ExecuteTime": {
     "end_time": "2023-06-16T22:46:30.804080Z",
     "start_time": "2023-06-16T22:42:53.919819Z"
    },
    "scrolled": true
   },
   "outputs": [
    {
     "name": "stdout",
     "output_type": "stream",
     "text": [
      "Точность модели LGBMRegressor по MAE: 5.609972\n",
      "Точность модели LinearRegression по MAE: 5.851803\n",
      "Точность модели ElasticNet по MAE: 5.828490\n",
      "Точность модели KNeighborsRegressor по MAE: 6.216459\n",
      "Точность модели DummyRegressor по MAE: 7.039747\n"
     ]
    }
   ],
   "source": [
    "# список результатов и обученных моделей\n",
    "results = []\n",
    "# проход по списку моделей\n",
    "for name, model, param in models:\n",
    "    search_cv = OptunaSearchCV(estimator=Pipeline(steps=[('prep', preprocessor), ('reg', model)]),\n",
    "                               param_distributions=param,\n",
    "                               scoring='neg_mean_absolute_error',\n",
    "                               verbose=-1,\n",
    "                               n_jobs=-1,\n",
    "                               n_trials=100,\n",
    "                               cv=10,\n",
    "                               random_state=220523\n",
    "                              ).fit(X=features_train, y=target_train)\n",
    "    # запись имени модели, точности и геперпараметров\n",
    "    results.append((name, - search_cv.best_score_, search_cv.best_estimator_))\n",
    "    print('Точность модели %s по MAE: %f' % (name, - search_cv.best_score_))"
   ]
  },
  {
   "cell_type": "code",
   "execution_count": 78,
   "id": "dd52d659",
   "metadata": {
    "ExecuteTime": {
     "end_time": "2023-06-16T22:46:37.360469Z",
     "start_time": "2023-06-16T22:46:37.353422Z"
    }
   },
   "outputs": [],
   "source": [
    "# датафрейм результатов и обученных моделей\n",
    "cv_results = pd.DataFrame(results, columns=['model', 'score', 'params'])\n",
    "cv_results.set_index('model', inplace=True)"
   ]
  },
  {
   "cell_type": "markdown",
   "id": "a7746c3b",
   "metadata": {},
   "source": [
    "Выведем график значений точности для использованных моделей. В качестве бозового уровня точности примем точность `DummyRegressor`"
   ]
  },
  {
   "cell_type": "code",
   "execution_count": 79,
   "id": "840b6e14",
   "metadata": {
    "ExecuteTime": {
     "end_time": "2023-06-16T22:46:41.996170Z",
     "start_time": "2023-06-16T22:46:41.824407Z"
    }
   },
   "outputs": [
    {
     "data": {
      "image/png": "[encoded data removed]"
     },
     "metadata": {},
     "output_type": "display_data"
    }
   ],
   "source": [
    "# диаграмма точности моделей на кросс-валидации\n",
    "fig = px.bar(cv_results,\n",
    "             x='score',\n",
    "             #text_auto=True,\n",
    "             color=['other', 'other', 'other', 'other','base'],\n",
    "             title=u'Точность моделей по метрике MAE<br> на кросс-валидации')\n",
    "fig.update_layout(autosize=False, width=950, height=500)\n",
    "fig.update_xaxes(title_text='MAE')\n",
    "fig.update_yaxes(title_text=u'Тип модели')\n",
    "fig.show(renderer='png')"
   ]
  },
  {
   "cell_type": "markdown",
   "id": "32920350",
   "metadata": {},
   "source": [
    "## Тестирование"
   ]
  },
  {
   "cell_type": "markdown",
   "id": "edd18483",
   "metadata": {},
   "source": [
    "1. Проверим качество лучшей модели на тестовой выборке.\n",
    "2. Исследуем важность признаков."
   ]
  },
  {
   "cell_type": "markdown",
   "id": "7afec002",
   "metadata": {},
   "source": [
    "На кросс-валидации лучшую точность показала модель на основе `LGBMRegressor`. Оценим её точность на тестовой выборке. Так как мы перебирали модели в цикле повторим в пайлане предобработку признаков, на этот раз и для тестовой выборки.  \n",
    "Затем взглянем на наиболее значимые признаки."
   ]
  },
  {
   "cell_type": "markdown",
   "id": "e620f21d",
   "metadata": {},
   "source": [
    "### Тестирование лучшей модели"
   ]
  },
  {
   "cell_type": "code",
   "execution_count": 80,
   "id": "5abe1e18",
   "metadata": {
    "ExecuteTime": {
     "end_time": "2023-06-16T22:46:42.075166Z",
     "start_time": "2023-06-16T22:46:41.999168Z"
    }
   },
   "outputs": [
    {
     "name": "stdout",
     "output_type": "stream",
     "text": [
      "Точность прогноза на тестовых данных для LGBMRegressor по MAE равна 6.327.\n"
     ]
    }
   ],
   "source": [
    "# данные после кодирования и масштабирования\n",
    "features_train_transformed = preprocessor.fit_transform(features_train)\n",
    "features_test_transformed = preprocessor.transform(features_test)\n",
    "\n",
    "# выбор лучшей модели\n",
    "best_name = cv_results.query('score == score.min()').index[0]\n",
    "best_model = cv_results.query('score == score.min()').params[0][1]\n",
    "best_model.fit(features_train_transformed, target_train)\n",
    "# результаты оценки модели тестовых данных\n",
    "predictions = best_model.predict(features_test_transformed)                               \n",
    "score = mean_absolute_error(target_test, predictions)\n",
    "print('Точность прогноза на тестовых данных для %s по MAE равна %.3f.' %(best_name, score))"
   ]
  },
  {
   "cell_type": "markdown",
   "id": "522218a3",
   "metadata": {},
   "source": [
    "Заказчиком был определен минимальный порог точности $MAE\\le6.8$. Видим, что выбранная модель его успешно преодолела"
   ]
  },
  {
   "cell_type": "markdown",
   "id": "22ac121a",
   "metadata": {},
   "source": [
    "### Оценка важности признаков"
   ]
  },
  {
   "cell_type": "code",
   "execution_count": 81,
   "id": "1541a78e",
   "metadata": {
    "ExecuteTime": {
     "end_time": "2023-06-16T22:46:42.098601Z",
     "start_time": "2023-06-16T22:46:42.077172Z"
    }
   },
   "outputs": [],
   "source": [
    "# серия по значимости признаков\n",
    "fi = pd.Series(best_model.feature_importances_, index=features_derived_names[:-1], name='Уровень значимости')\n",
    "fi.index.name='Производные признаки'"
   ]
  },
  {
   "cell_type": "code",
   "execution_count": 82,
   "id": "04a687ab",
   "metadata": {
    "ExecuteTime": {
     "end_time": "2023-06-16T22:46:42.492372Z",
     "start_time": "2023-06-16T22:46:42.102603Z"
    }
   },
   "outputs": [
    {
     "data": {
      "image/png": "[encoded data removed]"
     },
     "metadata": {},
     "output_type": "display_data"
    }
   ],
   "source": [
    "# диаграмма значимости признаков\n",
    "fig = px.bar(fi,\n",
    "             color=fi.index,\n",
    "             #text_auto=True,\n",
    "             title=f'Значимость признаков модели {best_name}<br>с лучшей точностью на кросс-валидации')\n",
    "fig.update_layout(autosize=False, width=950, height=600)\n",
    "fig.update_yaxes(title_text=u'Уровень значимости')\n",
    "fig.show(renderer='png')"
   ]
  },
  {
   "cell_type": "code",
   "execution_count": 83,
   "id": "04775883",
   "metadata": {
    "ExecuteTime": {
     "end_time": "2023-06-16T22:46:42.511003Z",
     "start_time": "2023-06-16T22:46:42.494368Z"
    }
   },
   "outputs": [
    {
     "data": {
      "text/html": [
       "<div>\n",
       "<style scoped>\n",
       "    .dataframe tbody tr th:only-of-type {\n",
       "        vertical-align: middle;\n",
       "    }\n",
       "\n",
       "    .dataframe tbody tr th {\n",
       "        vertical-align: top;\n",
       "    }\n",
       "\n",
       "    .dataframe thead th {\n",
       "        text-align: right;\n",
       "    }\n",
       "</style>\n",
       "<table border=\"1\" class=\"dataframe\">\n",
       "  <thead>\n",
       "    <tr style=\"text-align: right;\">\n",
       "      <th></th>\n",
       "      <th>Уровень значимости</th>\n",
       "      <th>Описание исходного признака</th>\n",
       "    </tr>\n",
       "    <tr>\n",
       "      <th>Производные признаки</th>\n",
       "      <th></th>\n",
       "      <th></th>\n",
       "    </tr>\n",
       "  </thead>\n",
       "  <tbody>\n",
       "    <tr>\n",
       "      <th>drv_reactive_power_consumption_last</th>\n",
       "      <td>36</td>\n",
       "      <td>Потребление реактивной энергии на последней стадии нагрева</td>\n",
       "    </tr>\n",
       "    <tr>\n",
       "      <th>drv_cooling_duration_sum</th>\n",
       "      <td>27</td>\n",
       "      <td>Общее продолжительность остывания</td>\n",
       "    </tr>\n",
       "    <tr>\n",
       "      <th>drv_active_power_last</th>\n",
       "      <td>18</td>\n",
       "      <td>Активная мощность на последней стадии нагрева</td>\n",
       "    </tr>\n",
       "    <tr>\n",
       "      <th>drv_active_power_consumption_last</th>\n",
       "      <td>17</td>\n",
       "      <td>Потребление активной энергии на последней стадии нагрева</td>\n",
       "    </tr>\n",
       "    <tr>\n",
       "      <th>drv_heating_duration_sum</th>\n",
       "      <td>14</td>\n",
       "      <td>Общее продолжительность нагрева</td>\n",
       "    </tr>\n",
       "    <tr>\n",
       "      <th>drv_heating_duration_last</th>\n",
       "      <td>13</td>\n",
       "      <td>Продолжительность последней стадии нагрева</td>\n",
       "    </tr>\n",
       "    <tr>\n",
       "      <th>drv_wire_total</th>\n",
       "      <td>13</td>\n",
       "      <td>Общий объём загрузки основного сырья</td>\n",
       "    </tr>\n",
       "    <tr>\n",
       "      <th>drv_reactive_power_consumption_sum</th>\n",
       "      <td>7</td>\n",
       "      <td>Суммарное потребление реактивной энергии</td>\n",
       "    </tr>\n",
       "    <tr>\n",
       "      <th>drv_gas_total</th>\n",
       "      <td>6</td>\n",
       "      <td>Общий расход инертного газа</td>\n",
       "    </tr>\n",
       "    <tr>\n",
       "      <th>drv_cooling_duration_last</th>\n",
       "      <td>5</td>\n",
       "      <td>Продолжительность последней стадии остывания</td>\n",
       "    </tr>\n",
       "    <tr>\n",
       "      <th>drv_active_power_consumption_sum</th>\n",
       "      <td>5</td>\n",
       "      <td>Суммарное потребление активной энергии</td>\n",
       "    </tr>\n",
       "    <tr>\n",
       "      <th>drv_bulk_total</th>\n",
       "      <td>3</td>\n",
       "      <td>Общий объём внесения легирующих добавок</td>\n",
       "    </tr>\n",
       "    <tr>\n",
       "      <th>drv_reactive_power_last</th>\n",
       "      <td>2</td>\n",
       "      <td>Реактивная мощность на последней стадии нагрева</td>\n",
       "    </tr>\n",
       "    <tr>\n",
       "      <th>drv_temperature_first</th>\n",
       "      <td>2</td>\n",
       "      <td>Значение температуры в начале техпроцесса</td>\n",
       "    </tr>\n",
       "  </tbody>\n",
       "</table>\n",
       "</div>"
      ],
      "text/plain": [
       "                                     Уровень значимости  \\\n",
       "Производные признаки                                      \n",
       "drv_reactive_power_consumption_last                  36   \n",
       "drv_cooling_duration_sum                             27   \n",
       "drv_active_power_last                                18   \n",
       "drv_active_power_consumption_last                    17   \n",
       "drv_heating_duration_sum                             14   \n",
       "drv_heating_duration_last                            13   \n",
       "drv_wire_total                                       13   \n",
       "drv_reactive_power_consumption_sum                    7   \n",
       "drv_gas_total                                         6   \n",
       "drv_cooling_duration_last                             5   \n",
       "drv_active_power_consumption_sum                      5   \n",
       "drv_bulk_total                                        3   \n",
       "drv_reactive_power_last                               2   \n",
       "drv_temperature_first                                 2   \n",
       "\n",
       "                                                                    Описание исходного признака  \n",
       "Производные признаки                                                                             \n",
       "drv_reactive_power_consumption_last  Потребление реактивной энергии на последней стадии нагрева  \n",
       "drv_cooling_duration_sum                                      Общее продолжительность остывания  \n",
       "drv_active_power_last                             Активная мощность на последней стадии нагрева  \n",
       "drv_active_power_consumption_last      Потребление активной энергии на последней стадии нагрева  \n",
       "drv_heating_duration_sum                                        Общее продолжительность нагрева  \n",
       "drv_heating_duration_last                            Продолжительность последней стадии нагрева  \n",
       "drv_wire_total                                             Общий объём загрузки основного сырья  \n",
       "drv_reactive_power_consumption_sum                     Суммарное потребление реактивной энергии  \n",
       "drv_gas_total                                                       Общий расход инертного газа  \n",
       "drv_cooling_duration_last                          Продолжительность последней стадии остывания  \n",
       "drv_active_power_consumption_sum                         Суммарное потребление активной энергии  \n",
       "drv_bulk_total                                          Общий объём внесения легирующих добавок  \n",
       "drv_reactive_power_last                         Реактивная мощность на последней стадии нагрева  \n",
       "drv_temperature_first                                 Значение температуры в начале техпроцесса  "
      ]
     },
     "execution_count": 83,
     "metadata": {},
     "output_type": "execute_result"
    }
   ],
   "source": [
    "# увеличим ширину ячеек в таблице\n",
    "pd.set_option('max_colwidth', 100)\n",
    "\n",
    "# таблица с описанием самых значимых признаков\n",
    "most_valuable_desc = pd.DataFrame(fi[fi > 0])\n",
    "desc = [\n",
    "    'Общее продолжительность нагрева', 'Общее продолжительность остывания',\n",
    "    'Продолжительность последней стадии нагрева', 'Продолжительность последней стадии остывания',\n",
    "    'Суммарное потребление активной энергии',  'Суммарное потребление реактивной энергии',\n",
    "    'Активная мощность на последней стадии нагрева', 'Реактивная мощность на последней стадии нагрева',\n",
    "    'Потребление активной энергии на последней стадии нагрева','Потребление реактивной энергии на последней стадии нагрева',\n",
    "    'Общий объём загрузки основного сырья', 'Общий объём внесения легирующих добавок', 'Общий расход инертного газа',\n",
    "    'Значение температуры в начале техпроцесса'\n",
    "]\n",
    "most_valuable_desc['Описание исходного признака'] = desc\n",
    "\n",
    "most_valuable_desc.sort_values(by='Уровень значимости', ascending=False)"
   ]
  },
  {
   "cell_type": "markdown",
   "id": "65aad298",
   "metadata": {},
   "source": [
    "Из таблицы значимости признаков видно, что наибольшее влияние на значение целевого признака оказывают производные признаки потребления электроэнергии последней стадии нагрева, а также общей продолжительности периода остывания. Суммарные показатели всего процесса выплавки партии менее значимы. Однако, строить далеко идущие выводы на этих наблюдениях не стоит. Признаки подверглись сильному искажению и утратили физический смысл. Картина значимости неискаженных признаков, приведённая в Дополнениях выглядит совсем иначе."
   ]
  },
  {
   "cell_type": "markdown",
   "id": "0823f98c",
   "metadata": {},
   "source": [
    "## Отчёт"
   ]
  },
  {
   "cell_type": "markdown",
   "id": "d2bd5869",
   "metadata": {},
   "source": [
    "_Ответим на вопросы:_  \n",
    "1. Какие пункты плана были выполнены, а какие — нет (поясните, почему)?\n",
    "2. Какие трудности возникли и как вы их преодалели?\n",
    "3. Какие ключевые шаги в решении задачи выделили?\n",
    "4. Какая ваша итоговая модель и какое у неё качество?  \n",
    "\n",
    "_Дополнительно укажем:_  \n",
    "- Список признаков, используемых для обучения лучшей модели и описание их предобработки.\n",
    "- Гиперпараметры лучшей модели, включая random_state (если имеется у модели).\n",
    "- Что рекомендуете для улучшения модели, решения"
   ]
  },
  {
   "cell_type": "markdown",
   "id": "613f9a6e",
   "metadata": {},
   "source": [
    "### Ответы на вопросы"
   ]
  },
  {
   "cell_type": "markdown",
   "id": "1715c458",
   "metadata": {},
   "source": [
    "1. Намеченный план был, в основном, выполнен. Изначально он был ориентирован на соблюдение требование по проекту и частично их повторял. При разработке признаков от части данных пришлось отказаться, так что намеченное заполнение пропусков не потребовалось. Также был уточнён подход к тому, что принимать за единичное наблюдение. Первоначально предполагалось попробовать использовать в таком качестве все промежутки между замерами температуры. Затем масштаб наблюдения увеличился - было решено отслеживать только конечную температуру и рассматривать признаки в целом по партии. Признаки были сначала сформированы упрощенно, затем система отбора была переделана - значения признаков стали определяться по попаданию в определённые временные интервалы (при этом состав и значения признаков не изменились). Система стала универсальной, теперь она может использоваться и для извлечения признаков из внутренних стадий процесса выплавки партии.  \n",
    "2. Основную трудность представлял выбор объектов исследования и разработка подхода по сбору признаков для них. При обработке партий невозможно было выделить четко обозначенные технологические этапы, так как признаки пришлось формировать временными границами. В результате чего сводную таблицу признаков пришлось формировать построчно.  \n",
    "3. Ключевые шаги: EDA; определение объекта исследования; разработка системы формирования признаков; пайплайн для предобработки и кросс-валидации; тестирование отобранной модели.  \n",
    "4. В качестве базовой модели была принята бустинговая модель `LGBMRegressor` с `PCA\\QuantileTransformer\\StandardScaler`-предообработкой. Модель была обучена на нормально распределённых, линейно-независимых признаках, преодолела необходимый порог точности и показала качество $MAE=6.3$."
   ]
  },
  {
   "cell_type": "markdown",
   "id": "ec9a492c",
   "metadata": {},
   "source": [
    "### Пояснения и рекомендации"
   ]
  },
  {
   "cell_type": "markdown",
   "id": "ac17bb1b",
   "metadata": {},
   "source": [
    "При обучении модели были использованы как изначальные, так и сгенерированные признаки (всего 15 с учетом целевого):  \n",
    "   - 'Общее продолжительность нагрева', \n",
    "   - 'Общее продолжительность остывания',\n",
    "   - 'Продолжительность последней стадии нагрева', \n",
    "   - 'Продолжительность последней стадии остывания',\n",
    "   - 'Суммарное потребление активной энергии',  \n",
    "   - 'Суммарное потребление реактивной энергии',\n",
    "   - 'Активная мощность на последней стадии нагрева', \n",
    "   - 'Реактивная мощность на последней стадии нагрева',\n",
    "   - 'Потребление активной энергии на последней стадии нагрева',\n",
    "   - 'Потребление реактивной энергии на последней стадии нагрева',\n",
    "   - 'Общий объём загрузки основного сырья', \n",
    "   - 'Общий объём внесения легирующих добавок', \n",
    "   - 'Общий расход инертного газа',\n",
    "   - 'Значение температуры в начале техпроцесса', \n",
    "   - 'Значение температуры в конце техпроцесса'.\n",
    "   \n",
    "При обработке признаки были ортогонализированы с помощью _Метода главных компонет (PCA)_, что привело к линейной независимости признаков. Признаки достаточно серьёзно исказились и связывать их с исходными признаками можно только условно. Дальнейшая преобразование признаков с помощью `QuantileTransformer` позволило добиться нормального распределения для всех признаков. Предполагается, что модель, построенная на таких признаков будет достаточно устойчивой. \n",
    "Гиперпараметры модели подбирались с помощью библиотеки оптимизации _Optune_. Финальная модель:\n",
    "~~~\n",
    "LGBMRegressor(learning_rate=0.14851087854643572, \n",
    "              max_depth=2, \n",
    "              n_estimators=72,\n",
    "              random_state=220523)\n",
    "~~~\n",
    "В _Дополнениях_ были рассмотрены альтернативные варианты разработки моделей. В частности, та же модель `LGBMRegressor` на исходных, не обработанных признаках показала качество $MAE=5.9$. Была попытка сократить число признаков, но лучшее качество оказалась у модели с полным набором признаков.  \n",
    "Необходимо заметить, что выбранная модель `LGBMRegressor` может использоваться лишь по своему непосредственному предназначению - предсказывать температуру. Большей гибкостью и интерпретируемостью обладает модель `LinearRegression`, тоже рассмотренная в Дополнениях. На полном пространстве нетрансформированных признаков модель показала достаточную точность на тестовых данных $MAE=6.2$. Полученные весовые коэффициенты модели `LinearRegression` можно напрямую использовать при оптимизации технологических процессов. В Дополнениях приведен пример того, как можно посчитать оптимальную продолжительность нагрева с помощью этих весов и тем самым сэкономить значительное количество электроэнергии. Так как целью Заказчика в проекте является именно энергосбережение, применение модели `LinearRegression` кажется весьма перспективным."
   ]
  },
  {
   "cell_type": "markdown",
   "id": "85de5513",
   "metadata": {},
   "source": [
    "## Дополнения"
   ]
  },
  {
   "cell_type": "markdown",
   "id": "894c66bc",
   "metadata": {},
   "source": [
    "### Создание модели без трансформации данных"
   ]
  },
  {
   "cell_type": "markdown",
   "id": "84df9b9e",
   "metadata": {},
   "source": [
    "Проблема мультиколлинеарности и разность масштаба значений признаков актуальны не для всех алгоритмов машинного обучения. В частности, отобранная бустинговая модель `LGBMRegressor` обладает устойчивостью к ним. Попробуем провести обучение модели на непреобразованных данных.  \n",
    "Перед этим посмотрим, каким изменениям подверглись наши данные в результате примененных нами ранее преобразований."
   ]
  },
  {
   "cell_type": "code",
   "execution_count": 84,
   "id": "ec9e06f1",
   "metadata": {
    "ExecuteTime": {
     "end_time": "2023-06-16T22:46:42.912915Z",
     "start_time": "2023-06-16T22:46:42.513006Z"
    }
   },
   "outputs": [
    {
     "data": {
      "image/png": "[encoded data removed]"
     },
     "metadata": {},
     "output_type": "display_data"
    }
   ],
   "source": [
    "# диаграммы распределений значений признака с разными типами предобработки\n",
    "fig = make_subplots(rows=3, cols=2, start_cell=\"bottom-left\")\n",
    "fig.add_trace(go.Histogram(x=features_train.iloc[:,0], name='Без преобразований'), row=1, col=1)\n",
    "fig.add_trace(go.Histogram(x=Pipeline([\n",
    "    ('pca', PCA())]).fit_transform(features_train)[:, 0], name='PCA преобразование'), row=1, col=2)\n",
    "fig.add_trace(go.Histogram(x=Pipeline([\n",
    "    ('quant', QuantileTransformer(n_quantiles=100, output_distribution='normal', random_state=220523)), \n",
    "    ]).fit_transform(features_train)[:, 0], name='QuantileTransformer преобразование'), row=2, col=1)\n",
    "fig.add_trace(go.Histogram(x=Pipeline([\n",
    "    ('scale',StandardScaler())]).fit_transform(features_train)[:, 0], name='StandardScaler преобразование'), row=2, col=2)\n",
    "fig.add_trace(go.Histogram(x=Pipeline([\n",
    "    ('pca', PCA()), \n",
    "    ('quant', QuantileTransformer(n_quantiles=100, output_distribution='normal', random_state=220523)), \n",
    "]).fit_transform(features_train)[:, 0], name='PCA\\QuantileTransformer преобразование'), row=3, col=1)\n",
    "fig.add_trace(go.Histogram(x=Pipeline([\n",
    "    ('pca', PCA()), \n",
    "    ('quant', QuantileTransformer(n_quantiles=100, output_distribution='normal', random_state=220523)), \n",
    "    ('scale',StandardScaler())]).fit_transform(features_train)[:, 0], \n",
    "                           name='PCA\\QuantileTransformer\\StandardScaler преобразование'), row=3, col=2)\n",
    "fig.update_layout(autosize=False, width=950, height=500, \n",
    "                  title_text=u'Диаграммы распределений значений признака <br>с разными типами предобработки')\n",
    "fig.show(renderer='png')"
   ]
  },
  {
   "cell_type": "markdown",
   "id": "09b9a54a",
   "metadata": {},
   "source": [
    "Видно, что препроцессинг можно было бы ограничить `QuantileTransformer` или сочетанием `PCA`-`StandardScaler`. Стоит заметить, что `QuantileTransformer` предполагает нелинейное преобразование - линейная зависимость между признаками может теряться.  \n",
    "Однако, преобразование признаков не является необратимым. Существует возможность обратного преобразования - методом `inverse_transform`."
   ]
  },
  {
   "cell_type": "markdown",
   "id": "17ac8036",
   "metadata": {},
   "source": [
    "Теперь проведем обучение на нетрансформированных данных."
   ]
  },
  {
   "cell_type": "code",
   "execution_count": 85,
   "id": "f70529ed",
   "metadata": {
    "ExecuteTime": {
     "end_time": "2023-06-16T22:47:32.335364Z",
     "start_time": "2023-06-16T22:46:42.914915Z"
    }
   },
   "outputs": [
    {
     "name": "stdout",
     "output_type": "stream",
     "text": [
      "Точность модели LGBMRegressor по MAE: 5.809075\n",
      "Точность модели LinearRegression по MAE: 5.856728\n",
      "Точность модели ElasticNet по MAE: 5.883767\n",
      "Точность модели KNeighborsRegressor по MAE: 7.264879\n",
      "Точность модели DummyRegressor по MAE: 7.039747\n"
     ]
    }
   ],
   "source": [
    "# список результатов и обученных моделей\n",
    "results_simple = []\n",
    "# проход по списку моделей\n",
    "for name, model, param in models:\n",
    "    search_cv_simple = OptunaSearchCV(estimator=Pipeline(steps=[('reg', model)]),\n",
    "                               param_distributions=param,\n",
    "                               scoring='neg_mean_absolute_error',\n",
    "                               verbose=-1,\n",
    "                               n_jobs=-1,\n",
    "                               n_trials=100,\n",
    "                               cv=10,\n",
    "                               random_state=220523\n",
    "                              ).fit(X=features_train, y=target_train)\n",
    "    # запись имени модели, точности и геперпараметров\n",
    "    results_simple.append((name, - search_cv_simple.best_score_, search_cv_simple.best_estimator_))\n",
    "    print('Точность модели %s по MAE: %f' % (name, - search_cv_simple.best_score_))"
   ]
  },
  {
   "cell_type": "code",
   "execution_count": 86,
   "id": "756cbaaa",
   "metadata": {
    "ExecuteTime": {
     "end_time": "2023-06-16T22:47:32.355363Z",
     "start_time": "2023-06-16T22:47:32.338363Z"
    },
    "scrolled": false
   },
   "outputs": [
    {
     "data": {
      "text/html": [
       "<div>\n",
       "<style scoped>\n",
       "    .dataframe tbody tr th:only-of-type {\n",
       "        vertical-align: middle;\n",
       "    }\n",
       "\n",
       "    .dataframe tbody tr th {\n",
       "        vertical-align: top;\n",
       "    }\n",
       "\n",
       "    .dataframe thead th {\n",
       "        text-align: right;\n",
       "    }\n",
       "</style>\n",
       "<table border=\"1\" class=\"dataframe\">\n",
       "  <thead>\n",
       "    <tr style=\"text-align: right;\">\n",
       "      <th></th>\n",
       "      <th>score</th>\n",
       "      <th>params</th>\n",
       "    </tr>\n",
       "    <tr>\n",
       "      <th>model</th>\n",
       "      <th></th>\n",
       "      <th></th>\n",
       "    </tr>\n",
       "  </thead>\n",
       "  <tbody>\n",
       "    <tr>\n",
       "      <th>LGBMRegressor</th>\n",
       "      <td>5.809075</td>\n",
       "      <td>(LGBMRegressor(learning_rate=0.1124930412393757, max_depth=4, n_estimators=47,\\n              ra...</td>\n",
       "    </tr>\n",
       "    <tr>\n",
       "      <th>LinearRegression</th>\n",
       "      <td>5.856728</td>\n",
       "      <td>(LinearRegression())</td>\n",
       "    </tr>\n",
       "    <tr>\n",
       "      <th>ElasticNet</th>\n",
       "      <td>5.883767</td>\n",
       "      <td>(ElasticNet(alpha=0.10031175663206171, l1_ratio=0.10009942242591445,\\n           random_state=22...</td>\n",
       "    </tr>\n",
       "    <tr>\n",
       "      <th>KNeighborsRegressor</th>\n",
       "      <td>7.264879</td>\n",
       "      <td>(KNeighborsRegressor(n_neighbors=10))</td>\n",
       "    </tr>\n",
       "    <tr>\n",
       "      <th>DummyRegressor</th>\n",
       "      <td>7.039747</td>\n",
       "      <td>(DummyRegressor(quantile=0.20030956628853633, strategy='median'))</td>\n",
       "    </tr>\n",
       "  </tbody>\n",
       "</table>\n",
       "</div>"
      ],
      "text/plain": [
       "                        score  \\\n",
       "model                           \n",
       "LGBMRegressor        5.809075   \n",
       "LinearRegression     5.856728   \n",
       "ElasticNet           5.883767   \n",
       "KNeighborsRegressor  7.264879   \n",
       "DummyRegressor       7.039747   \n",
       "\n",
       "                                                                                                                  params  \n",
       "model                                                                                                                     \n",
       "LGBMRegressor        (LGBMRegressor(learning_rate=0.1124930412393757, max_depth=4, n_estimators=47,\\n              ra...  \n",
       "LinearRegression                                                                                    (LinearRegression())  \n",
       "ElasticNet           (ElasticNet(alpha=0.10031175663206171, l1_ratio=0.10009942242591445,\\n           random_state=22...  \n",
       "KNeighborsRegressor                                                                (KNeighborsRegressor(n_neighbors=10))  \n",
       "DummyRegressor                                         (DummyRegressor(quantile=0.20030956628853633, strategy='median'))  "
      ]
     },
     "execution_count": 86,
     "metadata": {},
     "output_type": "execute_result"
    }
   ],
   "source": [
    "cv_results_simple = pd.DataFrame(results_simple, columns=['model', 'score', 'params'])\n",
    "cv_results_simple.set_index('model', inplace=True)\n",
    "cv_results_simple"
   ]
  },
  {
   "cell_type": "code",
   "execution_count": 87,
   "id": "4d6a4016",
   "metadata": {
    "ExecuteTime": {
     "end_time": "2023-06-16T22:47:32.494409Z",
     "start_time": "2023-06-16T22:47:32.361372Z"
    }
   },
   "outputs": [],
   "source": [
    "# выбор лучшей модели\n",
    "best_name_simple = cv_results_simple.query('score == score.min()').index[0]\n",
    "best_model_simple = cv_results_simple.query('score == score.min()').params[0]"
   ]
  },
  {
   "cell_type": "code",
   "execution_count": 88,
   "id": "805901cf",
   "metadata": {
    "ExecuteTime": {
     "end_time": "2023-06-16T22:47:32.584402Z",
     "start_time": "2023-06-16T22:47:32.500392Z"
    }
   },
   "outputs": [],
   "source": [
    "# серия по значимости признаков без преобразования\n",
    "fi_simple = pd.Series(best_model_simple[0].feature_importances_, index=features_train.columns, name='Уровень значимости')\n",
    "fi_simple.index.name='Признаки'"
   ]
  },
  {
   "cell_type": "code",
   "execution_count": 89,
   "id": "22d4ba06",
   "metadata": {
    "ExecuteTime": {
     "end_time": "2023-06-16T22:47:33.027894Z",
     "start_time": "2023-06-16T22:47:32.587405Z"
    }
   },
   "outputs": [
    {
     "data": {
      "image/png": "[encoded data removed]"
     },
     "metadata": {},
     "output_type": "display_data"
    }
   ],
   "source": [
    "# диаграмма значимости признаков без преобразования\n",
    "fig = px.bar(fi_simple,\n",
    "             color=fi_simple.index,\n",
    "             #text_auto=True,\n",
    "             title=f'Значимость непреобразованных признаков модели {best_name}<br>с лучшей точностью на кросс-валидации')\n",
    "fig.update_layout(autosize=False, width=950, height=600)\n",
    "fig.show(renderer='png')"
   ]
  },
  {
   "cell_type": "code",
   "execution_count": 90,
   "id": "f973759f",
   "metadata": {
    "ExecuteTime": {
     "end_time": "2023-06-16T22:47:33.047296Z",
     "start_time": "2023-06-16T22:47:33.031896Z"
    }
   },
   "outputs": [
    {
     "data": {
      "text/html": [
       "<div>\n",
       "<style scoped>\n",
       "    .dataframe tbody tr th:only-of-type {\n",
       "        vertical-align: middle;\n",
       "    }\n",
       "\n",
       "    .dataframe tbody tr th {\n",
       "        vertical-align: top;\n",
       "    }\n",
       "\n",
       "    .dataframe thead th {\n",
       "        text-align: right;\n",
       "    }\n",
       "</style>\n",
       "<table border=\"1\" class=\"dataframe\">\n",
       "  <thead>\n",
       "    <tr style=\"text-align: right;\">\n",
       "      <th></th>\n",
       "      <th>Уровень значимости</th>\n",
       "      <th>Описание признака</th>\n",
       "    </tr>\n",
       "    <tr>\n",
       "      <th>Признаки</th>\n",
       "      <th></th>\n",
       "      <th></th>\n",
       "    </tr>\n",
       "  </thead>\n",
       "  <tbody>\n",
       "    <tr>\n",
       "      <th>temperature_first</th>\n",
       "      <td>118</td>\n",
       "      <td>Значение температуры в начале техпроцесса</td>\n",
       "    </tr>\n",
       "    <tr>\n",
       "      <th>heating_duration_sum</th>\n",
       "      <td>87</td>\n",
       "      <td>Общее продолжительность нагрева</td>\n",
       "    </tr>\n",
       "    <tr>\n",
       "      <th>cooling_duration_sum</th>\n",
       "      <td>61</td>\n",
       "      <td>Общее продолжительность остывания</td>\n",
       "    </tr>\n",
       "    <tr>\n",
       "      <th>cooling_duration_last</th>\n",
       "      <td>47</td>\n",
       "      <td>Продолжительность последней стадии остывания</td>\n",
       "    </tr>\n",
       "    <tr>\n",
       "      <th>wire_total</th>\n",
       "      <td>45</td>\n",
       "      <td>Общий объём загрузки основного сырья</td>\n",
       "    </tr>\n",
       "    <tr>\n",
       "      <th>gas_total</th>\n",
       "      <td>32</td>\n",
       "      <td>Общий расход инертного газа</td>\n",
       "    </tr>\n",
       "    <tr>\n",
       "      <th>bulk_total</th>\n",
       "      <td>30</td>\n",
       "      <td>Общий объём внесения легирующих добавок</td>\n",
       "    </tr>\n",
       "    <tr>\n",
       "      <th>heating_duration_last</th>\n",
       "      <td>20</td>\n",
       "      <td>Продолжительность последней стадии нагрева</td>\n",
       "    </tr>\n",
       "    <tr>\n",
       "      <th>reactive_power_consumption_sum</th>\n",
       "      <td>18</td>\n",
       "      <td>Суммарное потребление реактивной энергии</td>\n",
       "    </tr>\n",
       "    <tr>\n",
       "      <th>reactive_power_consumption_last</th>\n",
       "      <td>14</td>\n",
       "      <td>Потребление реактивной энергии на последней стадии нагрева</td>\n",
       "    </tr>\n",
       "    <tr>\n",
       "      <th>active_power_consumption_sum</th>\n",
       "      <td>13</td>\n",
       "      <td>Суммарное потребление активной энергии</td>\n",
       "    </tr>\n",
       "    <tr>\n",
       "      <th>active_power_last</th>\n",
       "      <td>10</td>\n",
       "      <td>Активная мощность на последней стадии нагрева</td>\n",
       "    </tr>\n",
       "    <tr>\n",
       "      <th>reactive_power_last</th>\n",
       "      <td>10</td>\n",
       "      <td>Реактивная мощность на последней стадии нагрева</td>\n",
       "    </tr>\n",
       "    <tr>\n",
       "      <th>active_power_consumption_last</th>\n",
       "      <td>7</td>\n",
       "      <td>Потребление активной энергии на последней стадии нагрева</td>\n",
       "    </tr>\n",
       "  </tbody>\n",
       "</table>\n",
       "</div>"
      ],
      "text/plain": [
       "                                 Уровень значимости  \\\n",
       "Признаки                                              \n",
       "temperature_first                               118   \n",
       "heating_duration_sum                             87   \n",
       "cooling_duration_sum                             61   \n",
       "cooling_duration_last                            47   \n",
       "wire_total                                       45   \n",
       "gas_total                                        32   \n",
       "bulk_total                                       30   \n",
       "heating_duration_last                            20   \n",
       "reactive_power_consumption_sum                   18   \n",
       "reactive_power_consumption_last                  14   \n",
       "active_power_consumption_sum                     13   \n",
       "active_power_last                                10   \n",
       "reactive_power_last                              10   \n",
       "active_power_consumption_last                     7   \n",
       "\n",
       "                                                                          Описание признака  \n",
       "Признаки                                                                                     \n",
       "temperature_first                                 Значение температуры в начале техпроцесса  \n",
       "heating_duration_sum                                        Общее продолжительность нагрева  \n",
       "cooling_duration_sum                                      Общее продолжительность остывания  \n",
       "cooling_duration_last                          Продолжительность последней стадии остывания  \n",
       "wire_total                                             Общий объём загрузки основного сырья  \n",
       "gas_total                                                       Общий расход инертного газа  \n",
       "bulk_total                                          Общий объём внесения легирующих добавок  \n",
       "heating_duration_last                            Продолжительность последней стадии нагрева  \n",
       "reactive_power_consumption_sum                     Суммарное потребление реактивной энергии  \n",
       "reactive_power_consumption_last  Потребление реактивной энергии на последней стадии нагрева  \n",
       "active_power_consumption_sum                         Суммарное потребление активной энергии  \n",
       "active_power_last                             Активная мощность на последней стадии нагрева  \n",
       "reactive_power_last                         Реактивная мощность на последней стадии нагрева  \n",
       "active_power_consumption_last      Потребление активной энергии на последней стадии нагрева  "
      ]
     },
     "execution_count": 90,
     "metadata": {},
     "output_type": "execute_result"
    }
   ],
   "source": [
    "# таблица с описанием самых значимых признаков без преобразования\n",
    "most_valuable_simple_desc = pd.DataFrame(fi_simple[fi_simple > 0])\n",
    "most_valuable_simple_desc['Описание признака'] = desc\n",
    "most_valuable_simple_desc.sort_values(by='Уровень значимости', ascending=False)"
   ]
  },
  {
   "cell_type": "code",
   "execution_count": 91,
   "id": "0fd1b6f9",
   "metadata": {
    "ExecuteTime": {
     "end_time": "2023-06-16T22:47:33.161962Z",
     "start_time": "2023-06-16T22:47:33.049293Z"
    }
   },
   "outputs": [
    {
     "name": "stdout",
     "output_type": "stream",
     "text": [
      "Точность прогноза на тестовых данных для LGBMRegressor по MAE равна 5.981.\n"
     ]
    }
   ],
   "source": [
    "best_model_simple.fit(features_train, target_train)\n",
    "# результаты оценки модели тестовых данных\n",
    "predictions_simple = best_model_simple.predict(features_test)                               \n",
    "score_simple = mean_absolute_error(target_test, predictions_simple)\n",
    "print('Точность прогноза на тестовых данных для %s по MAE равна %.3f.' %(best_name, score_simple))"
   ]
  },
  {
   "cell_type": "code",
   "execution_count": 92,
   "id": "742107f7",
   "metadata": {
    "ExecuteTime": {
     "end_time": "2023-06-16T22:47:33.247943Z",
     "start_time": "2023-06-16T22:47:33.165944Z"
    }
   },
   "outputs": [
    {
     "name": "stdout",
     "output_type": "stream",
     "text": [
      "Точность прогноза на тестовых данных для LinearRegression по MAE равна 6.289.\n"
     ]
    }
   ],
   "source": [
    "lr = LinearRegression()\n",
    "lr.fit(features_train, target_train)\n",
    "# результаты оценки модели тестовых данных\n",
    "predictions_lr = lr.predict(features_test)                               \n",
    "score_lr = mean_absolute_error(target_test, predictions_lr)\n",
    "print('Точность прогноза на тестовых данных для %s по MAE равна %.3f.' %('LinearRegression', score_lr))"
   ]
  },
  {
   "cell_type": "markdown",
   "id": "0f253cb9",
   "metadata": {},
   "source": [
    "Видим, что точность изначально принятой модели `LGBMRegressor` оказалось существенно выше, более того, даже `LinearRegression` сумела преодолеть необходимый порог точности. И это позволяет нам отказаться от применения преобразования значений созданных нами признаков.  \n",
    "\n",
    "Хотя в задании проекта и говорится о том, что модель должна просто определять температуру расплава выгоднее было бы использовать модель для снятия с неё весовых коэффициентов признаков. А это возможно только с линейными моделями. Так что будет логично __принять в качестве основной модель `LinearRegression`.__"
   ]
  },
  {
   "cell_type": "markdown",
   "id": "7927eb3f",
   "metadata": {},
   "source": [
    "### Уменьшение числа признаков"
   ]
  },
  {
   "cell_type": "markdown",
   "id": "5a46622d",
   "metadata": {},
   "source": [
    "Попробуем уменьшить число признаков. Для этого воспользуемся функцией `SelectKBest` библиотеки _SciKit Learn_. Также рассмотрим вероятность удаления некоторых признаков с высокой взаимной корреляцией."
   ]
  },
  {
   "cell_type": "code",
   "execution_count": 93,
   "id": "0ac36630",
   "metadata": {
    "ExecuteTime": {
     "end_time": "2023-06-16T22:47:40.273306Z",
     "start_time": "2023-06-16T22:47:33.249941Z"
    }
   },
   "outputs": [
    {
     "name": "stdout",
     "output_type": "stream",
     "text": [
      "Точность модели LinearRegression по MAE: 5.856728 на 14 лучших признаках.\n"
     ]
    }
   ],
   "source": [
    "# подбор оптимального количества признаков\n",
    "search_cv_chi = GridSearchCV(estimator=Pipeline([('kbest', SelectKBest(chi2)),('reg',LinearRegression())]),\n",
    "                             param_grid={'kbest__k': [i for i in range(1, features_train.shape[1]+1)]},\n",
    "                             scoring=['neg_mean_absolute_error',\n",
    "                                      'neg_mean_absolute_percentage_error',\n",
    "                                      'neg_median_absolute_error'],\n",
    "                             refit='neg_mean_absolute_error',\n",
    "                             n_jobs=-1,\n",
    "                             cv=10\n",
    "                            ).fit(X=features_train, y=target_train)\n",
    "print('Точность модели %s по MAE: %f на %d лучших признаках.' % ('LinearRegression', \n",
    "                                                                 - search_cv_chi.best_score_, \n",
    "                                                                 search_cv_chi.best_params_['kbest__k']))"
   ]
  },
  {
   "cell_type": "markdown",
   "id": "dbd87ba6",
   "metadata": {},
   "source": [
    "Модель показала лучшую точность на всем пространстве признаков. Стоит отметить, что модель показала хорошее качество на 4-х признаках и после качество долго не росло с увеличением их числа.  \n",
    "\n",
    "У нас есть два несколько сильно коррелированных признаков. Попробуем их исключить и сравнить точность моделей на частичном и полном пространстве признаков."
   ]
  },
  {
   "cell_type": "code",
   "execution_count": 94,
   "id": "72c6d4eb",
   "metadata": {
    "ExecuteTime": {
     "end_time": "2023-06-16T22:47:40.552586Z",
     "start_time": "2023-06-16T22:47:40.276308Z"
    }
   },
   "outputs": [
    {
     "name": "stdout",
     "output_type": "stream",
     "text": [
      "Лучшая точность модели LinearRegression по MAE: 5.861458 достигнута при исключении признака reactive_power_consumption_last.\n"
     ]
    }
   ],
   "source": [
    "# признаки для исключения\n",
    "exclude_cols = ['heating_duration_sum', 'active_power_consumption_sum', 'heating_duration_last', \n",
    "                'active_power_consumption_last', 'reactive_power_consumption_last']\n",
    "\n",
    "for col in exclude_cols:\n",
    "    search_cv_ex = GridSearchCV(estimator=LinearRegression(),\n",
    "                             param_grid={},\n",
    "                             scoring=['neg_mean_absolute_error',\n",
    "                                      'neg_mean_absolute_percentage_error',\n",
    "                                      'neg_median_absolute_error'],\n",
    "                             refit='neg_mean_absolute_error',\n",
    "                             n_jobs=-1,\n",
    "                             cv=10\n",
    "                            ).fit(X=features_train.drop(columns=[col]), y=target_train)\n",
    "print('Лучшая точность модели %s по MAE: %f достигнута при исключении признака %s.' % ('LinearRegression',\n",
    "                                                                                       - search_cv_ex.best_score_, col))    "
   ]
  },
  {
   "cell_type": "code",
   "execution_count": 95,
   "id": "f8d66a1d",
   "metadata": {
    "ExecuteTime": {
     "end_time": "2023-06-16T22:47:40.576570Z",
     "start_time": "2023-06-16T22:47:40.557584Z"
    }
   },
   "outputs": [
    {
     "name": "stdout",
     "output_type": "stream",
     "text": [
      "Точность модели LinearRegression по MAE: 6.299672 при исключении признака reactive_power_consumption_last.\n"
     ]
    }
   ],
   "source": [
    "# выбор лучшей модели при исключении reactive_power_consumption_last\n",
    "best_model_lr_ex = LinearRegression()\n",
    "best_model_lr_ex.fit(features_train.drop(columns=['reactive_power_consumption_last']), target_train)\n",
    "# результаты оценки модели тестовых данных\n",
    "predictions_lr_ex = best_model_lr_ex.predict(features_test.drop(columns=['reactive_power_consumption_last']))\n",
    "score_lr_ex = mean_absolute_error(target_test.drop(columns=['reactive_power_consumption_last']), predictions_lr_ex)\n",
    "print('Точность модели %s по MAE: %f при исключении признака %s.' % ('LinearRegression',\n",
    "                                                                     score_lr_ex,\n",
    "                                                                     'reactive_power_consumption_last'))"
   ]
  },
  {
   "cell_type": "markdown",
   "id": "92ffab83",
   "metadata": {},
   "source": [
    "Наилучшее качество оказалось у модели, которая обучалась на данных с исключенным признаком `reactive_power_consumption_last`. Однако, точность оказалась незначительно ниже у модели, обученном на всем пространстве признаков. Так что, исключать какие-либо признаки кажется нецелесообразным."
   ]
  },
  {
   "cell_type": "markdown",
   "id": "0447dc76",
   "metadata": {},
   "source": [
    "### Применение модели для энергосбережения"
   ]
  },
  {
   "cell_type": "markdown",
   "id": "77d39a66",
   "metadata": {},
   "source": [
    "Применение обученной модели, предсказывающей температуру плавления действительно может помочь процессу энергосбережения, но для определения параметров технологического процесса на основе предсказанной температуры придется руководствоваться сторонними средствами и не исключено, подбирать значения итерационно или приблизительно. У технологического процесса ряд параметров уже заданы - например, объём сырья, а им в свою очередь определяется потребляемая мощность. Температура плавления тоже должна поддерживаться в определенных рамках. Отсюда следует, что единственным регулируемым параметром остается время нагрева. Попробуем предсказать оптимальное значение этого параметра.  \n",
    "Одним из немногих способов сделать это - использовать весовые коэффициенты модели линейное регрессии, обученной на неискаженных данных. В качестве целевой температуры плавления можно принять медианную температуру (полагаем, что состав стали неизменен). Также можно до 0 сократить период остывания, что предполагает единую стадию нагрева."
   ]
  },
  {
   "cell_type": "code",
   "execution_count": 96,
   "id": "dafe10ed",
   "metadata": {
    "ExecuteTime": {
     "end_time": "2023-06-16T22:47:40.674571Z",
     "start_time": "2023-06-16T22:47:40.579580Z"
    }
   },
   "outputs": [
    {
     "name": "stdout",
     "output_type": "stream",
     "text": [
      "Типичная температура плавления=1590°C\n"
     ]
    }
   ],
   "source": [
    "temperature_median = data_temp['Температура'].median()\n",
    "print(f'Типичная температура плавления=%d\\N{DEGREE SIGN}C' %temperature_median)"
   ]
  },
  {
   "cell_type": "markdown",
   "id": "c46e6f33",
   "metadata": {},
   "source": [
    "Попробуем сохранить модель в файл, считать его. А затем сохранить её веса для использования."
   ]
  },
  {
   "cell_type": "code",
   "execution_count": 97,
   "id": "2c2270ce",
   "metadata": {
    "ExecuteTime": {
     "end_time": "2023-06-16T22:47:40.776091Z",
     "start_time": "2023-06-16T22:47:40.677567Z"
    }
   },
   "outputs": [
    {
     "data": {
      "text/plain": [
       "(array([ 2.41528308e-02, -6.17953583e-03,  2.70784676e-02,  4.14896068e-03,\n",
       "         1.87547656e-02, -2.06263167e-02, -9.49870117e+00,  1.96851606e+01,\n",
       "         4.77444521e-02, -1.34001616e-01,  7.69501939e-03,  1.00636424e-04,\n",
       "        -7.85004343e-02,  3.55550718e-01]),\n",
       " 1012.7838843730232)"
      ]
     },
     "execution_count": 97,
     "metadata": {},
     "output_type": "execute_result"
    }
   ],
   "source": [
    "# сохранение и загрузка модели\n",
    "joblib.dump(lr, 'model_lr.pkl')\n",
    "model_lr_saved = joblib.load('model_lr.pkl')\n",
    "model_lr_saved.coef_, model_lr_saved.intercept_"
   ]
  },
  {
   "cell_type": "code",
   "execution_count": 98,
   "id": "01743d3c",
   "metadata": {
    "ExecuteTime": {
     "end_time": "2023-06-16T22:47:40.866438Z",
     "start_time": "2023-06-16T22:47:40.781095Z"
    }
   },
   "outputs": [
    {
     "data": {
      "text/html": [
       "<div>\n",
       "<style scoped>\n",
       "    .dataframe tbody tr th:only-of-type {\n",
       "        vertical-align: middle;\n",
       "    }\n",
       "\n",
       "    .dataframe tbody tr th {\n",
       "        vertical-align: top;\n",
       "    }\n",
       "\n",
       "    .dataframe thead th {\n",
       "        text-align: right;\n",
       "    }\n",
       "</style>\n",
       "<table border=\"1\" class=\"dataframe\">\n",
       "  <thead>\n",
       "    <tr style=\"text-align: right;\">\n",
       "      <th>Признаки</th>\n",
       "      <th>coef_heating_duration_sum</th>\n",
       "      <th>coef_cooling_duration_sum</th>\n",
       "      <th>coef_heating_duration_last</th>\n",
       "      <th>coef_cooling_duration_last</th>\n",
       "      <th>coef_active_power_consumption_sum</th>\n",
       "      <th>coef_reactive_power_consumption_sum</th>\n",
       "      <th>coef_active_power_last</th>\n",
       "      <th>coef_reactive_power_last</th>\n",
       "      <th>coef_active_power_consumption_last</th>\n",
       "      <th>coef_reactive_power_consumption_last</th>\n",
       "      <th>coef_wire_total</th>\n",
       "      <th>coef_bulk_total</th>\n",
       "      <th>coef_gas_total</th>\n",
       "      <th>coef_temperature_first</th>\n",
       "    </tr>\n",
       "  </thead>\n",
       "  <tbody>\n",
       "    <tr>\n",
       "      <th>0</th>\n",
       "      <td>0.024153</td>\n",
       "      <td>-0.00618</td>\n",
       "      <td>0.027078</td>\n",
       "      <td>0.004149</td>\n",
       "      <td>0.018755</td>\n",
       "      <td>-0.020626</td>\n",
       "      <td>-9.498701</td>\n",
       "      <td>19.685161</td>\n",
       "      <td>0.047744</td>\n",
       "      <td>-0.134002</td>\n",
       "      <td>0.007695</td>\n",
       "      <td>0.000101</td>\n",
       "      <td>-0.0785</td>\n",
       "      <td>0.355551</td>\n",
       "    </tr>\n",
       "  </tbody>\n",
       "</table>\n",
       "</div>"
      ],
      "text/plain": [
       "Признаки  coef_heating_duration_sum  coef_cooling_duration_sum  \\\n",
       "0                          0.024153                   -0.00618   \n",
       "\n",
       "Признаки  coef_heating_duration_last  coef_cooling_duration_last  \\\n",
       "0                           0.027078                    0.004149   \n",
       "\n",
       "Признаки  coef_active_power_consumption_sum  \\\n",
       "0                                  0.018755   \n",
       "\n",
       "Признаки  coef_reactive_power_consumption_sum  coef_active_power_last  \\\n",
       "0                                   -0.020626               -9.498701   \n",
       "\n",
       "Признаки  coef_reactive_power_last  coef_active_power_consumption_last  \\\n",
       "0                        19.685161                            0.047744   \n",
       "\n",
       "Признаки  coef_reactive_power_consumption_last  coef_wire_total  \\\n",
       "0                                    -0.134002         0.007695   \n",
       "\n",
       "Признаки  coef_bulk_total  coef_gas_total  coef_temperature_first  \n",
       "0                0.000101         -0.0785                0.355551  "
      ]
     },
     "execution_count": 98,
     "metadata": {},
     "output_type": "execute_result"
    }
   ],
   "source": [
    "# датафрейм с весами модели\n",
    "df_weights = pd.DataFrame([model_lr_saved.coef_], columns='coef_'+features_test.columns)\n",
    "bias = model_lr_saved.intercept_\n",
    "df_weights"
   ]
  },
  {
   "cell_type": "code",
   "execution_count": 99,
   "id": "d6609bf0",
   "metadata": {
    "ExecuteTime": {
     "end_time": "2023-06-16T22:47:40.964984Z",
     "start_time": "2023-06-16T22:47:40.869435Z"
    }
   },
   "outputs": [
    {
     "data": {
      "text/html": [
       "<div>\n",
       "<style scoped>\n",
       "    .dataframe tbody tr th:only-of-type {\n",
       "        vertical-align: middle;\n",
       "    }\n",
       "\n",
       "    .dataframe tbody tr th {\n",
       "        vertical-align: top;\n",
       "    }\n",
       "\n",
       "    .dataframe thead th {\n",
       "        text-align: right;\n",
       "    }\n",
       "</style>\n",
       "<table border=\"1\" class=\"dataframe\">\n",
       "  <thead>\n",
       "    <tr style=\"text-align: right;\">\n",
       "      <th>Признаки</th>\n",
       "      <th>heating_duration_sum</th>\n",
       "      <th>cooling_duration_sum</th>\n",
       "      <th>heating_duration_last</th>\n",
       "      <th>cooling_duration_last</th>\n",
       "      <th>active_power_consumption_sum</th>\n",
       "      <th>reactive_power_consumption_sum</th>\n",
       "      <th>active_power_last</th>\n",
       "      <th>reactive_power_last</th>\n",
       "      <th>active_power_consumption_last</th>\n",
       "      <th>reactive_power_consumption_last</th>\n",
       "      <th>wire_total</th>\n",
       "      <th>bulk_total</th>\n",
       "      <th>gas_total</th>\n",
       "      <th>temperature_first</th>\n",
       "    </tr>\n",
       "  </thead>\n",
       "  <tbody>\n",
       "    <tr>\n",
       "      <th>1022</th>\n",
       "      <td>864.0</td>\n",
       "      <td>2787.0</td>\n",
       "      <td>115.0</td>\n",
       "      <td>205.0</td>\n",
       "      <td>587.128352</td>\n",
       "      <td>435.976341</td>\n",
       "      <td>0.721962</td>\n",
       "      <td>0.564513</td>\n",
       "      <td>83.02563</td>\n",
       "      <td>64.918995</td>\n",
       "      <td>96.267593</td>\n",
       "      <td>467.0</td>\n",
       "      <td>13.625982</td>\n",
       "      <td>1603.0</td>\n",
       "    </tr>\n",
       "  </tbody>\n",
       "</table>\n",
       "</div>"
      ],
      "text/plain": [
       "Признаки  heating_duration_sum  cooling_duration_sum  heating_duration_last  \\\n",
       "1022                     864.0                2787.0                  115.0   \n",
       "\n",
       "Признаки  cooling_duration_last  active_power_consumption_sum  \\\n",
       "1022                      205.0                    587.128352   \n",
       "\n",
       "Признаки  reactive_power_consumption_sum  active_power_last  \\\n",
       "1022                          435.976341           0.721962   \n",
       "\n",
       "Признаки  reactive_power_last  active_power_consumption_last  \\\n",
       "1022                 0.564513                       83.02563   \n",
       "\n",
       "Признаки  reactive_power_consumption_last  wire_total  bulk_total  gas_total  \\\n",
       "1022                            64.918995   96.267593       467.0  13.625982   \n",
       "\n",
       "Признаки  temperature_first  \n",
       "1022                 1603.0  "
      ]
     },
     "execution_count": 99,
     "metadata": {},
     "output_type": "execute_result"
    }
   ],
   "source": [
    "# пример данных\n",
    "example_tech_features = features_test.sample(1, random_state=0)\n",
    "example_tech_target = target_test[example_tech_features.index]\n",
    "example_tech_features"
   ]
  },
  {
   "cell_type": "markdown",
   "id": "7c5db5fd",
   "metadata": {},
   "source": [
    "Посчитаем температуру по весам модели самостоятельно и сравним с предсказанным значением."
   ]
  },
  {
   "cell_type": "code",
   "execution_count": 100,
   "id": "f0975c5f",
   "metadata": {
    "ExecuteTime": {
     "end_time": "2023-06-16T22:47:41.056581Z",
     "start_time": "2023-06-16T22:47:40.966981Z"
    }
   },
   "outputs": [
    {
     "name": "stdout",
     "output_type": "stream",
     "text": [
      "Расчитанное и предсказанное значение температуры: 1591.598518 | 1591.598518\n"
     ]
    }
   ],
   "source": [
    "temp_matmul = model_lr_saved.coef_ @ example_tech_features.T + model_lr_saved.intercept_ \n",
    "temp_pred = model_lr_saved.predict(example_tech_features)\n",
    "print(f'Расчитанное и предсказанное значение температуры: %f | %f' %(temp_matmul, temp_pred))"
   ]
  },
  {
   "cell_type": "markdown",
   "id": "b58b64b9",
   "metadata": {},
   "source": [
    "\n",
    "\n",
    "\n",
    "\n",
    "Запишем формулу расчета температуры с учетом весов модели\n",
    "\n",
    "\n",
    "$$\n",
    "T_{fin}\\; =\\; Bias\\; +\\; D_{heat} \\times (K_{heat}\\; +\\; K_{heat\\_ last}\n",
    "+\\; P_{act\\_ last} \\times K_{act\\_ sum}\\; +\\; P_{react\\_ last} \\times K_{react\\_ sum}\n",
    "+\\; P_{act\\_ last} \\times K_{act\\_ last}\\; +\\; P_{react\\_ last} \\times K_{react\\_ last})\\\\\n",
    "+\\; P_{act\\_ last} \\times K_{act\\_ last}\\; +\\; P_{react\\_ last} \\times K_{react\\_ last}\n",
    "+\\; W_{wire} \\times K_{wire}\\; +\\; W_{bulk} \\times K_{bulk}\\; +\\; W_{gas} \\times K_{gas}\\; +\\; T_{start} \\times K_{T\\_start}\n",
    "$$\n",
    "\n",
    "где, \n",
    "- $D_{heat}$ - период нагрева,\n",
    "- $D_{cool}=0$,\n",
    "- $K$ - весовые коэффиценты,\n",
    "- $P$ - мощности,\n",
    "- $W$ - объемы сырья,\n",
    "- $T_{start}$ - первичная температура.\n",
    "\n",
    "\n",
    "Отсюда можно получить продолжительность нагрева.  \n",
    "\n",
    "\n",
    "$$\n",
    "D_{heat}\\; =\\; \\frac {T_{fin}\\; -\\; Bias\\; -\\; P_{act\\_ last}\\times K_{act\\_ last}\\; -\\; P_{react\\_ last}\\times K_{react\\_ last}\\; -\\; W_{wire}\\times K_{wire}\\; -\\; W_{bulk}\\times K_{bulk}\\; -\\; W_{gas}\\times K_{gas}\\; -\\; T_{start} \\times K_{T\\_start}} \n",
    "{K_{heat}\\; +\\; K_{heat\\_ last}\\; +\\; P_{act\\_ last}\\times K_{act\\_ sum}\\; +\\; P_{react\\_ last}\\times K_{react\\_ sum}\\;\n",
    "+\\; P_{act\\_ last}\\times K_{act\\_ last}\\; +\\; P_{react\\_ last}\\times K_{react\\_ last}}\n",
    "$$"
   ]
  },
  {
   "cell_type": "code",
   "execution_count": 101,
   "id": "39e30941",
   "metadata": {
    "ExecuteTime": {
     "end_time": "2023-06-16T22:47:41.168670Z",
     "start_time": "2023-06-16T22:47:41.058582Z"
    }
   },
   "outputs": [
    {
     "name": "stdout",
     "output_type": "stream",
     "text": [
      "Необходимая продолжительность нагрева должна быть не менее 275 сек.\n"
     ]
    }
   ],
   "source": [
    "heating_duration = (\n",
    "    (temperature_median - bias \n",
    "     - example_tech_features['active_power_last'].values * df_weights['coef_active_power_last'].values\n",
    "     - example_tech_features['reactive_power_last'].values * df_weights['coef_reactive_power_last'].values\n",
    "     - example_tech_features['wire_total'].values * df_weights['coef_wire_total'].values\n",
    "     - example_tech_features['bulk_total'].values * df_weights['coef_bulk_total'].values\n",
    "     - example_tech_features['gas_total'].values * df_weights['coef_gas_total'].values\n",
    "     - example_tech_features['temperature_first'].values * df_weights['coef_temperature_first'].values\n",
    "    )\n",
    "    / (df_weights['coef_heating_duration_sum'].values + df_weights['coef_heating_duration_last'].values\n",
    "       + example_tech_features['active_power_last'].values * df_weights['coef_active_power_consumption_sum'].values\n",
    "       + example_tech_features['reactive_power_last'].values * df_weights['coef_reactive_power_consumption_sum'].values\n",
    "       + example_tech_features['active_power_last'].values * df_weights['coef_active_power_consumption_last'].values\n",
    "       + example_tech_features['reactive_power_last'].values * df_weights['coef_reactive_power_consumption_last'].values\n",
    "    )\n",
    ")\n",
    "print(f'Необходимая продолжительность нагрева должна быть не менее %d сек.' % heating_duration)"
   ]
  },
  {
   "cell_type": "markdown",
   "id": "c66cf779",
   "metadata": {},
   "source": [
    "В данном примере очень длительный период остывания $2787\\: сек.$ и соответственно вынужденно продолжительный период нагрева $864\\: сек.$ Если бы мы сократили период остывания до минимума, то для поддержания достаточной температуры стали нам было достаточно нагревать ее в течении $275\\: сек.$, что втрое бы сократило затраты электроэнергии."
   ]
  }
 ],
 "metadata": {
  "ExecuteTimeLog": [
   {
    "duration": 481,
    "start_time": "2023-05-24T13:07:13.163Z"
   },
   {
    "duration": 14870,
    "start_time": "2023-05-24T13:07:16.108Z"
   },
   {
    "duration": 2218,
    "start_time": "2023-05-24T13:07:30.980Z"
   },
   {
    "duration": 56,
    "start_time": "2023-05-24T13:07:33.200Z"
   },
   {
    "duration": 256,
    "start_time": "2023-05-24T13:07:33.258Z"
   },
   {
    "duration": 16,
    "start_time": "2023-05-24T13:07:56.662Z"
   },
   {
    "duration": 117,
    "start_time": "2023-05-24T13:08:14.251Z"
   },
   {
    "duration": 72,
    "start_time": "2023-05-24T13:09:03.266Z"
   },
   {
    "duration": 194,
    "start_time": "2023-05-24T13:09:33.474Z"
   },
   {
    "duration": 21,
    "start_time": "2023-05-24T13:10:13.255Z"
   },
   {
    "duration": 27,
    "start_time": "2023-05-24T13:10:15.397Z"
   },
   {
    "duration": 556,
    "start_time": "2023-05-24T13:10:16.316Z"
   },
   {
    "duration": 1705,
    "start_time": "2023-05-29T18:53:38.641Z"
   },
   {
    "duration": 19240,
    "start_time": "2023-05-29T18:53:42.211Z"
   },
   {
    "duration": 4718,
    "start_time": "2023-05-29T18:54:01.453Z"
   },
   {
    "duration": 3010,
    "start_time": "2023-05-29T18:54:06.178Z"
   },
   {
    "duration": 2379,
    "start_time": "2023-05-29T18:54:09.197Z"
   },
   {
    "duration": 352,
    "start_time": "2023-05-29T18:54:11.585Z"
   },
   {
    "duration": 0,
    "start_time": "2023-05-29T18:54:11.939Z"
   },
   {
    "duration": 31,
    "start_time": "2023-05-29T18:54:41.955Z"
   },
   {
    "duration": 278,
    "start_time": "2023-05-29T18:55:03.532Z"
   },
   {
    "duration": 9,
    "start_time": "2023-05-29T18:55:06.589Z"
   },
   {
    "duration": 1425,
    "start_time": "2023-05-29T18:55:15.360Z"
   },
   {
    "duration": 38,
    "start_time": "2023-05-29T18:55:22.354Z"
   },
   {
    "duration": 36,
    "start_time": "2023-05-29T18:55:24.177Z"
   },
   {
    "duration": 832,
    "start_time": "2023-05-29T18:55:25.400Z"
   },
   {
    "duration": 6,
    "start_time": "2023-05-29T18:56:20.124Z"
   },
   {
    "duration": 3,
    "start_time": "2023-05-29T18:56:21.822Z"
   },
   {
    "duration": 10,
    "start_time": "2023-05-29T18:56:26.306Z"
   },
   {
    "duration": 113,
    "start_time": "2023-05-29T18:56:27.013Z"
   },
   {
    "duration": 5,
    "start_time": "2023-05-29T18:56:27.812Z"
   },
   {
    "duration": 87702,
    "start_time": "2023-05-29T18:56:29.700Z"
   },
   {
    "duration": 81,
    "start_time": "2023-05-29T18:57:57.404Z"
   },
   {
    "duration": 17,
    "start_time": "2023-05-29T19:12:13.279Z"
   },
   {
    "duration": 103,
    "start_time": "2023-05-29T19:12:14.141Z"
   },
   {
    "duration": 3,
    "start_time": "2023-05-29T19:12:15.139Z"
   },
   {
    "duration": 304,
    "start_time": "2023-05-29T19:12:15.913Z"
   },
   {
    "duration": 100,
    "start_time": "2023-05-29T19:12:22.611Z"
   },
   {
    "duration": 6,
    "start_time": "2023-05-29T19:12:50.252Z"
   },
   {
    "duration": 44,
    "start_time": "2023-05-29T19:12:51.295Z"
   },
   {
    "duration": 4,
    "start_time": "2023-05-29T19:12:52.024Z"
   },
   {
    "duration": 59,
    "start_time": "2023-05-29T19:12:53.349Z"
   },
   {
    "duration": 331,
    "start_time": "2023-05-29T19:12:54.260Z"
   },
   {
    "duration": 63,
    "start_time": "2023-05-29T19:14:32.219Z"
   },
   {
    "duration": 44,
    "start_time": "2023-05-29T19:20:46.284Z"
   },
   {
    "duration": 17,
    "start_time": "2023-05-29T19:21:00.554Z"
   },
   {
    "duration": 7,
    "start_time": "2023-05-29T19:21:03.751Z"
   },
   {
    "duration": 60,
    "start_time": "2023-05-29T19:47:33.313Z"
   },
   {
    "duration": 1357,
    "start_time": "2023-05-29T19:47:49.793Z"
   },
   {
    "duration": 19462,
    "start_time": "2023-05-29T19:47:57.853Z"
   },
   {
    "duration": 2357,
    "start_time": "2023-05-29T19:48:19.341Z"
   },
   {
    "duration": 4367,
    "start_time": "2023-05-29T19:48:24.208Z"
   },
   {
    "duration": 336,
    "start_time": "2023-05-29T19:48:32.754Z"
   },
   {
    "duration": 367,
    "start_time": "2023-05-29T19:48:35.317Z"
   },
   {
    "duration": 400,
    "start_time": "2023-05-29T19:48:38.419Z"
   },
   {
    "duration": 53,
    "start_time": "2023-05-29T19:49:16.446Z"
   },
   {
    "duration": 695,
    "start_time": "2023-05-29T19:49:31.647Z"
   },
   {
    "duration": 91518,
    "start_time": "2023-05-29T19:49:56.954Z"
   },
   {
    "duration": 1412,
    "start_time": "2023-05-29T19:51:40.911Z"
   },
   {
    "duration": 26,
    "start_time": "2023-05-29T19:51:48.154Z"
   },
   {
    "duration": 20,
    "start_time": "2023-05-29T19:51:58.258Z"
   },
   {
    "duration": 219,
    "start_time": "2023-05-29T19:52:03.562Z"
   },
   {
    "duration": 136,
    "start_time": "2023-05-29T19:54:27.200Z"
   },
   {
    "duration": 26,
    "start_time": "2023-05-29T19:54:27.341Z"
   },
   {
    "duration": 21,
    "start_time": "2023-05-29T19:54:27.372Z"
   },
   {
    "duration": 85,
    "start_time": "2023-05-29T19:54:27.395Z"
   },
   {
    "duration": 7,
    "start_time": "2023-05-29T19:54:27.483Z"
   },
   {
    "duration": 41,
    "start_time": "2023-05-29T19:54:27.491Z"
   },
   {
    "duration": 33,
    "start_time": "2023-05-29T19:54:27.533Z"
   },
   {
    "duration": 110,
    "start_time": "2023-05-29T19:54:27.569Z"
   },
   {
    "duration": 5,
    "start_time": "2023-05-29T19:54:27.681Z"
   },
   {
    "duration": 80502,
    "start_time": "2023-05-29T19:54:27.687Z"
   },
   {
    "duration": 68,
    "start_time": "2023-05-29T19:55:48.190Z"
   },
   {
    "duration": 12,
    "start_time": "2023-05-29T19:55:48.260Z"
   },
   {
    "duration": 41,
    "start_time": "2023-05-29T19:55:48.274Z"
   },
   {
    "duration": 2,
    "start_time": "2023-05-29T19:55:48.318Z"
   },
   {
    "duration": 237,
    "start_time": "2023-05-29T19:55:48.327Z"
   },
   {
    "duration": 94,
    "start_time": "2023-05-29T19:55:48.565Z"
   },
   {
    "duration": 6,
    "start_time": "2023-05-29T19:55:48.660Z"
   },
   {
    "duration": 43,
    "start_time": "2023-05-29T19:55:48.668Z"
   },
   {
    "duration": 4,
    "start_time": "2023-05-29T19:55:48.712Z"
   },
   {
    "duration": 144,
    "start_time": "2023-05-29T19:55:48.718Z"
   },
   {
    "duration": 164,
    "start_time": "2023-05-29T19:55:48.864Z"
   },
   {
    "duration": 333,
    "start_time": "2023-05-29T19:55:49.038Z"
   },
   {
    "duration": 70,
    "start_time": "2023-05-29T19:55:49.373Z"
   },
   {
    "duration": 10,
    "start_time": "2023-05-29T19:55:49.445Z"
   },
   {
    "duration": 10,
    "start_time": "2023-05-29T19:55:49.457Z"
   },
   {
    "duration": 1391072,
    "start_time": "2023-05-29T19:55:49.469Z"
   },
   {
    "duration": 9,
    "start_time": "2023-05-29T20:19:00.546Z"
   },
   {
    "duration": 292,
    "start_time": "2023-05-29T20:19:00.557Z"
   },
   {
    "duration": 0,
    "start_time": "2023-05-29T20:19:00.852Z"
   },
   {
    "duration": 0,
    "start_time": "2023-05-29T20:19:00.853Z"
   },
   {
    "duration": 0,
    "start_time": "2023-05-29T20:19:00.854Z"
   },
   {
    "duration": 0,
    "start_time": "2023-05-29T20:19:00.854Z"
   },
   {
    "duration": 7,
    "start_time": "2023-05-29T20:19:17.844Z"
   },
   {
    "duration": 13,
    "start_time": "2023-05-29T20:20:25.407Z"
   },
   {
    "duration": 49,
    "start_time": "2023-05-29T20:20:33.161Z"
   },
   {
    "duration": 6982,
    "start_time": "2023-05-29T20:20:47.957Z"
   },
   {
    "duration": 4,
    "start_time": "2023-05-29T20:21:13.650Z"
   },
   {
    "duration": 14,
    "start_time": "2023-05-29T20:21:22.094Z"
   },
   {
    "duration": 105,
    "start_time": "2023-05-29T20:21:27.498Z"
   },
   {
    "duration": 14,
    "start_time": "2023-05-29T20:21:35.347Z"
   },
   {
    "duration": 474,
    "start_time": "2023-05-31T06:23:13.088Z"
   },
   {
    "duration": 20821,
    "start_time": "2023-05-31T06:23:14.117Z"
   },
   {
    "duration": 4667,
    "start_time": "2023-05-31T06:23:34.941Z"
   },
   {
    "duration": 3000,
    "start_time": "2023-05-31T06:23:39.609Z"
   },
   {
    "duration": 2868,
    "start_time": "2023-05-31T06:23:42.611Z"
   },
   {
    "duration": 324,
    "start_time": "2023-05-31T06:23:45.483Z"
   },
   {
    "duration": 0,
    "start_time": "2023-05-31T06:23:45.809Z"
   },
   {
    "duration": 0,
    "start_time": "2023-05-31T06:23:45.810Z"
   },
   {
    "duration": 0,
    "start_time": "2023-05-31T06:23:45.812Z"
   },
   {
    "duration": 235,
    "start_time": "2023-05-31T06:24:00.096Z"
   },
   {
    "duration": 1368,
    "start_time": "2023-05-31T06:24:04.784Z"
   },
   {
    "duration": 26,
    "start_time": "2023-05-31T06:24:07.286Z"
   },
   {
    "duration": 21,
    "start_time": "2023-05-31T06:24:07.893Z"
   },
   {
    "duration": 741,
    "start_time": "2023-05-31T06:24:08.485Z"
   },
   {
    "duration": 7,
    "start_time": "2023-05-31T06:24:17.783Z"
   },
   {
    "duration": 53,
    "start_time": "2023-05-31T06:24:19.544Z"
   },
   {
    "duration": 15,
    "start_time": "2023-05-31T06:24:22.074Z"
   },
   {
    "duration": 103,
    "start_time": "2023-05-31T06:24:28.236Z"
   },
   {
    "duration": 5,
    "start_time": "2023-05-31T06:24:28.894Z"
   },
   {
    "duration": 88216,
    "start_time": "2023-05-31T06:24:30.486Z"
   },
   {
    "duration": 74,
    "start_time": "2023-05-31T06:25:58.704Z"
   },
   {
    "duration": 10,
    "start_time": "2023-05-31T06:25:58.780Z"
   },
   {
    "duration": 70,
    "start_time": "2023-05-31T06:25:58.792Z"
   },
   {
    "duration": 4,
    "start_time": "2023-05-31T06:25:58.870Z"
   },
   {
    "duration": 285,
    "start_time": "2023-05-31T06:25:58.876Z"
   },
   {
    "duration": 116,
    "start_time": "2023-05-31T06:25:59.169Z"
   },
   {
    "duration": 5,
    "start_time": "2023-05-31T06:25:59.287Z"
   },
   {
    "duration": 77,
    "start_time": "2023-05-31T06:25:59.294Z"
   },
   {
    "duration": 9,
    "start_time": "2023-05-31T06:25:59.376Z"
   },
   {
    "duration": 4,
    "start_time": "2023-05-31T06:29:25.316Z"
   },
   {
    "duration": 45,
    "start_time": "2023-05-31T06:29:28.885Z"
   },
   {
    "duration": 34,
    "start_time": "2023-05-31T06:29:29.658Z"
   },
   {
    "duration": 278,
    "start_time": "2023-05-31T06:29:34.601Z"
   },
   {
    "duration": 44,
    "start_time": "2023-05-31T06:29:40.184Z"
   },
   {
    "duration": 6,
    "start_time": "2023-05-31T06:29:43.731Z"
   },
   {
    "duration": 8,
    "start_time": "2023-05-31T06:29:49.688Z"
   },
   {
    "duration": 6,
    "start_time": "2023-05-31T06:30:18.395Z"
   },
   {
    "duration": 1057160,
    "start_time": "2023-05-31T06:30:19.821Z"
   },
   {
    "duration": 6,
    "start_time": "2023-05-31T06:52:27.930Z"
   },
   {
    "duration": 62,
    "start_time": "2023-05-31T06:52:29.700Z"
   },
   {
    "duration": 4214,
    "start_time": "2023-05-31T06:52:39.540Z"
   },
   {
    "duration": 4,
    "start_time": "2023-05-31T06:53:31.458Z"
   },
   {
    "duration": 101,
    "start_time": "2023-05-31T06:53:33.436Z"
   },
   {
    "duration": 12,
    "start_time": "2023-05-31T06:53:47.161Z"
   },
   {
    "duration": 466,
    "start_time": "2023-05-31T07:08:07.219Z"
   },
   {
    "duration": 409,
    "start_time": "2023-05-31T07:26:16.855Z"
   },
   {
    "duration": 15796,
    "start_time": "2023-05-31T07:26:17.267Z"
   },
   {
    "duration": 4115,
    "start_time": "2023-05-31T07:26:33.065Z"
   },
   {
    "duration": 1152,
    "start_time": "2023-05-31T07:26:37.182Z"
   },
   {
    "duration": 1336,
    "start_time": "2023-05-31T07:26:38.336Z"
   },
   {
    "duration": 54,
    "start_time": "2023-05-31T07:26:39.674Z"
   },
   {
    "duration": 978,
    "start_time": "2023-05-31T07:26:39.729Z"
   },
   {
    "duration": 535,
    "start_time": "2023-05-31T07:26:40.708Z"
   },
   {
    "duration": 76197,
    "start_time": "2023-05-31T07:26:41.244Z"
   },
   {
    "duration": 1143,
    "start_time": "2023-05-31T07:27:57.444Z"
   },
   {
    "duration": 37,
    "start_time": "2023-05-31T07:27:58.589Z"
   },
   {
    "duration": 16,
    "start_time": "2023-05-31T07:27:58.628Z"
   },
   {
    "duration": 188,
    "start_time": "2023-05-31T07:27:58.645Z"
   },
   {
    "duration": 6,
    "start_time": "2023-05-31T07:27:58.834Z"
   },
   {
    "duration": 30,
    "start_time": "2023-05-31T07:27:58.841Z"
   },
   {
    "duration": 58,
    "start_time": "2023-05-31T07:27:58.872Z"
   },
   {
    "duration": 124,
    "start_time": "2023-05-31T07:27:58.932Z"
   },
   {
    "duration": 4,
    "start_time": "2023-05-31T07:27:59.058Z"
   },
   {
    "duration": 68676,
    "start_time": "2023-05-31T07:27:59.063Z"
   },
   {
    "duration": 51,
    "start_time": "2023-05-31T07:29:07.741Z"
   },
   {
    "duration": 23,
    "start_time": "2023-05-31T07:29:07.793Z"
   },
   {
    "duration": 50,
    "start_time": "2023-05-31T07:29:07.831Z"
   },
   {
    "duration": 3,
    "start_time": "2023-05-31T07:29:07.883Z"
   },
   {
    "duration": 247,
    "start_time": "2023-05-31T07:29:07.888Z"
   },
   {
    "duration": 106,
    "start_time": "2023-05-31T07:29:08.136Z"
   },
   {
    "duration": 4,
    "start_time": "2023-05-31T07:29:08.244Z"
   },
   {
    "duration": 54,
    "start_time": "2023-05-31T07:29:08.250Z"
   },
   {
    "duration": 2,
    "start_time": "2023-05-31T07:29:08.309Z"
   },
   {
    "duration": 65,
    "start_time": "2023-05-31T07:29:08.313Z"
   },
   {
    "duration": 0,
    "start_time": "2023-05-31T07:29:08.380Z"
   },
   {
    "duration": 0,
    "start_time": "2023-05-31T07:29:08.381Z"
   },
   {
    "duration": 0,
    "start_time": "2023-05-31T07:29:08.382Z"
   },
   {
    "duration": 0,
    "start_time": "2023-05-31T07:29:08.383Z"
   },
   {
    "duration": 0,
    "start_time": "2023-05-31T07:29:08.384Z"
   },
   {
    "duration": 0,
    "start_time": "2023-05-31T07:29:08.384Z"
   },
   {
    "duration": 0,
    "start_time": "2023-05-31T07:29:08.385Z"
   },
   {
    "duration": 0,
    "start_time": "2023-05-31T07:29:08.386Z"
   },
   {
    "duration": 0,
    "start_time": "2023-05-31T07:29:08.387Z"
   },
   {
    "duration": 0,
    "start_time": "2023-05-31T07:29:08.388Z"
   },
   {
    "duration": 0,
    "start_time": "2023-05-31T07:29:08.389Z"
   },
   {
    "duration": 0,
    "start_time": "2023-05-31T07:29:08.390Z"
   },
   {
    "duration": 0,
    "start_time": "2023-05-31T07:29:08.391Z"
   },
   {
    "duration": 0,
    "start_time": "2023-05-31T07:29:08.392Z"
   },
   {
    "duration": 0,
    "start_time": "2023-05-31T07:29:08.393Z"
   },
   {
    "duration": 0,
    "start_time": "2023-05-31T07:29:08.393Z"
   },
   {
    "duration": 0,
    "start_time": "2023-05-31T07:29:08.394Z"
   },
   {
    "duration": 0,
    "start_time": "2023-05-31T07:29:08.395Z"
   },
   {
    "duration": 0,
    "start_time": "2023-05-31T07:29:08.395Z"
   },
   {
    "duration": 0,
    "start_time": "2023-05-31T07:29:08.396Z"
   },
   {
    "duration": 0,
    "start_time": "2023-05-31T07:29:08.397Z"
   },
   {
    "duration": 0,
    "start_time": "2023-05-31T07:29:08.398Z"
   },
   {
    "duration": 0,
    "start_time": "2023-05-31T07:29:08.399Z"
   },
   {
    "duration": 0,
    "start_time": "2023-05-31T07:29:08.400Z"
   },
   {
    "duration": 0,
    "start_time": "2023-05-31T07:29:08.401Z"
   },
   {
    "duration": 0,
    "start_time": "2023-05-31T07:29:08.402Z"
   },
   {
    "duration": 0,
    "start_time": "2023-05-31T07:29:08.403Z"
   },
   {
    "duration": 0,
    "start_time": "2023-05-31T07:29:08.404Z"
   },
   {
    "duration": 0,
    "start_time": "2023-05-31T07:29:08.405Z"
   },
   {
    "duration": 0,
    "start_time": "2023-05-31T07:29:08.406Z"
   },
   {
    "duration": 0,
    "start_time": "2023-05-31T07:29:08.407Z"
   },
   {
    "duration": 25,
    "start_time": "2023-05-31T07:30:13.607Z"
   },
   {
    "duration": 30,
    "start_time": "2023-05-31T07:30:20.405Z"
   },
   {
    "duration": 216,
    "start_time": "2023-05-31T07:30:52.335Z"
   },
   {
    "duration": 46,
    "start_time": "2023-05-31T07:31:01.386Z"
   },
   {
    "duration": 6,
    "start_time": "2023-05-31T07:31:07.131Z"
   },
   {
    "duration": 5,
    "start_time": "2023-05-31T07:31:11.186Z"
   },
   {
    "duration": 1171008,
    "start_time": "2023-05-31T07:31:18.332Z"
   },
   {
    "duration": 18,
    "start_time": "2023-05-31T07:50:49.342Z"
   },
   {
    "duration": 5,
    "start_time": "2023-05-31T07:54:42.711Z"
   },
   {
    "duration": 48,
    "start_time": "2023-05-31T07:54:50.718Z"
   },
   {
    "duration": 5807,
    "start_time": "2023-05-31T07:55:00.715Z"
   },
   {
    "duration": 4,
    "start_time": "2023-05-31T07:55:12.666Z"
   },
   {
    "duration": 83,
    "start_time": "2023-05-31T07:55:18.228Z"
   },
   {
    "duration": 18,
    "start_time": "2023-05-31T07:55:29.800Z"
   },
   {
    "duration": 18,
    "start_time": "2023-05-31T07:55:48.110Z"
   },
   {
    "duration": 421,
    "start_time": "2023-05-31T07:56:24.511Z"
   },
   {
    "duration": 25,
    "start_time": "2023-05-31T07:56:39.088Z"
   },
   {
    "duration": 23,
    "start_time": "2023-05-31T07:56:40.598Z"
   },
   {
    "duration": 492858,
    "start_time": "2023-05-31T07:56:44.826Z"
   },
   {
    "duration": 12,
    "start_time": "2023-05-31T08:06:41.102Z"
   },
   {
    "duration": 3571,
    "start_time": "2023-05-31T08:06:45.447Z"
   },
   {
    "duration": 9,
    "start_time": "2023-05-31T08:06:51.847Z"
   },
   {
    "duration": 12409,
    "start_time": "2023-05-31T08:07:02.607Z"
   },
   {
    "duration": 780,
    "start_time": "2023-05-31T08:07:19.640Z"
   },
   {
    "duration": 11,
    "start_time": "2023-05-31T08:07:23.853Z"
   },
   {
    "duration": 4,
    "start_time": "2023-05-31T08:07:31.256Z"
   },
   {
    "duration": 99,
    "start_time": "2023-05-31T08:07:34.778Z"
   },
   {
    "duration": 14,
    "start_time": "2023-05-31T08:07:36.356Z"
   },
   {
    "duration": 14,
    "start_time": "2023-05-31T08:07:37.863Z"
   },
   {
    "duration": 8,
    "start_time": "2023-05-31T08:07:39.882Z"
   },
   {
    "duration": 7,
    "start_time": "2023-05-31T08:07:43.513Z"
   },
   {
    "duration": 24,
    "start_time": "2023-05-31T08:09:10.728Z"
   },
   {
    "duration": 383,
    "start_time": "2023-05-31T08:18:06.398Z"
   },
   {
    "duration": 16,
    "start_time": "2023-05-31T08:18:17.974Z"
   },
   {
    "duration": 16,
    "start_time": "2023-05-31T08:19:09.038Z"
   },
   {
    "duration": 16,
    "start_time": "2023-05-31T08:19:24.800Z"
   },
   {
    "duration": 3,
    "start_time": "2023-05-31T09:32:40.284Z"
   },
   {
    "duration": 52,
    "start_time": "2023-05-31T09:39:24.487Z"
   },
   {
    "duration": 4,
    "start_time": "2023-05-31T09:39:40.084Z"
   },
   {
    "duration": 16,
    "start_time": "2023-05-31T09:42:43.348Z"
   },
   {
    "duration": 32,
    "start_time": "2023-05-31T09:43:51.091Z"
   },
   {
    "duration": 8,
    "start_time": "2023-05-31T09:44:08.979Z"
   },
   {
    "duration": 4,
    "start_time": "2023-05-31T09:44:23.794Z"
   },
   {
    "duration": 10,
    "start_time": "2023-05-31T09:44:37.741Z"
   },
   {
    "duration": 4,
    "start_time": "2023-05-31T09:44:50.331Z"
   },
   {
    "duration": 4,
    "start_time": "2023-05-31T09:45:00.633Z"
   },
   {
    "duration": 4,
    "start_time": "2023-05-31T09:45:16.229Z"
   },
   {
    "duration": 4,
    "start_time": "2023-05-31T09:45:22.927Z"
   },
   {
    "duration": 4,
    "start_time": "2023-05-31T09:49:28.642Z"
   },
   {
    "duration": 148,
    "start_time": "2023-05-31T09:49:47.483Z"
   },
   {
    "duration": 67,
    "start_time": "2023-05-31T09:50:58.955Z"
   },
   {
    "duration": 11,
    "start_time": "2023-05-31T09:51:15.531Z"
   },
   {
    "duration": 4,
    "start_time": "2023-05-31T09:52:26.683Z"
   },
   {
    "duration": 104,
    "start_time": "2023-05-31T09:52:45.714Z"
   },
   {
    "duration": 52,
    "start_time": "2023-05-31T09:53:14.079Z"
   },
   {
    "duration": 181,
    "start_time": "2023-05-31T09:53:36.034Z"
   },
   {
    "duration": 51,
    "start_time": "2023-05-31T09:54:10.785Z"
   },
   {
    "duration": 1683,
    "start_time": "2023-05-31T09:55:09.479Z"
   },
   {
    "duration": 5,
    "start_time": "2023-05-31T09:55:20.085Z"
   },
   {
    "duration": 4,
    "start_time": "2023-05-31T09:57:06.010Z"
   },
   {
    "duration": 4,
    "start_time": "2023-05-31T09:57:15.998Z"
   },
   {
    "duration": 5,
    "start_time": "2023-05-31T09:57:31.435Z"
   },
   {
    "duration": 17,
    "start_time": "2023-05-31T09:58:29.679Z"
   },
   {
    "duration": 174,
    "start_time": "2023-05-31T10:03:32.458Z"
   },
   {
    "duration": 59,
    "start_time": "2023-05-31T10:04:27.576Z"
   },
   {
    "duration": 13,
    "start_time": "2023-05-31T10:04:55.241Z"
   },
   {
    "duration": 9,
    "start_time": "2023-05-31T10:05:06.483Z"
   },
   {
    "duration": 19,
    "start_time": "2023-05-31T10:06:05.314Z"
   },
   {
    "duration": 12,
    "start_time": "2023-05-31T10:06:16.586Z"
   },
   {
    "duration": 22,
    "start_time": "2023-05-31T10:06:47.812Z"
   },
   {
    "duration": 12,
    "start_time": "2023-05-31T10:07:04.139Z"
   },
   {
    "duration": 11,
    "start_time": "2023-05-31T10:07:11.133Z"
   },
   {
    "duration": 7,
    "start_time": "2023-05-31T10:18:36.852Z"
   },
   {
    "duration": 13,
    "start_time": "2023-05-31T10:18:40.669Z"
   },
   {
    "duration": 89,
    "start_time": "2023-05-31T10:19:05.145Z"
   },
   {
    "duration": 10,
    "start_time": "2023-05-31T10:20:10.052Z"
   },
   {
    "duration": 352,
    "start_time": "2023-05-31T11:32:47.403Z"
   },
   {
    "duration": 1310,
    "start_time": "2023-05-31T11:32:47.757Z"
   },
   {
    "duration": 279,
    "start_time": "2023-05-31T11:32:49.068Z"
   },
   {
    "duration": 223,
    "start_time": "2023-05-31T11:32:49.350Z"
   },
   {
    "duration": 320,
    "start_time": "2023-05-31T11:32:49.575Z"
   },
   {
    "duration": 53,
    "start_time": "2023-05-31T11:32:49.896Z"
   },
   {
    "duration": 699,
    "start_time": "2023-05-31T11:32:49.951Z"
   },
   {
    "duration": 222,
    "start_time": "2023-05-31T11:32:50.651Z"
   },
   {
    "duration": 76650,
    "start_time": "2023-05-31T11:32:50.874Z"
   },
   {
    "duration": 1170,
    "start_time": "2023-05-31T11:34:07.530Z"
   },
   {
    "duration": 42,
    "start_time": "2023-05-31T11:34:08.702Z"
   },
   {
    "duration": 20,
    "start_time": "2023-05-31T11:34:08.746Z"
   },
   {
    "duration": 228,
    "start_time": "2023-05-31T11:34:08.767Z"
   },
   {
    "duration": 6,
    "start_time": "2023-05-31T11:34:08.996Z"
   },
   {
    "duration": 75,
    "start_time": "2023-05-31T11:34:09.003Z"
   },
   {
    "duration": 50,
    "start_time": "2023-05-31T11:34:09.079Z"
   },
   {
    "duration": 107,
    "start_time": "2023-05-31T11:34:09.137Z"
   },
   {
    "duration": 5,
    "start_time": "2023-05-31T11:34:09.245Z"
   },
   {
    "duration": 66445,
    "start_time": "2023-05-31T11:34:09.251Z"
   },
   {
    "duration": 79,
    "start_time": "2023-05-31T11:35:15.698Z"
   },
   {
    "duration": 21,
    "start_time": "2023-05-31T11:35:15.779Z"
   },
   {
    "duration": 109,
    "start_time": "2023-05-31T11:35:15.802Z"
   },
   {
    "duration": 38,
    "start_time": "2023-05-31T11:35:15.913Z"
   },
   {
    "duration": 397,
    "start_time": "2023-05-31T11:35:15.954Z"
   },
   {
    "duration": 100,
    "start_time": "2023-05-31T11:35:16.353Z"
   },
   {
    "duration": 4,
    "start_time": "2023-05-31T11:35:16.455Z"
   },
   {
    "duration": 84,
    "start_time": "2023-05-31T11:35:16.461Z"
   },
   {
    "duration": 3,
    "start_time": "2023-05-31T11:35:16.553Z"
   },
   {
    "duration": 101,
    "start_time": "2023-05-31T11:35:16.557Z"
   },
   {
    "duration": 407,
    "start_time": "2023-05-31T11:35:16.660Z"
   },
   {
    "duration": 86,
    "start_time": "2023-05-31T11:35:17.069Z"
   },
   {
    "duration": 6,
    "start_time": "2023-05-31T11:35:17.156Z"
   },
   {
    "duration": 62,
    "start_time": "2023-05-31T11:35:17.163Z"
   },
   {
    "duration": 1214725,
    "start_time": "2023-05-31T11:35:17.227Z"
   },
   {
    "duration": 8,
    "start_time": "2023-05-31T11:55:32.021Z"
   },
   {
    "duration": 65,
    "start_time": "2023-05-31T11:55:32.031Z"
   },
   {
    "duration": 28847,
    "start_time": "2023-05-31T11:55:32.098Z"
   },
   {
    "duration": 17,
    "start_time": "2023-05-31T11:56:01.016Z"
   },
   {
    "duration": 174,
    "start_time": "2023-05-31T11:56:01.034Z"
   },
   {
    "duration": 32,
    "start_time": "2023-05-31T11:56:01.209Z"
   },
   {
    "duration": 506,
    "start_time": "2023-05-31T11:56:01.243Z"
   },
   {
    "duration": 803946,
    "start_time": "2023-05-31T11:56:01.751Z"
   },
   {
    "duration": 36,
    "start_time": "2023-05-31T12:09:25.698Z"
   },
   {
    "duration": 4,
    "start_time": "2023-05-31T12:09:25.736Z"
   },
   {
    "duration": 112,
    "start_time": "2023-05-31T12:09:25.742Z"
   },
   {
    "duration": 11,
    "start_time": "2023-05-31T12:09:25.856Z"
   },
   {
    "duration": 59266,
    "start_time": "2023-05-31T12:09:25.869Z"
   },
   {
    "duration": 9,
    "start_time": "2023-05-31T12:10:25.146Z"
   },
   {
    "duration": 18521,
    "start_time": "2023-05-31T12:10:25.225Z"
   },
   {
    "duration": 1204,
    "start_time": "2023-05-31T12:10:43.748Z"
   },
   {
    "duration": 25,
    "start_time": "2023-05-31T12:10:45.024Z"
   },
   {
    "duration": 78,
    "start_time": "2023-05-31T12:10:45.051Z"
   },
   {
    "duration": 215,
    "start_time": "2023-05-31T12:10:45.130Z"
   },
   {
    "duration": 17,
    "start_time": "2023-05-31T12:10:45.347Z"
   },
   {
    "duration": 16,
    "start_time": "2023-05-31T12:10:45.366Z"
   },
   {
    "duration": 10,
    "start_time": "2023-05-31T12:10:45.384Z"
   },
   {
    "duration": 8,
    "start_time": "2023-05-31T12:10:45.396Z"
   },
   {
    "duration": 7,
    "start_time": "2023-05-31T12:15:28.639Z"
   },
   {
    "duration": 296,
    "start_time": "2023-05-31T12:15:45.875Z"
   },
   {
    "duration": 6,
    "start_time": "2023-05-31T12:18:36.385Z"
   },
   {
    "duration": 13,
    "start_time": "2023-05-31T12:19:05.233Z"
   },
   {
    "duration": 4,
    "start_time": "2023-05-31T12:19:17.075Z"
   },
   {
    "duration": 3,
    "start_time": "2023-05-31T12:19:35.444Z"
   },
   {
    "duration": 90,
    "start_time": "2023-05-31T12:19:41.483Z"
   },
   {
    "duration": 3,
    "start_time": "2023-05-31T12:21:03.296Z"
   },
   {
    "duration": 93,
    "start_time": "2023-05-31T12:21:06.896Z"
   },
   {
    "duration": 10,
    "start_time": "2023-05-31T12:21:59.382Z"
   },
   {
    "duration": 37399,
    "start_time": "2023-05-31T12:22:13.355Z"
   },
   {
    "duration": 33,
    "start_time": "2023-05-31T12:22:57.414Z"
   },
   {
    "duration": 18345,
    "start_time": "2023-05-31T12:23:09.203Z"
   },
   {
    "duration": 892,
    "start_time": "2023-05-31T12:23:35.041Z"
   },
   {
    "duration": 13,
    "start_time": "2023-05-31T12:23:55.469Z"
   },
   {
    "duration": 4,
    "start_time": "2023-05-31T12:24:03.299Z"
   },
   {
    "duration": 103,
    "start_time": "2023-05-31T12:24:06.555Z"
   },
   {
    "duration": 13,
    "start_time": "2023-05-31T12:24:08.361Z"
   },
   {
    "duration": 12,
    "start_time": "2023-05-31T12:24:09.980Z"
   },
   {
    "duration": 6,
    "start_time": "2023-05-31T12:24:20.975Z"
   },
   {
    "duration": 6,
    "start_time": "2023-05-31T12:24:22.637Z"
   }
  ],
  "kernelspec": {
   "display_name": "Python 3 (ipykernel)",
   "language": "python",
   "name": "python3"
  },
  "language_info": {
   "codemirror_mode": {
    "name": "ipython",
    "version": 3
   },
   "file_extension": ".py",
   "mimetype": "text/x-python",
   "name": "python",
   "nbconvert_exporter": "python",
   "pygments_lexer": "ipython3",
   "version": "3.11.0"
  },
  "toc": {
   "base_numbering": 1,
   "nav_menu": {
    "height": "259px",
    "width": "226px"
   },
   "number_sections": true,
   "sideBar": true,
   "skip_h1_title": true,
   "title_cell": "Содержание",
   "title_sidebar": "Содержание",
   "toc_cell": true,
   "toc_position": {
    "height": "calc(100% - 180px)",
    "left": "10px",
    "top": "150px",
    "width": "198.6px"
   },
   "toc_section_display": true,
   "toc_window_display": true
  },
  "varInspector": {
   "cols": {
    "lenName": 16,
    "lenType": 16,
    "lenVar": 40
   },
   "kernels_config": {
    "python": {
     "delete_cmd_postfix": "",
     "delete_cmd_prefix": "del ",
     "library": "var_list.py",
     "varRefreshCmd": "print(var_dic_list())"
    },
    "r": {
     "delete_cmd_postfix": ") ",
     "delete_cmd_prefix": "rm(",
     "library": "var_list.r",
     "varRefreshCmd": "cat(var_dic_list()) "
    }
   },
   "types_to_exclude": [
    "module",
    "function",
    "builtin_function_or_method",
    "instance",
    "_Feature"
   ],
   "window_display": false
  }
 },
 "nbformat": 4,
 "nbformat_minor": 5
}
