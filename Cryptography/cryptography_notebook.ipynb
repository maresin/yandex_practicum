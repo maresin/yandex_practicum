{
 "cells": [
  {
   "cell_type": "markdown",
   "metadata": {
    "toc": true
   },
   "source": [
    "<h1>Содержание<span class=\"tocSkip\"></span></h1>\n",
    "<div class=\"toc\"><ul class=\"toc-item\"><li><span><a href=\"#Загрузка-данных\" data-toc-modified-id=\"Загрузка-данных-1\"><span class=\"toc-item-num\">1&nbsp;&nbsp;</span>Загрузка данных</a></span></li><li><span><a href=\"#Умножение-матриц\" data-toc-modified-id=\"Умножение-матриц-2\"><span class=\"toc-item-num\">2&nbsp;&nbsp;</span>Умножение матриц</a></span></li><li><span><a href=\"#Алгоритм-преобразования\" data-toc-modified-id=\"Алгоритм-преобразования-3\"><span class=\"toc-item-num\">3&nbsp;&nbsp;</span>Алгоритм преобразования</a></span></li><li><span><a href=\"#Проверка-алгоритма\" data-toc-modified-id=\"Проверка-алгоритма-4\"><span class=\"toc-item-num\">4&nbsp;&nbsp;</span>Проверка алгоритма</a></span><ul class=\"toc-item\"><li><span><a href=\"#Преобразование-признаков\" data-toc-modified-id=\"Преобразование-признаков-4.1\"><span class=\"toc-item-num\">4.1&nbsp;&nbsp;</span>Преобразование признаков</a></span></li><li><span><a href=\"#Проблема-мультиколлинеарности\" data-toc-modified-id=\"Проблема-мультиколлинеарности-4.2\"><span class=\"toc-item-num\">4.2&nbsp;&nbsp;</span>Проблема мультиколлинеарности</a></span></li><li><span><a href=\"#Сравнение-точности-моделей\" data-toc-modified-id=\"Сравнение-точности-моделей-4.3\"><span class=\"toc-item-num\">4.3&nbsp;&nbsp;</span>Сравнение точности моделей</a></span></li></ul></li><li><span><a href=\"#Общие-выводы\" data-toc-modified-id=\"Общие-выводы-5\"><span class=\"toc-item-num\">5&nbsp;&nbsp;</span>Общие выводы</a></span></li></ul></div>"
   ]
  },
  {
   "cell_type": "markdown",
   "metadata": {},
   "source": [
    "# Проект: \"Защита персональных данных клиентов\""
   ]
  },
  {
   "cell_type": "markdown",
   "metadata": {},
   "source": [
    "__Описание проекта:__  \n",
    "\n",
    "Нужно защитить данные клиентов страховой компании - разработать такой метод преобразования данных, чтобы по ним было бы сложно восстановить персональную информацию. Обосновать корректность его работы.\n",
    "\n",
    "Нужно защитить данные так, чтобы при преобразовании качество моделей машинного обучения не ухудшилось. Подбирать наилучшую модель не требуется."
   ]
  },
  {
   "cell_type": "markdown",
   "metadata": {},
   "source": [
    "__Этапы исследования:__  \n",
    "- загрузка данных;\n",
    "- изучение особенностей умножение матриц;\n",
    "- разработка алгоритма преобразования признаков;\n",
    "- проверка алгоритма."
   ]
  },
  {
   "cell_type": "markdown",
   "metadata": {},
   "source": [
    "__Описание данных:__      \n",
    "- _Предсазательные признаки:_ пол, возраст и зарплата застрахованного, количество членов его семьи.\n",
    "- _Целевой признак:_ количество страховых выплат клиенту за последние 5 лет."
   ]
  },
  {
   "cell_type": "markdown",
   "metadata": {},
   "source": [
    "## Загрузка данных"
   ]
  },
  {
   "cell_type": "markdown",
   "metadata": {},
   "source": [
    "Загрузим и изучим данные."
   ]
  },
  {
   "cell_type": "code",
   "execution_count": 1,
   "metadata": {
    "ExecuteTime": {
     "end_time": "2023-06-16T11:34:55.688842Z",
     "start_time": "2023-06-16T11:34:53.558692Z"
    }
   },
   "outputs": [],
   "source": [
    "# импорт библиотек\n",
    "import pandas as pd\n",
    "import numpy as np\n",
    "from statsmodels.stats.outliers_influence import variance_inflation_factor\n",
    "from collections import OrderedDict\n",
    "\n",
    "\n",
    "from sklearn.linear_model import LinearRegression\n",
    "from sklearn.preprocessing import StandardScaler\n",
    "from sklearn.metrics import r2_score, mean_absolute_error\n",
    "from sklearn.model_selection import train_test_split"
   ]
  },
  {
   "cell_type": "code",
   "execution_count": 2,
   "metadata": {
    "ExecuteTime": {
     "end_time": "2023-06-16T11:34:55.732963Z",
     "start_time": "2023-06-16T11:34:55.691842Z"
    }
   },
   "outputs": [],
   "source": [
    "# чтение файла данных в датафрейм из папки по умолчанию и из рабочей директории\n",
    "try:\n",
    "    data = pd.read_csv('/datasets/insurance.csv', sep=',')\n",
    "except:\n",
    "    data = pd.read_csv('insurance.csv', sep=',')"
   ]
  },
  {
   "cell_type": "code",
   "execution_count": 3,
   "metadata": {
    "ExecuteTime": {
     "end_time": "2023-06-16T11:34:55.834546Z",
     "start_time": "2023-06-16T11:34:55.734963Z"
    }
   },
   "outputs": [
    {
     "data": {
      "text/html": [
       "<div>\n",
       "<style scoped>\n",
       "    .dataframe tbody tr th:only-of-type {\n",
       "        vertical-align: middle;\n",
       "    }\n",
       "\n",
       "    .dataframe tbody tr th {\n",
       "        vertical-align: top;\n",
       "    }\n",
       "\n",
       "    .dataframe thead th {\n",
       "        text-align: right;\n",
       "    }\n",
       "</style>\n",
       "<table border=\"1\" class=\"dataframe\">\n",
       "  <thead>\n",
       "    <tr style=\"text-align: right;\">\n",
       "      <th></th>\n",
       "      <th>Пол</th>\n",
       "      <th>Возраст</th>\n",
       "      <th>Зарплата</th>\n",
       "      <th>Члены семьи</th>\n",
       "      <th>Страховые выплаты</th>\n",
       "    </tr>\n",
       "  </thead>\n",
       "  <tbody>\n",
       "    <tr>\n",
       "      <th>0</th>\n",
       "      <td>1</td>\n",
       "      <td>41.0</td>\n",
       "      <td>49600.0</td>\n",
       "      <td>1</td>\n",
       "      <td>0</td>\n",
       "    </tr>\n",
       "    <tr>\n",
       "      <th>1</th>\n",
       "      <td>0</td>\n",
       "      <td>46.0</td>\n",
       "      <td>38000.0</td>\n",
       "      <td>1</td>\n",
       "      <td>1</td>\n",
       "    </tr>\n",
       "    <tr>\n",
       "      <th>2</th>\n",
       "      <td>0</td>\n",
       "      <td>29.0</td>\n",
       "      <td>21000.0</td>\n",
       "      <td>0</td>\n",
       "      <td>0</td>\n",
       "    </tr>\n",
       "    <tr>\n",
       "      <th>3</th>\n",
       "      <td>0</td>\n",
       "      <td>21.0</td>\n",
       "      <td>41700.0</td>\n",
       "      <td>2</td>\n",
       "      <td>0</td>\n",
       "    </tr>\n",
       "    <tr>\n",
       "      <th>4</th>\n",
       "      <td>1</td>\n",
       "      <td>28.0</td>\n",
       "      <td>26100.0</td>\n",
       "      <td>0</td>\n",
       "      <td>0</td>\n",
       "    </tr>\n",
       "    <tr>\n",
       "      <th>...</th>\n",
       "      <td>...</td>\n",
       "      <td>...</td>\n",
       "      <td>...</td>\n",
       "      <td>...</td>\n",
       "      <td>...</td>\n",
       "    </tr>\n",
       "    <tr>\n",
       "      <th>4995</th>\n",
       "      <td>0</td>\n",
       "      <td>28.0</td>\n",
       "      <td>35700.0</td>\n",
       "      <td>2</td>\n",
       "      <td>0</td>\n",
       "    </tr>\n",
       "    <tr>\n",
       "      <th>4996</th>\n",
       "      <td>0</td>\n",
       "      <td>34.0</td>\n",
       "      <td>52400.0</td>\n",
       "      <td>1</td>\n",
       "      <td>0</td>\n",
       "    </tr>\n",
       "    <tr>\n",
       "      <th>4997</th>\n",
       "      <td>0</td>\n",
       "      <td>20.0</td>\n",
       "      <td>33900.0</td>\n",
       "      <td>2</td>\n",
       "      <td>0</td>\n",
       "    </tr>\n",
       "    <tr>\n",
       "      <th>4998</th>\n",
       "      <td>1</td>\n",
       "      <td>22.0</td>\n",
       "      <td>32700.0</td>\n",
       "      <td>3</td>\n",
       "      <td>0</td>\n",
       "    </tr>\n",
       "    <tr>\n",
       "      <th>4999</th>\n",
       "      <td>1</td>\n",
       "      <td>28.0</td>\n",
       "      <td>40600.0</td>\n",
       "      <td>1</td>\n",
       "      <td>0</td>\n",
       "    </tr>\n",
       "  </tbody>\n",
       "</table>\n",
       "<p>5000 rows × 5 columns</p>\n",
       "</div>"
      ],
      "text/plain": [
       "      Пол  Возраст  Зарплата  Члены семьи  Страховые выплаты\n",
       "0       1     41.0   49600.0            1                  0\n",
       "1       0     46.0   38000.0            1                  1\n",
       "2       0     29.0   21000.0            0                  0\n",
       "3       0     21.0   41700.0            2                  0\n",
       "4       1     28.0   26100.0            0                  0\n",
       "...   ...      ...       ...          ...                ...\n",
       "4995    0     28.0   35700.0            2                  0\n",
       "4996    0     34.0   52400.0            1                  0\n",
       "4997    0     20.0   33900.0            2                  0\n",
       "4998    1     22.0   32700.0            3                  0\n",
       "4999    1     28.0   40600.0            1                  0\n",
       "\n",
       "[5000 rows x 5 columns]"
      ]
     },
     "execution_count": 3,
     "metadata": {},
     "output_type": "execute_result"
    }
   ],
   "source": [
    "# обзор данных\n",
    "data"
   ]
  },
  {
   "cell_type": "code",
   "execution_count": 4,
   "metadata": {
    "ExecuteTime": {
     "end_time": "2023-06-16T11:34:55.915633Z",
     "start_time": "2023-06-16T11:34:55.837547Z"
    }
   },
   "outputs": [
    {
     "name": "stdout",
     "output_type": "stream",
     "text": [
      "<class 'pandas.core.frame.DataFrame'>\n",
      "RangeIndex: 5000 entries, 0 to 4999\n",
      "Data columns (total 5 columns):\n",
      " #   Column             Non-Null Count  Dtype  \n",
      "---  ------             --------------  -----  \n",
      " 0   Пол                5000 non-null   int64  \n",
      " 1   Возраст            5000 non-null   float64\n",
      " 2   Зарплата           5000 non-null   float64\n",
      " 3   Члены семьи        5000 non-null   int64  \n",
      " 4   Страховые выплаты  5000 non-null   int64  \n",
      "dtypes: float64(2), int64(3)\n",
      "memory usage: 195.4 KB\n"
     ]
    }
   ],
   "source": [
    "# выяснение типов данных и наличие пропусков\n",
    "data.info()"
   ]
  },
  {
   "cell_type": "code",
   "execution_count": 5,
   "metadata": {
    "ExecuteTime": {
     "end_time": "2023-06-16T11:34:56.090320Z",
     "start_time": "2023-06-16T11:34:55.918629Z"
    }
   },
   "outputs": [
    {
     "data": {
      "text/html": [
       "<div>\n",
       "<style scoped>\n",
       "    .dataframe tbody tr th:only-of-type {\n",
       "        vertical-align: middle;\n",
       "    }\n",
       "\n",
       "    .dataframe tbody tr th {\n",
       "        vertical-align: top;\n",
       "    }\n",
       "\n",
       "    .dataframe thead th {\n",
       "        text-align: right;\n",
       "    }\n",
       "</style>\n",
       "<table border=\"1\" class=\"dataframe\">\n",
       "  <thead>\n",
       "    <tr style=\"text-align: right;\">\n",
       "      <th></th>\n",
       "      <th>Пол</th>\n",
       "      <th>Возраст</th>\n",
       "      <th>Зарплата</th>\n",
       "      <th>Члены семьи</th>\n",
       "      <th>Страховые выплаты</th>\n",
       "    </tr>\n",
       "  </thead>\n",
       "  <tbody>\n",
       "    <tr>\n",
       "      <th>count</th>\n",
       "      <td>5000.000000</td>\n",
       "      <td>5000.000000</td>\n",
       "      <td>5000.000000</td>\n",
       "      <td>5000.000000</td>\n",
       "      <td>5000.000000</td>\n",
       "    </tr>\n",
       "    <tr>\n",
       "      <th>mean</th>\n",
       "      <td>0.499000</td>\n",
       "      <td>30.952800</td>\n",
       "      <td>39916.360000</td>\n",
       "      <td>1.194200</td>\n",
       "      <td>0.148000</td>\n",
       "    </tr>\n",
       "    <tr>\n",
       "      <th>std</th>\n",
       "      <td>0.500049</td>\n",
       "      <td>8.440807</td>\n",
       "      <td>9900.083569</td>\n",
       "      <td>1.091387</td>\n",
       "      <td>0.463183</td>\n",
       "    </tr>\n",
       "    <tr>\n",
       "      <th>min</th>\n",
       "      <td>0.000000</td>\n",
       "      <td>18.000000</td>\n",
       "      <td>5300.000000</td>\n",
       "      <td>0.000000</td>\n",
       "      <td>0.000000</td>\n",
       "    </tr>\n",
       "    <tr>\n",
       "      <th>25%</th>\n",
       "      <td>0.000000</td>\n",
       "      <td>24.000000</td>\n",
       "      <td>33300.000000</td>\n",
       "      <td>0.000000</td>\n",
       "      <td>0.000000</td>\n",
       "    </tr>\n",
       "    <tr>\n",
       "      <th>50%</th>\n",
       "      <td>0.000000</td>\n",
       "      <td>30.000000</td>\n",
       "      <td>40200.000000</td>\n",
       "      <td>1.000000</td>\n",
       "      <td>0.000000</td>\n",
       "    </tr>\n",
       "    <tr>\n",
       "      <th>75%</th>\n",
       "      <td>1.000000</td>\n",
       "      <td>37.000000</td>\n",
       "      <td>46600.000000</td>\n",
       "      <td>2.000000</td>\n",
       "      <td>0.000000</td>\n",
       "    </tr>\n",
       "    <tr>\n",
       "      <th>max</th>\n",
       "      <td>1.000000</td>\n",
       "      <td>65.000000</td>\n",
       "      <td>79000.000000</td>\n",
       "      <td>6.000000</td>\n",
       "      <td>5.000000</td>\n",
       "    </tr>\n",
       "  </tbody>\n",
       "</table>\n",
       "</div>"
      ],
      "text/plain": [
       "               Пол      Возраст      Зарплата  Члены семьи  Страховые выплаты\n",
       "count  5000.000000  5000.000000   5000.000000  5000.000000        5000.000000\n",
       "mean      0.499000    30.952800  39916.360000     1.194200           0.148000\n",
       "std       0.500049     8.440807   9900.083569     1.091387           0.463183\n",
       "min       0.000000    18.000000   5300.000000     0.000000           0.000000\n",
       "25%       0.000000    24.000000  33300.000000     0.000000           0.000000\n",
       "50%       0.000000    30.000000  40200.000000     1.000000           0.000000\n",
       "75%       1.000000    37.000000  46600.000000     2.000000           0.000000\n",
       "max       1.000000    65.000000  79000.000000     6.000000           5.000000"
      ]
     },
     "execution_count": 5,
     "metadata": {},
     "output_type": "execute_result"
    }
   ],
   "source": [
    "# статистика по данным\n",
    "data.describe()"
   ]
  },
  {
   "cell_type": "code",
   "execution_count": 6,
   "metadata": {
    "ExecuteTime": {
     "end_time": "2023-06-16T11:34:58.150843Z",
     "start_time": "2023-06-16T11:34:56.095316Z"
    }
   },
   "outputs": [
    {
     "data": {
      "image/png": "[encoded data removed]",
      "text/plain": [
       "<Figure size 800x800 with 6 Axes>"
      ]
     },
     "metadata": {},
     "output_type": "display_data"
    }
   ],
   "source": [
    "# гистограммы необработанных данных\n",
    "data.hist(figsize=(8, 8));"
   ]
  },
  {
   "cell_type": "code",
   "execution_count": 7,
   "metadata": {
    "ExecuteTime": {
     "end_time": "2023-06-16T11:34:58.161851Z",
     "start_time": "2023-06-16T11:34:58.152843Z"
    }
   },
   "outputs": [
    {
     "data": {
      "text/plain": [
       "153"
      ]
     },
     "execution_count": 7,
     "metadata": {},
     "output_type": "execute_result"
    }
   ],
   "source": [
    "# поиск дубликатов\n",
    "data.duplicated().sum()"
   ]
  },
  {
   "cell_type": "code",
   "execution_count": 8,
   "metadata": {
    "ExecuteTime": {
     "end_time": "2023-06-16T11:34:58.383032Z",
     "start_time": "2023-06-16T11:34:58.163844Z"
    }
   },
   "outputs": [],
   "source": [
    "# удаление дубликатов\n",
    "data.drop_duplicates(inplace=True)"
   ]
  },
  {
   "cell_type": "code",
   "execution_count": 9,
   "metadata": {
    "ExecuteTime": {
     "end_time": "2023-06-16T11:34:58.822317Z",
     "start_time": "2023-06-16T11:34:58.386027Z"
    }
   },
   "outputs": [
    {
     "data": {
      "text/html": [
       "<style type=\"text/css\">\n",
       "#T_d8480_row0_col0, #T_d8480_row1_col1, #T_d8480_row2_col2, #T_d8480_row3_col3, #T_d8480_row4_col4 {\n",
       "  background-color: #9edae5;\n",
       "  color: #000000;\n",
       "}\n",
       "#T_d8480_row0_col1, #T_d8480_row0_col2, #T_d8480_row0_col3, #T_d8480_row0_col4, #T_d8480_row1_col0, #T_d8480_row1_col2, #T_d8480_row1_col3, #T_d8480_row2_col0, #T_d8480_row2_col1, #T_d8480_row2_col3, #T_d8480_row2_col4, #T_d8480_row3_col0, #T_d8480_row3_col1, #T_d8480_row3_col2, #T_d8480_row3_col4, #T_d8480_row4_col0, #T_d8480_row4_col2, #T_d8480_row4_col3 {\n",
       "  background-color: #1f77b4;\n",
       "  color: #f1f1f1;\n",
       "}\n",
       "#T_d8480_row1_col4, #T_d8480_row4_col1 {\n",
       "  background-color: #f7b6d2;\n",
       "  color: #000000;\n",
       "}\n",
       "</style>\n",
       "<table id=\"T_d8480\">\n",
       "  <thead>\n",
       "    <tr>\n",
       "      <th class=\"blank level0\" >&nbsp;</th>\n",
       "      <th id=\"T_d8480_level0_col0\" class=\"col_heading level0 col0\" >Пол</th>\n",
       "      <th id=\"T_d8480_level0_col1\" class=\"col_heading level0 col1\" >Возраст</th>\n",
       "      <th id=\"T_d8480_level0_col2\" class=\"col_heading level0 col2\" >Зарплата</th>\n",
       "      <th id=\"T_d8480_level0_col3\" class=\"col_heading level0 col3\" >Члены семьи</th>\n",
       "      <th id=\"T_d8480_level0_col4\" class=\"col_heading level0 col4\" >Страховые выплаты</th>\n",
       "    </tr>\n",
       "  </thead>\n",
       "  <tbody>\n",
       "    <tr>\n",
       "      <th id=\"T_d8480_level0_row0\" class=\"row_heading level0 row0\" >Пол</th>\n",
       "      <td id=\"T_d8480_row0_col0\" class=\"data row0 col0\" >1.000000</td>\n",
       "      <td id=\"T_d8480_row0_col1\" class=\"data row0 col1\" >0.001953</td>\n",
       "      <td id=\"T_d8480_row0_col2\" class=\"data row0 col2\" >0.015456</td>\n",
       "      <td id=\"T_d8480_row0_col3\" class=\"data row0 col3\" >-0.007315</td>\n",
       "      <td id=\"T_d8480_row0_col4\" class=\"data row0 col4\" >0.011565</td>\n",
       "    </tr>\n",
       "    <tr>\n",
       "      <th id=\"T_d8480_level0_row1\" class=\"row_heading level0 row1\" >Возраст</th>\n",
       "      <td id=\"T_d8480_row1_col0\" class=\"data row1 col0\" >0.001953</td>\n",
       "      <td id=\"T_d8480_row1_col1\" class=\"data row1 col1\" >1.000000</td>\n",
       "      <td id=\"T_d8480_row1_col2\" class=\"data row1 col2\" >-0.017386</td>\n",
       "      <td id=\"T_d8480_row1_col3\" class=\"data row1 col3\" >-0.009064</td>\n",
       "      <td id=\"T_d8480_row1_col4\" class=\"data row1 col4\" >0.654964</td>\n",
       "    </tr>\n",
       "    <tr>\n",
       "      <th id=\"T_d8480_level0_row2\" class=\"row_heading level0 row2\" >Зарплата</th>\n",
       "      <td id=\"T_d8480_row2_col0\" class=\"data row2 col0\" >0.015456</td>\n",
       "      <td id=\"T_d8480_row2_col1\" class=\"data row2 col1\" >-0.017386</td>\n",
       "      <td id=\"T_d8480_row2_col2\" class=\"data row2 col2\" >1.000000</td>\n",
       "      <td id=\"T_d8480_row2_col3\" class=\"data row2 col3\" >-0.031687</td>\n",
       "      <td id=\"T_d8480_row2_col4\" class=\"data row2 col4\" >-0.013123</td>\n",
       "    </tr>\n",
       "    <tr>\n",
       "      <th id=\"T_d8480_level0_row3\" class=\"row_heading level0 row3\" >Члены семьи</th>\n",
       "      <td id=\"T_d8480_row3_col0\" class=\"data row3 col0\" >-0.007315</td>\n",
       "      <td id=\"T_d8480_row3_col1\" class=\"data row3 col1\" >-0.009064</td>\n",
       "      <td id=\"T_d8480_row3_col2\" class=\"data row3 col2\" >-0.031687</td>\n",
       "      <td id=\"T_d8480_row3_col3\" class=\"data row3 col3\" >1.000000</td>\n",
       "      <td id=\"T_d8480_row3_col4\" class=\"data row3 col4\" >-0.039303</td>\n",
       "    </tr>\n",
       "    <tr>\n",
       "      <th id=\"T_d8480_level0_row4\" class=\"row_heading level0 row4\" >Страховые выплаты</th>\n",
       "      <td id=\"T_d8480_row4_col0\" class=\"data row4 col0\" >0.011565</td>\n",
       "      <td id=\"T_d8480_row4_col1\" class=\"data row4 col1\" >0.654964</td>\n",
       "      <td id=\"T_d8480_row4_col2\" class=\"data row4 col2\" >-0.013123</td>\n",
       "      <td id=\"T_d8480_row4_col3\" class=\"data row4 col3\" >-0.039303</td>\n",
       "      <td id=\"T_d8480_row4_col4\" class=\"data row4 col4\" >1.000000</td>\n",
       "    </tr>\n",
       "  </tbody>\n",
       "</table>\n"
      ],
      "text/plain": [
       "<pandas.io.formats.style.Styler at 0x1d2a6abedd0>"
      ]
     },
     "execution_count": 9,
     "metadata": {},
     "output_type": "execute_result"
    }
   ],
   "source": [
    "# оценка линейной зависимости данных\n",
    "data.corr().style.background_gradient(cmap='tab20')"
   ]
  },
  {
   "cell_type": "markdown",
   "metadata": {},
   "source": [
    "__Результаты обзора данных:__  \n",
    "Первичное исследование данных не выявило в них каких-либо проблем за исключением наличия немногочисленных дубликатов. Данные не нуждаются в предобработке и могут быть использованы в построении моделей машинного обучения или в операциях с матрицами."
   ]
  },
  {
   "cell_type": "markdown",
   "metadata": {},
   "source": [
    "## Умножение матриц"
   ]
  },
  {
   "cell_type": "markdown",
   "metadata": {},
   "source": [
    "Для начала ответим на следующий вопрос и обоснуем решение.\n",
    "\n",
    "__Вопрос:__  \n",
    "Признаки умножают на обратимую матрицу. Изменится ли качество линейной регрессии? (Её можно обучить заново.)  \n",
    "- _a._ __Изменится.__ Приведите примеры матриц.\n",
    "- _b._ __Не изменится.__ Укажите, как связаны параметры линейной регрессии в исходной задаче и в преобразованной."
   ]
  },
  {
   "cell_type": "markdown",
   "metadata": {},
   "source": [
    "Обозначения:\n",
    "\n",
    "- $X$ — матрица признаков (нулевой столбец состоит из единиц)\n",
    "\n",
    "- $y$ — вектор целевого признака\n",
    "\n",
    "- $P$ — матрица, на которую умножаются признаки\n",
    "\n",
    "- $w$ — вектор весов линейной регрессии (нулевой элемент равен сдвигу)"
   ]
  },
  {
   "cell_type": "markdown",
   "metadata": {},
   "source": [
    "Предсказания:\n",
    "\n",
    "$$\n",
    "a = Xw\n",
    "$$\n",
    "\n",
    "Задача обучения:\n",
    "\n",
    "$$\n",
    "w = \\arg\\min_w MSE(Xw, y)\n",
    "$$\n",
    "\n",
    "Формула обучения:\n",
    "\n",
    "$$\n",
    "w = (X^T X)^{-1} X^T y\n",
    "$$"
   ]
  },
  {
   "cell_type": "markdown",
   "metadata": {},
   "source": [
    "**Ответ:**  \n",
    "_b._ __Не изменится.__ Если умножить признаки на обратимую матрицу, то качество линейной регрессии не измениться, так как новые признаки будут являться линейной комбинацией прежних."
   ]
  },
  {
   "cell_type": "markdown",
   "metadata": {},
   "source": [
    "**Обоснование:**  \n",
    "Важным условием любого преобразования признакового пространства является сохранение информации в строках. То есть признаки в строках могут быть линейной комбинацией других признаков из той же строки, при этом ко всем строкам применяется одно и тоже линейное преобразование. В простейшем случае это может быть просто умножение на число или сложение с числом."
   ]
  },
  {
   "cell_type": "markdown",
   "metadata": {
    "ExecuteTime": {
     "end_time": "2023-02-22T10:14:57.083257Z",
     "start_time": "2023-02-22T10:14:57.070259Z"
    }
   },
   "source": [
    "  $$\n",
    "     \\begin{bmatrix}\n",
    "         a_{11} & a_{12} & \\cdots & a_{1n}\\\\\n",
    "         a_{21} & a_{22} & \\cdots & a_{2n}\\\\ \n",
    "         \\vdots & \\vdots & \\ddots & \\vdots\\\\ \n",
    "         a_{m1} & a_{m2} & \\cdots & a_{mn} \n",
    "     \\end{bmatrix}\n",
    "     \\times\n",
    "     \\begin{bmatrix}\n",
    "         b_{11} & b_{12} & \\cdots & b_{1p}\\\\\n",
    "         b_{21} & b_{22} & \\cdots & b_{2p}\\\\ \n",
    "         \\vdots & \\vdots & \\ddots & \\vdots\\\\ \n",
    "         b_{n1} & b_{n2} & \\cdots & b_{np} \n",
    "     \\end{bmatrix}\n",
    "      =\n",
    "     \\begin{bmatrix}\n",
    "         c_{11} & c_{12} & \\cdots & c_{1p}\\\\\n",
    "         c_{21} & c_{22} & \\cdots & c_{2p}\\\\ \n",
    "         \\vdots & \\vdots & \\ddots & \\vdots\\\\ \n",
    "         c_{m1} & c_{m2} & \\cdots & c_{mp} \n",
    "     \\end{bmatrix}\n",
    "  $$\n",
    "  $$ c_{ij}= a_{i1} b_{1j} + a_{i2} b_{2j} +\\cdots+ a_{in} + b_{nj} = \\sum_{k=1}^n a_{ik}b_{kj} $$  "
   ]
  },
  {
   "cell_type": "markdown",
   "metadata": {},
   "source": [
    "Другими словами важен порядок перемножения матриц, и соблюдение указанного условия возможно при _умножении признаков на матрицу преобразования_ - то есть, умножение типа $X_{m \\times n} \\cdot P_{n \\times n}$. Обратим внимание ранг матрицы признаков $rank X = n$ должен совпадать с рангом матрицы домножения. Эту матрицу целесообразно сделать квадратной для сохранения исходной размерности признакового пространства."
   ]
  },
  {
   "cell_type": "markdown",
   "metadata": {},
   "source": [
    "Альтернативный способ перемножения матриц $P_{m \\times m} \\cdot X_{m \\times n}$ возможен только при реализации следующего подхода: матрица признаков сначала транспонируется, а потом результат умножения матриц транспонируется снова - то есть, используется преобразование типа $(P_{m \\times m} X_{m \\times n}^T)^T$."
   ]
  },
  {
   "cell_type": "markdown",
   "metadata": {},
   "source": [
    "Рассмотрим более простой - первый способ - более подробно. Для начала посмотрим, как измениться вектор весов при умножении матрицы признаков $X$ на произвольную обратимую матрицу $P$.\n",
    "\n",
    "$$\n",
    "w_P = ((XP)^T XP)^{-1} (XP)^T y\n",
    "$$"
   ]
  },
  {
   "cell_type": "markdown",
   "metadata": {},
   "source": [
    "Обратная матрица от произведения матриц раскрывается по следующему правилу: $(AB)^{-1} = B^{-1} A^{-1}$. Так как обратимыми являются только квадратные матрицы, то сначала раскроем все скобки внутри обратной матрицы $((XP)^T XP)^{-1}$, а затем перегруппируем множители. Транспонированная матрица $(XP)^T$ раскрывается тем же способом, что и обратная.\n",
    "\n",
    "$$\n",
    "w_P = (P^T(X^T XP))^{-1} P^T X^T y = (X^T XP)^{-1} (P^T)^{-1} P^T X^T y\n",
    "$$\n",
    "\n",
    "Перемножение $P^T$ на свою обратную матрицу даёт единичную матрицу $E$ - исключим её из выражения -  умножение на неё не меняет конечный результат. От раскрытия обратной матрицы мы ничего не выгадаем, поэтому просто домножим обе части выражения на матрицу $(X^T X)P$ и избавимся от обратной матрицы в правой части.\n",
    "\n",
    "$$\n",
    "X^T XP w_P = X^T y\n",
    "$$\n",
    "\n",
    "Сократим $X^T$ слева в обеих частях выражения и получим конечное выражение целевого признака $y$ через вектор весов преобразованного пространства признаков.\n",
    "$$\n",
    "XP w_P = y\n",
    "$$"
   ]
  },
  {
   "cell_type": "markdown",
   "metadata": {},
   "source": [
    "Подобным же образом выведем $y$ и из изначальной матрицы признаков.\n",
    "\n",
    "$$\n",
    "w = (X^T X)^{-1} X^T y\n",
    "$$\n",
    "\n",
    "$$\n",
    "X^T X w = X^T y\n",
    "$$\n",
    "\n",
    "После домножения обеих частей на матрицу $X^T X$ и отбрасывания матрицы $X^T$ получим:\n",
    "\n",
    "$$\n",
    "X w = y\n",
    "$$\n",
    "Приравняем выражения.\n",
    "\n",
    "$$\n",
    "XPw_P \\equiv Xw \n",
    "$$\n",
    "\n",
    "Сократим слева обе половины выражения на $X$ и домножим на обратную матрицу $P^{-1}$. Получаем выражение преобразованного вектора весов через вектор весов оригинальной матрицы признаков.\n",
    "\n",
    "$$\n",
    "w_P = P^{-1} w\n",
    "$$"
   ]
  },
  {
   "cell_type": "markdown",
   "metadata": {},
   "source": [
    "Вывод полученной зависимости можно и сократить. В формуле для вектора весов фигурирует _псевдообратная матрица_. Запишем оба выражения для векторов весов более компактно:\n",
    "\n",
    "$$\n",
    "w = X^+y ,\\ w_P = (XP)^+y\n",
    "$$"
   ]
  },
  {
   "cell_type": "markdown",
   "metadata": {
    "ExecuteTime": {
     "end_time": "2023-02-22T10:47:21.521287Z",
     "start_time": "2023-02-22T10:47:21.498293Z"
    }
   },
   "source": [
    "Теперь посмотрим как связаны между собой векторы весов линейной регрессии для исходного и преобразованного пространства признаков. Для этого раскроем псевдобратную матрицу от произведения матриц по следующему правилу: $(AB)^+ = B^+ A^+$.\n",
    "\n",
    "$$\n",
    "w_P = P^+ X^+ y\n",
    "$$\n",
    "\n",
    "Для невырожденной квадратной матрицы обратная и псевдообратная матрицы совпадают. Таким образом мы видим, что:\n",
    "\n",
    "$$\n",
    "w_P = P^{-1} X^+ y = P^{-1} w\n",
    "$$ "
   ]
  },
  {
   "cell_type": "markdown",
   "metadata": {},
   "source": [
    "В приведенных формулах для определения весов линейной регрессии вектор _целевого признака_ $y$ остается неизменным до и после умножения _объясняющих признаков_ $X$ на _матрицу_ $P$. Для сохранения результата точности прогноза по $R^2$ для измененного пространства признаков _предсказанные значения_ $a$ также не должны меняться.\n",
    "\n",
    "$$\n",
    "R^2 = 1 - \\frac {\\sum_{i=1}^n {(y_i - \\hat y_i)^2}} {\\sum_{i=1}^n {(y_i - \\bar y)^2}}\n",
    "$$\n",
    "\n",
    "Таким образом необходимо доказать, что изменение признакового пространства при неизменности целевого признака не ведет к изменению прогноза. То есть, убедиться в справедливости тождества $a \\equiv a_P$.\n",
    "\n",
    "Запишем в формулу весов с учетом выявленных закономерностей.\n",
    "\n",
    "$$\n",
    "a_P = XPw_P = XPP^{-1} w\n",
    "$$\n",
    "\n",
    "Умножение матрицы $P$ на свою обратную матрицу дает единичную матрицу и мы получаем, что $a_P = Xw$. Таким образом, мы окончательно убеждаемся в том, что изменения в признаковом пространстве полностью компенсируются изменениями в векторе весов и   доказываем тождество:\n",
    "\n",
    "$$\n",
    "a \\equiv a_P\n",
    "$$"
   ]
  },
  {
   "cell_type": "markdown",
   "metadata": {},
   "source": [
    "## Алгоритм преобразования"
   ]
  },
  {
   "cell_type": "markdown",
   "metadata": {},
   "source": [
    "Предложим алгоритм преобразования данных для решения задачи. Обоснуем, почему качество линейной регрессии не поменяется."
   ]
  },
  {
   "cell_type": "markdown",
   "metadata": {},
   "source": [
    "Алгоритм преобразования данных состоит из трех этапов:  \n",
    "1. выделение объясняющих признаков в массив с добавлением столбца единичных значений в начальную колонку;\n",
    "2. генерирование квадратной матрицы преобразования с размером, соответствущем рангу матрицы признаков;\n",
    "3. проверка обратимости полученной матрицы (детерминант не должен равняться нулю $\\det P \\neq 0$);\n",
    "4. умножение матрицы признаков на матрицу преобразования."
   ]
  },
  {
   "cell_type": "markdown",
   "metadata": {},
   "source": [
    "__Обоснование:__   \n",
    "В алгоритме преобразования использован способ перемножения матриц, не нарушающий структуру таблицы - в строках продолжают оставаться данные клиентов, но в виде линейной комбинации признаков. Сами клиенты все также могут быть идентифицированы по индексу таблицы. Изменение пространства признаков компенсируется изменением вектора весов. Ответы линейной регрессии сохраняются прежними, что было убедительно доказано ранее. И поскольку и целевой признак и прогнозы не меняются, то и значение метрики качества прогноза также не измениться."
   ]
  },
  {
   "cell_type": "markdown",
   "metadata": {},
   "source": [
    "__Дополнительное пояснение:__   \n",
    "В алгоритме преобразования  присутствует аспект, требующий уточнения. Первый столбец матрицы признаков отведен под фиктивный признак, он заполняется единицами и отвечает за сдвиг прогноза (фактически, это сумма сдвигов прогнозов по отдельным признакам).  Изначально этот столбец в признаках отсутствует и возникает вопрос когда его добавлять и какое влияние он оказывает на прогноз. Возможны следующие варианты добавления: 1) единичный столбец добавляется в матрицу признаков и затем расширенная матрица признаков умножается на матрицу преобразования; 2) матрица признаков перемножается с матрицей преобразования и затем к этому добавляется единичный столбец.   Проведем натурный эксперимент и посмотрим, влияет ли способ добавления единичного столбца на результат прогноза. Данные будут случайными, результаты будут сравниваться с результатами на нетрансформированных данных."
   ]
  },
  {
   "cell_type": "code",
   "execution_count": 10,
   "metadata": {
    "ExecuteTime": {
     "end_time": "2023-06-16T11:34:58.960851Z",
     "start_time": "2023-06-16T11:34:58.828317Z"
    }
   },
   "outputs": [
    {
     "data": {
      "text/plain": [
       "array([[4],\n",
       "       [2],\n",
       "       [9],\n",
       "       [8]], dtype=int64)"
      ]
     },
     "execution_count": 10,
     "metadata": {},
     "output_type": "execute_result"
    }
   ],
   "source": [
    "# генерация состояния для создания матрицы преобразования\n",
    "rng = np.random.default_rng(seed=42)\n",
    "# образцы данных для объясняющих признаков, целевого признака и матрицы преобразования\n",
    "features_example = rng.integers(1,100, (4,2))\n",
    "p2_example = rng.integers(1,100, (2,2))\n",
    "p3_example = rng.integers(1,100, (3,3))\n",
    "target_example = rng.integers(1,10, (4,1))\n",
    "target_example"
   ]
  },
  {
   "cell_type": "code",
   "execution_count": 11,
   "metadata": {
    "ExecuteTime": {
     "end_time": "2023-06-16T11:34:59.052446Z",
     "start_time": "2023-06-16T11:34:58.962849Z"
    }
   },
   "outputs": [
    {
     "data": {
      "text/plain": [
       "array([[6.64225455],\n",
       "       [2.35329022],\n",
       "       [8.41811023],\n",
       "       [5.586345  ]])"
      ]
     },
     "execution_count": 11,
     "metadata": {},
     "output_type": "execute_result"
    }
   ],
   "source": [
    "# трансформация после добавления единичного столбца\n",
    "x1_example = np.column_stack((np.ones([4,1]), features_example))\n",
    "w1p_example = np.linalg.pinv(x1_example @ p3_example) @ target_example\n",
    "a1p_example = x1_example @ p3_example @ w1p_example\n",
    "a1p_example"
   ]
  },
  {
   "cell_type": "code",
   "execution_count": 12,
   "metadata": {
    "ExecuteTime": {
     "end_time": "2023-06-16T11:34:59.189100Z",
     "start_time": "2023-06-16T11:34:59.054449Z"
    }
   },
   "outputs": [
    {
     "data": {
      "text/plain": [
       "array([[6.64225455],\n",
       "       [2.35329022],\n",
       "       [8.41811023],\n",
       "       [5.586345  ]])"
      ]
     },
     "execution_count": 12,
     "metadata": {},
     "output_type": "execute_result"
    }
   ],
   "source": [
    "# добавления единичного столбца после трансформации\n",
    "xp = features_example @ p2_example\n",
    "xp1_example = np.column_stack((np.ones([4,1]), xp))\n",
    "wp1_example = np.linalg.pinv(xp1_example) @ target_example\n",
    "ap1_example = xp1_example @ wp1_example\n",
    "ap1_example"
   ]
  },
  {
   "cell_type": "code",
   "execution_count": 13,
   "metadata": {
    "ExecuteTime": {
     "end_time": "2023-06-16T11:34:59.262968Z",
     "start_time": "2023-06-16T11:34:59.193099Z"
    }
   },
   "outputs": [
    {
     "data": {
      "text/plain": [
       "array([[6.64225455],\n",
       "       [2.35329022],\n",
       "       [8.41811023],\n",
       "       [5.586345  ]])"
      ]
     },
     "execution_count": 13,
     "metadata": {},
     "output_type": "execute_result"
    }
   ],
   "source": [
    "# без трансформации\n",
    "w1_example = np.linalg.pinv(x1_example) @ target_example\n",
    "a1_example = x1_example @ w1_example\n",
    "a1_example"
   ]
  },
  {
   "cell_type": "code",
   "execution_count": 14,
   "metadata": {
    "ExecuteTime": {
     "end_time": "2023-06-16T11:34:59.329856Z",
     "start_time": "2023-06-16T11:34:59.265969Z"
    }
   },
   "outputs": [
    {
     "data": {
      "text/plain": [
       "array([[6.9501059 ],\n",
       "       [2.99901735],\n",
       "       [7.22716395],\n",
       "       [6.30498546]])"
      ]
     },
     "execution_count": 14,
     "metadata": {},
     "output_type": "execute_result"
    }
   ],
   "source": [
    "# трансформация без добавления единичного столбца\n",
    "xp = features_example @ p2_example\n",
    "wp_example = np.linalg.pinv(xp) @ target_example\n",
    "ap_example = xp @ wp_example\n",
    "ap_example"
   ]
  },
  {
   "cell_type": "code",
   "execution_count": 15,
   "metadata": {
    "ExecuteTime": {
     "end_time": "2023-06-16T11:34:59.404633Z",
     "start_time": "2023-06-16T11:34:59.332865Z"
    }
   },
   "outputs": [
    {
     "data": {
      "text/plain": [
       "array([[6.9501059 ],\n",
       "       [2.99901735],\n",
       "       [7.22716395],\n",
       "       [6.30498546]])"
      ]
     },
     "execution_count": 15,
     "metadata": {},
     "output_type": "execute_result"
    }
   ],
   "source": [
    "# без трансформации и без добавления единичного столбца\n",
    "w_example = np.linalg.pinv(features_example) @ target_example\n",
    "a_example = features_example @ w_example\n",
    "a_example"
   ]
  },
  {
   "cell_type": "markdown",
   "metadata": {},
   "source": [
    "Из результатов нашего эксперимента видим, что добавление единичного столбца до или после преобразования данных не влияет на прогноз. В обоих случаях он в точности совпадает с прогнозом на исходных данных. При этом отсутствие фиктивного признака в данных существенно ухудшает на результат прогноза.  \n",
    "Таким образом, мы установили, что нет необходимости добавлять единичный столбец при трансформации данных - он может быть добавлен уже на этапе прогноза самой моделью линейной регрессии."
   ]
  },
  {
   "cell_type": "markdown",
   "metadata": {},
   "source": [
    "## Проверка алгоритма"
   ]
  },
  {
   "cell_type": "markdown",
   "metadata": {},
   "source": [
    "Запрограммируем предложенный алгоритм, применив матричные операции. Проверим, что качество линейной регрессии из `sklearn` не отличается до и после преобразования с помощью метрику $R^2$."
   ]
  },
  {
   "cell_type": "markdown",
   "metadata": {},
   "source": [
    "### Преобразование признаков"
   ]
  },
  {
   "cell_type": "markdown",
   "metadata": {},
   "source": [
    "При создании изменённого пространства признаков мы предполагали добавить перед преобразованием в матрицу признаков единичный столбец под фиктивный признак, отвечающий за сдвиг прогноза. Однако, после проведения натурных экспериментов необходимость в этом отпала."
   ]
  },
  {
   "cell_type": "code",
   "execution_count": 16,
   "metadata": {
    "ExecuteTime": {
     "end_time": "2023-06-16T11:34:59.493689Z",
     "start_time": "2023-06-16T11:34:59.406641Z"
    }
   },
   "outputs": [],
   "source": [
    "# функция генерации обратимой матрицы\n",
    "def get_rand_matrix(rank):\n",
    "    det = 0\n",
    "    # проверка определителя матрицы\n",
    "    while det == 0:\n",
    "        matrix = np.random.normal(size=(rank, rank))        \n",
    "        det = np.linalg.det(matrix)\n",
    "    return matrix"
   ]
  },
  {
   "cell_type": "code",
   "execution_count": 17,
   "metadata": {
    "ExecuteTime": {
     "end_time": "2023-06-16T11:34:59.619860Z",
     "start_time": "2023-06-16T11:34:59.496687Z"
    }
   },
   "outputs": [
    {
     "data": {
      "text/html": [
       "<div>\n",
       "<style scoped>\n",
       "    .dataframe tbody tr th:only-of-type {\n",
       "        vertical-align: middle;\n",
       "    }\n",
       "\n",
       "    .dataframe tbody tr th {\n",
       "        vertical-align: top;\n",
       "    }\n",
       "\n",
       "    .dataframe thead th {\n",
       "        text-align: right;\n",
       "    }\n",
       "</style>\n",
       "<table border=\"1\" class=\"dataframe\">\n",
       "  <thead>\n",
       "    <tr style=\"text-align: right;\">\n",
       "      <th></th>\n",
       "      <th>0</th>\n",
       "      <th>1</th>\n",
       "      <th>2</th>\n",
       "      <th>3</th>\n",
       "      <th>4</th>\n",
       "    </tr>\n",
       "  </thead>\n",
       "  <tbody>\n",
       "    <tr>\n",
       "      <th>0</th>\n",
       "      <td>52787.691062</td>\n",
       "      <td>40904.595579</td>\n",
       "      <td>12137.631006</td>\n",
       "      <td>59278.576668</td>\n",
       "      <td>0.0</td>\n",
       "    </tr>\n",
       "    <tr>\n",
       "      <th>1</th>\n",
       "      <td>40454.743951</td>\n",
       "      <td>31339.600720</td>\n",
       "      <td>9296.934488</td>\n",
       "      <td>45393.018031</td>\n",
       "      <td>1.0</td>\n",
       "    </tr>\n",
       "    <tr>\n",
       "      <th>2</th>\n",
       "      <td>22359.393722</td>\n",
       "      <td>17319.922399</td>\n",
       "      <td>5136.054124</td>\n",
       "      <td>25079.466274</td>\n",
       "      <td>0.0</td>\n",
       "    </tr>\n",
       "    <tr>\n",
       "      <th>3</th>\n",
       "      <td>44368.099325</td>\n",
       "      <td>34387.562748</td>\n",
       "      <td>10209.996857</td>\n",
       "      <td>49860.041795</td>\n",
       "      <td>0.0</td>\n",
       "    </tr>\n",
       "    <tr>\n",
       "      <th>4</th>\n",
       "      <td>27783.131416</td>\n",
       "      <td>21525.324277</td>\n",
       "      <td>6384.265347</td>\n",
       "      <td>31181.944072</td>\n",
       "      <td>0.0</td>\n",
       "    </tr>\n",
       "    <tr>\n",
       "      <th>...</th>\n",
       "      <td>...</td>\n",
       "      <td>...</td>\n",
       "      <td>...</td>\n",
       "      <td>...</td>\n",
       "      <td>...</td>\n",
       "    </tr>\n",
       "    <tr>\n",
       "      <th>4995</th>\n",
       "      <td>37993.313056</td>\n",
       "      <td>29440.586545</td>\n",
       "      <td>8739.308359</td>\n",
       "      <td>42670.462255</td>\n",
       "      <td>0.0</td>\n",
       "    </tr>\n",
       "    <tr>\n",
       "      <th>4996</th>\n",
       "      <td>55758.505399</td>\n",
       "      <td>43212.837577</td>\n",
       "      <td>12825.568061</td>\n",
       "      <td>62640.466905</td>\n",
       "      <td>0.0</td>\n",
       "    </tr>\n",
       "    <tr>\n",
       "      <th>4997</th>\n",
       "      <td>36071.883119</td>\n",
       "      <td>27955.454292</td>\n",
       "      <td>8300.245581</td>\n",
       "      <td>40529.458064</td>\n",
       "      <td>0.0</td>\n",
       "    </tr>\n",
       "    <tr>\n",
       "      <th>4998</th>\n",
       "      <td>34798.877248</td>\n",
       "      <td>26965.538722</td>\n",
       "      <td>8006.904853</td>\n",
       "      <td>39090.663236</td>\n",
       "      <td>0.0</td>\n",
       "    </tr>\n",
       "    <tr>\n",
       "      <th>4999</th>\n",
       "      <td>43204.584895</td>\n",
       "      <td>33481.712888</td>\n",
       "      <td>9936.586241</td>\n",
       "      <td>48531.131838</td>\n",
       "      <td>0.0</td>\n",
       "    </tr>\n",
       "  </tbody>\n",
       "</table>\n",
       "<p>4847 rows × 5 columns</p>\n",
       "</div>"
      ],
      "text/plain": [
       "                 0             1             2             3    4\n",
       "0     52787.691062  40904.595579  12137.631006  59278.576668  0.0\n",
       "1     40454.743951  31339.600720   9296.934488  45393.018031  1.0\n",
       "2     22359.393722  17319.922399   5136.054124  25079.466274  0.0\n",
       "3     44368.099325  34387.562748  10209.996857  49860.041795  0.0\n",
       "4     27783.131416  21525.324277   6384.265347  31181.944072  0.0\n",
       "...            ...           ...           ...           ...  ...\n",
       "4995  37993.313056  29440.586545   8739.308359  42670.462255  0.0\n",
       "4996  55758.505399  43212.837577  12825.568061  62640.466905  0.0\n",
       "4997  36071.883119  27955.454292   8300.245581  40529.458064  0.0\n",
       "4998  34798.877248  26965.538722   8006.904853  39090.663236  0.0\n",
       "4999  43204.584895  33481.712888   9936.586241  48531.131838  0.0\n",
       "\n",
       "[4847 rows x 5 columns]"
      ]
     },
     "execution_count": 17,
     "metadata": {},
     "output_type": "execute_result"
    }
   ],
   "source": [
    "# создание матрицы преобразования\n",
    "P = get_rand_matrix(len(data.columns) - 1)\n",
    "P_inv = np.linalg.inv(P)\n",
    "# массив признаков с колонкой из единиц\n",
    "X = np.array(data.drop('Страховые выплаты', axis=1))\n",
    "y = np.array([data['Страховые выплаты']]).T\n",
    "# преобразованный массив признаков\n",
    "XP = X @ P\n",
    "# создание датафрейма с сохранением прежнего индекса и добавлением столбца целевого признака\n",
    "data_xp = pd.DataFrame(np.column_stack((XP, y)), index=data.index)\n",
    "data_xp"
   ]
  },
  {
   "cell_type": "markdown",
   "metadata": {},
   "source": [
    "Попробуем восстановить информацию о клиентах домножив закодированные признаки на обратную матрицу преобразования $P^{-1}$."
   ]
  },
  {
   "cell_type": "code",
   "execution_count": 18,
   "metadata": {
    "ExecuteTime": {
     "end_time": "2023-06-16T11:34:59.697885Z",
     "start_time": "2023-06-16T11:34:59.621863Z"
    }
   },
   "outputs": [
    {
     "data": {
      "text/plain": [
       "array([[ 1.00000000e+00,  4.10000000e+01,  4.96000000e+04,\n",
       "         1.00000000e+00],\n",
       "       [-4.23783897e-12,  4.60000000e+01,  3.80000000e+04,\n",
       "         1.00000000e+00],\n",
       "       [-1.24682837e-12,  2.90000000e+01,  2.10000000e+04,\n",
       "         3.10442081e-13],\n",
       "       ...,\n",
       "       [-3.07215032e-12,  2.00000000e+01,  3.39000000e+04,\n",
       "         2.00000000e+00],\n",
       "       [ 1.00000000e+00,  2.20000000e+01,  3.27000000e+04,\n",
       "         3.00000000e+00],\n",
       "       [ 1.00000000e+00,  2.80000000e+01,  4.06000000e+04,\n",
       "         1.00000000e+00]])"
      ]
     },
     "execution_count": 18,
     "metadata": {},
     "output_type": "execute_result"
    }
   ],
   "source": [
    "# восстановленные данные\n",
    "XP @ P_inv"
   ]
  },
  {
   "cell_type": "code",
   "execution_count": 19,
   "metadata": {
    "ExecuteTime": {
     "end_time": "2023-06-16T11:34:59.783966Z",
     "start_time": "2023-06-16T11:34:59.700890Z"
    }
   },
   "outputs": [
    {
     "data": {
      "text/plain": [
       "array([[1.00e+00, 4.10e+01, 4.96e+04, 1.00e+00],\n",
       "       [0.00e+00, 4.60e+01, 3.80e+04, 1.00e+00],\n",
       "       [0.00e+00, 2.90e+01, 2.10e+04, 0.00e+00],\n",
       "       ...,\n",
       "       [0.00e+00, 2.00e+01, 3.39e+04, 2.00e+00],\n",
       "       [1.00e+00, 2.20e+01, 3.27e+04, 3.00e+00],\n",
       "       [1.00e+00, 2.80e+01, 4.06e+04, 1.00e+00]])"
      ]
     },
     "execution_count": 19,
     "metadata": {},
     "output_type": "execute_result"
    }
   ],
   "source": [
    "# исходные данные\n",
    "X"
   ]
  },
  {
   "cell_type": "markdown",
   "metadata": {},
   "source": [
    "Поверхностный визуальный осмотр данных показывает, что восстановленные данные не отличаются от изначальных. Возможные незначительные отклонения связаны только с особенностями вычисления или записи данных."
   ]
  },
  {
   "cell_type": "markdown",
   "metadata": {},
   "source": [
    "### Проблема мультиколлинеарности"
   ]
  },
  {
   "cell_type": "markdown",
   "metadata": {},
   "source": [
    "Как уже упоминалось ранее новые признаки являются линейной комбинацией прежних, а значит они могут быть подвержены явлению мультиколлинеарности. Проверим так ли это и насколько это явление влияет на результат прогнозов."
   ]
  },
  {
   "cell_type": "code",
   "execution_count": 20,
   "metadata": {
    "ExecuteTime": {
     "end_time": "2023-06-16T11:34:59.893875Z",
     "start_time": "2023-06-16T11:34:59.785966Z"
    }
   },
   "outputs": [
    {
     "data": {
      "text/html": [
       "<style type=\"text/css\">\n",
       "#T_41f17_row0_col0, #T_41f17_row0_col1, #T_41f17_row0_col2, #T_41f17_row0_col3, #T_41f17_row1_col0, #T_41f17_row1_col1, #T_41f17_row1_col2, #T_41f17_row1_col3, #T_41f17_row2_col0, #T_41f17_row2_col1, #T_41f17_row2_col2, #T_41f17_row2_col3, #T_41f17_row3_col0, #T_41f17_row3_col1, #T_41f17_row3_col2, #T_41f17_row3_col3, #T_41f17_row4_col4 {\n",
       "  background-color: #9edae5;\n",
       "  color: #000000;\n",
       "}\n",
       "#T_41f17_row0_col4, #T_41f17_row1_col4, #T_41f17_row2_col4, #T_41f17_row3_col4, #T_41f17_row4_col0, #T_41f17_row4_col1, #T_41f17_row4_col2, #T_41f17_row4_col3 {\n",
       "  background-color: #1f77b4;\n",
       "  color: #f1f1f1;\n",
       "}\n",
       "</style>\n",
       "<table id=\"T_41f17\">\n",
       "  <thead>\n",
       "    <tr>\n",
       "      <th class=\"blank level0\" >&nbsp;</th>\n",
       "      <th id=\"T_41f17_level0_col0\" class=\"col_heading level0 col0\" >0</th>\n",
       "      <th id=\"T_41f17_level0_col1\" class=\"col_heading level0 col1\" >1</th>\n",
       "      <th id=\"T_41f17_level0_col2\" class=\"col_heading level0 col2\" >2</th>\n",
       "      <th id=\"T_41f17_level0_col3\" class=\"col_heading level0 col3\" >3</th>\n",
       "      <th id=\"T_41f17_level0_col4\" class=\"col_heading level0 col4\" >4</th>\n",
       "    </tr>\n",
       "  </thead>\n",
       "  <tbody>\n",
       "    <tr>\n",
       "      <th id=\"T_41f17_level0_row0\" class=\"row_heading level0 row0\" >0</th>\n",
       "      <td id=\"T_41f17_row0_col0\" class=\"data row0 col0\" >1.000000</td>\n",
       "      <td id=\"T_41f17_row0_col1\" class=\"data row0 col1\" >1.000000</td>\n",
       "      <td id=\"T_41f17_row0_col2\" class=\"data row0 col2\" >0.999999</td>\n",
       "      <td id=\"T_41f17_row0_col3\" class=\"data row0 col3\" >0.999998</td>\n",
       "      <td id=\"T_41f17_row0_col4\" class=\"data row0 col4\" >-0.012659</td>\n",
       "    </tr>\n",
       "    <tr>\n",
       "      <th id=\"T_41f17_level0_row1\" class=\"row_heading level0 row1\" >1</th>\n",
       "      <td id=\"T_41f17_row1_col0\" class=\"data row1 col0\" >1.000000</td>\n",
       "      <td id=\"T_41f17_row1_col1\" class=\"data row1 col1\" >1.000000</td>\n",
       "      <td id=\"T_41f17_row1_col2\" class=\"data row1 col2\" >0.999999</td>\n",
       "      <td id=\"T_41f17_row1_col3\" class=\"data row1 col3\" >0.999999</td>\n",
       "      <td id=\"T_41f17_row1_col4\" class=\"data row1 col4\" >-0.013051</td>\n",
       "    </tr>\n",
       "    <tr>\n",
       "      <th id=\"T_41f17_level0_row2\" class=\"row_heading level0 row2\" >2</th>\n",
       "      <td id=\"T_41f17_row2_col0\" class=\"data row2 col0\" >0.999999</td>\n",
       "      <td id=\"T_41f17_row2_col1\" class=\"data row2 col1\" >0.999999</td>\n",
       "      <td id=\"T_41f17_row2_col2\" class=\"data row2 col2\" >1.000000</td>\n",
       "      <td id=\"T_41f17_row2_col3\" class=\"data row2 col3\" >1.000000</td>\n",
       "      <td id=\"T_41f17_row2_col4\" class=\"data row2 col4\" >-0.013639</td>\n",
       "    </tr>\n",
       "    <tr>\n",
       "      <th id=\"T_41f17_level0_row3\" class=\"row_heading level0 row3\" >3</th>\n",
       "      <td id=\"T_41f17_row3_col0\" class=\"data row3 col0\" >0.999998</td>\n",
       "      <td id=\"T_41f17_row3_col1\" class=\"data row3 col1\" >0.999999</td>\n",
       "      <td id=\"T_41f17_row3_col2\" class=\"data row3 col2\" >1.000000</td>\n",
       "      <td id=\"T_41f17_row3_col3\" class=\"data row3 col3\" >1.000000</td>\n",
       "      <td id=\"T_41f17_row3_col4\" class=\"data row3 col4\" >-0.013859</td>\n",
       "    </tr>\n",
       "    <tr>\n",
       "      <th id=\"T_41f17_level0_row4\" class=\"row_heading level0 row4\" >4</th>\n",
       "      <td id=\"T_41f17_row4_col0\" class=\"data row4 col0\" >-0.012659</td>\n",
       "      <td id=\"T_41f17_row4_col1\" class=\"data row4 col1\" >-0.013051</td>\n",
       "      <td id=\"T_41f17_row4_col2\" class=\"data row4 col2\" >-0.013639</td>\n",
       "      <td id=\"T_41f17_row4_col3\" class=\"data row4 col3\" >-0.013859</td>\n",
       "      <td id=\"T_41f17_row4_col4\" class=\"data row4 col4\" >1.000000</td>\n",
       "    </tr>\n",
       "  </tbody>\n",
       "</table>\n"
      ],
      "text/plain": [
       "<pandas.io.formats.style.Styler at 0x1d2a6abfd10>"
      ]
     },
     "execution_count": 20,
     "metadata": {},
     "output_type": "execute_result"
    }
   ],
   "source": [
    "# оценка линейной зависимости данных\n",
    "data_xp.corr().style.background_gradient(cmap='tab20')"
   ]
  },
  {
   "cell_type": "markdown",
   "metadata": {},
   "source": [
    "Среди объясняющих признаков имеется значительно число признаков имеющих сильную линейную зависимость между собой. Если такие признаки еще и сильно коррелированны с целевым признаком появляется мультиколлинеарность и прогноз моделей по таким признакам становиться неустойчивым. Но это не наш случай - объясняющие признаки слабо коррелированны с целевым. Стоит заметить, что различие в корреляции среди признаков уменьшилось, однако лидеры не поменялись.  \n",
    "Оценим наличие проблемы мультиколлинеарности с помощью и коэффициента инфляции дисперсии _(VIF)_. Расчетная формула этого коэффициента для отдельного регрессора:\n",
    "\n",
    "$$ VIF_i = \\frac {1} {1 - R{^2}{_i}} $$\n",
    "где:\n",
    "- $R{^2}{_i}$ - коэффициент детерминации.  \n",
    "\n",
    "Коэффициент будем рассчитывать по каждому отдельному признаку. Пороговым значением,  при котором мультиколлинеарность становится явно выражена, обычно принимается значение около 10."
   ]
  },
  {
   "cell_type": "code",
   "execution_count": 21,
   "metadata": {
    "ExecuteTime": {
     "end_time": "2023-06-16T11:34:59.951115Z",
     "start_time": "2023-06-16T11:34:59.898870Z"
    }
   },
   "outputs": [
    {
     "name": "stdout",
     "output_type": "stream",
     "text": [
      "Коэффициент инфляции дисперсии (VIF) для признака \"Пол\" равен 1.\n",
      "Коэффициент инфляции дисперсии (VIF) для признака \"Возраст\" равен 1.\n",
      "Коэффициент инфляции дисперсии (VIF) для признака \"Зарплата\" равен 1.\n",
      "Коэффициент инфляции дисперсии (VIF) для признака \"Члены семьи\" равен 1.\n"
     ]
    }
   ],
   "source": [
    "# часть объясняющих признаков исходного датасета\n",
    "features_to_vif = list(data.columns)[:4]\n",
    "data_to_vif = StandardScaler().fit_transform(data[features_to_vif])\n",
    "for i in range(len(features_to_vif)):\n",
    "    # расчет vif для отдельных признаков\n",
    "    vif = variance_inflation_factor(data_to_vif, i)\n",
    "    print(f'Коэффициент инфляции дисперсии (VIF) для признака \"{features_to_vif[i]}\" равен {int(vif)}.')"
   ]
  },
  {
   "cell_type": "code",
   "execution_count": 22,
   "metadata": {
    "ExecuteTime": {
     "end_time": "2023-06-16T11:35:00.017634Z",
     "start_time": "2023-06-16T11:34:59.953114Z"
    }
   },
   "outputs": [
    {
     "name": "stdout",
     "output_type": "stream",
     "text": [
      "Коэффициент инфляции дисперсии (VIF) для признака \"0\" равен 264232253.\n",
      "Коэффициент инфляции дисперсии (VIF) для признака \"1\" равен 525535688.\n",
      "Коэффициент инфляции дисперсии (VIF) для признака \"2\" равен 22216793.\n",
      "Коэффициент инфляции дисперсии (VIF) для признака \"3\" равен 126631164.\n"
     ]
    }
   ],
   "source": [
    "# часть объясняющих признаков преобразованного датасета\n",
    "features_to_vif = list(data_xp.columns)[:4]\n",
    "data_to_vif = StandardScaler().fit_transform(data_xp[features_to_vif])\n",
    "for i in range(len(features_to_vif)):\n",
    "    # расчет vif для отдельных признаков\n",
    "    vif = variance_inflation_factor(data_to_vif, i)\n",
    "    # порог значимости равен 10\n",
    "    print(f'Коэффициент инфляции дисперсии (VIF) для признака \"{features_to_vif[i]}\" равен {int(vif)}.')"
   ]
  },
  {
   "cell_type": "markdown",
   "metadata": {},
   "source": [
    "Как видим значения _VIF_ очень сильно превышает пороговое. Налицо мультиколлинеарность. Проверим насколько она влияет на качество прогноза и попробуем исключить из обучения часть признаков.  \n",
    "\n",
    "Алгоритм отбора признаков:  \n",
    "1. отсортируем признаки по степени корреляции; \n",
    "2. добавим первый по значимости признак в список для обучения; \n",
    "3. посчитаем коэффициент детерминации $R^2$; \n",
    "4. добавим следующий и снова посчитаем $R^2$ - как только она перестанет увеличиваться прекратим отбор."
   ]
  },
  {
   "cell_type": "code",
   "execution_count": 23,
   "metadata": {
    "ExecuteTime": {
     "end_time": "2023-06-16T11:35:00.115972Z",
     "start_time": "2023-06-16T11:35:00.020632Z"
    }
   },
   "outputs": [],
   "source": [
    "# функция получения отсортированных значений корреляции для объясняющих признаков\n",
    "def corrs_sorted(data, feature_name, target_name):\n",
    "    corrs = {}\n",
    "    for col in feature_name:\n",
    "        # знак корреляции не учитывается\n",
    "        corrs[col] = abs(data[target_name].corr(data[col]))          \n",
    "    # словарь отсортированных значений корреляции\n",
    "    corrs_sorted = dict(sorted(corrs.items(), key=lambda item: item[1]))\n",
    "    # сортировка по убыванию степени корреляции\n",
    "    return OrderedDict(reversed(corrs_sorted.items()))"
   ]
  },
  {
   "cell_type": "code",
   "execution_count": 24,
   "metadata": {
    "ExecuteTime": {
     "end_time": "2023-06-16T11:35:00.189007Z",
     "start_time": "2023-06-16T11:35:00.117970Z"
    }
   },
   "outputs": [
    {
     "data": {
      "text/plain": [
       "OrderedDict([(3, 0.013858775592951976),\n",
       "             (2, 0.013639299867154514),\n",
       "             (1, 0.013050649675811293),\n",
       "             (0, 0.012658724394327513)])"
      ]
     },
     "execution_count": 24,
     "metadata": {},
     "output_type": "execute_result"
    }
   ],
   "source": [
    "# корреляция по степени силы между целевым и объясняющим признаками \n",
    "corrs_add = corrs_sorted(data_xp, [0,1,2,3], 4)\n",
    "corrs_add"
   ]
  },
  {
   "cell_type": "code",
   "execution_count": 25,
   "metadata": {
    "ExecuteTime": {
     "end_time": "2023-06-16T11:35:00.326856Z",
     "start_time": "2023-06-16T11:35:00.194019Z"
    }
   },
   "outputs": [
    {
     "name": "stdout",
     "output_type": "stream",
     "text": [
      "Коэффицент детерминации R2=0.4397314881692219 для отобранных признаков [3, 2, 1].\n"
     ]
    }
   ],
   "source": [
    "best_score = -np.inf\n",
    "# список отобранных признаков\n",
    "features_names = []\n",
    "for key in corrs_add:    \n",
    "    # добавление признаков в обучение по одному\n",
    "    features_names.append(key)\n",
    "    # выборки под набор признаков\n",
    "    features_add = data_xp[features_names]\n",
    "    target_add = data_xp[4]\n",
    "    X_train_add, X_test_add, y_train_add, y_test_add = (\n",
    "        train_test_split(features_add, target_add, test_size=0.2, random_state=42)\n",
    "    )      \n",
    "    # модель под набор признаков\n",
    "    model_add = LinearRegression().fit(X_train_add, y_train_add)\n",
    "    preds_add = model_add.predict(X_test_add)\n",
    "    score_add = r2_score(y_test_add, preds_add)\n",
    "    # завершение отбора и удаление лишнего признака\n",
    "    if score_add < best_score:\n",
    "        features_names.remove(key)\n",
    "        break        \n",
    "    else:\n",
    "        best_score = score_add        \n",
    "\n",
    "print(f'Коэффицент детерминации R2={best_score} для отобранных признаков {features_names}.')"
   ]
  },
  {
   "cell_type": "markdown",
   "metadata": {
    "ExecuteTime": {
     "end_time": "2023-02-23T20:07:34.076511Z",
     "start_time": "2023-02-23T20:07:34.056512Z"
    }
   },
   "source": [
    "Мы убедились, что несмотря на наличие мультиколлинеарности удаление какого-то из признаков приведет к ухудшению качества прогноза. Как и в исходном датасете, где проблема мультиколлинеарности отсутствовала, все имеющиеся признаки оказались значимыми для данного типа преобразования признакового пространства."
   ]
  },
  {
   "cell_type": "markdown",
   "metadata": {},
   "source": [
    "### Сравнение точности моделей"
   ]
  },
  {
   "cell_type": "markdown",
   "metadata": {},
   "source": [
    "Сравним значение точности моделей по метрике $R^2$ для оригинальных и преобразованных данных."
   ]
  },
  {
   "cell_type": "code",
   "execution_count": 26,
   "metadata": {
    "ExecuteTime": {
     "end_time": "2023-06-16T11:35:00.370722Z",
     "start_time": "2023-06-16T11:35:00.328841Z"
    }
   },
   "outputs": [],
   "source": [
    "# выборки для преобразованных данных\n",
    "features_p = data_xp.drop(4, axis=1)\n",
    "target_p = data_xp[4]\n",
    "X_train_p, X_test_p, y_train_p, y_test_p = train_test_split(features_p, target_p, test_size=0.2, random_state=42)"
   ]
  },
  {
   "cell_type": "code",
   "execution_count": 27,
   "metadata": {
    "ExecuteTime": {
     "end_time": "2023-06-16T11:35:00.459591Z",
     "start_time": "2023-06-16T11:35:00.372722Z"
    }
   },
   "outputs": [
    {
     "name": "stdout",
     "output_type": "stream",
     "text": [
      "Точность прогноза по R2 для закодированных данных: 0.4392664167751257\n"
     ]
    }
   ],
   "source": [
    "# в прогнозе регрессии отсутствует фиктивный признак\n",
    "model_p = LinearRegression().fit(X_train_p, y_train_p)\n",
    "predictions_p = model_p.predict(X_test_p)\n",
    "score_p = r2_score(y_test_p, predictions_p)\n",
    "print('Точность прогноза по R2 для закодированных данных:', score_p)"
   ]
  },
  {
   "cell_type": "code",
   "execution_count": 28,
   "metadata": {
    "ExecuteTime": {
     "end_time": "2023-06-16T11:35:00.518937Z",
     "start_time": "2023-06-16T11:35:00.468588Z"
    }
   },
   "outputs": [
    {
     "name": "stdout",
     "output_type": "stream",
     "text": [
      "Точность прогноза по R2 для оригинальных данных: 0.4392664167749848\n"
     ]
    }
   ],
   "source": [
    "# прогноз регрессии для исходного датасета\n",
    "features = data.drop('Страховые выплаты', axis=1)\n",
    "target = data['Страховые выплаты']\n",
    "# выделение выборок оригинальных данных по индексам преобразованных\n",
    "X_train = features.loc[X_train_p.index]\n",
    "X_test = features.loc[X_test_p.index]\n",
    "y_train = target.loc[y_train_p.index]\n",
    "y_test = target.loc[y_test_p.index]\n",
    "# модель регресси для оригинальных данных\n",
    "model = LinearRegression().fit(X_train, y_train)\n",
    "predictions = model.predict(X_test)\n",
    "score = r2_score(y_test, predictions)\n",
    "print('Точность прогноза по R2 для оригинальных данных:', score)"
   ]
  },
  {
   "cell_type": "code",
   "execution_count": 29,
   "metadata": {
    "ExecuteTime": {
     "end_time": "2023-06-16T11:35:00.586785Z",
     "start_time": "2023-06-16T11:35:00.520945Z"
    }
   },
   "outputs": [
    {
     "name": "stdout",
     "output_type": "stream",
     "text": [
      "Оценка значений R2 для моделей на оригинальных и преобразованных данных (MAE): 1.4088730182493236e-13\n"
     ]
    }
   ],
   "source": [
    "# оценка значений R2\n",
    "print('Оценка значений R2 для моделей на оригинальных и преобразованных данных (MAE):', \n",
    "      mean_absolute_error([score_p], [score])\n",
    "     )"
   ]
  },
  {
   "cell_type": "markdown",
   "metadata": {},
   "source": [
    "## Общие выводы"
   ]
  },
  {
   "cell_type": "markdown",
   "metadata": {},
   "source": [
    "Целью проекта являлось кодирование данных о клиентах банка для защиты личной информации. Дополнительным условием в задаче являлась возможность построения моделей машинного обучения на уже закодированных данных. Для решения ее было принято решение использовать матричное умножение - то есть, домножить матрицу признаков на матрицу случайных значений. В качестве таковой была выбрана обычная квадратная матрица по рангу совпадающая с матрицей признаков. При исследовании было убедительно доказано, что такой способ умножения матриц не приводит к изменению прогноза, а ведет лишь к изменению вектора весовых коэффициентов. Стоит заметить, что сформированные признаки уже не описывают какую-то отдельную характеристику, а являются линейной комбинацией всех исходных признаков. Подобное преобразование надежно скрывает конфиденциальные данные и позволяет с легкостью их восставить в случае необходимости, и, главное -  не препятствуют проведению задач по построению на основе таких данных прогностических моделей."
   ]
  }
 ],
 "metadata": {
  "ExecuteTimeLog": [
   {
    "duration": 2098,
    "start_time": "2023-02-23T06:55:26.125Z"
   },
   {
    "duration": 84,
    "start_time": "2023-02-23T06:55:28.225Z"
   },
   {
    "duration": 21,
    "start_time": "2023-02-23T06:55:28.311Z"
   },
   {
    "duration": 12,
    "start_time": "2023-02-23T06:55:28.333Z"
   },
   {
    "duration": 30,
    "start_time": "2023-02-23T06:55:28.348Z"
   },
   {
    "duration": 889,
    "start_time": "2023-02-23T06:55:28.380Z"
   },
   {
    "duration": 5,
    "start_time": "2023-02-23T06:55:29.271Z"
   },
   {
    "duration": 11,
    "start_time": "2023-02-23T06:55:29.278Z"
   },
   {
    "duration": 73,
    "start_time": "2023-02-23T06:55:29.291Z"
   },
   {
    "duration": 83,
    "start_time": "2023-02-23T06:55:29.368Z"
   },
   {
    "duration": 6,
    "start_time": "2023-02-23T06:55:29.537Z"
   },
   {
    "duration": 13,
    "start_time": "2023-02-23T06:55:29.545Z"
   },
   {
    "duration": 18,
    "start_time": "2023-02-23T06:55:29.560Z"
   },
   {
    "duration": 14,
    "start_time": "2023-02-23T06:55:29.581Z"
   },
   {
    "duration": 13,
    "start_time": "2023-02-23T06:55:29.597Z"
   },
   {
    "duration": 27,
    "start_time": "2023-02-23T06:55:29.612Z"
   },
   {
    "duration": 4,
    "start_time": "2023-02-23T06:55:29.641Z"
   },
   {
    "duration": 23,
    "start_time": "2023-02-23T06:55:29.647Z"
   }
  ],
  "kernelspec": {
   "display_name": "Python 3 (ipykernel)",
   "language": "python",
   "name": "python3"
  },
  "language_info": {
   "codemirror_mode": {
    "name": "ipython",
    "version": 3
   },
   "file_extension": ".py",
   "mimetype": "text/x-python",
   "name": "python",
   "nbconvert_exporter": "python",
   "pygments_lexer": "ipython3",
   "version": "3.11.0"
  },
  "toc": {
   "base_numbering": 1,
   "nav_menu": {},
   "number_sections": true,
   "sideBar": true,
   "skip_h1_title": true,
   "title_cell": "Содержание",
   "title_sidebar": "Contents",
   "toc_cell": true,
   "toc_position": {
    "height": "calc(100% - 180px)",
    "left": "10px",
    "top": "150px",
    "width": "206.2px"
   },
   "toc_section_display": true,
   "toc_window_display": true
  },
  "varInspector": {
   "cols": {
    "lenName": 16,
    "lenType": 16,
    "lenVar": 40
   },
   "kernels_config": {
    "python": {
     "delete_cmd_postfix": "",
     "delete_cmd_prefix": "del ",
     "library": "var_list.py",
     "varRefreshCmd": "print(var_dic_list())"
    },
    "r": {
     "delete_cmd_postfix": ") ",
     "delete_cmd_prefix": "rm(",
     "library": "var_list.r",
     "varRefreshCmd": "cat(var_dic_list()) "
    }
   },
   "types_to_exclude": [
    "module",
    "function",
    "builtin_function_or_method",
    "instance",
    "_Feature"
   ],
   "window_display": false
  }
 },
 "nbformat": 4,
 "nbformat_minor": 2
}
