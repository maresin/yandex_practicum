{
 "cells": [
  {
   "cell_type": "markdown",
   "id": "583bcdf4",
   "metadata": {
    "deletable": false,
    "editable": false,
    "id": "c81daeeb"
   },
   "source": [
    "# Исследование надежности заемщиков\n"
   ]
  },
  {
   "cell_type": "markdown",
   "id": "933f02ed",
   "metadata": {},
   "source": [
    "__Описание проекта:__  \n",
    "Заказчик — кредитный отдел банка. Нужно разобраться, влияет ли семейное положение и количество детей клиента на факт погашения кредита в срок. Входные данные от банка — статистика о платёжеспособности клиентов.\n",
    "Результаты исследования будут учтены при построении модели кредитного скоринга — специальной системы, которая оценивает способность потенциального заёмщика вернуть кредит банку."
   ]
  },
  {
   "cell_type": "markdown",
   "id": "49ee242a",
   "metadata": {},
   "source": [
    "__Описание данных:__  \n",
    "- `children` — количество детей в семье\n",
    "- `days_employed` — общий трудовой стаж в днях\n",
    "- `dob_years` — возраст клиента в годах\n",
    "- `education` — уровень образования клиента\n",
    "- `education_id` — идентификатор уровня образования\n",
    "- `family_status` — семейное положение\n",
    "- `family_status_id` — идентификатор семейного положения\n",
    "- `gender` — пол клиента\n",
    "- `income_type` — тип занятости\n",
    "- `debt` — имел ли задолженность по возврату кредитов\n",
    "- `total_income` — ежемесячный доход\n",
    "- `purpose` — цель получения кредита"
   ]
  },
  {
   "cell_type": "markdown",
   "id": "8cb28447",
   "metadata": {},
   "source": [
    "__Особенности выполнения работы:__  \n",
    "Данная проектная работа состоит из двух частей. В первой необходимо выполнить ряд небольших тестовых заданий, имитирующих структуру исследовательского проекта. Структура второй части проекта определяется учащимся самостоятельно."
   ]
  },
  {
   "cell_type": "markdown",
   "id": "98d6236a",
   "metadata": {},
   "source": [
    "Задания первой части будут проверены в тренажёре автоматически."
   ]
  },
  {
   "cell_type": "markdown",
   "id": "f0338cbf",
   "metadata": {
    "deletable": false,
    "editable": false,
    "id": "827c20bf"
   },
   "source": [
    "Во второй части проекта вы выполните шаги 3 и 4. Их вручную проверит ревьюер.\n",
    "Чтобы вам не пришлось писать код заново для шагов 1 и 2, мы добавили авторские решения в ячейки с кодом. \n",
    "\n"
   ]
  },
  {
   "cell_type": "markdown",
   "id": "63a7c87d",
   "metadata": {
    "deletable": false,
    "editable": false,
    "id": "744d7639"
   },
   "source": [
    "## Откройте таблицу и изучите общую информацию о данных"
   ]
  },
  {
   "cell_type": "markdown",
   "id": "9ae89124",
   "metadata": {
    "deletable": false,
    "editable": false,
    "id": "e7a14c31"
   },
   "source": [
    "**Задание 1. Импортируйте библиотеку pandas. Считайте данные из csv-файла в датафрейм и сохраните в переменную `data`. Путь к файлу:**\n",
    "\n",
    "`/datasets/data.csv`"
   ]
  },
  {
   "cell_type": "code",
   "execution_count": 1,
   "id": "76c58c94",
   "metadata": {
    "deletable": false,
    "id": "7bcf75c9"
   },
   "outputs": [],
   "source": [
    "# импорт библиотек\n",
    "import pandas as pd\n",
    "\n",
    "# чтение данных из файла по сокращенному и полному путям\n",
    "try:\n",
    "    data = pd.read_csv('/datasets/data.csv')\n",
    "except:\n",
    "    data = pd.read_csv('https://code.s3.yandex.net/datasets/data.csv')"
   ]
  },
  {
   "cell_type": "markdown",
   "id": "69cedc76",
   "metadata": {
    "deletable": false,
    "editable": false,
    "id": "b8038fe3"
   },
   "source": [
    "**Задание 2. Выведите первые 20 строчек датафрейма `data` на экран.**"
   ]
  },
  {
   "cell_type": "code",
   "execution_count": 2,
   "id": "0535e18d",
   "metadata": {
    "deletable": false,
    "id": "2a7cab99",
    "outputId": "1a8f3ef2-d323-4ec2-ddf7-89670b5944c4"
   },
   "outputs": [
    {
     "data": {
      "text/html": [
       "<div>\n",
       "<style scoped>\n",
       "    .dataframe tbody tr th:only-of-type {\n",
       "        vertical-align: middle;\n",
       "    }\n",
       "\n",
       "    .dataframe tbody tr th {\n",
       "        vertical-align: top;\n",
       "    }\n",
       "\n",
       "    .dataframe thead th {\n",
       "        text-align: right;\n",
       "    }\n",
       "</style>\n",
       "<table border=\"1\" class=\"dataframe\">\n",
       "  <thead>\n",
       "    <tr style=\"text-align: right;\">\n",
       "      <th></th>\n",
       "      <th>children</th>\n",
       "      <th>days_employed</th>\n",
       "      <th>dob_years</th>\n",
       "      <th>education</th>\n",
       "      <th>education_id</th>\n",
       "      <th>family_status</th>\n",
       "      <th>family_status_id</th>\n",
       "      <th>gender</th>\n",
       "      <th>income_type</th>\n",
       "      <th>debt</th>\n",
       "      <th>total_income</th>\n",
       "      <th>purpose</th>\n",
       "    </tr>\n",
       "  </thead>\n",
       "  <tbody>\n",
       "    <tr>\n",
       "      <th>0</th>\n",
       "      <td>1</td>\n",
       "      <td>-8437.673028</td>\n",
       "      <td>42</td>\n",
       "      <td>высшее</td>\n",
       "      <td>0</td>\n",
       "      <td>женат / замужем</td>\n",
       "      <td>0</td>\n",
       "      <td>F</td>\n",
       "      <td>сотрудник</td>\n",
       "      <td>0</td>\n",
       "      <td>253875.639453</td>\n",
       "      <td>покупка жилья</td>\n",
       "    </tr>\n",
       "    <tr>\n",
       "      <th>1</th>\n",
       "      <td>1</td>\n",
       "      <td>-4024.803754</td>\n",
       "      <td>36</td>\n",
       "      <td>среднее</td>\n",
       "      <td>1</td>\n",
       "      <td>женат / замужем</td>\n",
       "      <td>0</td>\n",
       "      <td>F</td>\n",
       "      <td>сотрудник</td>\n",
       "      <td>0</td>\n",
       "      <td>112080.014102</td>\n",
       "      <td>приобретение автомобиля</td>\n",
       "    </tr>\n",
       "    <tr>\n",
       "      <th>2</th>\n",
       "      <td>0</td>\n",
       "      <td>-5623.422610</td>\n",
       "      <td>33</td>\n",
       "      <td>Среднее</td>\n",
       "      <td>1</td>\n",
       "      <td>женат / замужем</td>\n",
       "      <td>0</td>\n",
       "      <td>M</td>\n",
       "      <td>сотрудник</td>\n",
       "      <td>0</td>\n",
       "      <td>145885.952297</td>\n",
       "      <td>покупка жилья</td>\n",
       "    </tr>\n",
       "    <tr>\n",
       "      <th>3</th>\n",
       "      <td>3</td>\n",
       "      <td>-4124.747207</td>\n",
       "      <td>32</td>\n",
       "      <td>среднее</td>\n",
       "      <td>1</td>\n",
       "      <td>женат / замужем</td>\n",
       "      <td>0</td>\n",
       "      <td>M</td>\n",
       "      <td>сотрудник</td>\n",
       "      <td>0</td>\n",
       "      <td>267628.550329</td>\n",
       "      <td>дополнительное образование</td>\n",
       "    </tr>\n",
       "    <tr>\n",
       "      <th>4</th>\n",
       "      <td>0</td>\n",
       "      <td>340266.072047</td>\n",
       "      <td>53</td>\n",
       "      <td>среднее</td>\n",
       "      <td>1</td>\n",
       "      <td>гражданский брак</td>\n",
       "      <td>1</td>\n",
       "      <td>F</td>\n",
       "      <td>пенсионер</td>\n",
       "      <td>0</td>\n",
       "      <td>158616.077870</td>\n",
       "      <td>сыграть свадьбу</td>\n",
       "    </tr>\n",
       "    <tr>\n",
       "      <th>5</th>\n",
       "      <td>0</td>\n",
       "      <td>-926.185831</td>\n",
       "      <td>27</td>\n",
       "      <td>высшее</td>\n",
       "      <td>0</td>\n",
       "      <td>гражданский брак</td>\n",
       "      <td>1</td>\n",
       "      <td>M</td>\n",
       "      <td>компаньон</td>\n",
       "      <td>0</td>\n",
       "      <td>255763.565419</td>\n",
       "      <td>покупка жилья</td>\n",
       "    </tr>\n",
       "    <tr>\n",
       "      <th>6</th>\n",
       "      <td>0</td>\n",
       "      <td>-2879.202052</td>\n",
       "      <td>43</td>\n",
       "      <td>высшее</td>\n",
       "      <td>0</td>\n",
       "      <td>женат / замужем</td>\n",
       "      <td>0</td>\n",
       "      <td>F</td>\n",
       "      <td>компаньон</td>\n",
       "      <td>0</td>\n",
       "      <td>240525.971920</td>\n",
       "      <td>операции с жильем</td>\n",
       "    </tr>\n",
       "    <tr>\n",
       "      <th>7</th>\n",
       "      <td>0</td>\n",
       "      <td>-152.779569</td>\n",
       "      <td>50</td>\n",
       "      <td>СРЕДНЕЕ</td>\n",
       "      <td>1</td>\n",
       "      <td>женат / замужем</td>\n",
       "      <td>0</td>\n",
       "      <td>M</td>\n",
       "      <td>сотрудник</td>\n",
       "      <td>0</td>\n",
       "      <td>135823.934197</td>\n",
       "      <td>образование</td>\n",
       "    </tr>\n",
       "    <tr>\n",
       "      <th>8</th>\n",
       "      <td>2</td>\n",
       "      <td>-6929.865299</td>\n",
       "      <td>35</td>\n",
       "      <td>ВЫСШЕЕ</td>\n",
       "      <td>0</td>\n",
       "      <td>гражданский брак</td>\n",
       "      <td>1</td>\n",
       "      <td>F</td>\n",
       "      <td>сотрудник</td>\n",
       "      <td>0</td>\n",
       "      <td>95856.832424</td>\n",
       "      <td>на проведение свадьбы</td>\n",
       "    </tr>\n",
       "    <tr>\n",
       "      <th>9</th>\n",
       "      <td>0</td>\n",
       "      <td>-2188.756445</td>\n",
       "      <td>41</td>\n",
       "      <td>среднее</td>\n",
       "      <td>1</td>\n",
       "      <td>женат / замужем</td>\n",
       "      <td>0</td>\n",
       "      <td>M</td>\n",
       "      <td>сотрудник</td>\n",
       "      <td>0</td>\n",
       "      <td>144425.938277</td>\n",
       "      <td>покупка жилья для семьи</td>\n",
       "    </tr>\n",
       "    <tr>\n",
       "      <th>10</th>\n",
       "      <td>2</td>\n",
       "      <td>-4171.483647</td>\n",
       "      <td>36</td>\n",
       "      <td>высшее</td>\n",
       "      <td>0</td>\n",
       "      <td>женат / замужем</td>\n",
       "      <td>0</td>\n",
       "      <td>M</td>\n",
       "      <td>компаньон</td>\n",
       "      <td>0</td>\n",
       "      <td>113943.491460</td>\n",
       "      <td>покупка недвижимости</td>\n",
       "    </tr>\n",
       "    <tr>\n",
       "      <th>11</th>\n",
       "      <td>0</td>\n",
       "      <td>-792.701887</td>\n",
       "      <td>40</td>\n",
       "      <td>среднее</td>\n",
       "      <td>1</td>\n",
       "      <td>женат / замужем</td>\n",
       "      <td>0</td>\n",
       "      <td>F</td>\n",
       "      <td>сотрудник</td>\n",
       "      <td>0</td>\n",
       "      <td>77069.234271</td>\n",
       "      <td>покупка коммерческой недвижимости</td>\n",
       "    </tr>\n",
       "    <tr>\n",
       "      <th>12</th>\n",
       "      <td>0</td>\n",
       "      <td>NaN</td>\n",
       "      <td>65</td>\n",
       "      <td>среднее</td>\n",
       "      <td>1</td>\n",
       "      <td>гражданский брак</td>\n",
       "      <td>1</td>\n",
       "      <td>M</td>\n",
       "      <td>пенсионер</td>\n",
       "      <td>0</td>\n",
       "      <td>NaN</td>\n",
       "      <td>сыграть свадьбу</td>\n",
       "    </tr>\n",
       "    <tr>\n",
       "      <th>13</th>\n",
       "      <td>0</td>\n",
       "      <td>-1846.641941</td>\n",
       "      <td>54</td>\n",
       "      <td>неоконченное высшее</td>\n",
       "      <td>2</td>\n",
       "      <td>женат / замужем</td>\n",
       "      <td>0</td>\n",
       "      <td>F</td>\n",
       "      <td>сотрудник</td>\n",
       "      <td>0</td>\n",
       "      <td>130458.228857</td>\n",
       "      <td>приобретение автомобиля</td>\n",
       "    </tr>\n",
       "    <tr>\n",
       "      <th>14</th>\n",
       "      <td>0</td>\n",
       "      <td>-1844.956182</td>\n",
       "      <td>56</td>\n",
       "      <td>высшее</td>\n",
       "      <td>0</td>\n",
       "      <td>гражданский брак</td>\n",
       "      <td>1</td>\n",
       "      <td>F</td>\n",
       "      <td>компаньон</td>\n",
       "      <td>1</td>\n",
       "      <td>165127.911772</td>\n",
       "      <td>покупка жилой недвижимости</td>\n",
       "    </tr>\n",
       "    <tr>\n",
       "      <th>15</th>\n",
       "      <td>1</td>\n",
       "      <td>-972.364419</td>\n",
       "      <td>26</td>\n",
       "      <td>среднее</td>\n",
       "      <td>1</td>\n",
       "      <td>женат / замужем</td>\n",
       "      <td>0</td>\n",
       "      <td>F</td>\n",
       "      <td>сотрудник</td>\n",
       "      <td>0</td>\n",
       "      <td>116820.904450</td>\n",
       "      <td>строительство собственной недвижимости</td>\n",
       "    </tr>\n",
       "    <tr>\n",
       "      <th>16</th>\n",
       "      <td>0</td>\n",
       "      <td>-1719.934226</td>\n",
       "      <td>35</td>\n",
       "      <td>среднее</td>\n",
       "      <td>1</td>\n",
       "      <td>женат / замужем</td>\n",
       "      <td>0</td>\n",
       "      <td>F</td>\n",
       "      <td>сотрудник</td>\n",
       "      <td>0</td>\n",
       "      <td>289202.704229</td>\n",
       "      <td>недвижимость</td>\n",
       "    </tr>\n",
       "    <tr>\n",
       "      <th>17</th>\n",
       "      <td>0</td>\n",
       "      <td>-2369.999720</td>\n",
       "      <td>33</td>\n",
       "      <td>высшее</td>\n",
       "      <td>0</td>\n",
       "      <td>гражданский брак</td>\n",
       "      <td>1</td>\n",
       "      <td>M</td>\n",
       "      <td>сотрудник</td>\n",
       "      <td>0</td>\n",
       "      <td>90410.586745</td>\n",
       "      <td>строительство недвижимости</td>\n",
       "    </tr>\n",
       "    <tr>\n",
       "      <th>18</th>\n",
       "      <td>0</td>\n",
       "      <td>400281.136913</td>\n",
       "      <td>53</td>\n",
       "      <td>среднее</td>\n",
       "      <td>1</td>\n",
       "      <td>вдовец / вдова</td>\n",
       "      <td>2</td>\n",
       "      <td>F</td>\n",
       "      <td>пенсионер</td>\n",
       "      <td>0</td>\n",
       "      <td>56823.777243</td>\n",
       "      <td>на покупку подержанного автомобиля</td>\n",
       "    </tr>\n",
       "    <tr>\n",
       "      <th>19</th>\n",
       "      <td>0</td>\n",
       "      <td>-10038.818549</td>\n",
       "      <td>48</td>\n",
       "      <td>СРЕДНЕЕ</td>\n",
       "      <td>1</td>\n",
       "      <td>в разводе</td>\n",
       "      <td>3</td>\n",
       "      <td>F</td>\n",
       "      <td>сотрудник</td>\n",
       "      <td>0</td>\n",
       "      <td>242831.107982</td>\n",
       "      <td>на покупку своего автомобиля</td>\n",
       "    </tr>\n",
       "  </tbody>\n",
       "</table>\n",
       "</div>"
      ],
      "text/plain": [
       "    children  days_employed  dob_years            education  education_id  \\\n",
       "0          1   -8437.673028         42               высшее             0   \n",
       "1          1   -4024.803754         36              среднее             1   \n",
       "2          0   -5623.422610         33              Среднее             1   \n",
       "3          3   -4124.747207         32              среднее             1   \n",
       "4          0  340266.072047         53              среднее             1   \n",
       "5          0    -926.185831         27               высшее             0   \n",
       "6          0   -2879.202052         43               высшее             0   \n",
       "7          0    -152.779569         50              СРЕДНЕЕ             1   \n",
       "8          2   -6929.865299         35               ВЫСШЕЕ             0   \n",
       "9          0   -2188.756445         41              среднее             1   \n",
       "10         2   -4171.483647         36               высшее             0   \n",
       "11         0    -792.701887         40              среднее             1   \n",
       "12         0            NaN         65              среднее             1   \n",
       "13         0   -1846.641941         54  неоконченное высшее             2   \n",
       "14         0   -1844.956182         56               высшее             0   \n",
       "15         1    -972.364419         26              среднее             1   \n",
       "16         0   -1719.934226         35              среднее             1   \n",
       "17         0   -2369.999720         33               высшее             0   \n",
       "18         0  400281.136913         53              среднее             1   \n",
       "19         0  -10038.818549         48              СРЕДНЕЕ             1   \n",
       "\n",
       "       family_status  family_status_id gender income_type  debt  \\\n",
       "0    женат / замужем                 0      F   сотрудник     0   \n",
       "1    женат / замужем                 0      F   сотрудник     0   \n",
       "2    женат / замужем                 0      M   сотрудник     0   \n",
       "3    женат / замужем                 0      M   сотрудник     0   \n",
       "4   гражданский брак                 1      F   пенсионер     0   \n",
       "5   гражданский брак                 1      M   компаньон     0   \n",
       "6    женат / замужем                 0      F   компаньон     0   \n",
       "7    женат / замужем                 0      M   сотрудник     0   \n",
       "8   гражданский брак                 1      F   сотрудник     0   \n",
       "9    женат / замужем                 0      M   сотрудник     0   \n",
       "10   женат / замужем                 0      M   компаньон     0   \n",
       "11   женат / замужем                 0      F   сотрудник     0   \n",
       "12  гражданский брак                 1      M   пенсионер     0   \n",
       "13   женат / замужем                 0      F   сотрудник     0   \n",
       "14  гражданский брак                 1      F   компаньон     1   \n",
       "15   женат / замужем                 0      F   сотрудник     0   \n",
       "16   женат / замужем                 0      F   сотрудник     0   \n",
       "17  гражданский брак                 1      M   сотрудник     0   \n",
       "18    вдовец / вдова                 2      F   пенсионер     0   \n",
       "19         в разводе                 3      F   сотрудник     0   \n",
       "\n",
       "     total_income                                 purpose  \n",
       "0   253875.639453                           покупка жилья  \n",
       "1   112080.014102                 приобретение автомобиля  \n",
       "2   145885.952297                           покупка жилья  \n",
       "3   267628.550329              дополнительное образование  \n",
       "4   158616.077870                         сыграть свадьбу  \n",
       "5   255763.565419                           покупка жилья  \n",
       "6   240525.971920                       операции с жильем  \n",
       "7   135823.934197                             образование  \n",
       "8    95856.832424                   на проведение свадьбы  \n",
       "9   144425.938277                 покупка жилья для семьи  \n",
       "10  113943.491460                    покупка недвижимости  \n",
       "11   77069.234271       покупка коммерческой недвижимости  \n",
       "12            NaN                         сыграть свадьбу  \n",
       "13  130458.228857                 приобретение автомобиля  \n",
       "14  165127.911772              покупка жилой недвижимости  \n",
       "15  116820.904450  строительство собственной недвижимости  \n",
       "16  289202.704229                            недвижимость  \n",
       "17   90410.586745              строительство недвижимости  \n",
       "18   56823.777243      на покупку подержанного автомобиля  \n",
       "19  242831.107982            на покупку своего автомобиля  "
      ]
     },
     "execution_count": 2,
     "metadata": {},
     "output_type": "execute_result"
    }
   ],
   "source": [
    "# обзор данных\n",
    "data.head(20)"
   ]
  },
  {
   "cell_type": "markdown",
   "id": "f92117db",
   "metadata": {
    "deletable": false,
    "editable": false,
    "id": "1c12e233"
   },
   "source": [
    "**Задание 3. Выведите основную информацию о датафрейме с помощью метода `info()`.**"
   ]
  },
  {
   "cell_type": "code",
   "execution_count": 3,
   "id": "5031171d",
   "metadata": {
    "deletable": false,
    "id": "2b757bca",
    "outputId": "15376089-8dad-46c9-b520-c05248d43158"
   },
   "outputs": [
    {
     "name": "stdout",
     "output_type": "stream",
     "text": [
      "<class 'pandas.core.frame.DataFrame'>\n",
      "RangeIndex: 21525 entries, 0 to 21524\n",
      "Data columns (total 12 columns):\n",
      " #   Column            Non-Null Count  Dtype  \n",
      "---  ------            --------------  -----  \n",
      " 0   children          21525 non-null  int64  \n",
      " 1   days_employed     19351 non-null  float64\n",
      " 2   dob_years         21525 non-null  int64  \n",
      " 3   education         21525 non-null  object \n",
      " 4   education_id      21525 non-null  int64  \n",
      " 5   family_status     21525 non-null  object \n",
      " 6   family_status_id  21525 non-null  int64  \n",
      " 7   gender            21525 non-null  object \n",
      " 8   income_type       21525 non-null  object \n",
      " 9   debt              21525 non-null  int64  \n",
      " 10  total_income      19351 non-null  float64\n",
      " 11  purpose           21525 non-null  object \n",
      "dtypes: float64(2), int64(5), object(5)\n",
      "memory usage: 2.0+ MB\n"
     ]
    }
   ],
   "source": [
    "# выяснение типов данных и наличия пропусков\n",
    "data.info()"
   ]
  },
  {
   "cell_type": "markdown",
   "id": "966c56db",
   "metadata": {
    "deletable": false,
    "editable": false,
    "id": "333ec665"
   },
   "source": [
    "## Предобработка данных"
   ]
  },
  {
   "cell_type": "markdown",
   "id": "a3b68ab8",
   "metadata": {
    "deletable": false,
    "editable": false,
    "id": "02d92d53"
   },
   "source": [
    "### Удаление пропусков"
   ]
  },
  {
   "cell_type": "markdown",
   "id": "5962e2c5",
   "metadata": {
    "deletable": false,
    "editable": false,
    "id": "cd84967c"
   },
   "source": [
    "**Задание 4. Выведите количество пропущенных значений для каждого столбца. Используйте комбинацию двух методов.**"
   ]
  },
  {
   "cell_type": "code",
   "execution_count": 4,
   "id": "cc2b6c2c",
   "metadata": {
    "deletable": false,
    "id": "7f9b2309",
    "outputId": "81f4d817-781c-465c-ed15-91ce4446810d"
   },
   "outputs": [
    {
     "data": {
      "text/plain": [
       "children               0\n",
       "days_employed       2174\n",
       "dob_years              0\n",
       "education              0\n",
       "education_id           0\n",
       "family_status          0\n",
       "family_status_id       0\n",
       "gender                 0\n",
       "income_type            0\n",
       "debt                   0\n",
       "total_income        2174\n",
       "purpose                0\n",
       "dtype: int64"
      ]
     },
     "execution_count": 4,
     "metadata": {},
     "output_type": "execute_result"
    }
   ],
   "source": [
    "# оценка числа пропусков\n",
    "data.isna().sum()"
   ]
  },
  {
   "cell_type": "markdown",
   "id": "dc027f25",
   "metadata": {
    "deletable": false,
    "editable": false,
    "id": "db86e27b"
   },
   "source": [
    "**Задание 5. В двух столбцах есть пропущенные значения. Один из них — `days_employed`. Пропуски в этом столбце вы обработаете на следующем этапе. Другой столбец с пропущенными значениями — `total_income` — хранит данные о доходах. На сумму дохода сильнее всего влияет тип занятости, поэтому заполнить пропуски в этом столбце нужно медианным значением по каждому типу из столбца `income_type`. Например, у человека с типом занятости `сотрудник` пропуск в столбце `total_income` должен быть заполнен медианным доходом среди всех записей с тем же типом.**"
   ]
  },
  {
   "cell_type": "code",
   "execution_count": 5,
   "id": "23a9f056",
   "metadata": {
    "deletable": false,
    "id": "42006a93"
   },
   "outputs": [],
   "source": [
    "# заполнение пропусков медианными значениями дохода по типам\n",
    "for t in data['income_type'].unique():\n",
    "    data.loc[(data['income_type'] == t) & (data['total_income'].isna()), 'total_income'] = \\\n",
    "    data.loc[(data['income_type'] == t), 'total_income'].median()"
   ]
  },
  {
   "cell_type": "markdown",
   "id": "4073dbee",
   "metadata": {
    "deletable": false,
    "editable": false,
    "id": "89da5ece"
   },
   "source": [
    "### Обработка аномальных значений"
   ]
  },
  {
   "cell_type": "markdown",
   "id": "3248d5ed",
   "metadata": {
    "deletable": false,
    "editable": false,
    "id": "57964554"
   },
   "source": [
    "**Задание 6. В данных могут встречаться артефакты (аномалии) — значения, которые не отражают действительность и появились по какой-то ошибке. таким артефактом будет отрицательное количество дней трудового стажа в столбце `days_employed`. Для реальных данных это нормально. Обработайте значения в этом столбце: замените все отрицательные значения положительными с помощью метода `abs()`.**"
   ]
  },
  {
   "cell_type": "code",
   "execution_count": 6,
   "id": "a38e2e86",
   "metadata": {
    "deletable": false,
    "id": "f6f055bf"
   },
   "outputs": [],
   "source": [
    "# избавление от ошибочных минусов в записи числовых данных о трудовом стаже\n",
    "data['days_employed'] = data['days_employed'].abs()"
   ]
  },
  {
   "cell_type": "markdown",
   "id": "04ba8050",
   "metadata": {
    "deletable": false,
    "editable": false,
    "id": "6107dd2f"
   },
   "source": [
    "**Задание 7. Для каждого типа занятости выведите медианное значение трудового стажа `days_employed` в днях.**"
   ]
  },
  {
   "cell_type": "code",
   "execution_count": 7,
   "id": "39622f39",
   "metadata": {
    "deletable": false,
    "id": "85a5faf6",
    "outputId": "801ef80e-522b-4668-f34e-565af7432bcf"
   },
   "outputs": [
    {
     "data": {
      "text/plain": [
       "income_type\n",
       "безработный        366413.652744\n",
       "в декрете            3296.759962\n",
       "госслужащий          2689.368353\n",
       "компаньон            1547.382223\n",
       "пенсионер          365213.306266\n",
       "предприниматель       520.848083\n",
       "сотрудник            1574.202821\n",
       "студент               578.751554\n",
       "Name: days_employed, dtype: float64"
      ]
     },
     "execution_count": 7,
     "metadata": {},
     "output_type": "execute_result"
    }
   ],
   "source": [
    "# применение агрегирующей функции по стажу к сгруппированным по типу дохода данным\n",
    "data.groupby('income_type')['days_employed'].agg('median')"
   ]
  },
  {
   "cell_type": "markdown",
   "id": "e7f7fe2b",
   "metadata": {
    "deletable": false,
    "editable": false,
    "id": "38d1a030"
   },
   "source": [
    "У двух типов (безработные и пенсионеры) получатся аномально большие значения. Исправить такие значения сложно, поэтому оставьте их как есть. Тем более этот столбец не понадобится вам для исследования."
   ]
  },
  {
   "cell_type": "markdown",
   "id": "5818995b",
   "metadata": {
    "deletable": false,
    "editable": false,
    "id": "d8a9f147"
   },
   "source": [
    "**Задание 8. Выведите перечень уникальных значений столбца `children`.**"
   ]
  },
  {
   "cell_type": "code",
   "execution_count": 8,
   "id": "0eb01661",
   "metadata": {
    "deletable": false,
    "id": "ef5056eb",
    "outputId": "6975b15c-7f95-4697-d16d-a0c79b657b03"
   },
   "outputs": [
    {
     "data": {
      "text/plain": [
       "array([ 1,  0,  3,  2, -1,  4, 20,  5])"
      ]
     },
     "execution_count": 8,
     "metadata": {},
     "output_type": "execute_result"
    }
   ],
   "source": [
    "# варианты числа детей у заемщика \n",
    "data['children'].unique()"
   ]
  },
  {
   "cell_type": "markdown",
   "id": "ee64d4a2",
   "metadata": {
    "deletable": false,
    "editable": false,
    "id": "40b9ebf2"
   },
   "source": [
    "**Задание 9. В столбце `children` есть два аномальных значения. Удалите строки, в которых встречаются такие аномальные значения из датафрейма `data`.**"
   ]
  },
  {
   "cell_type": "code",
   "execution_count": 9,
   "id": "30c72f33",
   "metadata": {
    "deletable": false,
    "id": "3ff9801d"
   },
   "outputs": [],
   "source": [
    "# удаление аномальных значений числа детей\n",
    "data = data[(data['children'] != -1) & (data['children'] != 20)]"
   ]
  },
  {
   "cell_type": "markdown",
   "id": "cb81e340",
   "metadata": {
    "deletable": false,
    "editable": false,
    "id": "bbc4d0ce"
   },
   "source": [
    "**Задание 10. Ещё раз выведите перечень уникальных значений столбца `children`, чтобы убедиться, что артефакты удалены.**"
   ]
  },
  {
   "cell_type": "code",
   "execution_count": 10,
   "id": "2e667f7c",
   "metadata": {
    "deletable": false,
    "id": "ad4fa8b7",
    "outputId": "b2097101-d49d-44d9-901b-32a65c9463d1"
   },
   "outputs": [
    {
     "data": {
      "text/plain": [
       "array([1, 0, 3, 2, 4, 5])"
      ]
     },
     "execution_count": 10,
     "metadata": {},
     "output_type": "execute_result"
    }
   ],
   "source": [
    "# проверка удаления аномальных значений числа детей\n",
    "data['children'].unique()"
   ]
  },
  {
   "cell_type": "markdown",
   "id": "6dcb677d",
   "metadata": {
    "deletable": false,
    "editable": false,
    "id": "75440b63"
   },
   "source": [
    "### Удаление пропусков (продолжение)"
   ]
  },
  {
   "cell_type": "markdown",
   "id": "46215b39",
   "metadata": {
    "deletable": false,
    "editable": false,
    "id": "f4ea573f"
   },
   "source": [
    "**Задание 11. Заполните пропуски в столбце `days_employed` медианными значениями по каждого типа занятости `income_type`.**"
   ]
  },
  {
   "cell_type": "code",
   "execution_count": 11,
   "id": "466bbdb7",
   "metadata": {
    "deletable": false,
    "id": "af6b1a7e"
   },
   "outputs": [],
   "source": [
    "# проход по типам дохода для заполнения пропусков в данных о стаже медианными значениями\n",
    "for t in data['income_type'].unique():\n",
    "    # проверка типа дохода и наличие пропусков в выборке по столбцу занятости\n",
    "    data.loc[(data['income_type'] == t) & (data['days_employed'].isna()), 'days_employed'] = \\\n",
    "    data.loc[(data['income_type'] == t), 'days_employed'].median()"
   ]
  },
  {
   "cell_type": "markdown",
   "id": "e74833a2",
   "metadata": {
    "deletable": false,
    "editable": false,
    "id": "2753f40d"
   },
   "source": [
    "**Задание 12. Убедитесь, что все пропуски заполнены. Проверьте себя и ещё раз выведите количество пропущенных значений для каждого столбца с помощью двух методов.**"
   ]
  },
  {
   "cell_type": "code",
   "execution_count": 12,
   "id": "2bb7ea7a",
   "metadata": {
    "deletable": false,
    "id": "55f78bc2",
    "outputId": "8da1e4e1-358e-4e87-98c9-f261bce0a7b2"
   },
   "outputs": [
    {
     "data": {
      "text/plain": [
       "children            0\n",
       "days_employed       0\n",
       "dob_years           0\n",
       "education           0\n",
       "education_id        0\n",
       "family_status       0\n",
       "family_status_id    0\n",
       "gender              0\n",
       "income_type         0\n",
       "debt                0\n",
       "total_income        0\n",
       "purpose             0\n",
       "dtype: int64"
      ]
     },
     "execution_count": 12,
     "metadata": {},
     "output_type": "execute_result"
    }
   ],
   "source": [
    "# проверка заполнения пропусков\n",
    "data.isna().sum()"
   ]
  },
  {
   "cell_type": "markdown",
   "id": "29508423",
   "metadata": {
    "deletable": false,
    "editable": false,
    "id": "ddc81e43"
   },
   "source": [
    "### Изменение типов данных"
   ]
  },
  {
   "cell_type": "markdown",
   "id": "f75593fd",
   "metadata": {
    "deletable": false,
    "editable": false,
    "id": "42d19d24"
   },
   "source": [
    "**Задание 13. Замените вещественный тип данных в столбце `total_income` на целочисленный с помощью метода `astype()`.**"
   ]
  },
  {
   "cell_type": "code",
   "execution_count": 13,
   "id": "ba73d484",
   "metadata": {
    "deletable": false,
    "id": "920b65ad"
   },
   "outputs": [],
   "source": [
    "# округление значений в столбце ежемесячного дохода\n",
    "data['total_income'] = data['total_income'].astype(int)"
   ]
  },
  {
   "cell_type": "markdown",
   "id": "cd2b8cc5",
   "metadata": {
    "deletable": false,
    "editable": false,
    "id": "80c420ba"
   },
   "source": [
    "### Обработка дубликатов"
   ]
  },
  {
   "cell_type": "markdown",
   "id": "fa07f272",
   "metadata": {
    "deletable": false,
    "editable": false
   },
   "source": [
    "**Задание 14. Обработайте неявные дубликаты в столбце `education`. В этом столбце есть одни и те же значения, но записанные по-разному: с использованием заглавных и строчных букв. Приведите их к нижнему регистру. Проверьте остальные столбцы.**"
   ]
  },
  {
   "cell_type": "code",
   "execution_count": 14,
   "id": "ac4b337d",
   "metadata": {
    "deletable": false
   },
   "outputs": [],
   "source": [
    "# приведение записей об образовании и нижнему регистру\n",
    "data['education'] = data['education'].str.lower()"
   ]
  },
  {
   "cell_type": "markdown",
   "id": "6c1ca69f",
   "metadata": {
    "deletable": false,
    "editable": false,
    "id": "dc587695"
   },
   "source": [
    "**Задание 15. Выведите на экран количество строк-дубликатов в данных. Если такие строки присутствуют, удалите их.**"
   ]
  },
  {
   "cell_type": "code",
   "execution_count": 15,
   "id": "d289d709",
   "metadata": {
    "deletable": false,
    "id": "3ee445e4",
    "outputId": "9684deba-1934-42d1-99e1-cda61740f822"
   },
   "outputs": [
    {
     "data": {
      "text/plain": [
       "71"
      ]
     },
     "execution_count": 15,
     "metadata": {},
     "output_type": "execute_result"
    }
   ],
   "source": [
    "# подсчет строк-дубликатов\n",
    "data.duplicated().sum()"
   ]
  },
  {
   "cell_type": "code",
   "execution_count": 16,
   "id": "09b06b5c",
   "metadata": {
    "deletable": false,
    "id": "8575fe05"
   },
   "outputs": [],
   "source": [
    "# удаление строк-дубликатов\n",
    "data = data.drop_duplicates()"
   ]
  },
  {
   "cell_type": "markdown",
   "id": "f723a29f",
   "metadata": {
    "deletable": false,
    "editable": false,
    "id": "9904cf55"
   },
   "source": [
    "### Категоризация данных"
   ]
  },
  {
   "cell_type": "markdown",
   "id": "b41e4660",
   "metadata": {
    "deletable": false,
    "editable": false,
    "id": "72fcc8a2"
   },
   "source": [
    "**Задание 16. На основании диапазонов, указанных ниже, создайте в датафрейме `data` столбец `total_income_category` с категориями:**\n",
    "\n",
    "- 0–30000 — `'E'`;\n",
    "- 30001–50000 — `'D'`;\n",
    "- 50001–200000 — `'C'`;\n",
    "- 200001–1000000 — `'B'`;\n",
    "- 1000001 и выше — `'A'`.\n",
    "\n",
    "\n",
    "**Например, кредитополучателю с доходом 25000 нужно назначить категорию `'E'`, а клиенту, получающему 235000, — `'B'`. Используйте собственную функцию с именем `categorize_income()` и метод `apply()`.**"
   ]
  },
  {
   "cell_type": "code",
   "execution_count": 17,
   "id": "9bc43590",
   "metadata": {
    "deletable": false,
    "id": "e1771346"
   },
   "outputs": [],
   "source": [
    "# функция категоризации по размеру дохода\n",
    "def categorize_income(income):\n",
    "    # использование конструкции try-except на случай появления аномалий в данных\n",
    "    try:\n",
    "        if 0 <= income <= 30000:\n",
    "            return 'E'\n",
    "        elif 30001 <= income <= 50000:\n",
    "            return 'D'\n",
    "        elif 50001 <= income <= 200000:\n",
    "            return 'C'\n",
    "        elif 200001 <= income <= 1000000:\n",
    "            return 'B'\n",
    "        elif income >= 1000001:\n",
    "            return 'A'\n",
    "    except:\n",
    "        pass"
   ]
  },
  {
   "cell_type": "code",
   "execution_count": 18,
   "id": "6fc1b497",
   "metadata": {
    "deletable": false,
    "id": "d5f3586d"
   },
   "outputs": [],
   "source": [
    "# содание категориального признака по размеру дохода\n",
    "data['total_income_category'] = data['total_income'].apply(categorize_income)"
   ]
  },
  {
   "cell_type": "markdown",
   "id": "72221e13",
   "metadata": {
    "deletable": false,
    "editable": false,
    "id": "dde49b5c"
   },
   "source": [
    "**Задание 17. Выведите на экран перечень уникальных целей взятия кредита из столбца `purpose`.**"
   ]
  },
  {
   "cell_type": "code",
   "execution_count": 19,
   "id": "99d3f402",
   "metadata": {
    "deletable": false,
    "id": "f67ce9b3",
    "outputId": "673c12d9-7d7e-4ae0-9812-c622c89dd244"
   },
   "outputs": [
    {
     "data": {
      "text/plain": [
       "array(['покупка жилья', 'приобретение автомобиля',\n",
       "       'дополнительное образование', 'сыграть свадьбу',\n",
       "       'операции с жильем', 'образование', 'на проведение свадьбы',\n",
       "       'покупка жилья для семьи', 'покупка недвижимости',\n",
       "       'покупка коммерческой недвижимости', 'покупка жилой недвижимости',\n",
       "       'строительство собственной недвижимости', 'недвижимость',\n",
       "       'строительство недвижимости', 'на покупку подержанного автомобиля',\n",
       "       'на покупку своего автомобиля',\n",
       "       'операции с коммерческой недвижимостью',\n",
       "       'строительство жилой недвижимости', 'жилье',\n",
       "       'операции со своей недвижимостью', 'автомобили',\n",
       "       'заняться образованием', 'сделка с подержанным автомобилем',\n",
       "       'получение образования', 'автомобиль', 'свадьба',\n",
       "       'получение дополнительного образования', 'покупка своего жилья',\n",
       "       'операции с недвижимостью', 'получение высшего образования',\n",
       "       'свой автомобиль', 'сделка с автомобилем',\n",
       "       'профильное образование', 'высшее образование',\n",
       "       'покупка жилья для сдачи', 'на покупку автомобиля', 'ремонт жилью',\n",
       "       'заняться высшим образованием'], dtype=object)"
      ]
     },
     "execution_count": 19,
     "metadata": {},
     "output_type": "execute_result"
    }
   ],
   "source": [
    "# варианты описания целей кредита\n",
    "data['purpose'].unique()"
   ]
  },
  {
   "cell_type": "markdown",
   "id": "d12fcd13",
   "metadata": {
    "deletable": false,
    "editable": false,
    "id": "85d0aef0"
   },
   "source": [
    "**Задание 18. Создайте функцию, которая на основании данных из столбца `purpose` сформирует новый столбец `purpose_category`, в который войдут следующие категории:**\n",
    "\n",
    "- `'операции с автомобилем'`,\n",
    "- `'операции с недвижимостью'`,\n",
    "- `'проведение свадьбы'`,\n",
    "- `'получение образования'`.\n",
    "\n",
    "**Например, если в столбце `purpose` находится подстрока `'на покупку автомобиля'`, то в столбце `purpose_category` должна появиться строка `'операции с автомобилем'`.**\n",
    "\n",
    "**Используйте собственную функцию с именем `categorize_purpose()` и метод `apply()`. Изучите данные в столбце `purpose` и определите, какие подстроки помогут вам правильно определить категорию.**"
   ]
  },
  {
   "cell_type": "code",
   "execution_count": 20,
   "id": "2045e7e4",
   "metadata": {
    "deletable": false,
    "id": "e149fab4"
   },
   "outputs": [],
   "source": [
    "# функция категоризации по целям кредита    \n",
    "def categorize_purpose(row):\n",
    "    # использование конструкции try-except на случай появления аномалий в данных\n",
    "    try:\n",
    "        if 'автом' in row:\n",
    "            return 'операции с автомобилем'\n",
    "        elif 'жил' in row or 'недвиж' in row:\n",
    "            return 'операции с недвижимостью'\n",
    "        elif 'свад' in row:\n",
    "            return 'проведение свадьбы'\n",
    "        elif 'образов' in row:\n",
    "            return 'получение образования'\n",
    "    except:\n",
    "        return 'нет категории'"
   ]
  },
  {
   "cell_type": "code",
   "execution_count": 21,
   "id": "b58b0913",
   "metadata": {
    "deletable": false,
    "id": "bf36e69b"
   },
   "outputs": [],
   "source": [
    "# содание категориального признакапо по целям кредита \n",
    "data['purpose_category'] = data['purpose'].apply(categorize_purpose)"
   ]
  },
  {
   "cell_type": "markdown",
   "id": "69e44e4d",
   "metadata": {
    "deletable": false,
    "editable": false,
    "id": "09b242bf"
   },
   "source": [
    "### Шаг 3. Исследуйте данные и ответьте на вопросы"
   ]
  },
  {
   "cell_type": "markdown",
   "id": "72328f8c",
   "metadata": {
    "deletable": false,
    "editable": false,
    "id": "c5d66278"
   },
   "source": [
    "#### 3.1 Есть ли зависимость между количеством детей и возвратом кредита в срок?"
   ]
  },
  {
   "cell_type": "code",
   "execution_count": 22,
   "id": "b50d630e",
   "metadata": {
    "deletable": false,
    "id": "2cacfc4a"
   },
   "outputs": [
    {
     "data": {
      "text/html": [
       "<div>\n",
       "<style scoped>\n",
       "    .dataframe tbody tr th:only-of-type {\n",
       "        vertical-align: middle;\n",
       "    }\n",
       "\n",
       "    .dataframe tbody tr th {\n",
       "        vertical-align: top;\n",
       "    }\n",
       "\n",
       "    .dataframe thead tr th {\n",
       "        text-align: left;\n",
       "    }\n",
       "\n",
       "    .dataframe thead tr:last-of-type th {\n",
       "        text-align: right;\n",
       "    }\n",
       "</style>\n",
       "<table border=\"1\" class=\"dataframe\">\n",
       "  <thead>\n",
       "    <tr>\n",
       "      <th></th>\n",
       "      <th colspan=\"2\" halign=\"left\">debt</th>\n",
       "      <th>ratio</th>\n",
       "    </tr>\n",
       "    <tr>\n",
       "      <th></th>\n",
       "      <th>sum</th>\n",
       "      <th>count</th>\n",
       "      <th></th>\n",
       "    </tr>\n",
       "    <tr>\n",
       "      <th>children</th>\n",
       "      <th></th>\n",
       "      <th></th>\n",
       "      <th></th>\n",
       "    </tr>\n",
       "  </thead>\n",
       "  <tbody>\n",
       "    <tr>\n",
       "      <th>4</th>\n",
       "      <td>4</td>\n",
       "      <td>41</td>\n",
       "      <td>0.097561</td>\n",
       "    </tr>\n",
       "    <tr>\n",
       "      <th>2</th>\n",
       "      <td>194</td>\n",
       "      <td>2052</td>\n",
       "      <td>0.094542</td>\n",
       "    </tr>\n",
       "    <tr>\n",
       "      <th>1</th>\n",
       "      <td>444</td>\n",
       "      <td>4808</td>\n",
       "      <td>0.092346</td>\n",
       "    </tr>\n",
       "    <tr>\n",
       "      <th>3</th>\n",
       "      <td>27</td>\n",
       "      <td>330</td>\n",
       "      <td>0.081818</td>\n",
       "    </tr>\n",
       "    <tr>\n",
       "      <th>0</th>\n",
       "      <td>1063</td>\n",
       "      <td>14091</td>\n",
       "      <td>0.075438</td>\n",
       "    </tr>\n",
       "    <tr>\n",
       "      <th>5</th>\n",
       "      <td>0</td>\n",
       "      <td>9</td>\n",
       "      <td>0.000000</td>\n",
       "    </tr>\n",
       "  </tbody>\n",
       "</table>\n",
       "</div>"
      ],
      "text/plain": [
       "          debt            ratio\n",
       "           sum  count          \n",
       "children                       \n",
       "4            4     41  0.097561\n",
       "2          194   2052  0.094542\n",
       "1          444   4808  0.092346\n",
       "3           27    330  0.081818\n",
       "0         1063  14091  0.075438\n",
       "5            0      9  0.000000"
      ]
     },
     "execution_count": 22,
     "metadata": {},
     "output_type": "execute_result"
    }
   ],
   "source": [
    "# применение агрегирующих функций по задолженности к сгруппированным по числу детей данным\n",
    "children_grouped = data.groupby('children').agg({'debt': ['sum', 'count']})\n",
    "# расчет доли должников по категориям числа детей\n",
    "children_grouped['ratio'] = children_grouped['debt']['sum'] / children_grouped['debt']['count']\n",
    "# топ-категории должников по категориям числа детей\n",
    "children_grouped.sort_values(by='ratio', ascending=False)"
   ]
  },
  {
   "cell_type": "code",
   "execution_count": 23,
   "id": "ca71cb97",
   "metadata": {},
   "outputs": [
    {
     "data": {
      "image/png": "[encoded data removed]",
      "text/plain": [
       "<Figure size 432x288 with 1 Axes>"
      ]
     },
     "metadata": {},
     "output_type": "display_data"
    }
   ],
   "source": [
    "# график доли полученных кредитов по категориям числа детей\n",
    "children_grouped['debt']['count'].plot(kind='pie', title='Количество заемщиков в зависимости от\\n кол-ва детей в семье' );"
   ]
  },
  {
   "cell_type": "code",
   "execution_count": 24,
   "id": "d690006a",
   "metadata": {},
   "outputs": [
    {
     "data": {
      "image/png": "[encoded data removed]",
      "text/plain": [
       "<Figure size 432x288 with 1 Axes>"
      ]
     },
     "metadata": {
      "needs_background": "light"
     },
     "output_type": "display_data"
    }
   ],
   "source": [
    "# график доли задолженности по категориям числа детей\n",
    "children_grouped['ratio'].plot(kind='barh', title='Доля должников в зависимости от\\n кол-ва детей в их семье' );"
   ]
  },
  {
   "cell_type": "markdown",
   "id": "809b1523",
   "metadata": {
    "deletable": false,
    "id": "3a6b99ec"
   },
   "source": [
    "**Вывод:** Среди заемщиков банка преобладают лица, не имеющие детей. Причем с ростом числа детей в семье их доля резко падает. Число заемщиков, имеющих трех и более детей - невелико, и их стоит объединить в одну категорию. Вместе с увеличением количества детей растет среди заемщиков и доля должников: 7.5% для лиц без детей, 9.2% для лиц с одним ребенком и т.д. При этом некоторое ее снижение среди для лиц с тремя детьми и отсутствие задолженности у лиц с пятью детьми объясняется крайне малым размером выборки."
   ]
  },
  {
   "cell_type": "markdown",
   "id": "59993720",
   "metadata": {
    "deletable": false,
    "editable": false,
    "id": "97be82ca"
   },
   "source": [
    "#### 3.2 Есть ли зависимость между семейным положением и возвратом кредита в срок?"
   ]
  },
  {
   "cell_type": "code",
   "execution_count": 25,
   "id": "6ca1a811",
   "metadata": {
    "deletable": false,
    "id": "dc3f7ee8"
   },
   "outputs": [
    {
     "data": {
      "text/html": [
       "<div>\n",
       "<style scoped>\n",
       "    .dataframe tbody tr th:only-of-type {\n",
       "        vertical-align: middle;\n",
       "    }\n",
       "\n",
       "    .dataframe tbody tr th {\n",
       "        vertical-align: top;\n",
       "    }\n",
       "\n",
       "    .dataframe thead tr th {\n",
       "        text-align: left;\n",
       "    }\n",
       "\n",
       "    .dataframe thead tr:last-of-type th {\n",
       "        text-align: right;\n",
       "    }\n",
       "</style>\n",
       "<table border=\"1\" class=\"dataframe\">\n",
       "  <thead>\n",
       "    <tr>\n",
       "      <th></th>\n",
       "      <th colspan=\"2\" halign=\"left\">debt</th>\n",
       "      <th>ratio</th>\n",
       "    </tr>\n",
       "    <tr>\n",
       "      <th></th>\n",
       "      <th>sum</th>\n",
       "      <th>count</th>\n",
       "      <th></th>\n",
       "    </tr>\n",
       "    <tr>\n",
       "      <th>family_status</th>\n",
       "      <th></th>\n",
       "      <th></th>\n",
       "      <th></th>\n",
       "    </tr>\n",
       "  </thead>\n",
       "  <tbody>\n",
       "    <tr>\n",
       "      <th>Не женат / не замужем</th>\n",
       "      <td>273</td>\n",
       "      <td>2796</td>\n",
       "      <td>0.097639</td>\n",
       "    </tr>\n",
       "    <tr>\n",
       "      <th>гражданский брак</th>\n",
       "      <td>385</td>\n",
       "      <td>4134</td>\n",
       "      <td>0.093130</td>\n",
       "    </tr>\n",
       "    <tr>\n",
       "      <th>женат / замужем</th>\n",
       "      <td>927</td>\n",
       "      <td>12261</td>\n",
       "      <td>0.075606</td>\n",
       "    </tr>\n",
       "    <tr>\n",
       "      <th>в разводе</th>\n",
       "      <td>84</td>\n",
       "      <td>1189</td>\n",
       "      <td>0.070648</td>\n",
       "    </tr>\n",
       "    <tr>\n",
       "      <th>вдовец / вдова</th>\n",
       "      <td>63</td>\n",
       "      <td>951</td>\n",
       "      <td>0.066246</td>\n",
       "    </tr>\n",
       "  </tbody>\n",
       "</table>\n",
       "</div>"
      ],
      "text/plain": [
       "                      debt            ratio\n",
       "                       sum  count          \n",
       "family_status                              \n",
       "Не женат / не замужем  273   2796  0.097639\n",
       "гражданский брак       385   4134  0.093130\n",
       "женат / замужем        927  12261  0.075606\n",
       "в разводе               84   1189  0.070648\n",
       "вдовец / вдова          63    951  0.066246"
      ]
     },
     "execution_count": 25,
     "metadata": {},
     "output_type": "execute_result"
    }
   ],
   "source": [
    "# применение агрегирующих функций по задолженности к сгруппированным по семейному положению данным\n",
    "family_status_grouped = data.groupby('family_status').agg({'debt':['sum', 'count']})\n",
    "# расчет доли должников по категориям семейного положения\n",
    "family_status_grouped['ratio'] = family_status_grouped['debt']['sum'] / family_status_grouped['debt']['count']\n",
    "# топ-категории должников по категориям семейного положения\n",
    "family_status_grouped.sort_values(by='ratio', ascending=False)"
   ]
  },
  {
   "cell_type": "code",
   "execution_count": 26,
   "id": "2690cb38",
   "metadata": {},
   "outputs": [
    {
     "data": {
      "image/png": "[encoded data removed]",
      "text/plain": [
       "<Figure size 432x288 with 1 Axes>"
      ]
     },
     "metadata": {},
     "output_type": "display_data"
    }
   ],
   "source": [
    "# график доли полученных кредитов по категориям семейного положения\n",
    "family_status_grouped['debt']['count'].plot(kind='pie', title='Количество заемщиков в зависимости от\\n семейного положения' );"
   ]
  },
  {
   "cell_type": "code",
   "execution_count": 27,
   "id": "0afe0bc0",
   "metadata": {},
   "outputs": [
    {
     "data": {
      "image/png": "[encoded data removed]",
      "text/plain": [
       "<Figure size 432x288 with 1 Axes>"
      ]
     },
     "metadata": {
      "needs_background": "light"
     },
     "output_type": "display_data"
    }
   ],
   "source": [
    "# график доли задолженности по категориям семейного положения\n",
    "family_status_grouped['ratio'].sort_values(ascending=False).plot(kind='barh', title='Доля должников в зависимости от\\n их семейного положения' );"
   ]
  },
  {
   "cell_type": "markdown",
   "id": "59e5f179",
   "metadata": {
    "deletable": false,
    "id": "1cef7837"
   },
   "source": [
    "**Вывод:** Если рассматривать признак \"семейное положение\" не как сетку статичных категорий, а как динамический процесс, когда по мере взросления человек проходит стадии от холостой жизни, к моменту заключения брака, разводу и далее, то обнаруживается его полная синхронизация с динамикой уменьшения доли лиц с задолжностью по кредитам. То есть, наибольшая доля должников оказывается среди холостяков 9.8%, а наименьшая - 6.6% среди вдовцов."
   ]
  },
  {
   "cell_type": "markdown",
   "id": "e86e7f72",
   "metadata": {
    "deletable": false,
    "editable": false,
    "id": "1e8b2fca"
   },
   "source": [
    "#### 3.3 Есть ли зависимость между уровнем дохода и возвратом кредита в срок?"
   ]
  },
  {
   "cell_type": "code",
   "execution_count": 28,
   "id": "2916163b",
   "metadata": {
    "deletable": false,
    "id": "cd7e3720"
   },
   "outputs": [
    {
     "data": {
      "text/html": [
       "<div>\n",
       "<style scoped>\n",
       "    .dataframe tbody tr th:only-of-type {\n",
       "        vertical-align: middle;\n",
       "    }\n",
       "\n",
       "    .dataframe tbody tr th {\n",
       "        vertical-align: top;\n",
       "    }\n",
       "\n",
       "    .dataframe thead tr th {\n",
       "        text-align: left;\n",
       "    }\n",
       "\n",
       "    .dataframe thead tr:last-of-type th {\n",
       "        text-align: right;\n",
       "    }\n",
       "</style>\n",
       "<table border=\"1\" class=\"dataframe\">\n",
       "  <thead>\n",
       "    <tr>\n",
       "      <th></th>\n",
       "      <th colspan=\"2\" halign=\"left\">debt</th>\n",
       "      <th>ratio</th>\n",
       "    </tr>\n",
       "    <tr>\n",
       "      <th></th>\n",
       "      <th>sum</th>\n",
       "      <th>count</th>\n",
       "      <th></th>\n",
       "    </tr>\n",
       "    <tr>\n",
       "      <th>total_income_category</th>\n",
       "      <th></th>\n",
       "      <th></th>\n",
       "      <th></th>\n",
       "    </tr>\n",
       "  </thead>\n",
       "  <tbody>\n",
       "    <tr>\n",
       "      <th>E</th>\n",
       "      <td>2</td>\n",
       "      <td>22</td>\n",
       "      <td>0.090909</td>\n",
       "    </tr>\n",
       "    <tr>\n",
       "      <th>C</th>\n",
       "      <td>1353</td>\n",
       "      <td>15921</td>\n",
       "      <td>0.084982</td>\n",
       "    </tr>\n",
       "    <tr>\n",
       "      <th>A</th>\n",
       "      <td>2</td>\n",
       "      <td>25</td>\n",
       "      <td>0.080000</td>\n",
       "    </tr>\n",
       "    <tr>\n",
       "      <th>B</th>\n",
       "      <td>354</td>\n",
       "      <td>5014</td>\n",
       "      <td>0.070602</td>\n",
       "    </tr>\n",
       "    <tr>\n",
       "      <th>D</th>\n",
       "      <td>21</td>\n",
       "      <td>349</td>\n",
       "      <td>0.060172</td>\n",
       "    </tr>\n",
       "  </tbody>\n",
       "</table>\n",
       "</div>"
      ],
      "text/plain": [
       "                       debt            ratio\n",
       "                        sum  count          \n",
       "total_income_category                       \n",
       "E                         2     22  0.090909\n",
       "C                      1353  15921  0.084982\n",
       "A                         2     25  0.080000\n",
       "B                       354   5014  0.070602\n",
       "D                        21    349  0.060172"
      ]
     },
     "execution_count": 28,
     "metadata": {},
     "output_type": "execute_result"
    }
   ],
   "source": [
    "# применение агрегирующих функций по задолженности к сгруппированным по размеру дохода данным\n",
    "income_grouped = data.groupby('total_income_category').agg({'debt':['sum', 'count']})\n",
    "# расчет доли должников по категориям размера дохода\n",
    "income_grouped['ratio'] = income_grouped['debt']['sum'] / income_grouped['debt']['count']\n",
    "# топ-категории должников по категориям размера дохода\n",
    "income_grouped.sort_values(by='ratio', ascending=False)"
   ]
  },
  {
   "cell_type": "code",
   "execution_count": 29,
   "id": "0ca4e589",
   "metadata": {},
   "outputs": [
    {
     "data": {
      "image/png": "[encoded data removed]",
      "text/plain": [
       "<Figure size 432x288 with 1 Axes>"
      ]
     },
     "metadata": {},
     "output_type": "display_data"
    }
   ],
   "source": [
    "# график доли полученных кредитов по категориям размера дохода\n",
    "income_grouped['debt']['count'].plot(kind='pie', title='Количество заемщиков в зависимости от\\n ежемесячного дохода' );"
   ]
  },
  {
   "cell_type": "code",
   "execution_count": 30,
   "id": "f0a1d430",
   "metadata": {},
   "outputs": [
    {
     "data": {
      "image/png": "[encoded data removed]",
      "text/plain": [
       "<Figure size 432x288 with 1 Axes>"
      ]
     },
     "metadata": {
      "needs_background": "light"
     },
     "output_type": "display_data"
    }
   ],
   "source": [
    "# график доли задолженности по категориям\n",
    "income_grouped['ratio'].sort_values(ascending=False).plot(kind='barh', title='Доля должников в зависимости от\\n их дохода' );"
   ]
  },
  {
   "cell_type": "markdown",
   "id": "8f2567e7",
   "metadata": {
    "deletable": false,
    "id": "e8593def"
   },
   "source": [
    "**Вывод:** Большую часть заемщиков составляют лица с высоким (от 200 000 до 1 000 000, категория \"B\") и средним (от 50 000 до 200 000, категория \"C\") ежемесячным доходом, доля их задолженности 7% и 8.4% соответственно. Лица с низким достатком (до 30 000, категория \"E\") редко берут кредиты, а тех, чей доход очень велик (более 1 000 000, категория \"A\"), просто слишком мало - выборки по ним совершенно не репрезентативны. Категория заемщиков с умеренным достатком (от 30 000 до 50 000, категория \"D\") также не репрезентативна. По сути, можно сказать, что разбивка на категории доходов была произведена некорректно - они оказались слишком несоразмерны. Вероятно, категории \"A\",\"B\" и \"D\",\"E\" стоит объеденить, а \"B\",\"C\" - разбить на более мелкие."
   ]
  },
  {
   "cell_type": "markdown",
   "id": "0ad46b25",
   "metadata": {
    "deletable": false,
    "editable": false,
    "id": "99ecbd1f"
   },
   "source": [
    "#### 3.4 Как разные цели кредита влияют на его возврат в срок?"
   ]
  },
  {
   "cell_type": "code",
   "execution_count": 31,
   "id": "90bad707",
   "metadata": {
    "deletable": false,
    "id": "2b687290"
   },
   "outputs": [
    {
     "data": {
      "text/html": [
       "<div>\n",
       "<style scoped>\n",
       "    .dataframe tbody tr th:only-of-type {\n",
       "        vertical-align: middle;\n",
       "    }\n",
       "\n",
       "    .dataframe tbody tr th {\n",
       "        vertical-align: top;\n",
       "    }\n",
       "\n",
       "    .dataframe thead tr th {\n",
       "        text-align: left;\n",
       "    }\n",
       "\n",
       "    .dataframe thead tr:last-of-type th {\n",
       "        text-align: right;\n",
       "    }\n",
       "</style>\n",
       "<table border=\"1\" class=\"dataframe\">\n",
       "  <thead>\n",
       "    <tr>\n",
       "      <th></th>\n",
       "      <th colspan=\"2\" halign=\"left\">debt</th>\n",
       "      <th>ratio</th>\n",
       "    </tr>\n",
       "    <tr>\n",
       "      <th></th>\n",
       "      <th>sum</th>\n",
       "      <th>count</th>\n",
       "      <th></th>\n",
       "    </tr>\n",
       "    <tr>\n",
       "      <th>purpose_category</th>\n",
       "      <th></th>\n",
       "      <th></th>\n",
       "      <th></th>\n",
       "    </tr>\n",
       "  </thead>\n",
       "  <tbody>\n",
       "    <tr>\n",
       "      <th>операции с автомобилем</th>\n",
       "      <td>400</td>\n",
       "      <td>4279</td>\n",
       "      <td>0.093480</td>\n",
       "    </tr>\n",
       "    <tr>\n",
       "      <th>получение образования</th>\n",
       "      <td>369</td>\n",
       "      <td>3988</td>\n",
       "      <td>0.092528</td>\n",
       "    </tr>\n",
       "    <tr>\n",
       "      <th>проведение свадьбы</th>\n",
       "      <td>183</td>\n",
       "      <td>2313</td>\n",
       "      <td>0.079118</td>\n",
       "    </tr>\n",
       "    <tr>\n",
       "      <th>операции с недвижимостью</th>\n",
       "      <td>780</td>\n",
       "      <td>10751</td>\n",
       "      <td>0.072551</td>\n",
       "    </tr>\n",
       "  </tbody>\n",
       "</table>\n",
       "</div>"
      ],
      "text/plain": [
       "                         debt            ratio\n",
       "                          sum  count          \n",
       "purpose_category                              \n",
       "операции с автомобилем    400   4279  0.093480\n",
       "получение образования     369   3988  0.092528\n",
       "проведение свадьбы        183   2313  0.079118\n",
       "операции с недвижимостью  780  10751  0.072551"
      ]
     },
     "execution_count": 31,
     "metadata": {},
     "output_type": "execute_result"
    }
   ],
   "source": [
    "# применение агрегирующих функций по задолженности к сгруппированным по целям кредита данным\n",
    "purpose_grouped = data.groupby('purpose_category').agg({'debt':['sum', 'count']})\n",
    "# расчет доли должников по категориям цели\n",
    "purpose_grouped['ratio'] = purpose_grouped['debt']['sum'] / purpose_grouped['debt']['count']\n",
    "# топ-категории должников по категориям цели\n",
    "purpose_grouped.sort_values(by='ratio', ascending=False)"
   ]
  },
  {
   "cell_type": "code",
   "execution_count": 32,
   "id": "db7f6117",
   "metadata": {},
   "outputs": [
    {
     "data": {
      "image/png": "[encoded data removed]",
      "text/plain": [
       "<Figure size 432x288 with 1 Axes>"
      ]
     },
     "metadata": {},
     "output_type": "display_data"
    }
   ],
   "source": [
    "# график доли полученных кредитов по категориям цели\n",
    "purpose_grouped['debt']['count'].plot(kind='pie', title='Количество заемщиков в зависимости от\\n целей кредита' );"
   ]
  },
  {
   "cell_type": "code",
   "execution_count": 33,
   "id": "60c7984b",
   "metadata": {},
   "outputs": [
    {
     "data": {
      "image/png": "[encoded data removed]",
      "text/plain": [
       "<Figure size 432x288 with 1 Axes>"
      ]
     },
     "metadata": {
      "needs_background": "light"
     },
     "output_type": "display_data"
    }
   ],
   "source": [
    "# график доли задолженности по категориям цели\n",
    "purpose_grouped['ratio'].sort_values(ascending=False).plot(kind='barh', title='Доля должников в зависимости от\\n целей кредита' );"
   ]
  },
  {
   "cell_type": "markdown",
   "id": "6bf665c3",
   "metadata": {
    "deletable": false,
    "id": "b4bb2ce6"
   },
   "source": [
    "**Вывод:** Четыре целевые кредитные группы оформились в две ценовые, со значениями в 7 и 9 с лишним % просроченных кредитов среди заемщиков. Эти две группы составили близкие по характеру целевые группы. Первую ценовую группу с 9-и %-ой долей задолженности можно условно назвать \"опционной\" - в ней кредиты на автомобили и образование - вещи скорее статусные и необязательные. Вторую, с 7% должников, можно назвать \"сущностной\". Она ориентирована на упрочение социального и семейного положения, цели кредитов - приобретение недвижимости и организацию свадеб. Из всех целевых групп самая высокая доля несвоевременных возвратов у кредитов на покупку автомобилей 9.3%, самая низкая - у кредитов на покупку недвижимости 7.3%."
   ]
  },
  {
   "cell_type": "markdown",
   "id": "ce40233d",
   "metadata": {
    "deletable": false,
    "editable": false,
    "id": "09c3ac4c"
   },
   "source": [
    "#### 3.5 Приведите возможные причины появления пропусков в исходных данных."
   ]
  },
  {
   "cell_type": "markdown",
   "id": "97d30597",
   "metadata": {
    "deletable": false,
    "id": "9da2ceda"
   },
   "source": [
    "*Ответ:* Пропуски в данных наблюдаются всего у двух числовых признаках - общий трудовой стаж и ежемесячный доход. Можно предположить, что большая часть данных собиралась на основе анкетирования, тогда как эти два показателя были получены в результате расчетов - на это указывает длинная дробная часть в их значениях. Очевидно, что трудовой стаж определяться полными днями, а зарплата не может выплачиваться с точностью до милионной части рубля. Значит существует какой-то источник электронных данных, и он не может предоставить достоверные сведения о заемщике."
   ]
  },
  {
   "cell_type": "markdown",
   "id": "fcc89fad",
   "metadata": {
    "deletable": false,
    "editable": false,
    "id": "7b0487d6"
   },
   "source": [
    "#### 3.6 Объясните, почему заполнить пропуски медианным значением — лучшее решение для количественных переменных."
   ]
  },
  {
   "cell_type": "markdown",
   "id": "75a8f141",
   "metadata": {
    "deletable": false,
    "id": "7ecf2b8e"
   },
   "source": [
    "*Ответ:* Заполнение пропусков медианными значениями позволяет избавиться от влияния выбросов - редких, слишком высоких или слишком низких значений, которые в случае усреднения смещают типичиное значение, чем вызывается его неправильная оценка."
   ]
  },
  {
   "cell_type": "code",
   "execution_count": 34,
   "id": "26bc4826",
   "metadata": {},
   "outputs": [],
   "source": [
    "# функция категоризации по числу детей   \n",
    "def categorize_children(childs):\n",
    "    # использование конструкции try-except на случай появления аномалий в данных\n",
    "    try:\n",
    "        if childs == 0:\n",
    "            return 'Нет детей'\n",
    "        elif childs == 1:\n",
    "            return 'Один ребенок'\n",
    "        elif childs == 2:\n",
    "            return 'Два ребенка'\n",
    "        elif childs >= 3:\n",
    "            return 'Три и более детей'\n",
    "    except:\n",
    "        return 'Число детей неизвестно'"
   ]
  },
  {
   "cell_type": "code",
   "execution_count": 35,
   "id": "88aa5665",
   "metadata": {},
   "outputs": [],
   "source": [
    "# содание категориального признака по числу детей  \n",
    "data['children_category'] = data['children'].apply(categorize_children)"
   ]
  },
  {
   "cell_type": "code",
   "execution_count": 36,
   "id": "526a6184",
   "metadata": {},
   "outputs": [
    {
     "data": {
      "text/html": [
       "<div>\n",
       "<style scoped>\n",
       "    .dataframe tbody tr th:only-of-type {\n",
       "        vertical-align: middle;\n",
       "    }\n",
       "\n",
       "    .dataframe tbody tr th {\n",
       "        vertical-align: top;\n",
       "    }\n",
       "\n",
       "    .dataframe thead tr th {\n",
       "        text-align: left;\n",
       "    }\n",
       "\n",
       "    .dataframe thead tr:last-of-type th {\n",
       "        text-align: right;\n",
       "    }\n",
       "</style>\n",
       "<table border=\"1\" class=\"dataframe\">\n",
       "  <thead>\n",
       "    <tr>\n",
       "      <th></th>\n",
       "      <th colspan=\"4\" halign=\"left\">sum</th>\n",
       "      <th colspan=\"4\" halign=\"left\">count</th>\n",
       "      <th>ratio_childs_2</th>\n",
       "      <th>ratio_childs_0</th>\n",
       "      <th>ratio_childs_1</th>\n",
       "      <th>ratio_childs_3</th>\n",
       "    </tr>\n",
       "    <tr>\n",
       "      <th>children_category</th>\n",
       "      <th>Два ребенка</th>\n",
       "      <th>Нет детей</th>\n",
       "      <th>Один ребенок</th>\n",
       "      <th>Три и более детей</th>\n",
       "      <th>Два ребенка</th>\n",
       "      <th>Нет детей</th>\n",
       "      <th>Один ребенок</th>\n",
       "      <th>Три и более детей</th>\n",
       "      <th></th>\n",
       "      <th></th>\n",
       "      <th></th>\n",
       "      <th></th>\n",
       "    </tr>\n",
       "    <tr>\n",
       "      <th>family_status</th>\n",
       "      <th></th>\n",
       "      <th></th>\n",
       "      <th></th>\n",
       "      <th></th>\n",
       "      <th></th>\n",
       "      <th></th>\n",
       "      <th></th>\n",
       "      <th></th>\n",
       "      <th></th>\n",
       "      <th></th>\n",
       "      <th></th>\n",
       "      <th></th>\n",
       "    </tr>\n",
       "  </thead>\n",
       "  <tbody>\n",
       "    <tr>\n",
       "      <th>Не женат / не замужем</th>\n",
       "      <td>9</td>\n",
       "      <td>210</td>\n",
       "      <td>52</td>\n",
       "      <td>2</td>\n",
       "      <td>75</td>\n",
       "      <td>2262</td>\n",
       "      <td>449</td>\n",
       "      <td>10</td>\n",
       "      <td>0.120000</td>\n",
       "      <td>0.092838</td>\n",
       "      <td>0.115813</td>\n",
       "      <td>0.200000</td>\n",
       "    </tr>\n",
       "    <tr>\n",
       "      <th>в разводе</th>\n",
       "      <td>7</td>\n",
       "      <td>55</td>\n",
       "      <td>21</td>\n",
       "      <td>1</td>\n",
       "      <td>81</td>\n",
       "      <td>784</td>\n",
       "      <td>312</td>\n",
       "      <td>12</td>\n",
       "      <td>0.086420</td>\n",
       "      <td>0.070153</td>\n",
       "      <td>0.067308</td>\n",
       "      <td>0.083333</td>\n",
       "    </tr>\n",
       "    <tr>\n",
       "      <th>вдовец / вдова</th>\n",
       "      <td>3</td>\n",
       "      <td>53</td>\n",
       "      <td>7</td>\n",
       "      <td>0</td>\n",
       "      <td>20</td>\n",
       "      <td>847</td>\n",
       "      <td>77</td>\n",
       "      <td>7</td>\n",
       "      <td>0.150000</td>\n",
       "      <td>0.062574</td>\n",
       "      <td>0.090909</td>\n",
       "      <td>0.000000</td>\n",
       "    </tr>\n",
       "    <tr>\n",
       "      <th>гражданский брак</th>\n",
       "      <td>30</td>\n",
       "      <td>229</td>\n",
       "      <td>118</td>\n",
       "      <td>8</td>\n",
       "      <td>343</td>\n",
       "      <td>2730</td>\n",
       "      <td>995</td>\n",
       "      <td>66</td>\n",
       "      <td>0.087464</td>\n",
       "      <td>0.083883</td>\n",
       "      <td>0.118593</td>\n",
       "      <td>0.121212</td>\n",
       "    </tr>\n",
       "    <tr>\n",
       "      <th>женат / замужем</th>\n",
       "      <td>145</td>\n",
       "      <td>516</td>\n",
       "      <td>246</td>\n",
       "      <td>20</td>\n",
       "      <td>1533</td>\n",
       "      <td>7468</td>\n",
       "      <td>2975</td>\n",
       "      <td>285</td>\n",
       "      <td>0.094586</td>\n",
       "      <td>0.069095</td>\n",
       "      <td>0.082689</td>\n",
       "      <td>0.070175</td>\n",
       "    </tr>\n",
       "  </tbody>\n",
       "</table>\n",
       "</div>"
      ],
      "text/plain": [
       "                              sum                                           \\\n",
       "children_category     Два ребенка Нет детей Один ребенок Три и более детей   \n",
       "family_status                                                                \n",
       "Не женат / не замужем           9       210           52                 2   \n",
       "в разводе                       7        55           21                 1   \n",
       "вдовец / вдова                  3        53            7                 0   \n",
       "гражданский брак               30       229          118                 8   \n",
       "женат / замужем               145       516          246                20   \n",
       "\n",
       "                            count                                           \\\n",
       "children_category     Два ребенка Нет детей Один ребенок Три и более детей   \n",
       "family_status                                                                \n",
       "Не женат / не замужем          75      2262          449                10   \n",
       "в разводе                      81       784          312                12   \n",
       "вдовец / вдова                 20       847           77                 7   \n",
       "гражданский брак              343      2730          995                66   \n",
       "женат / замужем              1533      7468         2975               285   \n",
       "\n",
       "                      ratio_childs_2 ratio_childs_0 ratio_childs_1  \\\n",
       "children_category                                                    \n",
       "family_status                                                        \n",
       "Не женат / не замужем       0.120000       0.092838       0.115813   \n",
       "в разводе                   0.086420       0.070153       0.067308   \n",
       "вдовец / вдова              0.150000       0.062574       0.090909   \n",
       "гражданский брак            0.087464       0.083883       0.118593   \n",
       "женат / замужем             0.094586       0.069095       0.082689   \n",
       "\n",
       "                      ratio_childs_3  \n",
       "children_category                     \n",
       "family_status                         \n",
       "Не женат / не замужем       0.200000  \n",
       "в разводе                   0.083333  \n",
       "вдовец / вдова              0.000000  \n",
       "гражданский брак            0.121212  \n",
       "женат / замужем             0.070175  "
      ]
     },
     "execution_count": 36,
     "metadata": {},
     "output_type": "execute_result"
    }
   ],
   "source": [
    "# сводная таблица с категориями по семейному положению и числу детей\n",
    "table = pd.pivot_table(data, index='family_status', columns='children_category', values='debt', aggfunc=['sum', 'count'])\n",
    "# расчет доли должников в категориях и добавление соответствующих столбцов\n",
    "table['ratio_childs_2']= table['sum']['Два ребенка'] / table['count']['Два ребенка']\n",
    "table['ratio_childs_0']= table['sum']['Нет детей'] / table['count']['Нет детей']\n",
    "table['ratio_childs_1']= table['sum']['Один ребенок'] / table['count']['Один ребенок']\n",
    "table['ratio_childs_3']= table['sum']['Три и более детей'] / table['count']['Три и более детей']\n",
    "table"
   ]
  },
  {
   "cell_type": "code",
   "execution_count": null,
   "id": "4a3f6e6f",
   "metadata": {},
   "outputs": [],
   "source": [
    "# сводная таблица с категориями по семейному положению и числу детей\n",
    "table = pd.pivot_table(data, index='family_status', columns='children_category', values='debt', aggfunc=['sum', 'count', 'mean'])\n",
    "\n",
    "table.rename(columns={\"mean\": \"ratio\"})"
   ]
  },
  {
   "cell_type": "markdown",
   "id": "1afe9983",
   "metadata": {
    "deletable": false,
    "editable": false,
    "id": "6db5255a"
   },
   "source": [
    "### Шаг 4: общий вывод."
   ]
  },
  {
   "cell_type": "markdown",
   "id": "7dc9a06b",
   "metadata": {
    "deletable": false,
    "id": "bad65432"
   },
   "source": [
    "Основной целью исследования было разобраться, влияет ли семейное положение и количество детей клиента на факт погашения кредита в срок. Оказалось, что оба фактора влияют на это напрямую. Причем, в характере семейного положения просматривается своеобразная динамика - самая высокая доля просрочек по кредитам 9.7% у лиц, не состоящих в браке, средняя у людей семейных 7.5% и низкая - у вдовцов 6.6%. Казалось бы, увеличение числа детей у заемщиков - это другая сторона данного процесса. Однако, мы видим противоположную картину - наиболее кредитоспособны - лица без детей, их 7.5%, далее лица с одним ребенком - 9.2%, с двумя - 9.4%. В сводной таблице, где учитываютя оба анализируемых фактора, наиболее крупной оказалась категория лиц не состоящая в законном браке и не имеющих детей. У нее же оказался и один из самый низких уровней просрочки по кредитам 6.7%. А один из самыых высоких - у лиц, состоящих в браке и имеющих двух детей - 9.4%. Крупные выделенные категории показывают довольно высокие уровни просрочки. Самые мелкие показали противоречивые результаты.\n",
    "\n",
    "В исследовании были рассмотрены и некоторые другие имеющиеся признаки: уровень доходов заемщика и цель кредита. В них были выявлены определенные закономерности, что позволяет предположить, что в исследование стоит включить все данные."
   ]
  }
 ],
 "metadata": {
  "ExecuteTimeLog": [
   {
    "duration": 53,
    "start_time": "2022-10-19T17:47:31.189Z"
   },
   {
    "duration": 724,
    "start_time": "2022-10-19T17:47:37.624Z"
   },
   {
    "duration": 15,
    "start_time": "2022-10-19T17:47:54.635Z"
   },
   {
    "duration": 35,
    "start_time": "2022-10-19T17:47:59.786Z"
   },
   {
    "duration": 4,
    "start_time": "2022-10-19T17:48:03.647Z"
   },
   {
    "duration": 8,
    "start_time": "2022-10-19T17:48:06.737Z"
   },
   {
    "duration": 8,
    "start_time": "2022-10-19T17:48:52.968Z"
   },
   {
    "duration": 32,
    "start_time": "2022-10-19T17:49:16.208Z"
   },
   {
    "duration": 11,
    "start_time": "2022-10-19T17:49:19.396Z"
   },
   {
    "duration": 4,
    "start_time": "2022-10-19T17:49:24.525Z"
   },
   {
    "duration": 12,
    "start_time": "2022-10-19T17:49:27.288Z"
   },
   {
    "duration": 24,
    "start_time": "2022-10-19T17:49:31.369Z"
   },
   {
    "duration": 18,
    "start_time": "2022-10-19T17:49:34.255Z"
   },
   {
    "duration": 4,
    "start_time": "2022-10-19T17:49:37.305Z"
   },
   {
    "duration": 10,
    "start_time": "2022-10-19T17:49:39.928Z"
   },
   {
    "duration": 6,
    "start_time": "2022-10-19T17:49:43.479Z"
   },
   {
    "duration": 4,
    "start_time": "2022-10-19T17:49:49.809Z"
   },
   {
    "duration": 9,
    "start_time": "2022-10-19T17:49:58.585Z"
   },
   {
    "duration": 5,
    "start_time": "2022-10-19T17:53:12.091Z"
   },
   {
    "duration": 6,
    "start_time": "2022-10-19T17:54:23.885Z"
   },
   {
    "duration": 27,
    "start_time": "2022-10-19T18:05:57.592Z"
   },
   {
    "duration": 12,
    "start_time": "2022-10-19T18:06:06.237Z"
   },
   {
    "duration": 1131,
    "start_time": "2022-10-19T18:08:02.071Z"
   },
   {
    "duration": 821,
    "start_time": "2022-10-19T18:09:04.287Z"
   },
   {
    "duration": 11,
    "start_time": "2022-10-19T18:10:13.074Z"
   },
   {
    "duration": 1473,
    "start_time": "2022-10-19T18:10:42.487Z"
   },
   {
    "duration": 14,
    "start_time": "2022-10-19T18:11:14.618Z"
   },
   {
    "duration": 6,
    "start_time": "2022-10-19T18:15:23.788Z"
   },
   {
    "duration": 9,
    "start_time": "2022-10-19T18:16:01.769Z"
   },
   {
    "duration": 6,
    "start_time": "2022-10-19T18:16:15.619Z"
   },
   {
    "duration": 5,
    "start_time": "2022-10-19T18:16:39.457Z"
   },
   {
    "duration": 6,
    "start_time": "2022-10-19T18:17:08.656Z"
   },
   {
    "duration": 19,
    "start_time": "2022-10-19T18:22:05.180Z"
   },
   {
    "duration": 19,
    "start_time": "2022-10-19T18:30:34.433Z"
   },
   {
    "duration": 22,
    "start_time": "2022-10-19T18:31:24.362Z"
   },
   {
    "duration": 17,
    "start_time": "2022-10-19T18:32:46.739Z"
   },
   {
    "duration": 19,
    "start_time": "2022-10-19T18:37:13.943Z"
   },
   {
    "duration": 29,
    "start_time": "2022-10-19T18:37:36.549Z"
   },
   {
    "duration": 20,
    "start_time": "2022-10-19T18:38:03.367Z"
   },
   {
    "duration": 21,
    "start_time": "2022-10-19T18:38:21.889Z"
   },
   {
    "duration": 17,
    "start_time": "2022-10-19T18:38:30.945Z"
   },
   {
    "duration": 18,
    "start_time": "2022-10-19T18:41:03.268Z"
   },
   {
    "duration": 8,
    "start_time": "2022-10-19T18:44:14.551Z"
   },
   {
    "duration": 601,
    "start_time": "2022-10-19T18:44:32.494Z"
   },
   {
    "duration": 1768,
    "start_time": "2022-10-19T18:46:51.129Z"
   },
   {
    "duration": 1151,
    "start_time": "2022-10-19T18:47:27.170Z"
   },
   {
    "duration": 162,
    "start_time": "2022-10-19T18:47:35.824Z"
   },
   {
    "duration": 11,
    "start_time": "2022-10-19T18:49:21.696Z"
   },
   {
    "duration": 115,
    "start_time": "2022-10-19T18:49:45.313Z"
   },
   {
    "duration": 119,
    "start_time": "2022-10-19T18:50:41.784Z"
   },
   {
    "duration": 17,
    "start_time": "2022-10-19T18:50:55.496Z"
   },
   {
    "duration": 146,
    "start_time": "2022-10-19T18:52:32.769Z"
   },
   {
    "duration": 10,
    "start_time": "2022-10-19T18:52:46.920Z"
   },
   {
    "duration": 12,
    "start_time": "2022-10-19T18:55:14.986Z"
   },
   {
    "duration": 106,
    "start_time": "2022-10-19T18:55:38.901Z"
   },
   {
    "duration": 108,
    "start_time": "2022-10-19T18:56:07.120Z"
   },
   {
    "duration": 628,
    "start_time": "2022-10-19T18:56:33.827Z"
   },
   {
    "duration": 125,
    "start_time": "2022-10-19T18:56:59.380Z"
   },
   {
    "duration": 37,
    "start_time": "2022-10-19T18:57:53.659Z"
   },
   {
    "duration": 112,
    "start_time": "2022-10-19T18:58:09.323Z"
   },
   {
    "duration": 18,
    "start_time": "2022-10-19T19:00:43.307Z"
   },
   {
    "duration": 115,
    "start_time": "2022-10-19T19:00:53.204Z"
   },
   {
    "duration": 134,
    "start_time": "2022-10-19T19:02:39.182Z"
   },
   {
    "duration": 121,
    "start_time": "2022-10-19T19:03:51.412Z"
   },
   {
    "duration": 122,
    "start_time": "2022-10-19T19:04:33.828Z"
   },
   {
    "duration": 150,
    "start_time": "2022-10-19T19:06:13.773Z"
   },
   {
    "duration": 131,
    "start_time": "2022-10-19T19:07:06.318Z"
   },
   {
    "duration": 13,
    "start_time": "2022-10-19T19:07:32.503Z"
   },
   {
    "duration": 130,
    "start_time": "2022-10-19T19:07:38.950Z"
   },
   {
    "duration": 125,
    "start_time": "2022-10-19T19:10:12.333Z"
   },
   {
    "duration": 15,
    "start_time": "2022-10-19T21:05:09.334Z"
   },
   {
    "duration": 130,
    "start_time": "2022-10-19T21:06:08.900Z"
   },
   {
    "duration": 239,
    "start_time": "2022-10-19T21:07:47.981Z"
   },
   {
    "duration": 116,
    "start_time": "2022-10-19T21:08:02.005Z"
   },
   {
    "duration": 123,
    "start_time": "2022-10-19T21:08:14.813Z"
   },
   {
    "duration": 117,
    "start_time": "2022-10-19T21:08:18.739Z"
   },
   {
    "duration": 11,
    "start_time": "2022-10-19T21:14:56.159Z"
   },
   {
    "duration": 118,
    "start_time": "2022-10-19T21:15:15.703Z"
   },
   {
    "duration": 131,
    "start_time": "2022-10-19T21:15:41.920Z"
   },
   {
    "duration": 140,
    "start_time": "2022-10-19T21:18:11.195Z"
   },
   {
    "duration": 124,
    "start_time": "2022-10-19T21:18:33.265Z"
   },
   {
    "duration": 122,
    "start_time": "2022-10-19T21:19:20.561Z"
   },
   {
    "duration": 115,
    "start_time": "2022-10-19T21:47:18.968Z"
   },
   {
    "duration": 134,
    "start_time": "2022-10-19T21:51:01.074Z"
   },
   {
    "duration": 128,
    "start_time": "2022-10-19T22:07:07.418Z"
   },
   {
    "duration": 125,
    "start_time": "2022-10-19T22:07:15.831Z"
   },
   {
    "duration": 118,
    "start_time": "2022-10-19T22:08:13.585Z"
   },
   {
    "duration": 98,
    "start_time": "2022-10-19T22:11:35.698Z"
   },
   {
    "duration": 3,
    "start_time": "2022-10-19T22:58:29.429Z"
   },
   {
    "duration": 18,
    "start_time": "2022-10-19T22:58:39.150Z"
   },
   {
    "duration": 18,
    "start_time": "2022-10-20T00:16:32.719Z"
   },
   {
    "duration": 120,
    "start_time": "2022-10-20T00:19:00.854Z"
   },
   {
    "duration": 17,
    "start_time": "2022-10-20T00:22:11.299Z"
   },
   {
    "duration": 89,
    "start_time": "2022-10-20T00:47:09.423Z"
   },
   {
    "duration": 4,
    "start_time": "2022-10-20T01:03:30.085Z"
   },
   {
    "duration": 3,
    "start_time": "2022-10-20T01:16:12.667Z"
   },
   {
    "duration": 11,
    "start_time": "2022-10-20T01:16:15.489Z"
   },
   {
    "duration": 4,
    "start_time": "2022-10-20T01:19:59.544Z"
   },
   {
    "duration": 637,
    "start_time": "2022-10-20T07:50:16.185Z"
   },
   {
    "duration": 22,
    "start_time": "2022-10-20T07:50:16.823Z"
   },
   {
    "duration": 13,
    "start_time": "2022-10-20T07:50:16.847Z"
   },
   {
    "duration": 7,
    "start_time": "2022-10-20T07:50:16.862Z"
   },
   {
    "duration": 28,
    "start_time": "2022-10-20T07:50:16.870Z"
   },
   {
    "duration": 23,
    "start_time": "2022-10-20T07:50:16.899Z"
   },
   {
    "duration": 9,
    "start_time": "2022-10-20T07:50:16.924Z"
   },
   {
    "duration": 3,
    "start_time": "2022-10-20T07:50:16.934Z"
   },
   {
    "duration": 7,
    "start_time": "2022-10-20T07:50:16.938Z"
   },
   {
    "duration": 4,
    "start_time": "2022-10-20T07:50:16.948Z"
   },
   {
    "duration": 31,
    "start_time": "2022-10-20T07:50:16.953Z"
   },
   {
    "duration": 7,
    "start_time": "2022-10-20T07:50:16.986Z"
   },
   {
    "duration": 30,
    "start_time": "2022-10-20T07:50:16.994Z"
   },
   {
    "duration": 11,
    "start_time": "2022-10-20T07:50:17.025Z"
   },
   {
    "duration": 21,
    "start_time": "2022-10-20T07:50:17.038Z"
   },
   {
    "duration": 15,
    "start_time": "2022-10-20T07:50:17.060Z"
   },
   {
    "duration": 3,
    "start_time": "2022-10-20T07:50:17.076Z"
   },
   {
    "duration": 13,
    "start_time": "2022-10-20T07:50:17.081Z"
   },
   {
    "duration": 26,
    "start_time": "2022-10-20T07:50:17.096Z"
   },
   {
    "duration": 3,
    "start_time": "2022-10-20T07:50:17.123Z"
   },
   {
    "duration": 13,
    "start_time": "2022-10-20T07:50:17.127Z"
   },
   {
    "duration": 15,
    "start_time": "2022-10-20T07:50:17.141Z"
   },
   {
    "duration": 458,
    "start_time": "2022-10-20T07:50:17.157Z"
   },
   {
    "duration": 118,
    "start_time": "2022-10-20T07:50:17.617Z"
   },
   {
    "duration": 16,
    "start_time": "2022-10-20T07:50:17.737Z"
   },
   {
    "duration": 108,
    "start_time": "2022-10-20T07:50:17.754Z"
   },
   {
    "duration": 122,
    "start_time": "2022-10-20T07:50:17.864Z"
   },
   {
    "duration": 15,
    "start_time": "2022-10-20T07:50:17.989Z"
   },
   {
    "duration": 136,
    "start_time": "2022-10-20T07:50:18.005Z"
   },
   {
    "duration": 109,
    "start_time": "2022-10-20T07:50:18.142Z"
   },
   {
    "duration": 16,
    "start_time": "2022-10-20T07:50:18.252Z"
   },
   {
    "duration": 103,
    "start_time": "2022-10-20T07:50:18.270Z"
   },
   {
    "duration": 137,
    "start_time": "2022-10-20T07:50:18.375Z"
   },
   {
    "duration": 9,
    "start_time": "2022-10-20T07:50:18.514Z"
   },
   {
    "duration": 12,
    "start_time": "2022-10-20T07:50:18.524Z"
   },
   {
    "duration": 6,
    "start_time": "2022-10-20T07:50:18.537Z"
   },
   {
    "duration": 7,
    "start_time": "2022-10-20T07:50:18.544Z"
   },
   {
    "duration": 74,
    "start_time": "2022-10-20T07:50:18.552Z"
   },
   {
    "duration": 66,
    "start_time": "2022-10-20T07:55:47.629Z"
   },
   {
    "duration": 109,
    "start_time": "2022-10-20T08:04:50.305Z"
   },
   {
    "duration": 107,
    "start_time": "2022-10-20T08:05:58.794Z"
   },
   {
    "duration": 91,
    "start_time": "2022-10-20T08:06:47.152Z"
   },
   {
    "duration": 5,
    "start_time": "2022-10-20T08:06:54.899Z"
   },
   {
    "duration": 73,
    "start_time": "2022-10-20T08:09:15.059Z"
   },
   {
    "duration": 35,
    "start_time": "2022-10-20T08:12:24.348Z"
   },
   {
    "duration": 30,
    "start_time": "2022-10-20T08:15:27.592Z"
   },
   {
    "duration": 1360,
    "start_time": "2022-10-20T08:16:31.733Z"
   },
   {
    "duration": 1435,
    "start_time": "2022-10-20T08:20:46.118Z"
   },
   {
    "duration": 15,
    "start_time": "2022-10-20T08:20:55.944Z"
   },
   {
    "duration": 32,
    "start_time": "2022-10-20T08:24:59.352Z"
   },
   {
    "duration": 34,
    "start_time": "2022-10-20T08:25:22.672Z"
   },
   {
    "duration": 30,
    "start_time": "2022-10-20T08:25:25.378Z"
   },
   {
    "duration": 31,
    "start_time": "2022-10-20T08:25:47.160Z"
   },
   {
    "duration": 28,
    "start_time": "2022-10-20T08:25:50.239Z"
   },
   {
    "duration": 46,
    "start_time": "2022-10-20T08:27:00.498Z"
   },
   {
    "duration": 3,
    "start_time": "2022-10-20T16:52:34.901Z"
   },
   {
    "duration": 78,
    "start_time": "2022-10-20T16:53:24.007Z"
   },
   {
    "duration": 58,
    "start_time": "2022-10-20T16:57:35.282Z"
   },
   {
    "duration": 12,
    "start_time": "2022-10-20T16:57:46.937Z"
   },
   {
    "duration": 573,
    "start_time": "2022-10-20T17:01:38.246Z"
   },
   {
    "duration": 597,
    "start_time": "2022-10-20T17:01:56.318Z"
   },
   {
    "duration": 19,
    "start_time": "2022-10-20T17:03:49.318Z"
   },
   {
    "duration": 17,
    "start_time": "2022-10-20T17:04:01.180Z"
   },
   {
    "duration": 79,
    "start_time": "2022-10-20T17:04:30.645Z"
   },
   {
    "duration": 78,
    "start_time": "2022-10-20T17:04:46.421Z"
   },
   {
    "duration": 18,
    "start_time": "2022-10-20T17:05:25.433Z"
   },
   {
    "duration": 17,
    "start_time": "2022-10-20T17:05:51.649Z"
   },
   {
    "duration": 18,
    "start_time": "2022-10-20T17:16:36.055Z"
   },
   {
    "duration": 63,
    "start_time": "2022-10-20T18:50:24.738Z"
   },
   {
    "duration": 14,
    "start_time": "2022-10-20T18:50:24.803Z"
   },
   {
    "duration": 16,
    "start_time": "2022-10-20T18:50:24.818Z"
   },
   {
    "duration": 11,
    "start_time": "2022-10-20T18:50:24.837Z"
   },
   {
    "duration": 67,
    "start_time": "2022-10-20T18:50:24.850Z"
   },
   {
    "duration": 3,
    "start_time": "2022-10-20T18:50:24.919Z"
   },
   {
    "duration": 19,
    "start_time": "2022-10-20T18:50:24.924Z"
   },
   {
    "duration": 5,
    "start_time": "2022-10-20T18:50:24.945Z"
   },
   {
    "duration": 24,
    "start_time": "2022-10-20T18:50:24.952Z"
   },
   {
    "duration": 4,
    "start_time": "2022-10-20T18:50:24.979Z"
   },
   {
    "duration": 102,
    "start_time": "2022-10-20T18:50:24.984Z"
   },
   {
    "duration": 0,
    "start_time": "2022-10-20T18:50:25.088Z"
   },
   {
    "duration": 0,
    "start_time": "2022-10-20T18:50:25.090Z"
   },
   {
    "duration": 0,
    "start_time": "2022-10-20T18:50:25.091Z"
   },
   {
    "duration": 0,
    "start_time": "2022-10-20T18:50:25.093Z"
   },
   {
    "duration": 0,
    "start_time": "2022-10-20T18:50:25.094Z"
   },
   {
    "duration": 0,
    "start_time": "2022-10-20T18:50:25.096Z"
   },
   {
    "duration": 0,
    "start_time": "2022-10-20T18:50:25.097Z"
   },
   {
    "duration": 0,
    "start_time": "2022-10-20T18:50:25.098Z"
   },
   {
    "duration": 0,
    "start_time": "2022-10-20T18:50:25.100Z"
   },
   {
    "duration": 0,
    "start_time": "2022-10-20T18:50:25.101Z"
   },
   {
    "duration": 0,
    "start_time": "2022-10-20T18:50:25.102Z"
   },
   {
    "duration": 0,
    "start_time": "2022-10-20T18:50:25.104Z"
   },
   {
    "duration": 0,
    "start_time": "2022-10-20T18:50:25.106Z"
   },
   {
    "duration": 0,
    "start_time": "2022-10-20T18:50:25.108Z"
   },
   {
    "duration": 0,
    "start_time": "2022-10-20T18:50:25.109Z"
   },
   {
    "duration": 0,
    "start_time": "2022-10-20T18:50:25.111Z"
   },
   {
    "duration": 0,
    "start_time": "2022-10-20T18:50:25.112Z"
   },
   {
    "duration": 0,
    "start_time": "2022-10-20T18:50:25.113Z"
   },
   {
    "duration": 0,
    "start_time": "2022-10-20T18:50:25.115Z"
   },
   {
    "duration": 0,
    "start_time": "2022-10-20T18:50:25.117Z"
   },
   {
    "duration": 0,
    "start_time": "2022-10-20T18:50:25.118Z"
   },
   {
    "duration": 0,
    "start_time": "2022-10-20T18:50:25.119Z"
   },
   {
    "duration": 0,
    "start_time": "2022-10-20T18:50:25.120Z"
   },
   {
    "duration": 0,
    "start_time": "2022-10-20T18:50:25.122Z"
   },
   {
    "duration": 0,
    "start_time": "2022-10-20T18:50:25.123Z"
   },
   {
    "duration": 76,
    "start_time": "2022-10-20T18:52:17.926Z"
   },
   {
    "duration": 65,
    "start_time": "2022-10-20T18:52:38.318Z"
   },
   {
    "duration": 93,
    "start_time": "2022-10-20T18:52:55.717Z"
   },
   {
    "duration": 29,
    "start_time": "2022-10-20T18:53:56.998Z"
   },
   {
    "duration": 9,
    "start_time": "2022-10-20T18:54:08.439Z"
   },
   {
    "duration": 4,
    "start_time": "2022-10-20T18:54:14.991Z"
   },
   {
    "duration": 9,
    "start_time": "2022-10-20T18:54:26.560Z"
   },
   {
    "duration": 18,
    "start_time": "2022-10-20T18:54:31.672Z"
   },
   {
    "duration": 21,
    "start_time": "2022-10-20T18:54:32.944Z"
   },
   {
    "duration": 4,
    "start_time": "2022-10-20T18:54:37.993Z"
   },
   {
    "duration": 9,
    "start_time": "2022-10-20T18:54:43.582Z"
   },
   {
    "duration": 5,
    "start_time": "2022-10-20T18:54:46.969Z"
   },
   {
    "duration": 3,
    "start_time": "2022-10-20T18:54:55.832Z"
   },
   {
    "duration": 8,
    "start_time": "2022-10-20T18:54:58.885Z"
   },
   {
    "duration": 15,
    "start_time": "2022-10-20T18:55:02.250Z"
   },
   {
    "duration": 453,
    "start_time": "2022-10-20T18:55:08.979Z"
   },
   {
    "duration": 111,
    "start_time": "2022-10-20T18:55:15.928Z"
   },
   {
    "duration": 17,
    "start_time": "2022-10-20T18:55:23.296Z"
   },
   {
    "duration": 117,
    "start_time": "2022-10-20T18:55:27.463Z"
   },
   {
    "duration": 118,
    "start_time": "2022-10-20T18:55:31.048Z"
   },
   {
    "duration": 21,
    "start_time": "2022-10-20T18:55:37.441Z"
   },
   {
    "duration": 140,
    "start_time": "2022-10-20T18:55:41.840Z"
   },
   {
    "duration": 100,
    "start_time": "2022-10-20T18:55:45.272Z"
   },
   {
    "duration": 16,
    "start_time": "2022-10-20T18:55:51.408Z"
   },
   {
    "duration": 87,
    "start_time": "2022-10-20T18:55:55.285Z"
   },
   {
    "duration": 109,
    "start_time": "2022-10-20T18:55:56.859Z"
   },
   {
    "duration": 4,
    "start_time": "2022-10-20T18:56:06.506Z"
   },
   {
    "duration": 6,
    "start_time": "2022-10-20T18:56:09.386Z"
   },
   {
    "duration": 54,
    "start_time": "2022-10-20T18:56:12.546Z"
   },
   {
    "duration": 619,
    "start_time": "2022-10-20T19:14:30.317Z"
   },
   {
    "duration": 497,
    "start_time": "2022-10-20T19:45:46.200Z"
   },
   {
    "duration": 24,
    "start_time": "2022-10-20T19:45:46.699Z"
   },
   {
    "duration": 15,
    "start_time": "2022-10-20T19:45:46.725Z"
   },
   {
    "duration": 16,
    "start_time": "2022-10-20T19:45:46.743Z"
   },
   {
    "duration": 48,
    "start_time": "2022-10-20T19:45:46.761Z"
   },
   {
    "duration": 4,
    "start_time": "2022-10-20T19:45:46.811Z"
   },
   {
    "duration": 16,
    "start_time": "2022-10-20T19:45:46.817Z"
   },
   {
    "duration": 32,
    "start_time": "2022-10-20T19:45:46.835Z"
   },
   {
    "duration": 12,
    "start_time": "2022-10-20T19:45:46.868Z"
   },
   {
    "duration": 19,
    "start_time": "2022-10-20T19:45:46.885Z"
   },
   {
    "duration": 71,
    "start_time": "2022-10-20T19:45:46.906Z"
   },
   {
    "duration": 13,
    "start_time": "2022-10-20T19:45:46.980Z"
   },
   {
    "duration": 12,
    "start_time": "2022-10-20T19:45:46.995Z"
   },
   {
    "duration": 23,
    "start_time": "2022-10-20T19:45:47.009Z"
   },
   {
    "duration": 30,
    "start_time": "2022-10-20T19:45:47.034Z"
   },
   {
    "duration": 20,
    "start_time": "2022-10-20T19:45:47.066Z"
   },
   {
    "duration": 5,
    "start_time": "2022-10-20T19:45:47.088Z"
   },
   {
    "duration": 30,
    "start_time": "2022-10-20T19:45:47.095Z"
   },
   {
    "duration": 16,
    "start_time": "2022-10-20T19:45:47.127Z"
   },
   {
    "duration": 5,
    "start_time": "2022-10-20T19:45:47.155Z"
   },
   {
    "duration": 18,
    "start_time": "2022-10-20T19:45:47.161Z"
   },
   {
    "duration": 21,
    "start_time": "2022-10-20T19:45:47.181Z"
   },
   {
    "duration": 382,
    "start_time": "2022-10-20T19:45:47.204Z"
   },
   {
    "duration": 146,
    "start_time": "2022-10-20T19:45:47.588Z"
   },
   {
    "duration": 30,
    "start_time": "2022-10-20T19:45:47.737Z"
   },
   {
    "duration": 115,
    "start_time": "2022-10-20T19:45:47.768Z"
   },
   {
    "duration": 144,
    "start_time": "2022-10-20T19:45:47.885Z"
   },
   {
    "duration": 23,
    "start_time": "2022-10-20T19:45:48.032Z"
   },
   {
    "duration": 101,
    "start_time": "2022-10-20T19:45:48.057Z"
   },
   {
    "duration": 185,
    "start_time": "2022-10-20T19:45:48.160Z"
   },
   {
    "duration": 22,
    "start_time": "2022-10-20T19:45:48.347Z"
   },
   {
    "duration": 114,
    "start_time": "2022-10-20T19:45:48.370Z"
   },
   {
    "duration": 141,
    "start_time": "2022-10-20T19:45:48.485Z"
   },
   {
    "duration": 3,
    "start_time": "2022-10-20T19:45:48.628Z"
   },
   {
    "duration": 16,
    "start_time": "2022-10-20T19:45:48.633Z"
   },
   {
    "duration": 57,
    "start_time": "2022-10-20T19:45:48.654Z"
   },
   {
    "duration": 630,
    "start_time": "2022-10-21T06:21:37.843Z"
   },
   {
    "duration": 20,
    "start_time": "2022-10-21T06:21:38.475Z"
   },
   {
    "duration": 16,
    "start_time": "2022-10-21T06:21:38.497Z"
   },
   {
    "duration": 24,
    "start_time": "2022-10-21T06:21:38.515Z"
   },
   {
    "duration": 56,
    "start_time": "2022-10-21T06:21:38.540Z"
   },
   {
    "duration": 3,
    "start_time": "2022-10-21T06:21:38.598Z"
   },
   {
    "duration": 40,
    "start_time": "2022-10-21T06:21:38.602Z"
   },
   {
    "duration": 18,
    "start_time": "2022-10-21T06:21:38.643Z"
   },
   {
    "duration": 37,
    "start_time": "2022-10-21T06:21:38.663Z"
   },
   {
    "duration": 18,
    "start_time": "2022-10-21T06:21:38.703Z"
   },
   {
    "duration": 51,
    "start_time": "2022-10-21T06:21:38.723Z"
   },
   {
    "duration": 15,
    "start_time": "2022-10-21T06:21:38.775Z"
   },
   {
    "duration": 14,
    "start_time": "2022-10-21T06:21:38.792Z"
   },
   {
    "duration": 23,
    "start_time": "2022-10-21T06:21:38.808Z"
   },
   {
    "duration": 29,
    "start_time": "2022-10-21T06:21:38.833Z"
   },
   {
    "duration": 15,
    "start_time": "2022-10-21T06:21:38.864Z"
   },
   {
    "duration": 8,
    "start_time": "2022-10-21T06:21:38.880Z"
   },
   {
    "duration": 12,
    "start_time": "2022-10-21T06:21:38.890Z"
   },
   {
    "duration": 9,
    "start_time": "2022-10-21T06:21:38.903Z"
   },
   {
    "duration": 8,
    "start_time": "2022-10-21T06:21:38.914Z"
   },
   {
    "duration": 29,
    "start_time": "2022-10-21T06:21:38.923Z"
   },
   {
    "duration": 34,
    "start_time": "2022-10-21T06:21:38.954Z"
   },
   {
    "duration": 343,
    "start_time": "2022-10-21T06:21:38.989Z"
   },
   {
    "duration": 124,
    "start_time": "2022-10-21T06:21:39.334Z"
   },
   {
    "duration": 17,
    "start_time": "2022-10-21T06:21:39.460Z"
   },
   {
    "duration": 117,
    "start_time": "2022-10-21T06:21:39.479Z"
   },
   {
    "duration": 140,
    "start_time": "2022-10-21T06:21:39.598Z"
   },
   {
    "duration": 16,
    "start_time": "2022-10-21T06:21:39.741Z"
   },
   {
    "duration": 96,
    "start_time": "2022-10-21T06:21:39.759Z"
   },
   {
    "duration": 173,
    "start_time": "2022-10-21T06:21:39.857Z"
   },
   {
    "duration": 17,
    "start_time": "2022-10-21T06:21:40.032Z"
   },
   {
    "duration": 106,
    "start_time": "2022-10-21T06:21:40.050Z"
   },
   {
    "duration": 130,
    "start_time": "2022-10-21T06:21:40.158Z"
   },
   {
    "duration": 3,
    "start_time": "2022-10-21T06:21:40.294Z"
   },
   {
    "duration": 15,
    "start_time": "2022-10-21T06:21:40.299Z"
   },
   {
    "duration": 59,
    "start_time": "2022-10-21T06:21:40.316Z"
   }
  ],
  "colab": {
   "name": "dpp_template_part2.ipynb",
   "provenance": []
  },
  "kernelspec": {
   "display_name": "Python 3 (ipykernel)",
   "language": "python",
   "name": "python3"
  },
  "language_info": {
   "codemirror_mode": {
    "name": "ipython",
    "version": 3
   },
   "file_extension": ".py",
   "mimetype": "text/x-python",
   "name": "python",
   "nbconvert_exporter": "python",
   "pygments_lexer": "ipython3",
   "version": "3.11.0"
  },
  "latex_envs": {
   "LaTeX_envs_menu_present": true,
   "autoclose": false,
   "autocomplete": true,
   "bibliofile": "biblio.bib",
   "cite_by": "apalike",
   "current_citInitial": 1,
   "eqLabelWithNumbers": true,
   "eqNumInitial": 1,
   "hotkeys": {
    "equation": "Ctrl-E",
    "itemize": "Ctrl-I"
   },
   "labels_anchors": false,
   "latex_user_defs": false,
   "report_style_numbering": false,
   "user_envs_cfg": false
  },
  "toc": {
   "base_numbering": 1,
   "nav_menu": {},
   "number_sections": true,
   "sideBar": true,
   "skip_h1_title": true,
   "title_cell": "Table of Contents",
   "title_sidebar": "Contents",
   "toc_cell": false,
   "toc_position": {},
   "toc_section_display": true,
   "toc_window_display": false
  },
  "varInspector": {
   "cols": {
    "lenName": 16,
    "lenType": 16,
    "lenVar": 40
   },
   "kernels_config": {
    "python": {
     "delete_cmd_postfix": "",
     "delete_cmd_prefix": "del ",
     "library": "var_list.py",
     "varRefreshCmd": "print(var_dic_list())"
    },
    "r": {
     "delete_cmd_postfix": ") ",
     "delete_cmd_prefix": "rm(",
     "library": "var_list.r",
     "varRefreshCmd": "cat(var_dic_list()) "
    }
   },
   "types_to_exclude": [
    "module",
    "function",
    "builtin_function_or_method",
    "instance",
    "_Feature"
   ],
   "window_display": false
  }
 },
 "nbformat": 4,
 "nbformat_minor": 5
}
