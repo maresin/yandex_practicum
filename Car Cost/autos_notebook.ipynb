{
 "cells": [
  {
   "cell_type": "markdown",
   "metadata": {},
   "source": [
    "# Проект: \"Стоимость автомобиля\""
   ]
  },
  {
   "cell_type": "markdown",
   "metadata": {},
   "source": [
    "## Описание проекта"
   ]
  },
  {
   "cell_type": "markdown",
   "metadata": {},
   "source": [
    "__Задача:__ \n",
    "\n",
    "Сервис по продаже автомобилей с пробегом разрабатывает приложение для привлечения новых клиентов. В нём можно быстро узнать рыночную стоимость своего автомобиля. В распоряжении имеются исторические данные по техническим характеристикам, комплектации и ценам автомобилей.  \n",
    "\n",
    "Нужно построить модель для определения стоимости. Заказчику важны: \n",
    "- качество предсказания;  \n",
    "- скорость предсказания;  \n",
    "- время обучения.  \n",
    "\n",
    "Для оценки качества моделей используется метрику _RMSE_. Её значение должно быть меньше 2500."
   ]
  },
  {
   "cell_type": "markdown",
   "metadata": {},
   "source": [
    "__Основные шаги:__  \n",
    "- Загрузка и изучение данных;\n",
    "- Предобработка данных и создание выборок;\n",
    "- Обучение нескольких моделей машинного обучения, как использующие бустинг, так и не использующие его;\n",
    "- Сравнение моделей мо скорости и качеству обучения;\n",
    "- Выбор лучшей модели в соответствии с заявленными требованиями."
   ]
  },
  {
   "cell_type": "markdown",
   "metadata": {},
   "source": [
    "__Описание данных:__  \n",
    "_Предсказательные признаки:_  \n",
    "- `DateCrawled` — дата скачивания анкеты из базы\n",
    "- `VehicleType` — тип автомобильного кузова\n",
    "- `RegistrationYear` — год регистрации автомобиля\n",
    "- `Gearbox` — тип коробки передач\n",
    "- `Power` — мощность (л. с.)\n",
    "- `Model` — модель автомобиля\n",
    "- `Kilometer` — пробег (км)\n",
    "- `RegistrationMonth` — месяц регистрации автомобиля\n",
    "- `FuelType` — тип топлива\n",
    "- `Brand` — марка автомобиля\n",
    "- `Repaired` — была машина в ремонте или нет\n",
    "- `DateCreated` — дата создания анкеты\n",
    "- `NumberOfPictures` — количество фотографий автомобиля\n",
    "- `PostalCode` — почтовый индекс владельца анкеты (пользователя)\n",
    "- `LastSeen` — дата последней активности пользователя\n",
    "\n",
    "\n",
    "_Целевой признак:_  \n",
    "- `Price` — цена (евро)"
   ]
  },
  {
   "cell_type": "markdown",
   "metadata": {
    "ExecuteTime": {
     "end_time": "2023-03-01T16:43:46.305239Z",
     "start_time": "2023-03-01T16:43:46.293244Z"
    }
   },
   "source": [
    "## Подготовка данных"
   ]
  },
  {
   "cell_type": "markdown",
   "metadata": {},
   "source": [
    "- Загрузиим данные, путь к файлу: `/datasets/autos.csv`.\n",
    "- Изучим данные. Заполним пропущенные значения и обработаем аномалии в столбцах. Удалим неинформативные признаки.\n",
    "- Подготовим выборки для обучения моделей."
   ]
  },
  {
   "cell_type": "markdown",
   "metadata": {},
   "source": [
    "### Загрузка данных"
   ]
  },
  {
   "cell_type": "code",
   "execution_count": 1,
   "metadata": {
    "ExecuteTime": {
     "end_time": "2023-03-08T18:32:00.560979Z",
     "start_time": "2023-03-08T18:31:58.835249Z"
    }
   },
   "outputs": [
    {
     "name": "stdout",
     "output_type": "stream",
     "text": [
      "Category Encoders ver.: 2.6.0\n"
     ]
    }
   ],
   "source": [
    "# проверка наличия библиотек\n",
    "try:\n",
    "    import category_encoders\n",
    "    print('Category Encoders ver.:', category_encoders.__version__)\n",
    "except:\n",
    "    !pip install category_encoders"
   ]
  },
  {
   "cell_type": "code",
   "execution_count": 2,
   "metadata": {
    "ExecuteTime": {
     "end_time": "2023-03-08T18:32:01.167921Z",
     "start_time": "2023-03-08T18:32:00.560979Z"
    }
   },
   "outputs": [
    {
     "name": "stdout",
     "output_type": "stream",
     "text": [
      "Optuna ver.: 3.1.0\n"
     ]
    }
   ],
   "source": [
    "# проверка наличия библиотек\n",
    "try:\n",
    "    import optuna\n",
    "    print('Optuna ver.:', optuna.__version__)\n",
    "except:\n",
    "    !pip install optuna"
   ]
  },
  {
   "cell_type": "code",
   "execution_count": 3,
   "metadata": {
    "ExecuteTime": {
     "end_time": "2023-03-08T18:32:01.438920Z",
     "start_time": "2023-03-08T18:32:01.170927Z"
    }
   },
   "outputs": [
    {
     "name": "stdout",
     "output_type": "stream",
     "text": [
      "LightGBM ver.: 3.3.5\n"
     ]
    }
   ],
   "source": [
    "# проверка наличия библиотек\n",
    "try:\n",
    "    import lightgbm as lgbm\n",
    "    print('LightGBM ver.:', lgbm.__version__)\n",
    "except:\n",
    "    !pip install lightgbm"
   ]
  },
  {
   "cell_type": "code",
   "execution_count": 4,
   "metadata": {
    "ExecuteTime": {
     "end_time": "2023-03-08T18:32:01.630920Z",
     "start_time": "2023-03-08T18:32:01.443927Z"
    }
   },
   "outputs": [],
   "source": [
    "# импорт библиотек\n",
    "import pandas as pd\n",
    "import numpy as np\n",
    "import phik\n",
    "\n",
    "from lightgbm import LGBMRegressor\n",
    "\n",
    "from optuna.integration import OptunaSearchCV\n",
    "from category_encoders.target_encoder import TargetEncoder\n",
    "\n",
    "from sklearn.ensemble import RandomForestRegressor\n",
    "from sklearn.linear_model import LinearRegression, ElasticNet\n",
    "from sklearn.neighbors import KNeighborsRegressor\n",
    "from sklearn.svm import LinearSVR\n",
    "from sklearn.dummy import DummyRegressor\n",
    "\n",
    "\n",
    "from sklearn.preprocessing import StandardScaler\n",
    "from sklearn.preprocessing import OneHotEncoder\n",
    "from sklearn.pipeline import Pipeline\n",
    "from sklearn.model_selection import GridSearchCV, train_test_split\n",
    "from sklearn.compose import ColumnTransformer\n",
    "from sklearn.metrics import r2_score, mean_squared_error, make_scorer"
   ]
  },
  {
   "cell_type": "code",
   "execution_count": 5,
   "metadata": {
    "ExecuteTime": {
     "end_time": "2023-03-08T18:32:02.595868Z",
     "start_time": "2023-03-08T18:32:01.634927Z"
    }
   },
   "outputs": [],
   "source": [
    "# чтение файла данных из папки по умолчанию и из рабочей директории\n",
    "try:\n",
    "    data = pd.read_csv('/datasets/autos.csv', sep=',')\n",
    "except:\n",
    "    data = pd.read_csv('autos.csv', sep=',')"
   ]
  },
  {
   "cell_type": "code",
   "execution_count": 6,
   "metadata": {
    "ExecuteTime": {
     "end_time": "2023-03-08T18:32:02.627844Z",
     "start_time": "2023-03-08T18:32:02.598842Z"
    }
   },
   "outputs": [
    {
     "data": {
      "text/html": [
       "<div>\n",
       "<style scoped>\n",
       "    .dataframe tbody tr th:only-of-type {\n",
       "        vertical-align: middle;\n",
       "    }\n",
       "\n",
       "    .dataframe tbody tr th {\n",
       "        vertical-align: top;\n",
       "    }\n",
       "\n",
       "    .dataframe thead th {\n",
       "        text-align: right;\n",
       "    }\n",
       "</style>\n",
       "<table border=\"1\" class=\"dataframe\">\n",
       "  <thead>\n",
       "    <tr style=\"text-align: right;\">\n",
       "      <th></th>\n",
       "      <th>DateCrawled</th>\n",
       "      <th>Price</th>\n",
       "      <th>VehicleType</th>\n",
       "      <th>RegistrationYear</th>\n",
       "      <th>Gearbox</th>\n",
       "      <th>Power</th>\n",
       "      <th>Model</th>\n",
       "      <th>Kilometer</th>\n",
       "      <th>RegistrationMonth</th>\n",
       "      <th>FuelType</th>\n",
       "      <th>Brand</th>\n",
       "      <th>Repaired</th>\n",
       "      <th>DateCreated</th>\n",
       "      <th>NumberOfPictures</th>\n",
       "      <th>PostalCode</th>\n",
       "      <th>LastSeen</th>\n",
       "    </tr>\n",
       "  </thead>\n",
       "  <tbody>\n",
       "    <tr>\n",
       "      <th>0</th>\n",
       "      <td>2016-03-24 11:52:17</td>\n",
       "      <td>480</td>\n",
       "      <td>NaN</td>\n",
       "      <td>1993</td>\n",
       "      <td>manual</td>\n",
       "      <td>0</td>\n",
       "      <td>golf</td>\n",
       "      <td>150000</td>\n",
       "      <td>0</td>\n",
       "      <td>petrol</td>\n",
       "      <td>volkswagen</td>\n",
       "      <td>NaN</td>\n",
       "      <td>2016-03-24 00:00:00</td>\n",
       "      <td>0</td>\n",
       "      <td>70435</td>\n",
       "      <td>2016-04-07 03:16:57</td>\n",
       "    </tr>\n",
       "    <tr>\n",
       "      <th>1</th>\n",
       "      <td>2016-03-24 10:58:45</td>\n",
       "      <td>18300</td>\n",
       "      <td>coupe</td>\n",
       "      <td>2011</td>\n",
       "      <td>manual</td>\n",
       "      <td>190</td>\n",
       "      <td>NaN</td>\n",
       "      <td>125000</td>\n",
       "      <td>5</td>\n",
       "      <td>gasoline</td>\n",
       "      <td>audi</td>\n",
       "      <td>yes</td>\n",
       "      <td>2016-03-24 00:00:00</td>\n",
       "      <td>0</td>\n",
       "      <td>66954</td>\n",
       "      <td>2016-04-07 01:46:50</td>\n",
       "    </tr>\n",
       "    <tr>\n",
       "      <th>2</th>\n",
       "      <td>2016-03-14 12:52:21</td>\n",
       "      <td>9800</td>\n",
       "      <td>suv</td>\n",
       "      <td>2004</td>\n",
       "      <td>auto</td>\n",
       "      <td>163</td>\n",
       "      <td>grand</td>\n",
       "      <td>125000</td>\n",
       "      <td>8</td>\n",
       "      <td>gasoline</td>\n",
       "      <td>jeep</td>\n",
       "      <td>NaN</td>\n",
       "      <td>2016-03-14 00:00:00</td>\n",
       "      <td>0</td>\n",
       "      <td>90480</td>\n",
       "      <td>2016-04-05 12:47:46</td>\n",
       "    </tr>\n",
       "    <tr>\n",
       "      <th>3</th>\n",
       "      <td>2016-03-17 16:54:04</td>\n",
       "      <td>1500</td>\n",
       "      <td>small</td>\n",
       "      <td>2001</td>\n",
       "      <td>manual</td>\n",
       "      <td>75</td>\n",
       "      <td>golf</td>\n",
       "      <td>150000</td>\n",
       "      <td>6</td>\n",
       "      <td>petrol</td>\n",
       "      <td>volkswagen</td>\n",
       "      <td>no</td>\n",
       "      <td>2016-03-17 00:00:00</td>\n",
       "      <td>0</td>\n",
       "      <td>91074</td>\n",
       "      <td>2016-03-17 17:40:17</td>\n",
       "    </tr>\n",
       "    <tr>\n",
       "      <th>4</th>\n",
       "      <td>2016-03-31 17:25:20</td>\n",
       "      <td>3600</td>\n",
       "      <td>small</td>\n",
       "      <td>2008</td>\n",
       "      <td>manual</td>\n",
       "      <td>69</td>\n",
       "      <td>fabia</td>\n",
       "      <td>90000</td>\n",
       "      <td>7</td>\n",
       "      <td>gasoline</td>\n",
       "      <td>skoda</td>\n",
       "      <td>no</td>\n",
       "      <td>2016-03-31 00:00:00</td>\n",
       "      <td>0</td>\n",
       "      <td>60437</td>\n",
       "      <td>2016-04-06 10:17:21</td>\n",
       "    </tr>\n",
       "  </tbody>\n",
       "</table>\n",
       "</div>"
      ],
      "text/plain": [
       "           DateCrawled  Price VehicleType  RegistrationYear Gearbox  Power  \\\n",
       "0  2016-03-24 11:52:17    480         NaN              1993  manual      0   \n",
       "1  2016-03-24 10:58:45  18300       coupe              2011  manual    190   \n",
       "2  2016-03-14 12:52:21   9800         suv              2004    auto    163   \n",
       "3  2016-03-17 16:54:04   1500       small              2001  manual     75   \n",
       "4  2016-03-31 17:25:20   3600       small              2008  manual     69   \n",
       "\n",
       "   Model  Kilometer  RegistrationMonth  FuelType       Brand Repaired  \\\n",
       "0   golf     150000                  0    petrol  volkswagen      NaN   \n",
       "1    NaN     125000                  5  gasoline        audi      yes   \n",
       "2  grand     125000                  8  gasoline        jeep      NaN   \n",
       "3   golf     150000                  6    petrol  volkswagen       no   \n",
       "4  fabia      90000                  7  gasoline       skoda       no   \n",
       "\n",
       "           DateCreated  NumberOfPictures  PostalCode             LastSeen  \n",
       "0  2016-03-24 00:00:00                 0       70435  2016-04-07 03:16:57  \n",
       "1  2016-03-24 00:00:00                 0       66954  2016-04-07 01:46:50  \n",
       "2  2016-03-14 00:00:00                 0       90480  2016-04-05 12:47:46  \n",
       "3  2016-03-17 00:00:00                 0       91074  2016-03-17 17:40:17  \n",
       "4  2016-03-31 00:00:00                 0       60437  2016-04-06 10:17:21  "
      ]
     },
     "execution_count": 6,
     "metadata": {},
     "output_type": "execute_result"
    }
   ],
   "source": [
    "# пример данных\n",
    "data.head()"
   ]
  },
  {
   "cell_type": "markdown",
   "metadata": {},
   "source": [
    "### Исследовательский анализ данных"
   ]
  },
  {
   "cell_type": "code",
   "execution_count": 7,
   "metadata": {
    "ExecuteTime": {
     "end_time": "2023-03-08T18:32:03.233841Z",
     "start_time": "2023-03-08T18:32:02.631842Z"
    }
   },
   "outputs": [
    {
     "name": "stdout",
     "output_type": "stream",
     "text": [
      "<class 'pandas.core.frame.DataFrame'>\n",
      "RangeIndex: 354369 entries, 0 to 354368\n",
      "Data columns (total 16 columns):\n",
      " #   Column             Non-Null Count   Dtype \n",
      "---  ------             --------------   ----- \n",
      " 0   DateCrawled        354369 non-null  object\n",
      " 1   Price              354369 non-null  int64 \n",
      " 2   VehicleType        316879 non-null  object\n",
      " 3   RegistrationYear   354369 non-null  int64 \n",
      " 4   Gearbox            334536 non-null  object\n",
      " 5   Power              354369 non-null  int64 \n",
      " 6   Model              334664 non-null  object\n",
      " 7   Kilometer          354369 non-null  int64 \n",
      " 8   RegistrationMonth  354369 non-null  int64 \n",
      " 9   FuelType           321474 non-null  object\n",
      " 10  Brand              354369 non-null  object\n",
      " 11  Repaired           283215 non-null  object\n",
      " 12  DateCreated        354369 non-null  object\n",
      " 13  NumberOfPictures   354369 non-null  int64 \n",
      " 14  PostalCode         354369 non-null  int64 \n",
      " 15  LastSeen           354369 non-null  object\n",
      "dtypes: int64(7), object(9)\n",
      "memory usage: 43.3+ MB\n"
     ]
    }
   ],
   "source": [
    "# тип данных и возможные пропуски\n",
    "data.info()"
   ]
  },
  {
   "cell_type": "code",
   "execution_count": 8,
   "metadata": {
    "ExecuteTime": {
     "end_time": "2023-03-08T18:32:03.835293Z",
     "start_time": "2023-03-08T18:32:03.235844Z"
    }
   },
   "outputs": [
    {
     "name": "stdout",
     "output_type": "stream",
     "text": [
      "Доля пропусков в признаках, %:\n"
     ]
    },
    {
     "data": {
      "text/plain": [
       "DateCrawled           0.0\n",
       "Price                 0.0\n",
       "VehicleType          10.6\n",
       "RegistrationYear      0.0\n",
       "Gearbox               5.6\n",
       "Power                 0.0\n",
       "Model                 5.6\n",
       "Kilometer             0.0\n",
       "RegistrationMonth     0.0\n",
       "FuelType              9.3\n",
       "Brand                 0.0\n",
       "Repaired             20.1\n",
       "DateCreated           0.0\n",
       "NumberOfPictures      0.0\n",
       "PostalCode            0.0\n",
       "LastSeen              0.0\n",
       "dtype: float64"
      ]
     },
     "execution_count": 8,
     "metadata": {},
     "output_type": "execute_result"
    }
   ],
   "source": [
    "# определение процента пропусков\n",
    "print('Доля пропусков в признаках, %:')\n",
    "(data.isna().mean()*100).round(1)"
   ]
  },
  {
   "cell_type": "code",
   "execution_count": 9,
   "metadata": {
    "ExecuteTime": {
     "end_time": "2023-03-08T18:32:04.905295Z",
     "start_time": "2023-03-08T18:32:03.841303Z"
    }
   },
   "outputs": [
    {
     "data": {
      "text/html": [
       "<div>\n",
       "<style scoped>\n",
       "    .dataframe tbody tr th:only-of-type {\n",
       "        vertical-align: middle;\n",
       "    }\n",
       "\n",
       "    .dataframe tbody tr th {\n",
       "        vertical-align: top;\n",
       "    }\n",
       "\n",
       "    .dataframe thead th {\n",
       "        text-align: right;\n",
       "    }\n",
       "</style>\n",
       "<table border=\"1\" class=\"dataframe\">\n",
       "  <thead>\n",
       "    <tr style=\"text-align: right;\">\n",
       "      <th></th>\n",
       "      <th>DateCrawled</th>\n",
       "      <th>Price</th>\n",
       "      <th>VehicleType</th>\n",
       "      <th>RegistrationYear</th>\n",
       "      <th>Gearbox</th>\n",
       "      <th>Power</th>\n",
       "      <th>Model</th>\n",
       "      <th>Kilometer</th>\n",
       "      <th>RegistrationMonth</th>\n",
       "      <th>FuelType</th>\n",
       "      <th>Brand</th>\n",
       "      <th>Repaired</th>\n",
       "      <th>DateCreated</th>\n",
       "      <th>NumberOfPictures</th>\n",
       "      <th>PostalCode</th>\n",
       "      <th>LastSeen</th>\n",
       "    </tr>\n",
       "  </thead>\n",
       "  <tbody>\n",
       "    <tr>\n",
       "      <th>count</th>\n",
       "      <td>354369</td>\n",
       "      <td>354369.000000</td>\n",
       "      <td>316879</td>\n",
       "      <td>354369.000000</td>\n",
       "      <td>334536</td>\n",
       "      <td>354369.000000</td>\n",
       "      <td>334664</td>\n",
       "      <td>354369.000000</td>\n",
       "      <td>354369.000000</td>\n",
       "      <td>321474</td>\n",
       "      <td>354369</td>\n",
       "      <td>283215</td>\n",
       "      <td>354369</td>\n",
       "      <td>354369.0</td>\n",
       "      <td>354369.000000</td>\n",
       "      <td>354369</td>\n",
       "    </tr>\n",
       "    <tr>\n",
       "      <th>unique</th>\n",
       "      <td>271174</td>\n",
       "      <td>NaN</td>\n",
       "      <td>8</td>\n",
       "      <td>NaN</td>\n",
       "      <td>2</td>\n",
       "      <td>NaN</td>\n",
       "      <td>250</td>\n",
       "      <td>NaN</td>\n",
       "      <td>NaN</td>\n",
       "      <td>7</td>\n",
       "      <td>40</td>\n",
       "      <td>2</td>\n",
       "      <td>109</td>\n",
       "      <td>NaN</td>\n",
       "      <td>NaN</td>\n",
       "      <td>179150</td>\n",
       "    </tr>\n",
       "    <tr>\n",
       "      <th>top</th>\n",
       "      <td>2016-03-24 14:49:47</td>\n",
       "      <td>NaN</td>\n",
       "      <td>sedan</td>\n",
       "      <td>NaN</td>\n",
       "      <td>manual</td>\n",
       "      <td>NaN</td>\n",
       "      <td>golf</td>\n",
       "      <td>NaN</td>\n",
       "      <td>NaN</td>\n",
       "      <td>petrol</td>\n",
       "      <td>volkswagen</td>\n",
       "      <td>no</td>\n",
       "      <td>2016-04-03 00:00:00</td>\n",
       "      <td>NaN</td>\n",
       "      <td>NaN</td>\n",
       "      <td>2016-04-06 13:45:54</td>\n",
       "    </tr>\n",
       "    <tr>\n",
       "      <th>freq</th>\n",
       "      <td>7</td>\n",
       "      <td>NaN</td>\n",
       "      <td>91457</td>\n",
       "      <td>NaN</td>\n",
       "      <td>268251</td>\n",
       "      <td>NaN</td>\n",
       "      <td>29232</td>\n",
       "      <td>NaN</td>\n",
       "      <td>NaN</td>\n",
       "      <td>216352</td>\n",
       "      <td>77013</td>\n",
       "      <td>247161</td>\n",
       "      <td>13719</td>\n",
       "      <td>NaN</td>\n",
       "      <td>NaN</td>\n",
       "      <td>17</td>\n",
       "    </tr>\n",
       "    <tr>\n",
       "      <th>mean</th>\n",
       "      <td>NaN</td>\n",
       "      <td>4416.656776</td>\n",
       "      <td>NaN</td>\n",
       "      <td>2004.234448</td>\n",
       "      <td>NaN</td>\n",
       "      <td>110.094337</td>\n",
       "      <td>NaN</td>\n",
       "      <td>128211.172535</td>\n",
       "      <td>5.714645</td>\n",
       "      <td>NaN</td>\n",
       "      <td>NaN</td>\n",
       "      <td>NaN</td>\n",
       "      <td>NaN</td>\n",
       "      <td>0.0</td>\n",
       "      <td>50508.689087</td>\n",
       "      <td>NaN</td>\n",
       "    </tr>\n",
       "    <tr>\n",
       "      <th>std</th>\n",
       "      <td>NaN</td>\n",
       "      <td>4514.158514</td>\n",
       "      <td>NaN</td>\n",
       "      <td>90.227958</td>\n",
       "      <td>NaN</td>\n",
       "      <td>189.850405</td>\n",
       "      <td>NaN</td>\n",
       "      <td>37905.341530</td>\n",
       "      <td>3.726421</td>\n",
       "      <td>NaN</td>\n",
       "      <td>NaN</td>\n",
       "      <td>NaN</td>\n",
       "      <td>NaN</td>\n",
       "      <td>0.0</td>\n",
       "      <td>25783.096248</td>\n",
       "      <td>NaN</td>\n",
       "    </tr>\n",
       "    <tr>\n",
       "      <th>min</th>\n",
       "      <td>NaN</td>\n",
       "      <td>0.000000</td>\n",
       "      <td>NaN</td>\n",
       "      <td>1000.000000</td>\n",
       "      <td>NaN</td>\n",
       "      <td>0.000000</td>\n",
       "      <td>NaN</td>\n",
       "      <td>5000.000000</td>\n",
       "      <td>0.000000</td>\n",
       "      <td>NaN</td>\n",
       "      <td>NaN</td>\n",
       "      <td>NaN</td>\n",
       "      <td>NaN</td>\n",
       "      <td>0.0</td>\n",
       "      <td>1067.000000</td>\n",
       "      <td>NaN</td>\n",
       "    </tr>\n",
       "    <tr>\n",
       "      <th>25%</th>\n",
       "      <td>NaN</td>\n",
       "      <td>1050.000000</td>\n",
       "      <td>NaN</td>\n",
       "      <td>1999.000000</td>\n",
       "      <td>NaN</td>\n",
       "      <td>69.000000</td>\n",
       "      <td>NaN</td>\n",
       "      <td>125000.000000</td>\n",
       "      <td>3.000000</td>\n",
       "      <td>NaN</td>\n",
       "      <td>NaN</td>\n",
       "      <td>NaN</td>\n",
       "      <td>NaN</td>\n",
       "      <td>0.0</td>\n",
       "      <td>30165.000000</td>\n",
       "      <td>NaN</td>\n",
       "    </tr>\n",
       "    <tr>\n",
       "      <th>50%</th>\n",
       "      <td>NaN</td>\n",
       "      <td>2700.000000</td>\n",
       "      <td>NaN</td>\n",
       "      <td>2003.000000</td>\n",
       "      <td>NaN</td>\n",
       "      <td>105.000000</td>\n",
       "      <td>NaN</td>\n",
       "      <td>150000.000000</td>\n",
       "      <td>6.000000</td>\n",
       "      <td>NaN</td>\n",
       "      <td>NaN</td>\n",
       "      <td>NaN</td>\n",
       "      <td>NaN</td>\n",
       "      <td>0.0</td>\n",
       "      <td>49413.000000</td>\n",
       "      <td>NaN</td>\n",
       "    </tr>\n",
       "    <tr>\n",
       "      <th>75%</th>\n",
       "      <td>NaN</td>\n",
       "      <td>6400.000000</td>\n",
       "      <td>NaN</td>\n",
       "      <td>2008.000000</td>\n",
       "      <td>NaN</td>\n",
       "      <td>143.000000</td>\n",
       "      <td>NaN</td>\n",
       "      <td>150000.000000</td>\n",
       "      <td>9.000000</td>\n",
       "      <td>NaN</td>\n",
       "      <td>NaN</td>\n",
       "      <td>NaN</td>\n",
       "      <td>NaN</td>\n",
       "      <td>0.0</td>\n",
       "      <td>71083.000000</td>\n",
       "      <td>NaN</td>\n",
       "    </tr>\n",
       "    <tr>\n",
       "      <th>max</th>\n",
       "      <td>NaN</td>\n",
       "      <td>20000.000000</td>\n",
       "      <td>NaN</td>\n",
       "      <td>9999.000000</td>\n",
       "      <td>NaN</td>\n",
       "      <td>20000.000000</td>\n",
       "      <td>NaN</td>\n",
       "      <td>150000.000000</td>\n",
       "      <td>12.000000</td>\n",
       "      <td>NaN</td>\n",
       "      <td>NaN</td>\n",
       "      <td>NaN</td>\n",
       "      <td>NaN</td>\n",
       "      <td>0.0</td>\n",
       "      <td>99998.000000</td>\n",
       "      <td>NaN</td>\n",
       "    </tr>\n",
       "  </tbody>\n",
       "</table>\n",
       "</div>"
      ],
      "text/plain": [
       "                DateCrawled          Price VehicleType  RegistrationYear  \\\n",
       "count                354369  354369.000000      316879     354369.000000   \n",
       "unique               271174            NaN           8               NaN   \n",
       "top     2016-03-24 14:49:47            NaN       sedan               NaN   \n",
       "freq                      7            NaN       91457               NaN   \n",
       "mean                    NaN    4416.656776         NaN       2004.234448   \n",
       "std                     NaN    4514.158514         NaN         90.227958   \n",
       "min                     NaN       0.000000         NaN       1000.000000   \n",
       "25%                     NaN    1050.000000         NaN       1999.000000   \n",
       "50%                     NaN    2700.000000         NaN       2003.000000   \n",
       "75%                     NaN    6400.000000         NaN       2008.000000   \n",
       "max                     NaN   20000.000000         NaN       9999.000000   \n",
       "\n",
       "       Gearbox          Power   Model      Kilometer  RegistrationMonth  \\\n",
       "count   334536  354369.000000  334664  354369.000000      354369.000000   \n",
       "unique       2            NaN     250            NaN                NaN   \n",
       "top     manual            NaN    golf            NaN                NaN   \n",
       "freq    268251            NaN   29232            NaN                NaN   \n",
       "mean       NaN     110.094337     NaN  128211.172535           5.714645   \n",
       "std        NaN     189.850405     NaN   37905.341530           3.726421   \n",
       "min        NaN       0.000000     NaN    5000.000000           0.000000   \n",
       "25%        NaN      69.000000     NaN  125000.000000           3.000000   \n",
       "50%        NaN     105.000000     NaN  150000.000000           6.000000   \n",
       "75%        NaN     143.000000     NaN  150000.000000           9.000000   \n",
       "max        NaN   20000.000000     NaN  150000.000000          12.000000   \n",
       "\n",
       "       FuelType       Brand Repaired          DateCreated  NumberOfPictures  \\\n",
       "count    321474      354369   283215               354369          354369.0   \n",
       "unique        7          40        2                  109               NaN   \n",
       "top      petrol  volkswagen       no  2016-04-03 00:00:00               NaN   \n",
       "freq     216352       77013   247161                13719               NaN   \n",
       "mean        NaN         NaN      NaN                  NaN               0.0   \n",
       "std         NaN         NaN      NaN                  NaN               0.0   \n",
       "min         NaN         NaN      NaN                  NaN               0.0   \n",
       "25%         NaN         NaN      NaN                  NaN               0.0   \n",
       "50%         NaN         NaN      NaN                  NaN               0.0   \n",
       "75%         NaN         NaN      NaN                  NaN               0.0   \n",
       "max         NaN         NaN      NaN                  NaN               0.0   \n",
       "\n",
       "           PostalCode             LastSeen  \n",
       "count   354369.000000               354369  \n",
       "unique            NaN               179150  \n",
       "top               NaN  2016-04-06 13:45:54  \n",
       "freq              NaN                   17  \n",
       "mean     50508.689087                  NaN  \n",
       "std      25783.096248                  NaN  \n",
       "min       1067.000000                  NaN  \n",
       "25%      30165.000000                  NaN  \n",
       "50%      49413.000000                  NaN  \n",
       "75%      71083.000000                  NaN  \n",
       "max      99998.000000                  NaN  "
      ]
     },
     "execution_count": 9,
     "metadata": {},
     "output_type": "execute_result"
    }
   ],
   "source": [
    "# статистика по данным всех типов\n",
    "data.describe(include='all')"
   ]
  },
  {
   "cell_type": "code",
   "execution_count": 10,
   "metadata": {
    "ExecuteTime": {
     "end_time": "2023-03-08T18:32:07.151806Z",
     "start_time": "2023-03-08T18:32:04.911300Z"
    }
   },
   "outputs": [
    {
     "data": {
      "image/png": "[encoded data removed]",
      "text/plain": [
       "<Figure size 1000x800 with 9 Axes>"
      ]
     },
     "metadata": {},
     "output_type": "display_data"
    }
   ],
   "source": [
    "# гистограммы распределений значений в признаках\n",
    "data.hist(figsize=[10, 8]);"
   ]
  },
  {
   "cell_type": "code",
   "execution_count": 11,
   "metadata": {
    "ExecuteTime": {
     "end_time": "2023-03-08T18:32:07.662804Z",
     "start_time": "2023-03-08T18:32:07.154810Z"
    }
   },
   "outputs": [
    {
     "name": "stdout",
     "output_type": "stream",
     "text": [
      "Число уникальных значений в признаках:\n"
     ]
    },
    {
     "data": {
      "text/plain": [
       "DateCrawled          271174\n",
       "Price                  3731\n",
       "VehicleType               8\n",
       "RegistrationYear        151\n",
       "Gearbox                   2\n",
       "Power                   712\n",
       "Model                   250\n",
       "Kilometer                13\n",
       "RegistrationMonth        13\n",
       "FuelType                  7\n",
       "Brand                    40\n",
       "Repaired                  2\n",
       "DateCreated             109\n",
       "NumberOfPictures          1\n",
       "PostalCode             8143\n",
       "LastSeen             179150\n",
       "dtype: int64"
      ]
     },
     "execution_count": 11,
     "metadata": {},
     "output_type": "execute_result"
    }
   ],
   "source": [
    "# определение числа уникальных значений\n",
    "print('Число уникальных значений в признаках:')\n",
    "data.nunique()"
   ]
  },
  {
   "cell_type": "markdown",
   "metadata": {},
   "source": [
    "Данные нуждаются в существенной предобработке. В них содержится значительное количество пропусков, аномальных значений. В числовых признаках встречаются \"заглушки\". Признаки включают в свой состав неинформативные, некоторые требуют смены типа значений. Для использования в машинном обучении также необходимо кодировать категориальные признаки и провести масштабирование числовых. Дополнительным неудобством является наличие большое количество уникальных значений в некоторых категориальных признаках. Возможно, для них стоит предусмотреть более рациональный способ кодирование, нежели привычное унитарное кодирование."
   ]
  },
  {
   "cell_type": "markdown",
   "metadata": {},
   "source": [
    "### Предобработка данных"
   ]
  },
  {
   "cell_type": "code",
   "execution_count": 12,
   "metadata": {
    "ExecuteTime": {
     "end_time": "2023-03-08T18:32:07.710805Z",
     "start_time": "2023-03-08T18:32:07.665811Z"
    }
   },
   "outputs": [],
   "source": [
    "# копия данных\n",
    "df = data.copy()"
   ]
  },
  {
   "cell_type": "markdown",
   "metadata": {},
   "source": [
    "#### Удаление дубликатов"
   ]
  },
  {
   "cell_type": "code",
   "execution_count": 13,
   "metadata": {
    "ExecuteTime": {
     "end_time": "2023-03-08T18:32:09.230964Z",
     "start_time": "2023-03-08T18:32:07.714812Z"
    }
   },
   "outputs": [
    {
     "name": "stdout",
     "output_type": "stream",
     "text": [
      "Количество дубликатов в данных: 4\n"
     ]
    }
   ],
   "source": [
    "# оценка числа и удаление дубликатов\n",
    "print('Количество дубликатов в данных:', df.duplicated().sum())\n",
    "df.drop_duplicates(inplace=True)\n"
   ]
  },
  {
   "cell_type": "markdown",
   "metadata": {},
   "source": [
    "#### Заполнение пропусков"
   ]
  },
  {
   "cell_type": "code",
   "execution_count": 14,
   "metadata": {
    "ExecuteTime": {
     "end_time": "2023-03-08T18:32:10.352614Z",
     "start_time": "2023-03-08T18:32:09.234970Z"
    }
   },
   "outputs": [],
   "source": [
    "# список значений с пропусками\n",
    "na_columns = df.isna().sum()[df.isna().sum().values > 0].index.tolist()"
   ]
  },
  {
   "cell_type": "code",
   "execution_count": 15,
   "metadata": {
    "ExecuteTime": {
     "end_time": "2023-03-08T18:32:10.400612Z",
     "start_time": "2023-03-08T18:32:10.355619Z"
    }
   },
   "outputs": [
    {
     "data": {
      "text/html": [
       "<div>\n",
       "<style scoped>\n",
       "    .dataframe tbody tr th:only-of-type {\n",
       "        vertical-align: middle;\n",
       "    }\n",
       "\n",
       "    .dataframe tbody tr th {\n",
       "        vertical-align: top;\n",
       "    }\n",
       "\n",
       "    .dataframe thead th {\n",
       "        text-align: right;\n",
       "    }\n",
       "</style>\n",
       "<table border=\"1\" class=\"dataframe\">\n",
       "  <thead>\n",
       "    <tr style=\"text-align: right;\">\n",
       "      <th></th>\n",
       "      <th>VehicleType</th>\n",
       "      <th>Gearbox</th>\n",
       "      <th>Model</th>\n",
       "      <th>FuelType</th>\n",
       "      <th>Repaired</th>\n",
       "    </tr>\n",
       "  </thead>\n",
       "  <tbody>\n",
       "    <tr>\n",
       "      <th>0</th>\n",
       "      <td>NaN</td>\n",
       "      <td>manual</td>\n",
       "      <td>golf</td>\n",
       "      <td>petrol</td>\n",
       "      <td>NaN</td>\n",
       "    </tr>\n",
       "    <tr>\n",
       "      <th>1</th>\n",
       "      <td>coupe</td>\n",
       "      <td>manual</td>\n",
       "      <td>NaN</td>\n",
       "      <td>gasoline</td>\n",
       "      <td>yes</td>\n",
       "    </tr>\n",
       "    <tr>\n",
       "      <th>2</th>\n",
       "      <td>suv</td>\n",
       "      <td>auto</td>\n",
       "      <td>grand</td>\n",
       "      <td>gasoline</td>\n",
       "      <td>NaN</td>\n",
       "    </tr>\n",
       "    <tr>\n",
       "      <th>3</th>\n",
       "      <td>small</td>\n",
       "      <td>manual</td>\n",
       "      <td>golf</td>\n",
       "      <td>petrol</td>\n",
       "      <td>no</td>\n",
       "    </tr>\n",
       "    <tr>\n",
       "      <th>4</th>\n",
       "      <td>small</td>\n",
       "      <td>manual</td>\n",
       "      <td>fabia</td>\n",
       "      <td>gasoline</td>\n",
       "      <td>no</td>\n",
       "    </tr>\n",
       "  </tbody>\n",
       "</table>\n",
       "</div>"
      ],
      "text/plain": [
       "  VehicleType Gearbox  Model  FuelType Repaired\n",
       "0         NaN  manual   golf    petrol      NaN\n",
       "1       coupe  manual    NaN  gasoline      yes\n",
       "2         suv    auto  grand  gasoline      NaN\n",
       "3       small  manual   golf    petrol       no\n",
       "4       small  manual  fabia  gasoline       no"
      ]
     },
     "execution_count": 15,
     "metadata": {},
     "output_type": "execute_result"
    }
   ],
   "source": [
    "# признаки с пропусками\n",
    "df[na_columns].head()"
   ]
  },
  {
   "cell_type": "markdown",
   "metadata": {},
   "source": [
    "Начнем с обработки пропусков в категориальных данных. Все они относятся к категориальным данным.  Процент пропущенных значений в них достаточно значителен - от 5 до 20%. Наиболее рациональным способом решения проблемы пропусков будет выделение под них отдельной категории в каждом из признаков. "
   ]
  },
  {
   "cell_type": "code",
   "execution_count": 16,
   "metadata": {
    "ExecuteTime": {
     "end_time": "2023-03-08T18:32:10.784614Z",
     "start_time": "2023-03-08T18:32:10.403617Z"
    }
   },
   "outputs": [
    {
     "name": "stdout",
     "output_type": "stream",
     "text": [
      "VehicleType [nan 'coupe' 'suv' 'small' 'sedan' 'convertible' 'bus' 'wagon' 'other']\n",
      "Gearbox ['manual' 'auto' nan]\n",
      "FuelType ['petrol' 'gasoline' nan 'lpg' 'other' 'hybrid' 'cng' 'electric']\n",
      "Repaired [nan 'yes' 'no']\n"
     ]
    }
   ],
   "source": [
    "# список признаков с малым числом категорий\n",
    "na_columns_copy = na_columns.copy()\n",
    "na_columns_copy.remove('Model')\n",
    "# уникальные значения признаков с пропусками\n",
    "for col in na_columns_copy:\n",
    "    print(col, df.drop(['Model'], axis=1)[col].unique())"
   ]
  },
  {
   "cell_type": "code",
   "execution_count": 17,
   "metadata": {
    "ExecuteTime": {
     "end_time": "2023-03-08T18:32:10.816612Z",
     "start_time": "2023-03-08T18:32:10.787619Z"
    }
   },
   "outputs": [
    {
     "name": "stdout",
     "output_type": "stream",
     "text": [
      "Наличие класса \"other\" в признаке \"Model\": True\n"
     ]
    }
   ],
   "source": [
    "# проверка наличия класса other\n",
    "print('Наличие класса \"other\" в признаке \"Model\":', 'other' in df['Model'].values)"
   ]
  },
  {
   "cell_type": "markdown",
   "metadata": {},
   "source": [
    "Ряд признаков уже содержит неопределенную категорию - `other`. Ею и заполним пропуски в категориальных признаках."
   ]
  },
  {
   "cell_type": "code",
   "execution_count": 18,
   "metadata": {
    "ExecuteTime": {
     "end_time": "2023-03-08T18:32:11.481287Z",
     "start_time": "2023-03-08T18:32:10.822616Z"
    }
   },
   "outputs": [],
   "source": [
    "# заполнение пропусков\n",
    "df.fillna('other', inplace=True)"
   ]
  },
  {
   "cell_type": "markdown",
   "metadata": {},
   "source": [
    "#### Обработка аномальных значений"
   ]
  },
  {
   "cell_type": "markdown",
   "metadata": {},
   "source": [
    "Ряд признаков содержат аномальные значения. В частности, они имеются в годе и месяце регистрации. В признаке `RegistrationYear` их не много и их можно удалить, в признаке `RegistrationMonth` большое количество нулевых значений - заменим их медианой.  \n",
    "В признаке мощности двигателя `Power` встречаются очевидно завышенные значения - ограничим их каким-то разумным пределом, свойственным популярным автомобилям. Также признак имеет большое количество нулевых значений. Заменим их медианой, но добавим дополнительный признак, указывающий на отсутствие указания мощности.\n",
    "Среди целевого признака цены авто `Price` встречается большое количество нулевых значений. Заменить их чем-либо не представляется возможным.   \n",
    "В признаке почтовых индексов `PostalCode` подавляющее большинство значений не соответствует принятому в России стандарту (почтовый индекс - это шестизначное число, причем начальное число ограничено диапазоном от 1 до 6 и исключает 5). Оценить наличие аномалий в этом признаке очень сложно."
   ]
  },
  {
   "cell_type": "code",
   "execution_count": 19,
   "metadata": {
    "ExecuteTime": {
     "end_time": "2023-03-08T18:32:11.576963Z",
     "start_time": "2023-03-08T18:32:11.484968Z"
    }
   },
   "outputs": [
    {
     "name": "stdout",
     "output_type": "stream",
     "text": [
      "Число аномальных значений в признаке \"RegistrationYear\": 171\n"
     ]
    }
   ],
   "source": [
    "# оценка аномалий в годе регистрация\n",
    "print('Число аномальных значений в признаке \"RegistrationYear\":',\n",
    "      len(df[(df['RegistrationYear'] > 2023) | (df['RegistrationYear'] < 1900)])\n",
    "     )"
   ]
  },
  {
   "cell_type": "code",
   "execution_count": 20,
   "metadata": {
    "ExecuteTime": {
     "end_time": "2023-03-08T18:32:11.687961Z",
     "start_time": "2023-03-08T18:32:11.579965Z"
    }
   },
   "outputs": [],
   "source": [
    "# удалений аномалий в признаках даты регистрации\n",
    "df = df[~(df['RegistrationYear'] > 2023) & ~(df['RegistrationYear'] < 1900)]\n",
    "df['RegistrationMonth'].replace(0, df['RegistrationMonth'].median(), inplace=True)"
   ]
  },
  {
   "cell_type": "code",
   "execution_count": 21,
   "metadata": {
    "ExecuteTime": {
     "end_time": "2023-03-08T18:32:11.783961Z",
     "start_time": "2023-03-08T18:32:11.690966Z"
    }
   },
   "outputs": [
    {
     "name": "stdout",
     "output_type": "stream",
     "text": [
      "Число аномально высоких значений в признаке \"Power\": 448\n"
     ]
    }
   ],
   "source": [
    "# оценка и удаление аномалий в мощности двигателя\n",
    "print('Число аномально высоких значений в признаке \"Power\":', len(df[df['Power'] > 500]))\n",
    "df = df[df['Power'] < 500]"
   ]
  },
  {
   "cell_type": "code",
   "execution_count": 22,
   "metadata": {
    "ExecuteTime": {
     "end_time": "2023-03-08T18:32:11.830966Z",
     "start_time": "2023-03-08T18:32:11.786967Z"
    }
   },
   "outputs": [],
   "source": [
    "# фиксация отсутствия мощности двигателя\n",
    "df['BePowered'] = 1\n",
    "# фиксируется также аномально низкая мощность двигателя\n",
    "df['BePowered'].mask(df['Power'] < 5, 0, inplace=True)\n",
    "# замена аномально-малых значений мощности медианой\n",
    "df['Power'].mask(df['Power'] < 5, df['Power'].median(), inplace=True)"
   ]
  },
  {
   "cell_type": "code",
   "execution_count": 23,
   "metadata": {
    "ExecuteTime": {
     "end_time": "2023-03-08T18:32:12.022960Z",
     "start_time": "2023-03-08T18:32:11.833974Z"
    }
   },
   "outputs": [],
   "source": [
    "# удалений аномалий в признаке цены\n",
    "df = df[df['Price'] > 100]"
   ]
  },
  {
   "cell_type": "markdown",
   "metadata": {},
   "source": [
    "#### Изменение пространства признаков"
   ]
  },
  {
   "cell_type": "markdown",
   "metadata": {},
   "source": [
    "Признак `NumberOfPictures` содержит большое число нулей. Оценим его информативность и при необходимости удалим."
   ]
  },
  {
   "cell_type": "code",
   "execution_count": 24,
   "metadata": {
    "ExecuteTime": {
     "end_time": "2023-03-08T18:32:12.100968Z",
     "start_time": "2023-03-08T18:32:12.025971Z"
    }
   },
   "outputs": [
    {
     "name": "stdout",
     "output_type": "stream",
     "text": [
      "Число ненулевых значений в признаке \"NumberOfPictures\": 0\n"
     ]
    }
   ],
   "source": [
    "# оценка числа уникальных значений признака NumberOfPictures\n",
    "print('Число ненулевых значений в признаке \"NumberOfPictures\":', data['NumberOfPictures'].sum())\n",
    "# удаление признака NumberOfPictures\n",
    "df.drop(['NumberOfPictures'], axis=1, inplace=True)"
   ]
  },
  {
   "cell_type": "markdown",
   "metadata": {},
   "source": [
    "Признак `DateCrawled` - дата скачивания анкеты из базы - не имеет ценности для анализа и его стоит удалить. Вместо `DateCreated` и `LastSeen` - дат создания анкеты и последней активности пользователя - имеет смысл ввести разницу между этими датами, так продолжительность продажи автомобиля отражается на его цене.  \n",
    "В признаковом пространстве присутствует признак `RegistrationMonth` - месяц регистрации автомобиля. Сам по себе этот признак неинформативен, но можно ввести дополнительный признак о длительности состояния \"зарегистрированности\" на момент начало продажи на основе года `RegistrationYear` и месяца регистрации `RegistrationMonth`, а также даты создания анкеты `DateCreated`."
   ]
  },
  {
   "cell_type": "code",
   "execution_count": 25,
   "metadata": {
    "ExecuteTime": {
     "end_time": "2023-03-08T18:32:12.514963Z",
     "start_time": "2023-03-08T18:32:12.104973Z"
    }
   },
   "outputs": [],
   "source": [
    "# временный датасет для создания новых признаков\n",
    "df_temp = df[['RegistrationYear', 'RegistrationMonth']].copy()\n",
    "# формирования набора для создания даты регистрации\n",
    "df_temp.columns = ['year', 'month']\n",
    "df_temp['day'] = 1\n",
    "df_temp['RegistrationDate'] = pd.to_datetime(df_temp)\n",
    "\n",
    "# копия признаков с датами активности пользователя\n",
    "df_temp['DateCreated'] = df['DateCreated'].astype('datetime64[ns]')\n",
    "df_temp['LastSeen'] = df['LastSeen'].astype('datetime64[ns]')\n",
    "\n",
    "# число месяцев с момента регистрации\n",
    "df_temp['RegistratedMonths'] = ((df_temp['DateCreated'] - df_temp['RegistrationDate']) / np.timedelta64 (1, 'M')).round()\n",
    "# число недель активности пользователя\n",
    "df_temp['ActivityWeeks'] = ((df_temp['LastSeen'] - df_temp['DateCreated']) / np.timedelta64 (1, 'W')).round()"
   ]
  },
  {
   "cell_type": "code",
   "execution_count": 26,
   "metadata": {
    "ExecuteTime": {
     "end_time": "2023-03-08T18:32:12.626961Z",
     "start_time": "2023-03-08T18:32:12.516963Z"
    }
   },
   "outputs": [],
   "source": [
    "# удаление неинформативных признаков\n",
    "df.drop(['DateCrawled', 'RegistrationYear', 'RegistrationMonth', 'DateCreated', 'LastSeen'], axis=1, inplace=True)\n",
    "# добавление новых признаков\n",
    "df = df.join(df_temp[['RegistratedMonths','ActivityWeeks']])"
   ]
  },
  {
   "cell_type": "markdown",
   "metadata": {},
   "source": [
    "Изменим некоторые типов данных с целочисленного на действительный. Это касается признаков: `Price`, `Power` и `Kilometer`.  "
   ]
  },
  {
   "cell_type": "code",
   "execution_count": 27,
   "metadata": {
    "ExecuteTime": {
     "end_time": "2023-03-08T18:32:12.690967Z",
     "start_time": "2023-03-08T18:32:12.629968Z"
    },
    "scrolled": false
   },
   "outputs": [
    {
     "data": {
      "text/html": [
       "<div>\n",
       "<style scoped>\n",
       "    .dataframe tbody tr th:only-of-type {\n",
       "        vertical-align: middle;\n",
       "    }\n",
       "\n",
       "    .dataframe tbody tr th {\n",
       "        vertical-align: top;\n",
       "    }\n",
       "\n",
       "    .dataframe thead th {\n",
       "        text-align: right;\n",
       "    }\n",
       "</style>\n",
       "<table border=\"1\" class=\"dataframe\">\n",
       "  <thead>\n",
       "    <tr style=\"text-align: right;\">\n",
       "      <th></th>\n",
       "      <th>Price</th>\n",
       "      <th>VehicleType</th>\n",
       "      <th>Gearbox</th>\n",
       "      <th>Power</th>\n",
       "      <th>Model</th>\n",
       "      <th>Kilometer</th>\n",
       "      <th>FuelType</th>\n",
       "      <th>Brand</th>\n",
       "      <th>Repaired</th>\n",
       "      <th>PostalCode</th>\n",
       "      <th>BePowered</th>\n",
       "      <th>RegistratedMonths</th>\n",
       "      <th>ActivityWeeks</th>\n",
       "    </tr>\n",
       "  </thead>\n",
       "  <tbody>\n",
       "    <tr>\n",
       "      <th>0</th>\n",
       "      <td>480.0</td>\n",
       "      <td>other</td>\n",
       "      <td>manual</td>\n",
       "      <td>105.0</td>\n",
       "      <td>golf</td>\n",
       "      <td>150000.0</td>\n",
       "      <td>petrol</td>\n",
       "      <td>volkswagen</td>\n",
       "      <td>other</td>\n",
       "      <td>70435</td>\n",
       "      <td>0</td>\n",
       "      <td>274.0</td>\n",
       "      <td>2.0</td>\n",
       "    </tr>\n",
       "    <tr>\n",
       "      <th>1</th>\n",
       "      <td>18300.0</td>\n",
       "      <td>coupe</td>\n",
       "      <td>manual</td>\n",
       "      <td>190.0</td>\n",
       "      <td>other</td>\n",
       "      <td>125000.0</td>\n",
       "      <td>gasoline</td>\n",
       "      <td>audi</td>\n",
       "      <td>yes</td>\n",
       "      <td>66954</td>\n",
       "      <td>1</td>\n",
       "      <td>59.0</td>\n",
       "      <td>2.0</td>\n",
       "    </tr>\n",
       "    <tr>\n",
       "      <th>2</th>\n",
       "      <td>9800.0</td>\n",
       "      <td>suv</td>\n",
       "      <td>auto</td>\n",
       "      <td>163.0</td>\n",
       "      <td>grand</td>\n",
       "      <td>125000.0</td>\n",
       "      <td>gasoline</td>\n",
       "      <td>jeep</td>\n",
       "      <td>other</td>\n",
       "      <td>90480</td>\n",
       "      <td>1</td>\n",
       "      <td>139.0</td>\n",
       "      <td>3.0</td>\n",
       "    </tr>\n",
       "    <tr>\n",
       "      <th>3</th>\n",
       "      <td>1500.0</td>\n",
       "      <td>small</td>\n",
       "      <td>manual</td>\n",
       "      <td>75.0</td>\n",
       "      <td>golf</td>\n",
       "      <td>150000.0</td>\n",
       "      <td>petrol</td>\n",
       "      <td>volkswagen</td>\n",
       "      <td>no</td>\n",
       "      <td>91074</td>\n",
       "      <td>1</td>\n",
       "      <td>178.0</td>\n",
       "      <td>0.0</td>\n",
       "    </tr>\n",
       "    <tr>\n",
       "      <th>4</th>\n",
       "      <td>3600.0</td>\n",
       "      <td>small</td>\n",
       "      <td>manual</td>\n",
       "      <td>69.0</td>\n",
       "      <td>fabia</td>\n",
       "      <td>90000.0</td>\n",
       "      <td>gasoline</td>\n",
       "      <td>skoda</td>\n",
       "      <td>no</td>\n",
       "      <td>60437</td>\n",
       "      <td>1</td>\n",
       "      <td>93.0</td>\n",
       "      <td>1.0</td>\n",
       "    </tr>\n",
       "    <tr>\n",
       "      <th>...</th>\n",
       "      <td>...</td>\n",
       "      <td>...</td>\n",
       "      <td>...</td>\n",
       "      <td>...</td>\n",
       "      <td>...</td>\n",
       "      <td>...</td>\n",
       "      <td>...</td>\n",
       "      <td>...</td>\n",
       "      <td>...</td>\n",
       "      <td>...</td>\n",
       "      <td>...</td>\n",
       "      <td>...</td>\n",
       "      <td>...</td>\n",
       "    </tr>\n",
       "    <tr>\n",
       "      <th>354363</th>\n",
       "      <td>1150.0</td>\n",
       "      <td>bus</td>\n",
       "      <td>manual</td>\n",
       "      <td>105.0</td>\n",
       "      <td>zafira</td>\n",
       "      <td>150000.0</td>\n",
       "      <td>petrol</td>\n",
       "      <td>opel</td>\n",
       "      <td>no</td>\n",
       "      <td>26624</td>\n",
       "      <td>0</td>\n",
       "      <td>193.0</td>\n",
       "      <td>0.0</td>\n",
       "    </tr>\n",
       "    <tr>\n",
       "      <th>354365</th>\n",
       "      <td>2200.0</td>\n",
       "      <td>other</td>\n",
       "      <td>other</td>\n",
       "      <td>105.0</td>\n",
       "      <td>other</td>\n",
       "      <td>20000.0</td>\n",
       "      <td>other</td>\n",
       "      <td>sonstige_autos</td>\n",
       "      <td>other</td>\n",
       "      <td>39576</td>\n",
       "      <td>0</td>\n",
       "      <td>134.0</td>\n",
       "      <td>3.0</td>\n",
       "    </tr>\n",
       "    <tr>\n",
       "      <th>354366</th>\n",
       "      <td>1199.0</td>\n",
       "      <td>convertible</td>\n",
       "      <td>auto</td>\n",
       "      <td>101.0</td>\n",
       "      <td>fortwo</td>\n",
       "      <td>125000.0</td>\n",
       "      <td>petrol</td>\n",
       "      <td>smart</td>\n",
       "      <td>no</td>\n",
       "      <td>26135</td>\n",
       "      <td>1</td>\n",
       "      <td>192.0</td>\n",
       "      <td>1.0</td>\n",
       "    </tr>\n",
       "    <tr>\n",
       "      <th>354367</th>\n",
       "      <td>9200.0</td>\n",
       "      <td>bus</td>\n",
       "      <td>manual</td>\n",
       "      <td>102.0</td>\n",
       "      <td>transporter</td>\n",
       "      <td>150000.0</td>\n",
       "      <td>gasoline</td>\n",
       "      <td>volkswagen</td>\n",
       "      <td>no</td>\n",
       "      <td>87439</td>\n",
       "      <td>1</td>\n",
       "      <td>241.0</td>\n",
       "      <td>3.0</td>\n",
       "    </tr>\n",
       "    <tr>\n",
       "      <th>354368</th>\n",
       "      <td>3400.0</td>\n",
       "      <td>wagon</td>\n",
       "      <td>manual</td>\n",
       "      <td>100.0</td>\n",
       "      <td>golf</td>\n",
       "      <td>150000.0</td>\n",
       "      <td>gasoline</td>\n",
       "      <td>volkswagen</td>\n",
       "      <td>other</td>\n",
       "      <td>40764</td>\n",
       "      <td>1</td>\n",
       "      <td>166.0</td>\n",
       "      <td>1.0</td>\n",
       "    </tr>\n",
       "  </tbody>\n",
       "</table>\n",
       "<p>339463 rows × 13 columns</p>\n",
       "</div>"
      ],
      "text/plain": [
       "          Price  VehicleType Gearbox  Power        Model  Kilometer  FuelType  \\\n",
       "0         480.0        other  manual  105.0         golf   150000.0    petrol   \n",
       "1       18300.0        coupe  manual  190.0        other   125000.0  gasoline   \n",
       "2        9800.0          suv    auto  163.0        grand   125000.0  gasoline   \n",
       "3        1500.0        small  manual   75.0         golf   150000.0    petrol   \n",
       "4        3600.0        small  manual   69.0        fabia    90000.0  gasoline   \n",
       "...         ...          ...     ...    ...          ...        ...       ...   \n",
       "354363   1150.0          bus  manual  105.0       zafira   150000.0    petrol   \n",
       "354365   2200.0        other   other  105.0        other    20000.0     other   \n",
       "354366   1199.0  convertible    auto  101.0       fortwo   125000.0    petrol   \n",
       "354367   9200.0          bus  manual  102.0  transporter   150000.0  gasoline   \n",
       "354368   3400.0        wagon  manual  100.0         golf   150000.0  gasoline   \n",
       "\n",
       "                 Brand Repaired  PostalCode  BePowered  RegistratedMonths  \\\n",
       "0           volkswagen    other       70435          0              274.0   \n",
       "1                 audi      yes       66954          1               59.0   \n",
       "2                 jeep    other       90480          1              139.0   \n",
       "3           volkswagen       no       91074          1              178.0   \n",
       "4                skoda       no       60437          1               93.0   \n",
       "...                ...      ...         ...        ...                ...   \n",
       "354363            opel       no       26624          0              193.0   \n",
       "354365  sonstige_autos    other       39576          0              134.0   \n",
       "354366           smart       no       26135          1              192.0   \n",
       "354367      volkswagen       no       87439          1              241.0   \n",
       "354368      volkswagen    other       40764          1              166.0   \n",
       "\n",
       "        ActivityWeeks  \n",
       "0                 2.0  \n",
       "1                 2.0  \n",
       "2                 3.0  \n",
       "3                 0.0  \n",
       "4                 1.0  \n",
       "...               ...  \n",
       "354363            0.0  \n",
       "354365            3.0  \n",
       "354366            1.0  \n",
       "354367            3.0  \n",
       "354368            1.0  \n",
       "\n",
       "[339463 rows x 13 columns]"
      ]
     },
     "execution_count": 27,
     "metadata": {},
     "output_type": "execute_result"
    }
   ],
   "source": [
    "# заменна типа признака на float\n",
    "df['Price'] = df['Price'].astype('float64')\n",
    "df['Power'] = df['Power'].astype('float64')\n",
    "df['Kilometer'] = df['Kilometer'].astype('float64')\n",
    "df"
   ]
  },
  {
   "cell_type": "markdown",
   "metadata": {},
   "source": [
    "#### Кодирование признаков"
   ]
  },
  {
   "cell_type": "markdown",
   "metadata": {},
   "source": [
    "Среди дискретных признаков признаков, которые можно отнести категориальным есть признак `PostalCode`, имеющий очень большое количество уникальных значений. При применении к нему _one-hot_-кодирования пространство признаков увеличиться на несколько тысяч. Вероятно имеет смысл применить к нему другой тип кодирования, например, - частотное. \n",
    "В признаке встречаются два типа почтовых индексов 4-х и 5-ти значные. Можно добавить признак, который бы учитывал эти категории, также можно разбить коды на отдельные зоны и сформировать из них категории для последующего кодирования."
   ]
  },
  {
   "cell_type": "code",
   "execution_count": 28,
   "metadata": {
    "ExecuteTime": {
     "end_time": "2023-03-08T18:32:13.104961Z",
     "start_time": "2023-03-08T18:32:12.702965Z"
    }
   },
   "outputs": [
    {
     "data": {
      "text/plain": [
       "array([5, 4], dtype=int64)"
      ]
     },
     "execution_count": 28,
     "metadata": {},
     "output_type": "execute_result"
    }
   ],
   "source": [
    "# проверка числа символов в почтовом индексе\n",
    "df['PostalCode'].astype('str').apply(lambda x: len(x)).unique()"
   ]
  },
  {
   "cell_type": "code",
   "execution_count": 29,
   "metadata": {
    "ExecuteTime": {
     "end_time": "2023-03-08T18:32:13.120975Z",
     "start_time": "2023-03-08T18:32:13.107969Z"
    }
   },
   "outputs": [],
   "source": [
    "# # частотное кодирование признака\n",
    "# df['PostalCodeFreq'] = df['PostalCode'].map(df.groupby('PostalCode').size() / len(df))\n",
    "\n",
    "# # бинарный признак по длине почтового индекса\n",
    "# df['PostalCodeLen'] = df['PostalCode'].astype('str').apply(lambda x: len(x)) - 4\n",
    "# # признак почтовой зоны\n",
    "# df['PostalCodeArea'] = df['PostalCode'].copy()\n",
    "# df['PostalCodeArea'] = df['PostalCodeArea'].mask(df['PostalCodeLen'] == 0, df['PostalCodeArea'] // 1000)\n",
    "# df['PostalCodeArea'] = df['PostalCodeArea'].mask(df['PostalCodeLen'] == 1, (df['PostalCodeArea'] // 10000)*10)\n",
    "# df.drop(['PostalCode', 'PostalCodeLen'], axis=1, inplace=True)"
   ]
  },
  {
   "cell_type": "markdown",
   "metadata": {},
   "source": [
    "Признак марки автомобиля `Model` хотя и содержит значительное количество уникальных значений, но их всё же не так много, как в `PostalCode`. Для уменьшения признакового пространство его тоже можно попробовать кодировать - например, средней ценой в категории."
   ]
  },
  {
   "cell_type": "code",
   "execution_count": 30,
   "metadata": {
    "ExecuteTime": {
     "end_time": "2023-03-08T18:32:13.216960Z",
     "start_time": "2023-03-08T18:32:13.125968Z"
    }
   },
   "outputs": [],
   "source": [
    "# # кодирование средней ценой\n",
    "# df['Model'] = df['Model'].map(df.groupby('Model')['Price'].mean())"
   ]
  },
  {
   "cell_type": "markdown",
   "metadata": {},
   "source": [
    "Посмотрим какие ещё варианты кодирования существуют. Значительным набором кодировщиком располагает библиотека _Category Encoders_. Часть из них - типа _Target-based Coding_ использует сведения о разметке (цели) датасета и склонна к переобучению, другая - типа _Contrast Coding_ разбивает признак на уровни и подходит, по большей части, только для упорядоченных или частично упорядоченных признаков. \n",
    "Использование кодировщиков первого типа ведёт к неизбежной потери качества прогноза, но не раздувает признакового пространства.\n",
    "К таковым относятся: `GLMMEncoder`, `TargetEncoder`, `JamesSteinEncoder`, `CatBoostEncoder`, `MEstimateEncoder`. Они показывают схожее качество при прогнозировании.\n",
    "Существуют приёмы повышения их качества. Вот [пример](https://towardsdatascience.com/benchmarking-categorical-encoders-9c322bd77ee8). Но так как, одним из ограничений модели является скорость её обучения-прогноза, использовать подобные техники мы не будем. \n",
    "Выберем один из кодировщиков библиотеки _Category Encoders_ - `TargetEncoder` и используем его для кодирования всех категориальных признаков."
   ]
  },
  {
   "cell_type": "code",
   "execution_count": 31,
   "metadata": {
    "ExecuteTime": {
     "end_time": "2023-03-08T18:32:13.424974Z",
     "start_time": "2023-03-08T18:32:13.219968Z"
    }
   },
   "outputs": [
    {
     "data": {
      "text/plain": [
       "['VehicleType',\n",
       " 'Gearbox',\n",
       " 'Model',\n",
       " 'FuelType',\n",
       " 'Brand',\n",
       " 'Repaired',\n",
       " 'PostalCode',\n",
       " 'BePowered']"
      ]
     },
     "execution_count": 31,
     "metadata": {},
     "output_type": "execute_result"
    }
   ],
   "source": [
    "# выделение действительных признаков\n",
    "num_cols = df.drop('Price', axis=1).select_dtypes(include=['float64']).columns.tolist()\n",
    "# выделение строковых и дискретных признаков\n",
    "cat_cols = df.drop('Price', axis=1).select_dtypes(exclude=['float64']).columns.tolist()\n",
    "cat_cols"
   ]
  },
  {
   "cell_type": "markdown",
   "metadata": {},
   "source": [
    "После кодирования категориальных признаков все признаки становятся числовыми. Однако, мы будем применять привычное масштабирование с помощью `StandardScaler` только к изначально числовым, чтобы дополнительно не искажать данные. Кроме того, размер значений кодированных признаков не сильно отличается от нормализованных. Фактически, масштабирование нужно для равномерной скорости обучения различных признаков, что гарантирует достижение минимума функции потерь. Отсутствие масштабирования необязательно сказывается на качестве прогноза."
   ]
  },
  {
   "cell_type": "code",
   "execution_count": 32,
   "metadata": {
    "ExecuteTime": {
     "end_time": "2023-03-08T18:32:13.440967Z",
     "start_time": "2023-03-08T18:32:13.427971Z"
    }
   },
   "outputs": [],
   "source": [
    "# кодирование категориальных признаков с последующей стандартизацией\n",
    "preprocessing = ColumnTransformer(transformers=[('num', StandardScaler(), num_cols), ('cat', TargetEncoder(), cat_cols)])"
   ]
  },
  {
   "cell_type": "markdown",
   "metadata": {},
   "source": [
    "#### Проблема мультиколлинеарности"
   ]
  },
  {
   "cell_type": "code",
   "execution_count": 33,
   "metadata": {
    "ExecuteTime": {
     "end_time": "2023-03-08T18:32:21.917127Z",
     "start_time": "2023-03-08T18:32:13.443966Z"
    }
   },
   "outputs": [
    {
     "name": "stdout",
     "output_type": "stream",
     "text": [
      "interval columns not set, guessing: ['Price', 'Power', 'Kilometer', 'PostalCode', 'BePowered', 'RegistratedMonths', 'ActivityWeeks']\n"
     ]
    },
    {
     "data": {
      "text/html": [
       "<style type=\"text/css\">\n",
       "#T_668f8_row0_col0, #T_668f8_row1_col1, #T_668f8_row2_col2, #T_668f8_row3_col3, #T_668f8_row4_col4, #T_668f8_row4_col7, #T_668f8_row5_col5, #T_668f8_row6_col6, #T_668f8_row7_col4, #T_668f8_row7_col7, #T_668f8_row8_col8, #T_668f8_row9_col9, #T_668f8_row10_col10, #T_668f8_row11_col11, #T_668f8_row12_col12 {\n",
       "  background-color: #023858;\n",
       "  color: #f1f1f1;\n",
       "}\n",
       "#T_668f8_row0_col1, #T_668f8_row1_col0, #T_668f8_row6_col2 {\n",
       "  background-color: #c8cde4;\n",
       "  color: #000000;\n",
       "}\n",
       "#T_668f8_row0_col2, #T_668f8_row2_col6, #T_668f8_row7_col6 {\n",
       "  background-color: #c4cbe3;\n",
       "  color: #000000;\n",
       "}\n",
       "#T_668f8_row0_col3, #T_668f8_row2_col7 {\n",
       "  background-color: #76aad0;\n",
       "  color: #f1f1f1;\n",
       "}\n",
       "#T_668f8_row0_col4 {\n",
       "  background-color: #5c9fc9;\n",
       "  color: #f1f1f1;\n",
       "}\n",
       "#T_668f8_row0_col5, #T_668f8_row5_col0, #T_668f8_row11_col1 {\n",
       "  background-color: #bcc7e1;\n",
       "  color: #000000;\n",
       "}\n",
       "#T_668f8_row0_col6 {\n",
       "  background-color: #c9cee4;\n",
       "  color: #000000;\n",
       "}\n",
       "#T_668f8_row0_col7, #T_668f8_row2_col1 {\n",
       "  background-color: #b3c3de;\n",
       "  color: #000000;\n",
       "}\n",
       "#T_668f8_row0_col8 {\n",
       "  background-color: #b1c2de;\n",
       "  color: #000000;\n",
       "}\n",
       "#T_668f8_row0_col9, #T_668f8_row2_col9, #T_668f8_row3_col5, #T_668f8_row9_col0 {\n",
       "  background-color: #f2ecf5;\n",
       "  color: #000000;\n",
       "}\n",
       "#T_668f8_row0_col10, #T_668f8_row6_col8, #T_668f8_row10_col2 {\n",
       "  background-color: #d6d6e9;\n",
       "  color: #000000;\n",
       "}\n",
       "#T_668f8_row0_col11 {\n",
       "  background-color: #6fa7ce;\n",
       "  color: #f1f1f1;\n",
       "}\n",
       "#T_668f8_row0_col12, #T_668f8_row5_col12, #T_668f8_row8_col12 {\n",
       "  background-color: #fef6fa;\n",
       "  color: #000000;\n",
       "}\n",
       "#T_668f8_row1_col2 {\n",
       "  background-color: #b5c4df;\n",
       "  color: #000000;\n",
       "}\n",
       "#T_668f8_row1_col3, #T_668f8_row4_col5 {\n",
       "  background-color: #8fb4d6;\n",
       "  color: #000000;\n",
       "}\n",
       "#T_668f8_row1_col4 {\n",
       "  background-color: #045585;\n",
       "  color: #f1f1f1;\n",
       "}\n",
       "#T_668f8_row1_col5, #T_668f8_row5_col1, #T_668f8_row9_col4 {\n",
       "  background-color: #e3e0ee;\n",
       "  color: #000000;\n",
       "}\n",
       "#T_668f8_row1_col6 {\n",
       "  background-color: #97b7d7;\n",
       "  color: #000000;\n",
       "}\n",
       "#T_668f8_row1_col7 {\n",
       "  background-color: #4094c3;\n",
       "  color: #f1f1f1;\n",
       "}\n",
       "#T_668f8_row1_col8 {\n",
       "  background-color: #c0c9e2;\n",
       "  color: #000000;\n",
       "}\n",
       "#T_668f8_row1_col9 {\n",
       "  background-color: #f5eff6;\n",
       "  color: #000000;\n",
       "}\n",
       "#T_668f8_row1_col10, #T_668f8_row10_col1 {\n",
       "  background-color: #afc1dd;\n",
       "  color: #000000;\n",
       "}\n",
       "#T_668f8_row1_col11 {\n",
       "  background-color: #bbc7e0;\n",
       "  color: #000000;\n",
       "}\n",
       "#T_668f8_row1_col12, #T_668f8_row9_col12, #T_668f8_row10_col12 {\n",
       "  background-color: #fef6fb;\n",
       "  color: #000000;\n",
       "}\n",
       "#T_668f8_row2_col0 {\n",
       "  background-color: #c1cae2;\n",
       "  color: #000000;\n",
       "}\n",
       "#T_668f8_row2_col3 {\n",
       "  background-color: #81aed2;\n",
       "  color: #f1f1f1;\n",
       "}\n",
       "#T_668f8_row2_col4 {\n",
       "  background-color: #4697c4;\n",
       "  color: #f1f1f1;\n",
       "}\n",
       "#T_668f8_row2_col5, #T_668f8_row6_col9 {\n",
       "  background-color: #f8f1f8;\n",
       "  color: #000000;\n",
       "}\n",
       "#T_668f8_row2_col8, #T_668f8_row3_col1 {\n",
       "  background-color: #91b5d6;\n",
       "  color: #000000;\n",
       "}\n",
       "#T_668f8_row2_col10, #T_668f8_row3_col6, #T_668f8_row6_col3, #T_668f8_row8_col6 {\n",
       "  background-color: #d4d4e8;\n",
       "  color: #000000;\n",
       "}\n",
       "#T_668f8_row2_col11 {\n",
       "  background-color: #efe9f3;\n",
       "  color: #000000;\n",
       "}\n",
       "#T_668f8_row2_col12 {\n",
       "  background-color: #fdf5fa;\n",
       "  color: #000000;\n",
       "}\n",
       "#T_668f8_row3_col0 {\n",
       "  background-color: #78abd0;\n",
       "  color: #f1f1f1;\n",
       "}\n",
       "#T_668f8_row3_col2 {\n",
       "  background-color: #84b0d3;\n",
       "  color: #f1f1f1;\n",
       "}\n",
       "#T_668f8_row3_col4 {\n",
       "  background-color: #0872b1;\n",
       "  color: #f1f1f1;\n",
       "}\n",
       "#T_668f8_row3_col7 {\n",
       "  background-color: #65a3cb;\n",
       "  color: #f1f1f1;\n",
       "}\n",
       "#T_668f8_row3_col8 {\n",
       "  background-color: #eae6f1;\n",
       "  color: #000000;\n",
       "}\n",
       "#T_668f8_row3_col9, #T_668f8_row9_col2, #T_668f8_row9_col10, #T_668f8_row10_col9 {\n",
       "  background-color: #f4eef6;\n",
       "  color: #000000;\n",
       "}\n",
       "#T_668f8_row3_col10, #T_668f8_row10_col3 {\n",
       "  background-color: #79abd0;\n",
       "  color: #f1f1f1;\n",
       "}\n",
       "#T_668f8_row3_col11, #T_668f8_row11_col3 {\n",
       "  background-color: #dad9ea;\n",
       "  color: #000000;\n",
       "}\n",
       "#T_668f8_row3_col12, #T_668f8_row6_col12, #T_668f8_row11_col12, #T_668f8_row12_col0, #T_668f8_row12_col1, #T_668f8_row12_col2, #T_668f8_row12_col3, #T_668f8_row12_col4, #T_668f8_row12_col5, #T_668f8_row12_col6, #T_668f8_row12_col7, #T_668f8_row12_col8, #T_668f8_row12_col9, #T_668f8_row12_col10, #T_668f8_row12_col11 {\n",
       "  background-color: #fff7fb;\n",
       "  color: #000000;\n",
       "}\n",
       "#T_668f8_row4_col0 {\n",
       "  background-color: #509ac6;\n",
       "  color: #f1f1f1;\n",
       "}\n",
       "#T_668f8_row4_col1 {\n",
       "  background-color: #045382;\n",
       "  color: #f1f1f1;\n",
       "}\n",
       "#T_668f8_row4_col2 {\n",
       "  background-color: #3d93c2;\n",
       "  color: #f1f1f1;\n",
       "}\n",
       "#T_668f8_row4_col3 {\n",
       "  background-color: #056fae;\n",
       "  color: #f1f1f1;\n",
       "}\n",
       "#T_668f8_row4_col6 {\n",
       "  background-color: #63a2cb;\n",
       "  color: #f1f1f1;\n",
       "}\n",
       "#T_668f8_row4_col8, #T_668f8_row5_col7 {\n",
       "  background-color: #d1d2e6;\n",
       "  color: #000000;\n",
       "}\n",
       "#T_668f8_row4_col9, #T_668f8_row8_col4 {\n",
       "  background-color: #d9d8ea;\n",
       "  color: #000000;\n",
       "}\n",
       "#T_668f8_row4_col10 {\n",
       "  background-color: #e0deed;\n",
       "  color: #000000;\n",
       "}\n",
       "#T_668f8_row4_col11, #T_668f8_row7_col3 {\n",
       "  background-color: #5ea0ca;\n",
       "  color: #f1f1f1;\n",
       "}\n",
       "#T_668f8_row4_col12, #T_668f8_row5_col10, #T_668f8_row9_col1, #T_668f8_row10_col5 {\n",
       "  background-color: #f6eff7;\n",
       "  color: #000000;\n",
       "}\n",
       "#T_668f8_row5_col2 {\n",
       "  background-color: #f9f2f8;\n",
       "  color: #000000;\n",
       "}\n",
       "#T_668f8_row5_col3, #T_668f8_row11_col2 {\n",
       "  background-color: #f1ebf5;\n",
       "  color: #000000;\n",
       "}\n",
       "#T_668f8_row5_col4 {\n",
       "  background-color: #9cb9d9;\n",
       "  color: #000000;\n",
       "}\n",
       "#T_668f8_row5_col6 {\n",
       "  background-color: #e6e2ef;\n",
       "  color: #000000;\n",
       "}\n",
       "#T_668f8_row5_col8, #T_668f8_row8_col5, #T_668f8_row10_col0 {\n",
       "  background-color: #d7d6e9;\n",
       "  color: #000000;\n",
       "}\n",
       "#T_668f8_row5_col9, #T_668f8_row7_col12 {\n",
       "  background-color: #faf3f9;\n",
       "  color: #000000;\n",
       "}\n",
       "#T_668f8_row5_col11 {\n",
       "  background-color: #b7c5df;\n",
       "  color: #000000;\n",
       "}\n",
       "#T_668f8_row6_col0 {\n",
       "  background-color: #cccfe5;\n",
       "  color: #000000;\n",
       "}\n",
       "#T_668f8_row6_col1 {\n",
       "  background-color: #99b8d8;\n",
       "  color: #000000;\n",
       "}\n",
       "#T_668f8_row6_col4, #T_668f8_row7_col2 {\n",
       "  background-color: #73a9cf;\n",
       "  color: #f1f1f1;\n",
       "}\n",
       "#T_668f8_row6_col5, #T_668f8_row8_col11, #T_668f8_row9_col7 {\n",
       "  background-color: #e7e3f0;\n",
       "  color: #000000;\n",
       "}\n",
       "#T_668f8_row6_col7 {\n",
       "  background-color: #cdd0e5;\n",
       "  color: #000000;\n",
       "}\n",
       "#T_668f8_row6_col10 {\n",
       "  background-color: #dfddec;\n",
       "  color: #000000;\n",
       "}\n",
       "#T_668f8_row6_col11, #T_668f8_row11_col6 {\n",
       "  background-color: #dcdaeb;\n",
       "  color: #000000;\n",
       "}\n",
       "#T_668f8_row7_col0 {\n",
       "  background-color: #acc0dd;\n",
       "  color: #000000;\n",
       "}\n",
       "#T_668f8_row7_col1 {\n",
       "  background-color: #3b92c1;\n",
       "  color: #f1f1f1;\n",
       "}\n",
       "#T_668f8_row7_col5 {\n",
       "  background-color: #cacee5;\n",
       "  color: #000000;\n",
       "}\n",
       "#T_668f8_row7_col8 {\n",
       "  background-color: #e9e5f1;\n",
       "  color: #000000;\n",
       "}\n",
       "#T_668f8_row7_col9 {\n",
       "  background-color: #e1dfed;\n",
       "  color: #000000;\n",
       "}\n",
       "#T_668f8_row7_col10 {\n",
       "  background-color: #ede7f2;\n",
       "  color: #000000;\n",
       "}\n",
       "#T_668f8_row7_col11, #T_668f8_row8_col0 {\n",
       "  background-color: #b0c2de;\n",
       "  color: #000000;\n",
       "}\n",
       "#T_668f8_row8_col1 {\n",
       "  background-color: #bfc9e1;\n",
       "  color: #000000;\n",
       "}\n",
       "#T_668f8_row8_col2 {\n",
       "  background-color: #93b5d6;\n",
       "  color: #000000;\n",
       "}\n",
       "#T_668f8_row8_col3, #T_668f8_row11_col8 {\n",
       "  background-color: #e8e4f0;\n",
       "  color: #000000;\n",
       "}\n",
       "#T_668f8_row8_col7 {\n",
       "  background-color: #eee8f3;\n",
       "  color: #000000;\n",
       "}\n",
       "#T_668f8_row8_col9, #T_668f8_row9_col6, #T_668f8_row9_col8, #T_668f8_row9_col11, #T_668f8_row11_col9 {\n",
       "  background-color: #f7f0f7;\n",
       "  color: #000000;\n",
       "}\n",
       "#T_668f8_row8_col10, #T_668f8_row10_col8 {\n",
       "  background-color: #e4e1ef;\n",
       "  color: #000000;\n",
       "}\n",
       "#T_668f8_row9_col3 {\n",
       "  background-color: #f4edf6;\n",
       "  color: #000000;\n",
       "}\n",
       "#T_668f8_row9_col5 {\n",
       "  background-color: #fbf3f9;\n",
       "  color: #000000;\n",
       "}\n",
       "#T_668f8_row10_col4 {\n",
       "  background-color: #ebe6f2;\n",
       "  color: #000000;\n",
       "}\n",
       "#T_668f8_row10_col6 {\n",
       "  background-color: #dedcec;\n",
       "  color: #000000;\n",
       "}\n",
       "#T_668f8_row10_col7 {\n",
       "  background-color: #f1ebf4;\n",
       "  color: #000000;\n",
       "}\n",
       "#T_668f8_row10_col11, #T_668f8_row11_col10 {\n",
       "  background-color: #f0eaf4;\n",
       "  color: #000000;\n",
       "}\n",
       "#T_668f8_row11_col0 {\n",
       "  background-color: #71a8ce;\n",
       "  color: #f1f1f1;\n",
       "}\n",
       "#T_668f8_row11_col4 {\n",
       "  background-color: #6da6cd;\n",
       "  color: #f1f1f1;\n",
       "}\n",
       "#T_668f8_row11_col5, #T_668f8_row11_col7 {\n",
       "  background-color: #b8c6e0;\n",
       "  color: #000000;\n",
       "}\n",
       "</style>\n",
       "<table id=\"T_668f8\">\n",
       "  <thead>\n",
       "    <tr>\n",
       "      <th class=\"blank level0\" >&nbsp;</th>\n",
       "      <th id=\"T_668f8_level0_col0\" class=\"col_heading level0 col0\" >Price</th>\n",
       "      <th id=\"T_668f8_level0_col1\" class=\"col_heading level0 col1\" >VehicleType</th>\n",
       "      <th id=\"T_668f8_level0_col2\" class=\"col_heading level0 col2\" >Gearbox</th>\n",
       "      <th id=\"T_668f8_level0_col3\" class=\"col_heading level0 col3\" >Power</th>\n",
       "      <th id=\"T_668f8_level0_col4\" class=\"col_heading level0 col4\" >Model</th>\n",
       "      <th id=\"T_668f8_level0_col5\" class=\"col_heading level0 col5\" >Kilometer</th>\n",
       "      <th id=\"T_668f8_level0_col6\" class=\"col_heading level0 col6\" >FuelType</th>\n",
       "      <th id=\"T_668f8_level0_col7\" class=\"col_heading level0 col7\" >Brand</th>\n",
       "      <th id=\"T_668f8_level0_col8\" class=\"col_heading level0 col8\" >Repaired</th>\n",
       "      <th id=\"T_668f8_level0_col9\" class=\"col_heading level0 col9\" >PostalCode</th>\n",
       "      <th id=\"T_668f8_level0_col10\" class=\"col_heading level0 col10\" >BePowered</th>\n",
       "      <th id=\"T_668f8_level0_col11\" class=\"col_heading level0 col11\" >RegistratedMonths</th>\n",
       "      <th id=\"T_668f8_level0_col12\" class=\"col_heading level0 col12\" >ActivityWeeks</th>\n",
       "    </tr>\n",
       "  </thead>\n",
       "  <tbody>\n",
       "    <tr>\n",
       "      <th id=\"T_668f8_level0_row0\" class=\"row_heading level0 row0\" >Price</th>\n",
       "      <td id=\"T_668f8_row0_col0\" class=\"data row0 col0\" >1.000000</td>\n",
       "      <td id=\"T_668f8_row0_col1\" class=\"data row0 col1\" >0.282190</td>\n",
       "      <td id=\"T_668f8_row0_col2\" class=\"data row0 col2\" >0.299521</td>\n",
       "      <td id=\"T_668f8_row0_col3\" class=\"data row0 col3\" >0.494445</td>\n",
       "      <td id=\"T_668f8_row0_col4\" class=\"data row0 col4\" >0.576424</td>\n",
       "      <td id=\"T_668f8_row0_col5\" class=\"data row0 col5\" >0.314386</td>\n",
       "      <td id=\"T_668f8_row0_col6\" class=\"data row0 col6\" >0.270517</td>\n",
       "      <td id=\"T_668f8_row0_col7\" class=\"data row0 col7\" >0.362233</td>\n",
       "      <td id=\"T_668f8_row0_col8\" class=\"data row0 col8\" >0.348914</td>\n",
       "      <td id=\"T_668f8_row0_col9\" class=\"data row0 col9\" >0.092107</td>\n",
       "      <td id=\"T_668f8_row0_col10\" class=\"data row0 col10\" >0.227959</td>\n",
       "      <td id=\"T_668f8_row0_col11\" class=\"data row0 col11\" >0.507897</td>\n",
       "      <td id=\"T_668f8_row0_col12\" class=\"data row0 col12\" >0.007847</td>\n",
       "    </tr>\n",
       "    <tr>\n",
       "      <th id=\"T_668f8_level0_row1\" class=\"row_heading level0 row1\" >VehicleType</th>\n",
       "      <td id=\"T_668f8_row1_col0\" class=\"data row1 col0\" >0.282190</td>\n",
       "      <td id=\"T_668f8_row1_col1\" class=\"data row1 col1\" >1.000000</td>\n",
       "      <td id=\"T_668f8_row1_col2\" class=\"data row1 col2\" >0.342916</td>\n",
       "      <td id=\"T_668f8_row1_col3\" class=\"data row1 col3\" >0.431516</td>\n",
       "      <td id=\"T_668f8_row1_col4\" class=\"data row1 col4\" >0.900442</td>\n",
       "      <td id=\"T_668f8_row1_col5\" class=\"data row1 col5\" >0.173371</td>\n",
       "      <td id=\"T_668f8_row1_col6\" class=\"data row1 col6\" >0.413331</td>\n",
       "      <td id=\"T_668f8_row1_col7\" class=\"data row1 col7\" >0.617946</td>\n",
       "      <td id=\"T_668f8_row1_col8\" class=\"data row1 col8\" >0.306296</td>\n",
       "      <td id=\"T_668f8_row1_col9\" class=\"data row1 col9\" >0.068252</td>\n",
       "      <td id=\"T_668f8_row1_col10\" class=\"data row1 col10\" >0.352783</td>\n",
       "      <td id=\"T_668f8_row1_col11\" class=\"data row1 col11\" >0.315534</td>\n",
       "      <td id=\"T_668f8_row1_col12\" class=\"data row1 col12\" >0.007677</td>\n",
       "    </tr>\n",
       "    <tr>\n",
       "      <th id=\"T_668f8_level0_row2\" class=\"row_heading level0 row2\" >Gearbox</th>\n",
       "      <td id=\"T_668f8_row2_col0\" class=\"data row2 col0\" >0.299521</td>\n",
       "      <td id=\"T_668f8_row2_col1\" class=\"data row2 col1\" >0.342916</td>\n",
       "      <td id=\"T_668f8_row2_col2\" class=\"data row2 col2\" >1.000000</td>\n",
       "      <td id=\"T_668f8_row2_col3\" class=\"data row2 col3\" >0.467905</td>\n",
       "      <td id=\"T_668f8_row2_col4\" class=\"data row2 col4\" >0.616653</td>\n",
       "      <td id=\"T_668f8_row2_col5\" class=\"data row2 col5\" >0.055998</td>\n",
       "      <td id=\"T_668f8_row2_col6\" class=\"data row2 col6\" >0.288353</td>\n",
       "      <td id=\"T_668f8_row2_col7\" class=\"data row2 col7\" >0.511648</td>\n",
       "      <td id=\"T_668f8_row2_col8\" class=\"data row2 col8\" >0.434521</td>\n",
       "      <td id=\"T_668f8_row2_col9\" class=\"data row2 col9\" >0.087365</td>\n",
       "      <td id=\"T_668f8_row2_col10\" class=\"data row2 col10\" >0.238002</td>\n",
       "      <td id=\"T_668f8_row2_col11\" class=\"data row2 col11\" >0.106647</td>\n",
       "      <td id=\"T_668f8_row2_col12\" class=\"data row2 col12\" >0.017331</td>\n",
       "    </tr>\n",
       "    <tr>\n",
       "      <th id=\"T_668f8_level0_row3\" class=\"row_heading level0 row3\" >Power</th>\n",
       "      <td id=\"T_668f8_row3_col0\" class=\"data row3 col0\" >0.494445</td>\n",
       "      <td id=\"T_668f8_row3_col1\" class=\"data row3 col1\" >0.431516</td>\n",
       "      <td id=\"T_668f8_row3_col2\" class=\"data row3 col2\" >0.467905</td>\n",
       "      <td id=\"T_668f8_row3_col3\" class=\"data row3 col3\" >1.000000</td>\n",
       "      <td id=\"T_668f8_row3_col4\" class=\"data row3 col4\" >0.757658</td>\n",
       "      <td id=\"T_668f8_row3_col5\" class=\"data row3 col5\" >0.091965</td>\n",
       "      <td id=\"T_668f8_row3_col6\" class=\"data row3 col6\" >0.232152</td>\n",
       "      <td id=\"T_668f8_row3_col7\" class=\"data row3 col7\" >0.544424</td>\n",
       "      <td id=\"T_668f8_row3_col8\" class=\"data row3 col8\" >0.140683</td>\n",
       "      <td id=\"T_668f8_row3_col9\" class=\"data row3 col9\" >0.075045</td>\n",
       "      <td id=\"T_668f8_row3_col10\" class=\"data row3 col10\" >0.487618</td>\n",
       "      <td id=\"T_668f8_row3_col11\" class=\"data row3 col11\" >0.206844</td>\n",
       "      <td id=\"T_668f8_row3_col12\" class=\"data row3 col12\" >0.000000</td>\n",
       "    </tr>\n",
       "    <tr>\n",
       "      <th id=\"T_668f8_level0_row4\" class=\"row_heading level0 row4\" >Model</th>\n",
       "      <td id=\"T_668f8_row4_col0\" class=\"data row4 col0\" >0.576424</td>\n",
       "      <td id=\"T_668f8_row4_col1\" class=\"data row4 col1\" >0.900442</td>\n",
       "      <td id=\"T_668f8_row4_col2\" class=\"data row4 col2\" >0.616653</td>\n",
       "      <td id=\"T_668f8_row4_col3\" class=\"data row4 col3\" >0.757658</td>\n",
       "      <td id=\"T_668f8_row4_col4\" class=\"data row4 col4\" >1.000000</td>\n",
       "      <td id=\"T_668f8_row4_col5\" class=\"data row4 col5\" >0.436778</td>\n",
       "      <td id=\"T_668f8_row4_col6\" class=\"data row4 col6\" >0.532496</td>\n",
       "      <td id=\"T_668f8_row4_col7\" class=\"data row4 col7\" >0.997824</td>\n",
       "      <td id=\"T_668f8_row4_col8\" class=\"data row4 col8\" >0.256172</td>\n",
       "      <td id=\"T_668f8_row4_col9\" class=\"data row4 col9\" >0.215173</td>\n",
       "      <td id=\"T_668f8_row4_col10\" class=\"data row4 col10\" >0.182126</td>\n",
       "      <td id=\"T_668f8_row4_col11\" class=\"data row4 col11\" >0.544667</td>\n",
       "      <td id=\"T_668f8_row4_col12\" class=\"data row4 col12\" >0.060826</td>\n",
       "    </tr>\n",
       "    <tr>\n",
       "      <th id=\"T_668f8_level0_row5\" class=\"row_heading level0 row5\" >Kilometer</th>\n",
       "      <td id=\"T_668f8_row5_col0\" class=\"data row5 col0\" >0.314386</td>\n",
       "      <td id=\"T_668f8_row5_col1\" class=\"data row5 col1\" >0.173371</td>\n",
       "      <td id=\"T_668f8_row5_col2\" class=\"data row5 col2\" >0.055998</td>\n",
       "      <td id=\"T_668f8_row5_col3\" class=\"data row5 col3\" >0.091965</td>\n",
       "      <td id=\"T_668f8_row5_col4\" class=\"data row5 col4\" >0.436778</td>\n",
       "      <td id=\"T_668f8_row5_col5\" class=\"data row5 col5\" >1.000000</td>\n",
       "      <td id=\"T_668f8_row5_col6\" class=\"data row5 col6\" >0.152833</td>\n",
       "      <td id=\"T_668f8_row5_col7\" class=\"data row5 col7\" >0.274361</td>\n",
       "      <td id=\"T_668f8_row5_col8\" class=\"data row5 col8\" >0.227289</td>\n",
       "      <td id=\"T_668f8_row5_col9\" class=\"data row5 col9\" >0.038828</td>\n",
       "      <td id=\"T_668f8_row5_col10\" class=\"data row5 col10\" >0.066500</td>\n",
       "      <td id=\"T_668f8_row5_col11\" class=\"data row5 col11\" >0.327290</td>\n",
       "      <td id=\"T_668f8_row5_col12\" class=\"data row5 col12\" >0.008047</td>\n",
       "    </tr>\n",
       "    <tr>\n",
       "      <th id=\"T_668f8_level0_row6\" class=\"row_heading level0 row6\" >FuelType</th>\n",
       "      <td id=\"T_668f8_row6_col0\" class=\"data row6 col0\" >0.270517</td>\n",
       "      <td id=\"T_668f8_row6_col1\" class=\"data row6 col1\" >0.413331</td>\n",
       "      <td id=\"T_668f8_row6_col2\" class=\"data row6 col2\" >0.288353</td>\n",
       "      <td id=\"T_668f8_row6_col3\" class=\"data row6 col3\" >0.232152</td>\n",
       "      <td id=\"T_668f8_row6_col4\" class=\"data row6 col4\" >0.532496</td>\n",
       "      <td id=\"T_668f8_row6_col5\" class=\"data row6 col5\" >0.152833</td>\n",
       "      <td id=\"T_668f8_row6_col6\" class=\"data row6 col6\" >1.000000</td>\n",
       "      <td id=\"T_668f8_row6_col7\" class=\"data row6 col7\" >0.285733</td>\n",
       "      <td id=\"T_668f8_row6_col8\" class=\"data row6 col8\" >0.232625</td>\n",
       "      <td id=\"T_668f8_row6_col9\" class=\"data row6 col9\" >0.053879</td>\n",
       "      <td id=\"T_668f8_row6_col10\" class=\"data row6 col10\" >0.190109</td>\n",
       "      <td id=\"T_668f8_row6_col11\" class=\"data row6 col11\" >0.197399</td>\n",
       "      <td id=\"T_668f8_row6_col12\" class=\"data row6 col12\" >0.000000</td>\n",
       "    </tr>\n",
       "    <tr>\n",
       "      <th id=\"T_668f8_level0_row7\" class=\"row_heading level0 row7\" >Brand</th>\n",
       "      <td id=\"T_668f8_row7_col0\" class=\"data row7 col0\" >0.362233</td>\n",
       "      <td id=\"T_668f8_row7_col1\" class=\"data row7 col1\" >0.617946</td>\n",
       "      <td id=\"T_668f8_row7_col2\" class=\"data row7 col2\" >0.511648</td>\n",
       "      <td id=\"T_668f8_row7_col3\" class=\"data row7 col3\" >0.544424</td>\n",
       "      <td id=\"T_668f8_row7_col4\" class=\"data row7 col4\" >0.997824</td>\n",
       "      <td id=\"T_668f8_row7_col5\" class=\"data row7 col5\" >0.274361</td>\n",
       "      <td id=\"T_668f8_row7_col6\" class=\"data row7 col6\" >0.285733</td>\n",
       "      <td id=\"T_668f8_row7_col7\" class=\"data row7 col7\" >1.000000</td>\n",
       "      <td id=\"T_668f8_row7_col8\" class=\"data row7 col8\" >0.145989</td>\n",
       "      <td id=\"T_668f8_row7_col9\" class=\"data row7 col9\" >0.179494</td>\n",
       "      <td id=\"T_668f8_row7_col10\" class=\"data row7 col10\" >0.128644</td>\n",
       "      <td id=\"T_668f8_row7_col11\" class=\"data row7 col11\" >0.347057</td>\n",
       "      <td id=\"T_668f8_row7_col12\" class=\"data row7 col12\" >0.034721</td>\n",
       "    </tr>\n",
       "    <tr>\n",
       "      <th id=\"T_668f8_level0_row8\" class=\"row_heading level0 row8\" >Repaired</th>\n",
       "      <td id=\"T_668f8_row8_col0\" class=\"data row8 col0\" >0.348914</td>\n",
       "      <td id=\"T_668f8_row8_col1\" class=\"data row8 col1\" >0.306296</td>\n",
       "      <td id=\"T_668f8_row8_col2\" class=\"data row8 col2\" >0.434521</td>\n",
       "      <td id=\"T_668f8_row8_col3\" class=\"data row8 col3\" >0.140683</td>\n",
       "      <td id=\"T_668f8_row8_col4\" class=\"data row8 col4\" >0.256172</td>\n",
       "      <td id=\"T_668f8_row8_col5\" class=\"data row8 col5\" >0.227289</td>\n",
       "      <td id=\"T_668f8_row8_col6\" class=\"data row8 col6\" >0.232625</td>\n",
       "      <td id=\"T_668f8_row8_col7\" class=\"data row8 col7\" >0.145989</td>\n",
       "      <td id=\"T_668f8_row8_col8\" class=\"data row8 col8\" >1.000000</td>\n",
       "      <td id=\"T_668f8_row8_col9\" class=\"data row8 col9\" >0.062164</td>\n",
       "      <td id=\"T_668f8_row8_col10\" class=\"data row8 col10\" >0.168251</td>\n",
       "      <td id=\"T_668f8_row8_col11\" class=\"data row8 col11\" >0.148783</td>\n",
       "      <td id=\"T_668f8_row8_col12\" class=\"data row8 col12\" >0.009021</td>\n",
       "    </tr>\n",
       "    <tr>\n",
       "      <th id=\"T_668f8_level0_row9\" class=\"row_heading level0 row9\" >PostalCode</th>\n",
       "      <td id=\"T_668f8_row9_col0\" class=\"data row9 col0\" >0.092107</td>\n",
       "      <td id=\"T_668f8_row9_col1\" class=\"data row9 col1\" >0.068252</td>\n",
       "      <td id=\"T_668f8_row9_col2\" class=\"data row9 col2\" >0.087365</td>\n",
       "      <td id=\"T_668f8_row9_col3\" class=\"data row9 col3\" >0.075045</td>\n",
       "      <td id=\"T_668f8_row9_col4\" class=\"data row9 col4\" >0.215173</td>\n",
       "      <td id=\"T_668f8_row9_col5\" class=\"data row9 col5\" >0.038828</td>\n",
       "      <td id=\"T_668f8_row9_col6\" class=\"data row9 col6\" >0.053879</td>\n",
       "      <td id=\"T_668f8_row9_col7\" class=\"data row9 col7\" >0.179494</td>\n",
       "      <td id=\"T_668f8_row9_col8\" class=\"data row9 col8\" >0.062164</td>\n",
       "      <td id=\"T_668f8_row9_col9\" class=\"data row9 col9\" >1.000000</td>\n",
       "      <td id=\"T_668f8_row9_col10\" class=\"data row9 col10\" >0.078015</td>\n",
       "      <td id=\"T_668f8_row9_col11\" class=\"data row9 col11\" >0.055309</td>\n",
       "      <td id=\"T_668f8_row9_col12\" class=\"data row9 col12\" >0.004585</td>\n",
       "    </tr>\n",
       "    <tr>\n",
       "      <th id=\"T_668f8_level0_row10\" class=\"row_heading level0 row10\" >BePowered</th>\n",
       "      <td id=\"T_668f8_row10_col0\" class=\"data row10 col0\" >0.227959</td>\n",
       "      <td id=\"T_668f8_row10_col1\" class=\"data row10 col1\" >0.352783</td>\n",
       "      <td id=\"T_668f8_row10_col2\" class=\"data row10 col2\" >0.238002</td>\n",
       "      <td id=\"T_668f8_row10_col3\" class=\"data row10 col3\" >0.487618</td>\n",
       "      <td id=\"T_668f8_row10_col4\" class=\"data row10 col4\" >0.182126</td>\n",
       "      <td id=\"T_668f8_row10_col5\" class=\"data row10 col5\" >0.066500</td>\n",
       "      <td id=\"T_668f8_row10_col6\" class=\"data row10 col6\" >0.190109</td>\n",
       "      <td id=\"T_668f8_row10_col7\" class=\"data row10 col7\" >0.128644</td>\n",
       "      <td id=\"T_668f8_row10_col8\" class=\"data row10 col8\" >0.168251</td>\n",
       "      <td id=\"T_668f8_row10_col9\" class=\"data row10 col9\" >0.078015</td>\n",
       "      <td id=\"T_668f8_row10_col10\" class=\"data row10 col10\" >1.000000</td>\n",
       "      <td id=\"T_668f8_row10_col11\" class=\"data row10 col11\" >0.103420</td>\n",
       "      <td id=\"T_668f8_row10_col12\" class=\"data row10 col12\" >0.006160</td>\n",
       "    </tr>\n",
       "    <tr>\n",
       "      <th id=\"T_668f8_level0_row11\" class=\"row_heading level0 row11\" >RegistratedMonths</th>\n",
       "      <td id=\"T_668f8_row11_col0\" class=\"data row11 col0\" >0.507897</td>\n",
       "      <td id=\"T_668f8_row11_col1\" class=\"data row11 col1\" >0.315534</td>\n",
       "      <td id=\"T_668f8_row11_col2\" class=\"data row11 col2\" >0.106647</td>\n",
       "      <td id=\"T_668f8_row11_col3\" class=\"data row11 col3\" >0.206844</td>\n",
       "      <td id=\"T_668f8_row11_col4\" class=\"data row11 col4\" >0.544667</td>\n",
       "      <td id=\"T_668f8_row11_col5\" class=\"data row11 col5\" >0.327290</td>\n",
       "      <td id=\"T_668f8_row11_col6\" class=\"data row11 col6\" >0.197399</td>\n",
       "      <td id=\"T_668f8_row11_col7\" class=\"data row11 col7\" >0.347057</td>\n",
       "      <td id=\"T_668f8_row11_col8\" class=\"data row11 col8\" >0.148783</td>\n",
       "      <td id=\"T_668f8_row11_col9\" class=\"data row11 col9\" >0.055309</td>\n",
       "      <td id=\"T_668f8_row11_col10\" class=\"data row11 col10\" >0.103420</td>\n",
       "      <td id=\"T_668f8_row11_col11\" class=\"data row11 col11\" >1.000000</td>\n",
       "      <td id=\"T_668f8_row11_col12\" class=\"data row11 col12\" >0.000000</td>\n",
       "    </tr>\n",
       "    <tr>\n",
       "      <th id=\"T_668f8_level0_row12\" class=\"row_heading level0 row12\" >ActivityWeeks</th>\n",
       "      <td id=\"T_668f8_row12_col0\" class=\"data row12 col0\" >0.007847</td>\n",
       "      <td id=\"T_668f8_row12_col1\" class=\"data row12 col1\" >0.007677</td>\n",
       "      <td id=\"T_668f8_row12_col2\" class=\"data row12 col2\" >0.017331</td>\n",
       "      <td id=\"T_668f8_row12_col3\" class=\"data row12 col3\" >0.000000</td>\n",
       "      <td id=\"T_668f8_row12_col4\" class=\"data row12 col4\" >0.060826</td>\n",
       "      <td id=\"T_668f8_row12_col5\" class=\"data row12 col5\" >0.008047</td>\n",
       "      <td id=\"T_668f8_row12_col6\" class=\"data row12 col6\" >0.000000</td>\n",
       "      <td id=\"T_668f8_row12_col7\" class=\"data row12 col7\" >0.034721</td>\n",
       "      <td id=\"T_668f8_row12_col8\" class=\"data row12 col8\" >0.009021</td>\n",
       "      <td id=\"T_668f8_row12_col9\" class=\"data row12 col9\" >0.004585</td>\n",
       "      <td id=\"T_668f8_row12_col10\" class=\"data row12 col10\" >0.006160</td>\n",
       "      <td id=\"T_668f8_row12_col11\" class=\"data row12 col11\" >0.000000</td>\n",
       "      <td id=\"T_668f8_row12_col12\" class=\"data row12 col12\" >1.000000</td>\n",
       "    </tr>\n",
       "  </tbody>\n",
       "</table>\n"
      ],
      "text/plain": [
       "<pandas.io.formats.style.Styler at 0x263b2803e80>"
      ]
     },
     "execution_count": 33,
     "metadata": {},
     "output_type": "execute_result"
    }
   ],
   "source": [
    "# корреляция числовых и категориальных признаков\n",
    "df.phik_matrix().style.background_gradient(cmap='PuBu')"
   ]
  },
  {
   "cell_type": "markdown",
   "metadata": {},
   "source": [
    "Оценка степени корреляции признаков выполнялась на основе коэффициента _Phik (𝜙k)_, так как привычный коэффициент Пирсона не позволяет оценивать категориальные признаки. \n",
    "Изначально признак `Model` был сильно коррелирован и с признаком `Brand` и с признаком `VehicleType` и являлся очевидным кандидатом на удаление, но его связь с целевым не настолько сильна, чтобы подозревать наличие мультиколлинеарности.  \n",
    "\n",
    "__Замечание:__ Картина корреляции отражаете состояние до кодирования категориальных признаков ⚠."
   ]
  },
  {
   "cell_type": "markdown",
   "metadata": {},
   "source": [
    "#### Создание выборок "
   ]
  },
  {
   "cell_type": "code",
   "execution_count": 34,
   "metadata": {
    "ExecuteTime": {
     "end_time": "2023-03-08T18:32:22.220126Z",
     "start_time": "2023-03-08T18:32:21.920137Z"
    }
   },
   "outputs": [],
   "source": [
    "# создание выборок\n",
    "features_train, features_test, target_train, target_test = train_test_split(\n",
    "    df.drop('Price', axis=1), df['Price'], test_size=0.2, random_state=42\n",
    ")"
   ]
  },
  {
   "cell_type": "markdown",
   "metadata": {},
   "source": [
    "## Обучение моделей"
   ]
  },
  {
   "cell_type": "markdown",
   "metadata": {},
   "source": [
    "Обучим несколько моделей, с бустингом и без. Для каждой модели попробуем разные гиперпараметры."
   ]
  },
  {
   "cell_type": "code",
   "execution_count": 35,
   "metadata": {
    "ExecuteTime": {
     "end_time": "2023-03-08T18:32:22.236131Z",
     "start_time": "2023-03-08T18:32:22.227144Z"
    }
   },
   "outputs": [],
   "source": [
    "# # выделение действительных признаков\n",
    "# num_cols = features_train.select_dtypes(include=['float64']).columns.tolist()\n",
    "# # признаки, которые можно отнести к категориальным\n",
    "# cat_cols = features_train.select_dtypes(exclude=['float64']).columns.tolist()\n",
    "\n",
    "# # раздельное кодирование признаков и последующим объединением в плотную матрицу\n",
    "# preprocessing = ColumnTransformer(\n",
    "#     [('num', StandardScaler(), num_cols), ('cat', OneHotEncoder(handle_unknown='ignore', sparse_output=True), cat_cols)]\n",
    "# )"
   ]
  },
  {
   "cell_type": "markdown",
   "metadata": {},
   "source": [
    "При подборе гиперпараметров мы ограничены двумя взаимоисключающими условиями: высокое качество прогноза при высокой скорости обучения. Как наиболее перспективные мы рассматриваем алгоритмы на решающих деревьях и вынуждены ограничить число эстиматоров (в пределах 300), так этот показатель в наибольшей степени влияет на скорость обучения. Чтобы избежать переобучения, также стоит ограничить глубину деревьев.  \n",
    "Сначала запустим каждый рассматриваемых алгоритмов на настройках по умолчанию, и оценим возможность дообучения моделей."
   ]
  },
  {
   "cell_type": "markdown",
   "metadata": {},
   "source": [
    "### LGBMRegressor"
   ]
  },
  {
   "cell_type": "code",
   "execution_count": 36,
   "metadata": {
    "ExecuteTime": {
     "end_time": "2023-03-08T18:32:38.633024Z",
     "start_time": "2023-03-08T18:32:22.238129Z"
    }
   },
   "outputs": [
    {
     "name": "stdout",
     "output_type": "stream",
     "text": [
      "Точность прогноза для LGBMRegressor по RSME с настройками по умолчанию равна 1694.6.\n"
     ]
    }
   ],
   "source": [
    "# cv для LGBMRegressor с базовыми настройками\n",
    "lgbmr_cv = GridSearchCV(estimator=Pipeline(steps=[('prep', preprocessing), ('reg', LGBMRegressor(random_state=42))]),\n",
    "                         param_grid={},\n",
    "                         scoring='neg_root_mean_squared_error',\n",
    "                         n_jobs=-1\n",
    "                        )\n",
    "lgbmr_cv.fit(X=features_train, y=target_train)\n",
    "print('Точность прогноза для LGBMRegressor по RSME с настройками по умолчанию равна %.1f.' %(- lgbmr_cv.best_score_))"
   ]
  },
  {
   "cell_type": "code",
   "execution_count": 37,
   "metadata": {
    "ExecuteTime": {
     "end_time": "2023-03-08T18:32:38.649032Z",
     "start_time": "2023-03-08T18:32:38.635028Z"
    }
   },
   "outputs": [],
   "source": [
    "# # подбор гиперпараметров для LGBMRegressor\n",
    "# pipe = Pipeline(steps=[('prep', preprocessing), ('reg', LGBMRegressor(random_state=42))])\n",
    "# param_dist = {\n",
    "#               'reg__boosting_type':optuna.distributions.CategoricalDistribution(['gbdt', 'dart', 'goss']),\n",
    "#               'reg__learning_rate': optuna.distributions.FloatDistribution(0.1, 0.5, 0.05),\n",
    "#               'reg__n_estimators': optuna.distributions.IntDistribution(100, 300, 30),\n",
    "#               'reg__num_leaves': optuna.distributions.IntDistribution(10, 200, 15),\n",
    "#               'reg__max_depth': optuna.distributions.IntDistribution(6, 20, 2),\n",
    "#               'reg__subsample_for_bin': optuna.distributions.IntDistribution(1000, 200000, 1000),\n",
    "#               'reg__min_child_samples': optuna.distributions.IntDistribution(100, 500, 50),\n",
    "#               'reg__random_state': optuna.distributions.IntDistribution(1, 1000, 1),\n",
    "#               'reg__colsample_bytree': optuna.distributions.FloatDistribution(0.2, 1, 0.1)\n",
    "#              }\n",
    "# search_cv = OptunaSearchCV(estimator=pipe,\n",
    "#                            param_distributions=param_dist,\n",
    "#                            scoring='neg_root_mean_squared_error',\n",
    "#                            verbose=-1,\n",
    "#                            n_jobs=-1,\n",
    "#                            n_trials=100,\n",
    "#                            cv=3,\n",
    "#                            random_state=42\n",
    "#                           )\n",
    "# search_cv.fit(X=features_train, y=target_train)\n",
    "# print(- search_cv.best_score_, search_cv.best_estimator_)"
   ]
  },
  {
   "cell_type": "markdown",
   "metadata": {},
   "source": [
    "Набор гиперпараметров для `LGBMRegressor`, найденных с помощью оптимизатора _Optuna_:  \n",
    "~~~\n",
    "colsample_bytree=0.5884359396877478,\n",
    "learning_rate=0.15120957379246172,\n",
    "max_depth=17,\n",
    "min_child_samples=100,\n",
    "n_estimators=238,\n",
    "num_leaves=200,\n",
    "random_state=549,\n",
    "subsample_for_bin=2985\n",
    "~~~\n",
    "Точность прогноза по _RSME_ для найденных параметров составила 1560.169."
   ]
  },
  {
   "cell_type": "markdown",
   "metadata": {},
   "source": [
    "### ElasticNet"
   ]
  },
  {
   "cell_type": "code",
   "execution_count": 38,
   "metadata": {
    "ExecuteTime": {
     "end_time": "2023-03-08T18:32:48.410645Z",
     "start_time": "2023-03-08T18:32:38.660031Z"
    }
   },
   "outputs": [
    {
     "name": "stdout",
     "output_type": "stream",
     "text": [
      "Точность прогноза для ElasticNet по RSME с настройками по умолчанию равна 2898.976.\n"
     ]
    }
   ],
   "source": [
    "# cv для ElasticNet с базовыми настройками\n",
    "elnt_cv = GridSearchCV(estimator=Pipeline(steps=[('prep', preprocessing), ('reg', ElasticNet(random_state=42))]),\n",
    "                         param_grid={},\n",
    "                         scoring='neg_root_mean_squared_error',\n",
    "                         n_jobs=-1\n",
    "                        )\n",
    "elnt_cv.fit(X=features_train, y=target_train)\n",
    "print('Точность прогноза для ElasticNet по RSME с настройками по умолчанию равна %.3f.' %(- elnt_cv.best_score_))"
   ]
  },
  {
   "cell_type": "code",
   "execution_count": 39,
   "metadata": {
    "ExecuteTime": {
     "end_time": "2023-03-08T18:32:48.442639Z",
     "start_time": "2023-03-08T18:32:48.414653Z"
    }
   },
   "outputs": [],
   "source": [
    "# # подбор гиперпараметров для ElasticNet\n",
    "# pipe = Pipeline(steps=[('prep', preprocessing), ('reg', ElasticNet(random_state=42))])\n",
    "# param_dist = {\n",
    "#     'reg__alpha': optuna.distributions.FloatDistribution(0.1, 1, 0.1),\n",
    "#     'reg__l1_ratio': optuna.distributions.FloatDistribution(0.1, 1, 0.1),\n",
    "#     'reg__tol': optuna.distributions.FloatDistribution(0.00001, 0.001, 0.00005)\n",
    "# }\n",
    "# search_cv = OptunaSearchCV(estimator=pipe,\n",
    "#                            param_distributions=param_dist,\n",
    "#                            scoring='neg_root_mean_squared_error',\n",
    "#                            n_jobs=-1,\n",
    "#                            cv=3,\n",
    "#                            random_state=42\n",
    "#                         )\n",
    "# search_cv.fit(X=features_train, y=target_train)\n",
    "# print(- search_cv.best_score_, search_cv.best_estimator_)"
   ]
  },
  {
   "cell_type": "markdown",
   "metadata": {
    "ExecuteTime": {
     "start_time": "2023-03-06T05:27:37.419Z"
    }
   },
   "source": [
    "Набор гиперпараметров для `ElasticNet`, найденных с помощью оптимизатора _Optuna_:  \n",
    "~~~\n",
    "alpha=0.5038106785837163,\n",
    "l1_ratio=0.8598335466493537,\n",
    "random_state=42,\n",
    "tol=0.0001721991337483358\n",
    "~~~  \n",
    "Точность прогноза по _RSME_ для найденных параметров составила 2796.605."
   ]
  },
  {
   "cell_type": "markdown",
   "metadata": {},
   "source": [
    "### RandomForestRegressor"
   ]
  },
  {
   "cell_type": "code",
   "execution_count": 40,
   "metadata": {
    "ExecuteTime": {
     "end_time": "2023-03-08T18:32:48.600643Z",
     "start_time": "2023-03-08T18:32:48.446644Z"
    }
   },
   "outputs": [],
   "source": [
    "# # cv для LinearSVR с базовыми настройками\n",
    "# rfr_cv = GridSearchCV(estimator=Pipeline(steps=[('prep', preprocessing), ('reg', RandomForestRegressor(random_state=42))]),\n",
    "#                          param_grid={},\n",
    "#                          scoring='neg_root_mean_squared_error',\n",
    "#                          n_jobs=-1\n",
    "#                         )\n",
    "# rfr_cv.fit(X=features_train, y=target_train)\n",
    "# print('Точность прогноза для RandomForestRegressor по RSME с настройками по умолчанию равна %.3f.' %(- rfr_cv.best_score_))"
   ]
  },
  {
   "cell_type": "code",
   "execution_count": 41,
   "metadata": {
    "ExecuteTime": {
     "end_time": "2023-03-08T18:32:48.742951Z",
     "start_time": "2023-03-08T18:32:48.603645Z"
    }
   },
   "outputs": [],
   "source": [
    "# # подбор гиперпараметров для RandomForestRegressor\n",
    "# pipe = Pipeline(steps=[('prep', preprocessing), ('reg', RandomForestRegressor(random_state=42))])\n",
    "# param_dist = {\n",
    "#     'reg__n_estimators': optuna.distributions.IntDistribution(50, 300, 30),\n",
    "#     'reg__max_depth': optuna.distributions.IntDistribution(4, 20, 2),    \n",
    "#     'reg__min_samples_split': optuna.distributions.IntDistribution(2, 10, 2),\n",
    "#     'reg__min_samples_leaf': optuna.distributions.IntDistribution(1, 10, 2),\n",
    "#     'reg__min_impurity_decrease': optuna.distributions.FloatDistribution(0.1, 1, 0.1),\n",
    "#     'reg__ccp_alpha': optuna.distributions.FloatDistribution(0.1, 1, 0.1)\n",
    "# }\n",
    "# search_cv = OptunaSearchCV(estimator=pipe,\n",
    "#                            param_distributions=param_dist,\n",
    "#                            scoring='neg_root_mean_squared_error',\n",
    "#                            n_jobs=-1,\n",
    "#                            cv=3,\n",
    "#                            random_state=42\n",
    "#                         )\n",
    "# search_cv.fit(X=features_train, y=target_train)\n",
    "# print(- search_cv.best_score_, search_cv.best_estimator_)"
   ]
  },
  {
   "cell_type": "markdown",
   "metadata": {},
   "source": [
    "Набор гиперпараметров для `RandomForestRegressor`, найденных с помощью оптимизатора _Optuna_:  \n",
    "~~~\n",
    "ccp_alpha=0.3979111741800548,\n",
    "max_depth=20,\n",
    "min_impurity_decrease=0.3703796916540737,\n",
    "min_samples_split=10, \n",
    "n_estimators=125,\n",
    "random_state=42\n",
    "~~~  \n",
    "Точность прогноза по _RSME_ для найденных параметров составила 1607.985. Модель `RandomForestRegressor` склонна к переобучению и часто обучается на всю доступную глубину дерева."
   ]
  },
  {
   "cell_type": "markdown",
   "metadata": {},
   "source": [
    "### KNeighborsRegressor"
   ]
  },
  {
   "cell_type": "code",
   "execution_count": 42,
   "metadata": {
    "ExecuteTime": {
     "end_time": "2023-03-08T18:33:12.941738Z",
     "start_time": "2023-03-08T18:32:48.746938Z"
    }
   },
   "outputs": [
    {
     "name": "stdout",
     "output_type": "stream",
     "text": [
      "Точность прогноза для KNeighborsRegressor по RSME с настройками по умолчанию равна 3633.995.\n"
     ]
    }
   ],
   "source": [
    "# cv для KNeighborsRegressor с базовыми настройками\n",
    "rfr_cv = GridSearchCV(estimator=Pipeline(steps=[('prep', preprocessing), ('reg', KNeighborsRegressor())]),\n",
    "                         param_grid={},\n",
    "                         scoring='neg_root_mean_squared_error',\n",
    "                         n_jobs=-1\n",
    "                        )\n",
    "rfr_cv.fit(X=features_train, y=target_train)\n",
    "print('Точность прогноза для KNeighborsRegressor по RSME с настройками по умолчанию равна %.3f.' %(- rfr_cv.best_score_))"
   ]
  },
  {
   "cell_type": "code",
   "execution_count": 43,
   "metadata": {
    "ExecuteTime": {
     "end_time": "2023-03-08T18:33:12.957737Z",
     "start_time": "2023-03-08T18:33:12.946744Z"
    }
   },
   "outputs": [],
   "source": [
    "# # подбор гиперпараметров для KNeighborsRegressor\n",
    "# pipe = Pipeline(steps=[('prep', preprocessing), ('reg', KNeighborsRegressor())])\n",
    "# param_dist = {\n",
    "#     'reg__n_neighbors': optuna.distributions.IntDistribution(2, 10, 1),\n",
    "#     'reg__weights':optuna.distributions.CategoricalDistribution(['uniform', 'distance']),\n",
    "#     'reg__leaf_size': optuna.distributions.IntDistribution(10, 100, 5)\n",
    "# }\n",
    "# search_cv = OptunaSearchCV(estimator=pipe,\n",
    "#                            param_distributions=param_dist,\n",
    "#                            scoring='neg_root_mean_squared_error',\n",
    "#                            n_jobs=-1,\n",
    "#                            cv=3,\n",
    "#                            random_state=42\n",
    "#                         )\n",
    "# search_cv.fit(X=features_train, y=target_train)\n",
    "# print(- search_cv.best_score_, search_cv.best_estimator_)"
   ]
  },
  {
   "cell_type": "markdown",
   "metadata": {
    "ExecuteTime": {
     "end_time": "2023-03-08T16:39:41.944450Z",
     "start_time": "2023-03-08T16:39:41.899824Z"
    }
   },
   "source": [
    "Набор гиперпараметров для `KNeighborsRegressor`, найденных с помощью оптимизатора _Optuna_:  \n",
    "~~~\n",
    "n_neighbors=10,\n",
    "weights='uniform',\n",
    "leaf_size=21\n",
    "~~~  \n",
    "Точность прогноза по _RSME_ для найденных параметров составила 3572.515."
   ]
  },
  {
   "cell_type": "markdown",
   "metadata": {},
   "source": [
    "### LinearRegression"
   ]
  },
  {
   "cell_type": "code",
   "execution_count": 44,
   "metadata": {
    "ExecuteTime": {
     "end_time": "2023-03-08T18:33:22.104160Z",
     "start_time": "2023-03-08T18:33:12.961756Z"
    }
   },
   "outputs": [
    {
     "name": "stdout",
     "output_type": "stream",
     "text": [
      "Точность прогноза для LinearRegression по RSME с настройками по умолчанию равна 2790.083.\n"
     ]
    }
   ],
   "source": [
    "# cv для LinearRegression с базовыми настройками\n",
    "lr_cv = GridSearchCV(estimator=Pipeline(steps=[('prep', preprocessing), ('reg', LinearRegression())]),\n",
    "                         param_grid={},\n",
    "                         scoring='neg_root_mean_squared_error',\n",
    "                         n_jobs=-1\n",
    "                        )\n",
    "lr_cv.fit(X=features_train, y=target_train)\n",
    "print('Точность прогноза для LinearRegression по RSME с настройками по умолчанию равна %.3f.' %(- lr_cv.best_score_))"
   ]
  },
  {
   "cell_type": "markdown",
   "metadata": {},
   "source": [
    "### DummyRegressor"
   ]
  },
  {
   "cell_type": "code",
   "execution_count": 45,
   "metadata": {
    "ExecuteTime": {
     "end_time": "2023-03-08T18:33:30.191923Z",
     "start_time": "2023-03-08T18:33:22.108169Z"
    }
   },
   "outputs": [
    {
     "name": "stdout",
     "output_type": "stream",
     "text": [
      "Точность прогноза для DummyRegressor по RSME с настройками по умолчанию равна 4513.546.\n"
     ]
    }
   ],
   "source": [
    "# cv для DummyRegressor с базовыми настройками\n",
    "dr_cv = GridSearchCV(estimator=Pipeline(steps=[('prep', preprocessing), ('reg', DummyRegressor())]),\n",
    "                         param_grid={},\n",
    "                         scoring='neg_root_mean_squared_error',\n",
    "                         n_jobs=-1\n",
    "                        )\n",
    "dr_cv.fit(X=features_train, y=target_train)\n",
    "print('Точность прогноза для DummyRegressor по RSME с настройками по умолчанию равна %.3f.' %(- dr_cv.best_score_))"
   ]
  },
  {
   "cell_type": "code",
   "execution_count": 46,
   "metadata": {
    "ExecuteTime": {
     "end_time": "2023-03-08T18:33:30.207922Z",
     "start_time": "2023-03-08T18:33:30.196924Z"
    }
   },
   "outputs": [],
   "source": [
    "# # подбор гиперпараметров для DummyRegressor\n",
    "# pipe = Pipeline(steps=[('prep', preprocessing), ('reg', DummyRegressor())])\n",
    "# param_dist = {    \n",
    "#     'reg__strategy': optuna.distributions.CategoricalDistribution(['mean', 'median', 'quantile']),\n",
    "#     'reg__quantile': optuna.distributions.FloatDistribution(0.1, 1, 0.1)\n",
    "# }\n",
    "# search_cv = OptunaSearchCV(estimator=pipe,\n",
    "#                            param_distributions=param_dist,\n",
    "#                            scoring='neg_root_mean_squared_error',\n",
    "#                            n_jobs=-1,\n",
    "#                            cv=3,\n",
    "#                            random_state=42\n",
    "#                         )\n",
    "# search_cv.fit(X=features_train, y=target_train)\n",
    "# print(- search_cv.best_score_, search_cv.best_estimator_)"
   ]
  },
  {
   "cell_type": "markdown",
   "metadata": {
    "ExecuteTime": {
     "end_time": "2023-03-06T05:53:31.253660Z",
     "start_time": "2023-03-06T05:53:31.203665Z"
    }
   },
   "source": [
    "Набор гиперпараметров для `DummyRegressor`, найденных с помощью оптимизатора _Optuna_:  \n",
    "~~~\n",
    "strategy='quantile',\n",
    "quantile=0.4747106406912787\n",
    "~~~  \n",
    "Точность прогноза по _RSME_ для найденных параметров составила 4513.564."
   ]
  },
  {
   "cell_type": "markdown",
   "metadata": {},
   "source": [
    "## Анализ моделей"
   ]
  },
  {
   "cell_type": "markdown",
   "metadata": {},
   "source": [
    "- Проанализируем время обучения, время предсказания и качество моделей.\n",
    "- Опираясь на критерии заказчика, выберем лучшую модель, проверим её качество на тестовой выборке."
   ]
  },
  {
   "cell_type": "markdown",
   "metadata": {},
   "source": [
    "### Оценка параметров моделей"
   ]
  },
  {
   "cell_type": "code",
   "execution_count": 47,
   "metadata": {
    "ExecuteTime": {
     "end_time": "2023-03-08T18:33:30.335933Z",
     "start_time": "2023-03-08T18:33:30.211925Z"
    }
   },
   "outputs": [],
   "source": [
    "# функция проверки точности и скорости обучения-прогноза\n",
    "def get_effectivity(model, prep, X_train, y_train):    \n",
    "    n_cv = 3\n",
    "    search_cv = GridSearchCV(estimator=Pipeline(steps=[('prep', prep), ('reg', model)]),\n",
    "                             param_grid={},\n",
    "                             scoring='neg_root_mean_squared_error',\n",
    "                             cv=n_cv,\n",
    "                             n_jobs=-1\n",
    "                            ).fit(X_train, y_train)\n",
    "    # средняя точность на кросс-валидации\n",
    "    score = - search_cv.best_score_\n",
    "    # среднее времени обучения\n",
    "    fit_time = search_cv.cv_results_['mean_fit_time'][0]\n",
    "    # среднее времени прогнозирования\n",
    "    predict_time = search_cv.cv_results_['mean_score_time'][0]\n",
    "    # название модели\n",
    "    name = str(model).split('(')[0]\n",
    "    print('Точность прогноза по RSME для %s: %.2f.\\nВремя обучения: %.4f сек., время прогнозирования: %.4f сек.' \n",
    "          %(name, score, fit_time, predict_time))\n",
    "    return name, score, fit_time, predict_time    "
   ]
  },
  {
   "cell_type": "code",
   "execution_count": 48,
   "metadata": {
    "ExecuteTime": {
     "end_time": "2023-03-08T18:33:30.416944Z",
     "start_time": "2023-03-08T18:33:30.338942Z"
    }
   },
   "outputs": [],
   "source": [
    "# списки с результатами проверки моделей\n",
    "names, scores, fitting, predicting  = [], [], [], []"
   ]
  },
  {
   "cell_type": "code",
   "execution_count": 49,
   "metadata": {
    "ExecuteTime": {
     "end_time": "2023-03-08T18:33:49.815911Z",
     "start_time": "2023-03-08T18:33:30.419948Z"
    }
   },
   "outputs": [
    {
     "name": "stdout",
     "output_type": "stream",
     "text": [
      "Точность прогноза по RSME для LGBMRegressor: 1560.17.\n",
      "Время обучения: 8.7818 сек., время прогнозирования: 4.5347 сек.\n"
     ]
    }
   ],
   "source": [
    "# найденные гиперпараметры модели LGBMRegressor\n",
    "lgbmr = LGBMRegressor(colsample_bytree=0.5884359396877478,\n",
    "                      learning_rate=0.15120957379246172,\n",
    "                      max_depth=17,\n",
    "                      min_child_samples=100,\n",
    "                      n_estimators=238,\n",
    "                      num_leaves=200,\n",
    "                      random_state=549,\n",
    "                      subsample_for_bin=2985\n",
    "                     )\n",
    "# результаты оценки модели\n",
    "rez = get_effectivity(lgbmr, preprocessing, features_train, target_train)\n",
    "# заполнение списков результатов проверки\n",
    "names.append(rez[0])\n",
    "scores.append(rez[1])\n",
    "fitting.append(rez[2])\n",
    "predicting.append(rez[3])"
   ]
  },
  {
   "cell_type": "code",
   "execution_count": 50,
   "metadata": {
    "ExecuteTime": {
     "end_time": "2023-03-08T18:33:56.254533Z",
     "start_time": "2023-03-08T18:33:49.819924Z"
    }
   },
   "outputs": [
    {
     "name": "stdout",
     "output_type": "stream",
     "text": [
      "Точность прогноза по RSME для ElasticNet: 2796.61.\n",
      "Время обучения: 2.7251 сек., время прогнозирования: 0.3026 сек.\n"
     ]
    }
   ],
   "source": [
    "# найденные гиперпараметры модели ElasticNet\n",
    "elnt = ElasticNet(alpha=0.5038106785837163,\n",
    "                  l1_ratio=0.8598335466493537,                  \n",
    "                  tol=0.0001721991337483358,\n",
    "                  random_state=42\n",
    "                 )\n",
    "# результаты оценки модели\n",
    "rez = get_effectivity(elnt, preprocessing, features_train, target_train)\n",
    "# заполнение списков результатов проверки\n",
    "names.append(rez[0])\n",
    "scores.append(rez[1])\n",
    "fitting.append(rez[2])\n",
    "predicting.append(rez[3])"
   ]
  },
  {
   "cell_type": "code",
   "execution_count": 51,
   "metadata": {
    "ExecuteTime": {
     "end_time": "2023-03-08T18:39:39.132114Z",
     "start_time": "2023-03-08T18:33:56.259540Z"
    }
   },
   "outputs": [
    {
     "name": "stdout",
     "output_type": "stream",
     "text": [
      "Точность прогноза по RSME для RandomForestRegressor: 1607.99.\n",
      "Время обучения: 145.0872 сек., время прогнозирования: 3.1510 сек.\n"
     ]
    }
   ],
   "source": [
    "# найденные гиперпараметры модели RandomForestRegressor\n",
    "rfr = RandomForestRegressor(ccp_alpha=0.3979111741800548,\n",
    "                            max_depth=20,\n",
    "                            min_impurity_decrease=0.3703796916540737,\n",
    "                            min_samples_split=10,\n",
    "                            n_estimators=125,\n",
    "                            random_state=42\n",
    "                           )\n",
    "# результаты оценки модели\n",
    "rez = get_effectivity(rfr, preprocessing, features_train, target_train)\n",
    "# заполнение списков результатов проверки\n",
    "names.append(rez[0])\n",
    "scores.append(rez[1])\n",
    "fitting.append(rez[2])\n",
    "predicting.append(rez[3])"
   ]
  },
  {
   "cell_type": "code",
   "execution_count": 52,
   "metadata": {
    "ExecuteTime": {
     "end_time": "2023-03-08T18:39:57.834861Z",
     "start_time": "2023-03-08T18:39:39.140122Z"
    }
   },
   "outputs": [
    {
     "name": "stdout",
     "output_type": "stream",
     "text": [
      "Точность прогноза по RSME для KNeighborsRegressor: 3572.52.\n",
      "Время обучения: 3.6132 сек., время прогнозирования: 9.8621 сек.\n"
     ]
    }
   ],
   "source": [
    "# найденные гиперпараметры модели LinearSVR\n",
    "knr = KNeighborsRegressor(n_neighbors=10,\n",
    "                          weights='uniform',\n",
    "                          leaf_size=21\n",
    "                )\n",
    "# результаты оценки модели\n",
    "rez = get_effectivity(knr, preprocessing, features_train, target_train)\n",
    "# заполнение списков результатов проверки\n",
    "names.append(rez[0])\n",
    "scores.append(rez[1])\n",
    "fitting.append(rez[2])\n",
    "predicting.append(rez[3])"
   ]
  },
  {
   "cell_type": "code",
   "execution_count": 53,
   "metadata": {
    "ExecuteTime": {
     "end_time": "2023-03-08T18:40:04.975408Z",
     "start_time": "2023-03-08T18:39:57.839867Z"
    }
   },
   "outputs": [
    {
     "name": "stdout",
     "output_type": "stream",
     "text": [
      "Точность прогноза по RSME для LinearRegression: 2790.76.\n",
      "Время обучения: 2.2630 сек., время прогнозирования: 0.2600 сек.\n"
     ]
    }
   ],
   "source": [
    "# LinearRegression\n",
    "lr = LinearRegression()\n",
    "# результаты оценки модели\n",
    "rez = get_effectivity(lr, preprocessing, features_train, target_train)\n",
    "# заполнение списков результатов проверки\n",
    "names.append(rez[0])\n",
    "scores.append(rez[1])\n",
    "fitting.append(rez[2])\n",
    "predicting.append(rez[3])"
   ]
  },
  {
   "cell_type": "code",
   "execution_count": 54,
   "metadata": {
    "ExecuteTime": {
     "end_time": "2023-03-08T18:40:10.949385Z",
     "start_time": "2023-03-08T18:40:04.978411Z"
    }
   },
   "outputs": [
    {
     "name": "stdout",
     "output_type": "stream",
     "text": [
      "Точность прогноза по RSME для DummyRegressor: 4904.23.\n",
      "Время обучения: 2.3140 сек., время прогнозирования: 0.2939 сек.\n"
     ]
    }
   ],
   "source": [
    "# найденные гиперпараметры модели DummyRegressor\n",
    "dr = DummyRegressor(strategy='quantile',\n",
    "                    quantile=0.4747106406912787)\n",
    "# результаты оценки модели\n",
    "rez = get_effectivity(dr, preprocessing, features_train, target_train)\n",
    "# заполнение списков результатов проверки\n",
    "names.append(rez[0])\n",
    "scores.append(rez[1])\n",
    "fitting.append(rez[2])\n",
    "predicting.append(rez[3])"
   ]
  },
  {
   "cell_type": "code",
   "execution_count": 61,
   "metadata": {
    "ExecuteTime": {
     "end_time": "2023-03-08T18:44:10.165967Z",
     "start_time": "2023-03-08T18:44:10.144964Z"
    }
   },
   "outputs": [
    {
     "data": {
      "text/html": [
       "<div>\n",
       "<style scoped>\n",
       "    .dataframe tbody tr th:only-of-type {\n",
       "        vertical-align: middle;\n",
       "    }\n",
       "\n",
       "    .dataframe tbody tr th {\n",
       "        vertical-align: top;\n",
       "    }\n",
       "\n",
       "    .dataframe thead th {\n",
       "        text-align: right;\n",
       "    }\n",
       "</style>\n",
       "<table border=\"1\" class=\"dataframe\">\n",
       "  <thead>\n",
       "    <tr style=\"text-align: right;\">\n",
       "      <th></th>\n",
       "      <th>Погрешность прогноза по RMSE</th>\n",
       "      <th>Время обучения модели, сек.</th>\n",
       "      <th>Время прогнозирования, сек.</th>\n",
       "    </tr>\n",
       "  </thead>\n",
       "  <tbody>\n",
       "    <tr>\n",
       "      <th>LGBMRegressor</th>\n",
       "      <td>1560.169561</td>\n",
       "      <td>8.781812</td>\n",
       "      <td>4.534671</td>\n",
       "    </tr>\n",
       "    <tr>\n",
       "      <th>ElasticNet</th>\n",
       "      <td>2796.605137</td>\n",
       "      <td>2.725146</td>\n",
       "      <td>0.302625</td>\n",
       "    </tr>\n",
       "    <tr>\n",
       "      <th>RandomForestRegressor</th>\n",
       "      <td>1607.985602</td>\n",
       "      <td>145.087164</td>\n",
       "      <td>3.151038</td>\n",
       "    </tr>\n",
       "    <tr>\n",
       "      <th>KNeighborsRegressor</th>\n",
       "      <td>3572.515860</td>\n",
       "      <td>3.613230</td>\n",
       "      <td>9.862050</td>\n",
       "    </tr>\n",
       "    <tr>\n",
       "      <th>LinearRegression</th>\n",
       "      <td>2790.764231</td>\n",
       "      <td>2.263048</td>\n",
       "      <td>0.260038</td>\n",
       "    </tr>\n",
       "    <tr>\n",
       "      <th>DummyRegressor</th>\n",
       "      <td>4904.225233</td>\n",
       "      <td>2.314048</td>\n",
       "      <td>0.293864</td>\n",
       "    </tr>\n",
       "  </tbody>\n",
       "</table>\n",
       "</div>"
      ],
      "text/plain": [
       "                       Погрешность прогноза по RMSE  \\\n",
       "LGBMRegressor                           1560.169561   \n",
       "ElasticNet                              2796.605137   \n",
       "RandomForestRegressor                   1607.985602   \n",
       "KNeighborsRegressor                     3572.515860   \n",
       "LinearRegression                        2790.764231   \n",
       "DummyRegressor                          4904.225233   \n",
       "\n",
       "                       Время обучения модели, сек.  \\\n",
       "LGBMRegressor                             8.781812   \n",
       "ElasticNet                                2.725146   \n",
       "RandomForestRegressor                   145.087164   \n",
       "KNeighborsRegressor                       3.613230   \n",
       "LinearRegression                          2.263048   \n",
       "DummyRegressor                            2.314048   \n",
       "\n",
       "                       Время прогнозирования, сек.  \n",
       "LGBMRegressor                             4.534671  \n",
       "ElasticNet                                0.302625  \n",
       "RandomForestRegressor                     3.151038  \n",
       "KNeighborsRegressor                       9.862050  \n",
       "LinearRegression                          0.260038  \n",
       "DummyRegressor                            0.293864  "
      ]
     },
     "execution_count": 61,
     "metadata": {},
     "output_type": "execute_result"
    }
   ],
   "source": [
    "# таблица результатов обучения\n",
    "results =\\\n",
    "pd.DataFrame({'Погрешность прогноза по RMSE': scores,\n",
    "              'Время обучения модели, сек.': fitting,\n",
    "              'Время прогнозирования, сек.': predicting},\n",
    "             index=names)\n",
    "results"
   ]
  },
  {
   "cell_type": "code",
   "execution_count": 62,
   "metadata": {
    "ExecuteTime": {
     "end_time": "2023-03-08T18:44:14.348521Z",
     "start_time": "2023-03-08T18:44:14.007071Z"
    }
   },
   "outputs": [
    {
     "data": {
      "image/png": "[encoded data removed]",
      "text/plain": [
       "<Figure size 800x400 with 1 Axes>"
      ]
     },
     "metadata": {},
     "output_type": "display_data"
    }
   ],
   "source": [
    "results['Погрешность прогноза по RMSE'].plot(kind='barh', title='Погрешность прогноза по RMSE', figsize=(8,4));"
   ]
  },
  {
   "cell_type": "code",
   "execution_count": 57,
   "metadata": {
    "ExecuteTime": {
     "end_time": "2023-03-08T18:40:11.825390Z",
     "start_time": "2023-03-08T18:40:11.383394Z"
    }
   },
   "outputs": [
    {
     "data": {
      "image/png": "[encoded data removed]",
      "text/plain": [
       "<Figure size 800x400 with 1 Axes>"
      ]
     },
     "metadata": {},
     "output_type": "display_data"
    }
   ],
   "source": [
    "results['Время обучения модели, сек.'].plot(kind='barh', title='Время обучения модели, сек.', figsize=(8,4));"
   ]
  },
  {
   "cell_type": "code",
   "execution_count": 58,
   "metadata": {
    "ExecuteTime": {
     "end_time": "2023-03-08T18:40:12.081385Z",
     "start_time": "2023-03-08T18:40:11.828392Z"
    }
   },
   "outputs": [
    {
     "data": {
      "image/png": "[encoded data removed]",
      "text/plain": [
       "<Figure size 800x400 with 1 Axes>"
      ]
     },
     "metadata": {},
     "output_type": "display_data"
    }
   ],
   "source": [
    "results['Время прогнозирования, сек.'].plot(kind='barh', title='Время прогнозирования, сек.', figsize=(8,4));"
   ]
  },
  {
   "cell_type": "markdown",
   "metadata": {},
   "source": [
    "### Тестирование модели"
   ]
  },
  {
   "cell_type": "markdown",
   "metadata": {},
   "source": [
    "Наиболее скоростные алгоритмы, из числа рассмотренных нами, очевидным образом не проходят по качеству точности прогноза, которое было заявлено в техзадании. Единственным алгоритмом одновременно показавшем и хорошую точность и высокие скоростные характеристики предсказуемом стал _LGBMRegressor_. Оценим его точность уже на тестовых данных."
   ]
  },
  {
   "cell_type": "code",
   "execution_count": 59,
   "metadata": {
    "ExecuteTime": {
     "end_time": "2023-03-08T18:40:18.160916Z",
     "start_time": "2023-03-08T18:40:12.084390Z"
    }
   },
   "outputs": [
    {
     "name": "stdout",
     "output_type": "stream",
     "text": [
      "Точность прогноза на тестовых данных для LGBMRegressor по RMSE равна 1552.25\n"
     ]
    }
   ],
   "source": [
    "# данные после кодирования и масштабирования\n",
    "features_train_transformed = preprocessing.fit_transform(features_train, target_train)\n",
    "features_test_transformed = preprocessing.transform(features_test)\n",
    "# найденные гиперпараметры модели LGBMRegressor\n",
    "best_model = LGBMRegressor(colsample_bytree=0.5884359396877478,\n",
    "                           learning_rate=0.15120957379246172,\n",
    "                           max_depth=17,\n",
    "                           min_child_samples=100,\n",
    "                           n_estimators=238,\n",
    "                           num_leaves=200,\n",
    "                           random_state=549,\n",
    "                           subsample_for_bin=2985).fit(features_train_transformed, target_train)\n",
    "# результаты оценки модели тестовых данных\n",
    "predictions = best_model.predict(features_test_transformed)                               \n",
    "score = mean_squared_error(target_test, predictions) ** .5\n",
    "print('Точность прогноза на тестовых данных для LGBMRegressor по RMSE равна %.2f' %(score)) "
   ]
  },
  {
   "cell_type": "code",
   "execution_count": 60,
   "metadata": {
    "ExecuteTime": {
     "end_time": "2023-03-08T18:40:18.542915Z",
     "start_time": "2023-03-08T18:40:18.166939Z"
    }
   },
   "outputs": [
    {
     "data": {
      "image/png": "[encoded data removed]",
      "text/plain": [
       "<Figure size 800x600 with 1 Axes>"
      ]
     },
     "metadata": {},
     "output_type": "display_data"
    }
   ],
   "source": [
    "# диаграмма значимости признаков\n",
    "fi = pd.Series(best_model.feature_importances_, index=features_train.columns)\n",
    "fi.plot.barh(title='Значимость признаков в выбранной модели', figsize=(8,6));"
   ]
  },
  {
   "cell_type": "markdown",
   "metadata": {},
   "source": [
    "## Общие выводы"
   ]
  },
  {
   "cell_type": "markdown",
   "metadata": {},
   "source": [
    "__Заключение по проделанной работе:__  \n",
    "\n",
    "При работе над проектом начальные данные подверглись значительной коррекции. В категориальных признаках обнаружены и заполнены многочисленные пропуски. Часть неинформативных признаков была удалена. Были созданы новые признаки, учитывающие некоторые временные параметры.  \n",
    "Чтобы избежать увеличения признакового пространства после _one-hot_-кодирования категориальных признаков с большим количеством уникальных значений, были предложены рациональные альтернативы этому. Был использован кодировщик типа _Target-based Coding_ из библиотеки _Category Encoders_.  \n",
    "Для подбора гиперпараметров использовалась библиотека оптимизации _Optuna_. Для оценки качества моделей написана функция записи необходимых характеристик."
   ]
  },
  {
   "cell_type": "markdown",
   "metadata": {},
   "source": [
    "__Вывод по результатам проекта:__  \n",
    "\n",
    "При выборе модели машинного обучения для проекта должны были учитываться не только качество прогнозов, но также скорости обучения модели и получения прогнозов с помощью неё. Поэтому рассматривались несколько типов алгоритмов и наиболее быстрые - линейная регрессия и близкая ей `ElasticNet`  - показали хорошие характеристики по производительности и среднее качество прогноза (базовый уровень точности определялся прогнозами `DummyRegressor`). Другую группу составили алгоритмы, основанные на решающих деревьях - `RandomForestRegressor` и `LGBMRegressor` (только им удалось преодолеть предел минимальной требуемой точности). В первом используется комбинацию бэггинга и метода случайных подпространств над решающими деревьями, второй использует градиентный бустинг.  Модель `RandomForestRegressor` достаточно медленно обучалась, хотя и показала хорошую точность обучения. Особенно это было заметно при первоначальном унитарном кодировании категориальных признаков - из-за него число признаков увеличилось до нескольких тысяч. Стоит отметить, что _one-hot_- кодированиt (и схожие с ним алгоритмы типа _Contrast Coding_) хотя и не слишком рациональный выбор для данного проекта, но в общем случае даёт наилучшее качество прогноза. Новый вариант целевого кодирования сказался на линейных моделях - их качество упало. При этом `LGBMRegressor` отлично справился с обеими ситуациями, показав и хорошее качество прогноза и достойную скорость обучения. По скорости обучения он, разумеется, уступает таким быстрым алгоритмам как `ElasticNet`. Однако, по субъективным ощущениям с точки зрения пользователя он очень быстр, так что его можно смело рекомендовать в качестве основной модели машинного обучения в данном проекте."
   ]
  }
 ],
 "metadata": {
  "kernelspec": {
   "display_name": "Python 3 (ipykernel)",
   "language": "python",
   "name": "python3"
  },
  "language_info": {
   "codemirror_mode": {
    "name": "ipython",
    "version": 3
   },
   "file_extension": ".py",
   "mimetype": "text/x-python",
   "name": "python",
   "nbconvert_exporter": "python",
   "pygments_lexer": "ipython3",
   "version": "3.11.0"
  },
  "toc": {
   "base_numbering": 1,
   "nav_menu": {},
   "number_sections": true,
   "sideBar": true,
   "skip_h1_title": true,
   "title_cell": "Table of Contents",
   "title_sidebar": "Contents",
   "toc_cell": false,
   "toc_position": {
    "height": "calc(100% - 180px)",
    "left": "10px",
    "top": "150px",
    "width": "211.2px"
   },
   "toc_section_display": true,
   "toc_window_display": true
  },
  "varInspector": {
   "cols": {
    "lenName": 16,
    "lenType": 16,
    "lenVar": 40
   },
   "kernels_config": {
    "python": {
     "delete_cmd_postfix": "",
     "delete_cmd_prefix": "del ",
     "library": "var_list.py",
     "varRefreshCmd": "print(var_dic_list())"
    },
    "r": {
     "delete_cmd_postfix": ") ",
     "delete_cmd_prefix": "rm(",
     "library": "var_list.r",
     "varRefreshCmd": "cat(var_dic_list()) "
    }
   },
   "types_to_exclude": [
    "module",
    "function",
    "builtin_function_or_method",
    "instance",
    "_Feature"
   ],
   "window_display": false
  }
 },
 "nbformat": 4,
 "nbformat_minor": 2
}
