{
 "cells": [
  {
   "cell_type": "markdown",
   "metadata": {},
   "source": [
    "# Проект: \"Цена питерской недвижимости\""
   ]
  },
  {
   "cell_type": "markdown",
   "metadata": {},
   "source": [
    "### Описание проекта "
   ]
  },
  {
   "cell_type": "markdown",
   "metadata": {},
   "source": [
    "__Цель исследования:__  \n",
    "Научиться определять рыночную стоимость объектов недвижимости. Это позволит построить автоматизированную систему: она отследит аномалии и мошенническую деятельность.\n",
    "\n",
    "__Ход исследования:__  \n",
    "Данные нужно проверить, провести предварительную обработку. Если потребуется провести трансформацию данных - добавить новые признаки и поменять тип данных, где это необходимо. Перед этапом исследования исключить нерепрезентативные данные. Затем в ходе исследования выявить наиболее важные признаки, влияющие на формирование цены. И, наконец, предложить механизм оценки рыночной стоимости объектов недвижимости.  \n",
    "\n",
    "Таким образом, исследование пройдёт в четыре этапа с выводом в конце:\n",
    "1. Обзор данных;\n",
    "2. Предобработка данных;\n",
    "3. Добавление новых признаков;\n",
    "4. Исследовательский анализ данных."
   ]
  },
  {
   "cell_type": "markdown",
   "metadata": {},
   "source": [
    "__Описание данных:__  \n",
    "Источником данных является архив объявлений о продаже квартир в Санкт-Петербурге и соседних населённых пунктов за несколько лет. По каждой квартире на продажу доступны два вида данных. Первые вписаны пользователем, вторые — получены автоматически на основе картографических данных. Они включают в себя следующее:\n",
    "\n",
    "* `airports_nearest` — расстояние до ближайшего аэропорта в метрах (м)\n",
    "* `balcony` — число балконов\n",
    "* `ceiling_height` — высота потолков (м)\n",
    "* `cityCenters_nearest` — расстояние до центра города (м)\n",
    "* `days_exposition` — сколько дней было размещено объявление (от публикации до снятия)\n",
    "* `first_day_exposition` — дата публикации\n",
    "* `floor` — этаж\n",
    "* `floors_total` — всего этажей в доме\n",
    "* `is_apartment` — апартаменты (булев тип)\n",
    "* `kitchen_area` — площадь кухни в квадратных метрах (м²)\n",
    "* `last_price` — цена на момент снятия с публикации\n",
    "* `living_area` — жилая площадь в квадратных метрах (м²)\n",
    "* `locality_name` — название населённого пункта\n",
    "* `open_plan` — свободная планировка (булев тип)\n",
    "* `parks_around3000` — число парков в радиусе 3 км\n",
    "* `parks_nearest` — расстояние до ближайшего парка (м)\n",
    "* `ponds_around3000` — число водоёмов в радиусе 3 км\n",
    "* `ponds_nearest` — расстояние до ближайшего водоёма (м)\n",
    "* `rooms` — число комнат\n",
    "* `studio` — квартира-студия (булев тип)\n",
    "* `total_area` — общая площадь квартиры в квадратных метрах (м²)\n",
    "* `total_images` — число фотографий квартиры в объявлении"
   ]
  },
  {
   "cell_type": "markdown",
   "metadata": {},
   "source": [
    "### Начальный обзор данных"
   ]
  },
  {
   "cell_type": "code",
   "execution_count": 1,
   "metadata": {
    "ExecuteTime": {
     "end_time": "2022-11-09T06:39:29.786405Z",
     "start_time": "2022-11-09T06:39:19.739158Z"
    }
   },
   "outputs": [],
   "source": [
    "# импорт библиотек\n",
    "import pandas as pd\n",
    "import numpy as np\n",
    "import matplotlib.pyplot as plt\n",
    "\n",
    "# увеличение числа видимых столбцов в таблице\n",
    "pd.set_option(\"display.max_columns\", 100)\n",
    "\n",
    "# чтение файла данных в датафрейм из папки по умолчанию и из рабочей директории\n",
    "try:\n",
    "    data = pd.read_csv('/datasets/real_estate_data.csv', sep='\\t')\n",
    "except:\n",
    "    data = pd.read_csv('real_estate_data.csv', sep='\\t')"
   ]
  },
  {
   "cell_type": "markdown",
   "metadata": {},
   "source": [
    "Изучим общую информацию о полученном датафрейме."
   ]
  },
  {
   "cell_type": "code",
   "execution_count": 2,
   "metadata": {
    "ExecuteTime": {
     "end_time": "2022-11-09T06:39:29.946416Z",
     "start_time": "2022-11-09T06:39:29.788406Z"
    }
   },
   "outputs": [
    {
     "data": {
      "text/html": [
       "<div>\n",
       "<style scoped>\n",
       "    .dataframe tbody tr th:only-of-type {\n",
       "        vertical-align: middle;\n",
       "    }\n",
       "\n",
       "    .dataframe tbody tr th {\n",
       "        vertical-align: top;\n",
       "    }\n",
       "\n",
       "    .dataframe thead th {\n",
       "        text-align: right;\n",
       "    }\n",
       "</style>\n",
       "<table border=\"1\" class=\"dataframe\">\n",
       "  <thead>\n",
       "    <tr style=\"text-align: right;\">\n",
       "      <th></th>\n",
       "      <th>total_images</th>\n",
       "      <th>last_price</th>\n",
       "      <th>total_area</th>\n",
       "      <th>first_day_exposition</th>\n",
       "      <th>rooms</th>\n",
       "      <th>ceiling_height</th>\n",
       "      <th>floors_total</th>\n",
       "      <th>living_area</th>\n",
       "      <th>floor</th>\n",
       "      <th>is_apartment</th>\n",
       "      <th>studio</th>\n",
       "      <th>open_plan</th>\n",
       "      <th>kitchen_area</th>\n",
       "      <th>balcony</th>\n",
       "      <th>locality_name</th>\n",
       "      <th>airports_nearest</th>\n",
       "      <th>cityCenters_nearest</th>\n",
       "      <th>parks_around3000</th>\n",
       "      <th>parks_nearest</th>\n",
       "      <th>ponds_around3000</th>\n",
       "      <th>ponds_nearest</th>\n",
       "      <th>days_exposition</th>\n",
       "    </tr>\n",
       "  </thead>\n",
       "  <tbody>\n",
       "    <tr>\n",
       "      <th>0</th>\n",
       "      <td>20</td>\n",
       "      <td>13000000.0</td>\n",
       "      <td>108.00</td>\n",
       "      <td>2019-03-07T00:00:00</td>\n",
       "      <td>3</td>\n",
       "      <td>2.70</td>\n",
       "      <td>16.0</td>\n",
       "      <td>51.0</td>\n",
       "      <td>8</td>\n",
       "      <td>NaN</td>\n",
       "      <td>False</td>\n",
       "      <td>False</td>\n",
       "      <td>25.00</td>\n",
       "      <td>NaN</td>\n",
       "      <td>Санкт-Петербург</td>\n",
       "      <td>18863.0</td>\n",
       "      <td>16028.0</td>\n",
       "      <td>1.0</td>\n",
       "      <td>482.0</td>\n",
       "      <td>2.0</td>\n",
       "      <td>755.0</td>\n",
       "      <td>NaN</td>\n",
       "    </tr>\n",
       "    <tr>\n",
       "      <th>1</th>\n",
       "      <td>7</td>\n",
       "      <td>3350000.0</td>\n",
       "      <td>40.40</td>\n",
       "      <td>2018-12-04T00:00:00</td>\n",
       "      <td>1</td>\n",
       "      <td>NaN</td>\n",
       "      <td>11.0</td>\n",
       "      <td>18.6</td>\n",
       "      <td>1</td>\n",
       "      <td>NaN</td>\n",
       "      <td>False</td>\n",
       "      <td>False</td>\n",
       "      <td>11.00</td>\n",
       "      <td>2.0</td>\n",
       "      <td>посёлок Шушары</td>\n",
       "      <td>12817.0</td>\n",
       "      <td>18603.0</td>\n",
       "      <td>0.0</td>\n",
       "      <td>NaN</td>\n",
       "      <td>0.0</td>\n",
       "      <td>NaN</td>\n",
       "      <td>81.0</td>\n",
       "    </tr>\n",
       "    <tr>\n",
       "      <th>2</th>\n",
       "      <td>10</td>\n",
       "      <td>5196000.0</td>\n",
       "      <td>56.00</td>\n",
       "      <td>2015-08-20T00:00:00</td>\n",
       "      <td>2</td>\n",
       "      <td>NaN</td>\n",
       "      <td>5.0</td>\n",
       "      <td>34.3</td>\n",
       "      <td>4</td>\n",
       "      <td>NaN</td>\n",
       "      <td>False</td>\n",
       "      <td>False</td>\n",
       "      <td>8.30</td>\n",
       "      <td>0.0</td>\n",
       "      <td>Санкт-Петербург</td>\n",
       "      <td>21741.0</td>\n",
       "      <td>13933.0</td>\n",
       "      <td>1.0</td>\n",
       "      <td>90.0</td>\n",
       "      <td>2.0</td>\n",
       "      <td>574.0</td>\n",
       "      <td>558.0</td>\n",
       "    </tr>\n",
       "    <tr>\n",
       "      <th>3</th>\n",
       "      <td>0</td>\n",
       "      <td>64900000.0</td>\n",
       "      <td>159.00</td>\n",
       "      <td>2015-07-24T00:00:00</td>\n",
       "      <td>3</td>\n",
       "      <td>NaN</td>\n",
       "      <td>14.0</td>\n",
       "      <td>NaN</td>\n",
       "      <td>9</td>\n",
       "      <td>NaN</td>\n",
       "      <td>False</td>\n",
       "      <td>False</td>\n",
       "      <td>NaN</td>\n",
       "      <td>0.0</td>\n",
       "      <td>Санкт-Петербург</td>\n",
       "      <td>28098.0</td>\n",
       "      <td>6800.0</td>\n",
       "      <td>2.0</td>\n",
       "      <td>84.0</td>\n",
       "      <td>3.0</td>\n",
       "      <td>234.0</td>\n",
       "      <td>424.0</td>\n",
       "    </tr>\n",
       "    <tr>\n",
       "      <th>4</th>\n",
       "      <td>2</td>\n",
       "      <td>10000000.0</td>\n",
       "      <td>100.00</td>\n",
       "      <td>2018-06-19T00:00:00</td>\n",
       "      <td>2</td>\n",
       "      <td>3.03</td>\n",
       "      <td>14.0</td>\n",
       "      <td>32.0</td>\n",
       "      <td>13</td>\n",
       "      <td>NaN</td>\n",
       "      <td>False</td>\n",
       "      <td>False</td>\n",
       "      <td>41.00</td>\n",
       "      <td>NaN</td>\n",
       "      <td>Санкт-Петербург</td>\n",
       "      <td>31856.0</td>\n",
       "      <td>8098.0</td>\n",
       "      <td>2.0</td>\n",
       "      <td>112.0</td>\n",
       "      <td>1.0</td>\n",
       "      <td>48.0</td>\n",
       "      <td>121.0</td>\n",
       "    </tr>\n",
       "    <tr>\n",
       "      <th>...</th>\n",
       "      <td>...</td>\n",
       "      <td>...</td>\n",
       "      <td>...</td>\n",
       "      <td>...</td>\n",
       "      <td>...</td>\n",
       "      <td>...</td>\n",
       "      <td>...</td>\n",
       "      <td>...</td>\n",
       "      <td>...</td>\n",
       "      <td>...</td>\n",
       "      <td>...</td>\n",
       "      <td>...</td>\n",
       "      <td>...</td>\n",
       "      <td>...</td>\n",
       "      <td>...</td>\n",
       "      <td>...</td>\n",
       "      <td>...</td>\n",
       "      <td>...</td>\n",
       "      <td>...</td>\n",
       "      <td>...</td>\n",
       "      <td>...</td>\n",
       "      <td>...</td>\n",
       "    </tr>\n",
       "    <tr>\n",
       "      <th>23694</th>\n",
       "      <td>9</td>\n",
       "      <td>9700000.0</td>\n",
       "      <td>133.81</td>\n",
       "      <td>2017-03-21T00:00:00</td>\n",
       "      <td>3</td>\n",
       "      <td>3.70</td>\n",
       "      <td>5.0</td>\n",
       "      <td>73.3</td>\n",
       "      <td>3</td>\n",
       "      <td>NaN</td>\n",
       "      <td>False</td>\n",
       "      <td>False</td>\n",
       "      <td>13.83</td>\n",
       "      <td>NaN</td>\n",
       "      <td>Санкт-Петербург</td>\n",
       "      <td>24665.0</td>\n",
       "      <td>4232.0</td>\n",
       "      <td>1.0</td>\n",
       "      <td>796.0</td>\n",
       "      <td>3.0</td>\n",
       "      <td>381.0</td>\n",
       "      <td>NaN</td>\n",
       "    </tr>\n",
       "    <tr>\n",
       "      <th>23695</th>\n",
       "      <td>14</td>\n",
       "      <td>3100000.0</td>\n",
       "      <td>59.00</td>\n",
       "      <td>2018-01-15T00:00:00</td>\n",
       "      <td>3</td>\n",
       "      <td>NaN</td>\n",
       "      <td>5.0</td>\n",
       "      <td>38.0</td>\n",
       "      <td>4</td>\n",
       "      <td>NaN</td>\n",
       "      <td>False</td>\n",
       "      <td>False</td>\n",
       "      <td>8.50</td>\n",
       "      <td>NaN</td>\n",
       "      <td>Тосно</td>\n",
       "      <td>NaN</td>\n",
       "      <td>NaN</td>\n",
       "      <td>NaN</td>\n",
       "      <td>NaN</td>\n",
       "      <td>NaN</td>\n",
       "      <td>NaN</td>\n",
       "      <td>45.0</td>\n",
       "    </tr>\n",
       "    <tr>\n",
       "      <th>23696</th>\n",
       "      <td>18</td>\n",
       "      <td>2500000.0</td>\n",
       "      <td>56.70</td>\n",
       "      <td>2018-02-11T00:00:00</td>\n",
       "      <td>2</td>\n",
       "      <td>NaN</td>\n",
       "      <td>3.0</td>\n",
       "      <td>29.7</td>\n",
       "      <td>1</td>\n",
       "      <td>NaN</td>\n",
       "      <td>False</td>\n",
       "      <td>False</td>\n",
       "      <td>NaN</td>\n",
       "      <td>NaN</td>\n",
       "      <td>село Рождествено</td>\n",
       "      <td>NaN</td>\n",
       "      <td>NaN</td>\n",
       "      <td>NaN</td>\n",
       "      <td>NaN</td>\n",
       "      <td>NaN</td>\n",
       "      <td>NaN</td>\n",
       "      <td>NaN</td>\n",
       "    </tr>\n",
       "    <tr>\n",
       "      <th>23697</th>\n",
       "      <td>13</td>\n",
       "      <td>11475000.0</td>\n",
       "      <td>76.75</td>\n",
       "      <td>2017-03-28T00:00:00</td>\n",
       "      <td>2</td>\n",
       "      <td>3.00</td>\n",
       "      <td>17.0</td>\n",
       "      <td>NaN</td>\n",
       "      <td>12</td>\n",
       "      <td>NaN</td>\n",
       "      <td>False</td>\n",
       "      <td>False</td>\n",
       "      <td>23.30</td>\n",
       "      <td>2.0</td>\n",
       "      <td>Санкт-Петербург</td>\n",
       "      <td>39140.0</td>\n",
       "      <td>10364.0</td>\n",
       "      <td>2.0</td>\n",
       "      <td>173.0</td>\n",
       "      <td>3.0</td>\n",
       "      <td>196.0</td>\n",
       "      <td>602.0</td>\n",
       "    </tr>\n",
       "    <tr>\n",
       "      <th>23698</th>\n",
       "      <td>4</td>\n",
       "      <td>1350000.0</td>\n",
       "      <td>32.30</td>\n",
       "      <td>2017-07-21T00:00:00</td>\n",
       "      <td>1</td>\n",
       "      <td>2.50</td>\n",
       "      <td>5.0</td>\n",
       "      <td>12.3</td>\n",
       "      <td>1</td>\n",
       "      <td>NaN</td>\n",
       "      <td>False</td>\n",
       "      <td>False</td>\n",
       "      <td>9.00</td>\n",
       "      <td>NaN</td>\n",
       "      <td>поселок Новый Учхоз</td>\n",
       "      <td>NaN</td>\n",
       "      <td>NaN</td>\n",
       "      <td>NaN</td>\n",
       "      <td>NaN</td>\n",
       "      <td>NaN</td>\n",
       "      <td>NaN</td>\n",
       "      <td>NaN</td>\n",
       "    </tr>\n",
       "  </tbody>\n",
       "</table>\n",
       "<p>23699 rows × 22 columns</p>\n",
       "</div>"
      ],
      "text/plain": [
       "       total_images  last_price  total_area first_day_exposition  rooms  \\\n",
       "0                20  13000000.0      108.00  2019-03-07T00:00:00      3   \n",
       "1                 7   3350000.0       40.40  2018-12-04T00:00:00      1   \n",
       "2                10   5196000.0       56.00  2015-08-20T00:00:00      2   \n",
       "3                 0  64900000.0      159.00  2015-07-24T00:00:00      3   \n",
       "4                 2  10000000.0      100.00  2018-06-19T00:00:00      2   \n",
       "...             ...         ...         ...                  ...    ...   \n",
       "23694             9   9700000.0      133.81  2017-03-21T00:00:00      3   \n",
       "23695            14   3100000.0       59.00  2018-01-15T00:00:00      3   \n",
       "23696            18   2500000.0       56.70  2018-02-11T00:00:00      2   \n",
       "23697            13  11475000.0       76.75  2017-03-28T00:00:00      2   \n",
       "23698             4   1350000.0       32.30  2017-07-21T00:00:00      1   \n",
       "\n",
       "       ceiling_height  floors_total  living_area  floor is_apartment  studio  \\\n",
       "0                2.70          16.0         51.0      8          NaN   False   \n",
       "1                 NaN          11.0         18.6      1          NaN   False   \n",
       "2                 NaN           5.0         34.3      4          NaN   False   \n",
       "3                 NaN          14.0          NaN      9          NaN   False   \n",
       "4                3.03          14.0         32.0     13          NaN   False   \n",
       "...               ...           ...          ...    ...          ...     ...   \n",
       "23694            3.70           5.0         73.3      3          NaN   False   \n",
       "23695             NaN           5.0         38.0      4          NaN   False   \n",
       "23696             NaN           3.0         29.7      1          NaN   False   \n",
       "23697            3.00          17.0          NaN     12          NaN   False   \n",
       "23698            2.50           5.0         12.3      1          NaN   False   \n",
       "\n",
       "       open_plan  kitchen_area  balcony        locality_name  \\\n",
       "0          False         25.00      NaN      Санкт-Петербург   \n",
       "1          False         11.00      2.0       посёлок Шушары   \n",
       "2          False          8.30      0.0      Санкт-Петербург   \n",
       "3          False           NaN      0.0      Санкт-Петербург   \n",
       "4          False         41.00      NaN      Санкт-Петербург   \n",
       "...          ...           ...      ...                  ...   \n",
       "23694      False         13.83      NaN      Санкт-Петербург   \n",
       "23695      False          8.50      NaN                Тосно   \n",
       "23696      False           NaN      NaN     село Рождествено   \n",
       "23697      False         23.30      2.0      Санкт-Петербург   \n",
       "23698      False          9.00      NaN  поселок Новый Учхоз   \n",
       "\n",
       "       airports_nearest  cityCenters_nearest  parks_around3000  parks_nearest  \\\n",
       "0               18863.0              16028.0               1.0          482.0   \n",
       "1               12817.0              18603.0               0.0            NaN   \n",
       "2               21741.0              13933.0               1.0           90.0   \n",
       "3               28098.0               6800.0               2.0           84.0   \n",
       "4               31856.0               8098.0               2.0          112.0   \n",
       "...                 ...                  ...               ...            ...   \n",
       "23694           24665.0               4232.0               1.0          796.0   \n",
       "23695               NaN                  NaN               NaN            NaN   \n",
       "23696               NaN                  NaN               NaN            NaN   \n",
       "23697           39140.0              10364.0               2.0          173.0   \n",
       "23698               NaN                  NaN               NaN            NaN   \n",
       "\n",
       "       ponds_around3000  ponds_nearest  days_exposition  \n",
       "0                   2.0          755.0              NaN  \n",
       "1                   0.0            NaN             81.0  \n",
       "2                   2.0          574.0            558.0  \n",
       "3                   3.0          234.0            424.0  \n",
       "4                   1.0           48.0            121.0  \n",
       "...                 ...            ...              ...  \n",
       "23694               3.0          381.0              NaN  \n",
       "23695               NaN            NaN             45.0  \n",
       "23696               NaN            NaN              NaN  \n",
       "23697               3.0          196.0            602.0  \n",
       "23698               NaN            NaN              NaN  \n",
       "\n",
       "[23699 rows x 22 columns]"
      ]
     },
     "execution_count": 2,
     "metadata": {},
     "output_type": "execute_result"
    }
   ],
   "source": [
    "# знакомство с данными\n",
    "data"
   ]
  },
  {
   "cell_type": "code",
   "execution_count": 3,
   "metadata": {
    "ExecuteTime": {
     "end_time": "2022-11-09T06:39:29.994420Z",
     "start_time": "2022-11-09T06:39:29.949419Z"
    }
   },
   "outputs": [
    {
     "name": "stdout",
     "output_type": "stream",
     "text": [
      "<class 'pandas.core.frame.DataFrame'>\n",
      "RangeIndex: 23699 entries, 0 to 23698\n",
      "Data columns (total 22 columns):\n",
      " #   Column                Non-Null Count  Dtype  \n",
      "---  ------                --------------  -----  \n",
      " 0   total_images          23699 non-null  int64  \n",
      " 1   last_price            23699 non-null  float64\n",
      " 2   total_area            23699 non-null  float64\n",
      " 3   first_day_exposition  23699 non-null  object \n",
      " 4   rooms                 23699 non-null  int64  \n",
      " 5   ceiling_height        14504 non-null  float64\n",
      " 6   floors_total          23613 non-null  float64\n",
      " 7   living_area           21796 non-null  float64\n",
      " 8   floor                 23699 non-null  int64  \n",
      " 9   is_apartment          2775 non-null   object \n",
      " 10  studio                23699 non-null  bool   \n",
      " 11  open_plan             23699 non-null  bool   \n",
      " 12  kitchen_area          21421 non-null  float64\n",
      " 13  balcony               12180 non-null  float64\n",
      " 14  locality_name         23650 non-null  object \n",
      " 15  airports_nearest      18157 non-null  float64\n",
      " 16  cityCenters_nearest   18180 non-null  float64\n",
      " 17  parks_around3000      18181 non-null  float64\n",
      " 18  parks_nearest         8079 non-null   float64\n",
      " 19  ponds_around3000      18181 non-null  float64\n",
      " 20  ponds_nearest         9110 non-null   float64\n",
      " 21  days_exposition       20518 non-null  float64\n",
      "dtypes: bool(2), float64(14), int64(3), object(3)\n",
      "memory usage: 3.7+ MB\n"
     ]
    }
   ],
   "source": [
    "# выяснение типов данных и наличие пропусков\n",
    "data.info()"
   ]
  },
  {
   "cell_type": "markdown",
   "metadata": {},
   "source": [
    "Построим общую гистограмму для всех числовых столбцов таблицы."
   ]
  },
  {
   "cell_type": "code",
   "execution_count": 4,
   "metadata": {
    "ExecuteTime": {
     "end_time": "2022-11-09T06:39:35.259712Z",
     "start_time": "2022-11-09T06:39:29.997423Z"
    }
   },
   "outputs": [
    {
     "data": {
      "image/png": "[encoded data removed]",
      "text/plain": [
       "<Figure size 1080x1440 with 20 Axes>"
      ]
     },
     "metadata": {
      "needs_background": "light"
     },
     "output_type": "display_data"
    }
   ],
   "source": [
    "# гистограммы необработанных данных\n",
    "data.hist(figsize=(15, 20));"
   ]
  },
  {
   "cell_type": "markdown",
   "metadata": {},
   "source": [
    "__Предварительный обзор:__  \n",
    "Метод `info` показал наличие в данных множества пропусков. Полупустые листы гистограмм признаков указывают на наличие аномальных значений. Ряд признаков имеет несоответствующий тип."
   ]
  },
  {
   "cell_type": "markdown",
   "metadata": {},
   "source": [
    "### Предобработка данных"
   ]
  },
  {
   "cell_type": "markdown",
   "metadata": {},
   "source": [
    "#### Обработка пропусков "
   ]
  },
  {
   "cell_type": "markdown",
   "metadata": {},
   "source": [
    "Найдём и изучим пропущенные значения в столбцах. Укажем возможные причины пропусков."
   ]
  },
  {
   "cell_type": "code",
   "execution_count": 5,
   "metadata": {
    "ExecuteTime": {
     "end_time": "2022-11-09T06:39:35.275392Z",
     "start_time": "2022-11-09T06:39:35.259712Z"
    }
   },
   "outputs": [
    {
     "data": {
      "text/plain": [
       "total_images                0\n",
       "last_price                  0\n",
       "total_area                  0\n",
       "first_day_exposition        0\n",
       "rooms                       0\n",
       "ceiling_height           9195\n",
       "floors_total               86\n",
       "living_area              1903\n",
       "floor                       0\n",
       "is_apartment            20924\n",
       "studio                      0\n",
       "open_plan                   0\n",
       "kitchen_area             2278\n",
       "balcony                 11519\n",
       "locality_name              49\n",
       "airports_nearest         5542\n",
       "cityCenters_nearest      5519\n",
       "parks_around3000         5518\n",
       "parks_nearest           15620\n",
       "ponds_around3000         5518\n",
       "ponds_nearest           14589\n",
       "days_exposition          3181\n",
       "dtype: int64"
      ]
     },
     "execution_count": 5,
     "metadata": {},
     "output_type": "execute_result"
    }
   ],
   "source": [
    "# число пропусков в столбцах\n",
    "data.isna().sum()"
   ]
  },
  {
   "cell_type": "code",
   "execution_count": 6,
   "metadata": {
    "ExecuteTime": {
     "end_time": "2022-11-09T06:39:36.419553Z",
     "start_time": "2022-11-09T06:39:35.277393Z"
    }
   },
   "outputs": [
    {
     "data": {
      "text/html": [
       "<style  type=\"text/css\" >\n",
       "#T_00df7_row0_col0,#T_00df7_row1_col0,#T_00df7_row2_col0,#T_00df7_row3_col0,#T_00df7_row4_col0,#T_00df7_row6_col0,#T_00df7_row8_col0,#T_00df7_row10_col0,#T_00df7_row11_col0,#T_00df7_row14_col0{\n",
       "            background-color:  #3b4cc0;\n",
       "            color:  #f1f1f1;\n",
       "        }#T_00df7_row5_col0{\n",
       "            background-color:  #cad8ef;\n",
       "            color:  #000000;\n",
       "        }#T_00df7_row7_col0{\n",
       "            background-color:  #5673e0;\n",
       "            color:  #000000;\n",
       "        }#T_00df7_row9_col0{\n",
       "            background-color:  #b40426;\n",
       "            color:  #f1f1f1;\n",
       "        }#T_00df7_row12_col0{\n",
       "            background-color:  #5a78e4;\n",
       "            color:  #000000;\n",
       "        }#T_00df7_row13_col0{\n",
       "            background-color:  #e8d6cc;\n",
       "            color:  #000000;\n",
       "        }#T_00df7_row15_col0,#T_00df7_row16_col0,#T_00df7_row17_col0,#T_00df7_row19_col0{\n",
       "            background-color:  #90b2fe;\n",
       "            color:  #000000;\n",
       "        }#T_00df7_row18_col0{\n",
       "            background-color:  #f59d7e;\n",
       "            color:  #000000;\n",
       "        }#T_00df7_row20_col0{\n",
       "            background-color:  #f7af91;\n",
       "            color:  #000000;\n",
       "        }#T_00df7_row21_col0{\n",
       "            background-color:  #688aef;\n",
       "            color:  #000000;\n",
       "        }</style><table id=\"T_00df7_\" ><thead>    <tr>        <th class=\"blank level0\" ></th>        <th class=\"col_heading level0 col0\" >Число пропусков, %</th>    </tr></thead><tbody>\n",
       "                <tr>\n",
       "                        <th id=\"T_00df7_level0_row0\" class=\"row_heading level0 row0\" >total_images</th>\n",
       "                        <td id=\"T_00df7_row0_col0\" class=\"data row0 col0\" >0</td>\n",
       "            </tr>\n",
       "            <tr>\n",
       "                        <th id=\"T_00df7_level0_row1\" class=\"row_heading level0 row1\" >last_price</th>\n",
       "                        <td id=\"T_00df7_row1_col0\" class=\"data row1 col0\" >0</td>\n",
       "            </tr>\n",
       "            <tr>\n",
       "                        <th id=\"T_00df7_level0_row2\" class=\"row_heading level0 row2\" >total_area</th>\n",
       "                        <td id=\"T_00df7_row2_col0\" class=\"data row2 col0\" >0</td>\n",
       "            </tr>\n",
       "            <tr>\n",
       "                        <th id=\"T_00df7_level0_row3\" class=\"row_heading level0 row3\" >first_day_exposition</th>\n",
       "                        <td id=\"T_00df7_row3_col0\" class=\"data row3 col0\" >0</td>\n",
       "            </tr>\n",
       "            <tr>\n",
       "                        <th id=\"T_00df7_level0_row4\" class=\"row_heading level0 row4\" >rooms</th>\n",
       "                        <td id=\"T_00df7_row4_col0\" class=\"data row4 col0\" >0</td>\n",
       "            </tr>\n",
       "            <tr>\n",
       "                        <th id=\"T_00df7_level0_row5\" class=\"row_heading level0 row5\" >ceiling_height</th>\n",
       "                        <td id=\"T_00df7_row5_col0\" class=\"data row5 col0\" >38</td>\n",
       "            </tr>\n",
       "            <tr>\n",
       "                        <th id=\"T_00df7_level0_row6\" class=\"row_heading level0 row6\" >floors_total</th>\n",
       "                        <td id=\"T_00df7_row6_col0\" class=\"data row6 col0\" >0</td>\n",
       "            </tr>\n",
       "            <tr>\n",
       "                        <th id=\"T_00df7_level0_row7\" class=\"row_heading level0 row7\" >living_area</th>\n",
       "                        <td id=\"T_00df7_row7_col0\" class=\"data row7 col0\" >8</td>\n",
       "            </tr>\n",
       "            <tr>\n",
       "                        <th id=\"T_00df7_level0_row8\" class=\"row_heading level0 row8\" >floor</th>\n",
       "                        <td id=\"T_00df7_row8_col0\" class=\"data row8 col0\" >0</td>\n",
       "            </tr>\n",
       "            <tr>\n",
       "                        <th id=\"T_00df7_level0_row9\" class=\"row_heading level0 row9\" >is_apartment</th>\n",
       "                        <td id=\"T_00df7_row9_col0\" class=\"data row9 col0\" >88</td>\n",
       "            </tr>\n",
       "            <tr>\n",
       "                        <th id=\"T_00df7_level0_row10\" class=\"row_heading level0 row10\" >studio</th>\n",
       "                        <td id=\"T_00df7_row10_col0\" class=\"data row10 col0\" >0</td>\n",
       "            </tr>\n",
       "            <tr>\n",
       "                        <th id=\"T_00df7_level0_row11\" class=\"row_heading level0 row11\" >open_plan</th>\n",
       "                        <td id=\"T_00df7_row11_col0\" class=\"data row11 col0\" >0</td>\n",
       "            </tr>\n",
       "            <tr>\n",
       "                        <th id=\"T_00df7_level0_row12\" class=\"row_heading level0 row12\" >kitchen_area</th>\n",
       "                        <td id=\"T_00df7_row12_col0\" class=\"data row12 col0\" >9</td>\n",
       "            </tr>\n",
       "            <tr>\n",
       "                        <th id=\"T_00df7_level0_row13\" class=\"row_heading level0 row13\" >balcony</th>\n",
       "                        <td id=\"T_00df7_row13_col0\" class=\"data row13 col0\" >48</td>\n",
       "            </tr>\n",
       "            <tr>\n",
       "                        <th id=\"T_00df7_level0_row14\" class=\"row_heading level0 row14\" >locality_name</th>\n",
       "                        <td id=\"T_00df7_row14_col0\" class=\"data row14 col0\" >0</td>\n",
       "            </tr>\n",
       "            <tr>\n",
       "                        <th id=\"T_00df7_level0_row15\" class=\"row_heading level0 row15\" >airports_nearest</th>\n",
       "                        <td id=\"T_00df7_row15_col0\" class=\"data row15 col0\" >23</td>\n",
       "            </tr>\n",
       "            <tr>\n",
       "                        <th id=\"T_00df7_level0_row16\" class=\"row_heading level0 row16\" >cityCenters_nearest</th>\n",
       "                        <td id=\"T_00df7_row16_col0\" class=\"data row16 col0\" >23</td>\n",
       "            </tr>\n",
       "            <tr>\n",
       "                        <th id=\"T_00df7_level0_row17\" class=\"row_heading level0 row17\" >parks_around3000</th>\n",
       "                        <td id=\"T_00df7_row17_col0\" class=\"data row17 col0\" >23</td>\n",
       "            </tr>\n",
       "            <tr>\n",
       "                        <th id=\"T_00df7_level0_row18\" class=\"row_heading level0 row18\" >parks_nearest</th>\n",
       "                        <td id=\"T_00df7_row18_col0\" class=\"data row18 col0\" >65</td>\n",
       "            </tr>\n",
       "            <tr>\n",
       "                        <th id=\"T_00df7_level0_row19\" class=\"row_heading level0 row19\" >ponds_around3000</th>\n",
       "                        <td id=\"T_00df7_row19_col0\" class=\"data row19 col0\" >23</td>\n",
       "            </tr>\n",
       "            <tr>\n",
       "                        <th id=\"T_00df7_level0_row20\" class=\"row_heading level0 row20\" >ponds_nearest</th>\n",
       "                        <td id=\"T_00df7_row20_col0\" class=\"data row20 col0\" >61</td>\n",
       "            </tr>\n",
       "            <tr>\n",
       "                        <th id=\"T_00df7_level0_row21\" class=\"row_heading level0 row21\" >days_exposition</th>\n",
       "                        <td id=\"T_00df7_row21_col0\" class=\"data row21 col0\" >13</td>\n",
       "            </tr>\n",
       "    </tbody></table>"
      ],
      "text/plain": [
       "<pandas.io.formats.style.Styler at 0x7fc3671328e0>"
      ]
     },
     "execution_count": 6,
     "metadata": {},
     "output_type": "execute_result"
    }
   ],
   "source": [
    "# число пропусков в столбцах\n",
    "(\n",
    "    pd.DataFrame(100*(data.isna().mean()), columns=['Число пропусков, %'])\n",
    "    .astype('int').style.background_gradient('coolwarm')\n",
    ")"
   ]
  },
  {
   "cell_type": "code",
   "execution_count": 7,
   "metadata": {
    "ExecuteTime": {
     "end_time": "2022-11-09T06:39:36.435553Z",
     "start_time": "2022-11-09T06:39:36.421555Z"
    }
   },
   "outputs": [],
   "source": [
    "# копия исходного датасета\n",
    "df = data.copy()"
   ]
  },
  {
   "cell_type": "code",
   "execution_count": 8,
   "metadata": {
    "ExecuteTime": {
     "end_time": "2022-11-09T06:39:36.627555Z",
     "start_time": "2022-11-09T06:39:36.438556Z"
    }
   },
   "outputs": [],
   "source": [
    "# удаление строк для признаков с небольшим количеством пропуском\n",
    "df.dropna(subset=['floors_total', 'locality_name'], inplace=True)\n",
    "# # замена пропусков медианным значением\n",
    "# df.loc[df['ceiling_height'].isna(), 'ceiling_height'] = df['ceiling_height'].median()\n",
    "# замена пропусков фиксированными значениями\n",
    "df.loc[df['is_apartment'].isna(), 'is_apartment'] = False\n",
    "df.loc[df['balcony'].isna(), 'balcony'] = 0"
   ]
  },
  {
   "cell_type": "markdown",
   "metadata": {},
   "source": [
    "Приведём возможные способы замены пропущенных значений."
   ]
  },
  {
   "cell_type": "code",
   "execution_count": 9,
   "metadata": {
    "ExecuteTime": {
     "end_time": "2022-11-09T06:39:36.754564Z",
     "start_time": "2022-11-09T06:39:36.632561Z"
    },
    "code_folding": [
     0
    ]
   },
   "outputs": [],
   "source": [
    "# # среднее отношение жилой и полной площадей квартиры для однокомнатных квартир\n",
    "# living_area_ratio = (\n",
    "#     df.loc[~(df['living_area'].isna()) & (df['rooms'] <= 1), 'living_area'].median()\n",
    "#     / df.loc[~(df['living_area'].isna()) & (df['rooms'] <= 1), 'total_area'].median()\n",
    "# )\n",
    "# # заполнение пропусков по жилой площади для однокомнатных квартир\n",
    "# df.loc[(df['living_area'].isna()) & (df['rooms'] <= 1), 'living_area'] = \\\n",
    "# df.loc[(df['living_area'].isna()) & (df['rooms'] <= 1), 'total_area'] * living_area_ratio\n",
    "\n",
    "# # среднее отношение жилой и полной площади квартиры для многокомнатных квартир\n",
    "# living_area_ratio = (\n",
    "#     df.loc[~(df['living_area'].isna()) & (df['rooms'] > 1), 'living_area'].median()\n",
    "#     / df.loc[~(df['living_area'].isna()) & (df['rooms'] > 1), 'total_area'].median()\n",
    "# )\n",
    "# # заполнение пропусков по жилой площади для многокомнатных квартир\n",
    "# df.loc[(df['living_area'].isna()) & (df['rooms'] > 1), 'living_area'] = \\\n",
    "#     df.loc[(df['living_area'].isna()) & (df['rooms'] > 1), 'total_area'] * living_area_ratio"
   ]
  },
  {
   "cell_type": "code",
   "execution_count": 10,
   "metadata": {
    "ExecuteTime": {
     "end_time": "2022-11-09T06:39:36.929403Z",
     "start_time": "2022-11-09T06:39:36.756565Z"
    },
    "code_folding": [
     0
    ]
   },
   "outputs": [],
   "source": [
    "# # среднее отношение нежилой и кухонной площадей квартиры для однокомнатных квартир\n",
    "# kitchen_area_ratio = (\n",
    "#     df.loc[~(df['kitchen_area'].isna()) & (df['rooms'] <= 1), 'kitchen_area'].median()\n",
    "#     / (\n",
    "#         df.loc[~(df['kitchen_area'].isna()) & (df['rooms'] <= 1), 'total_area'].median()\n",
    "#         - df.loc[~(df['kitchen_area'].isna()) & (df['rooms'] <= 1), 'living_area'].median()\n",
    "#     )\n",
    "# )\n",
    "# # заполнение пропусков по кухонной площади для однокомнатных квартир\n",
    "# df.loc[(df['kitchen_area'].isna()) & (df['rooms'] <= 1), 'kitchen_area'] = (\n",
    "#     (\n",
    "#         df.loc[(df['kitchen_area'].isna()) & (df['rooms'] <= 1), 'total_area']\n",
    "#         - df.loc[(df['kitchen_area'].isna()) & (df['rooms'] <= 1), 'living_area']\n",
    "#     ) * kitchen_area_ratio\n",
    "# )\n",
    "\n",
    "# # среднее отношение нежилой и кухонной площадей квартиры для многокомнатных квартир\n",
    "# kitchen_area_ratio = (\n",
    "#     df.loc[~(df['kitchen_area'].isna()) & (df['rooms'] > 1), 'kitchen_area'].median()\n",
    "#     / (\n",
    "#         df.loc[~(df['kitchen_area'].isna()) & (df['rooms'] > 1), 'total_area'].median()\n",
    "#         - df.loc[~(df['kitchen_area'].isna()) & (df['rooms'] > 1), 'living_area'].median()\n",
    "#     )\n",
    "# )\n",
    "# # заполнение пропусков по кухонной площади для многокомнатных квартир\n",
    "# df.loc[(df['kitchen_area'].isna()) & (df['rooms'] > 1), 'kitchen_area'] = (\n",
    "#     (\n",
    "#         df.loc[(df['kitchen_area'].isna()) & (df['rooms'] > 1), 'total_area']\n",
    "#         - df.loc[(df['kitchen_area'].isna()) & (df['rooms'] > 1), 'living_area']\n",
    "#     ) * kitchen_area_ratio\n",
    "# )"
   ]
  },
  {
   "cell_type": "code",
   "execution_count": 11,
   "metadata": {
    "ExecuteTime": {
     "end_time": "2022-11-09T06:39:37.073413Z",
     "start_time": "2022-11-09T06:39:36.933403Z"
    }
   },
   "outputs": [],
   "source": [
    "# создание признака актуальности предложения \n",
    "df['is_actual'] = False\n",
    "df.loc[df['days_exposition'].isna(), 'is_actual'] = True"
   ]
  },
  {
   "cell_type": "code",
   "execution_count": 12,
   "metadata": {
    "ExecuteTime": {
     "end_time": "2022-11-09T06:39:37.200421Z",
     "start_time": "2022-11-09T06:39:37.075414Z"
    }
   },
   "outputs": [
    {
     "name": "stdout",
     "output_type": "stream",
     "text": [
      "Число потенциально восстановимых пропусков в столбце \"airports_nearest\": 5457\n"
     ]
    }
   ],
   "source": [
    "# число пропусков в данных по близости аэропорта ислючая Санкт-Петербург\n",
    "print('Число потенциально восстановимых пропусков в столбце \"airports_nearest\":',\n",
    "      len(data[(data['locality_name'] != 'Санкт-Петербург') & (data['airports_nearest']).isna()]))"
   ]
  },
  {
   "cell_type": "code",
   "execution_count": 13,
   "metadata": {
    "ExecuteTime": {
     "end_time": "2022-11-09T06:39:37.295426Z",
     "start_time": "2022-11-09T06:39:37.203420Z"
    }
   },
   "outputs": [
    {
     "data": {
      "text/plain": [
       "total_images                0\n",
       "last_price                  0\n",
       "total_area                  0\n",
       "first_day_exposition        0\n",
       "rooms                       0\n",
       "ceiling_height           9084\n",
       "floors_total                0\n",
       "living_area              1865\n",
       "floor                       0\n",
       "is_apartment                0\n",
       "studio                      0\n",
       "open_plan                   0\n",
       "kitchen_area             2222\n",
       "balcony                     0\n",
       "locality_name               0\n",
       "airports_nearest         5524\n",
       "cityCenters_nearest      5501\n",
       "parks_around3000         5500\n",
       "parks_nearest           15535\n",
       "ponds_around3000         5500\n",
       "ponds_nearest           14529\n",
       "days_exposition          3171\n",
       "is_actual                   0\n",
       "dtype: int64"
      ]
     },
     "execution_count": 13,
     "metadata": {},
     "output_type": "execute_result"
    }
   ],
   "source": [
    "# проверка замены пропусков\n",
    "df.isna().sum()"
   ]
  },
  {
   "cell_type": "markdown",
   "metadata": {},
   "source": [
    "__Замены в пропусках:__  \n",
    "В качестве типичных значений признаков принимаем медианные, так как данные еще не очищены от выбросов.\n",
    "1. Строки с пропусками в `floors_total` удалены, так как их немного. В этих строках часто присутствует указание этажа расположения квартиры и можно было бы на этой основе реконструировать информацию об этажности здания. \n",
    "2. Строки с пропусками в `locality_name` удалены, так как их немного. Возможно продавец по умолчанию предполагал город Санкт-Петербург, но лучше не гадать, так как это очевидно важный признак.\n",
    "3. Пропуски в `ceiling_height` можно было бы заменить усредненными значениями. Тем более, что высота потолков, в основном, варьирует незначительно - в пределах 10 см. Однако, данные отсутствуют чуть ли не в половине случаев и это внесет существенное искажение в общую картину. Поэтому пропуски оставлены без изменения. Отсутствие информации о высоте потолков связано либо с тем, что продавец квартиры не посчитал важной эту информацию, либо предпочел о ней умолчать. В обоих случаях можно предположить, что квартира типовая, с невысоким потолком. Не исключено также, что потолки в разных помещениях, вообще, имеют разную высоту.\n",
    "4. Пропуски в `is_apartment` заменены на `False`. Доля апартаментов не велика, и если продавец не указал на это особо, то речь идет об обычной квартире.\n",
    "5. Пропуски в `balcony` заменены на `0`. Если продавец не указал число балконов - вероятно, их нет.\n",
    "6. Доля пропусков в `living_area` составляет менее 1/10, между общей площадью и площадью жилой зоны сильная зависимость и данные по ней могут быть реконструированы. Вариант такой реконструкции: значения вычисляются отдельно для однокомнатных и многокомнатных квартир; площадь жилой зоны определяется на основе средней доли жилой и полной площади, рассчитанных по медианным значениям:\n",
    "\n",
    "\n",
    "$$S_{living\\ area} = S_{total\\ area} \\times \\frac{S_{living\\ area\\ median}}{S_{total\\ area\\ median}}$$\n",
    "\n",
    "\n",
    "    Ситуация с `kitchen_area` аналогична. Но связь с общей площадью не такая явная. Вариант реконструкции: значения вычисляются отдельно для однокомнатных и многокомнатных квартир; площадь кухни определяется на основе средней доли кухонной и нежилой площади, рассчитанных по медианным значениям:\n",
    "\n",
    "\n",
    "$$S_{kitchen\\ area} = (S_{total\\ area} - S_{living\\ area}) \\times \\frac{S_{kitchen\\ area\\ median}}{S_{total\\ area\\ median}-S_{living\\ area\\ median}}$$\n",
    "\n",
    "    Во избежание искажений результатов анализа пропуски в данных и для `living_area` и для `kitchen_area` остаются.  \n",
    "7. Пропуски в `days_exposition` оставим без изменений. Возможно, они связаны с тем, что предложение по продаже все еще актуально. На это указывают более свежие даты размещения объявлений. В основном, - это 2019 год. При этом значения типа `NaN` не мешают выполнению математических манипуляций с данными или построению гистограмм. Кроме того, был добавлен дополнительный признак \n",
    "`is_actual` булевого типа.\n",
    "8. Без указания точного местоположения, все локальные признаки - `airports_nearest`, `cityCenters_nearest`, `parks_around3000`, `parks_nearest`, `ponds_around3000`, `ponds_nearest` - не подлежат восстановлению. Близость к парку или шум пролетающих самолетов могут иметь решающее значение при покупке квартиры - соответственно, они влияют на ее цену. Заменить локальные признаки усредненными показателями нельзя. Пропуски в них останутся без изменений. Исключение можно сделать только для \n",
    "`airports_nearest` в отношении небольших населенных пунктов."
   ]
  },
  {
   "cell_type": "markdown",
   "metadata": {},
   "source": [
    "__Замечание по пропускам:__  \n",
    "В данных осталось много пропущенных значений в виде `NaN`. Они относятся к действительному типу данных и не мешают построению гистограмм и их анализу."
   ]
  },
  {
   "cell_type": "markdown",
   "metadata": {},
   "source": [
    "#### Смена типов данных"
   ]
  },
  {
   "cell_type": "markdown",
   "metadata": {},
   "source": [
    "Рассмотрите типы данных в каждом столбце. Преобразуем тип данных, где это необходимо. Приведём пояснения."
   ]
  },
  {
   "cell_type": "code",
   "execution_count": 14,
   "metadata": {
    "ExecuteTime": {
     "end_time": "2022-11-09T06:39:37.439443Z",
     "start_time": "2022-11-09T06:39:37.299425Z"
    }
   },
   "outputs": [
    {
     "name": "stdout",
     "output_type": "stream",
     "text": [
      "Тип данных в столбце \"is_apartment\": bool \n",
      "Тип данных в столбце \"balcony\": int64 \n",
      "Тип данных в столбце \"floors_total\": int64 \n",
      "Тип данных в столбце \"first_day_exposition\": datetime64[ns]\n"
     ]
    }
   ],
   "source": [
    "# преобразование типов признаков\n",
    "df['is_apartment'] = df['is_apartment'].astype('bool')\n",
    "df['balcony'] = df['balcony'].astype('int64')\n",
    "df['floors_total'] = df['floors_total'].astype('int64')\n",
    "df['first_day_exposition'] = df['first_day_exposition'].astype('datetime64')\n",
    "\n",
    "# проверка преобразования\n",
    "print('Тип данных в столбце \"is_apartment\":', df['is_apartment'].dtype,\n",
    "      '\\nТип данных в столбце \"balcony\":', df['balcony'].dtype,\n",
    "      '\\nТип данных в столбце \"floors_total\":', df['floors_total'].dtype,\n",
    "      '\\nТип данных в столбце \"first_day_exposition\":', df['first_day_exposition'].dtype\n",
    "     )"
   ]
  },
  {
   "cell_type": "markdown",
   "metadata": {},
   "source": [
    "__Проведённые преобразование типов:__  \n",
    "1. Признак `is_apartment`(\"является ли апартаментом\") преобразован к типу `bool`, так как состоит из булевых значений.\n",
    "2. Признак `floors_total`(\"этажность дома\") преобразован в целочисленный тип.\n",
    "3. Признак `days_exposition`(\"число дней размещения объявления о продаже\") содержит значения `NaN`действительного тип `float64`, поэтому к целочисленному типу не преобразуется\n",
    "4. Признак `first_day_exposition`(\"дата публикации\") преобразован из строкового в формат даты."
   ]
  },
  {
   "cell_type": "markdown",
   "metadata": {},
   "source": [
    "#### Устранение дубликатов"
   ]
  },
  {
   "cell_type": "markdown",
   "metadata": {},
   "source": [
    "Проверим наличие дублирующихся строк. Изучим уникальные значения в столбце с названиями и устраним неявные дубликаты."
   ]
  },
  {
   "cell_type": "code",
   "execution_count": 15,
   "metadata": {
    "ExecuteTime": {
     "end_time": "2022-11-09T06:39:37.567454Z",
     "start_time": "2022-11-09T06:39:37.441445Z"
    }
   },
   "outputs": [
    {
     "name": "stdout",
     "output_type": "stream",
     "text": [
      "Количество дублирующихсы строк данных: 0\n"
     ]
    }
   ],
   "source": [
    "# подсчет строк-дубликатов\n",
    "print('Количество дублирующихсы строк данных:', df.duplicated().sum())"
   ]
  },
  {
   "cell_type": "code",
   "execution_count": 16,
   "metadata": {
    "ExecuteTime": {
     "end_time": "2022-11-09T06:39:37.615458Z",
     "start_time": "2022-11-09T06:39:37.569456Z"
    },
    "scrolled": true
   },
   "outputs": [
    {
     "data": {
      "text/plain": [
       "array(['Санкт-Петербург', 'посёлок Шушары', 'городской посёлок Янино-1',\n",
       "       'посёлок Парголово', 'посёлок Мурино', 'Ломоносов', 'Сертолово',\n",
       "       'Петергоф', 'Пушкин', 'деревня Кудрово', 'Коммунар', 'Колпино',\n",
       "       'поселок городского типа Красный Бор', 'Гатчина', 'поселок Мурино',\n",
       "       'деревня Фёдоровское', 'Выборг', 'Кронштадт', 'Кировск',\n",
       "       'деревня Новое Девяткино', 'посёлок Металлострой',\n",
       "       'посёлок городского типа Лебяжье',\n",
       "       'посёлок городского типа Сиверский', 'поселок Молодцово',\n",
       "       'поселок городского типа Кузьмоловский',\n",
       "       'садовое товарищество Новая Ропша', 'Павловск',\n",
       "       'деревня Пикколово', 'Всеволожск', 'Волхов', 'Кингисепп',\n",
       "       'Приозерск', 'Сестрорецк', 'деревня Куттузи', 'посёлок Аннино',\n",
       "       'поселок городского типа Ефимовский', 'посёлок Плодовое',\n",
       "       'деревня Заклинье', 'поселок Торковичи', 'поселок Первомайское',\n",
       "       'Красное Село', 'посёлок Понтонный', 'Сясьстрой', 'деревня Старая',\n",
       "       'деревня Лесколово', 'посёлок Новый Свет', 'Сланцы',\n",
       "       'село Путилово', 'Ивангород', 'Мурино', 'Шлиссельбург',\n",
       "       'Никольское', 'Зеленогорск', 'Сосновый Бор', 'поселок Новый Свет',\n",
       "       'деревня Оржицы', 'деревня Кальтино', 'Кудрово',\n",
       "       'поселок Романовка', 'посёлок Бугры', 'поселок Бугры',\n",
       "       'поселок городского типа Рощино', 'Кириши', 'Луга', 'Волосово',\n",
       "       'Отрадное', 'село Павлово', 'поселок Оредеж', 'село Копорье',\n",
       "       'посёлок городского типа Красный Бор', 'посёлок Молодёжное',\n",
       "       'Тихвин', 'посёлок Победа', 'деревня Нурма',\n",
       "       'поселок городского типа Синявино', 'Тосно',\n",
       "       'посёлок городского типа Кузьмоловский', 'посёлок Стрельна',\n",
       "       'Бокситогорск', 'посёлок Александровская', 'деревня Лопухинка',\n",
       "       'Пикалёво', 'поселок Терволово',\n",
       "       'поселок городского типа Советский', 'Подпорожье',\n",
       "       'посёлок Петровское', 'посёлок городского типа Токсово',\n",
       "       'поселок Сельцо', 'посёлок городского типа Вырица',\n",
       "       'деревня Кипень', 'деревня Келози', 'деревня Вартемяги',\n",
       "       'посёлок Тельмана', 'поселок Севастьяново',\n",
       "       'городской поселок Большая Ижора', 'городской посёлок Павлово',\n",
       "       'деревня Агалатово', 'посёлок Новогорелово',\n",
       "       'городской посёлок Лесогорский', 'деревня Лаголово',\n",
       "       'поселок Цвелодубово', 'поселок городского типа Рахья',\n",
       "       'поселок городского типа Вырица', 'деревня Белогорка',\n",
       "       'поселок Заводской', 'городской посёлок Новоселье',\n",
       "       'деревня Большие Колпаны', 'деревня Горбунки', 'деревня Батово',\n",
       "       'деревня Заневка', 'деревня Иссад', 'Приморск',\n",
       "       'городской посёлок Фёдоровское', 'деревня Мистолово',\n",
       "       'Новая Ладога', 'поселок Зимитицы', 'поселок Барышево',\n",
       "       'деревня Разметелево', 'поселок городского типа имени Свердлова',\n",
       "       'деревня Пеники', 'поселок Рябово', 'деревня Пудомяги',\n",
       "       'поселок станции Корнево', 'деревня Низино', 'деревня Бегуницы',\n",
       "       'посёлок Поляны', 'городской посёлок Мга', 'поселок Елизаветино',\n",
       "       'посёлок городского типа Кузнечное', 'деревня Колтуши',\n",
       "       'поселок Запорожское', 'посёлок городского типа Рощино',\n",
       "       'деревня Гостилицы', 'деревня Малое Карлино',\n",
       "       'посёлок Мичуринское', 'посёлок городского типа имени Морозова',\n",
       "       'посёлок Песочный', 'посёлок Сосново', 'деревня Аро',\n",
       "       'поселок Ильичёво', 'посёлок городского типа Тайцы',\n",
       "       'деревня Малое Верево', 'деревня Извара', 'поселок станции Вещево',\n",
       "       'село Паша', 'деревня Калитино',\n",
       "       'посёлок городского типа Ульяновка', 'деревня Чудской Бор',\n",
       "       'поселок городского типа Дубровка', 'деревня Мины',\n",
       "       'поселок Войсковицы', 'посёлок городского типа имени Свердлова',\n",
       "       'деревня Коркино', 'посёлок Ропша',\n",
       "       'поселок городского типа Приладожский', 'посёлок Щеглово',\n",
       "       'посёлок Гаврилово', 'Лодейное Поле', 'деревня Рабитицы',\n",
       "       'поселок городского типа Никольский', 'деревня Кузьмолово',\n",
       "       'деревня Малые Колпаны', 'поселок Тельмана',\n",
       "       'посёлок Петро-Славянка', 'городской посёлок Назия',\n",
       "       'посёлок Репино', 'посёлок Ильичёво', 'поселок Углово',\n",
       "       'поселок Старая Малукса', 'садовое товарищество Рахья',\n",
       "       'поселок Аннино', 'поселок Победа', 'деревня Меньково',\n",
       "       'деревня Старые Бегуницы', 'посёлок Сапёрный', 'поселок Семрино',\n",
       "       'поселок Гаврилово', 'поселок Глажево', 'поселок Кобринское',\n",
       "       'деревня Гарболово', 'деревня Юкки',\n",
       "       'поселок станции Приветнинское', 'деревня Мануйлово',\n",
       "       'деревня Пчева', 'поселок Поляны', 'поселок Цвылёво',\n",
       "       'поселок Мельниково', 'посёлок Пудость', 'посёлок Усть-Луга',\n",
       "       'Светогорск', 'Любань', 'поселок Селезнёво',\n",
       "       'поселок городского типа Рябово', 'Каменногорск', 'деревня Кривко',\n",
       "       'поселок Глебычево', 'деревня Парицы', 'поселок Жилпосёлок',\n",
       "       'посёлок городского типа Мга', 'городской поселок Янино-1',\n",
       "       'посёлок Войскорово', 'село Никольское', 'посёлок Терволово',\n",
       "       'поселок Стеклянный', 'посёлок городского типа Важины',\n",
       "       'посёлок Мыза-Ивановка', 'село Русско-Высоцкое',\n",
       "       'поселок городского типа Лебяжье',\n",
       "       'поселок городского типа Форносово', 'село Старая Ладога',\n",
       "       'поселок Житково', 'городской посёлок Виллози', 'деревня Лампово',\n",
       "       'деревня Шпаньково', 'деревня Лаврики', 'посёлок Сумино',\n",
       "       'посёлок Возрождение', 'деревня Старосиверская',\n",
       "       'посёлок Кикерино', 'поселок Возрождение',\n",
       "       'деревня Старое Хинколово', 'посёлок Пригородный',\n",
       "       'посёлок Торфяное', 'городской посёлок Будогощь',\n",
       "       'поселок Суходолье', 'поселок Красная Долина', 'деревня Хапо-Ое',\n",
       "       'поселок городского типа Дружная Горка', 'поселок Лисий Нос',\n",
       "       'деревня Яльгелево', 'посёлок Стеклянный', 'село Рождествено',\n",
       "       'деревня Старополье', 'посёлок Левашово', 'деревня Сяськелево',\n",
       "       'деревня Камышовка',\n",
       "       'садоводческое некоммерческое товарищество Лесная Поляна',\n",
       "       'деревня Хязельки', 'поселок Жилгородок',\n",
       "       'посёлок городского типа Павлово', 'деревня Ялгино',\n",
       "       'поселок Новый Учхоз', 'городской посёлок Рощино',\n",
       "       'поселок Гончарово', 'поселок Почап', 'посёлок Сапёрное',\n",
       "       'посёлок Платформа 69-й километр', 'поселок Каложицы',\n",
       "       'деревня Фалилеево', 'деревня Пельгора',\n",
       "       'поселок городского типа Лесогорский', 'деревня Торошковичи',\n",
       "       'посёлок Белоостров', 'посёлок Алексеевка', 'поселок Серебрянский',\n",
       "       'поселок Лукаши', 'поселок Петровское', 'деревня Щеглово',\n",
       "       'поселок Мичуринское', 'деревня Тарасово', 'поселок Кингисеппский',\n",
       "       'посёлок при железнодорожной станции Вещево', 'поселок Ушаки',\n",
       "       'деревня Котлы', 'деревня Сижно', 'деревня Торосово',\n",
       "       'посёлок Форт Красная Горка', 'деревня Новолисино',\n",
       "       'посёлок станции Громово', 'деревня Глинка', 'посёлок Мельниково',\n",
       "       'поселок городского типа Назия', 'деревня Старая Пустошь',\n",
       "       'поселок Коммунары', 'поселок Починок',\n",
       "       'посёлок городского типа Вознесенье', 'деревня Разбегаево',\n",
       "       'посёлок городского типа Рябово', 'поселок Гладкое',\n",
       "       'посёлок при железнодорожной станции Приветнинское',\n",
       "       'поселок Тёсово-4', 'посёлок Жилгородок', 'деревня Бор',\n",
       "       'посёлок Коробицыно', 'деревня Большая Вруда', 'деревня Курковицы',\n",
       "       'посёлок Лисий Нос', 'городской посёлок Советский',\n",
       "       'посёлок Кобралово', 'деревня Суоранда', 'поселок Кобралово',\n",
       "       'поселок городского типа Кондратьево',\n",
       "       'коттеджный поселок Счастье', 'поселок Любань', 'деревня Реброво',\n",
       "       'деревня Зимитицы', 'деревня Тойворово', 'поселок Семиозерье',\n",
       "       'поселок Лесное', 'поселок Совхозный', 'поселок Усть-Луга',\n",
       "       'посёлок Ленинское', 'посёлок Суйда',\n",
       "       'посёлок городского типа Форносово', 'деревня Нижние Осельки',\n",
       "       'посёлок станции Свирь', 'поселок Перово', 'Высоцк',\n",
       "       'поселок Гарболово', 'село Шум', 'поселок Котельский',\n",
       "       'поселок станции Лужайка', 'деревня Большая Пустомержа',\n",
       "       'поселок Красносельское', 'деревня Вахнова Кара', 'деревня Пижма',\n",
       "       'коттеджный поселок Кивеннапа Север', 'поселок Коробицыно',\n",
       "       'поселок Ромашки', 'посёлок Перово', 'деревня Каськово',\n",
       "       'деревня Куровицы', 'посёлок Плоское', 'поселок Сумино',\n",
       "       'поселок городского типа Большая Ижора', 'поселок Кирпичное',\n",
       "       'деревня Ям-Тесово', 'деревня Раздолье', 'деревня Терпилицы',\n",
       "       'поселок городского типа Токсово', 'посёлок Шугозеро',\n",
       "       'деревня Ваганово', 'поселок Пушное', 'садовое товарищество Садко',\n",
       "       'посёлок Усть-Ижора', 'деревня Выскатка',\n",
       "       'городской посёлок Свирьстрой', 'поселок Громово',\n",
       "       'деревня Кисельня', 'посёлок Старая Малукса',\n",
       "       'деревня Трубников Бор', 'поселок Калитино',\n",
       "       'посёлок Высокоключевой', 'садовое товарищество Приладожский',\n",
       "       'посёлок Пансионат Зелёный Бор', 'деревня Ненимяки',\n",
       "       'поселок Пансионат Зелёный Бор', 'деревня Снегирёвка',\n",
       "       'деревня Рапполово', 'деревня Пустынка', 'поселок Рабитицы',\n",
       "       'деревня Большой Сабск', 'деревня Русско', 'деревня Лупполово',\n",
       "       'деревня Большое Рейзино', 'деревня Малая Романовка',\n",
       "       'поселок Дружноселье', 'поселок Пчевжа', 'поселок Володарское',\n",
       "       'деревня Нижняя', 'коттеджный посёлок Лесное', 'деревня Тихковицы',\n",
       "       'деревня Борисова Грива', 'посёлок Дзержинского'], dtype=object)"
      ]
     },
     "execution_count": 16,
     "metadata": {},
     "output_type": "execute_result"
    }
   ],
   "source": [
    "# просмотр названий населенных пунктов\n",
    "df['locality_name'].unique()"
   ]
  },
  {
   "cell_type": "code",
   "execution_count": 17,
   "metadata": {
    "ExecuteTime": {
     "end_time": "2022-11-09T06:39:37.726464Z",
     "start_time": "2022-11-09T06:39:37.647462Z"
    }
   },
   "outputs": [],
   "source": [
    "# функция возвращает название и тип населенного пункта\n",
    "def only_name(name, get_type=False):\n",
    "    only_name = ''\n",
    "    is_city = False\n",
    "    for i in range(len(name)):\n",
    "        # поиск названия по верхнему регистру\n",
    "        if name[i].isupper():\n",
    "            only_name = name[i:]\n",
    "            # отсутствие уточнения о типе населенного пункта\n",
    "            if i == 0:\n",
    "                is_city = True\n",
    "            break\n",
    "    if get_type == True:\n",
    "        return is_city\n",
    "    return only_name"
   ]
  },
  {
   "cell_type": "code",
   "execution_count": 18,
   "metadata": {
    "ExecuteTime": {
     "end_time": "2022-11-09T06:39:37.901478Z",
     "start_time": "2022-11-09T06:39:37.728466Z"
    }
   },
   "outputs": [],
   "source": [
    "# создание признако, содержащее только название населенного пункта\n",
    "df['locality_only_name'] = df['locality_name'].apply(only_name)\n",
    "#  создание признако, указывающее на тип населенного пункта\n",
    "df['is_city'] = df['locality_name'].apply(only_name, get_type=True)"
   ]
  },
  {
   "cell_type": "markdown",
   "metadata": {},
   "source": [
    "__Замечания по устранению дубликатов:__  \n",
    "В данных не оказалось явных дубликатов, но неявные - присутствуют в столбце `'locality_name'`. В нем указаны полные названия городов и поселков. Причем, если это небольшое поселение, то сначала строчными буквами указывается его тип. А, собственно, название всегда начинается с заглавной буквы. Эти особенности были взяты на вооружение и была создана функцию, которая возвращает либо _только название_, либо только _тип населенного пункта_. С помощью нее созданы два новых признака - `'locality_only_name'` и `'is_city'`. Одновременно удалось избавиться от неявных дубликатов  (типа: _\"поселок\"_, _\"посёлок\"_, _\"поселок городского типа\"_) в названиях типов поселений. "
   ]
  },
  {
   "cell_type": "code",
   "execution_count": 19,
   "metadata": {
    "ExecuteTime": {
     "end_time": "2022-11-09T06:39:39.472084Z",
     "start_time": "2022-11-09T06:39:37.903479Z"
    }
   },
   "outputs": [
    {
     "name": "stdout",
     "output_type": "stream",
     "text": [
      "Число потенциально восстановимых пропусков в столбце \"airports_nearest\": 5524\n",
      "Число восстановленных пропусков в столбце \"airports_nearest\": 5521\n"
     ]
    }
   ],
   "source": [
    "# восстановление пропусков в столбце расстояния до ближайшего аэропорта\n",
    "print('Число потенциально восстановимых пропусков в столбце \"airports_nearest\":', df['airports_nearest'].isna().sum())\n",
    "villages = df.loc[df['is_city'] == False, 'locality_only_name'].unique()\n",
    "for village in villages:\n",
    "    df.loc[(df['locality_only_name'] == village) & (df['airports_nearest'].isna()), 'airports_nearest'] = \\\n",
    "    df.loc[(df['locality_only_name'] == village) & (~df['airports_nearest'].isna()), 'airports_nearest'].median()\n",
    "print('Число восстановленных пропусков в столбце \"airports_nearest\":', df['airports_nearest'].isna().sum())"
   ]
  },
  {
   "cell_type": "markdown",
   "metadata": {},
   "source": [
    "__Восстановление локальных признаков:__  \n",
    "Восставить пропуски в столбце `airports_nearest` для небольших населенных пунктов предполагалась за счет имеющихся данным по ним. Из-за отсутствия таковых, в основном, этого сделать не удалось."
   ]
  },
  {
   "cell_type": "markdown",
   "metadata": {},
   "source": [
    "#### Устранение аномалий в данных"
   ]
  },
  {
   "cell_type": "markdown",
   "metadata": {},
   "source": [
    "Найдём и устраним редкие и выбивающиеся значения. Для этого построим диаграмму размах для признаков. Попробуем восстановить данных, где это возможно."
   ]
  },
  {
   "cell_type": "code",
   "execution_count": 20,
   "metadata": {
    "ExecuteTime": {
     "end_time": "2022-11-09T06:39:39.584092Z",
     "start_time": "2022-11-09T06:39:39.474092Z"
    }
   },
   "outputs": [
    {
     "data": {
      "text/html": [
       "<div>\n",
       "<style scoped>\n",
       "    .dataframe tbody tr th:only-of-type {\n",
       "        vertical-align: middle;\n",
       "    }\n",
       "\n",
       "    .dataframe tbody tr th {\n",
       "        vertical-align: top;\n",
       "    }\n",
       "\n",
       "    .dataframe thead th {\n",
       "        text-align: right;\n",
       "    }\n",
       "</style>\n",
       "<table border=\"1\" class=\"dataframe\">\n",
       "  <thead>\n",
       "    <tr style=\"text-align: right;\">\n",
       "      <th></th>\n",
       "      <th>total_images</th>\n",
       "      <th>last_price</th>\n",
       "      <th>total_area</th>\n",
       "      <th>rooms</th>\n",
       "      <th>ceiling_height</th>\n",
       "      <th>floors_total</th>\n",
       "      <th>living_area</th>\n",
       "      <th>floor</th>\n",
       "      <th>kitchen_area</th>\n",
       "      <th>balcony</th>\n",
       "      <th>airports_nearest</th>\n",
       "      <th>cityCenters_nearest</th>\n",
       "      <th>parks_around3000</th>\n",
       "      <th>parks_nearest</th>\n",
       "      <th>ponds_around3000</th>\n",
       "      <th>ponds_nearest</th>\n",
       "      <th>days_exposition</th>\n",
       "    </tr>\n",
       "  </thead>\n",
       "  <tbody>\n",
       "    <tr>\n",
       "      <th>count</th>\n",
       "      <td>23565.000000</td>\n",
       "      <td>2.356500e+04</td>\n",
       "      <td>23565.000000</td>\n",
       "      <td>23565.000000</td>\n",
       "      <td>14481.000000</td>\n",
       "      <td>23565.000000</td>\n",
       "      <td>21700.000000</td>\n",
       "      <td>23565.000000</td>\n",
       "      <td>21343.000000</td>\n",
       "      <td>23565.000000</td>\n",
       "      <td>18044.000000</td>\n",
       "      <td>18064.000000</td>\n",
       "      <td>18065.000000</td>\n",
       "      <td>8030.000000</td>\n",
       "      <td>18065.000000</td>\n",
       "      <td>9036.000000</td>\n",
       "      <td>20394.000000</td>\n",
       "    </tr>\n",
       "    <tr>\n",
       "      <th>mean</th>\n",
       "      <td>9.878421</td>\n",
       "      <td>6.540058e+06</td>\n",
       "      <td>60.322824</td>\n",
       "      <td>2.070656</td>\n",
       "      <td>2.771283</td>\n",
       "      <td>10.675875</td>\n",
       "      <td>34.454822</td>\n",
       "      <td>5.878124</td>\n",
       "      <td>10.560994</td>\n",
       "      <td>0.593677</td>\n",
       "      <td>28795.192308</td>\n",
       "      <td>14192.656056</td>\n",
       "      <td>0.611569</td>\n",
       "      <td>490.580448</td>\n",
       "      <td>0.769499</td>\n",
       "      <td>518.289509</td>\n",
       "      <td>180.741395</td>\n",
       "    </tr>\n",
       "    <tr>\n",
       "      <th>std</th>\n",
       "      <td>5.681156</td>\n",
       "      <td>1.091093e+07</td>\n",
       "      <td>35.657060</td>\n",
       "      <td>1.078591</td>\n",
       "      <td>1.261983</td>\n",
       "      <td>6.594823</td>\n",
       "      <td>22.045359</td>\n",
       "      <td>4.871485</td>\n",
       "      <td>5.900630</td>\n",
       "      <td>0.960660</td>\n",
       "      <td>12632.300179</td>\n",
       "      <td>8613.348153</td>\n",
       "      <td>0.802088</td>\n",
       "      <td>341.572956</td>\n",
       "      <td>0.938669</td>\n",
       "      <td>278.009558</td>\n",
       "      <td>219.732782</td>\n",
       "    </tr>\n",
       "    <tr>\n",
       "      <th>min</th>\n",
       "      <td>0.000000</td>\n",
       "      <td>1.219000e+04</td>\n",
       "      <td>12.000000</td>\n",
       "      <td>0.000000</td>\n",
       "      <td>1.000000</td>\n",
       "      <td>1.000000</td>\n",
       "      <td>2.000000</td>\n",
       "      <td>1.000000</td>\n",
       "      <td>1.300000</td>\n",
       "      <td>0.000000</td>\n",
       "      <td>0.000000</td>\n",
       "      <td>181.000000</td>\n",
       "      <td>0.000000</td>\n",
       "      <td>1.000000</td>\n",
       "      <td>0.000000</td>\n",
       "      <td>13.000000</td>\n",
       "      <td>1.000000</td>\n",
       "    </tr>\n",
       "    <tr>\n",
       "      <th>25%</th>\n",
       "      <td>6.000000</td>\n",
       "      <td>3.400000e+06</td>\n",
       "      <td>40.000000</td>\n",
       "      <td>1.000000</td>\n",
       "      <td>2.510000</td>\n",
       "      <td>5.000000</td>\n",
       "      <td>18.600000</td>\n",
       "      <td>2.000000</td>\n",
       "      <td>7.000000</td>\n",
       "      <td>0.000000</td>\n",
       "      <td>18557.000000</td>\n",
       "      <td>9238.000000</td>\n",
       "      <td>0.000000</td>\n",
       "      <td>288.000000</td>\n",
       "      <td>0.000000</td>\n",
       "      <td>293.000000</td>\n",
       "      <td>45.000000</td>\n",
       "    </tr>\n",
       "    <tr>\n",
       "      <th>50%</th>\n",
       "      <td>9.000000</td>\n",
       "      <td>4.646000e+06</td>\n",
       "      <td>52.000000</td>\n",
       "      <td>2.000000</td>\n",
       "      <td>2.650000</td>\n",
       "      <td>9.000000</td>\n",
       "      <td>30.000000</td>\n",
       "      <td>4.000000</td>\n",
       "      <td>9.100000</td>\n",
       "      <td>0.000000</td>\n",
       "      <td>26755.500000</td>\n",
       "      <td>13096.500000</td>\n",
       "      <td>0.000000</td>\n",
       "      <td>455.000000</td>\n",
       "      <td>1.000000</td>\n",
       "      <td>503.000000</td>\n",
       "      <td>95.000000</td>\n",
       "    </tr>\n",
       "    <tr>\n",
       "      <th>75%</th>\n",
       "      <td>14.000000</td>\n",
       "      <td>6.790000e+06</td>\n",
       "      <td>69.700000</td>\n",
       "      <td>3.000000</td>\n",
       "      <td>2.800000</td>\n",
       "      <td>16.000000</td>\n",
       "      <td>42.300000</td>\n",
       "      <td>8.000000</td>\n",
       "      <td>12.000000</td>\n",
       "      <td>1.000000</td>\n",
       "      <td>37273.000000</td>\n",
       "      <td>16285.000000</td>\n",
       "      <td>1.000000</td>\n",
       "      <td>612.000000</td>\n",
       "      <td>1.000000</td>\n",
       "      <td>730.000000</td>\n",
       "      <td>231.000000</td>\n",
       "    </tr>\n",
       "    <tr>\n",
       "      <th>max</th>\n",
       "      <td>50.000000</td>\n",
       "      <td>7.630000e+08</td>\n",
       "      <td>900.000000</td>\n",
       "      <td>19.000000</td>\n",
       "      <td>100.000000</td>\n",
       "      <td>60.000000</td>\n",
       "      <td>409.700000</td>\n",
       "      <td>33.000000</td>\n",
       "      <td>112.000000</td>\n",
       "      <td>5.000000</td>\n",
       "      <td>84869.000000</td>\n",
       "      <td>65968.000000</td>\n",
       "      <td>3.000000</td>\n",
       "      <td>3190.000000</td>\n",
       "      <td>3.000000</td>\n",
       "      <td>1344.000000</td>\n",
       "      <td>1580.000000</td>\n",
       "    </tr>\n",
       "  </tbody>\n",
       "</table>\n",
       "</div>"
      ],
      "text/plain": [
       "       total_images    last_price    total_area         rooms  ceiling_height  \\\n",
       "count  23565.000000  2.356500e+04  23565.000000  23565.000000    14481.000000   \n",
       "mean       9.878421  6.540058e+06     60.322824      2.070656        2.771283   \n",
       "std        5.681156  1.091093e+07     35.657060      1.078591        1.261983   \n",
       "min        0.000000  1.219000e+04     12.000000      0.000000        1.000000   \n",
       "25%        6.000000  3.400000e+06     40.000000      1.000000        2.510000   \n",
       "50%        9.000000  4.646000e+06     52.000000      2.000000        2.650000   \n",
       "75%       14.000000  6.790000e+06     69.700000      3.000000        2.800000   \n",
       "max       50.000000  7.630000e+08    900.000000     19.000000      100.000000   \n",
       "\n",
       "       floors_total   living_area         floor  kitchen_area       balcony  \\\n",
       "count  23565.000000  21700.000000  23565.000000  21343.000000  23565.000000   \n",
       "mean      10.675875     34.454822      5.878124     10.560994      0.593677   \n",
       "std        6.594823     22.045359      4.871485      5.900630      0.960660   \n",
       "min        1.000000      2.000000      1.000000      1.300000      0.000000   \n",
       "25%        5.000000     18.600000      2.000000      7.000000      0.000000   \n",
       "50%        9.000000     30.000000      4.000000      9.100000      0.000000   \n",
       "75%       16.000000     42.300000      8.000000     12.000000      1.000000   \n",
       "max       60.000000    409.700000     33.000000    112.000000      5.000000   \n",
       "\n",
       "       airports_nearest  cityCenters_nearest  parks_around3000  parks_nearest  \\\n",
       "count      18044.000000         18064.000000      18065.000000    8030.000000   \n",
       "mean       28795.192308         14192.656056          0.611569     490.580448   \n",
       "std        12632.300179          8613.348153          0.802088     341.572956   \n",
       "min            0.000000           181.000000          0.000000       1.000000   \n",
       "25%        18557.000000          9238.000000          0.000000     288.000000   \n",
       "50%        26755.500000         13096.500000          0.000000     455.000000   \n",
       "75%        37273.000000         16285.000000          1.000000     612.000000   \n",
       "max        84869.000000         65968.000000          3.000000    3190.000000   \n",
       "\n",
       "       ponds_around3000  ponds_nearest  days_exposition  \n",
       "count      18065.000000    9036.000000     20394.000000  \n",
       "mean           0.769499     518.289509       180.741395  \n",
       "std            0.938669     278.009558       219.732782  \n",
       "min            0.000000      13.000000         1.000000  \n",
       "25%            0.000000     293.000000        45.000000  \n",
       "50%            1.000000     503.000000        95.000000  \n",
       "75%            1.000000     730.000000       231.000000  \n",
       "max            3.000000    1344.000000      1580.000000  "
      ]
     },
     "execution_count": 20,
     "metadata": {},
     "output_type": "execute_result"
    }
   ],
   "source": [
    "# статистика по числовым данным\n",
    "df.describe()"
   ]
  },
  {
   "cell_type": "code",
   "execution_count": 21,
   "metadata": {
    "ExecuteTime": {
     "end_time": "2022-11-09T06:39:39.616103Z",
     "start_time": "2022-11-09T06:39:39.586094Z"
    },
    "scrolled": true
   },
   "outputs": [
    {
     "data": {
      "text/html": [
       "<div>\n",
       "<style scoped>\n",
       "    .dataframe tbody tr th:only-of-type {\n",
       "        vertical-align: middle;\n",
       "    }\n",
       "\n",
       "    .dataframe tbody tr th {\n",
       "        vertical-align: top;\n",
       "    }\n",
       "\n",
       "    .dataframe thead th {\n",
       "        text-align: right;\n",
       "    }\n",
       "</style>\n",
       "<table border=\"1\" class=\"dataframe\">\n",
       "  <thead>\n",
       "    <tr style=\"text-align: right;\">\n",
       "      <th></th>\n",
       "      <th>locality_name</th>\n",
       "      <th>locality_only_name</th>\n",
       "    </tr>\n",
       "  </thead>\n",
       "  <tbody>\n",
       "    <tr>\n",
       "      <th>count</th>\n",
       "      <td>23565</td>\n",
       "      <td>23565</td>\n",
       "    </tr>\n",
       "    <tr>\n",
       "      <th>unique</th>\n",
       "      <td>364</td>\n",
       "      <td>305</td>\n",
       "    </tr>\n",
       "    <tr>\n",
       "      <th>top</th>\n",
       "      <td>Санкт-Петербург</td>\n",
       "      <td>Санкт-Петербург</td>\n",
       "    </tr>\n",
       "    <tr>\n",
       "      <th>freq</th>\n",
       "      <td>15651</td>\n",
       "      <td>15651</td>\n",
       "    </tr>\n",
       "  </tbody>\n",
       "</table>\n",
       "</div>"
      ],
      "text/plain": [
       "          locality_name locality_only_name\n",
       "count             23565              23565\n",
       "unique              364                305\n",
       "top     Санкт-Петербург    Санкт-Петербург\n",
       "freq              15651              15651"
      ]
     },
     "execution_count": 21,
     "metadata": {},
     "output_type": "execute_result"
    }
   ],
   "source": [
    "# статистика по строковым данным\n",
    "df.describe(include=[object])"
   ]
  },
  {
   "cell_type": "code",
   "execution_count": 30,
   "metadata": {
    "ExecuteTime": {
     "end_time": "2022-11-09T06:39:40.621169Z",
     "start_time": "2022-11-09T06:39:40.575168Z"
    },
    "scrolled": true
   },
   "outputs": [],
   "source": [
    "# копия данных\n",
    "df_scaled = df.copy()\n",
    "# только числовые столбцы\n",
    "col_to_pic = []\n",
    "for col in df.columns:\n",
    "    if df_scaled[col].dtype == 'int' or df_scaled[col].dtype == 'float':\n",
    "        col_to_pic.append(col)        \n",
    "        # стандартизация числовых значений\n",
    "        df_scaled[col]  = df_scaled[col] / df_scaled[col].max()"
   ]
  },
  {
   "cell_type": "code",
   "execution_count": 31,
   "metadata": {
    "ExecuteTime": {
     "end_time": "2022-11-09T06:39:41.285082Z",
     "start_time": "2022-11-09T06:39:40.623172Z"
    }
   },
   "outputs": [
    {
     "data": {
      "image/png": "[encoded data removed]",
      "text/plain": [
       "<Figure size 1440x720 with 1 Axes>"
      ]
     },
     "metadata": {
      "needs_background": "light"
     },
     "output_type": "display_data"
    }
   ],
   "source": [
    "# диаграмма размаха числовых признаков\n",
    "df_scaled[col_to_pic].boxplot(figsize=(20,10), rot=45);"
   ]
  },
  {
   "cell_type": "code",
   "execution_count": 32,
   "metadata": {
    "ExecuteTime": {
     "end_time": "2022-11-09T06:39:41.364538Z",
     "start_time": "2022-11-09T06:39:41.287083Z"
    }
   },
   "outputs": [],
   "source": [
    "# исправление некорректных данных о высоте полтолков\n",
    "df['ceiling_height'] = df['ceiling_height'].where(df['ceiling_height'] < 20, df['ceiling_height'] / 10)\n",
    "# исправление некорректных данных о цене увартиры\n",
    "df['last_price'] = df['last_price'].where(df['last_price'] > 100000, df['last_price'] * 1000)\n",
    "# исправление некорректных данных о числе комнат\n",
    "df['rooms'] = df['rooms'].where(df['rooms'] > 0, 1)\n",
    "# исправление некорректных данных о расстоянии до ближайшего аэропорта\n",
    "df['airports_nearest'] = df['airports_nearest'].where(df['airports_nearest'] > 1000, np.nan)\n",
    "\n",
    "# удаление аномалий в данных о количестве этажей\n",
    "df['floors_total'] = df.query('floors_total < 50')['floors_total']\n",
    "# удаление аномалий в данных о высоте полтолков\n",
    "df['ceiling_height'] = df.query('ceiling_height >= 2 and ceiling_height < 7')['ceiling_height']\n",
    "# удаление аномалий в данных о площади жилой зоны\n",
    "df['living_area'] = df.query('living_area >= 8')['living_area']\n",
    "# удаление аномалий в данных о площади кухни\n",
    "df['kitchen_area'] = df.query('living_area >= 1.8')['kitchen_area']\n",
    "# удаление аномалий в данных о расстоянии до ближайшего парка\n",
    "df['parks_nearest'] = df.query('parks_nearest >= 10')['parks_nearest']"
   ]
  },
  {
   "cell_type": "markdown",
   "metadata": {},
   "source": [
    "__Замечания по устранению аномалий:__\n",
    "Аномалии в данных - единичны. Для анализа требуется удаление большего числа нерепрезентативных данных.  \n",
    "\n",
    "Отмеченные анамалии в данных:  \n",
    "1. В столбце `ceiling_height` среди значений высоты потолка встречаются повторяющиеся значения в 27.0 и 32.0. Причем параметры площади, цены, этажности квартиры говорят о том, что она достаточно стандартна. Так что, высота потолка в этих случаях заменена на очевидные значения в 2.7 и 3.2 м. Среди квартир со средней ценой и площадью встречаются аномальные значения высоты: 1 м. и более 8 м. - они удалены как неправдоподобные. \n",
    "1. Аномальное значение цены в столбце `last_price` 12 190.0 р. за квартиру в 109 кв.м заменено на 12 190 000 р.\n",
    "2. В столбце `rooms` много нулевых значений. Такое указание числа комнат характерно для квартир-студий. Значение было заменено на 1.\n",
    "4. В столбце `floors_total` удалены данные с количеством этажей выше 50 как неправдоподобные.\n",
    "5. В столбце `living_area` удалены данные с площадью жилой зоны менее 8 кв.м как неправдоподобные.\n",
    "6. В столбце `kitchen_area` удалены данные с площадью кухни менее 1.8 кв.м как неправдоподобные.\n",
    "7. В столбце `airports_nearest` заменены некорректные данные о расстоянии до ближайшего аэропорта на `NaN`.\n",
    "8. В столбце `parks_nearest`удалены данные о расстоянии до ближайшего парка менее 10 м. как неправдоподобные."
   ]
  },
  {
   "cell_type": "code",
   "execution_count": 33,
   "metadata": {
    "ExecuteTime": {
     "end_time": "2022-11-09T06:39:41.475546Z",
     "start_time": "2022-11-09T06:39:41.366539Z"
    }
   },
   "outputs": [],
   "source": [
    "# функция обрезки выбросов\n",
    "def cut_outliers(dt):\n",
    "    for col in dt.columns:\n",
    "        if dt[col].dtypes == 'int64' or dt[col].dtypes == 'float64':\n",
    "            # расчет процентилей\n",
    "            quantiles = dt[col].quantile(q=[.01, .99])\n",
    "            dt[col] = dt.loc[(dt[col] >= quantiles.iloc[0]) & (dt[col] <= quantiles.iloc[1]), col]\n",
    "    return dt\n",
    "# обрезка выбросов для выбранных признаков\n",
    "df = cut_outliers(df)"
   ]
  },
  {
   "cell_type": "markdown",
   "metadata": {},
   "source": [
    "__Удаление редких данных:__  \n",
    "Для анализа гистограмм недостаточно удалить аномалии. Многие признаки имеют длинные правые \"хвосты\". Отбросим их, обрезав 99-ым процентилем по каждому признаку в отдельности. Дальнейший анализ проведем с уже урезанными данными"
   ]
  },
  {
   "cell_type": "markdown",
   "metadata": {},
   "source": [
    "### Создание новых признаков"
   ]
  },
  {
   "cell_type": "markdown",
   "metadata": {},
   "source": [
    "Создадим следующие новые признаки на основе существующих и добавим их в таблицу:\n",
    "* цена одного квадратного метра;\n",
    "* день недели публикации объявления (0 — понедельник, 1 — вторник и так далее);\n",
    "* месяц публикации объявления;\n",
    "* год публикации объявления;\n",
    "* тип этажа квартиры (значения — «первый», «последний», «другой»);\n",
    "* расстояние до центра города в километрах."
   ]
  },
  {
   "cell_type": "code",
   "execution_count": 34,
   "metadata": {
    "ExecuteTime": {
     "end_time": "2022-11-09T06:39:41.523606Z",
     "start_time": "2022-11-09T06:39:41.477548Z"
    }
   },
   "outputs": [],
   "source": [
    "# создание столбца с ценами за кв.т\n",
    "df['price_m2'] = df['last_price'] / df['total_area']\n",
    "# создание столбца с днем публикации объявления\n",
    "df['weekday_exposition'] = df['first_day_exposition'].dt.weekday\n",
    "# создание столбца с месяцем публикации объявления\n",
    "df['month_exposition'] = df['first_day_exposition'].dt.month\n",
    "# создание столбца с годом публикации объявления\n",
    "df['year_exposition'] = df['first_day_exposition'].dt.year"
   ]
  },
  {
   "cell_type": "code",
   "execution_count": 35,
   "metadata": {
    "ExecuteTime": {
     "end_time": "2022-11-09T06:39:41.730624Z",
     "start_time": "2022-11-09T06:39:41.525606Z"
    }
   },
   "outputs": [],
   "source": [
    "# создание столбца с растоянием до центра города в километрах\n",
    "df['cityCenters_nearest_km'] = df['cityCenters_nearest'] // 1000\n",
    "df[df['cityCenters_nearest_km'] == 0] = 1\n",
    "#df['cityCenters_nearest_km'].astype('int64')"
   ]
  },
  {
   "cell_type": "code",
   "execution_count": 36,
   "metadata": {
    "ExecuteTime": {
     "end_time": "2022-11-09T06:39:41.746629Z",
     "start_time": "2022-11-09T06:39:41.732627Z"
    }
   },
   "outputs": [],
   "source": [
    "# создание столбца с типами этажей\n",
    "df['floor_type'] = 'другой'\n",
    "df.loc[df['floor'] == 1, 'floor_type'] = 'первый'\n",
    "df.loc[~(df['floor'] == 1) & (df['floor'] == df['floors_total']), 'floor_type'] = 'последний'"
   ]
  },
  {
   "cell_type": "markdown",
   "metadata": {},
   "source": [
    "__Список добавленных столбцов:__  \n",
    "Ниже все новые столбцы, добавленные на разных этапах проекта.\n",
    "* `price_m2` - цена одного квадратного метра;\n",
    "* `weekday_exposition` - день недели публикации объявления (0 — понедельник, 1 — вторник и так далее);\n",
    "* `month_exposition` - месяц публикации объявления;\n",
    "* `year_exposition` - год публикации объявления;\n",
    "* `floor_type` - тип этажа квартиры (значения — «первый», «последний», «другой»);\n",
    "* `cityCenters_nearest_km` - расстояние до центра города в километрах;\n",
    "* `is_actual`- предположительно, актуальная продажа;\n",
    "* `locality_only_name`- название населенного пункта без указания типа;\n",
    "* `is_city`- тип населенного пункта.   "
   ]
  },
  {
   "cell_type": "markdown",
   "metadata": {},
   "source": [
    "### Исследовательский анализ данных"
   ]
  },
  {
   "cell_type": "markdown",
   "metadata": {},
   "source": [
    "#### Изучение параметров объектов недвижимости"
   ]
  },
  {
   "cell_type": "markdown",
   "metadata": {},
   "source": [
    "Изучим следующие параметры объектов:\n",
    "* общая площадь;\n",
    "* жилая площадь;\n",
    "* площадь кухни;\n",
    "* цена объекта;\n",
    "* количество комнат;\n",
    "* высота потолков;\n",
    "* этаж квартиры;\n",
    "* тип этажа квартиры («первый», «последний», «другой»);\n",
    "* общее количество этажей в доме;\n",
    "* расстояние до центра города в метрах;\n",
    "* расстояние до ближайшего аэропорта;\n",
    "* расстояние до ближайшего парка;\n",
    "* день и месяц публикации объявления.\n",
    "\n",
    "\n",
    "Построим отдельные гистограммы для каждого из этих параметров. Опишем наши наблюдения по параметрам."
   ]
  },
  {
   "cell_type": "code",
   "execution_count": 37,
   "metadata": {
    "ExecuteTime": {
     "end_time": "2022-11-09T06:39:41.841392Z",
     "start_time": "2022-11-09T06:39:41.750629Z"
    }
   },
   "outputs": [],
   "source": [
    "# признаки для построения гистограмм\n",
    "cols_to_hist = ['total_area',\n",
    "                'living_area',\n",
    "                'kitchen_area',\n",
    "                'last_price',\n",
    "                'rooms',\n",
    "                'ceiling_height',\n",
    "                'floor',                \n",
    "                'floor_type',\n",
    "                'floors_total',\n",
    "                'cityCenters_nearest',\n",
    "                'airports_nearest',\n",
    "                'parks_nearest',\n",
    "                'weekday_exposition',\n",
    "                'month_exposition']\n",
    "# число корзин для выбранных признаков\n",
    "bin_var = [30, 20, 20, 23, 4, 15, 15, 3, 19, 25, 15, 25, 7, 12]\n",
    "range_var1 = [10, 10, 5, 2e6, 1, 2.25, 0, 0, 2, 0, 5e3, 0, 0, 0]\n",
    "range_var2 = [160, 90, 25, 2.5e7, 5, 3.75, 15, 3, 21, 3.5e4, 5e4, 1e3, 7, 12]"
   ]
  },
  {
   "cell_type": "code",
   "execution_count": 38,
   "metadata": {
    "ExecuteTime": {
     "end_time": "2022-11-09T06:39:45.404310Z",
     "start_time": "2022-11-09T06:39:41.843392Z"
    },
    "scrolled": false
   },
   "outputs": [
    {
     "data": {
      "image/png": "[encoded data removed]",
      "text/plain": [
       "<Figure size 432x288 with 1 Axes>"
      ]
     },
     "metadata": {
      "needs_background": "light"
     },
     "output_type": "display_data"
    },
    {
     "data": {
      "image/png": "[encoded data removed]",
      "text/plain": [
       "<Figure size 432x288 with 1 Axes>"
      ]
     },
     "metadata": {
      "needs_background": "light"
     },
     "output_type": "display_data"
    },
    {
     "data": {
      "image/png": "[encoded data removed]",
      "text/plain": [
       "<Figure size 432x288 with 1 Axes>"
      ]
     },
     "metadata": {
      "needs_background": "light"
     },
     "output_type": "display_data"
    },
    {
     "data": {
      "image/png": "[encoded data removed]",
      "text/plain": [
       "<Figure size 432x288 with 1 Axes>"
      ]
     },
     "metadata": {
      "needs_background": "light"
     },
     "output_type": "display_data"
    },
    {
     "data": {
      "image/png": "[encoded data removed]",
      "text/plain": [
       "<Figure size 432x288 with 1 Axes>"
      ]
     },
     "metadata": {
      "needs_background": "light"
     },
     "output_type": "display_data"
    },
    {
     "data": {
      "image/png": "[encoded data removed]",
      "text/plain": [
       "<Figure size 432x288 with 1 Axes>"
      ]
     },
     "metadata": {
      "needs_background": "light"
     },
     "output_type": "display_data"
    },
    {
     "data": {
      "image/png": "[encoded data removed]",
      "text/plain": [
       "<Figure size 432x288 with 1 Axes>"
      ]
     },
     "metadata": {
      "needs_background": "light"
     },
     "output_type": "display_data"
    },
    {
     "data": {
      "image/png": "[encoded data removed]",
      "text/plain": [
       "<Figure size 432x288 with 1 Axes>"
      ]
     },
     "metadata": {
      "needs_background": "light"
     },
     "output_type": "display_data"
    },
    {
     "data": {
      "image/png": "[encoded data removed]",
      "text/plain": [
       "<Figure size 432x288 with 1 Axes>"
      ]
     },
     "metadata": {
      "needs_background": "light"
     },
     "output_type": "display_data"
    },
    {
     "data": {
      "image/png": "[encoded data removed]",
      "text/plain": [
       "<Figure size 432x288 with 1 Axes>"
      ]
     },
     "metadata": {
      "needs_background": "light"
     },
     "output_type": "display_data"
    },
    {
     "data": {
      "image/png": "[encoded data removed]",
      "text/plain": [
       "<Figure size 432x288 with 1 Axes>"
      ]
     },
     "metadata": {
      "needs_background": "light"
     },
     "output_type": "display_data"
    },
    {
     "data": {
      "image/png": "[encoded data removed]",
      "text/plain": [
       "<Figure size 432x288 with 1 Axes>"
      ]
     },
     "metadata": {
      "needs_background": "light"
     },
     "output_type": "display_data"
    },
    {
     "data": {
      "image/png": "[encoded data removed]",
      "text/plain": [
       "<Figure size 432x288 with 1 Axes>"
      ]
     },
     "metadata": {
      "needs_background": "light"
     },
     "output_type": "display_data"
    },
    {
     "data": {
      "image/png": "[encoded data removed]",
      "text/plain": [
       "<Figure size 432x288 with 1 Axes>"
      ]
     },
     "metadata": {
      "needs_background": "light"
     },
     "output_type": "display_data"
    }
   ],
   "source": [
    "# гистограммы обработанных данных\n",
    "for i in range(len(cols_to_hist)):\n",
    "    df[cols_to_hist[i]].hist(bins=bin_var[i], range=(range_var1[i], range_var2[i]), legend=[cols_to_hist[i]]);\n",
    "    plt.show()"
   ]
  },
  {
   "cell_type": "markdown",
   "metadata": {},
   "source": [
    "__Описание характера гистограмм:__  \n",
    "* Наибольшее число продаваемых квартир имеет площадь от около 40 кв.м. С ростом метража предложение постепенно уменьшается, а после 130-140 кв.м оно крайне незначительно.\n",
    "* Гистограмма жилой площади в целом повторяет график полной, но имеет выраженный провал, что объясняется резкой разницей в площади наиболее популярных одно- и двухкомнатных квартир.\n",
    "* У площади кухни таких провалов нет, но существует минимальный размер кухни - около 5 м. Наиболее типичный размер кухни около 8 кв.м. Это объясняется тем, что у большинства типовых квартир площадь кухни примерно одинакова, вне зависимости от числа комнат и общей площади. Перед вторичным пиком около 10 кв.м наблюдается спад. Возможно, тут проходит разделение между бюджетным и более комфортабельным жильем.\n",
    "* Гистограмма цены представляет собой типичное пуассоновское распределение с длинным правым \"хвостом\". Что характерно и для трех предыдущих графиков. Типичная цена составляет 4-5 млн.р.\n",
    "* По гистограмме с числом комнат видно, что преобладают одно- и двухкомнатные квартиры. Предложения по квартирам Число квартир с 4 комнатами и более невелико.\n",
    "* Высота потолков в квартире изменяется достаточно незначительно. В подавляющем большинстве высота составляет около 2.5 м. Вторичный пик приходится на высоту около 3 м, которая вероятно приходится на жилье повышенной комфортности.\n",
    "* Характер графика этажа расположения квартиры ниспадающий. Он показывает два резкий спад после 5 - возможно, это границы разделения для пятиэтажных зданий.\n",
    "* На графике типа этажа предсказуемо преобладает типа этажа \"другой\", поскольку дома в большинстве многоэтажные. Первый и последний этажи показывают схожие, и куда меньшие показатели.\n",
    "* Гистограмма числа этажей показывает два снижающихся пика, отмечающих 5-ти и 9-тиэтажные здания.\n",
    "* График расстояния до центра показывает два растущих пика около 5 и 12 км и резкий спад после 17. Так как предложения о продаже жилья, в основном, из самого Санкт-Петербурга, то они, по-видимому, объясняются особенностями месторасположения спальных районов. Кроме того, график показывает, что предложения по жилью в самом центре города тоже достаточно.\n",
    "* Гистограмма расстояния до ближайшего аэропорта показывает увеличение предложения по мере удаленности от аэропортов и  достигает пика около 25 км. Его можно объяснить нежеланием покупать жилье рядом с аэропортом из-за самолетного гула. После вторичного, более низкого пика в 35 км начинается спад, связанный, видимо, с выходом за городскую черту и общим снижением отсутствием предложения. Около 30 км на графике видна впадина - не исключено, что здесь зона наложения влияние нескольких аэропортов.\n",
    "* Гистограмма расстояния до ближайшего парка почти симметрична. Она показывает, что парки, в основном, не далее полукилометра от дома. Связано это, возможно, не столько с предпочтениями покупателей, сколько с особенностями архитектурного планирования жилой застройки.\n",
    "* График размещения объявлений по дням недели демонстрирует спад на выходных.\n",
    "* График размещения объявлений по месяцам демонстрирует спад в январе и мае, резкий пик в декабре. Здесь очевидная связь с затяжными праздниками, предновогодними покупками и подведением итогов года."
   ]
  },
  {
   "cell_type": "markdown",
   "metadata": {},
   "source": [
    "#### Изучение характера продажи квартир"
   ]
  },
  {
   "cell_type": "markdown",
   "metadata": {},
   "source": [
    "Изучим, как быстро продавались квартиры (столбец `days_exposition`). Этот параметр показывает, сколько дней было размещено каждое объявление. Опишем, сколько времени обычно занимает продажа. Ответим на вопрос: \"Какие продажи можно считать быстрыми, а какие — необычно долгими?\""
   ]
  },
  {
   "cell_type": "code",
   "execution_count": 39,
   "metadata": {
    "ExecuteTime": {
     "end_time": "2022-11-09T06:39:45.981352Z",
     "start_time": "2022-11-09T06:39:45.407309Z"
    }
   },
   "outputs": [
    {
     "data": {
      "image/png": "[encoded data removed]",
      "text/plain": [
       "<Figure size 720x360 with 2 Axes>"
      ]
     },
     "metadata": {
      "needs_background": "light"
     },
     "output_type": "display_data"
    }
   ],
   "source": [
    "# гистограмма срока продажи\n",
    "df['days_exposition'].hist(figsize=(10, 5), bins=50, legend='days_exposition')\n",
    "plt.axes([.55, .4, .35, .4])\n",
    "# гистограмма выборки сроком менее 200 дней\n",
    "df['days_exposition'].hist(bins=30, range=(0, 150));"
   ]
  },
  {
   "cell_type": "code",
   "execution_count": 40,
   "metadata": {
    "ExecuteTime": {
     "end_time": "2022-11-09T06:39:45.996354Z",
     "start_time": "2022-11-09T06:39:45.986354Z"
    }
   },
   "outputs": [
    {
     "name": "stdout",
     "output_type": "stream",
     "text": [
      "Средний срок продажи: 181 дней\n",
      "Медианный срок продажи: 95 дней\n"
     ]
    }
   ],
   "source": [
    "# среднее и медиана рассчитаны по полным данным\n",
    "days_mean = data['days_exposition'].mean()\n",
    "days_median = data['days_exposition'].median()\n",
    "print(f'Средний срок продажи: {days_mean:.0f} дней\\nМедианный срок продажи: {days_median:.0f} дней')"
   ]
  },
  {
   "cell_type": "markdown",
   "metadata": {},
   "source": [
    "__Описание характера срока продажи:__  \n",
    "Типичное (медианное) время продажи квартиры составляет около 3 мес. График срока продаж сильно растянут вправо - это ведет к увеличению среднего срока продажи до полугода. Продажи длящиеся более данного периода можно считать _необычно долгими_. Наиболее интенсивные продажи происходят в первый же месяц. Повторный и даже более высокий пик появляется на второй месяц - продажи в течение этого срока можно полгать _быстрыми_. Возможно, такая активность связана с деятельностью риэлтеров, а 2 мес. рассматривается как, своего рода, дедлайн."
   ]
  },
  {
   "cell_type": "markdown",
   "metadata": {},
   "source": [
    "#### Изучение основных факторов, влияющих на цену недвижимости"
   ]
  },
  {
   "cell_type": "markdown",
   "metadata": {},
   "source": [
    "Посмотрим какие факторы больше всего влияют на общую (полную) стоимость объекта. Изучим, зависит ли цена от:\n",
    "* общей площади;\n",
    "* жилой площади;\n",
    "* площади кухни;\n",
    "* количества комнат;\n",
    "* этажа, на котором расположена квартира («первый», «последний», «другой»);\n",
    "* даты размещения (день недели, месяц, год).  \n",
    "\n",
    "\n",
    "Построим графики, показывающие зависимость цены от указанных выше параметров."
   ]
  },
  {
   "cell_type": "code",
   "execution_count": 41,
   "metadata": {
    "ExecuteTime": {
     "end_time": "2022-11-09T06:39:46.236373Z",
     "start_time": "2022-11-09T06:39:46.003358Z"
    }
   },
   "outputs": [
    {
     "data": {
      "text/html": [
       "<style  type=\"text/css\" >\n",
       "#T_2010a_row0_col0,#T_2010a_row1_col1,#T_2010a_row2_col2,#T_2010a_row3_col3,#T_2010a_row4_col4,#T_2010a_row5_col5,#T_2010a_row6_col6,#T_2010a_row7_col7,#T_2010a_row8_col8,#T_2010a_row9_col9,#T_2010a_row10_col10,#T_2010a_row11_col11,#T_2010a_row11_col21,#T_2010a_row12_col12,#T_2010a_row13_col13,#T_2010a_row14_col14,#T_2010a_row15_col15,#T_2010a_row16_col16,#T_2010a_row17_col17,#T_2010a_row18_col18,#T_2010a_row19_col19,#T_2010a_row20_col20,#T_2010a_row21_col11,#T_2010a_row21_col21{\n",
       "            background-color:  #b40426;\n",
       "            color:  #f1f1f1;\n",
       "        }#T_2010a_row0_col1,#T_2010a_row0_col16,#T_2010a_row5_col8,#T_2010a_row13_col20{\n",
       "            background-color:  #b3cdfb;\n",
       "            color:  #000000;\n",
       "        }#T_2010a_row0_col2,#T_2010a_row13_col21,#T_2010a_row14_col8,#T_2010a_row15_col21,#T_2010a_row18_col11,#T_2010a_row19_col4{\n",
       "            background-color:  #9abbff;\n",
       "            color:  #000000;\n",
       "        }#T_2010a_row0_col3,#T_2010a_row7_col4{\n",
       "            background-color:  #8fb1fe;\n",
       "            color:  #000000;\n",
       "        }#T_2010a_row0_col4,#T_2010a_row3_col12,#T_2010a_row20_col11{\n",
       "            background-color:  #a1c0ff;\n",
       "            color:  #000000;\n",
       "        }#T_2010a_row0_col5,#T_2010a_row6_col15,#T_2010a_row9_col8,#T_2010a_row10_col4,#T_2010a_row16_col15,#T_2010a_row18_col5,#T_2010a_row19_col2,#T_2010a_row19_col5,#T_2010a_row20_col4,#T_2010a_row20_col5{\n",
       "            background-color:  #7ea1fa;\n",
       "            color:  #000000;\n",
       "        }#T_2010a_row0_col6,#T_2010a_row13_col14,#T_2010a_row13_col15,#T_2010a_row20_col15{\n",
       "            background-color:  #96b7ff;\n",
       "            color:  #000000;\n",
       "        }#T_2010a_row0_col7{\n",
       "            background-color:  #6e90f2;\n",
       "            color:  #000000;\n",
       "        }#T_2010a_row0_col8,#T_2010a_row5_col4,#T_2010a_row9_col13,#T_2010a_row10_col1,#T_2010a_row13_col19,#T_2010a_row14_col13,#T_2010a_row15_col13,#T_2010a_row16_col8,#T_2010a_row16_col11,#T_2010a_row19_col13,#T_2010a_row20_col1{\n",
       "            background-color:  #88abfd;\n",
       "            color:  #000000;\n",
       "        }#T_2010a_row0_col9{\n",
       "            background-color:  #5d7ce6;\n",
       "            color:  #000000;\n",
       "        }#T_2010a_row0_col10,#T_2010a_row2_col11,#T_2010a_row8_col10,#T_2010a_row19_col10,#T_2010a_row20_col8,#T_2010a_row20_col10{\n",
       "            background-color:  #5b7ae5;\n",
       "            color:  #000000;\n",
       "        }#T_2010a_row0_col11,#T_2010a_row16_col3{\n",
       "            background-color:  #92b4fe;\n",
       "            color:  #000000;\n",
       "        }#T_2010a_row0_col12,#T_2010a_row7_col19,#T_2010a_row8_col13,#T_2010a_row8_col19,#T_2010a_row14_col11,#T_2010a_row16_col21,#T_2010a_row17_col13{\n",
       "            background-color:  #85a8fc;\n",
       "            color:  #000000;\n",
       "        }#T_2010a_row0_col13,#T_2010a_row1_col13,#T_2010a_row11_col19,#T_2010a_row12_col19,#T_2010a_row14_col19,#T_2010a_row17_col19,#T_2010a_row18_col12,#T_2010a_row19_col12,#T_2010a_row20_col13,#T_2010a_row21_col19{\n",
       "            background-color:  #7da0f9;\n",
       "            color:  #000000;\n",
       "        }#T_2010a_row0_col14,#T_2010a_row0_col15,#T_2010a_row15_col5,#T_2010a_row18_col15,#T_2010a_row19_col14{\n",
       "            background-color:  #8caffe;\n",
       "            color:  #000000;\n",
       "        }#T_2010a_row0_col17{\n",
       "            background-color:  #b9d0f9;\n",
       "            color:  #000000;\n",
       "        }#T_2010a_row0_col18,#T_2010a_row3_col7,#T_2010a_row6_col18,#T_2010a_row8_col18,#T_2010a_row12_col18,#T_2010a_row15_col18,#T_2010a_row17_col18,#T_2010a_row21_col8{\n",
       "            background-color:  #3d50c3;\n",
       "            color:  #f1f1f1;\n",
       "        }#T_2010a_row0_col19,#T_2010a_row1_col19,#T_2010a_row3_col19,#T_2010a_row4_col19,#T_2010a_row6_col19,#T_2010a_row16_col13,#T_2010a_row18_col13{\n",
       "            background-color:  #80a3fa;\n",
       "            color:  #000000;\n",
       "        }#T_2010a_row0_col20,#T_2010a_row2_col16,#T_2010a_row6_col16,#T_2010a_row14_col12{\n",
       "            background-color:  #d1dae9;\n",
       "            color:  #000000;\n",
       "        }#T_2010a_row0_col21,#T_2010a_row10_col17,#T_2010a_row11_col15,#T_2010a_row16_col12,#T_2010a_row19_col1,#T_2010a_row19_col15,#T_2010a_row21_col15{\n",
       "            background-color:  #90b2fe;\n",
       "            color:  #000000;\n",
       "        }#T_2010a_row1_col0,#T_2010a_row3_col11,#T_2010a_row3_col13,#T_2010a_row6_col13,#T_2010a_row17_col0,#T_2010a_row20_col0{\n",
       "            background-color:  #6f92f3;\n",
       "            color:  #000000;\n",
       "        }#T_2010a_row1_col2{\n",
       "            background-color:  #e97a5f;\n",
       "            color:  #000000;\n",
       "        }#T_2010a_row1_col3{\n",
       "            background-color:  #edd2c3;\n",
       "            color:  #000000;\n",
       "        }#T_2010a_row1_col4{\n",
       "            background-color:  #f7ba9f;\n",
       "            color:  #000000;\n",
       "        }#T_2010a_row1_col5,#T_2010a_row14_col3{\n",
       "            background-color:  #89acfd;\n",
       "            color:  #000000;\n",
       "        }#T_2010a_row1_col6{\n",
       "            background-color:  #f5a081;\n",
       "            color:  #000000;\n",
       "        }#T_2010a_row1_col7,#T_2010a_row2_col13,#T_2010a_row16_col19{\n",
       "            background-color:  #779af7;\n",
       "            color:  #000000;\n",
       "        }#T_2010a_row1_col8{\n",
       "            background-color:  #f6bea4;\n",
       "            color:  #000000;\n",
       "        }#T_2010a_row1_col9,#T_2010a_row2_col9,#T_2010a_row4_col7,#T_2010a_row13_col9,#T_2010a_row16_col7,#T_2010a_row17_col9{\n",
       "            background-color:  #5a78e4;\n",
       "            color:  #000000;\n",
       "        }#T_2010a_row1_col10,#T_2010a_row2_col10,#T_2010a_row3_col9,#T_2010a_row6_col5,#T_2010a_row6_col9,#T_2010a_row11_col12,#T_2010a_row18_col9,#T_2010a_row20_col9,#T_2010a_row21_col12{\n",
       "            background-color:  #506bda;\n",
       "            color:  #000000;\n",
       "        }#T_2010a_row1_col11,#T_2010a_row1_col21,#T_2010a_row5_col0,#T_2010a_row10_col0,#T_2010a_row14_col9{\n",
       "            background-color:  #455cce;\n",
       "            color:  #f1f1f1;\n",
       "        }#T_2010a_row1_col12{\n",
       "            background-color:  #b6cefa;\n",
       "            color:  #000000;\n",
       "        }#T_2010a_row1_col14{\n",
       "            background-color:  #bfd3f6;\n",
       "            color:  #000000;\n",
       "        }#T_2010a_row1_col15,#T_2010a_row10_col2,#T_2010a_row13_col2,#T_2010a_row13_col8,#T_2010a_row18_col6,#T_2010a_row19_col8{\n",
       "            background-color:  #7396f5;\n",
       "            color:  #000000;\n",
       "        }#T_2010a_row1_col16,#T_2010a_row3_col16,#T_2010a_row4_col16{\n",
       "            background-color:  #cbd8ee;\n",
       "            color:  #000000;\n",
       "        }#T_2010a_row1_col17{\n",
       "            background-color:  #f08b6e;\n",
       "            color:  #000000;\n",
       "        }#T_2010a_row1_col18,#T_2010a_row2_col18,#T_2010a_row4_col10,#T_2010a_row4_col11,#T_2010a_row4_col18,#T_2010a_row4_col21,#T_2010a_row5_col3,#T_2010a_row11_col0,#T_2010a_row11_col1,#T_2010a_row11_col2,#T_2010a_row11_col4,#T_2010a_row11_col6,#T_2010a_row11_col8,#T_2010a_row11_col17,#T_2010a_row12_col5,#T_2010a_row12_col7,#T_2010a_row12_col9,#T_2010a_row12_col13,#T_2010a_row13_col12,#T_2010a_row14_col15,#T_2010a_row15_col14,#T_2010a_row16_col18,#T_2010a_row16_col20,#T_2010a_row20_col16,#T_2010a_row20_col19,#T_2010a_row21_col0,#T_2010a_row21_col2,#T_2010a_row21_col6,#T_2010a_row21_col17{\n",
       "            background-color:  #3b4cc0;\n",
       "            color:  #f1f1f1;\n",
       "        }#T_2010a_row1_col20,#T_2010a_row19_col16{\n",
       "            background-color:  #afcafc;\n",
       "            color:  #000000;\n",
       "        }#T_2010a_row2_col0,#T_2010a_row4_col15,#T_2010a_row6_col0,#T_2010a_row15_col10,#T_2010a_row20_col2{\n",
       "            background-color:  #6485ec;\n",
       "            color:  #000000;\n",
       "        }#T_2010a_row2_col1{\n",
       "            background-color:  #e67259;\n",
       "            color:  #000000;\n",
       "        }#T_2010a_row2_col3{\n",
       "            background-color:  #ec7f63;\n",
       "            color:  #000000;\n",
       "        }#T_2010a_row2_col4{\n",
       "            background-color:  #f5c1a9;\n",
       "            color:  #000000;\n",
       "        }#T_2010a_row2_col5,#T_2010a_row5_col2,#T_2010a_row10_col8,#T_2010a_row15_col4{\n",
       "            background-color:  #7093f3;\n",
       "            color:  #000000;\n",
       "        }#T_2010a_row2_col6,#T_2010a_row6_col2{\n",
       "            background-color:  #cb3e38;\n",
       "            color:  #f1f1f1;\n",
       "        }#T_2010a_row2_col7{\n",
       "            background-color:  #5f7fe8;\n",
       "            color:  #000000;\n",
       "        }#T_2010a_row2_col8{\n",
       "            background-color:  #f4c5ad;\n",
       "            color:  #000000;\n",
       "        }#T_2010a_row2_col12,#T_2010a_row9_col5,#T_2010a_row14_col2,#T_2010a_row17_col2,#T_2010a_row17_col12{\n",
       "            background-color:  #abc8fd;\n",
       "            color:  #000000;\n",
       "        }#T_2010a_row2_col14,#T_2010a_row10_col21{\n",
       "            background-color:  #bad0f8;\n",
       "            color:  #000000;\n",
       "        }#T_2010a_row2_col15,#T_2010a_row7_col2,#T_2010a_row8_col15,#T_2010a_row9_col6,#T_2010a_row10_col14,#T_2010a_row15_col1,#T_2010a_row18_col2,#T_2010a_row19_col6{\n",
       "            background-color:  #7699f6;\n",
       "            color:  #000000;\n",
       "        }#T_2010a_row2_col17,#T_2010a_row14_col1,#T_2010a_row17_col20{\n",
       "            background-color:  #c0d4f5;\n",
       "            color:  #000000;\n",
       "        }#T_2010a_row2_col19,#T_2010a_row5_col19,#T_2010a_row9_col19,#T_2010a_row10_col19,#T_2010a_row11_col13,#T_2010a_row13_col4,#T_2010a_row15_col19,#T_2010a_row18_col19,#T_2010a_row21_col13{\n",
       "            background-color:  #82a6fb;\n",
       "            color:  #000000;\n",
       "        }#T_2010a_row2_col20,#T_2010a_row3_col8,#T_2010a_row10_col5{\n",
       "            background-color:  #a5c3fe;\n",
       "            color:  #000000;\n",
       "        }#T_2010a_row2_col21,#T_2010a_row18_col10{\n",
       "            background-color:  #5977e3;\n",
       "            color:  #000000;\n",
       "        }#T_2010a_row3_col0,#T_2010a_row12_col15,#T_2010a_row15_col2{\n",
       "            background-color:  #6282ea;\n",
       "            color:  #000000;\n",
       "        }#T_2010a_row3_col1{\n",
       "            background-color:  #f3c7b1;\n",
       "            color:  #000000;\n",
       "        }#T_2010a_row3_col2{\n",
       "            background-color:  #eb7d62;\n",
       "            color:  #000000;\n",
       "        }#T_2010a_row3_col4{\n",
       "            background-color:  #d2dbe8;\n",
       "            color:  #000000;\n",
       "        }#T_2010a_row3_col5,#T_2010a_row11_col3,#T_2010a_row21_col3{\n",
       "            background-color:  #445acc;\n",
       "            color:  #f1f1f1;\n",
       "        }#T_2010a_row3_col6,#T_2010a_row6_col3{\n",
       "            background-color:  #d85646;\n",
       "            color:  #000000;\n",
       "        }#T_2010a_row3_col10,#T_2010a_row6_col7{\n",
       "            background-color:  #485fd1;\n",
       "            color:  #f1f1f1;\n",
       "        }#T_2010a_row3_col14,#T_2010a_row5_col11,#T_2010a_row5_col13{\n",
       "            background-color:  #a3c2fe;\n",
       "            color:  #000000;\n",
       "        }#T_2010a_row3_col15,#T_2010a_row9_col2,#T_2010a_row9_col14,#T_2010a_row11_col10,#T_2010a_row14_col21,#T_2010a_row20_col14,#T_2010a_row21_col10{\n",
       "            background-color:  #84a7fc;\n",
       "            color:  #000000;\n",
       "        }#T_2010a_row3_col17,#T_2010a_row5_col9,#T_2010a_row5_col10,#T_2010a_row7_col9,#T_2010a_row11_col5,#T_2010a_row21_col5{\n",
       "            background-color:  #86a9fc;\n",
       "            color:  #000000;\n",
       "        }#T_2010a_row3_col18,#T_2010a_row9_col18,#T_2010a_row10_col18,#T_2010a_row11_col18,#T_2010a_row13_col18,#T_2010a_row14_col18,#T_2010a_row20_col18,#T_2010a_row21_col18{\n",
       "            background-color:  #4055c8;\n",
       "            color:  #f1f1f1;\n",
       "        }#T_2010a_row3_col20,#T_2010a_row5_col16,#T_2010a_row8_col3,#T_2010a_row8_col20,#T_2010a_row9_col21,#T_2010a_row15_col16{\n",
       "            background-color:  #a9c6fd;\n",
       "            color:  #000000;\n",
       "        }#T_2010a_row3_col21,#T_2010a_row12_col11{\n",
       "            background-color:  #6c8ff1;\n",
       "            color:  #000000;\n",
       "        }#T_2010a_row4_col0,#T_2010a_row5_col6,#T_2010a_row7_col0,#T_2010a_row16_col9{\n",
       "            background-color:  #4b64d5;\n",
       "            color:  #f1f1f1;\n",
       "        }#T_2010a_row4_col1{\n",
       "            background-color:  #f6bfa6;\n",
       "            color:  #000000;\n",
       "        }#T_2010a_row4_col2{\n",
       "            background-color:  #f1cdba;\n",
       "            color:  #000000;\n",
       "        }#T_2010a_row4_col3,#T_2010a_row5_col20,#T_2010a_row7_col20,#T_2010a_row10_col20,#T_2010a_row17_col14,#T_2010a_row17_col16{\n",
       "            background-color:  #b7cff9;\n",
       "            color:  #000000;\n",
       "        }#T_2010a_row4_col5,#T_2010a_row4_col13{\n",
       "            background-color:  #6788ee;\n",
       "            color:  #000000;\n",
       "        }#T_2010a_row4_col6,#T_2010a_row8_col17{\n",
       "            background-color:  #e2dad5;\n",
       "            color:  #000000;\n",
       "        }#T_2010a_row4_col8{\n",
       "            background-color:  #e4d9d2;\n",
       "            color:  #000000;\n",
       "        }#T_2010a_row4_col9,#T_2010a_row5_col12,#T_2010a_row13_col0,#T_2010a_row14_col0,#T_2010a_row14_col10,#T_2010a_row15_col0,#T_2010a_row16_col0,#T_2010a_row18_col0{\n",
       "            background-color:  #3f53c6;\n",
       "            color:  #f1f1f1;\n",
       "        }#T_2010a_row4_col12{\n",
       "            background-color:  #cad8ef;\n",
       "            color:  #000000;\n",
       "        }#T_2010a_row4_col14{\n",
       "            background-color:  #ccd9ed;\n",
       "            color:  #000000;\n",
       "        }#T_2010a_row4_col17{\n",
       "            background-color:  #e6d7cf;\n",
       "            color:  #000000;\n",
       "        }#T_2010a_row4_col20,#T_2010a_row5_col15,#T_2010a_row7_col11,#T_2010a_row9_col17,#T_2010a_row16_col14{\n",
       "            background-color:  #9ebeff;\n",
       "            color:  #000000;\n",
       "        }#T_2010a_row5_col1,#T_2010a_row7_col21,#T_2010a_row8_col7,#T_2010a_row17_col7{\n",
       "            background-color:  #9dbdff;\n",
       "            color:  #000000;\n",
       "        }#T_2010a_row5_col7{\n",
       "            background-color:  #f7aa8c;\n",
       "            color:  #000000;\n",
       "        }#T_2010a_row5_col14,#T_2010a_row8_col11,#T_2010a_row8_col21,#T_2010a_row9_col12,#T_2010a_row12_col21,#T_2010a_row16_col5,#T_2010a_row18_col8{\n",
       "            background-color:  #6a8bef;\n",
       "            color:  #000000;\n",
       "        }#T_2010a_row5_col17{\n",
       "            background-color:  #cdd9ec;\n",
       "            color:  #000000;\n",
       "        }#T_2010a_row5_col18,#T_2010a_row7_col18,#T_2010a_row19_col0,#T_2010a_row19_col18{\n",
       "            background-color:  #4358cb;\n",
       "            color:  #f1f1f1;\n",
       "        }#T_2010a_row5_col21,#T_2010a_row7_col8,#T_2010a_row16_col2,#T_2010a_row20_col17{\n",
       "            background-color:  #a2c1ff;\n",
       "            color:  #000000;\n",
       "        }#T_2010a_row6_col1{\n",
       "            background-color:  #f39778;\n",
       "            color:  #000000;\n",
       "        }#T_2010a_row6_col4{\n",
       "            background-color:  #efcfbf;\n",
       "            color:  #000000;\n",
       "        }#T_2010a_row6_col8,#T_2010a_row17_col8{\n",
       "            background-color:  #cedaeb;\n",
       "            color:  #000000;\n",
       "        }#T_2010a_row6_col10,#T_2010a_row13_col10{\n",
       "            background-color:  #4a63d3;\n",
       "            color:  #f1f1f1;\n",
       "        }#T_2010a_row6_col11,#T_2010a_row10_col3,#T_2010a_row13_col3,#T_2010a_row17_col3,#T_2010a_row20_col3{\n",
       "            background-color:  #6180e9;\n",
       "            color:  #000000;\n",
       "        }#T_2010a_row6_col12{\n",
       "            background-color:  #aec9fc;\n",
       "            color:  #000000;\n",
       "        }#T_2010a_row6_col14{\n",
       "            background-color:  #b2ccfb;\n",
       "            color:  #000000;\n",
       "        }#T_2010a_row6_col17,#T_2010a_row12_col2,#T_2010a_row12_col6{\n",
       "            background-color:  #a7c5fe;\n",
       "            color:  #000000;\n",
       "        }#T_2010a_row6_col20,#T_2010a_row11_col16,#T_2010a_row21_col16{\n",
       "            background-color:  #a6c4fe;\n",
       "            color:  #000000;\n",
       "        }#T_2010a_row6_col21,#T_2010a_row8_col0{\n",
       "            background-color:  #5e7de7;\n",
       "            color:  #000000;\n",
       "        }#T_2010a_row7_col1,#T_2010a_row13_col5,#T_2010a_row14_col6,#T_2010a_row16_col6,#T_2010a_row20_col21{\n",
       "            background-color:  #9fbfff;\n",
       "            color:  #000000;\n",
       "        }#T_2010a_row7_col3,#T_2010a_row12_col0{\n",
       "            background-color:  #4961d2;\n",
       "            color:  #f1f1f1;\n",
       "        }#T_2010a_row7_col5{\n",
       "            background-color:  #f6a283;\n",
       "            color:  #000000;\n",
       "        }#T_2010a_row7_col6{\n",
       "            background-color:  #5875e1;\n",
       "            color:  #000000;\n",
       "        }#T_2010a_row7_col10,#T_2010a_row20_col12{\n",
       "            background-color:  #7597f6;\n",
       "            color:  #000000;\n",
       "        }#T_2010a_row7_col12,#T_2010a_row14_col5{\n",
       "            background-color:  #5572df;\n",
       "            color:  #000000;\n",
       "        }#T_2010a_row7_col13,#T_2010a_row7_col15,#T_2010a_row9_col1,#T_2010a_row9_col7,#T_2010a_row10_col15,#T_2010a_row16_col17{\n",
       "            background-color:  #98b9ff;\n",
       "            color:  #000000;\n",
       "        }#T_2010a_row7_col14,#T_2010a_row11_col14,#T_2010a_row17_col15,#T_2010a_row21_col14{\n",
       "            background-color:  #799cf8;\n",
       "            color:  #000000;\n",
       "        }#T_2010a_row7_col16,#T_2010a_row12_col20,#T_2010a_row14_col20,#T_2010a_row16_col1{\n",
       "            background-color:  #adc9fd;\n",
       "            color:  #000000;\n",
       "        }#T_2010a_row7_col17,#T_2010a_row12_col16,#T_2010a_row14_col16{\n",
       "            background-color:  #c1d4f4;\n",
       "            color:  #000000;\n",
       "        }#T_2010a_row8_col1{\n",
       "            background-color:  #f7b093;\n",
       "            color:  #000000;\n",
       "        }#T_2010a_row8_col2{\n",
       "            background-color:  #f5c0a7;\n",
       "            color:  #000000;\n",
       "        }#T_2010a_row8_col4{\n",
       "            background-color:  #f2cbb7;\n",
       "            color:  #000000;\n",
       "        }#T_2010a_row8_col5,#T_2010a_row12_col17,#T_2010a_row14_col17{\n",
       "            background-color:  #bed2f6;\n",
       "            color:  #000000;\n",
       "        }#T_2010a_row8_col6,#T_2010a_row14_col4{\n",
       "            background-color:  #d3dbe7;\n",
       "            color:  #000000;\n",
       "        }#T_2010a_row8_col9,#T_2010a_row10_col9,#T_2010a_row20_col6{\n",
       "            background-color:  #6384eb;\n",
       "            color:  #000000;\n",
       "        }#T_2010a_row8_col12,#T_2010a_row9_col15,#T_2010a_row18_col17,#T_2010a_row19_col17{\n",
       "            background-color:  #93b5fe;\n",
       "            color:  #000000;\n",
       "        }#T_2010a_row8_col14,#T_2010a_row9_col20,#T_2010a_row13_col16,#T_2010a_row16_col4,#T_2010a_row18_col20{\n",
       "            background-color:  #b5cdfa;\n",
       "            color:  #000000;\n",
       "        }#T_2010a_row8_col16{\n",
       "            background-color:  #c7d7f0;\n",
       "            color:  #000000;\n",
       "        }#T_2010a_row9_col0,#T_2010a_row14_col7{\n",
       "            background-color:  #4f69d9;\n",
       "            color:  #000000;\n",
       "        }#T_2010a_row9_col3,#T_2010a_row10_col13,#T_2010a_row15_col7,#T_2010a_row18_col3,#T_2010a_row19_col3{\n",
       "            background-color:  #7295f4;\n",
       "            color:  #000000;\n",
       "        }#T_2010a_row9_col4,#T_2010a_row17_col6,#T_2010a_row18_col1{\n",
       "            background-color:  #8badfd;\n",
       "            color:  #000000;\n",
       "        }#T_2010a_row9_col10,#T_2010a_row11_col7,#T_2010a_row19_col7,#T_2010a_row21_col7{\n",
       "            background-color:  #6b8df0;\n",
       "            color:  #000000;\n",
       "        }#T_2010a_row9_col11{\n",
       "            background-color:  #aac7fd;\n",
       "            color:  #000000;\n",
       "        }#T_2010a_row9_col16,#T_2010a_row10_col16,#T_2010a_row18_col16{\n",
       "            background-color:  #b1cbfc;\n",
       "            color:  #000000;\n",
       "        }#T_2010a_row10_col6,#T_2010a_row18_col7,#T_2010a_row20_col7{\n",
       "            background-color:  #688aef;\n",
       "            color:  #000000;\n",
       "        }#T_2010a_row10_col7,#T_2010a_row12_col8,#T_2010a_row13_col7,#T_2010a_row15_col17{\n",
       "            background-color:  #81a4fb;\n",
       "            color:  #000000;\n",
       "        }#T_2010a_row10_col11,#T_2010a_row11_col20,#T_2010a_row15_col20,#T_2010a_row17_col5,#T_2010a_row21_col20{\n",
       "            background-color:  #bbd1f8;\n",
       "            color:  #000000;\n",
       "        }#T_2010a_row10_col12,#T_2010a_row19_col20{\n",
       "            background-color:  #7a9df8;\n",
       "            color:  #000000;\n",
       "        }#T_2010a_row11_col9,#T_2010a_row13_col6,#T_2010a_row15_col3,#T_2010a_row15_col6,#T_2010a_row21_col9{\n",
       "            background-color:  #6687ed;\n",
       "            color:  #000000;\n",
       "        }#T_2010a_row12_col1{\n",
       "            background-color:  #c3d5f4;\n",
       "            color:  #000000;\n",
       "        }#T_2010a_row12_col3,#T_2010a_row18_col4,#T_2010a_row19_col21{\n",
       "            background-color:  #94b6ff;\n",
       "            color:  #000000;\n",
       "        }#T_2010a_row12_col4,#T_2010a_row12_col14{\n",
       "            background-color:  #d9dce1;\n",
       "            color:  #000000;\n",
       "        }#T_2010a_row12_col10,#T_2010a_row15_col12,#T_2010a_row16_col10,#T_2010a_row17_col10{\n",
       "            background-color:  #536edd;\n",
       "            color:  #000000;\n",
       "        }#T_2010a_row13_col1,#T_2010a_row18_col14{\n",
       "            background-color:  #8db0fe;\n",
       "            color:  #000000;\n",
       "        }#T_2010a_row13_col11,#T_2010a_row13_col17,#T_2010a_row15_col11{\n",
       "            background-color:  #9bbcff;\n",
       "            color:  #000000;\n",
       "        }#T_2010a_row15_col8,#T_2010a_row19_col9{\n",
       "            background-color:  #5470de;\n",
       "            color:  #000000;\n",
       "        }#T_2010a_row15_col9{\n",
       "            background-color:  #5673e0;\n",
       "            color:  #000000;\n",
       "        }#T_2010a_row17_col1{\n",
       "            background-color:  #f18d6f;\n",
       "            color:  #000000;\n",
       "        }#T_2010a_row17_col4{\n",
       "            background-color:  #e7d7ce;\n",
       "            color:  #000000;\n",
       "        }#T_2010a_row17_col11{\n",
       "            background-color:  #3e51c5;\n",
       "            color:  #f1f1f1;\n",
       "        }#T_2010a_row17_col21,#T_2010a_row21_col1,#T_2010a_row21_col4{\n",
       "            background-color:  #3c4ec2;\n",
       "            color:  #f1f1f1;\n",
       "        }#T_2010a_row18_col21,#T_2010a_row19_col11{\n",
       "            background-color:  #97b8ff;\n",
       "            color:  #000000;\n",
       "        }</style><table id=\"T_2010a_\" ><thead>    <tr>        <th class=\"blank level0\" ></th>        <th class=\"col_heading level0 col0\" >total_images</th>        <th class=\"col_heading level0 col1\" >last_price</th>        <th class=\"col_heading level0 col2\" >total_area</th>        <th class=\"col_heading level0 col3\" >rooms</th>        <th class=\"col_heading level0 col4\" >ceiling_height</th>        <th class=\"col_heading level0 col5\" >floors_total</th>        <th class=\"col_heading level0 col6\" >living_area</th>        <th class=\"col_heading level0 col7\" >floor</th>        <th class=\"col_heading level0 col8\" >kitchen_area</th>        <th class=\"col_heading level0 col9\" >balcony</th>        <th class=\"col_heading level0 col10\" >airports_nearest</th>        <th class=\"col_heading level0 col11\" >cityCenters_nearest</th>        <th class=\"col_heading level0 col12\" >parks_around3000</th>        <th class=\"col_heading level0 col13\" >parks_nearest</th>        <th class=\"col_heading level0 col14\" >ponds_around3000</th>        <th class=\"col_heading level0 col15\" >ponds_nearest</th>        <th class=\"col_heading level0 col16\" >days_exposition</th>        <th class=\"col_heading level0 col17\" >price_m2</th>        <th class=\"col_heading level0 col18\" >weekday_exposition</th>        <th class=\"col_heading level0 col19\" >month_exposition</th>        <th class=\"col_heading level0 col20\" >year_exposition</th>        <th class=\"col_heading level0 col21\" >cityCenters_nearest_km</th>    </tr></thead><tbody>\n",
       "                <tr>\n",
       "                        <th id=\"T_2010a_level0_row0\" class=\"row_heading level0 row0\" >total_images</th>\n",
       "                        <td id=\"T_2010a_row0_col0\" class=\"data row0 col0\" >1.000000</td>\n",
       "                        <td id=\"T_2010a_row0_col1\" class=\"data row0 col1\" >0.140000</td>\n",
       "                        <td id=\"T_2010a_row0_col2\" class=\"data row0 col2\" >0.110000</td>\n",
       "                        <td id=\"T_2010a_row0_col3\" class=\"data row0 col3\" >0.100000</td>\n",
       "                        <td id=\"T_2010a_row0_col4\" class=\"data row0 col4\" >0.030000</td>\n",
       "                        <td id=\"T_2010a_row0_col5\" class=\"data row0 col5\" >0.010000</td>\n",
       "                        <td id=\"T_2010a_row0_col6\" class=\"data row0 col6\" >0.110000</td>\n",
       "                        <td id=\"T_2010a_row0_col7\" class=\"data row0 col7\" >0.030000</td>\n",
       "                        <td id=\"T_2010a_row0_col8\" class=\"data row0 col8\" >0.090000</td>\n",
       "                        <td id=\"T_2010a_row0_col9\" class=\"data row0 col9\" >0.040000</td>\n",
       "                        <td id=\"T_2010a_row0_col10\" class=\"data row0 col10\" >0.010000</td>\n",
       "                        <td id=\"T_2010a_row0_col11\" class=\"data row0 col11\" >-0.030000</td>\n",
       "                        <td id=\"T_2010a_row0_col12\" class=\"data row0 col12\" >0.020000</td>\n",
       "                        <td id=\"T_2010a_row0_col13\" class=\"data row0 col13\" >-0.010000</td>\n",
       "                        <td id=\"T_2010a_row0_col14\" class=\"data row0 col14\" >-0.010000</td>\n",
       "                        <td id=\"T_2010a_row0_col15\" class=\"data row0 col15\" >-0.010000</td>\n",
       "                        <td id=\"T_2010a_row0_col16\" class=\"data row0 col16\" >-0.010000</td>\n",
       "                        <td id=\"T_2010a_row0_col17\" class=\"data row0 col17\" >0.140000</td>\n",
       "                        <td id=\"T_2010a_row0_col18\" class=\"data row0 col18\" >-0.010000</td>\n",
       "                        <td id=\"T_2010a_row0_col19\" class=\"data row0 col19\" >-0.000000</td>\n",
       "                        <td id=\"T_2010a_row0_col20\" class=\"data row0 col20\" >0.140000</td>\n",
       "                        <td id=\"T_2010a_row0_col21\" class=\"data row0 col21\" >-0.030000</td>\n",
       "            </tr>\n",
       "            <tr>\n",
       "                        <th id=\"T_2010a_level0_row1\" class=\"row_heading level0 row1\" >last_price</th>\n",
       "                        <td id=\"T_2010a_row1_col0\" class=\"data row1 col0\" >0.140000</td>\n",
       "                        <td id=\"T_2010a_row1_col1\" class=\"data row1 col1\" >1.000000</td>\n",
       "                        <td id=\"T_2010a_row1_col2\" class=\"data row1 col2\" >0.780000</td>\n",
       "                        <td id=\"T_2010a_row1_col3\" class=\"data row1 col3\" >0.480000</td>\n",
       "                        <td id=\"T_2010a_row1_col4\" class=\"data row1 col4\" >0.520000</td>\n",
       "                        <td id=\"T_2010a_row1_col5\" class=\"data row1 col5\" >0.050000</td>\n",
       "                        <td id=\"T_2010a_row1_col6\" class=\"data row1 col6\" >0.670000</td>\n",
       "                        <td id=\"T_2010a_row1_col7\" class=\"data row1 col7\" >0.060000</td>\n",
       "                        <td id=\"T_2010a_row1_col8\" class=\"data row1 col8\" >0.580000</td>\n",
       "                        <td id=\"T_2010a_row1_col9\" class=\"data row1 col9\" >0.030000</td>\n",
       "                        <td id=\"T_2010a_row1_col10\" class=\"data row1 col10\" >-0.030000</td>\n",
       "                        <td id=\"T_2010a_row1_col11\" class=\"data row1 col11\" >-0.350000</td>\n",
       "                        <td id=\"T_2010a_row1_col12\" class=\"data row1 col12\" >0.200000</td>\n",
       "                        <td id=\"T_2010a_row1_col13\" class=\"data row1 col13\" >-0.010000</td>\n",
       "                        <td id=\"T_2010a_row1_col14\" class=\"data row1 col14\" >0.190000</td>\n",
       "                        <td id=\"T_2010a_row1_col15\" class=\"data row1 col15\" >-0.100000</td>\n",
       "                        <td id=\"T_2010a_row1_col16\" class=\"data row1 col16\" >0.110000</td>\n",
       "                        <td id=\"T_2010a_row1_col17\" class=\"data row1 col17\" >0.700000</td>\n",
       "                        <td id=\"T_2010a_row1_col18\" class=\"data row1 col18\" >-0.020000</td>\n",
       "                        <td id=\"T_2010a_row1_col19\" class=\"data row1 col19\" >0.000000</td>\n",
       "                        <td id=\"T_2010a_row1_col20\" class=\"data row1 col20\" >-0.030000</td>\n",
       "                        <td id=\"T_2010a_row1_col21\" class=\"data row1 col21\" >-0.340000</td>\n",
       "            </tr>\n",
       "            <tr>\n",
       "                        <th id=\"T_2010a_level0_row2\" class=\"row_heading level0 row2\" >total_area</th>\n",
       "                        <td id=\"T_2010a_row2_col0\" class=\"data row2 col0\" >0.110000</td>\n",
       "                        <td id=\"T_2010a_row2_col1\" class=\"data row2 col1\" >0.780000</td>\n",
       "                        <td id=\"T_2010a_row2_col2\" class=\"data row2 col2\" >1.000000</td>\n",
       "                        <td id=\"T_2010a_row2_col3\" class=\"data row2 col3\" >0.770000</td>\n",
       "                        <td id=\"T_2010a_row2_col4\" class=\"data row2 col4\" >0.490000</td>\n",
       "                        <td id=\"T_2010a_row2_col5\" class=\"data row2 col5\" >-0.040000</td>\n",
       "                        <td id=\"T_2010a_row2_col6\" class=\"data row2 col6\" >0.920000</td>\n",
       "                        <td id=\"T_2010a_row2_col7\" class=\"data row2 col7\" >-0.020000</td>\n",
       "                        <td id=\"T_2010a_row2_col8\" class=\"data row2 col8\" >0.550000</td>\n",
       "                        <td id=\"T_2010a_row2_col9\" class=\"data row2 col9\" >0.030000</td>\n",
       "                        <td id=\"T_2010a_row2_col10\" class=\"data row2 col10\" >-0.030000</td>\n",
       "                        <td id=\"T_2010a_row2_col11\" class=\"data row2 col11\" >-0.250000</td>\n",
       "                        <td id=\"T_2010a_row2_col12\" class=\"data row2 col12\" >0.160000</td>\n",
       "                        <td id=\"T_2010a_row2_col13\" class=\"data row2 col13\" >-0.030000</td>\n",
       "                        <td id=\"T_2010a_row2_col14\" class=\"data row2 col14\" >0.170000</td>\n",
       "                        <td id=\"T_2010a_row2_col15\" class=\"data row2 col15\" >-0.090000</td>\n",
       "                        <td id=\"T_2010a_row2_col16\" class=\"data row2 col16\" >0.140000</td>\n",
       "                        <td id=\"T_2010a_row2_col17\" class=\"data row2 col17\" >0.170000</td>\n",
       "                        <td id=\"T_2010a_row2_col18\" class=\"data row2 col18\" >-0.020000</td>\n",
       "                        <td id=\"T_2010a_row2_col19\" class=\"data row2 col19\" >0.010000</td>\n",
       "                        <td id=\"T_2010a_row2_col20\" class=\"data row2 col20\" >-0.080000</td>\n",
       "                        <td id=\"T_2010a_row2_col21\" class=\"data row2 col21\" >-0.250000</td>\n",
       "            </tr>\n",
       "            <tr>\n",
       "                        <th id=\"T_2010a_level0_row3\" class=\"row_heading level0 row3\" >rooms</th>\n",
       "                        <td id=\"T_2010a_row3_col0\" class=\"data row3 col0\" >0.100000</td>\n",
       "                        <td id=\"T_2010a_row3_col1\" class=\"data row3 col1\" >0.480000</td>\n",
       "                        <td id=\"T_2010a_row3_col2\" class=\"data row3 col2\" >0.770000</td>\n",
       "                        <td id=\"T_2010a_row3_col3\" class=\"data row3 col3\" >1.000000</td>\n",
       "                        <td id=\"T_2010a_row3_col4\" class=\"data row3 col4\" >0.240000</td>\n",
       "                        <td id=\"T_2010a_row3_col5\" class=\"data row3 col5\" >-0.210000</td>\n",
       "                        <td id=\"T_2010a_row3_col6\" class=\"data row3 col6\" >0.870000</td>\n",
       "                        <td id=\"T_2010a_row3_col7\" class=\"data row3 col7\" >-0.150000</td>\n",
       "                        <td id=\"T_2010a_row3_col8\" class=\"data row3 col8\" >0.190000</td>\n",
       "                        <td id=\"T_2010a_row3_col9\" class=\"data row3 col9\" >0.000000</td>\n",
       "                        <td id=\"T_2010a_row3_col10\" class=\"data row3 col10\" >-0.060000</td>\n",
       "                        <td id=\"T_2010a_row3_col11\" class=\"data row3 col11\" >-0.170000</td>\n",
       "                        <td id=\"T_2010a_row3_col12\" class=\"data row3 col12\" >0.120000</td>\n",
       "                        <td id=\"T_2010a_row3_col13\" class=\"data row3 col13\" >-0.060000</td>\n",
       "                        <td id=\"T_2010a_row3_col14\" class=\"data row3 col14\" >0.080000</td>\n",
       "                        <td id=\"T_2010a_row3_col15\" class=\"data row3 col15\" >-0.040000</td>\n",
       "                        <td id=\"T_2010a_row3_col16\" class=\"data row3 col16\" >0.110000</td>\n",
       "                        <td id=\"T_2010a_row3_col17\" class=\"data row3 col17\" >-0.060000</td>\n",
       "                        <td id=\"T_2010a_row3_col18\" class=\"data row3 col18\" >-0.000000</td>\n",
       "                        <td id=\"T_2010a_row3_col19\" class=\"data row3 col19\" >0.000000</td>\n",
       "                        <td id=\"T_2010a_row3_col20\" class=\"data row3 col20\" >-0.060000</td>\n",
       "                        <td id=\"T_2010a_row3_col21\" class=\"data row3 col21\" >-0.170000</td>\n",
       "            </tr>\n",
       "            <tr>\n",
       "                        <th id=\"T_2010a_level0_row4\" class=\"row_heading level0 row4\" >ceiling_height</th>\n",
       "                        <td id=\"T_2010a_row4_col0\" class=\"data row4 col0\" >0.030000</td>\n",
       "                        <td id=\"T_2010a_row4_col1\" class=\"data row4 col1\" >0.520000</td>\n",
       "                        <td id=\"T_2010a_row4_col2\" class=\"data row4 col2\" >0.490000</td>\n",
       "                        <td id=\"T_2010a_row4_col3\" class=\"data row4 col3\" >0.240000</td>\n",
       "                        <td id=\"T_2010a_row4_col4\" class=\"data row4 col4\" >1.000000</td>\n",
       "                        <td id=\"T_2010a_row4_col5\" class=\"data row4 col5\" >-0.070000</td>\n",
       "                        <td id=\"T_2010a_row4_col6\" class=\"data row4 col6\" >0.410000</td>\n",
       "                        <td id=\"T_2010a_row4_col7\" class=\"data row4 col7\" >-0.040000</td>\n",
       "                        <td id=\"T_2010a_row4_col8\" class=\"data row4 col8\" >0.440000</td>\n",
       "                        <td id=\"T_2010a_row4_col9\" class=\"data row4 col9\" >-0.060000</td>\n",
       "                        <td id=\"T_2010a_row4_col10\" class=\"data row4 col10\" >-0.110000</td>\n",
       "                        <td id=\"T_2010a_row4_col11\" class=\"data row4 col11\" >-0.400000</td>\n",
       "                        <td id=\"T_2010a_row4_col12\" class=\"data row4 col12\" >0.280000</td>\n",
       "                        <td id=\"T_2010a_row4_col13\" class=\"data row4 col13\" >-0.090000</td>\n",
       "                        <td id=\"T_2010a_row4_col14\" class=\"data row4 col14\" >0.250000</td>\n",
       "                        <td id=\"T_2010a_row4_col15\" class=\"data row4 col15\" >-0.160000</td>\n",
       "                        <td id=\"T_2010a_row4_col16\" class=\"data row4 col16\" >0.110000</td>\n",
       "                        <td id=\"T_2010a_row4_col17\" class=\"data row4 col17\" >0.360000</td>\n",
       "                        <td id=\"T_2010a_row4_col18\" class=\"data row4 col18\" >-0.020000</td>\n",
       "                        <td id=\"T_2010a_row4_col19\" class=\"data row4 col19\" >0.000000</td>\n",
       "                        <td id=\"T_2010a_row4_col20\" class=\"data row4 col20\" >-0.110000</td>\n",
       "                        <td id=\"T_2010a_row4_col21\" class=\"data row4 col21\" >-0.390000</td>\n",
       "            </tr>\n",
       "            <tr>\n",
       "                        <th id=\"T_2010a_level0_row5\" class=\"row_heading level0 row5\" >floors_total</th>\n",
       "                        <td id=\"T_2010a_row5_col0\" class=\"data row5 col0\" >0.010000</td>\n",
       "                        <td id=\"T_2010a_row5_col1\" class=\"data row5 col1\" >0.050000</td>\n",
       "                        <td id=\"T_2010a_row5_col2\" class=\"data row5 col2\" >-0.040000</td>\n",
       "                        <td id=\"T_2010a_row5_col3\" class=\"data row5 col3\" >-0.210000</td>\n",
       "                        <td id=\"T_2010a_row5_col4\" class=\"data row5 col4\" >-0.070000</td>\n",
       "                        <td id=\"T_2010a_row5_col5\" class=\"data row5 col5\" >1.000000</td>\n",
       "                        <td id=\"T_2010a_row5_col6\" class=\"data row5 col6\" >-0.160000</td>\n",
       "                        <td id=\"T_2010a_row5_col7\" class=\"data row5 col7\" >0.660000</td>\n",
       "                        <td id=\"T_2010a_row5_col8\" class=\"data row5 col8\" >0.240000</td>\n",
       "                        <td id=\"T_2010a_row5_col9\" class=\"data row5 col9\" >0.170000</td>\n",
       "                        <td id=\"T_2010a_row5_col10\" class=\"data row5 col10\" >0.150000</td>\n",
       "                        <td id=\"T_2010a_row5_col11\" class=\"data row5 col11\" >0.040000</td>\n",
       "                        <td id=\"T_2010a_row5_col12\" class=\"data row5 col12\" >-0.250000</td>\n",
       "                        <td id=\"T_2010a_row5_col13\" class=\"data row5 col13\" >0.130000</td>\n",
       "                        <td id=\"T_2010a_row5_col14\" class=\"data row5 col14\" >-0.140000</td>\n",
       "                        <td id=\"T_2010a_row5_col15\" class=\"data row5 col15\" >0.060000</td>\n",
       "                        <td id=\"T_2010a_row5_col16\" class=\"data row5 col16\" >-0.060000</td>\n",
       "                        <td id=\"T_2010a_row5_col17\" class=\"data row5 col17\" >0.230000</td>\n",
       "                        <td id=\"T_2010a_row5_col18\" class=\"data row5 col18\" >0.010000</td>\n",
       "                        <td id=\"T_2010a_row5_col19\" class=\"data row5 col19\" >0.010000</td>\n",
       "                        <td id=\"T_2010a_row5_col20\" class=\"data row5 col20\" >0.010000</td>\n",
       "                        <td id=\"T_2010a_row5_col21\" class=\"data row5 col21\" >0.040000</td>\n",
       "            </tr>\n",
       "            <tr>\n",
       "                        <th id=\"T_2010a_level0_row6\" class=\"row_heading level0 row6\" >living_area</th>\n",
       "                        <td id=\"T_2010a_row6_col0\" class=\"data row6 col0\" >0.110000</td>\n",
       "                        <td id=\"T_2010a_row6_col1\" class=\"data row6 col1\" >0.670000</td>\n",
       "                        <td id=\"T_2010a_row6_col2\" class=\"data row6 col2\" >0.920000</td>\n",
       "                        <td id=\"T_2010a_row6_col3\" class=\"data row6 col3\" >0.870000</td>\n",
       "                        <td id=\"T_2010a_row6_col4\" class=\"data row6 col4\" >0.410000</td>\n",
       "                        <td id=\"T_2010a_row6_col5\" class=\"data row6 col5\" >-0.160000</td>\n",
       "                        <td id=\"T_2010a_row6_col6\" class=\"data row6 col6\" >1.000000</td>\n",
       "                        <td id=\"T_2010a_row6_col7\" class=\"data row6 col7\" >-0.110000</td>\n",
       "                        <td id=\"T_2010a_row6_col8\" class=\"data row6 col8\" >0.340000</td>\n",
       "                        <td id=\"T_2010a_row6_col9\" class=\"data row6 col9\" >0.000000</td>\n",
       "                        <td id=\"T_2010a_row6_col10\" class=\"data row6 col10\" >-0.050000</td>\n",
       "                        <td id=\"T_2010a_row6_col11\" class=\"data row6 col11\" >-0.230000</td>\n",
       "                        <td id=\"T_2010a_row6_col12\" class=\"data row6 col12\" >0.170000</td>\n",
       "                        <td id=\"T_2010a_row6_col13\" class=\"data row6 col13\" >-0.060000</td>\n",
       "                        <td id=\"T_2010a_row6_col14\" class=\"data row6 col14\" >0.140000</td>\n",
       "                        <td id=\"T_2010a_row6_col15\" class=\"data row6 col15\" >-0.060000</td>\n",
       "                        <td id=\"T_2010a_row6_col16\" class=\"data row6 col16\" >0.140000</td>\n",
       "                        <td id=\"T_2010a_row6_col17\" class=\"data row6 col17\" >0.070000</td>\n",
       "                        <td id=\"T_2010a_row6_col18\" class=\"data row6 col18\" >-0.010000</td>\n",
       "                        <td id=\"T_2010a_row6_col19\" class=\"data row6 col19\" >-0.000000</td>\n",
       "                        <td id=\"T_2010a_row6_col20\" class=\"data row6 col20\" >-0.070000</td>\n",
       "                        <td id=\"T_2010a_row6_col21\" class=\"data row6 col21\" >-0.230000</td>\n",
       "            </tr>\n",
       "            <tr>\n",
       "                        <th id=\"T_2010a_level0_row7\" class=\"row_heading level0 row7\" >floor</th>\n",
       "                        <td id=\"T_2010a_row7_col0\" class=\"data row7 col0\" >0.030000</td>\n",
       "                        <td id=\"T_2010a_row7_col1\" class=\"data row7 col1\" >0.060000</td>\n",
       "                        <td id=\"T_2010a_row7_col2\" class=\"data row7 col2\" >-0.020000</td>\n",
       "                        <td id=\"T_2010a_row7_col3\" class=\"data row7 col3\" >-0.150000</td>\n",
       "                        <td id=\"T_2010a_row7_col4\" class=\"data row7 col4\" >-0.040000</td>\n",
       "                        <td id=\"T_2010a_row7_col5\" class=\"data row7 col5\" >0.660000</td>\n",
       "                        <td id=\"T_2010a_row7_col6\" class=\"data row7 col6\" >-0.110000</td>\n",
       "                        <td id=\"T_2010a_row7_col7\" class=\"data row7 col7\" >1.000000</td>\n",
       "                        <td id=\"T_2010a_row7_col8\" class=\"data row7 col8\" >0.180000</td>\n",
       "                        <td id=\"T_2010a_row7_col9\" class=\"data row7 col9\" >0.170000</td>\n",
       "                        <td id=\"T_2010a_row7_col10\" class=\"data row7 col10\" >0.090000</td>\n",
       "                        <td id=\"T_2010a_row7_col11\" class=\"data row7 col11\" >0.020000</td>\n",
       "                        <td id=\"T_2010a_row7_col12\" class=\"data row7 col12\" >-0.160000</td>\n",
       "                        <td id=\"T_2010a_row7_col13\" class=\"data row7 col13\" >0.090000</td>\n",
       "                        <td id=\"T_2010a_row7_col14\" class=\"data row7 col14\" >-0.080000</td>\n",
       "                        <td id=\"T_2010a_row7_col15\" class=\"data row7 col15\" >0.040000</td>\n",
       "                        <td id=\"T_2010a_row7_col16\" class=\"data row7 col16\" >-0.040000</td>\n",
       "                        <td id=\"T_2010a_row7_col17\" class=\"data row7 col17\" >0.180000</td>\n",
       "                        <td id=\"T_2010a_row7_col18\" class=\"data row7 col18\" >0.010000</td>\n",
       "                        <td id=\"T_2010a_row7_col19\" class=\"data row7 col19\" >0.020000</td>\n",
       "                        <td id=\"T_2010a_row7_col20\" class=\"data row7 col20\" >0.010000</td>\n",
       "                        <td id=\"T_2010a_row7_col21\" class=\"data row7 col21\" >0.020000</td>\n",
       "            </tr>\n",
       "            <tr>\n",
       "                        <th id=\"T_2010a_level0_row8\" class=\"row_heading level0 row8\" >kitchen_area</th>\n",
       "                        <td id=\"T_2010a_row8_col0\" class=\"data row8 col0\" >0.090000</td>\n",
       "                        <td id=\"T_2010a_row8_col1\" class=\"data row8 col1\" >0.580000</td>\n",
       "                        <td id=\"T_2010a_row8_col2\" class=\"data row8 col2\" >0.550000</td>\n",
       "                        <td id=\"T_2010a_row8_col3\" class=\"data row8 col3\" >0.190000</td>\n",
       "                        <td id=\"T_2010a_row8_col4\" class=\"data row8 col4\" >0.440000</td>\n",
       "                        <td id=\"T_2010a_row8_col5\" class=\"data row8 col5\" >0.240000</td>\n",
       "                        <td id=\"T_2010a_row8_col6\" class=\"data row8 col6\" >0.340000</td>\n",
       "                        <td id=\"T_2010a_row8_col7\" class=\"data row8 col7\" >0.180000</td>\n",
       "                        <td id=\"T_2010a_row8_col8\" class=\"data row8 col8\" >1.000000</td>\n",
       "                        <td id=\"T_2010a_row8_col9\" class=\"data row8 col9\" >0.060000</td>\n",
       "                        <td id=\"T_2010a_row8_col10\" class=\"data row8 col10\" >0.010000</td>\n",
       "                        <td id=\"T_2010a_row8_col11\" class=\"data row8 col11\" >-0.190000</td>\n",
       "                        <td id=\"T_2010a_row8_col12\" class=\"data row8 col12\" >0.070000</td>\n",
       "                        <td id=\"T_2010a_row8_col13\" class=\"data row8 col13\" >0.020000</td>\n",
       "                        <td id=\"T_2010a_row8_col14\" class=\"data row8 col14\" >0.150000</td>\n",
       "                        <td id=\"T_2010a_row8_col15\" class=\"data row8 col15\" >-0.090000</td>\n",
       "                        <td id=\"T_2010a_row8_col16\" class=\"data row8 col16\" >0.090000</td>\n",
       "                        <td id=\"T_2010a_row8_col17\" class=\"data row8 col17\" >0.340000</td>\n",
       "                        <td id=\"T_2010a_row8_col18\" class=\"data row8 col18\" >-0.010000</td>\n",
       "                        <td id=\"T_2010a_row8_col19\" class=\"data row8 col19\" >0.020000</td>\n",
       "                        <td id=\"T_2010a_row8_col20\" class=\"data row8 col20\" >-0.060000</td>\n",
       "                        <td id=\"T_2010a_row8_col21\" class=\"data row8 col21\" >-0.180000</td>\n",
       "            </tr>\n",
       "            <tr>\n",
       "                        <th id=\"T_2010a_level0_row9\" class=\"row_heading level0 row9\" >balcony</th>\n",
       "                        <td id=\"T_2010a_row9_col0\" class=\"data row9 col0\" >0.040000</td>\n",
       "                        <td id=\"T_2010a_row9_col1\" class=\"data row9 col1\" >0.030000</td>\n",
       "                        <td id=\"T_2010a_row9_col2\" class=\"data row9 col2\" >0.030000</td>\n",
       "                        <td id=\"T_2010a_row9_col3\" class=\"data row9 col3\" >0.000000</td>\n",
       "                        <td id=\"T_2010a_row9_col4\" class=\"data row9 col4\" >-0.060000</td>\n",
       "                        <td id=\"T_2010a_row9_col5\" class=\"data row9 col5\" >0.170000</td>\n",
       "                        <td id=\"T_2010a_row9_col6\" class=\"data row9 col6\" >0.000000</td>\n",
       "                        <td id=\"T_2010a_row9_col7\" class=\"data row9 col7\" >0.170000</td>\n",
       "                        <td id=\"T_2010a_row9_col8\" class=\"data row9 col8\" >0.060000</td>\n",
       "                        <td id=\"T_2010a_row9_col9\" class=\"data row9 col9\" >1.000000</td>\n",
       "                        <td id=\"T_2010a_row9_col10\" class=\"data row9 col10\" >0.060000</td>\n",
       "                        <td id=\"T_2010a_row9_col11\" class=\"data row9 col11\" >0.070000</td>\n",
       "                        <td id=\"T_2010a_row9_col12\" class=\"data row9 col12\" >-0.080000</td>\n",
       "                        <td id=\"T_2010a_row9_col13\" class=\"data row9 col13\" >0.030000</td>\n",
       "                        <td id=\"T_2010a_row9_col14\" class=\"data row9 col14\" >-0.040000</td>\n",
       "                        <td id=\"T_2010a_row9_col15\" class=\"data row9 col15\" >0.020000</td>\n",
       "                        <td id=\"T_2010a_row9_col16\" class=\"data row9 col16\" >-0.020000</td>\n",
       "                        <td id=\"T_2010a_row9_col17\" class=\"data row9 col17\" >0.030000</td>\n",
       "                        <td id=\"T_2010a_row9_col18\" class=\"data row9 col18\" >-0.000000</td>\n",
       "                        <td id=\"T_2010a_row9_col19\" class=\"data row9 col19\" >0.010000</td>\n",
       "                        <td id=\"T_2010a_row9_col20\" class=\"data row9 col20\" >0.000000</td>\n",
       "                        <td id=\"T_2010a_row9_col21\" class=\"data row9 col21\" >0.070000</td>\n",
       "            </tr>\n",
       "            <tr>\n",
       "                        <th id=\"T_2010a_level0_row10\" class=\"row_heading level0 row10\" >airports_nearest</th>\n",
       "                        <td id=\"T_2010a_row10_col0\" class=\"data row10 col0\" >0.010000</td>\n",
       "                        <td id=\"T_2010a_row10_col1\" class=\"data row10 col1\" >-0.030000</td>\n",
       "                        <td id=\"T_2010a_row10_col2\" class=\"data row10 col2\" >-0.030000</td>\n",
       "                        <td id=\"T_2010a_row10_col3\" class=\"data row10 col3\" >-0.060000</td>\n",
       "                        <td id=\"T_2010a_row10_col4\" class=\"data row10 col4\" >-0.110000</td>\n",
       "                        <td id=\"T_2010a_row10_col5\" class=\"data row10 col5\" >0.150000</td>\n",
       "                        <td id=\"T_2010a_row10_col6\" class=\"data row10 col6\" >-0.050000</td>\n",
       "                        <td id=\"T_2010a_row10_col7\" class=\"data row10 col7\" >0.090000</td>\n",
       "                        <td id=\"T_2010a_row10_col8\" class=\"data row10 col8\" >0.010000</td>\n",
       "                        <td id=\"T_2010a_row10_col9\" class=\"data row10 col9\" >0.060000</td>\n",
       "                        <td id=\"T_2010a_row10_col10\" class=\"data row10 col10\" >1.000000</td>\n",
       "                        <td id=\"T_2010a_row10_col11\" class=\"data row10 col11\" >0.140000</td>\n",
       "                        <td id=\"T_2010a_row10_col12\" class=\"data row10 col12\" >-0.020000</td>\n",
       "                        <td id=\"T_2010a_row10_col13\" class=\"data row10 col13\" >-0.050000</td>\n",
       "                        <td id=\"T_2010a_row10_col14\" class=\"data row10 col14\" >-0.090000</td>\n",
       "                        <td id=\"T_2010a_row10_col15\" class=\"data row10 col15\" >0.040000</td>\n",
       "                        <td id=\"T_2010a_row10_col16\" class=\"data row10 col16\" >-0.020000</td>\n",
       "                        <td id=\"T_2010a_row10_col17\" class=\"data row10 col17\" >-0.020000</td>\n",
       "                        <td id=\"T_2010a_row10_col18\" class=\"data row10 col18\" >-0.000000</td>\n",
       "                        <td id=\"T_2010a_row10_col19\" class=\"data row10 col19\" >0.010000</td>\n",
       "                        <td id=\"T_2010a_row10_col20\" class=\"data row10 col20\" >0.010000</td>\n",
       "                        <td id=\"T_2010a_row10_col21\" class=\"data row10 col21\" >0.140000</td>\n",
       "            </tr>\n",
       "            <tr>\n",
       "                        <th id=\"T_2010a_level0_row11\" class=\"row_heading level0 row11\" >cityCenters_nearest</th>\n",
       "                        <td id=\"T_2010a_row11_col0\" class=\"data row11 col0\" >-0.030000</td>\n",
       "                        <td id=\"T_2010a_row11_col1\" class=\"data row11 col1\" >-0.350000</td>\n",
       "                        <td id=\"T_2010a_row11_col2\" class=\"data row11 col2\" >-0.250000</td>\n",
       "                        <td id=\"T_2010a_row11_col3\" class=\"data row11 col3\" >-0.170000</td>\n",
       "                        <td id=\"T_2010a_row11_col4\" class=\"data row11 col4\" >-0.400000</td>\n",
       "                        <td id=\"T_2010a_row11_col5\" class=\"data row11 col5\" >0.040000</td>\n",
       "                        <td id=\"T_2010a_row11_col6\" class=\"data row11 col6\" >-0.230000</td>\n",
       "                        <td id=\"T_2010a_row11_col7\" class=\"data row11 col7\" >0.020000</td>\n",
       "                        <td id=\"T_2010a_row11_col8\" class=\"data row11 col8\" >-0.190000</td>\n",
       "                        <td id=\"T_2010a_row11_col9\" class=\"data row11 col9\" >0.070000</td>\n",
       "                        <td id=\"T_2010a_row11_col10\" class=\"data row11 col10\" >0.140000</td>\n",
       "                        <td id=\"T_2010a_row11_col11\" class=\"data row11 col11\" >1.000000</td>\n",
       "                        <td id=\"T_2010a_row11_col12\" class=\"data row11 col12\" >-0.180000</td>\n",
       "                        <td id=\"T_2010a_row11_col13\" class=\"data row11 col13\" >0.010000</td>\n",
       "                        <td id=\"T_2010a_row11_col14\" class=\"data row11 col14\" >-0.080000</td>\n",
       "                        <td id=\"T_2010a_row11_col15\" class=\"data row11 col15\" >0.010000</td>\n",
       "                        <td id=\"T_2010a_row11_col16\" class=\"data row11 col16\" >-0.070000</td>\n",
       "                        <td id=\"T_2010a_row11_col17\" class=\"data row11 col17\" >-0.380000</td>\n",
       "                        <td id=\"T_2010a_row11_col18\" class=\"data row11 col18\" >0.000000</td>\n",
       "                        <td id=\"T_2010a_row11_col19\" class=\"data row11 col19\" >-0.010000</td>\n",
       "                        <td id=\"T_2010a_row11_col20\" class=\"data row11 col20\" >0.030000</td>\n",
       "                        <td id=\"T_2010a_row11_col21\" class=\"data row11 col21\" >1.000000</td>\n",
       "            </tr>\n",
       "            <tr>\n",
       "                        <th id=\"T_2010a_level0_row12\" class=\"row_heading level0 row12\" >parks_around3000</th>\n",
       "                        <td id=\"T_2010a_row12_col0\" class=\"data row12 col0\" >0.020000</td>\n",
       "                        <td id=\"T_2010a_row12_col1\" class=\"data row12 col1\" >0.200000</td>\n",
       "                        <td id=\"T_2010a_row12_col2\" class=\"data row12 col2\" >0.160000</td>\n",
       "                        <td id=\"T_2010a_row12_col3\" class=\"data row12 col3\" >0.120000</td>\n",
       "                        <td id=\"T_2010a_row12_col4\" class=\"data row12 col4\" >0.280000</td>\n",
       "                        <td id=\"T_2010a_row12_col5\" class=\"data row12 col5\" >-0.250000</td>\n",
       "                        <td id=\"T_2010a_row12_col6\" class=\"data row12 col6\" >0.170000</td>\n",
       "                        <td id=\"T_2010a_row12_col7\" class=\"data row12 col7\" >-0.160000</td>\n",
       "                        <td id=\"T_2010a_row12_col8\" class=\"data row12 col8\" >0.070000</td>\n",
       "                        <td id=\"T_2010a_row12_col9\" class=\"data row12 col9\" >-0.080000</td>\n",
       "                        <td id=\"T_2010a_row12_col10\" class=\"data row12 col10\" >-0.020000</td>\n",
       "                        <td id=\"T_2010a_row12_col11\" class=\"data row12 col11\" >-0.180000</td>\n",
       "                        <td id=\"T_2010a_row12_col12\" class=\"data row12 col12\" >1.000000</td>\n",
       "                        <td id=\"T_2010a_row12_col13\" class=\"data row12 col13\" >-0.270000</td>\n",
       "                        <td id=\"T_2010a_row12_col14\" class=\"data row12 col14\" >0.310000</td>\n",
       "                        <td id=\"T_2010a_row12_col15\" class=\"data row12 col15\" >-0.170000</td>\n",
       "                        <td id=\"T_2010a_row12_col16\" class=\"data row12 col16\" >0.060000</td>\n",
       "                        <td id=\"T_2010a_row12_col17\" class=\"data row12 col17\" >0.160000</td>\n",
       "                        <td id=\"T_2010a_row12_col18\" class=\"data row12 col18\" >-0.010000</td>\n",
       "                        <td id=\"T_2010a_row12_col19\" class=\"data row12 col19\" >-0.010000</td>\n",
       "                        <td id=\"T_2010a_row12_col20\" class=\"data row12 col20\" >-0.040000</td>\n",
       "                        <td id=\"T_2010a_row12_col21\" class=\"data row12 col21\" >-0.180000</td>\n",
       "            </tr>\n",
       "            <tr>\n",
       "                        <th id=\"T_2010a_level0_row13\" class=\"row_heading level0 row13\" >parks_nearest</th>\n",
       "                        <td id=\"T_2010a_row13_col0\" class=\"data row13 col0\" >-0.010000</td>\n",
       "                        <td id=\"T_2010a_row13_col1\" class=\"data row13 col1\" >-0.010000</td>\n",
       "                        <td id=\"T_2010a_row13_col2\" class=\"data row13 col2\" >-0.030000</td>\n",
       "                        <td id=\"T_2010a_row13_col3\" class=\"data row13 col3\" >-0.060000</td>\n",
       "                        <td id=\"T_2010a_row13_col4\" class=\"data row13 col4\" >-0.090000</td>\n",
       "                        <td id=\"T_2010a_row13_col5\" class=\"data row13 col5\" >0.130000</td>\n",
       "                        <td id=\"T_2010a_row13_col6\" class=\"data row13 col6\" >-0.060000</td>\n",
       "                        <td id=\"T_2010a_row13_col7\" class=\"data row13 col7\" >0.090000</td>\n",
       "                        <td id=\"T_2010a_row13_col8\" class=\"data row13 col8\" >0.020000</td>\n",
       "                        <td id=\"T_2010a_row13_col9\" class=\"data row13 col9\" >0.030000</td>\n",
       "                        <td id=\"T_2010a_row13_col10\" class=\"data row13 col10\" >-0.050000</td>\n",
       "                        <td id=\"T_2010a_row13_col11\" class=\"data row13 col11\" >0.010000</td>\n",
       "                        <td id=\"T_2010a_row13_col12\" class=\"data row13 col12\" >-0.270000</td>\n",
       "                        <td id=\"T_2010a_row13_col13\" class=\"data row13 col13\" >1.000000</td>\n",
       "                        <td id=\"T_2010a_row13_col14\" class=\"data row13 col14\" >0.030000</td>\n",
       "                        <td id=\"T_2010a_row13_col15\" class=\"data row13 col15\" >0.030000</td>\n",
       "                        <td id=\"T_2010a_row13_col16\" class=\"data row13 col16\" >-0.000000</td>\n",
       "                        <td id=\"T_2010a_row13_col17\" class=\"data row13 col17\" >0.020000</td>\n",
       "                        <td id=\"T_2010a_row13_col18\" class=\"data row13 col18\" >0.000000</td>\n",
       "                        <td id=\"T_2010a_row13_col19\" class=\"data row13 col19\" >0.030000</td>\n",
       "                        <td id=\"T_2010a_row13_col20\" class=\"data row13 col20\" >-0.010000</td>\n",
       "                        <td id=\"T_2010a_row13_col21\" class=\"data row13 col21\" >0.010000</td>\n",
       "            </tr>\n",
       "            <tr>\n",
       "                        <th id=\"T_2010a_level0_row14\" class=\"row_heading level0 row14\" >ponds_around3000</th>\n",
       "                        <td id=\"T_2010a_row14_col0\" class=\"data row14 col0\" >-0.010000</td>\n",
       "                        <td id=\"T_2010a_row14_col1\" class=\"data row14 col1\" >0.190000</td>\n",
       "                        <td id=\"T_2010a_row14_col2\" class=\"data row14 col2\" >0.170000</td>\n",
       "                        <td id=\"T_2010a_row14_col3\" class=\"data row14 col3\" >0.080000</td>\n",
       "                        <td id=\"T_2010a_row14_col4\" class=\"data row14 col4\" >0.250000</td>\n",
       "                        <td id=\"T_2010a_row14_col5\" class=\"data row14 col5\" >-0.140000</td>\n",
       "                        <td id=\"T_2010a_row14_col6\" class=\"data row14 col6\" >0.140000</td>\n",
       "                        <td id=\"T_2010a_row14_col7\" class=\"data row14 col7\" >-0.080000</td>\n",
       "                        <td id=\"T_2010a_row14_col8\" class=\"data row14 col8\" >0.150000</td>\n",
       "                        <td id=\"T_2010a_row14_col9\" class=\"data row14 col9\" >-0.040000</td>\n",
       "                        <td id=\"T_2010a_row14_col10\" class=\"data row14 col10\" >-0.090000</td>\n",
       "                        <td id=\"T_2010a_row14_col11\" class=\"data row14 col11\" >-0.080000</td>\n",
       "                        <td id=\"T_2010a_row14_col12\" class=\"data row14 col12\" >0.310000</td>\n",
       "                        <td id=\"T_2010a_row14_col13\" class=\"data row14 col13\" >0.030000</td>\n",
       "                        <td id=\"T_2010a_row14_col14\" class=\"data row14 col14\" >1.000000</td>\n",
       "                        <td id=\"T_2010a_row14_col15\" class=\"data row14 col15\" >-0.340000</td>\n",
       "                        <td id=\"T_2010a_row14_col16\" class=\"data row14 col16\" >0.060000</td>\n",
       "                        <td id=\"T_2010a_row14_col17\" class=\"data row14 col17\" >0.160000</td>\n",
       "                        <td id=\"T_2010a_row14_col18\" class=\"data row14 col18\" >0.000000</td>\n",
       "                        <td id=\"T_2010a_row14_col19\" class=\"data row14 col19\" >-0.010000</td>\n",
       "                        <td id=\"T_2010a_row14_col20\" class=\"data row14 col20\" >-0.040000</td>\n",
       "                        <td id=\"T_2010a_row14_col21\" class=\"data row14 col21\" >-0.080000</td>\n",
       "            </tr>\n",
       "            <tr>\n",
       "                        <th id=\"T_2010a_level0_row15\" class=\"row_heading level0 row15\" >ponds_nearest</th>\n",
       "                        <td id=\"T_2010a_row15_col0\" class=\"data row15 col0\" >-0.010000</td>\n",
       "                        <td id=\"T_2010a_row15_col1\" class=\"data row15 col1\" >-0.100000</td>\n",
       "                        <td id=\"T_2010a_row15_col2\" class=\"data row15 col2\" >-0.090000</td>\n",
       "                        <td id=\"T_2010a_row15_col3\" class=\"data row15 col3\" >-0.040000</td>\n",
       "                        <td id=\"T_2010a_row15_col4\" class=\"data row15 col4\" >-0.160000</td>\n",
       "                        <td id=\"T_2010a_row15_col5\" class=\"data row15 col5\" >0.060000</td>\n",
       "                        <td id=\"T_2010a_row15_col6\" class=\"data row15 col6\" >-0.060000</td>\n",
       "                        <td id=\"T_2010a_row15_col7\" class=\"data row15 col7\" >0.040000</td>\n",
       "                        <td id=\"T_2010a_row15_col8\" class=\"data row15 col8\" >-0.090000</td>\n",
       "                        <td id=\"T_2010a_row15_col9\" class=\"data row15 col9\" >0.020000</td>\n",
       "                        <td id=\"T_2010a_row15_col10\" class=\"data row15 col10\" >0.040000</td>\n",
       "                        <td id=\"T_2010a_row15_col11\" class=\"data row15 col11\" >0.010000</td>\n",
       "                        <td id=\"T_2010a_row15_col12\" class=\"data row15 col12\" >-0.170000</td>\n",
       "                        <td id=\"T_2010a_row15_col13\" class=\"data row15 col13\" >0.030000</td>\n",
       "                        <td id=\"T_2010a_row15_col14\" class=\"data row15 col14\" >-0.340000</td>\n",
       "                        <td id=\"T_2010a_row15_col15\" class=\"data row15 col15\" >1.000000</td>\n",
       "                        <td id=\"T_2010a_row15_col16\" class=\"data row15 col16\" >-0.060000</td>\n",
       "                        <td id=\"T_2010a_row15_col17\" class=\"data row15 col17\" >-0.080000</td>\n",
       "                        <td id=\"T_2010a_row15_col18\" class=\"data row15 col18\" >-0.010000</td>\n",
       "                        <td id=\"T_2010a_row15_col19\" class=\"data row15 col19\" >0.010000</td>\n",
       "                        <td id=\"T_2010a_row15_col20\" class=\"data row15 col20\" >0.030000</td>\n",
       "                        <td id=\"T_2010a_row15_col21\" class=\"data row15 col21\" >0.010000</td>\n",
       "            </tr>\n",
       "            <tr>\n",
       "                        <th id=\"T_2010a_level0_row16\" class=\"row_heading level0 row16\" >days_exposition</th>\n",
       "                        <td id=\"T_2010a_row16_col0\" class=\"data row16 col0\" >-0.010000</td>\n",
       "                        <td id=\"T_2010a_row16_col1\" class=\"data row16 col1\" >0.110000</td>\n",
       "                        <td id=\"T_2010a_row16_col2\" class=\"data row16 col2\" >0.140000</td>\n",
       "                        <td id=\"T_2010a_row16_col3\" class=\"data row16 col3\" >0.110000</td>\n",
       "                        <td id=\"T_2010a_row16_col4\" class=\"data row16 col4\" >0.110000</td>\n",
       "                        <td id=\"T_2010a_row16_col5\" class=\"data row16 col5\" >-0.060000</td>\n",
       "                        <td id=\"T_2010a_row16_col6\" class=\"data row16 col6\" >0.140000</td>\n",
       "                        <td id=\"T_2010a_row16_col7\" class=\"data row16 col7\" >-0.040000</td>\n",
       "                        <td id=\"T_2010a_row16_col8\" class=\"data row16 col8\" >0.090000</td>\n",
       "                        <td id=\"T_2010a_row16_col9\" class=\"data row16 col9\" >-0.020000</td>\n",
       "                        <td id=\"T_2010a_row16_col10\" class=\"data row16 col10\" >-0.020000</td>\n",
       "                        <td id=\"T_2010a_row16_col11\" class=\"data row16 col11\" >-0.070000</td>\n",
       "                        <td id=\"T_2010a_row16_col12\" class=\"data row16 col12\" >0.060000</td>\n",
       "                        <td id=\"T_2010a_row16_col13\" class=\"data row16 col13\" >-0.000000</td>\n",
       "                        <td id=\"T_2010a_row16_col14\" class=\"data row16 col14\" >0.060000</td>\n",
       "                        <td id=\"T_2010a_row16_col15\" class=\"data row16 col15\" >-0.060000</td>\n",
       "                        <td id=\"T_2010a_row16_col16\" class=\"data row16 col16\" >1.000000</td>\n",
       "                        <td id=\"T_2010a_row16_col17\" class=\"data row16 col17\" >0.010000</td>\n",
       "                        <td id=\"T_2010a_row16_col18\" class=\"data row16 col18\" >-0.020000</td>\n",
       "                        <td id=\"T_2010a_row16_col19\" class=\"data row16 col19\" >-0.030000</td>\n",
       "                        <td id=\"T_2010a_row16_col20\" class=\"data row16 col20\" >-0.580000</td>\n",
       "                        <td id=\"T_2010a_row16_col21\" class=\"data row16 col21\" >-0.070000</td>\n",
       "            </tr>\n",
       "            <tr>\n",
       "                        <th id=\"T_2010a_level0_row17\" class=\"row_heading level0 row17\" >price_m2</th>\n",
       "                        <td id=\"T_2010a_row17_col0\" class=\"data row17 col0\" >0.140000</td>\n",
       "                        <td id=\"T_2010a_row17_col1\" class=\"data row17 col1\" >0.700000</td>\n",
       "                        <td id=\"T_2010a_row17_col2\" class=\"data row17 col2\" >0.170000</td>\n",
       "                        <td id=\"T_2010a_row17_col3\" class=\"data row17 col3\" >-0.060000</td>\n",
       "                        <td id=\"T_2010a_row17_col4\" class=\"data row17 col4\" >0.360000</td>\n",
       "                        <td id=\"T_2010a_row17_col5\" class=\"data row17 col5\" >0.230000</td>\n",
       "                        <td id=\"T_2010a_row17_col6\" class=\"data row17 col6\" >0.070000</td>\n",
       "                        <td id=\"T_2010a_row17_col7\" class=\"data row17 col7\" >0.180000</td>\n",
       "                        <td id=\"T_2010a_row17_col8\" class=\"data row17 col8\" >0.340000</td>\n",
       "                        <td id=\"T_2010a_row17_col9\" class=\"data row17 col9\" >0.030000</td>\n",
       "                        <td id=\"T_2010a_row17_col10\" class=\"data row17 col10\" >-0.020000</td>\n",
       "                        <td id=\"T_2010a_row17_col11\" class=\"data row17 col11\" >-0.380000</td>\n",
       "                        <td id=\"T_2010a_row17_col12\" class=\"data row17 col12\" >0.160000</td>\n",
       "                        <td id=\"T_2010a_row17_col13\" class=\"data row17 col13\" >0.020000</td>\n",
       "                        <td id=\"T_2010a_row17_col14\" class=\"data row17 col14\" >0.160000</td>\n",
       "                        <td id=\"T_2010a_row17_col15\" class=\"data row17 col15\" >-0.080000</td>\n",
       "                        <td id=\"T_2010a_row17_col16\" class=\"data row17 col16\" >0.010000</td>\n",
       "                        <td id=\"T_2010a_row17_col17\" class=\"data row17 col17\" >1.000000</td>\n",
       "                        <td id=\"T_2010a_row17_col18\" class=\"data row17 col18\" >-0.010000</td>\n",
       "                        <td id=\"T_2010a_row17_col19\" class=\"data row17 col19\" >-0.010000</td>\n",
       "                        <td id=\"T_2010a_row17_col20\" class=\"data row17 col20\" >0.050000</td>\n",
       "                        <td id=\"T_2010a_row17_col21\" class=\"data row17 col21\" >-0.380000</td>\n",
       "            </tr>\n",
       "            <tr>\n",
       "                        <th id=\"T_2010a_level0_row18\" class=\"row_heading level0 row18\" >weekday_exposition</th>\n",
       "                        <td id=\"T_2010a_row18_col0\" class=\"data row18 col0\" >-0.010000</td>\n",
       "                        <td id=\"T_2010a_row18_col1\" class=\"data row18 col1\" >-0.020000</td>\n",
       "                        <td id=\"T_2010a_row18_col2\" class=\"data row18 col2\" >-0.020000</td>\n",
       "                        <td id=\"T_2010a_row18_col3\" class=\"data row18 col3\" >-0.000000</td>\n",
       "                        <td id=\"T_2010a_row18_col4\" class=\"data row18 col4\" >-0.020000</td>\n",
       "                        <td id=\"T_2010a_row18_col5\" class=\"data row18 col5\" >0.010000</td>\n",
       "                        <td id=\"T_2010a_row18_col6\" class=\"data row18 col6\" >-0.010000</td>\n",
       "                        <td id=\"T_2010a_row18_col7\" class=\"data row18 col7\" >0.010000</td>\n",
       "                        <td id=\"T_2010a_row18_col8\" class=\"data row18 col8\" >-0.010000</td>\n",
       "                        <td id=\"T_2010a_row18_col9\" class=\"data row18 col9\" >-0.000000</td>\n",
       "                        <td id=\"T_2010a_row18_col10\" class=\"data row18 col10\" >-0.000000</td>\n",
       "                        <td id=\"T_2010a_row18_col11\" class=\"data row18 col11\" >0.000000</td>\n",
       "                        <td id=\"T_2010a_row18_col12\" class=\"data row18 col12\" >-0.010000</td>\n",
       "                        <td id=\"T_2010a_row18_col13\" class=\"data row18 col13\" >0.000000</td>\n",
       "                        <td id=\"T_2010a_row18_col14\" class=\"data row18 col14\" >0.000000</td>\n",
       "                        <td id=\"T_2010a_row18_col15\" class=\"data row18 col15\" >-0.010000</td>\n",
       "                        <td id=\"T_2010a_row18_col16\" class=\"data row18 col16\" >-0.020000</td>\n",
       "                        <td id=\"T_2010a_row18_col17\" class=\"data row18 col17\" >-0.010000</td>\n",
       "                        <td id=\"T_2010a_row18_col18\" class=\"data row18 col18\" >1.000000</td>\n",
       "                        <td id=\"T_2010a_row18_col19\" class=\"data row18 col19\" >0.010000</td>\n",
       "                        <td id=\"T_2010a_row18_col20\" class=\"data row18 col20\" >-0.000000</td>\n",
       "                        <td id=\"T_2010a_row18_col21\" class=\"data row18 col21\" >0.000000</td>\n",
       "            </tr>\n",
       "            <tr>\n",
       "                        <th id=\"T_2010a_level0_row19\" class=\"row_heading level0 row19\" >month_exposition</th>\n",
       "                        <td id=\"T_2010a_row19_col0\" class=\"data row19 col0\" >-0.000000</td>\n",
       "                        <td id=\"T_2010a_row19_col1\" class=\"data row19 col1\" >0.000000</td>\n",
       "                        <td id=\"T_2010a_row19_col2\" class=\"data row19 col2\" >0.010000</td>\n",
       "                        <td id=\"T_2010a_row19_col3\" class=\"data row19 col3\" >0.000000</td>\n",
       "                        <td id=\"T_2010a_row19_col4\" class=\"data row19 col4\" >0.000000</td>\n",
       "                        <td id=\"T_2010a_row19_col5\" class=\"data row19 col5\" >0.010000</td>\n",
       "                        <td id=\"T_2010a_row19_col6\" class=\"data row19 col6\" >-0.000000</td>\n",
       "                        <td id=\"T_2010a_row19_col7\" class=\"data row19 col7\" >0.020000</td>\n",
       "                        <td id=\"T_2010a_row19_col8\" class=\"data row19 col8\" >0.020000</td>\n",
       "                        <td id=\"T_2010a_row19_col9\" class=\"data row19 col9\" >0.010000</td>\n",
       "                        <td id=\"T_2010a_row19_col10\" class=\"data row19 col10\" >0.010000</td>\n",
       "                        <td id=\"T_2010a_row19_col11\" class=\"data row19 col11\" >-0.010000</td>\n",
       "                        <td id=\"T_2010a_row19_col12\" class=\"data row19 col12\" >-0.010000</td>\n",
       "                        <td id=\"T_2010a_row19_col13\" class=\"data row19 col13\" >0.030000</td>\n",
       "                        <td id=\"T_2010a_row19_col14\" class=\"data row19 col14\" >-0.010000</td>\n",
       "                        <td id=\"T_2010a_row19_col15\" class=\"data row19 col15\" >0.010000</td>\n",
       "                        <td id=\"T_2010a_row19_col16\" class=\"data row19 col16\" >-0.030000</td>\n",
       "                        <td id=\"T_2010a_row19_col17\" class=\"data row19 col17\" >-0.010000</td>\n",
       "                        <td id=\"T_2010a_row19_col18\" class=\"data row19 col18\" >0.010000</td>\n",
       "                        <td id=\"T_2010a_row19_col19\" class=\"data row19 col19\" >1.000000</td>\n",
       "                        <td id=\"T_2010a_row19_col20\" class=\"data row19 col20\" >-0.270000</td>\n",
       "                        <td id=\"T_2010a_row19_col21\" class=\"data row19 col21\" >-0.010000</td>\n",
       "            </tr>\n",
       "            <tr>\n",
       "                        <th id=\"T_2010a_level0_row20\" class=\"row_heading level0 row20\" >year_exposition</th>\n",
       "                        <td id=\"T_2010a_row20_col0\" class=\"data row20 col0\" >0.140000</td>\n",
       "                        <td id=\"T_2010a_row20_col1\" class=\"data row20 col1\" >-0.030000</td>\n",
       "                        <td id=\"T_2010a_row20_col2\" class=\"data row20 col2\" >-0.080000</td>\n",
       "                        <td id=\"T_2010a_row20_col3\" class=\"data row20 col3\" >-0.060000</td>\n",
       "                        <td id=\"T_2010a_row20_col4\" class=\"data row20 col4\" >-0.110000</td>\n",
       "                        <td id=\"T_2010a_row20_col5\" class=\"data row20 col5\" >0.010000</td>\n",
       "                        <td id=\"T_2010a_row20_col6\" class=\"data row20 col6\" >-0.070000</td>\n",
       "                        <td id=\"T_2010a_row20_col7\" class=\"data row20 col7\" >0.010000</td>\n",
       "                        <td id=\"T_2010a_row20_col8\" class=\"data row20 col8\" >-0.060000</td>\n",
       "                        <td id=\"T_2010a_row20_col9\" class=\"data row20 col9\" >0.000000</td>\n",
       "                        <td id=\"T_2010a_row20_col10\" class=\"data row20 col10\" >0.010000</td>\n",
       "                        <td id=\"T_2010a_row20_col11\" class=\"data row20 col11\" >0.030000</td>\n",
       "                        <td id=\"T_2010a_row20_col12\" class=\"data row20 col12\" >-0.040000</td>\n",
       "                        <td id=\"T_2010a_row20_col13\" class=\"data row20 col13\" >-0.010000</td>\n",
       "                        <td id=\"T_2010a_row20_col14\" class=\"data row20 col14\" >-0.040000</td>\n",
       "                        <td id=\"T_2010a_row20_col15\" class=\"data row20 col15\" >0.030000</td>\n",
       "                        <td id=\"T_2010a_row20_col16\" class=\"data row20 col16\" >-0.580000</td>\n",
       "                        <td id=\"T_2010a_row20_col17\" class=\"data row20 col17\" >0.050000</td>\n",
       "                        <td id=\"T_2010a_row20_col18\" class=\"data row20 col18\" >-0.000000</td>\n",
       "                        <td id=\"T_2010a_row20_col19\" class=\"data row20 col19\" >-0.270000</td>\n",
       "                        <td id=\"T_2010a_row20_col20\" class=\"data row20 col20\" >1.000000</td>\n",
       "                        <td id=\"T_2010a_row20_col21\" class=\"data row20 col21\" >0.030000</td>\n",
       "            </tr>\n",
       "            <tr>\n",
       "                        <th id=\"T_2010a_level0_row21\" class=\"row_heading level0 row21\" >cityCenters_nearest_km</th>\n",
       "                        <td id=\"T_2010a_row21_col0\" class=\"data row21 col0\" >-0.030000</td>\n",
       "                        <td id=\"T_2010a_row21_col1\" class=\"data row21 col1\" >-0.340000</td>\n",
       "                        <td id=\"T_2010a_row21_col2\" class=\"data row21 col2\" >-0.250000</td>\n",
       "                        <td id=\"T_2010a_row21_col3\" class=\"data row21 col3\" >-0.170000</td>\n",
       "                        <td id=\"T_2010a_row21_col4\" class=\"data row21 col4\" >-0.390000</td>\n",
       "                        <td id=\"T_2010a_row21_col5\" class=\"data row21 col5\" >0.040000</td>\n",
       "                        <td id=\"T_2010a_row21_col6\" class=\"data row21 col6\" >-0.230000</td>\n",
       "                        <td id=\"T_2010a_row21_col7\" class=\"data row21 col7\" >0.020000</td>\n",
       "                        <td id=\"T_2010a_row21_col8\" class=\"data row21 col8\" >-0.180000</td>\n",
       "                        <td id=\"T_2010a_row21_col9\" class=\"data row21 col9\" >0.070000</td>\n",
       "                        <td id=\"T_2010a_row21_col10\" class=\"data row21 col10\" >0.140000</td>\n",
       "                        <td id=\"T_2010a_row21_col11\" class=\"data row21 col11\" >1.000000</td>\n",
       "                        <td id=\"T_2010a_row21_col12\" class=\"data row21 col12\" >-0.180000</td>\n",
       "                        <td id=\"T_2010a_row21_col13\" class=\"data row21 col13\" >0.010000</td>\n",
       "                        <td id=\"T_2010a_row21_col14\" class=\"data row21 col14\" >-0.080000</td>\n",
       "                        <td id=\"T_2010a_row21_col15\" class=\"data row21 col15\" >0.010000</td>\n",
       "                        <td id=\"T_2010a_row21_col16\" class=\"data row21 col16\" >-0.070000</td>\n",
       "                        <td id=\"T_2010a_row21_col17\" class=\"data row21 col17\" >-0.380000</td>\n",
       "                        <td id=\"T_2010a_row21_col18\" class=\"data row21 col18\" >0.000000</td>\n",
       "                        <td id=\"T_2010a_row21_col19\" class=\"data row21 col19\" >-0.010000</td>\n",
       "                        <td id=\"T_2010a_row21_col20\" class=\"data row21 col20\" >0.030000</td>\n",
       "                        <td id=\"T_2010a_row21_col21\" class=\"data row21 col21\" >1.000000</td>\n",
       "            </tr>\n",
       "    </tbody></table>"
      ],
      "text/plain": [
       "<pandas.io.formats.style.Styler at 0x7fc3674e3790>"
      ]
     },
     "execution_count": 41,
     "metadata": {},
     "output_type": "execute_result"
    }
   ],
   "source": [
    "# матрица корреляции \n",
    "df.corr().round(2).style.background_gradient('coolwarm')"
   ]
  },
  {
   "cell_type": "code",
   "execution_count": 42,
   "metadata": {
    "ExecuteTime": {
     "end_time": "2022-11-09T06:39:46.252371Z",
     "start_time": "2022-11-09T06:39:46.238373Z"
    }
   },
   "outputs": [],
   "source": [
    "# признаки для построения графиков\n",
    "cols_to_plot = ['total_area',\n",
    "                'living_area',\n",
    "                'kitchen_area',\n",
    "                'rooms',\n",
    "                'floor_type',\n",
    "                'weekday_exposition',\n",
    "                'month_exposition',\n",
    "                'year_exposition']"
   ]
  },
  {
   "cell_type": "code",
   "execution_count": 43,
   "metadata": {
    "ExecuteTime": {
     "end_time": "2022-11-09T06:39:47.211535Z",
     "start_time": "2022-11-09T06:39:46.254373Z"
    }
   },
   "outputs": [
    {
     "data": {
      "image/png": "[encoded data removed]",
      "text/plain": [
       "<Figure size 432x288 with 1 Axes>"
      ]
     },
     "metadata": {
      "needs_background": "light"
     },
     "output_type": "display_data"
    },
    {
     "data": {
      "image/png": "[encoded data removed]",
      "text/plain": [
       "<Figure size 432x288 with 1 Axes>"
      ]
     },
     "metadata": {
      "needs_background": "light"
     },
     "output_type": "display_data"
    },
    {
     "data": {
      "image/png": "[encoded data removed]",
      "text/plain": [
       "<Figure size 432x288 with 1 Axes>"
      ]
     },
     "metadata": {
      "needs_background": "light"
     },
     "output_type": "display_data"
    }
   ],
   "source": [
    "# графики зависимости цены от площади квартиры\n",
    "for col in cols_to_plot[:3]:\n",
    "    df.plot(x=col, y='last_price', kind='scatter', alpha=0.1, linewidths=0.5);\n",
    "    #df.plot(x=col, y='last_price', kind='hexbin', gridsize=15, cmap='Blues');\n",
    "    plt.show()"
   ]
  },
  {
   "cell_type": "code",
   "execution_count": 44,
   "metadata": {
    "ExecuteTime": {
     "end_time": "2022-11-09T06:39:47.227535Z",
     "start_time": "2022-11-09T06:39:47.213536Z"
    }
   },
   "outputs": [],
   "source": [
    "# цена по всем вариантам количества комнат\n",
    "#data.query('last_price < 1e8').pivot_table(index='rooms', values='last_price', aggfunc='median').plot(kind='bar', rot=0);"
   ]
  },
  {
   "cell_type": "code",
   "execution_count": 45,
   "metadata": {
    "ExecuteTime": {
     "end_time": "2022-11-09T06:39:47.339549Z",
     "start_time": "2022-11-09T06:39:47.230543Z"
    }
   },
   "outputs": [],
   "source": [
    "# число квартир с большим числом комнат\n",
    "#print('Число квартир с большим числом комнат:', data.query('rooms > 10')['last_price'].count())"
   ]
  },
  {
   "cell_type": "code",
   "execution_count": 46,
   "metadata": {
    "ExecuteTime": {
     "end_time": "2022-11-09T06:39:47.771581Z",
     "start_time": "2022-11-09T06:39:47.342551Z"
    },
    "scrolled": false
   },
   "outputs": [
    {
     "data": {
      "image/png": "[encoded data removed]",
      "text/plain": [
       "<Figure size 432x288 with 1 Axes>"
      ]
     },
     "metadata": {
      "needs_background": "light"
     },
     "output_type": "display_data"
    },
    {
     "data": {
      "image/png": "[encoded data removed]",
      "text/plain": [
       "<Figure size 432x288 with 1 Axes>"
      ]
     },
     "metadata": {
      "needs_background": "light"
     },
     "output_type": "display_data"
    }
   ],
   "source": [
    "# графики зависимости цены от числа комнат и типа этажа\n",
    "for col in cols_to_plot[3:5]:    \n",
    "    df.pivot_table(index=col, values='last_price', aggfunc='median').plot(kind='bar', rot=0)\n",
    "    plt.show()"
   ]
  },
  {
   "cell_type": "code",
   "execution_count": 47,
   "metadata": {
    "ExecuteTime": {
     "end_time": "2022-11-09T06:39:48.250616Z",
     "start_time": "2022-11-09T06:39:47.773582Z"
    }
   },
   "outputs": [
    {
     "data": {
      "image/png": "[encoded data removed]",
      "text/plain": [
       "<Figure size 432x288 with 1 Axes>"
      ]
     },
     "metadata": {
      "needs_background": "light"
     },
     "output_type": "display_data"
    },
    {
     "data": {
      "image/png": "[encoded data removed]",
      "text/plain": [
       "<Figure size 432x288 with 1 Axes>"
      ]
     },
     "metadata": {
      "needs_background": "light"
     },
     "output_type": "display_data"
    }
   ],
   "source": [
    "# графики зависимости цены от временных факторов\n",
    "for col in cols_to_plot[5:-1]:    \n",
    "    df.pivot_table(index=col, values='last_price', aggfunc='median').plot(kind='bar', rot=0, ylim=(4e6, 5e6))\n",
    "    plt.show()"
   ]
  },
  {
   "cell_type": "code",
   "execution_count": 48,
   "metadata": {
    "ExecuteTime": {
     "end_time": "2022-11-09T06:39:48.634647Z",
     "start_time": "2022-11-09T06:39:48.252618Z"
    }
   },
   "outputs": [
    {
     "data": {
      "image/png": "[encoded data removed]",
      "text/plain": [
       "<Figure size 432x288 with 1 Axes>"
      ]
     },
     "metadata": {
      "needs_background": "light"
     },
     "output_type": "display_data"
    }
   ],
   "source": [
    "# графики зависимости цены от временных факторов\n",
    "for col in cols_to_plot[7:]:    \n",
    "    df.pivot_table(index=col, values='last_price', aggfunc='median').plot(kind='bar', rot=0, ylim=(4e6, 8e6))\n",
    "    plt.show()"
   ]
  },
  {
   "cell_type": "markdown",
   "metadata": {},
   "source": [
    "__Обзор диаграмм:__  \n",
    "* Все три диаграммы рассеяния показываю прямую зависимость между ростом площади и стоимости. Для общей площади такая связь более выражена, чем для жилой или кухонной. На ней видна зона интенсивных продаж бюджетного жилья. Такие же зоны присутствуют на и на остальных диаграммах. На графике жилой площади выделяются 3 зоны - речь, вероятно, о различном числе комнат. Диаграмма выглядит разлинованной - не исключено, что размер кухни просто округляли.\n",
    "* Так как увеличение площади часто сопровождается увеличением количества комнат, то и между этим показателем и стоимостью жилья прямая зависимость. Но это характерно прежде всего для бюджетного жилья.\n",
    "* Тип этажа меньше влияет на цену, но покупатели квартир стараются избегать проходные первые этажи.\n",
    "* День недели и месяц публикации также незначительно влияют на стоимость. В начале трудовой недели цена немного выше, чем в конце. На графике месячной завис мисти заметен рост перед майскими праздниками и дальнейшее падение вплоть до июля. \n",
    "* Диаграмма года публикации показывает резкое падение цен на жилье в 2015 году и дальнейшую стабилизацию. Здесь прослеживается влияние изменений в политико-экономической ситуации."
   ]
  },
  {
   "cell_type": "markdown",
   "metadata": {},
   "source": [
    "__Анализ корреляционных связей:__  \n",
    "При обзоре корреляционной матрицы выяснилось, что наибольшая положительная связь цена имеет с общей площадью и тесно связанными с ней параметрами - жилой площадью и числом комнат. Фактически общую площадь уже можно рассматривать в качестве основного компонента при оценке недвижимости. Но, чтобы не оперировать абсолютными величинами и не строить пропорции, лучше перейти к условным единицам. У нас уже есть такой признак - цена за кв.м. Он, как и предполагалось, имеет низкую корреляцию с площадью и высокую - с ценой. Теперь, если рассмотреть уже этот признак, обнаружиться его достаточная обратная корреляция с расстоянием от центра города. А она в свою очередь слабо корригируется с площадью. Таким образом получены два независимых, универсальных и масштабируемых признака, которые позволяют оценить приблизительную цену квартиры."
   ]
  },
  {
   "cell_type": "markdown",
   "metadata": {
    "ExecuteTime": {
     "end_time": "2023-06-21T20:02:10.861660Z",
     "start_time": "2023-06-21T20:02:10.623409Z"
    }
   },
   "source": [
    "#### Расчёт средней цены одного квадратного метра"
   ]
  },
  {
   "cell_type": "markdown",
   "metadata": {},
   "source": [
    "Посчитаем среднюю цену одного квадратного метра в 10 населённых пунктах с наибольшим числом объявлений. Выделим населённые пункты с самой высокой и низкой стоимостью квадратного метра."
   ]
  },
  {
   "cell_type": "code",
   "execution_count": 49,
   "metadata": {
    "ExecuteTime": {
     "end_time": "2022-11-09T06:39:48.666650Z",
     "start_time": "2022-11-09T06:39:48.636647Z"
    }
   },
   "outputs": [
    {
     "data": {
      "text/plain": [
       "['Санкт-Петербург',\n",
       " 'Мурино',\n",
       " 'Кудрово',\n",
       " 'Шушары',\n",
       " 'Всеволожск',\n",
       " 'Пушкин',\n",
       " 'Колпино',\n",
       " 'Парголово',\n",
       " 'Гатчина',\n",
       " 'Выборг']"
      ]
     },
     "execution_count": 49,
     "metadata": {},
     "output_type": "execute_result"
    }
   ],
   "source": [
    "# 10 населённых пунктов с наибольшим числом объявлений\n",
    "most_part_ann = (\n",
    "    df.groupby('locality_only_name')['locality_only_name']\n",
    "    .count()\n",
    "    .sort_values(ascending=False)[:10]\n",
    "    .index.to_list()\n",
    ")\n",
    "most_part_ann"
   ]
  },
  {
   "cell_type": "code",
   "execution_count": 50,
   "metadata": {
    "ExecuteTime": {
     "end_time": "2022-11-09T06:39:48.762545Z",
     "start_time": "2022-11-09T06:39:48.669648Z"
    }
   },
   "outputs": [],
   "source": [
    "# средняя цена кв.м в топе городов\n",
    "mean_price_m2 = (\n",
    "    df.query('locality_only_name in @most_part_ann')\n",
    "    .groupby('locality_only_name')['price_m2'].mean()\n",
    "    .sort_values(ascending=False)\n",
    ")"
   ]
  },
  {
   "cell_type": "code",
   "execution_count": 51,
   "metadata": {
    "ExecuteTime": {
     "end_time": "2022-11-09T06:39:48.858550Z",
     "start_time": "2022-11-09T06:39:48.765545Z"
    },
    "scrolled": true
   },
   "outputs": [
    {
     "name": "stdout",
     "output_type": "stream",
     "text": [
      "Самая высокая цена за кв.м:  Санкт-Петербург - 111053.3 т.р.\n",
      "Самая низкая цена за кв.м:            Выборг - 58308.0 т.р.\n"
     ]
    }
   ],
   "source": [
    "print(f'Самая высокая цена за кв.м: {mean_price_m2.index[0]:>16} - {mean_price_m2.max():.1f} т.р.')\n",
    "print(f'Самая низкая цена за кв.м: {mean_price_m2.index[-1]:>17} - {mean_price_m2.min():.1f} т.р.')"
   ]
  },
  {
   "cell_type": "code",
   "execution_count": 52,
   "metadata": {
    "ExecuteTime": {
     "end_time": "2022-11-09T06:39:48.969529Z",
     "start_time": "2022-11-09T06:39:48.861553Z"
    }
   },
   "outputs": [
    {
     "data": {
      "text/html": [
       "<div>\n",
       "<style scoped>\n",
       "    .dataframe tbody tr th:only-of-type {\n",
       "        vertical-align: middle;\n",
       "    }\n",
       "\n",
       "    .dataframe tbody tr th {\n",
       "        vertical-align: top;\n",
       "    }\n",
       "\n",
       "    .dataframe thead th {\n",
       "        text-align: right;\n",
       "    }\n",
       "</style>\n",
       "<table border=\"1\" class=\"dataframe\">\n",
       "  <thead>\n",
       "    <tr style=\"text-align: right;\">\n",
       "      <th></th>\n",
       "      <th>balcony</th>\n",
       "      <th>last_price</th>\n",
       "    </tr>\n",
       "    <tr>\n",
       "      <th>locality_name</th>\n",
       "      <th></th>\n",
       "      <th></th>\n",
       "    </tr>\n",
       "  </thead>\n",
       "  <tbody>\n",
       "    <tr>\n",
       "      <th>Санкт-Петербург</th>\n",
       "      <td>15651</td>\n",
       "      <td>5500000.0</td>\n",
       "    </tr>\n",
       "    <tr>\n",
       "      <th>посёлок Мурино</th>\n",
       "      <td>520</td>\n",
       "      <td>3400000.0</td>\n",
       "    </tr>\n",
       "    <tr>\n",
       "      <th>посёлок Шушары</th>\n",
       "      <td>439</td>\n",
       "      <td>3950000.0</td>\n",
       "    </tr>\n",
       "    <tr>\n",
       "      <th>Всеволожск</th>\n",
       "      <td>398</td>\n",
       "      <td>3450000.0</td>\n",
       "    </tr>\n",
       "    <tr>\n",
       "      <th>Пушкин</th>\n",
       "      <td>369</td>\n",
       "      <td>5165000.0</td>\n",
       "    </tr>\n",
       "    <tr>\n",
       "      <th>Колпино</th>\n",
       "      <td>338</td>\n",
       "      <td>3600000.0</td>\n",
       "    </tr>\n",
       "    <tr>\n",
       "      <th>посёлок Парголово</th>\n",
       "      <td>327</td>\n",
       "      <td>4100000.0</td>\n",
       "    </tr>\n",
       "    <tr>\n",
       "      <th>Гатчина</th>\n",
       "      <td>307</td>\n",
       "      <td>3100000.0</td>\n",
       "    </tr>\n",
       "    <tr>\n",
       "      <th>деревня Кудрово</th>\n",
       "      <td>299</td>\n",
       "      <td>3790000.0</td>\n",
       "    </tr>\n",
       "    <tr>\n",
       "      <th>Выборг</th>\n",
       "      <td>237</td>\n",
       "      <td>2900000.0</td>\n",
       "    </tr>\n",
       "  </tbody>\n",
       "</table>\n",
       "</div>"
      ],
      "text/plain": [
       "                   balcony  last_price\n",
       "locality_name                         \n",
       "Санкт-Петербург      15651   5500000.0\n",
       "посёлок Мурино         520   3400000.0\n",
       "посёлок Шушары         439   3950000.0\n",
       "Всеволожск             398   3450000.0\n",
       "Пушкин                 369   5165000.0\n",
       "Колпино                338   3600000.0\n",
       "посёлок Парголово      327   4100000.0\n",
       "Гатчина                307   3100000.0\n",
       "деревня Кудрово        299   3790000.0\n",
       "Выборг                 237   2900000.0"
      ]
     },
     "execution_count": 52,
     "metadata": {},
     "output_type": "execute_result"
    }
   ],
   "source": [
    "df.groupby('locality_name').agg({'balcony':'count', 'last_price':'median'}) \\\n",
    "    .sort_values(by = 'balcony', ascending = False) \\\n",
    "    .head(10)"
   ]
  },
  {
   "cell_type": "code",
   "execution_count": 53,
   "metadata": {
    "ExecuteTime": {
     "end_time": "2022-11-09T06:39:49.064537Z",
     "start_time": "2022-11-09T06:39:48.971532Z"
    }
   },
   "outputs": [
    {
     "data": {
      "text/html": [
       "<div>\n",
       "<style scoped>\n",
       "    .dataframe tbody tr th:only-of-type {\n",
       "        vertical-align: middle;\n",
       "    }\n",
       "\n",
       "    .dataframe tbody tr th {\n",
       "        vertical-align: top;\n",
       "    }\n",
       "\n",
       "    .dataframe thead th {\n",
       "        text-align: right;\n",
       "    }\n",
       "</style>\n",
       "<table border=\"1\" class=\"dataframe\">\n",
       "  <thead>\n",
       "    <tr style=\"text-align: right;\">\n",
       "      <th></th>\n",
       "      <th>last_price</th>\n",
       "      <th>price_m2</th>\n",
       "    </tr>\n",
       "    <tr>\n",
       "      <th>locality_only_name</th>\n",
       "      <th></th>\n",
       "      <th></th>\n",
       "    </tr>\n",
       "  </thead>\n",
       "  <tbody>\n",
       "    <tr>\n",
       "      <th>Санкт-Петербург</th>\n",
       "      <td>15418</td>\n",
       "      <td>111053.280925</td>\n",
       "    </tr>\n",
       "    <tr>\n",
       "      <th>Мурино</th>\n",
       "      <td>586</td>\n",
       "      <td>85156.107741</td>\n",
       "    </tr>\n",
       "    <tr>\n",
       "      <th>Кудрово</th>\n",
       "      <td>470</td>\n",
       "      <td>94574.034683</td>\n",
       "    </tr>\n",
       "    <tr>\n",
       "      <th>Шушары</th>\n",
       "      <td>439</td>\n",
       "      <td>78152.198817</td>\n",
       "    </tr>\n",
       "    <tr>\n",
       "      <th>Всеволожск</th>\n",
       "      <td>397</td>\n",
       "      <td>68694.149934</td>\n",
       "    </tr>\n",
       "    <tr>\n",
       "      <th>Пушкин</th>\n",
       "      <td>368</td>\n",
       "      <td>103077.242205</td>\n",
       "    </tr>\n",
       "    <tr>\n",
       "      <th>Колпино</th>\n",
       "      <td>337</td>\n",
       "      <td>75239.590783</td>\n",
       "    </tr>\n",
       "    <tr>\n",
       "      <th>Парголово</th>\n",
       "      <td>327</td>\n",
       "      <td>90430.721268</td>\n",
       "    </tr>\n",
       "    <tr>\n",
       "      <th>Гатчина</th>\n",
       "      <td>306</td>\n",
       "      <td>68935.194838</td>\n",
       "    </tr>\n",
       "    <tr>\n",
       "      <th>Выборг</th>\n",
       "      <td>233</td>\n",
       "      <td>58307.962412</td>\n",
       "    </tr>\n",
       "  </tbody>\n",
       "</table>\n",
       "</div>"
      ],
      "text/plain": [
       "                    last_price       price_m2\n",
       "locality_only_name                           \n",
       "Санкт-Петербург          15418  111053.280925\n",
       "Мурино                     586   85156.107741\n",
       "Кудрово                    470   94574.034683\n",
       "Шушары                     439   78152.198817\n",
       "Всеволожск                 397   68694.149934\n",
       "Пушкин                     368  103077.242205\n",
       "Колпино                    337   75239.590783\n",
       "Парголово                  327   90430.721268\n",
       "Гатчина                    306   68935.194838\n",
       "Выборг                     233   58307.962412"
      ]
     },
     "execution_count": 53,
     "metadata": {},
     "output_type": "execute_result"
    }
   ],
   "source": [
    "# населенные пункты с наибольшим числом числом предложений и наиболее высокой ценой за кв.м\n",
    "df.groupby('locality_only_name').agg({'last_price':'count', 'price_m2':'mean'}) \\\n",
    "    .sort_values(by = 'last_price', ascending = False) \\\n",
    "    .head(10)"
   ]
  },
  {
   "cell_type": "markdown",
   "metadata": {},
   "source": [
    "#### Расчёт средней цены для километра отдалённости от центра города"
   ]
  },
  {
   "cell_type": "markdown",
   "metadata": {},
   "source": [
    "Ранее мы посчитали расстояние до центра в километрах. Теперь выделим квартиры в Санкт-Петербурге с помощью столбца `locality_name` и вычислим среднюю цену каждого километра. Опишем, как стоимость объектов зависит от расстояния до центра города."
   ]
  },
  {
   "cell_type": "code",
   "execution_count": 54,
   "metadata": {
    "ExecuteTime": {
     "end_time": "2022-11-09T06:39:49.352557Z",
     "start_time": "2022-11-09T06:39:49.067537Z"
    }
   },
   "outputs": [
    {
     "data": {
      "text/html": [
       "<div>\n",
       "<style scoped>\n",
       "    .dataframe tbody tr th:only-of-type {\n",
       "        vertical-align: middle;\n",
       "    }\n",
       "\n",
       "    .dataframe tbody tr th {\n",
       "        vertical-align: top;\n",
       "    }\n",
       "\n",
       "    .dataframe thead th {\n",
       "        text-align: right;\n",
       "    }\n",
       "</style>\n",
       "<table border=\"1\" class=\"dataframe\">\n",
       "  <thead>\n",
       "    <tr style=\"text-align: right;\">\n",
       "      <th></th>\n",
       "      <th>Расстояние до центра города</th>\n",
       "      <th>Средняя цена за кв.м</th>\n",
       "    </tr>\n",
       "  </thead>\n",
       "  <tbody>\n",
       "    <tr>\n",
       "      <th>0</th>\n",
       "      <td>1</td>\n",
       "      <td>143746.878451</td>\n",
       "    </tr>\n",
       "    <tr>\n",
       "      <th>1</th>\n",
       "      <td>2</td>\n",
       "      <td>121570.535534</td>\n",
       "    </tr>\n",
       "    <tr>\n",
       "      <th>2</th>\n",
       "      <td>3</td>\n",
       "      <td>120108.173762</td>\n",
       "    </tr>\n",
       "    <tr>\n",
       "      <th>3</th>\n",
       "      <td>4</td>\n",
       "      <td>132351.814503</td>\n",
       "    </tr>\n",
       "    <tr>\n",
       "      <th>4</th>\n",
       "      <td>5</td>\n",
       "      <td>134820.305981</td>\n",
       "    </tr>\n",
       "    <tr>\n",
       "      <th>5</th>\n",
       "      <td>6</td>\n",
       "      <td>136189.508781</td>\n",
       "    </tr>\n",
       "    <tr>\n",
       "      <th>6</th>\n",
       "      <td>7</td>\n",
       "      <td>129504.662429</td>\n",
       "    </tr>\n",
       "    <tr>\n",
       "      <th>7</th>\n",
       "      <td>8</td>\n",
       "      <td>119658.476151</td>\n",
       "    </tr>\n",
       "    <tr>\n",
       "      <th>8</th>\n",
       "      <td>9</td>\n",
       "      <td>109664.626941</td>\n",
       "    </tr>\n",
       "    <tr>\n",
       "      <th>9</th>\n",
       "      <td>10</td>\n",
       "      <td>110851.741114</td>\n",
       "    </tr>\n",
       "    <tr>\n",
       "      <th>10</th>\n",
       "      <td>11</td>\n",
       "      <td>106379.517156</td>\n",
       "    </tr>\n",
       "    <tr>\n",
       "      <th>11</th>\n",
       "      <td>12</td>\n",
       "      <td>108191.277458</td>\n",
       "    </tr>\n",
       "    <tr>\n",
       "      <th>12</th>\n",
       "      <td>13</td>\n",
       "      <td>107038.381970</td>\n",
       "    </tr>\n",
       "    <tr>\n",
       "      <th>13</th>\n",
       "      <td>14</td>\n",
       "      <td>104757.534534</td>\n",
       "    </tr>\n",
       "    <tr>\n",
       "      <th>14</th>\n",
       "      <td>15</td>\n",
       "      <td>101810.392325</td>\n",
       "    </tr>\n",
       "    <tr>\n",
       "      <th>15</th>\n",
       "      <td>16</td>\n",
       "      <td>100036.669481</td>\n",
       "    </tr>\n",
       "    <tr>\n",
       "      <th>16</th>\n",
       "      <td>17</td>\n",
       "      <td>94537.511996</td>\n",
       "    </tr>\n",
       "    <tr>\n",
       "      <th>17</th>\n",
       "      <td>18</td>\n",
       "      <td>94859.465925</td>\n",
       "    </tr>\n",
       "    <tr>\n",
       "      <th>18</th>\n",
       "      <td>19</td>\n",
       "      <td>95132.205795</td>\n",
       "    </tr>\n",
       "    <tr>\n",
       "      <th>19</th>\n",
       "      <td>20</td>\n",
       "      <td>106209.329813</td>\n",
       "    </tr>\n",
       "    <tr>\n",
       "      <th>20</th>\n",
       "      <td>21</td>\n",
       "      <td>91492.688149</td>\n",
       "    </tr>\n",
       "    <tr>\n",
       "      <th>21</th>\n",
       "      <td>22</td>\n",
       "      <td>88793.701527</td>\n",
       "    </tr>\n",
       "    <tr>\n",
       "      <th>22</th>\n",
       "      <td>23</td>\n",
       "      <td>92720.641577</td>\n",
       "    </tr>\n",
       "    <tr>\n",
       "      <th>23</th>\n",
       "      <td>24</td>\n",
       "      <td>82440.343912</td>\n",
       "    </tr>\n",
       "    <tr>\n",
       "      <th>24</th>\n",
       "      <td>25</td>\n",
       "      <td>90436.945589</td>\n",
       "    </tr>\n",
       "    <tr>\n",
       "      <th>25</th>\n",
       "      <td>26</td>\n",
       "      <td>75171.911041</td>\n",
       "    </tr>\n",
       "    <tr>\n",
       "      <th>26</th>\n",
       "      <td>27</td>\n",
       "      <td>132115.709459</td>\n",
       "    </tr>\n",
       "    <tr>\n",
       "      <th>27</th>\n",
       "      <td>28</td>\n",
       "      <td>81840.638722</td>\n",
       "    </tr>\n",
       "    <tr>\n",
       "      <th>28</th>\n",
       "      <td>29</td>\n",
       "      <td>62482.404228</td>\n",
       "    </tr>\n",
       "  </tbody>\n",
       "</table>\n",
       "</div>"
      ],
      "text/plain": [
       "    Расстояние до центра города  Средняя цена за кв.м\n",
       "0                             1         143746.878451\n",
       "1                             2         121570.535534\n",
       "2                             3         120108.173762\n",
       "3                             4         132351.814503\n",
       "4                             5         134820.305981\n",
       "5                             6         136189.508781\n",
       "6                             7         129504.662429\n",
       "7                             8         119658.476151\n",
       "8                             9         109664.626941\n",
       "9                            10         110851.741114\n",
       "10                           11         106379.517156\n",
       "11                           12         108191.277458\n",
       "12                           13         107038.381970\n",
       "13                           14         104757.534534\n",
       "14                           15         101810.392325\n",
       "15                           16         100036.669481\n",
       "16                           17          94537.511996\n",
       "17                           18          94859.465925\n",
       "18                           19          95132.205795\n",
       "19                           20         106209.329813\n",
       "20                           21          91492.688149\n",
       "21                           22          88793.701527\n",
       "22                           23          92720.641577\n",
       "23                           24          82440.343912\n",
       "24                           25          90436.945589\n",
       "25                           26          75171.911041\n",
       "26                           27         132115.709459\n",
       "27                           28          81840.638722\n",
       "28                           29          62482.404228"
      ]
     },
     "execution_count": 54,
     "metadata": {},
     "output_type": "execute_result"
    }
   ],
   "source": [
    "# расчет средней цены кв.м в зависимости от удаленности от центра\n",
    "km_price = []\n",
    "# определение максимального расстояния от центра\n",
    "for km in range(1, int(df.query('locality_only_name == \"Санкт-Петербург\"')['cityCenters_nearest_km'].max())+1):\n",
    "    # среднее по выборке цены\n",
    "    km_price.append([km, df.query('locality_only_name == \"Санкт-Петербург\" and cityCenters_nearest_km == @km')['price_m2'].mean()])\n",
    "km_price = pd.DataFrame(km_price, columns=['Расстояние до центра города', 'Средняя цена за кв.м'])\n",
    "km_price.dropna(inplace=True)\n",
    "km_price"
   ]
  },
  {
   "cell_type": "markdown",
   "metadata": {},
   "source": [
    "__Пояснения к данным:__  \n",
    "Среди данных расстояния до центра города оказались некоторые выбивающиеся значения. Оказалось, что это единичные предложения и их можно убрать. Кроме того, стоит учитывать тот факт, что наибольшая протяженность Санкт-Петербурга составляет 44 км, а значит примерный радиус, захватывающий всю площадь города составляет 22 км. Так что, нижние строчки списка - это уже загородная недвижимость, и продаваться здесь могут самые разные объекты."
   ]
  },
  {
   "cell_type": "code",
   "execution_count": 55,
   "metadata": {
    "ExecuteTime": {
     "end_time": "2022-11-09T06:39:49.367559Z",
     "start_time": "2022-11-09T06:39:49.355560Z"
    }
   },
   "outputs": [],
   "source": [
    "# удаление выбросов\n",
    "km_price = km_price[:22]"
   ]
  },
  {
   "cell_type": "code",
   "execution_count": 56,
   "metadata": {
    "ExecuteTime": {
     "end_time": "2022-11-09T06:39:49.655580Z",
     "start_time": "2022-11-09T06:39:49.370560Z"
    },
    "scrolled": false
   },
   "outputs": [
    {
     "data": {
      "image/png": "[encoded data removed]",
      "text/plain": [
       "<Figure size 720x432 with 1 Axes>"
      ]
     },
     "metadata": {
      "needs_background": "light"
     },
     "output_type": "display_data"
    }
   ],
   "source": [
    "km_price.plot(x='Расстояние до центра города', y='Средняя цена за кв.м', figsize=(10, 6), linewidth=5, title = 'Заголовок');"
   ]
  },
  {
   "cell_type": "markdown",
   "metadata": {},
   "source": [
    "### Общий вывод"
   ]
  },
  {
   "cell_type": "markdown",
   "metadata": {},
   "source": [
    "__Вывод по обработке данных:__  \n",
    "Исходные данные наждались в значительной предварительной обработке, содержали аномалии, ошибки записи и большое количество пропусков. Некоторым столбцым требовалось сменить тип данных, в частности, столбец `first_day_exposition` получил тип даты. Немногочисленные ошибки и аномалии были устранены. Наиболие массовыми оказались замены пропусков в столбцых `is_apartment` и `balcony`, а наиболее значимым - исправление неявных дубликатов в столбце `locality_name`. В датасете появились новые столбцы. Для реконструкции пропущенных данных в значениях жилой и кухонный площади был предложен вариант замены. Однако большинство пропусков было оставлено. Исследовательский анализ данных, в основном, строится на графиках гистограмм и пропуски в виде `NaN`-значений не мешают их построению. Важнейшее измение в данных была свзано с тем, что почти каждый признак имел выбросы в виде длинных правых \"хвостов\". Поэтому перед, построением графиком гистограмм он были отрезаны 99-м процентилем."
   ]
  },
  {
   "cell_type": "markdown",
   "metadata": {},
   "source": [
    "__Вывод по результатам анализа:__  \n",
    "Среди продаваемого жилья преобладают двухкомнатные квартиры в пятиэтажках стоимостью 4-5 млн.р общей площадью 40-50 кв.м с кухней 8 кв.м и высотой потолка около 2.5 м. В полукилометре от дома часто имеется парк, аэропорт находится на значительном удалении - 25 км.\n",
    "Основным фактором, влияющим на стоимость жилья является его общая площадь. Другие, связанный с ним признаки - жилая площадь, размер кухни, число комнат - это лишь подтверждают. Имеет значение расположение квартиры - покупатели стараются избегать первые этажи. Временные факторы также играют свою роль. Изменения цены в течение года связано, вероятно, с сезоном летних отпусков и новогодними праздниками. Похожа картина изменения цены и в течение недели - рост в разгар трудовой недели и накануне выходного дня и затем резкий спад. Устойчивость цены года от года позволяет точно рассчитать среднюю цену кв.м жилья и быть уверенным в его долгосрочной актуальности. Резкое изменение годовых цен на недвижимость обуславливается лишь серьезными изменениями в политико-экономической ситуации в стране.  \n",
    "Вторым важным фактором, влияющим на стоимость жилья является его удаленность от культурно-исторического центра города. Другими словами у нас есть признак, позволяющей учесть географическое месторасположение жилья. Это позволило рассчитать среднюю цену километра в Санкт-Петербурге.  \n",
    "Подводя итог, мы можем сказать, что располагая лишь адресом квартиры, ее общей жилой площадью и средней ценой километра возможно достаточно точно определить ее рыночную стоимость."
   ]
  }
 ],
 "metadata": {
  "ExecuteTimeLog": [
   {
    "duration": 1086,
    "start_time": "2022-11-07T22:23:58.103Z"
   },
   {
    "duration": 33,
    "start_time": "2022-11-07T22:23:59.191Z"
   },
   {
    "duration": 13,
    "start_time": "2022-11-07T22:23:59.226Z"
   },
   {
    "duration": 1792,
    "start_time": "2022-11-07T22:23:59.240Z"
   },
   {
    "duration": 10,
    "start_time": "2022-11-07T22:24:01.034Z"
   },
   {
    "duration": 17,
    "start_time": "2022-11-07T22:24:01.046Z"
   },
   {
    "duration": 29,
    "start_time": "2022-11-07T22:24:01.064Z"
   },
   {
    "duration": 15,
    "start_time": "2022-11-07T22:24:01.095Z"
   },
   {
    "duration": 18,
    "start_time": "2022-11-07T22:24:01.112Z"
   },
   {
    "duration": 12,
    "start_time": "2022-11-07T22:24:01.133Z"
   },
   {
    "duration": 12,
    "start_time": "2022-11-07T22:24:01.147Z"
   },
   {
    "duration": 24,
    "start_time": "2022-11-07T22:24:01.160Z"
   },
   {
    "duration": 14,
    "start_time": "2022-11-07T22:24:01.186Z"
   },
   {
    "duration": 57,
    "start_time": "2022-11-07T22:24:01.202Z"
   },
   {
    "duration": 47,
    "start_time": "2022-11-07T22:24:01.261Z"
   },
   {
    "duration": 10,
    "start_time": "2022-11-07T22:24:01.310Z"
   },
   {
    "duration": 51,
    "start_time": "2022-11-07T22:24:01.322Z"
   },
   {
    "duration": 945,
    "start_time": "2022-11-07T22:24:01.375Z"
   },
   {
    "duration": 69,
    "start_time": "2022-11-07T22:24:02.322Z"
   },
   {
    "duration": 18,
    "start_time": "2022-11-07T22:24:02.392Z"
   },
   {
    "duration": 58,
    "start_time": "2022-11-07T22:24:02.412Z"
   },
   {
    "duration": 25,
    "start_time": "2022-11-07T22:24:02.472Z"
   },
   {
    "duration": 29,
    "start_time": "2022-11-07T22:24:02.499Z"
   },
   {
    "duration": 54,
    "start_time": "2022-11-07T22:24:02.530Z"
   },
   {
    "duration": 44,
    "start_time": "2022-11-07T22:24:02.585Z"
   },
   {
    "duration": 70,
    "start_time": "2022-11-07T22:24:02.630Z"
   },
   {
    "duration": 30,
    "start_time": "2022-11-07T22:24:02.701Z"
   },
   {
    "duration": 57,
    "start_time": "2022-11-07T22:24:02.748Z"
   },
   {
    "duration": 55,
    "start_time": "2022-11-07T22:24:02.806Z"
   },
   {
    "duration": 49,
    "start_time": "2022-11-07T22:24:02.862Z"
   },
   {
    "duration": 12,
    "start_time": "2022-11-07T22:24:02.913Z"
   },
   {
    "duration": 84,
    "start_time": "2022-11-07T22:24:02.927Z"
   },
   {
    "duration": 6,
    "start_time": "2022-11-07T22:24:03.013Z"
   },
   {
    "duration": 11,
    "start_time": "2022-11-07T22:24:03.021Z"
   },
   {
    "duration": 2256,
    "start_time": "2022-11-07T22:24:03.034Z"
   },
   {
    "duration": 336,
    "start_time": "2022-11-07T22:24:05.292Z"
   },
   {
    "duration": 6,
    "start_time": "2022-11-07T22:24:05.630Z"
   },
   {
    "duration": 11,
    "start_time": "2022-11-07T22:24:05.638Z"
   },
   {
    "duration": 564,
    "start_time": "2022-11-07T22:24:05.650Z"
   },
   {
    "duration": 2,
    "start_time": "2022-11-07T22:24:06.216Z"
   },
   {
    "duration": 9,
    "start_time": "2022-11-07T22:24:06.220Z"
   },
   {
    "duration": 232,
    "start_time": "2022-11-07T22:24:06.231Z"
   },
   {
    "duration": 278,
    "start_time": "2022-11-07T22:24:06.465Z"
   },
   {
    "duration": 130,
    "start_time": "2022-11-07T22:24:06.747Z"
   },
   {
    "duration": 12,
    "start_time": "2022-11-07T22:24:06.879Z"
   },
   {
    "duration": 11,
    "start_time": "2022-11-07T22:24:06.893Z"
   },
   {
    "duration": 3,
    "start_time": "2022-11-07T22:24:06.906Z"
   },
   {
    "duration": 189,
    "start_time": "2022-11-07T22:24:06.910Z"
   },
   {
    "duration": 2,
    "start_time": "2022-11-07T22:24:07.101Z"
   },
   {
    "duration": 159,
    "start_time": "2022-11-07T22:24:07.106Z"
   },
   {
    "duration": 18,
    "start_time": "2022-11-07T22:27:14.906Z"
   },
   {
    "duration": 17,
    "start_time": "2022-11-07T22:29:52.123Z"
   },
   {
    "duration": 88,
    "start_time": "2022-11-07T22:32:51.130Z"
   },
   {
    "duration": 12,
    "start_time": "2022-11-07T22:32:53.117Z"
   },
   {
    "duration": 137,
    "start_time": "2022-11-07T22:33:09.261Z"
   },
   {
    "duration": 708,
    "start_time": "2022-11-07T22:33:30.139Z"
   },
   {
    "duration": 37,
    "start_time": "2022-11-07T22:33:30.849Z"
   },
   {
    "duration": 18,
    "start_time": "2022-11-07T22:33:30.888Z"
   },
   {
    "duration": 1751,
    "start_time": "2022-11-07T22:33:30.908Z"
   },
   {
    "duration": 12,
    "start_time": "2022-11-07T22:33:32.661Z"
   },
   {
    "duration": 5,
    "start_time": "2022-11-07T22:33:32.675Z"
   },
   {
    "duration": 16,
    "start_time": "2022-11-07T22:33:32.682Z"
   },
   {
    "duration": 13,
    "start_time": "2022-11-07T22:33:32.700Z"
   },
   {
    "duration": 3,
    "start_time": "2022-11-07T22:33:32.714Z"
   },
   {
    "duration": 10,
    "start_time": "2022-11-07T22:33:32.719Z"
   },
   {
    "duration": 21,
    "start_time": "2022-11-07T22:33:32.730Z"
   },
   {
    "duration": 12,
    "start_time": "2022-11-07T22:33:32.753Z"
   },
   {
    "duration": 16,
    "start_time": "2022-11-07T22:33:32.767Z"
   },
   {
    "duration": 23,
    "start_time": "2022-11-07T22:33:32.785Z"
   },
   {
    "duration": 6,
    "start_time": "2022-11-07T22:33:32.810Z"
   },
   {
    "duration": 32,
    "start_time": "2022-11-07T22:33:32.817Z"
   },
   {
    "duration": 57,
    "start_time": "2022-11-07T22:33:32.851Z"
   },
   {
    "duration": 928,
    "start_time": "2022-11-07T22:33:32.909Z"
   },
   {
    "duration": 66,
    "start_time": "2022-11-07T22:33:33.839Z"
   },
   {
    "duration": 16,
    "start_time": "2022-11-07T22:33:33.906Z"
   },
   {
    "duration": 48,
    "start_time": "2022-11-07T22:33:33.923Z"
   },
   {
    "duration": 26,
    "start_time": "2022-11-07T22:33:33.972Z"
   },
   {
    "duration": 28,
    "start_time": "2022-11-07T22:33:33.999Z"
   },
   {
    "duration": 25,
    "start_time": "2022-11-07T22:33:34.048Z"
   },
   {
    "duration": 37,
    "start_time": "2022-11-07T22:33:34.075Z"
   },
   {
    "duration": 70,
    "start_time": "2022-11-07T22:33:34.114Z"
   },
   {
    "duration": 29,
    "start_time": "2022-11-07T22:33:34.186Z"
   },
   {
    "duration": 52,
    "start_time": "2022-11-07T22:33:34.218Z"
   },
   {
    "duration": 48,
    "start_time": "2022-11-07T22:33:34.272Z"
   },
   {
    "duration": 63,
    "start_time": "2022-11-07T22:33:34.321Z"
   },
   {
    "duration": 14,
    "start_time": "2022-11-07T22:33:34.385Z"
   },
   {
    "duration": 70,
    "start_time": "2022-11-07T22:33:34.400Z"
   },
   {
    "duration": 9,
    "start_time": "2022-11-07T22:33:34.472Z"
   },
   {
    "duration": 8,
    "start_time": "2022-11-07T22:33:34.483Z"
   },
   {
    "duration": 2305,
    "start_time": "2022-11-07T22:33:34.492Z"
   },
   {
    "duration": 354,
    "start_time": "2022-11-07T22:33:36.799Z"
   },
   {
    "duration": 6,
    "start_time": "2022-11-07T22:33:37.154Z"
   },
   {
    "duration": 5,
    "start_time": "2022-11-07T22:33:37.161Z"
   },
   {
    "duration": 593,
    "start_time": "2022-11-07T22:33:37.168Z"
   },
   {
    "duration": 3,
    "start_time": "2022-11-07T22:33:37.763Z"
   },
   {
    "duration": 12,
    "start_time": "2022-11-07T22:33:37.768Z"
   },
   {
    "duration": 243,
    "start_time": "2022-11-07T22:33:37.782Z"
   },
   {
    "duration": 267,
    "start_time": "2022-11-07T22:33:38.027Z"
   },
   {
    "duration": 157,
    "start_time": "2022-11-07T22:33:38.295Z"
   },
   {
    "duration": 10,
    "start_time": "2022-11-07T22:33:38.454Z"
   },
   {
    "duration": 20,
    "start_time": "2022-11-07T22:33:38.466Z"
   },
   {
    "duration": 4,
    "start_time": "2022-11-07T22:33:38.488Z"
   },
   {
    "duration": 106,
    "start_time": "2022-11-07T22:33:38.494Z"
   },
   {
    "duration": 132,
    "start_time": "2022-11-07T22:33:38.601Z"
   },
   {
    "duration": 2,
    "start_time": "2022-11-07T22:33:38.735Z"
   },
   {
    "duration": 150,
    "start_time": "2022-11-07T22:33:38.748Z"
   },
   {
    "duration": 776,
    "start_time": "2022-11-09T13:23:47.483Z"
   },
   {
    "duration": 37,
    "start_time": "2022-11-09T13:23:48.261Z"
   },
   {
    "duration": 15,
    "start_time": "2022-11-09T13:23:48.300Z"
   },
   {
    "duration": 2004,
    "start_time": "2022-11-09T13:23:48.317Z"
   },
   {
    "duration": 8,
    "start_time": "2022-11-09T13:23:50.323Z"
   },
   {
    "duration": 67,
    "start_time": "2022-11-09T13:23:50.333Z"
   },
   {
    "duration": 5,
    "start_time": "2022-11-09T13:23:50.401Z"
   },
   {
    "duration": 27,
    "start_time": "2022-11-09T13:23:50.407Z"
   },
   {
    "duration": 9,
    "start_time": "2022-11-09T13:23:50.436Z"
   },
   {
    "duration": 14,
    "start_time": "2022-11-09T13:23:50.447Z"
   },
   {
    "duration": 17,
    "start_time": "2022-11-09T13:23:50.463Z"
   },
   {
    "duration": 17,
    "start_time": "2022-11-09T13:23:50.481Z"
   },
   {
    "duration": 22,
    "start_time": "2022-11-09T13:23:50.499Z"
   },
   {
    "duration": 15,
    "start_time": "2022-11-09T13:23:50.523Z"
   },
   {
    "duration": 26,
    "start_time": "2022-11-09T13:23:50.540Z"
   },
   {
    "duration": 12,
    "start_time": "2022-11-09T13:23:50.568Z"
   },
   {
    "duration": 12,
    "start_time": "2022-11-09T13:23:50.583Z"
   },
   {
    "duration": 61,
    "start_time": "2022-11-09T13:23:50.597Z"
   },
   {
    "duration": 995,
    "start_time": "2022-11-09T13:23:50.660Z"
   },
   {
    "duration": 78,
    "start_time": "2022-11-09T13:23:51.658Z"
   },
   {
    "duration": 17,
    "start_time": "2022-11-09T13:23:51.738Z"
   },
   {
    "duration": 51,
    "start_time": "2022-11-09T13:23:51.757Z"
   },
   {
    "duration": 33,
    "start_time": "2022-11-09T13:23:51.810Z"
   },
   {
    "duration": 41,
    "start_time": "2022-11-09T13:23:51.845Z"
   },
   {
    "duration": 26,
    "start_time": "2022-11-09T13:23:51.888Z"
   },
   {
    "duration": 40,
    "start_time": "2022-11-09T13:23:51.916Z"
   },
   {
    "duration": 64,
    "start_time": "2022-11-09T13:23:51.957Z"
   },
   {
    "duration": 28,
    "start_time": "2022-11-09T13:23:52.025Z"
   },
   {
    "duration": 51,
    "start_time": "2022-11-09T13:23:52.055Z"
   },
   {
    "duration": 19,
    "start_time": "2022-11-09T13:23:52.107Z"
   },
   {
    "duration": 651,
    "start_time": "2022-11-09T13:23:52.128Z"
   },
   {
    "duration": 36,
    "start_time": "2022-11-09T13:23:52.781Z"
   },
   {
    "duration": 68,
    "start_time": "2022-11-09T13:23:52.819Z"
   },
   {
    "duration": 12,
    "start_time": "2022-11-09T13:23:52.889Z"
   },
   {
    "duration": 157,
    "start_time": "2022-11-09T13:23:52.903Z"
   },
   {
    "duration": 7,
    "start_time": "2022-11-09T13:23:53.062Z"
   },
   {
    "duration": 4,
    "start_time": "2022-11-09T13:23:53.080Z"
   },
   {
    "duration": 2200,
    "start_time": "2022-11-09T13:23:53.086Z"
   },
   {
    "duration": 382,
    "start_time": "2022-11-09T13:23:55.288Z"
   },
   {
    "duration": 8,
    "start_time": "2022-11-09T13:23:55.671Z"
   },
   {
    "duration": 106,
    "start_time": "2022-11-09T13:23:55.681Z"
   },
   {
    "duration": 3,
    "start_time": "2022-11-09T13:23:55.788Z"
   },
   {
    "duration": 594,
    "start_time": "2022-11-09T13:23:55.792Z"
   },
   {
    "duration": 3,
    "start_time": "2022-11-09T13:23:56.388Z"
   },
   {
    "duration": 8,
    "start_time": "2022-11-09T13:23:56.393Z"
   },
   {
    "duration": 254,
    "start_time": "2022-11-09T13:23:56.403Z"
   },
   {
    "duration": 384,
    "start_time": "2022-11-09T13:23:56.659Z"
   },
   {
    "duration": 161,
    "start_time": "2022-11-09T13:23:57.045Z"
   },
   {
    "duration": 9,
    "start_time": "2022-11-09T13:23:57.208Z"
   },
   {
    "duration": 13,
    "start_time": "2022-11-09T13:23:57.218Z"
   },
   {
    "duration": 4,
    "start_time": "2022-11-09T13:23:57.233Z"
   },
   {
    "duration": 17,
    "start_time": "2022-11-09T13:23:57.238Z"
   },
   {
    "duration": 34,
    "start_time": "2022-11-09T13:23:57.256Z"
   },
   {
    "duration": 123,
    "start_time": "2022-11-09T13:23:57.292Z"
   },
   {
    "duration": 3,
    "start_time": "2022-11-09T13:23:57.417Z"
   },
   {
    "duration": 160,
    "start_time": "2022-11-09T13:23:57.421Z"
   },
   {
    "duration": 14,
    "start_time": "2022-11-09T13:29:23.549Z"
   },
   {
    "duration": 20,
    "start_time": "2022-11-09T13:29:43.403Z"
   }
  ],
  "kernelspec": {
   "display_name": "Python 3 (ipykernel)",
   "language": "python",
   "name": "python3"
  },
  "language_info": {
   "codemirror_mode": {
    "name": "ipython",
    "version": 3
   },
   "file_extension": ".py",
   "mimetype": "text/x-python",
   "name": "python",
   "nbconvert_exporter": "python",
   "pygments_lexer": "ipython3",
   "version": "3.11.0"
  },
  "latex_envs": {
   "LaTeX_envs_menu_present": true,
   "autoclose": false,
   "autocomplete": true,
   "bibliofile": "biblio.bib",
   "cite_by": "apalike",
   "current_citInitial": 1,
   "eqLabelWithNumbers": true,
   "eqNumInitial": 1,
   "hotkeys": {
    "equation": "Ctrl-E",
    "itemize": "Ctrl-I"
   },
   "labels_anchors": false,
   "latex_user_defs": false,
   "report_style_numbering": false,
   "user_envs_cfg": false
  },
  "toc": {
   "base_numbering": 1,
   "nav_menu": {
    "height": "345px",
    "width": "384px"
   },
   "number_sections": true,
   "sideBar": true,
   "skip_h1_title": true,
   "title_cell": "Table of Contents",
   "title_sidebar": "Contents",
   "toc_cell": false,
   "toc_position": {
    "height": "calc(100% - 180px)",
    "left": "10px",
    "top": "150px",
    "width": "174.188px"
   },
   "toc_section_display": true,
   "toc_window_display": true
  },
  "varInspector": {
   "cols": {
    "lenName": 16,
    "lenType": 16,
    "lenVar": 40
   },
   "kernels_config": {
    "python": {
     "delete_cmd_postfix": "",
     "delete_cmd_prefix": "del ",
     "library": "var_list.py",
     "varRefreshCmd": "print(var_dic_list())"
    },
    "r": {
     "delete_cmd_postfix": ") ",
     "delete_cmd_prefix": "rm(",
     "library": "var_list.r",
     "varRefreshCmd": "cat(var_dic_list()) "
    }
   },
   "types_to_exclude": [
    "module",
    "function",
    "builtin_function_or_method",
    "instance",
    "_Feature"
   ],
   "window_display": false
  }
 },
 "nbformat": 4,
 "nbformat_minor": 2
}
