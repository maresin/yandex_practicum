{
 "cells": [
  {
   "cell_type": "markdown",
   "metadata": {
    "tags": [],
    "toc": true
   },
   "source": [
    "<h1>Содержание<span class=\"tocSkip\"></span></h1>\n",
    "<div class=\"toc\"><ul class=\"toc-item\"><li><span><a href=\"#Подготовка\" data-toc-modified-id=\"Подготовка-1\"><span class=\"toc-item-num\">1&nbsp;&nbsp;</span>Подготовка</a></span></li><li><span><a href=\"#Обучение\" data-toc-modified-id=\"Обучение-2\"><span class=\"toc-item-num\">2&nbsp;&nbsp;</span>Обучение</a></span></li><li><span><a href=\"#Выводы\" data-toc-modified-id=\"Выводы-3\"><span class=\"toc-item-num\">3&nbsp;&nbsp;</span>Выводы</a></span></li><li><span><a href=\"#Дополнение\" data-toc-modified-id=\"Дополнение-4\"><span class=\"toc-item-num\">4&nbsp;&nbsp;</span>Дополнение</a></span></li></ul></div>"
   ]
  },
  {
   "cell_type": "markdown",
   "metadata": {},
   "source": [
    "# Проект: \"Поиск токсичных комментариев\""
   ]
  },
  {
   "cell_type": "markdown",
   "metadata": {},
   "source": [
    "Интернет-магазин «Викишоп» запускает новый сервис. Теперь пользователи могут редактировать и дополнять описания товаров, как в вики-сообществах. То есть клиенты предлагают свои правки и комментируют изменения других. Магазину нужен инструмент, который будет искать токсичные комментарии и отправлять их на модерацию. \n",
    "\n",
    "Обучите модель классифицировать комментарии на позитивные и негативные. В вашем распоряжении набор данных с разметкой о токсичности правок.\n",
    "\n",
    "Постройте модель со значением метрики качества *F1* не меньше 0.75. \n",
    "\n",
    "**Инструкция по выполнению проекта**\n",
    "\n",
    "1. Загрузите и подготовьте данные.\n",
    "2. Обучите разные модели. \n",
    "3. Сделайте выводы.\n",
    "\n",
    "Для выполнения проекта применять *BERT* необязательно, но вы можете попробовать.\n",
    "\n",
    "**Описание данных**\n",
    "\n",
    "Данные находятся в файле `toxic_comments.csv`. Столбец *text* в нём содержит текст комментария, а *toxic* — целевой признак."
   ]
  },
  {
   "cell_type": "markdown",
   "metadata": {},
   "source": [
    "## Подготовка"
   ]
  },
  {
   "cell_type": "code",
   "execution_count": 3,
   "metadata": {
    "ExecuteTime": {
     "end_time": "2023-06-16T00:21:30.795119Z",
     "start_time": "2023-06-16T00:21:17.552525Z"
    }
   },
   "outputs": [
    {
     "name": "stdout",
     "output_type": "stream",
     "text": [
      "LightGBM ver.: 3.3.5\n",
      "Optuna ver.: 3.1.0\n"
     ]
    }
   ],
   "source": [
    "# проверка наличия библиотек\n",
    "try:\n",
    "    import lightgbm as lgbm\n",
    "    print('LightGBM ver.:', lgbm.__version__)\n",
    "except:\n",
    "    !pip install lightgbm\n",
    "\n",
    "try:\n",
    "    import optuna\n",
    "    print('Optuna ver.:', optuna.__version__)\n",
    "except:\n",
    "    !pip install optuna"
   ]
  },
  {
   "cell_type": "code",
   "execution_count": 4,
   "metadata": {
    "ExecuteTime": {
     "end_time": "2023-06-16T00:21:38.683085Z",
     "start_time": "2023-06-16T00:21:33.543086Z"
    }
   },
   "outputs": [],
   "source": [
    "# загрузка библиотек\n",
    "import pandas as pd\n",
    "import numpy as np\n",
    "import re\n",
    "\n",
    "from sklearn.feature_extraction.text import CountVectorizer, TfidfVectorizer\n",
    "from sklearn.base import BaseEstimator, TransformerMixin\n",
    "from sklearn.metrics import f1_score\n",
    "\n",
    "from lightgbm import LGBMClassifier\n",
    "\n",
    "from optuna.integration import OptunaSearchCV\n",
    "from optuna.distributions import CategoricalDistribution, FloatDistribution, IntDistribution\n",
    "\n",
    "from sklearn.linear_model import LogisticRegression, RidgeClassifier\n",
    "from sklearn.neighbors import NearestCentroid\n",
    "from sklearn.naive_bayes import ComplementNB\n",
    "from sklearn.dummy import DummyClassifier\n",
    "\n",
    "from sklearn.pipeline import Pipeline, FeatureUnion\n",
    "from sklearn.model_selection import GridSearchCV, RandomizedSearchCV\n",
    "from sklearn.feature_selection import SelectKBest, chi2\n",
    "from sklearn.model_selection import train_test_split\n",
    "from sklearn.compose import ColumnTransformer\n",
    "\n",
    "import nltk\n",
    "from nltk.tokenize import RegexpTokenizer\n",
    "from nltk.stem import WordNetLemmatizer\n",
    "from nltk import pos_tag, word_tokenize\n",
    "from nltk.corpus import stopwords, wordnet\n",
    "from nltk.probability import FreqDist\n",
    "from nltk.sentiment.vader import SentimentIntensityAnalyzer"
   ]
  },
  {
   "cell_type": "code",
   "execution_count": 5,
   "metadata": {
    "ExecuteTime": {
     "end_time": "2023-06-16T00:21:53.293642Z",
     "start_time": "2023-06-16T00:21:52.831858Z"
    }
   },
   "outputs": [
    {
     "name": "stdout",
     "output_type": "stream",
     "text": [
      "pandarallel installed\n",
      "INFO: Pandarallel will run on 4 workers.\n",
      "INFO: Pandarallel will use standard multiprocessing data transfer (pipe) to transfer data between the main process and workers.\n",
      "\n",
      "WARNING: You are on Windows. If you detect any issue with pandarallel, be sure you checked out the Troubleshooting page:\n",
      "https://nalepae.github.io/pandarallel/troubleshooting/\n"
     ]
    }
   ],
   "source": [
    "try:\n",
    "    import pandarallel\n",
    "    print('pandarallel installed')\n",
    "except:\n",
    "    !pip install pandarallel\n",
    "\n",
    "# параллелизация\n",
    "from tqdm.notebook import tqdm\n",
    "tqdm.pandas()\n",
    "from pandarallel import pandarallel   \n",
    "tqdm.pandas(desc=\"progress\")\n",
    "pandarallel.initialize(progress_bar = True)"
   ]
  },
  {
   "cell_type": "code",
   "execution_count": 11,
   "metadata": {
    "ExecuteTime": {
     "end_time": "2023-06-16T00:24:01.358001Z",
     "start_time": "2023-06-16T00:23:59.091543Z"
    }
   },
   "outputs": [
    {
     "name": "stderr",
     "output_type": "stream",
     "text": [
      "[nltk_data] Downloading package wordnet to\n",
      "[nltk_data]     C:\\Users\\LSH\\AppData\\Roaming\\nltk_data...\n",
      "[nltk_data]   Package wordnet is already up-to-date!\n",
      "[nltk_data] Downloading package vader_lexicon to\n",
      "[nltk_data]     C:\\Users\\LSH\\AppData\\Roaming\\nltk_data...\n",
      "[nltk_data]   Package vader_lexicon is already up-to-date!\n",
      "[nltk_data] Downloading package averaged_perceptron_tagger to\n",
      "[nltk_data]     C:\\Users\\LSH\\AppData\\Roaming\\nltk_data...\n",
      "[nltk_data]   Package averaged_perceptron_tagger is already up-to-\n",
      "[nltk_data]       date!\n",
      "[nltk_data] Downloading package stopwords to\n",
      "[nltk_data]     C:\\Users\\LSH\\AppData\\Roaming\\nltk_data...\n",
      "[nltk_data]   Package stopwords is already up-to-date!\n",
      "[nltk_data] Downloading package punkt to\n",
      "[nltk_data]     C:\\Users\\LSH\\AppData\\Roaming\\nltk_data...\n",
      "[nltk_data]   Package punkt is already up-to-date!\n"
     ]
    }
   ],
   "source": [
    "# словари для обучения\n",
    "nltk.download('wordnet')\n",
    "nltk.download('vader_lexicon')\n",
    "nltk.download('averaged_perceptron_tagger')\n",
    "nltk.download('stopwords')\n",
    "nltk.download('punkt')\n",
    "stopwords_en = stopwords.words('english')"
   ]
  },
  {
   "cell_type": "code",
   "execution_count": 5,
   "metadata": {
    "ExecuteTime": {
     "end_time": "2023-04-08T16:34:33.837496Z",
     "start_time": "2023-04-08T16:34:32.371730Z"
    },
    "jupyter": {
     "outputs_hidden": true
    },
    "tags": []
   },
   "outputs": [
    {
     "data": {
      "text/html": [
       "<div>\n",
       "<style scoped>\n",
       "    .dataframe tbody tr th:only-of-type {\n",
       "        vertical-align: middle;\n",
       "    }\n",
       "\n",
       "    .dataframe tbody tr th {\n",
       "        vertical-align: top;\n",
       "    }\n",
       "\n",
       "    .dataframe thead th {\n",
       "        text-align: right;\n",
       "    }\n",
       "</style>\n",
       "<table border=\"1\" class=\"dataframe\">\n",
       "  <thead>\n",
       "    <tr style=\"text-align: right;\">\n",
       "      <th></th>\n",
       "      <th>Unnamed: 0</th>\n",
       "      <th>text</th>\n",
       "      <th>toxic</th>\n",
       "    </tr>\n",
       "  </thead>\n",
       "  <tbody>\n",
       "    <tr>\n",
       "      <th>0</th>\n",
       "      <td>0</td>\n",
       "      <td>Explanation\\nWhy the edits made under my usern...</td>\n",
       "      <td>0</td>\n",
       "    </tr>\n",
       "    <tr>\n",
       "      <th>1</th>\n",
       "      <td>1</td>\n",
       "      <td>D'aww! He matches this background colour I'm s...</td>\n",
       "      <td>0</td>\n",
       "    </tr>\n",
       "    <tr>\n",
       "      <th>2</th>\n",
       "      <td>2</td>\n",
       "      <td>Hey man, I'm really not trying to edit war. It...</td>\n",
       "      <td>0</td>\n",
       "    </tr>\n",
       "    <tr>\n",
       "      <th>3</th>\n",
       "      <td>3</td>\n",
       "      <td>\"\\nMore\\nI can't make any real suggestions on ...</td>\n",
       "      <td>0</td>\n",
       "    </tr>\n",
       "    <tr>\n",
       "      <th>4</th>\n",
       "      <td>4</td>\n",
       "      <td>You, sir, are my hero. Any chance you remember...</td>\n",
       "      <td>0</td>\n",
       "    </tr>\n",
       "  </tbody>\n",
       "</table>\n",
       "</div>"
      ],
      "text/plain": [
       "   Unnamed: 0                                               text  toxic\n",
       "0           0  Explanation\\nWhy the edits made under my usern...      0\n",
       "1           1  D'aww! He matches this background colour I'm s...      0\n",
       "2           2  Hey man, I'm really not trying to edit war. It...      0\n",
       "3           3  \"\\nMore\\nI can't make any real suggestions on ...      0\n",
       "4           4  You, sir, are my hero. Any chance you remember...      0"
      ]
     },
     "execution_count": 5,
     "metadata": {},
     "output_type": "execute_result"
    }
   ],
   "source": [
    "# чтение файла данных из папки по умолчанию и из рабочей директории с парсингом дат\n",
    "try:\n",
    "    data = pd.read_csv('/datasets/toxic_comments.csv')\n",
    "except:\n",
    "    data = pd.read_csv('toxic_comments.csv')\n",
    "\n",
    "# пример данных\n",
    "data.head()"
   ]
  },
  {
   "cell_type": "code",
   "execution_count": 6,
   "metadata": {
    "ExecuteTime": {
     "end_time": "2023-04-08T16:34:36.683573Z",
     "start_time": "2023-04-08T16:34:36.602749Z"
    }
   },
   "outputs": [
    {
     "data": {
      "text/html": [
       "<div>\n",
       "<style scoped>\n",
       "    .dataframe tbody tr th:only-of-type {\n",
       "        vertical-align: middle;\n",
       "    }\n",
       "\n",
       "    .dataframe tbody tr th {\n",
       "        vertical-align: top;\n",
       "    }\n",
       "\n",
       "    .dataframe thead th {\n",
       "        text-align: right;\n",
       "    }\n",
       "</style>\n",
       "<table border=\"1\" class=\"dataframe\">\n",
       "  <thead>\n",
       "    <tr style=\"text-align: right;\">\n",
       "      <th></th>\n",
       "      <th>Unnamed: 0</th>\n",
       "      <th>text</th>\n",
       "      <th>toxic</th>\n",
       "    </tr>\n",
       "  </thead>\n",
       "  <tbody>\n",
       "    <tr>\n",
       "      <th>6</th>\n",
       "      <td>6</td>\n",
       "      <td>COCKSUCKER BEFORE YOU PISS AROUND ON MY WORK</td>\n",
       "      <td>1</td>\n",
       "    </tr>\n",
       "    <tr>\n",
       "      <th>12</th>\n",
       "      <td>12</td>\n",
       "      <td>Hey... what is it..\\n@ | talk .\\nWhat is it......</td>\n",
       "      <td>1</td>\n",
       "    </tr>\n",
       "    <tr>\n",
       "      <th>16</th>\n",
       "      <td>16</td>\n",
       "      <td>Bye! \\n\\nDon't look, come or think of comming ...</td>\n",
       "      <td>1</td>\n",
       "    </tr>\n",
       "    <tr>\n",
       "      <th>42</th>\n",
       "      <td>42</td>\n",
       "      <td>You are gay or antisemmitian? \\n\\nArchangel WH...</td>\n",
       "      <td>1</td>\n",
       "    </tr>\n",
       "    <tr>\n",
       "      <th>43</th>\n",
       "      <td>43</td>\n",
       "      <td>FUCK YOUR FILTHY MOTHER IN THE ASS, DRY!</td>\n",
       "      <td>1</td>\n",
       "    </tr>\n",
       "    <tr>\n",
       "      <th>...</th>\n",
       "      <td>...</td>\n",
       "      <td>...</td>\n",
       "      <td>...</td>\n",
       "    </tr>\n",
       "    <tr>\n",
       "      <th>159215</th>\n",
       "      <td>159374</td>\n",
       "      <td>\"\\n\\n our previous conversation \\n\\nyou fuckin...</td>\n",
       "      <td>1</td>\n",
       "    </tr>\n",
       "    <tr>\n",
       "      <th>159235</th>\n",
       "      <td>159394</td>\n",
       "      <td>YOU ARE A MISCHIEVIOUS PUBIC HAIR</td>\n",
       "      <td>1</td>\n",
       "    </tr>\n",
       "    <tr>\n",
       "      <th>159262</th>\n",
       "      <td>159421</td>\n",
       "      <td>Your absurd edits \\n\\nYour absurd edits on gre...</td>\n",
       "      <td>1</td>\n",
       "    </tr>\n",
       "    <tr>\n",
       "      <th>159267</th>\n",
       "      <td>159426</td>\n",
       "      <td>\"\\n\\nHey listen don't you ever!!!! Delete my e...</td>\n",
       "      <td>1</td>\n",
       "    </tr>\n",
       "    <tr>\n",
       "      <th>159275</th>\n",
       "      <td>159434</td>\n",
       "      <td>and i'm going to keep posting the stuff u dele...</td>\n",
       "      <td>1</td>\n",
       "    </tr>\n",
       "  </tbody>\n",
       "</table>\n",
       "<p>16186 rows × 3 columns</p>\n",
       "</div>"
      ],
      "text/plain": [
       "        Unnamed: 0                                               text  toxic\n",
       "6                6       COCKSUCKER BEFORE YOU PISS AROUND ON MY WORK      1\n",
       "12              12  Hey... what is it..\\n@ | talk .\\nWhat is it......      1\n",
       "16              16  Bye! \\n\\nDon't look, come or think of comming ...      1\n",
       "42              42  You are gay or antisemmitian? \\n\\nArchangel WH...      1\n",
       "43              43           FUCK YOUR FILTHY MOTHER IN THE ASS, DRY!      1\n",
       "...            ...                                                ...    ...\n",
       "159215      159374  \"\\n\\n our previous conversation \\n\\nyou fuckin...      1\n",
       "159235      159394                  YOU ARE A MISCHIEVIOUS PUBIC HAIR      1\n",
       "159262      159421  Your absurd edits \\n\\nYour absurd edits on gre...      1\n",
       "159267      159426  \"\\n\\nHey listen don't you ever!!!! Delete my e...      1\n",
       "159275      159434  and i'm going to keep posting the stuff u dele...      1\n",
       "\n",
       "[16186 rows x 3 columns]"
      ]
     },
     "execution_count": 6,
     "metadata": {},
     "output_type": "execute_result"
    }
   ],
   "source": [
    "# примеры токсичных комментариев\n",
    "data[data['toxic']==1]"
   ]
  },
  {
   "cell_type": "code",
   "execution_count": 7,
   "metadata": {
    "ExecuteTime": {
     "end_time": "2023-04-08T16:34:37.065084Z",
     "start_time": "2023-04-08T16:34:37.059818Z"
    }
   },
   "outputs": [
    {
     "name": "stdout",
     "output_type": "stream",
     "text": [
      "Общее число комментариев: 159292\n",
      "Доля токсичных комментариев: 10.2%\n"
     ]
    }
   ],
   "source": [
    "print(f'Общее число комментариев: {len(data) :.0f}')\n",
    "print(f'Доля токсичных комментариев: {data[\"toxic\"].mean() :.1%}')"
   ]
  },
  {
   "cell_type": "code",
   "execution_count": 8,
   "metadata": {
    "ExecuteTime": {
     "end_time": "2023-04-08T16:34:37.842219Z",
     "start_time": "2023-04-08T16:34:37.472082Z"
    }
   },
   "outputs": [
    {
     "name": "stdout",
     "output_type": "stream",
     "text": [
      "Число пропусков: 0\n",
      "Количество дубликатов: 0\n"
     ]
    }
   ],
   "source": [
    "print(f'Число пропусков: {data[\"toxic\"].isna().sum() :.0f}')\n",
    "print(f'Количество дубликатов: {data.duplicated().sum() :.0f}')\n",
    "\n",
    "# удаление старого индекса\n",
    "try:\n",
    "    data.drop('Unnamed: 0', axis=1, inplace=True)\n",
    "except:\n",
    "    pass"
   ]
  },
  {
   "cell_type": "markdown",
   "metadata": {},
   "source": [
    "Кажется, что часть комментариев из корпуса была удалена. Об этом говорит несовпадение сгенерированного и сходного индексов.  \n",
    "Классы в целевом признаке сильно несбалансированны - это потребует введения определенных мер на этапе подготовки классификаторов.\n",
    "Первичный обзор данных позволяет предположить, что все тексты англоязычные, а для успешной их обработки стоит провести некоторую чистку и привести их все к нижнему регистру."
   ]
  },
  {
   "cell_type": "markdown",
   "metadata": {},
   "source": [
    "## Обучение"
   ]
  },
  {
   "cell_type": "markdown",
   "metadata": {},
   "source": [
    "Для успешного построения модели классификатора корпуса имеющихся текстов следует прежде значительно расширить признаковое пространство. Превратим тексты комментариев в вектора. Используем для этого подходы _Bag-of-Words_ и _TF-IDF_. Для реализации используем средства библиотек _NLTK_ и _SciKit-Learn_.\n",
    "\n",
    "Шаги реализации:  \n",
    "1. С помощью регулярных выражений очищаем комментарии от цифр, знаков препинания, служебных слов.\n",
    "2. Делаем токенизацию.\n",
    "3. Делаем лемматизацию с использованием функции `pos_tag` из библиотеки  _NLTK_.\n",
    "4. Делаем векторизацию средствами _SciKit-Learn_ c очисткой от стоп-слов.\n",
    "5. Обучаем классификатор на полученных векторах комментариев."
   ]
  },
  {
   "cell_type": "code",
   "execution_count": 9,
   "metadata": {
    "ExecuteTime": {
     "end_time": "2023-04-08T16:34:40.761098Z",
     "start_time": "2023-04-08T16:34:40.754029Z"
    }
   },
   "outputs": [],
   "source": [
    "# функция лемматизации и токенизации\n",
    "def get_lemma(text):\n",
    "    # импорты для pandarallel\n",
    "    import nltk\n",
    "    from nltk.corpus import wordnet\n",
    "    \n",
    "    # оставляем только латинские символы и апостроф, использующийся в английских словах\n",
    "    ret = nltk.tokenize.RegexpTokenizer(r'[a-zA-Z\\']+')\n",
    "    tokens = ret.tokenize(text)\n",
    "    lemma = []    \n",
    "    wnl = nltk.stem.WordNetLemmatizer()\n",
    "    # лемматизация с использованим частей речи\n",
    "    for token in tokens:\n",
    "         # раскрытие списка результатов после POS-теггинга, взятие POS, взятие начальной буквы из POS\n",
    "        tag = nltk.pos_tag([token])[0][1][0].upper()\n",
    "        # пользовательский словарь тегов POS\n",
    "        tag_dict = {\"J\": wordnet.ADJ,\n",
    "                    \"N\": wordnet.NOUN,\n",
    "                    \"V\": wordnet.VERB,\n",
    "                    \"R\": wordnet.ADV}\n",
    "        # получение нужного POS-тега или тега сущиствительного по умолчанию\n",
    "        wordnet_pos = tag_dict.get(tag, wordnet.NOUN)\n",
    "        lemma.append(wnl.lemmatize(token, wordnet_pos))\n",
    "    # воссоздание текста из списка лемм\n",
    "    return str.lower(' '.join(map(str, lemma)))"
   ]
  },
  {
   "cell_type": "code",
   "execution_count": 10,
   "metadata": {
    "ExecuteTime": {
     "end_time": "2023-04-08T16:34:46.772871Z",
     "start_time": "2023-04-08T16:34:44.257873Z"
    }
   },
   "outputs": [
    {
     "data": {
      "text/plain": [
       "0    the strip bat be hang on their foot for best\n",
       "1       you should be ashamed of yourself go work\n",
       "Name: text, dtype: object"
      ]
     },
     "execution_count": 10,
     "metadata": {},
     "output_type": "execute_result"
    }
   ],
   "source": [
    "# проверка функции лемматизации\n",
    "sentence1 = \"The striped bats are hanging on their feet for best\"\n",
    "sentence2 = \"you should be ashamed of yourself went worked\"\n",
    "test_df = pd.DataFrame([sentence1, sentence2], columns=['text'])\n",
    "\n",
    "test_df['text'].apply(get_lemma)"
   ]
  },
  {
   "cell_type": "code",
   "execution_count": 13,
   "metadata": {
    "ExecuteTime": {
     "end_time": "2023-04-08T16:38:51.434009Z",
     "start_time": "2023-04-08T16:38:51.417664Z"
    }
   },
   "outputs": [
    {
     "data": {
      "text/plain": [
       "0    if you read carefully my comment be overall\n",
       "1              do you make it at wp ae ofshalott\n",
       "Name: text, dtype: object"
      ]
     },
     "execution_count": 13,
     "metadata": {},
     "output_type": "execute_result"
    }
   ],
   "source": [
    "sentence1 = 'if you read carefully my comment was overall'\n",
    "sentence2 = \"did you make it at wp ae ofshalott\"\n",
    "test_df = pd.DataFrame([sentence1, sentence2], columns=['text'])\n",
    "test_df['text'].apply(get_lemma)"
   ]
  },
  {
   "cell_type": "code",
   "execution_count": 12,
   "metadata": {
    "ExecuteTime": {
     "end_time": "2023-04-01T17:29:57.111385Z",
     "start_time": "2023-04-01T17:02:52.060011Z"
    }
   },
   "outputs": [
    {
     "data": {
      "application/vnd.jupyter.widget-view+json": {
       "model_id": "ddf2f9c810e24d6cbd01fe87d2641874",
       "version_major": 2,
       "version_minor": 0
      },
      "text/plain": [
       "VBox(children=(HBox(children=(IntProgress(value=0, description='0.00%', max=39823), Label(value='0 / 39823')))…"
      ]
     },
     "metadata": {},
     "output_type": "display_data"
    },
    {
     "data": {
      "text/html": [
       "<div>\n",
       "<style scoped>\n",
       "    .dataframe tbody tr th:only-of-type {\n",
       "        vertical-align: middle;\n",
       "    }\n",
       "\n",
       "    .dataframe tbody tr th {\n",
       "        vertical-align: top;\n",
       "    }\n",
       "\n",
       "    .dataframe thead th {\n",
       "        text-align: right;\n",
       "    }\n",
       "</style>\n",
       "<table border=\"1\" class=\"dataframe\">\n",
       "  <thead>\n",
       "    <tr style=\"text-align: right;\">\n",
       "      <th></th>\n",
       "      <th>text</th>\n",
       "      <th>toxic</th>\n",
       "      <th>lemmatized_text</th>\n",
       "    </tr>\n",
       "  </thead>\n",
       "  <tbody>\n",
       "    <tr>\n",
       "      <th>0</th>\n",
       "      <td>Explanation\\nWhy the edits made under my usern...</td>\n",
       "      <td>0</td>\n",
       "      <td>explanation why the edits make under my userna...</td>\n",
       "    </tr>\n",
       "    <tr>\n",
       "      <th>1</th>\n",
       "      <td>D'aww! He matches this background colour I'm s...</td>\n",
       "      <td>0</td>\n",
       "      <td>d'aww he match this background colour i'm seem...</td>\n",
       "    </tr>\n",
       "    <tr>\n",
       "      <th>2</th>\n",
       "      <td>Hey man, I'm really not trying to edit war. It...</td>\n",
       "      <td>0</td>\n",
       "      <td>hey man i'm really not try to edit war it's ju...</td>\n",
       "    </tr>\n",
       "    <tr>\n",
       "      <th>3</th>\n",
       "      <td>\"\\nMore\\nI can't make any real suggestions on ...</td>\n",
       "      <td>0</td>\n",
       "      <td>more i can't make any real suggestion on impro...</td>\n",
       "    </tr>\n",
       "    <tr>\n",
       "      <th>4</th>\n",
       "      <td>You, sir, are my hero. Any chance you remember...</td>\n",
       "      <td>0</td>\n",
       "      <td>you sir be my hero any chance you remember wha...</td>\n",
       "    </tr>\n",
       "    <tr>\n",
       "      <th>...</th>\n",
       "      <td>...</td>\n",
       "      <td>...</td>\n",
       "      <td>...</td>\n",
       "    </tr>\n",
       "    <tr>\n",
       "      <th>159287</th>\n",
       "      <td>\":::::And for the second time of asking, when ...</td>\n",
       "      <td>0</td>\n",
       "      <td>and for the second time of ask when your view ...</td>\n",
       "    </tr>\n",
       "    <tr>\n",
       "      <th>159288</th>\n",
       "      <td>You should be ashamed of yourself \\n\\nThat is ...</td>\n",
       "      <td>0</td>\n",
       "      <td>you should be ashamed of yourself that be a ho...</td>\n",
       "    </tr>\n",
       "    <tr>\n",
       "      <th>159289</th>\n",
       "      <td>Spitzer \\n\\nUmm, theres no actual article for ...</td>\n",
       "      <td>0</td>\n",
       "      <td>spitzer umm there no actual article for prosti...</td>\n",
       "    </tr>\n",
       "    <tr>\n",
       "      <th>159290</th>\n",
       "      <td>And it looks like it was actually you who put ...</td>\n",
       "      <td>0</td>\n",
       "      <td>and it look like it be actually you who put on...</td>\n",
       "    </tr>\n",
       "    <tr>\n",
       "      <th>159291</th>\n",
       "      <td>\"\\nAnd ... I really don't think you understand...</td>\n",
       "      <td>0</td>\n",
       "      <td>and i really don't think you understand i come...</td>\n",
       "    </tr>\n",
       "  </tbody>\n",
       "</table>\n",
       "<p>159292 rows × 3 columns</p>\n",
       "</div>"
      ],
      "text/plain": [
       "                                                     text  toxic  \\\n",
       "0       Explanation\\nWhy the edits made under my usern...      0   \n",
       "1       D'aww! He matches this background colour I'm s...      0   \n",
       "2       Hey man, I'm really not trying to edit war. It...      0   \n",
       "3       \"\\nMore\\nI can't make any real suggestions on ...      0   \n",
       "4       You, sir, are my hero. Any chance you remember...      0   \n",
       "...                                                   ...    ...   \n",
       "159287  \":::::And for the second time of asking, when ...      0   \n",
       "159288  You should be ashamed of yourself \\n\\nThat is ...      0   \n",
       "159289  Spitzer \\n\\nUmm, theres no actual article for ...      0   \n",
       "159290  And it looks like it was actually you who put ...      0   \n",
       "159291  \"\\nAnd ... I really don't think you understand...      0   \n",
       "\n",
       "                                          lemmatized_text  \n",
       "0       explanation why the edits make under my userna...  \n",
       "1       d'aww he match this background colour i'm seem...  \n",
       "2       hey man i'm really not try to edit war it's ju...  \n",
       "3       more i can't make any real suggestion on impro...  \n",
       "4       you sir be my hero any chance you remember wha...  \n",
       "...                                                   ...  \n",
       "159287  and for the second time of ask when your view ...  \n",
       "159288  you should be ashamed of yourself that be a ho...  \n",
       "159289  spitzer umm there no actual article for prosti...  \n",
       "159290  and it look like it be actually you who put on...  \n",
       "159291  and i really don't think you understand i come...  \n",
       "\n",
       "[159292 rows x 3 columns]"
      ]
     },
     "execution_count": 12,
     "metadata": {},
     "output_type": "execute_result"
    }
   ],
   "source": [
    "df = data.copy()\n",
    "# лемматизация текстов в корпусе\n",
    "# df['lemmatized_text'] = df['text'].apply(get_lemma)\n",
    "df['lemmatized_text'] = df['text'].parallel_apply(get_lemma)\n",
    "df"
   ]
  },
  {
   "cell_type": "code",
   "execution_count": 15,
   "metadata": {
    "ExecuteTime": {
     "end_time": "2023-04-01T17:33:26.134147Z",
     "start_time": "2023-04-01T17:32:39.090117Z"
    }
   },
   "outputs": [
    {
     "data": {
      "text/plain": [
       "[('the', 3),\n",
       " (\"n't\", 2),\n",
       " ('i', 2),\n",
       " ('explanation', 1),\n",
       " ('why', 1),\n",
       " ('edits', 1),\n",
       " ('make', 1),\n",
       " ('under', 1),\n",
       " ('my', 1),\n",
       " ('username', 1)]"
      ]
     },
     "execution_count": 15,
     "metadata": {},
     "output_type": "execute_result"
    }
   ],
   "source": [
    "# полный список слов корпуса комментариев\n",
    "comments_corpus = map(word_tokenize, df.loc[:, 'lemmatized_text'])\n",
    "comments_tokens = list(comments_corpus)[0]\n",
    "text_object = nltk.Text(comments_tokens)\n",
    "\n",
    "# построение словаря частотных слов для корпуса комментариев\n",
    "fdist = FreqDist(text_object)\n",
    "fdist.most_common(10)"
   ]
  },
  {
   "cell_type": "code",
   "execution_count": 16,
   "metadata": {
    "ExecuteTime": {
     "end_time": "2023-04-01T17:33:46.004387Z",
     "start_time": "2023-04-01T17:33:45.203143Z"
    }
   },
   "outputs": [
    {
     "data": {
      "image/png": "[encoded data removed]",
      "text/plain": [
       "<Figure size 640x480 with 1 Axes>"
      ]
     },
     "metadata": {},
     "output_type": "display_data"
    }
   ],
   "source": [
    "# график самых популярых слов\n",
    "fdist.plot(30, cumulative=False, title='Число употрелений наиболее популярных слов\\nв корпусе комментариев');"
   ]
  },
  {
   "cell_type": "markdown",
   "metadata": {},
   "source": [
    "Для векторизации мы спользуем функции `CountVectorizer`, `TfidfVectorizer` из _SciKit-Learn_. В качестве признаков будут выступать выделенные _уни-_ и _биграммы_. Признаковое пространство хорошо бы дополнили _n-граммы_, составленные из букв в пределах слов - это позволило бы учесть разночтение в написании слов, но сильно раздуло бы число признаков. Так как оно и без того составляет _>1e-6_ средствами _Scikit-Learn_ отберем наиболее значимые, в размере сопоставимом с объемом корпуса текстов датасета."
   ]
  },
  {
   "cell_type": "markdown",
   "metadata": {},
   "source": [
    "Из-за большого числа признаков и размера самого датасета целесообразно для подбора моделей и гиперпараметров ограничить и то и другое."
   ]
  },
  {
   "cell_type": "code",
   "execution_count": 17,
   "metadata": {
    "ExecuteTime": {
     "end_time": "2023-04-01T17:34:03.006659Z",
     "start_time": "2023-04-01T17:34:02.915709Z"
    }
   },
   "outputs": [],
   "source": [
    "# создание стратифицированных выборок \n",
    "features_train, features_test, target_train, target_test = train_test_split(\n",
    "    df['lemmatized_text'], df['toxic'], test_size=0.2, stratify=df['toxic'], random_state=42\n",
    ")\n",
    "\n",
    "# усеченный обучающий датасет\n",
    "features_cutted = features_train.sample(frac=.1, random_state=42).copy()\n",
    "target_cutted = target_train[features_cutted.index]"
   ]
  },
  {
   "cell_type": "code",
   "execution_count": 18,
   "metadata": {
    "ExecuteTime": {
     "end_time": "2023-04-01T17:34:06.868810Z",
     "start_time": "2023-04-01T17:34:06.857453Z"
    }
   },
   "outputs": [],
   "source": [
    "# усеченный векторизатор\n",
    "vectorizer_cutted = Pipeline([\n",
    "    ('vec', FeatureUnion([\n",
    "        ('bow_words', CountVectorizer(ngram_range=(1,2), stop_words=stopwords_en)),\n",
    "        ('tfidf', TfidfVectorizer(ngram_range=(2,2), stop_words=stopwords_en))\n",
    "    ])),\n",
    "    # ограничение числа признаков\n",
    "    ('chi2', SelectKBest(chi2, k=1000))\n",
    "])\n",
    "\n",
    "# список моделей с параметрами для optuna\n",
    "models = [\n",
    "    ('LGBMClassifier', LGBMClassifier(class_weight='balanced', random_state=42), {\n",
    "        'clf__learning_rate': FloatDistribution(0.1, 0.4, 0.1),\n",
    "        'clf__n_estimators': IntDistribution(100, 300, 50),\n",
    "        'clf__max_depth': IntDistribution(6, 20, 2)\n",
    "    }),   \n",
    "    ('LogisticRegression', LogisticRegression(class_weight='balanced', max_iter=500, random_state=42), {\n",
    "        'clf__C': FloatDistribution(0.1, 1.0, 0.1)\n",
    "    }),\n",
    "    ('RidgeClassifier', RidgeClassifier(class_weight='balanced', random_state=42), {\n",
    "        'clf__alpha': FloatDistribution(0.1, 1.0, 0.1)\n",
    "    }),\n",
    "    ('NearestCentroid', NearestCentroid(), {\n",
    "        'clf__metric': CategoricalDistribution(['euclidean', 'manhattan'])\n",
    "    }),\n",
    "    ('ComplementNB', ComplementNB(), {\n",
    "        'clf__alpha': FloatDistribution(0.1, 1.0, 0.1)\n",
    "    }),\n",
    "    ('DummyClassifier', DummyClassifier(), {\n",
    "        'clf__strategy': CategoricalDistribution(['most_frequent', 'prior', 'stratified', 'uniform'])\n",
    "    })\n",
    "]"
   ]
  },
  {
   "cell_type": "code",
   "execution_count": 19,
   "metadata": {
    "ExecuteTime": {
     "end_time": "2023-04-01T17:49:04.370275Z",
     "start_time": "2023-04-01T17:35:21.393457Z"
    }
   },
   "outputs": [
    {
     "name": "stderr",
     "output_type": "stream",
     "text": [
      "C:\\Users\\LSH\\AppData\\Local\\Temp\\ipykernel_1036\\1823985768.py:5: ExperimentalWarning: OptunaSearchCV is experimental (supported from v0.17.0). The interface can change in the future.\n",
      "  search_cv = OptunaSearchCV(estimator=Pipeline(steps=[('vec', vectorizer_cutted), ('clf', model)]),\n",
      "\u001b[32m[I 2023-04-01 20:35:21,402]\u001b[0m A new study created in memory with name: no-name-5d488d89-41c9-45c0-875e-375065286a9d\u001b[0m\n",
      "\u001b[32m[I 2023-04-01 20:36:09,341]\u001b[0m Trial 0 finished with value: 0.6001323743436277 and parameters: {'clf__learning_rate': 0.20264199919794346, 'clf__n_estimators': 123, 'clf__max_depth': 8}. Best is trial 0 with value: 0.6001323743436277.\u001b[0m\n",
      "\u001b[32m[I 2023-04-01 20:36:13,739]\u001b[0m Trial 1 finished with value: 0.5698304491336871 and parameters: {'clf__learning_rate': 0.155227557719179, 'clf__n_estimators': 146, 'clf__max_depth': 15}. Best is trial 0 with value: 0.6001323743436277.\u001b[0m\n",
      "\u001b[32m[I 2023-04-01 20:36:18,946]\u001b[0m Trial 2 finished with value: 0.5229410551377441 and parameters: {'clf__learning_rate': 0.25522361040174507, 'clf__n_estimators': 204, 'clf__max_depth': 9}. Best is trial 0 with value: 0.6001323743436277.\u001b[0m\n",
      "\u001b[32m[I 2023-04-01 20:36:23,809]\u001b[0m Trial 3 finished with value: 0.5245050405007335 and parameters: {'clf__learning_rate': 0.1373130519027205, 'clf__n_estimators': 240, 'clf__max_depth': 19}. Best is trial 0 with value: 0.6001323743436277.\u001b[0m\n",
      "\u001b[32m[I 2023-04-01 20:36:53,181]\u001b[0m Trial 4 finished with value: 0.6080045543374476 and parameters: {'clf__learning_rate': 0.139259223142482, 'clf__n_estimators': 104, 'clf__max_depth': 10}. Best is trial 4 with value: 0.6080045543374476.\u001b[0m\n",
      "\u001b[32m[I 2023-04-01 20:37:03,254]\u001b[0m Trial 6 finished with value: 0.5992095279467698 and parameters: {'clf__learning_rate': 0.29011829997996147, 'clf__n_estimators': 138, 'clf__max_depth': 6}. Best is trial 4 with value: 0.6080045543374476.\u001b[0m\n",
      "\u001b[32m[I 2023-04-01 20:37:11,348]\u001b[0m Trial 5 finished with value: 0.6043591110396155 and parameters: {'clf__learning_rate': 0.1191805774773423, 'clf__n_estimators': 215, 'clf__max_depth': 7}. Best is trial 4 with value: 0.6080045543374476.\u001b[0m\n",
      "\u001b[32m[I 2023-04-01 20:37:18,965]\u001b[0m Trial 7 finished with value: 0.5228653037622643 and parameters: {'clf__learning_rate': 0.13439015948505004, 'clf__n_estimators': 253, 'clf__max_depth': 16}. Best is trial 4 with value: 0.6080045543374476.\u001b[0m\n",
      "\u001b[32m[I 2023-04-01 20:37:30,816]\u001b[0m Trial 8 finished with value: 0.5087281385254945 and parameters: {'clf__learning_rate': 0.32391645495335675, 'clf__n_estimators': 193, 'clf__max_depth': 20}. Best is trial 4 with value: 0.6080045543374476.\u001b[0m\n",
      "\u001b[32m[I 2023-04-01 20:37:32,109]\u001b[0m Trial 9 finished with value: 0.5180888074429902 and parameters: {'clf__learning_rate': 0.3706573562331498, 'clf__n_estimators': 143, 'clf__max_depth': 11}. Best is trial 4 with value: 0.6080045543374476.\u001b[0m\n",
      "C:\\Users\\LSH\\AppData\\Local\\Temp\\ipykernel_1036\\1823985768.py:5: ExperimentalWarning: OptunaSearchCV is experimental (supported from v0.17.0). The interface can change in the future.\n",
      "  search_cv = OptunaSearchCV(estimator=Pipeline(steps=[('vec', vectorizer_cutted), ('clf', model)]),\n",
      "\u001b[32m[I 2023-04-01 20:37:37,900]\u001b[0m A new study created in memory with name: no-name-6ee3b7ca-0719-4716-afa2-e51c8e31a541\u001b[0m\n"
     ]
    },
    {
     "name": "stdout",
     "output_type": "stream",
     "text": [
      "Точность модели LGBMClassifier по F1-мере: 0.608005\n"
     ]
    },
    {
     "name": "stderr",
     "output_type": "stream",
     "text": [
      "\u001b[32m[I 2023-04-01 20:38:27,400]\u001b[0m Trial 3 finished with value: 0.6973845009964315 and parameters: {'clf__C': 0.36896395905901835}. Best is trial 3 with value: 0.6973845009964315.\u001b[0m\n",
      "\u001b[32m[I 2023-04-01 20:38:29,777]\u001b[0m Trial 2 finished with value: 0.6973845009964315 and parameters: {'clf__C': 0.3621496721147326}. Best is trial 3 with value: 0.6973845009964315.\u001b[0m\n",
      "\u001b[32m[I 2023-04-01 20:38:36,794]\u001b[0m Trial 1 finished with value: 0.7003669845457609 and parameters: {'clf__C': 0.585884076604193}. Best is trial 1 with value: 0.7003669845457609.\u001b[0m\n",
      "\u001b[32m[I 2023-04-01 20:38:40,507]\u001b[0m Trial 0 finished with value: 0.7004502033255533 and parameters: {'clf__C': 0.8297949256789753}. Best is trial 0 with value: 0.7004502033255533.\u001b[0m\n",
      "\u001b[32m[I 2023-04-01 20:39:15,352]\u001b[0m Trial 4 finished with value: 0.6879759115988984 and parameters: {'clf__C': 0.18932441482751536}. Best is trial 0 with value: 0.7004502033255533.\u001b[0m\n",
      "\u001b[32m[I 2023-04-01 20:39:22,548]\u001b[0m Trial 6 finished with value: 0.6800347662774276 and parameters: {'clf__C': 0.11725945574437437}. Best is trial 0 with value: 0.7004502033255533.\u001b[0m\n",
      "\u001b[32m[I 2023-04-01 20:39:29,145]\u001b[0m Trial 5 finished with value: 0.702242026343952 and parameters: {'clf__C': 0.9468048636304498}. Best is trial 5 with value: 0.702242026343952.\u001b[0m\n",
      "\u001b[32m[I 2023-04-01 20:39:35,229]\u001b[0m Trial 7 finished with value: 0.6996592704622507 and parameters: {'clf__C': 0.6061014184990521}. Best is trial 5 with value: 0.702242026343952.\u001b[0m\n",
      "\u001b[32m[I 2023-04-01 20:39:48,951]\u001b[0m Trial 8 finished with value: 0.7006070521069052 and parameters: {'clf__C': 0.5220927281059257}. Best is trial 5 with value: 0.702242026343952.\u001b[0m\n",
      "\u001b[32m[I 2023-04-01 20:39:49,988]\u001b[0m Trial 9 finished with value: 0.7008599679564735 and parameters: {'clf__C': 0.5207066937531408}. Best is trial 5 with value: 0.702242026343952.\u001b[0m\n",
      "C:\\Users\\LSH\\AppData\\Local\\Temp\\ipykernel_1036\\1823985768.py:5: ExperimentalWarning: OptunaSearchCV is experimental (supported from v0.17.0). The interface can change in the future.\n",
      "  search_cv = OptunaSearchCV(estimator=Pipeline(steps=[('vec', vectorizer_cutted), ('clf', model)]),\n",
      "\u001b[32m[I 2023-04-01 20:39:55,498]\u001b[0m A new study created in memory with name: no-name-4faaf0df-8357-45e2-85a7-fcd369ab36c7\u001b[0m\n"
     ]
    },
    {
     "name": "stdout",
     "output_type": "stream",
     "text": [
      "Точность модели LogisticRegression по F1-мере: 0.702242\n"
     ]
    },
    {
     "name": "stderr",
     "output_type": "stream",
     "text": [
      "\u001b[32m[I 2023-04-01 20:40:46,350]\u001b[0m Trial 0 finished with value: 0.6506998332049855 and parameters: {'clf__alpha': 0.26031913199132434}. Best is trial 0 with value: 0.6506998332049855.\u001b[0m\n",
      "\u001b[32m[I 2023-04-01 20:40:50,885]\u001b[0m Trial 1 finished with value: 0.6555156251848774 and parameters: {'clf__alpha': 0.334095983382123}. Best is trial 1 with value: 0.6555156251848774.\u001b[0m\n",
      "\u001b[32m[I 2023-04-01 20:40:55,412]\u001b[0m Trial 2 finished with value: 0.6570934180527956 and parameters: {'clf__alpha': 0.44766180325036703}. Best is trial 2 with value: 0.6570934180527956.\u001b[0m\n",
      "\u001b[32m[I 2023-04-01 20:41:00,195]\u001b[0m Trial 3 finished with value: 0.6469594346952837 and parameters: {'clf__alpha': 0.12873334864250918}. Best is trial 2 with value: 0.6570934180527956.\u001b[0m\n",
      "\u001b[32m[I 2023-04-01 20:41:42,467]\u001b[0m Trial 4 finished with value: 0.6474662913614971 and parameters: {'clf__alpha': 0.11649423847266673}. Best is trial 2 with value: 0.6570934180527956.\u001b[0m\n",
      "\u001b[32m[I 2023-04-01 20:41:47,003]\u001b[0m Trial 5 finished with value: 0.6564235197283365 and parameters: {'clf__alpha': 0.49398863294802725}. Best is trial 2 with value: 0.6570934180527956.\u001b[0m\n",
      "\u001b[32m[I 2023-04-01 20:41:51,803]\u001b[0m Trial 6 finished with value: 0.6464580749482007 and parameters: {'clf__alpha': 0.15245630005093272}. Best is trial 2 with value: 0.6570934180527956.\u001b[0m\n",
      "\u001b[32m[I 2023-04-01 20:41:53,145]\u001b[0m Trial 7 finished with value: 0.6474662913614971 and parameters: {'clf__alpha': 0.11255535880635746}. Best is trial 2 with value: 0.6570934180527956.\u001b[0m\n",
      "\u001b[32m[I 2023-04-01 20:42:13,178]\u001b[0m Trial 8 finished with value: 0.6472096941111393 and parameters: {'clf__alpha': 0.11061571107369607}. Best is trial 2 with value: 0.6570934180527956.\u001b[0m\n",
      "\u001b[32m[I 2023-04-01 20:42:14,393]\u001b[0m Trial 9 finished with value: 0.6566379454343195 and parameters: {'clf__alpha': 0.3437000821644209}. Best is trial 2 with value: 0.6570934180527956.\u001b[0m\n",
      "C:\\Users\\LSH\\AppData\\Local\\Temp\\ipykernel_1036\\1823985768.py:5: ExperimentalWarning: OptunaSearchCV is experimental (supported from v0.17.0). The interface can change in the future.\n",
      "  search_cv = OptunaSearchCV(estimator=Pipeline(steps=[('vec', vectorizer_cutted), ('clf', model)]),\n",
      "\u001b[32m[I 2023-04-01 20:42:20,408]\u001b[0m A new study created in memory with name: no-name-7c99b67c-64b1-45d0-b04e-a577aa41048c\u001b[0m\n"
     ]
    },
    {
     "name": "stdout",
     "output_type": "stream",
     "text": [
      "Точность модели RidgeClassifier по F1-мере: 0.657093\n"
     ]
    },
    {
     "name": "stderr",
     "output_type": "stream",
     "text": [
      "\u001b[32m[I 2023-04-01 20:43:05,496]\u001b[0m Trial 1 finished with value: 0.1606373083478609 and parameters: {'clf__metric': 'euclidean'}. Best is trial 1 with value: 0.1606373083478609.\u001b[0m\n",
      "\u001b[32m[I 2023-04-01 20:43:06,916]\u001b[0m Trial 3 finished with value: 0.1606373083478609 and parameters: {'clf__metric': 'euclidean'}. Best is trial 1 with value: 0.1606373083478609.\u001b[0m\n",
      "\u001b[32m[I 2023-04-01 20:43:07,319]\u001b[0m Trial 2 finished with value: 0.1606373083478609 and parameters: {'clf__metric': 'euclidean'}. Best is trial 1 with value: 0.1606373083478609.\u001b[0m\n",
      "\u001b[32m[I 2023-04-01 20:43:36,603]\u001b[0m Trial 0 finished with value: 0.0 and parameters: {'clf__metric': 'manhattan'}. Best is trial 1 with value: 0.1606373083478609.\u001b[0m\n",
      "\u001b[32m[I 2023-04-01 20:43:55,842]\u001b[0m Trial 5 finished with value: 0.1606373083478609 and parameters: {'clf__metric': 'euclidean'}. Best is trial 1 with value: 0.1606373083478609.\u001b[0m\n",
      "\u001b[32m[I 2023-04-01 20:43:56,325]\u001b[0m Trial 4 finished with value: 0.0 and parameters: {'clf__metric': 'manhattan'}. Best is trial 1 with value: 0.1606373083478609.\u001b[0m\n",
      "\u001b[32m[I 2023-04-01 20:43:58,510]\u001b[0m Trial 6 finished with value: 0.1606373083478609 and parameters: {'clf__metric': 'euclidean'}. Best is trial 1 with value: 0.1606373083478609.\u001b[0m\n",
      "\u001b[32m[I 2023-04-01 20:44:18,667]\u001b[0m Trial 7 finished with value: 0.1606373083478609 and parameters: {'clf__metric': 'euclidean'}. Best is trial 1 with value: 0.1606373083478609.\u001b[0m\n",
      "\u001b[32m[I 2023-04-01 20:44:28,969]\u001b[0m Trial 8 finished with value: 0.1606373083478609 and parameters: {'clf__metric': 'euclidean'}. Best is trial 1 with value: 0.1606373083478609.\u001b[0m\n",
      "\u001b[32m[I 2023-04-01 20:44:29,444]\u001b[0m Trial 9 finished with value: 0.0 and parameters: {'clf__metric': 'manhattan'}. Best is trial 1 with value: 0.1606373083478609.\u001b[0m\n",
      "C:\\Users\\LSH\\AppData\\Local\\Temp\\ipykernel_1036\\1823985768.py:5: ExperimentalWarning: OptunaSearchCV is experimental (supported from v0.17.0). The interface can change in the future.\n",
      "  search_cv = OptunaSearchCV(estimator=Pipeline(steps=[('vec', vectorizer_cutted), ('clf', model)]),\n",
      "\u001b[32m[I 2023-04-01 20:44:34,765]\u001b[0m A new study created in memory with name: no-name-55d9baa3-c9aa-4654-bd1c-2f3d472e8497\u001b[0m\n"
     ]
    },
    {
     "name": "stdout",
     "output_type": "stream",
     "text": [
      "Точность модели NearestCentroid по F1-мере: 0.160637\n"
     ]
    },
    {
     "name": "stderr",
     "output_type": "stream",
     "text": [
      "\u001b[32m[I 2023-04-01 20:45:24,791]\u001b[0m Trial 2 finished with value: 0.666808561592851 and parameters: {'clf__alpha': 0.7824670610262469}. Best is trial 2 with value: 0.666808561592851.\u001b[0m\n",
      "\u001b[32m[I 2023-04-01 20:45:26,471]\u001b[0m Trial 3 finished with value: 0.6687244644669642 and parameters: {'clf__alpha': 0.3371125247306905}. Best is trial 3 with value: 0.6687244644669642.\u001b[0m\n",
      "\u001b[32m[I 2023-04-01 20:45:27,016]\u001b[0m Trial 0 finished with value: 0.6694635577093319 and parameters: {'clf__alpha': 0.10403330230744764}. Best is trial 0 with value: 0.6694635577093319.\u001b[0m\n",
      "\u001b[32m[I 2023-04-01 20:45:31,682]\u001b[0m Trial 1 finished with value: 0.6691890002616647 and parameters: {'clf__alpha': 0.18747967543074068}. Best is trial 0 with value: 0.6694635577093319.\u001b[0m\n",
      "\u001b[32m[I 2023-04-01 20:46:14,997]\u001b[0m Trial 4 finished with value: 0.6676072294114769 and parameters: {'clf__alpha': 0.48012532637014443}. Best is trial 0 with value: 0.6694635577093319.\u001b[0m\n",
      "\u001b[32m[I 2023-04-01 20:46:20,875]\u001b[0m Trial 5 finished with value: 0.6679384943851029 and parameters: {'clf__alpha': 0.5201391905568719}. Best is trial 0 with value: 0.6694635577093319.\u001b[0m\n",
      "\u001b[32m[I 2023-04-01 20:46:22,366]\u001b[0m Trial 7 finished with value: 0.6676072294114769 and parameters: {'clf__alpha': 0.48639933175925076}. Best is trial 0 with value: 0.6694635577093319.\u001b[0m\n",
      "\u001b[32m[I 2023-04-01 20:46:22,623]\u001b[0m Trial 6 finished with value: 0.6694562628973714 and parameters: {'clf__alpha': 0.20347020293395676}. Best is trial 0 with value: 0.6694635577093319.\u001b[0m\n",
      "\u001b[32m[I 2023-04-01 20:46:42,984]\u001b[0m Trial 8 finished with value: 0.6686982981365454 and parameters: {'clf__alpha': 0.35591685716499694}. Best is trial 0 with value: 0.6694635577093319.\u001b[0m\n",
      "\u001b[32m[I 2023-04-01 20:46:44,201]\u001b[0m Trial 9 finished with value: 0.6673291346875064 and parameters: {'clf__alpha': 0.44677470743356124}. Best is trial 0 with value: 0.6694635577093319.\u001b[0m\n",
      "C:\\Users\\LSH\\AppData\\Local\\Temp\\ipykernel_1036\\1823985768.py:5: ExperimentalWarning: OptunaSearchCV is experimental (supported from v0.17.0). The interface can change in the future.\n",
      "  search_cv = OptunaSearchCV(estimator=Pipeline(steps=[('vec', vectorizer_cutted), ('clf', model)]),\n",
      "\u001b[32m[I 2023-04-01 20:46:49,364]\u001b[0m A new study created in memory with name: no-name-ccfe21b9-9ecb-4739-bd6e-4d1712723e31\u001b[0m\n"
     ]
    },
    {
     "name": "stdout",
     "output_type": "stream",
     "text": [
      "Точность модели ComplementNB по F1-мере: 0.669464\n"
     ]
    },
    {
     "name": "stderr",
     "output_type": "stream",
     "text": [
      "\u001b[32m[I 2023-04-01 20:47:42,416]\u001b[0m Trial 1 finished with value: 0.17189763768908561 and parameters: {'clf__strategy': 'uniform'}. Best is trial 1 with value: 0.17189763768908561.\u001b[0m\n",
      "\u001b[32m[I 2023-04-01 20:47:43,468]\u001b[0m Trial 2 finished with value: 0.0 and parameters: {'clf__strategy': 'prior'}. Best is trial 1 with value: 0.17189763768908561.\u001b[0m\n",
      "\u001b[32m[I 2023-04-01 20:47:43,468]\u001b[0m Trial 0 finished with value: 0.17226709584596808 and parameters: {'clf__strategy': 'uniform'}. Best is trial 0 with value: 0.17226709584596808.\u001b[0m\n",
      "\u001b[32m[I 2023-04-01 20:47:43,499]\u001b[0m Trial 3 finished with value: 0.0 and parameters: {'clf__strategy': 'most_frequent'}. Best is trial 0 with value: 0.17226709584596808.\u001b[0m\n",
      "\u001b[32m[I 2023-04-01 20:48:33,500]\u001b[0m Trial 4 finished with value: 0.10933381630674492 and parameters: {'clf__strategy': 'stratified'}. Best is trial 0 with value: 0.17226709584596808.\u001b[0m\n",
      "\u001b[32m[I 2023-04-01 20:48:34,886]\u001b[0m Trial 5 finished with value: 0.0 and parameters: {'clf__strategy': 'most_frequent'}. Best is trial 0 with value: 0.17226709584596808.\u001b[0m\n",
      "\u001b[32m[I 2023-04-01 20:48:34,927]\u001b[0m Trial 7 finished with value: 0.17271181827908202 and parameters: {'clf__strategy': 'uniform'}. Best is trial 7 with value: 0.17271181827908202.\u001b[0m\n",
      "\u001b[32m[I 2023-04-01 20:48:34,959]\u001b[0m Trial 6 finished with value: 0.10986497970786056 and parameters: {'clf__strategy': 'stratified'}. Best is trial 7 with value: 0.17271181827908202.\u001b[0m\n",
      "\u001b[32m[I 2023-04-01 20:48:58,773]\u001b[0m Trial 8 finished with value: 0.0 and parameters: {'clf__strategy': 'prior'}. Best is trial 7 with value: 0.17271181827908202.\u001b[0m\n",
      "\u001b[32m[I 2023-04-01 20:48:58,867]\u001b[0m Trial 9 finished with value: 0.0 and parameters: {'clf__strategy': 'most_frequent'}. Best is trial 7 with value: 0.17271181827908202.\u001b[0m\n"
     ]
    },
    {
     "name": "stdout",
     "output_type": "stream",
     "text": [
      "Точность модели DummyClassifier по F1-мере: 0.172712\n"
     ]
    }
   ],
   "source": [
    "# список результатов и обученных моделей\n",
    "results = []\n",
    "# проход по списку моделей\n",
    "for name, model, param in models:\n",
    "    search_cv = OptunaSearchCV(estimator=Pipeline(steps=[('vec', vectorizer_cutted), ('clf', model)]),\n",
    "                               param_distributions=param,\n",
    "                               scoring='f1',\n",
    "                               verbose=0,\n",
    "                               n_jobs=-1,\n",
    "                               n_trials=10,\n",
    "                               cv=3,\n",
    "                               random_state=42\n",
    "                              ).fit(X=features_cutted, y=target_cutted)\n",
    "    # запись имени модели, точности и гиперпараметров\n",
    "    results.append((name, search_cv.best_score_, search_cv.best_estimator_))\n",
    "    print('Точность модели %s по F1-мере: %f' % (name, search_cv.best_score_))"
   ]
  },
  {
   "cell_type": "code",
   "execution_count": 20,
   "metadata": {
    "ExecuteTime": {
     "end_time": "2023-04-01T17:50:39.785494Z",
     "start_time": "2023-04-01T17:50:37.811022Z"
    }
   },
   "outputs": [
    {
     "data": {
      "text/html": [
       "<div>\n",
       "<style scoped>\n",
       "    .dataframe tbody tr th:only-of-type {\n",
       "        vertical-align: middle;\n",
       "    }\n",
       "\n",
       "    .dataframe tbody tr th {\n",
       "        vertical-align: top;\n",
       "    }\n",
       "\n",
       "    .dataframe thead th {\n",
       "        text-align: right;\n",
       "    }\n",
       "</style>\n",
       "<table border=\"1\" class=\"dataframe\">\n",
       "  <thead>\n",
       "    <tr style=\"text-align: right;\">\n",
       "      <th></th>\n",
       "      <th>score</th>\n",
       "      <th>params</th>\n",
       "    </tr>\n",
       "    <tr>\n",
       "      <th>model</th>\n",
       "      <th></th>\n",
       "      <th></th>\n",
       "    </tr>\n",
       "  </thead>\n",
       "  <tbody>\n",
       "    <tr>\n",
       "      <th>LGBMClassifier</th>\n",
       "      <td>0.608005</td>\n",
       "      <td>((FeatureUnion(transformer_list=[('bow_words',...</td>\n",
       "    </tr>\n",
       "    <tr>\n",
       "      <th>LogisticRegression</th>\n",
       "      <td>0.702242</td>\n",
       "      <td>((FeatureUnion(transformer_list=[('bow_words',...</td>\n",
       "    </tr>\n",
       "    <tr>\n",
       "      <th>RidgeClassifier</th>\n",
       "      <td>0.657093</td>\n",
       "      <td>((FeatureUnion(transformer_list=[('bow_words',...</td>\n",
       "    </tr>\n",
       "    <tr>\n",
       "      <th>NearestCentroid</th>\n",
       "      <td>0.160637</td>\n",
       "      <td>((FeatureUnion(transformer_list=[('bow_words',...</td>\n",
       "    </tr>\n",
       "    <tr>\n",
       "      <th>ComplementNB</th>\n",
       "      <td>0.669464</td>\n",
       "      <td>((FeatureUnion(transformer_list=[('bow_words',...</td>\n",
       "    </tr>\n",
       "    <tr>\n",
       "      <th>DummyClassifier</th>\n",
       "      <td>0.172712</td>\n",
       "      <td>((FeatureUnion(transformer_list=[('bow_words',...</td>\n",
       "    </tr>\n",
       "  </tbody>\n",
       "</table>\n",
       "</div>"
      ],
      "text/plain": [
       "                       score  \\\n",
       "model                          \n",
       "LGBMClassifier      0.608005   \n",
       "LogisticRegression  0.702242   \n",
       "RidgeClassifier     0.657093   \n",
       "NearestCentroid     0.160637   \n",
       "ComplementNB        0.669464   \n",
       "DummyClassifier     0.172712   \n",
       "\n",
       "                                                               params  \n",
       "model                                                                  \n",
       "LGBMClassifier      ((FeatureUnion(transformer_list=[('bow_words',...  \n",
       "LogisticRegression  ((FeatureUnion(transformer_list=[('bow_words',...  \n",
       "RidgeClassifier     ((FeatureUnion(transformer_list=[('bow_words',...  \n",
       "NearestCentroid     ((FeatureUnion(transformer_list=[('bow_words',...  \n",
       "ComplementNB        ((FeatureUnion(transformer_list=[('bow_words',...  \n",
       "DummyClassifier     ((FeatureUnion(transformer_list=[('bow_words',...  "
      ]
     },
     "execution_count": 20,
     "metadata": {},
     "output_type": "execute_result"
    }
   ],
   "source": [
    "# датафрейм результатов и обученных моделей\n",
    "df_results = pd.DataFrame(results, columns=['model', 'score', 'params'])\n",
    "df_results.set_index('model', inplace=True)\n",
    "df_results"
   ]
  },
  {
   "cell_type": "code",
   "execution_count": 21,
   "metadata": {
    "ExecuteTime": {
     "end_time": "2023-04-01T17:50:46.804177Z",
     "start_time": "2023-04-01T17:50:43.536844Z"
    },
    "scrolled": false
   },
   "outputs": [
    {
     "data": {
      "image/png": "[encoded data removed]",
      "text/plain": [
       "<Figure size 640x480 with 1 Axes>"
      ]
     },
     "metadata": {},
     "output_type": "display_data"
    }
   ],
   "source": [
    "df_results.drop('params', axis=1).plot(kind='barh', title='Точность прогноза моделей по F1-мере');"
   ]
  },
  {
   "cell_type": "markdown",
   "metadata": {},
   "source": [
    "Лучшие результаты у моделей на сильно усеченных данных пока не достигли необходимого порога точности, но мы вправе ожидать требуемого результата на полном датасете."
   ]
  },
  {
   "cell_type": "code",
   "execution_count": 22,
   "metadata": {
    "ExecuteTime": {
     "end_time": "2023-04-01T17:56:35.451476Z",
     "start_time": "2023-04-01T17:50:54.293818Z"
    }
   },
   "outputs": [
    {
     "name": "stdout",
     "output_type": "stream",
     "text": [
      "Точность прогноза на тестовых данных для LogisticRegression по F1-мере равна 0.781\n"
     ]
    }
   ],
   "source": [
    "# оптимальный векторизатор\n",
    "vectorizer = Pipeline([\n",
    "    ('vec', FeatureUnion([\n",
    "        ('bow_words', CountVectorizer(ngram_range=(1,2), stop_words=stopwords_en)),\n",
    "        ('tfidf', TfidfVectorizer(ngram_range=(2,2), stop_words=stopwords_en))\n",
    "    ])),\n",
    "    ('chi2', SelectKBest(chi2, k=100000))    \n",
    "])\n",
    "\n",
    "# данные после векторизации\n",
    "features_train_transformed = vectorizer.fit_transform(features_train, target_train)\n",
    "features_test_transformed = vectorizer.transform(features_test)\n",
    "# выбор лучшей модели\n",
    "best_name = df_results.query('score == score.max()').index[0]\n",
    "best_model = df_results.query('score == score.max()').params[0][1]\n",
    "best_model.fit(features_train_transformed, target_train)\n",
    "# результаты оценки модели тестовых данных\n",
    "predictions = best_model.predict(features_test_transformed)                               \n",
    "score = f1_score(target_test, predictions)\n",
    "print('Точность прогноза на тестовых данных для %s по F1-мере равна %.3f' %(best_name, score)) "
   ]
  },
  {
   "cell_type": "markdown",
   "metadata": {},
   "source": [
    "## Выводы"
   ]
  },
  {
   "cell_type": "markdown",
   "metadata": {},
   "source": [
    "Для решения задачи выявления токсичных комментариев в данном проекте был реализован механизм создания дополнительных предикторов на основе корпуса имеющихся текстов с использованием методов векторизации текстов _Bag-of-Words_ и _TF-IDF_. Перед непосредственно векторизацией тексты были разбиты на токены, из которых были получены леммы. Для данной обработки были использованы инструменты библиотеки _NLTK_. Векторизованы были не только отдельные слова, но и биграммы. Из-за большого числа признаков был проведен отбор наиболее значимых из них. Решено было ограничить их число примерно _2/3_ от размера самого датасета.    \n",
    "Для осуществления классифицирования над новым пространством признаков было использовано несколько моделей разных типов. Из-за того, что подбор гиперпараметров для них на полном датасете занял бы очень большое время, эта процедура проводилась на малой его части с небольшим количеством признаков. Даже в таких условиях лучшая модель - _LogisticRegression_ - показала неплохое качество прогноза, особенно в сравнении с базовым уровнем _DummyClassifier_. На полном наборе данных выбранная модель предсказуемо преодолела требуемый порог точности _F1-меры_, равный _0.75_."
   ]
  },
  {
   "cell_type": "markdown",
   "metadata": {},
   "source": [
    "## Дополнение\n",
    "__Добавление дополнительных признаков из предобученной модели__"
   ]
  },
  {
   "cell_type": "markdown",
   "metadata": {},
   "source": [
    "Для увеличения точности прогноза модели решено было добавить дополнительные признаки, полученные из результатов оценки эмоциональной окрашенности текстов с помощью предобученной _VADER (Valence Aware Dictionary for Sentiment Reasoning)_ библиотеки `nltk.sentiment.vader.SentimentIntensityAnalyzer`.  Оценки включат в себе четыре признака `neg`,`neu`,`pos`,`compound`- \"негативный\", \"нейтральный\", \"позитивный\", \"совокупно\". Для добавления признаков было решено использовать новые классы на основе классов `scikit-learn`. Таким образом все преобразование может быть реализовано в виде одного пайплайна."
   ]
  },
  {
   "cell_type": "code",
   "execution_count": 7,
   "metadata": {
    "ExecuteTime": {
     "end_time": "2023-06-16T00:23:15.464538Z",
     "start_time": "2023-06-16T00:23:15.452340Z"
    }
   },
   "outputs": [],
   "source": [
    "class Lemmatizer(BaseEstimator, TransformerMixin):\n",
    "\n",
    "    def __init__(self):\n",
    "        self.sentence_column = None\n",
    "        pass\n",
    "\n",
    "    def fit(self, X, y=None):\n",
    "        # проверка типа pd.Series\n",
    "        assert (type(X) == pd.core.series.Series and X.dtype == 'object'), 'X must be pd.Series and his type must be \"object\".'\n",
    "        # проверка наличия названия у серии\n",
    "        assert (X.name is not None), 'X column is unnamed.'\n",
    "        self.sentence_column = X.name\n",
    "        return self\n",
    "\n",
    "    # функция определения части речи для токена\n",
    "    def __get_wordnet_pos__(self, word):\n",
    "        # раскрытие списка результатов после POS-теггинга, взятие POS, взятие начальной буквы из POS\n",
    "        tag = nltk.pos_tag([word])[0][1][0].upper()\n",
    "        # пользовательский словарь тегов POS\n",
    "        tag_dict = {\"J\": wordnet.ADJ,\n",
    "                    \"N\": wordnet.NOUN,\n",
    "                    \"V\": wordnet.VERB,\n",
    "                    \"R\": wordnet.ADV}\n",
    "        # получение нужного POS-тега или тега сущиствительного по умолчанию\n",
    "        return tag_dict.get(tag, wordnet.NOUN)\n",
    "\n",
    "    # функция лемматизации и токенизации\n",
    "    def __get_lemma__(self, text):\n",
    "        # оставляем только латинские символы и апостроф, использующийся в английских словах\n",
    "        ret = nltk.tokenize.RegexpTokenizer(r'[a-zA-Z\\']+')\n",
    "        tokens = ret.tokenize(text)\n",
    "        lemma = []\n",
    "        wnl = nltk.stem.WordNetLemmatizer()\n",
    "        # лемматизация с использованим частей речи\n",
    "        for token in tokens:\n",
    "            lemma.append(wnl.lemmatize(token, self.__get_wordnet_pos__(token)))\n",
    "        # воссоздание текста из списка лемм\n",
    "        return str.lower(' '.join(map(str, lemma)))\n",
    "\n",
    "    def transform(self, X):\n",
    "        assert (type(X) == pd.core.series.Series and X.dtype == 'object'), 'X must be pd.Series and his type must be \"object\".'\n",
    "        column_to_lemmatize = X.copy()\n",
    "        # проверка совпадения названий серий для трансформации и обучения\n",
    "        assert (X.name == self.sentence_column), 'X to transform must have same name as X fitted.'\n",
    "        return column_to_lemmatize.apply(self.__get_lemma__)"
   ]
  },
  {
   "cell_type": "code",
   "execution_count": 24,
   "metadata": {
    "ExecuteTime": {
     "end_time": "2023-04-01T18:02:26.070990Z",
     "start_time": "2023-04-01T18:01:50.887421Z"
    }
   },
   "outputs": [
    {
     "data": {
      "text/plain": [
       "0.33333333333333337"
      ]
     },
     "execution_count": 24,
     "metadata": {},
     "output_type": "execute_result"
    }
   ],
   "source": [
    "# проверка класса Lemmatizer\n",
    "pipe_lem = Pipeline([('lem', Lemmatizer()),\n",
    "                     ('bow_words', CountVectorizer(ngram_range=(2,2))),\n",
    "                     ('clf', LogisticRegression())])\n",
    "pipe_lem.fit(data.loc[:1000, 'text'], data.loc[:1000, 'toxic'])\n",
    "pred_lem = pipe_lem.predict(data.loc[1000:1100, 'text'])\n",
    "f1_score(data.loc[1000:1100, 'toxic'], pred_lem)"
   ]
  },
  {
   "cell_type": "code",
   "execution_count": 9,
   "metadata": {
    "ExecuteTime": {
     "end_time": "2023-06-16T00:23:38.634577Z",
     "start_time": "2023-06-16T00:23:38.626800Z"
    }
   },
   "outputs": [],
   "source": [
    "class SentimentFearures(BaseEstimator, TransformerMixin):\n",
    "\n",
    "    def __init__(self):\n",
    "        self.sentence_column = None\n",
    "        pass\n",
    "\n",
    "    def fit(self, X, y=None):\n",
    "        # проверка типа pd.Series\n",
    "        assert (type(X) == pd.core.series.Series and X.dtype == 'object'), 'X must be pd.Series and his type must be \"object\".'\n",
    "        # проверка наличия названия у серии\n",
    "        assert (X.name is not None), 'X column is unnamed.'\n",
    "        self.sentence_column = X.name\n",
    "        return self\n",
    "\n",
    "    def __get_sentiment_score__(self, text):\n",
    "        sia = nltk.sentiment.vader.SentimentIntensityAnalyzer()\n",
    "        return sia.polarity_scores(text)\n",
    "\n",
    "    def __get_sentiment_new_cols__(self, text_column):\n",
    "        score = list(text_column.apply(self.__get_sentiment_score__).values)\n",
    "        return pd.DataFrame(score, index=text_column.index)\n",
    "\n",
    "    def transform(self, X):\n",
    "        assert (type(X) == pd.core.series.Series and X.dtype == 'object'), 'X must be pd.Series and his type must be \"object\".'\n",
    "        # проверка совпадения названий серий для трансформации и обучения\n",
    "        assert (X.name == self.sentence_column), 'X to transform must have same name as X fitted.'\n",
    "        return self.__get_sentiment_new_cols__(X)"
   ]
  },
  {
   "cell_type": "code",
   "execution_count": 26,
   "metadata": {
    "ExecuteTime": {
     "end_time": "2023-04-01T18:03:19.510093Z",
     "start_time": "2023-04-01T18:03:19.178658Z"
    }
   },
   "outputs": [
    {
     "data": {
      "text/html": [
       "<div>\n",
       "<style scoped>\n",
       "    .dataframe tbody tr th:only-of-type {\n",
       "        vertical-align: middle;\n",
       "    }\n",
       "\n",
       "    .dataframe tbody tr th {\n",
       "        vertical-align: top;\n",
       "    }\n",
       "\n",
       "    .dataframe thead th {\n",
       "        text-align: right;\n",
       "    }\n",
       "</style>\n",
       "<table border=\"1\" class=\"dataframe\">\n",
       "  <thead>\n",
       "    <tr style=\"text-align: right;\">\n",
       "      <th></th>\n",
       "      <th>neg</th>\n",
       "      <th>neu</th>\n",
       "      <th>pos</th>\n",
       "      <th>compound</th>\n",
       "    </tr>\n",
       "  </thead>\n",
       "  <tbody>\n",
       "    <tr>\n",
       "      <th>0</th>\n",
       "      <td>0.000</td>\n",
       "      <td>0.897</td>\n",
       "      <td>0.103</td>\n",
       "      <td>0.5574</td>\n",
       "    </tr>\n",
       "    <tr>\n",
       "      <th>1</th>\n",
       "      <td>0.099</td>\n",
       "      <td>0.743</td>\n",
       "      <td>0.158</td>\n",
       "      <td>0.2942</td>\n",
       "    </tr>\n",
       "    <tr>\n",
       "      <th>2</th>\n",
       "      <td>0.083</td>\n",
       "      <td>0.849</td>\n",
       "      <td>0.068</td>\n",
       "      <td>-0.1779</td>\n",
       "    </tr>\n",
       "    <tr>\n",
       "      <th>3</th>\n",
       "      <td>0.022</td>\n",
       "      <td>0.916</td>\n",
       "      <td>0.062</td>\n",
       "      <td>0.5106</td>\n",
       "    </tr>\n",
       "    <tr>\n",
       "      <th>4</th>\n",
       "      <td>0.000</td>\n",
       "      <td>0.663</td>\n",
       "      <td>0.337</td>\n",
       "      <td>0.6808</td>\n",
       "    </tr>\n",
       "    <tr>\n",
       "      <th>5</th>\n",
       "      <td>0.000</td>\n",
       "      <td>0.464</td>\n",
       "      <td>0.536</td>\n",
       "      <td>0.7964</td>\n",
       "    </tr>\n",
       "    <tr>\n",
       "      <th>6</th>\n",
       "      <td>0.531</td>\n",
       "      <td>0.469</td>\n",
       "      <td>0.000</td>\n",
       "      <td>-0.7783</td>\n",
       "    </tr>\n",
       "    <tr>\n",
       "      <th>7</th>\n",
       "      <td>0.129</td>\n",
       "      <td>0.773</td>\n",
       "      <td>0.099</td>\n",
       "      <td>-0.1779</td>\n",
       "    </tr>\n",
       "    <tr>\n",
       "      <th>8</th>\n",
       "      <td>0.109</td>\n",
       "      <td>0.891</td>\n",
       "      <td>0.000</td>\n",
       "      <td>-0.8020</td>\n",
       "    </tr>\n",
       "    <tr>\n",
       "      <th>9</th>\n",
       "      <td>0.000</td>\n",
       "      <td>1.000</td>\n",
       "      <td>0.000</td>\n",
       "      <td>0.0000</td>\n",
       "    </tr>\n",
       "    <tr>\n",
       "      <th>10</th>\n",
       "      <td>0.019</td>\n",
       "      <td>0.877</td>\n",
       "      <td>0.104</td>\n",
       "      <td>0.9910</td>\n",
       "    </tr>\n",
       "  </tbody>\n",
       "</table>\n",
       "</div>"
      ],
      "text/plain": [
       "      neg    neu    pos  compound\n",
       "0   0.000  0.897  0.103    0.5574\n",
       "1   0.099  0.743  0.158    0.2942\n",
       "2   0.083  0.849  0.068   -0.1779\n",
       "3   0.022  0.916  0.062    0.5106\n",
       "4   0.000  0.663  0.337    0.6808\n",
       "5   0.000  0.464  0.536    0.7964\n",
       "6   0.531  0.469  0.000   -0.7783\n",
       "7   0.129  0.773  0.099   -0.1779\n",
       "8   0.109  0.891  0.000   -0.8020\n",
       "9   0.000  1.000  0.000    0.0000\n",
       "10  0.019  0.877  0.104    0.9910"
      ]
     },
     "execution_count": 26,
     "metadata": {},
     "output_type": "execute_result"
    }
   ],
   "source": [
    "# проверка класса SentimentFearures\n",
    "tr = SentimentFearures()\n",
    "tr.fit(data.loc[:10, 'text'])\n",
    "tr.transform(data.loc[:10, 'text'])"
   ]
  },
  {
   "cell_type": "code",
   "execution_count": 12,
   "metadata": {
    "ExecuteTime": {
     "end_time": "2023-06-16T00:24:08.411679Z",
     "start_time": "2023-06-16T00:24:08.405148Z"
    },
    "scrolled": true
   },
   "outputs": [],
   "source": [
    "pipe = Pipeline([\n",
    "    ('lem', Lemmatizer()),\n",
    "    ('new_feats', FeatureUnion([\n",
    "        ('sia', SentimentFearures()),\n",
    "        ('vec_pipe', Pipeline([\n",
    "            ('vec', FeatureUnion([\n",
    "                ('bow_words', CountVectorizer(\n",
    "                    ngram_range=(1, 2), stop_words=stopwords_en)),\n",
    "                ('tfidf', TfidfVectorizer(ngram_range=(2, 2), stop_words=stopwords_en))\n",
    "            ])),\n",
    "            ('chi2', SelectKBest(chi2, k=10000))\n",
    "        ]))\n",
    "    ]))\n",
    "])\n",
    "#pipe"
   ]
  },
  {
   "cell_type": "code",
   "execution_count": 32,
   "metadata": {
    "ExecuteTime": {
     "end_time": "2023-04-01T19:09:11.329380Z",
     "start_time": "2023-04-01T18:40:40.510205Z"
    }
   },
   "outputs": [
    {
     "name": "stdout",
     "output_type": "stream",
     "text": [
      "Точность прогноза по F1-мере при проверке работоспобности на классов в пайплайне: 0.752\n"
     ]
    }
   ],
   "source": [
    "# проверка работоспособности классов в пайплайне\n",
    "features_train_transformed_class = pipe.fit_transform(data.loc[:30000, 'text'], data.loc[:30000, 'toxic'])\n",
    "features_test_transformed_class = pipe.transform(data.loc[30000:40000, 'text'])\n",
    "\n",
    "model_class = LogisticRegression(class_weight='balanced', max_iter=500, random_state=42)\n",
    "model_class.fit(features_train_transformed_class, data.loc[:30000, 'toxic'])\n",
    "predictions_class = model_class.predict(features_test_transformed_class)                               \n",
    "score_class = f1_score(data.loc[30000:40000, 'toxic'], predictions_class)\n",
    "print('Точность прогноза по F1-мере при проверке работоспобности на классов в пайплайне: %.3f' %(score_class))"
   ]
  },
  {
   "cell_type": "markdown",
   "metadata": {},
   "source": [
    "Пайплайн оказался работоспособен, как и сами классы лемматизации и эмоциональной оценки. К сожалению, введение дополнительных признаков не привело к увеличению качества оценки."
   ]
  }
 ],
 "metadata": {
  "ExecuteTimeLog": [
   {
    "duration": 6870,
    "start_time": "2023-03-28T04:52:53.481Z"
   },
   {
    "duration": 694,
    "start_time": "2023-03-28T04:53:00.354Z"
   },
   {
    "duration": 2776,
    "start_time": "2023-03-28T04:53:01.051Z"
   },
   {
    "duration": 27,
    "start_time": "2023-03-28T04:53:03.830Z"
   },
   {
    "duration": 6,
    "start_time": "2023-03-28T04:53:03.859Z"
   },
   {
    "duration": 327,
    "start_time": "2023-03-28T04:53:03.867Z"
   },
   {
    "duration": 5,
    "start_time": "2023-03-28T04:53:04.196Z"
   },
   {
    "duration": 422,
    "start_time": "2023-03-28T04:53:04.203Z"
   },
   {
    "duration": 650,
    "start_time": "2023-03-28T04:53:20.838Z"
   },
   {
    "duration": 74083,
    "start_time": "2023-03-28T04:53:21.490Z"
   },
   {
    "duration": 3,
    "start_time": "2023-03-28T04:54:38.768Z"
   },
   {
    "duration": 13,
    "start_time": "2023-03-28T04:54:42.503Z"
   },
   {
    "duration": 6,
    "start_time": "2023-03-28T04:55:13.868Z"
   },
   {
    "duration": 11,
    "start_time": "2023-03-28T04:55:17.558Z"
   },
   {
    "duration": 35,
    "start_time": "2023-03-28T04:56:18.771Z"
   }
  ],
  "kernelspec": {
   "display_name": "myenv_kernel",
   "language": "python",
   "name": "myenv_kernel"
  },
  "language_info": {
   "codemirror_mode": {
    "name": "ipython",
    "version": 3
   },
   "file_extension": ".py",
   "mimetype": "text/x-python",
   "name": "python",
   "nbconvert_exporter": "python",
   "pygments_lexer": "ipython3",
   "version": "3.11.0"
  },
  "toc": {
   "base_numbering": 1,
   "nav_menu": {
    "height": "269px",
    "width": "360px"
   },
   "number_sections": true,
   "sideBar": true,
   "skip_h1_title": true,
   "title_cell": "Содержание",
   "title_sidebar": "Содержание",
   "toc_cell": true,
   "toc_position": {
    "height": "calc(100% - 180px)",
    "left": "10px",
    "top": "150px",
    "width": "196.387px"
   },
   "toc_section_display": true,
   "toc_window_display": false
  },
  "toc-showtags": false,
  "varInspector": {
   "cols": {
    "lenName": 16,
    "lenType": 16,
    "lenVar": 40
   },
   "kernels_config": {
    "python": {
     "delete_cmd_postfix": "",
     "delete_cmd_prefix": "del ",
     "library": "var_list.py",
     "varRefreshCmd": "print(var_dic_list())"
    },
    "r": {
     "delete_cmd_postfix": ") ",
     "delete_cmd_prefix": "rm(",
     "library": "var_list.r",
     "varRefreshCmd": "cat(var_dic_list()) "
    }
   },
   "types_to_exclude": [
    "module",
    "function",
    "builtin_function_or_method",
    "instance",
    "_Feature"
   ],
   "window_display": false
  }
 },
 "nbformat": 4,
 "nbformat_minor": 4
}
